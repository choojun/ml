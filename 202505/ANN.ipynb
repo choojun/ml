{
 "cells": [
  {
   "cell_type": "markdown",
   "metadata": {},
   "source": [
    "# Practical 6: Artificial Neural Network\n"
   ]
  },
  {
   "cell_type": "markdown",
   "metadata": {},
   "source": [
    "## Instruction\n",
    "In this practical, student is required to implement artificial neural network system (Multilayer\n",
    "Perceptron) using Python to solve the approximation function (1/2 * sin(x)). Step by step instruction\n",
    "is given as follow. Solve the tasks that are prompted in the practical.\n",
    "\n",
    "## Section A: ANN\n",
    "1. Create a new py file and import the necessary libraries."
   ]
  },
  {
   "cell_type": "code",
   "execution_count": null,
   "metadata": {},
   "outputs": [],
   "source": [
    "pip install neurolab"
   ]
  },
  {
   "cell_type": "code",
   "execution_count": null,
   "metadata": {},
   "outputs": [],
   "source": [
    "import neurolab as nl #simple and powerful Neural Network Library for Python\n",
    "import numpy as np    #adding support for large, multi-dimensional arrays and matrices\n",
    "import pylab as pl    #bulk imports matplotlib.pyplot (for plotting) "
   ]
  },
  {
   "cell_type": "markdown",
   "metadata": {},
   "source": [
    "2. Create the training samples (data points) by using the function (1/2 * sin(x))."
   ]
  },
  {
   "cell_type": "code",
   "execution_count": null,
   "metadata": {},
   "outputs": [],
   "source": [
    "x = np.linspace(-7, 7, 100) #create an evenly spaced sequence in a specified interval.\n",
    "y = np.sin(x) * 0.5 \n",
    "print (y)\n",
    "size = len(x) #give a guess: Value of len(x)\n",
    "print (size)\n",
    "inp = x.reshape(size,1) #https://www.w3schools.com/python/numpy/trypython.asp?filename=demo_numpy_array_reshape1\n",
    "print (inp)\n",
    "tar = y.reshape(size,1)\n",
    "print (tar)"
   ]
  },
  {
   "cell_type": "markdown",
   "metadata": {},
   "source": [
    "3. Create a multilayer neural network with one input layer, one hidden layer and one output\n",
    "layer. The weights are random initialized. The illustration of the created neural network is\n",
    "shown in Fig. 1.\n",
    "\n",
    "<img src=\"https://i.ibb.co/vhmbSNh/Multi-Layer.jpg\" alt=\"Multi-Layer\" border=\"0\">"
   ]
  },
  {
   "cell_type": "code",
   "execution_count": null,
   "metadata": {},
   "outputs": [],
   "source": [
    "net = nl.net.newff([[-7, 7]],[5,1])"
   ]
  },
  {
   "cell_type": "code",
   "execution_count": null,
   "metadata": {},
   "outputs": [],
   "source": [
    "print(\"\\nInitial Weights and Biases:\")\n",
    "for i, layer in enumerate(net.layers):\n",
    "    print(f\"Layer {i+1} Weights:\\n\", layer.np['w'])\n",
    "    print(f\"Layer {i+1} Biases:\\n\", layer.np['b'])"
   ]
  },
  {
   "cell_type": "markdown",
   "metadata": {},
   "source": [
    "4. Train the network by passing the necessary parameters into the net.train function. The explanations for the respective parameters are as follow:\n",
    "\n",
    "__input:__ array – to pass in input data<br>\n",
    "__target:__ array – to pass in the corresponding data label<br>\n",
    "__epochs:__ int (default 500) – Number of train epoch (iteration)<br>\n",
    "__show:__ int (default 100) – Print period (to show the error calculated at every 100 epoch)<br>\n",
    "__goal:__ float (default 0.01) – The goal of the training (The training will stop if the error is < goal)"
   ]
  },
  {
   "cell_type": "code",
   "execution_count": null,
   "metadata": {},
   "outputs": [],
   "source": [
    "error = net.train(inp, tar, epochs=10,show=1, goal=0.001)"
   ]
  },
  {
   "cell_type": "code",
   "execution_count": null,
   "metadata": {},
   "outputs": [],
   "source": [
    "print(\"\\nWeights and Biases After Training:\")\n",
    "for i, layer in enumerate(net.layers):\n",
    "    print(f\"Layer {i+1} Weights:\\n\", layer.np['w'])\n",
    "    print(f\"Layer {i+1} Biases:\\n\", layer.np['b'])"
   ]
  },
  {
   "cell_type": "markdown",
   "metadata": {},
   "source": [
    "# Test the model"
   ]
  },
  {
   "cell_type": "markdown",
   "metadata": {},
   "source": [
    "5. Simulate the network using a different set of inputs (inp2A). "
   ]
  },
  {
   "cell_type": "code",
   "execution_count": null,
   "metadata": {},
   "outputs": [],
   "source": [
    "x2 = np.linspace(-7, 7, 100)\n",
    "size = len(x2)\n",
    "test= x2.reshape(size,1)\n",
    "print (test)"
   ]
  },
  {
   "cell_type": "code",
   "execution_count": null,
   "metadata": {},
   "outputs": [],
   "source": [
    "out = net.sim(test)\n",
    "pl.plot(x2,out)"
   ]
  },
  {
   "cell_type": "markdown",
   "metadata": {},
   "source": [
    "6. Plot the results. You should be able to see the output as shown in Fig. 2."
   ]
  },
  {
   "cell_type": "code",
   "execution_count": null,
   "metadata": {},
   "outputs": [],
   "source": [
    "y3 = out.reshape(size)\n",
    "print (y3)\n",
    "pl.plot(x , y, 'r-', x, y3, 'bd') #https://matplotlib.org/stable/api/_as_gen/matplotlib.pyplot.plot.html\n",
    "pl.legend(['train target', 'net output'])\n",
    "pl.show()"
   ]
  },
  {
   "cell_type": "markdown",
   "metadata": {},
   "source": [
    " <font color='blue'>\n",
    "__Tasks:__<br>    \n",
    "1. Please interpret the results to your tutor. <br>\n",
    "\n",
    "2. Repeat the program by using different number of neuron in the hidden layer (e.g: 1,3, 5) in training step. State the difference in outputs.    \n",
    "3. Repeat the program by using different number of epoch (e.g: 5, 50, 500) in the training step. State the difference in outputs. </font>"
   ]
  },
  {
   "cell_type": "markdown",
   "metadata": {},
   "source": [
    "# Exercise:\n",
    "1. Implement a neural network (NN) to classify the iris data. You may reuse the code from the\n",
    "previous practical for data preprocessing.<br>\n",
    "a. Train the NN with <br><br>\n",
    "    <tab> i. 4 input neurons (to feed in 4 attributes of iris data)<br>\n",
    "    <tab>ii. 2 hidden layers with 5 neurons each<br>\n",
    "    <tab>iii. 1 output layer with 3 neurons (represent 3 iris classes)<br><br>\n",
    "b. Simulate the network using same input and evaluate the output. Please discuss the\n",
    "output with tutor."
   ]
  },
  {
   "cell_type": "markdown",
   "metadata": {},
   "source": [
    "Hint:\n",
    "\n",
    "To create the target in NN, represent the iris class (or target) with 150 * 3 array. Each\n",
    "column represents respective class and indicate “1” as true and “0” as false. For example: if\n",
    "the first instance is Iris-setosa, then:\n",
    "\n",
    "|Iris-Setosa | Iris-Versicolor | Iris-Virginica|\n",
    "|---|---|---|\n",
    "|1 | 0 | 0|"
   ]
  },
  {
   "cell_type": "markdown",
   "metadata": {},
   "source": [
    "Complete your answer below"
   ]
  },
  {
   "cell_type": "markdown",
   "metadata": {},
   "source": [
    "## a. Create the NN with<br>\n",
    "\n",
    "i. 4 input neurons (to feed in 4 attributes of iris data)<br>\n",
    "ii. 2 hidden layers with 5 neurons each<br>\n",
    "iii. 1 output layer with 3 neurons (represent 3 iris classes)"
   ]
  },
  {
   "cell_type": "code",
   "execution_count": null,
   "metadata": {},
   "outputs": [],
   "source": [
    "import neurolab as nl\n",
    "import numpy as np\n",
    "import pandas \n",
    "  \n",
    "#+++++++++++++++++++++++++++++++++\n",
    "#Preprocessing on the iris dataset\n",
    "#+++++++++++++++++++++++++++++++++\n",
    "\n",
    "# reading the CSV file \n",
    "df = pandas.read_csv('Iris_Data2.csv') #dataframe=table\n",
    "num_Of_Instance = len(df.index) #no. of datapoints, index=how many rows\n",
    "print (num_Of_Instance)\n",
    "\n",
    "#Extracting the inputs\n",
    "columns = df.columns\n",
    "print (columns) \n",
    "\n",
    "iris_Attribute = df[['sepal_length', 'sepal_width', 'petal_length', 'petal_width']] #just to retrieve the 4 inputs/features\n",
    "iris_Attribute"
   ]
  },
  {
   "cell_type": "code",
   "execution_count": null,
   "metadata": {},
   "outputs": [],
   "source": [
    "#in ANN, can't present data in categorical data (text), can only process value, have to do feature engineering, change text to value\n",
    "#using encoding (if else statement)\n",
    " \n",
    "iris_Class = np.zeros((num_Of_Instance,3))\n",
    "# # Split and assign the attribute and class from txt file to respective array\n",
    "for i in range(0,num_Of_Instance): # loop and stop before total number of instance\n",
    "    iris_name = df['species'][i]       #extract only output, which is species\n",
    "    if iris_name == \"Iris-setosa\":                    \n",
    "        iris_Class[i,0] = 1\n",
    "    elif iris_name == \"Iris-versicolor\":\n",
    "        iris_Class[i,1] = 1\n",
    "    elif iris_name == \"Iris-verginica\":\n",
    "        iris_Class[i,2] = 1    \n",
    "print(iris_Class)"
   ]
  },
  {
   "cell_type": "code",
   "execution_count": null,
   "metadata": {},
   "outputs": [],
   "source": [
    "inp = iris_Attribute    #input vector\n",
    "tar = iris_Class          #output vector\n",
    "\n",
    "size = len(inp)\n",
    "print(size)"
   ]
  },
  {
   "cell_type": "markdown",
   "metadata": {},
   "source": [
    "## b. Train network"
   ]
  },
  {
   "cell_type": "code",
   "execution_count": null,
   "metadata": {
    "scrolled": true
   },
   "outputs": [],
   "source": [
    "#+++++++++++++++++++++++++++++++++\n",
    "#Create Neural Network for iris classification\n",
    "#+++++++++++++++++++++++++++++++++\n",
    "\n",
    "# Create network with 4 input neuron and 3 layers (2 hidden, 1 output with 3 neurons) and random initialized\n",
    "net = nl.net.newff([[4, 8],[2, 5],[1, 7],[0, 3]], [5,5,3]) #go back to excel"
   ]
  },
  {
   "cell_type": "code",
   "execution_count": null,
   "metadata": {},
   "outputs": [],
   "source": [
    "# Train network\n",
    "error = net.train(inp, tar, show=10, epochs=1000, goal=0.00001)"
   ]
  },
  {
   "cell_type": "markdown",
   "metadata": {},
   "source": [
    "## c. Simulate network"
   ]
  },
  {
   "cell_type": "code",
   "execution_count": null,
   "metadata": {},
   "outputs": [],
   "source": [
    "# Simulate network\n",
    "predicted_values = net.sim(inp) \n",
    "print(predicted_values)        "
   ]
  },
  {
   "cell_type": "markdown",
   "metadata": {},
   "source": [
    "## d. Evaluate the result (Hint: sklearn)"
   ]
  },
  {
   "cell_type": "code",
   "execution_count": null,
   "metadata": {},
   "outputs": [],
   "source": [
    "#Converting Predictive values into Predected Classes\n",
    "predicted_class=predicted_values\n",
    "\n",
    "predicted_class[predicted_values>0.5]=1  #use this rule to convert the continuous data to code\n",
    "predicted_class[predicted_values<=0.5]=0\n",
    "predicted_class"
   ]
  },
  {
   "cell_type": "code",
   "execution_count": null,
   "metadata": {
    "scrolled": true
   },
   "outputs": [],
   "source": [
    "#confusion matrix\n",
    "from sklearn.metrics import confusion_matrix as cm\n",
    "\n",
    "ConfusionMatrix = cm(iris_Class.argmax(axis=1),predicted_class.argmax(axis=1))\n",
    "print('Confusion Matrix : ')\n",
    "print(ConfusionMatrix)\n"
   ]
  }
 ],
 "metadata": {
  "kernelspec": {
   "display_name": "Python 3 (ipykernel)",
   "language": "python",
   "name": "python3"
  },
  "language_info": {
   "codemirror_mode": {
    "name": "ipython",
    "version": 3
   },
   "file_extension": ".py",
   "mimetype": "text/x-python",
   "name": "python",
   "nbconvert_exporter": "python",
   "pygments_lexer": "ipython3",
   "version": "3.11.7"
  }
 },
 "nbformat": 4,
 "nbformat_minor": 4
}
