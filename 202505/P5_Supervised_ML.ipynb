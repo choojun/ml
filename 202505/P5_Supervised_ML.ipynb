{
  "cells": [
    {
      "cell_type": "markdown",
      "metadata": {
        "id": "-H6ty0er_M1m"
      },
      "source": [
        "# Machine Learning: Supervised"
      ]
    },
    {
      "cell_type": "markdown",
      "metadata": {
        "id": "OwcohRsf_M1u"
      },
      "source": [
        "## Supervised Learning"
      ]
    },
    {
      "cell_type": "markdown",
      "metadata": {
        "id": "jC6FF14c_M1u"
      },
      "source": [
        "![](https://i163.photobucket.com/albums/t281/kyin_album/m1_1.png)"
      ]
    },
    {
      "cell_type": "markdown",
      "metadata": {
        "id": "10qcHkjI_M1v"
      },
      "source": [
        "![](https://i163.photobucket.com/albums/t281/kyin_album/m6.png)"
      ]
    },
    {
      "cell_type": "markdown",
      "metadata": {
        "id": "cszZFWTd_M1v"
      },
      "source": [
        "# <font color=\"blue\"> Project 1: House Price Prediction"
      ]
    },
    {
      "cell_type": "markdown",
      "metadata": {
        "id": "fqfU8nTm_M1v"
      },
      "source": [
        "In this example, we'll use a linear regression model to predict housing prices based on 1 feature.\n",
        "\n",
        "First, make sure you have scikit-learn installed. You can install it using pip:"
      ]
    },
    {
      "cell_type": "code",
      "execution_count": 1,
      "metadata": {
        "id": "x2jOAF7i_M1w",
        "colab": {
          "base_uri": "https://localhost:8080/"
        },
        "outputId": "a6e7b3e7-2572-4ebf-9771-fef2ff8bce04"
      },
      "outputs": [
        {
          "output_type": "stream",
          "name": "stdout",
          "text": [
            "Requirement already satisfied: scikit-learn in /usr/local/lib/python3.11/dist-packages (1.6.1)\n",
            "Requirement already satisfied: numpy>=1.19.5 in /usr/local/lib/python3.11/dist-packages (from scikit-learn) (2.0.2)\n",
            "Requirement already satisfied: scipy>=1.6.0 in /usr/local/lib/python3.11/dist-packages (from scikit-learn) (1.15.3)\n",
            "Requirement already satisfied: joblib>=1.2.0 in /usr/local/lib/python3.11/dist-packages (from scikit-learn) (1.5.1)\n",
            "Requirement already satisfied: threadpoolctl>=3.1.0 in /usr/local/lib/python3.11/dist-packages (from scikit-learn) (3.6.0)\n"
          ]
        }
      ],
      "source": [
        "pip install scikit-learn  #complete this"
      ]
    },
    {
      "cell_type": "markdown",
      "metadata": {
        "id": "fPTVsYPW6Bxf"
      },
      "source": [
        "To know more about scikit-learn : [Scikit-learn Documentation](https://scikit-learn.org/stable/)"
      ]
    },
    {
      "cell_type": "markdown",
      "metadata": {
        "id": "HA16nJku_M1y"
      },
      "source": [
        "## Step 1: Prepare the data"
      ]
    },
    {
      "cell_type": "code",
      "execution_count": 2,
      "metadata": {
        "id": "bZVIZHnG_M1y"
      },
      "outputs": [],
      "source": [
        "# Importing necessary libraries\n",
        "import numpy as np                                           #complete this\n",
        "from sklearn.model_selection import train_test_split         #complete this\n",
        "from sklearn.linear_model import LinearRegression            #complete this\n",
        "from sklearn.metrics import mean_squared_error               #complete this\n",
        "\n",
        "# Sample dataset: housing prices (target) based on house size (feature)\n",
        "house_sizes = np.array([550, 600, 650, 700, 750, 800, 850, 900, 950, 1000])\n",
        "prices = np.array([300000, 410000, 530000, 510000, 540000, 610000, 730000, 760000, 830000, 860000])"
      ]
    },
    {
      "cell_type": "code",
      "execution_count": 3,
      "metadata": {
        "id": "ePfW9hvu_M1z",
        "colab": {
          "base_uri": "https://localhost:8080/",
          "height": 472
        },
        "outputId": "7ce55825-574b-4535-bba4-f222bf1b1466"
      },
      "outputs": [
        {
          "output_type": "display_data",
          "data": {
            "text/plain": [
              "<Figure size 640x480 with 1 Axes>"
            ],
            "image/png": "[encoded data removed]"
          },
          "metadata": {}
        }
      ],
      "source": [
        "#plot graph prices against house_prices\n",
        "import matplotlib.pyplot as plt    #complete this #https://matplotlib.org/3.5.3/api/_as_gen/matplotlib.pyplot.html\n",
        "\n",
        "# Create a scatter plot\n",
        "plt.scatter(house_sizes, prices, color='g', label='Data Points')\n",
        "plt.xlabel('House Size')\n",
        "plt.ylabel('Prices')\n",
        "plt.title('House Prices vs. House Sizes')\n",
        "plt.legend()\n",
        "plt.grid(True)\n",
        "plt.show()"
      ]
    },
    {
      "cell_type": "markdown",
      "metadata": {
        "id": "2_kESJc7_M1z"
      },
      "source": [
        "## Step 2 & 3 : Feature Extraction and Split the data (into training and testing set)"
      ]
    },
    {
      "cell_type": "code",
      "execution_count": 4,
      "metadata": {
        "id": "5AJw9y30_M10",
        "colab": {
          "base_uri": "https://localhost:8080/"
        },
        "outputId": "ab538b54-e15b-4477-f240-4e7158d97c1e"
      },
      "outputs": [
        {
          "output_type": "stream",
          "name": "stdout",
          "text": [
            "[[ 550]\n",
            " [ 600]\n",
            " [ 650]\n",
            " [ 700]\n",
            " [ 750]\n",
            " [ 800]\n",
            " [ 850]\n",
            " [ 900]\n",
            " [ 950]\n",
            " [1000]]\n",
            "[[950]\n",
            " [600]]\n",
            "[830000 410000]\n"
          ]
        }
      ],
      "source": [
        "# Reshape the feature array to match the input format required by scikit-learn\n",
        "X = house_sizes.reshape(-1, 1)  #complete this #eshape the array into a single column (1 column) and to infer the number of rows (-1 rows)\n",
        "print (X)\n",
        "\n",
        "# Split the dataset into training and testing sets (80% train, 20% test)\n",
        "X_train, X_test, y_train, y_test = train_test_split(X, prices, test_size=0.2, random_state=42)         #complete this\n",
        "print (X_test)   #these 2 data will be used to test the model\n",
        "print (y_test)"
      ]
    },
    {
      "cell_type": "markdown",
      "metadata": {
        "id": "OmmgSpE9_M10"
      },
      "source": [
        "## Step 4: Fit model and predict outcomes [Code]"
      ]
    },
    {
      "cell_type": "code",
      "execution_count": 5,
      "metadata": {
        "id": "hGZuQoGD_M10",
        "colab": {
          "base_uri": "https://localhost:8080/"
        },
        "outputId": "27c9c614-998f-435e-d7b6-f0942915bad6"
      },
      "outputs": [
        {
          "output_type": "stream",
          "name": "stdout",
          "text": [
            "['950.00', '600.00']\n",
            "['813793.10', '396206.90']\n"
          ]
        },
        {
          "output_type": "stream",
          "name": "stderr",
          "text": [
            "/tmp/ipython-input-5-646676473.py:11: DeprecationWarning: Conversion of an array with ndim > 0 to a scalar is deprecated, and will error in future. Ensure you extract a single element from your array before performing this operation. (Deprecated NumPy 1.25.)\n",
            "  formatted_X_test = [\"%.2f\" % x for x in X_test]\n"
          ]
        }
      ],
      "source": [
        "# Create the linear regression model\n",
        "model = LinearRegression()                #complete this\n",
        "\n",
        "# Train the model using the training data\n",
        "model.fit(X_train, y_train)               #complete this\n",
        "\n",
        "# Make predictions on the test data\n",
        "y_pred = model.predict(X_test)\n",
        "\n",
        "# Formatting X_test\n",
        "formatted_X_test = [\"%.2f\" % x for x in X_test]\n",
        "print(formatted_X_test)\n",
        "\n",
        "# Formatting y_pred\n",
        "formatted_y_pred = [\"%.2f\" % y for y in y_pred]\n",
        "print(formatted_y_pred)"
      ]
    },
    {
      "cell_type": "code",
      "execution_count": 6,
      "metadata": {
        "colab": {
          "base_uri": "https://localhost:8080/"
        },
        "id": "9c1-jNS66Bxi",
        "outputId": "b717cf4a-79f9-40c4-93b7-5f90da9c0ee0"
      },
      "outputs": [
        {
          "output_type": "stream",
          "name": "stdout",
          "text": [
            "Coefficient: [1193.10344828]\n",
            "Intercept: -319655.1724137933\n",
            "Linear Regression Equation: y = 1193.1034482758623 * X + -319655.1724137933\n"
          ]
        }
      ],
      "source": [
        "# the following is the equation of the linear regression model\n",
        "\n",
        "# Print the coefficients\n",
        "print(\"Coefficient:\", model.coef_)        #complete this\n",
        "print(\"Intercept:\", model.intercept_)     #complete this\n",
        "\n",
        "# Construct the equation string\n",
        "equation = f\"y = {model.coef_[0]} * X + {model.intercept_}\"\n",
        "print(\"Linear Regression Equation:\", equation)"
      ]
    },
    {
      "cell_type": "markdown",
      "metadata": {
        "id": "PF7M8hcM_M11"
      },
      "source": [
        "## Step 5: Evaluate the model [Code]"
      ]
    },
    {
      "cell_type": "code",
      "execution_count": 7,
      "metadata": {
        "id": "Sun9s3g4_M11",
        "colab": {
          "base_uri": "https://localhost:8080/"
        },
        "outputId": "d06578af-8b1e-46d8-9287-8d1b82be50a7"
      },
      "outputs": [
        {
          "output_type": "stream",
          "name": "stdout",
          "text": [
            "Mean Squared Error: 226456599.29\n"
          ]
        }
      ],
      "source": [
        "# Calculate the Mean Squared Error (MSE) as a measure of the model's performancemse = mean_squared_error(y_test, y_pred)\n",
        "from sklearn.metrics import mean_squared_error   #complete this\n",
        "mse = mean_squared_error(y_test, y_pred)         #complete this\n",
        "\n",
        "# Display the MSE with two decimal places using string formatting\n",
        "formatted_mse = \"%.2f\" % mse\n",
        "print(f\"Mean Squared Error: {formatted_mse}\")"
      ]
    },
    {
      "cell_type": "markdown",
      "metadata": {
        "id": "e2plqwoLzjGf"
      },
      "source": [
        "# Step 6: Predict unseen data"
      ]
    },
    {
      "cell_type": "code",
      "execution_count": 8,
      "metadata": {
        "id": "gCyQHYWZx2tu",
        "colab": {
          "base_uri": "https://localhost:8080/"
        },
        "outputId": "20b7a4b7-79c3-49d5-be85-4f0933c8223d"
      },
      "outputs": [
        {
          "output_type": "stream",
          "name": "stdout",
          "text": [
            "Enter house size:1200\n",
            "Predicted Value (RM): 1112068.97\n"
          ]
        }
      ],
      "source": [
        "# Assuming you have a single unseen data point represented as a list\n",
        "unseen_data = float(input(\"Enter house size:\"))      #complete this\n",
        "\n",
        "# Reshape the unseen_data to a 2D array\n",
        "unseen_data_reshaped = np.array(unseen_data).reshape(1, -1)      #complete this\n",
        "\n",
        "# Predict the target value for the unseen data point\n",
        "predicted_value = model.predict(unseen_data_reshaped)      #complete this\n",
        "\n",
        "# Print the predicted value\n",
        "print(f\"Predicted Value (RM): {predicted_value[0]:.2f}\")     #complete this"
      ]
    },
    {
      "cell_type": "markdown",
      "metadata": {
        "id": "dsKvJ8xTIo2w"
      },
      "source": [
        "# Step 7 Store the model in Joblib"
      ]
    },
    {
      "cell_type": "markdown",
      "metadata": {
        "id": "lW0nzKL4IsNa"
      },
      "source": [
        "Store the model using joblib or pickle"
      ]
    },
    {
      "cell_type": "code",
      "execution_count": 9,
      "metadata": {
        "id": "nAAbnSRDIul4"
      },
      "outputs": [],
      "source": [
        "from joblib import dump, load"
      ]
    },
    {
      "cell_type": "code",
      "execution_count": 10,
      "metadata": {
        "id": "ncXxyChwIwJ2",
        "colab": {
          "base_uri": "https://localhost:8080/"
        },
        "outputId": "1144a1ac-c7cf-4b60-932e-c4fdd7e18362"
      },
      "outputs": [
        {
          "output_type": "execute_result",
          "data": {
            "text/plain": [
              "['linear_regression_model.joblib']"
            ]
          },
          "metadata": {},
          "execution_count": 10
        }
      ],
      "source": [
        "dump(model, 'linear_regression_model.joblib')"
      ]
    },
    {
      "cell_type": "markdown",
      "metadata": {
        "id": "yPevzm-EIyi9"
      },
      "source": [
        "Load the model and predict"
      ]
    },
    {
      "cell_type": "code",
      "execution_count": 11,
      "metadata": {
        "id": "6GdCi5FjIxVj",
        "colab": {
          "base_uri": "https://localhost:8080/"
        },
        "outputId": "1315e2f0-3119-4459-e492-60ce6427205d"
      },
      "outputs": [
        {
          "output_type": "stream",
          "name": "stdout",
          "text": [
            "Enter house size:1200\n",
            "Predicted Value: 1112068.97\n"
          ]
        }
      ],
      "source": [
        "model = load('linear_regression_model.joblib')\n",
        "user_input = int(input (\"Enter house size:\"))\n",
        "input_array = np.array([user_input]).reshape(-1, 1)\n",
        "predicted_price = model.predict(input_array)\n",
        "print(f\"Predicted Value: {predicted_price[0]:.2f}\")"
      ]
    },
    {
      "cell_type": "markdown",
      "metadata": {
        "id": "9urnM8Y8I0di"
      },
      "source": [
        "# Deployment"
      ]
    },
    {
      "cell_type": "markdown",
      "metadata": {
        "id": "ohU5zH11I5Er"
      },
      "source": [
        "You can deploy into Streamlit or Flask.\n",
        "Streamlit is an open-source app framework specifically designed for Machine Learning and Data Science projects. It allows data scientists and developers to create beautiful, interactive web apps quickly and with fewer lines of code. Streamlit’s simplicity and efficiency make it a popular choice for building data-driven web applications without the need for in-depth knowledge of web development frameworks.\n",
        "\n",
        "Flask is a lightweight WSGI (Web Server Gateway Interface) web application framework. It is designed to make getting started with web application development quick and easy, with the ability to scale up to complex applications. Flask provides the tools, libraries, and technologies to build a web application. It allows developers to build web applications in Python, offering flexibility and choice in how the applications are built."
      ]
    },
    {
      "cell_type": "markdown",
      "metadata": {
        "id": "v2xY-lT_I9iX"
      },
      "source": [
        "Follow instruction by tutor\n",
        "\n",
        "1) Register Streamlit and link your github account\n",
        "\n",
        "2) Create txt file name requirements, copy the following text into the txt file <br>\n",
        "streamlit\n",
        "joblib\n",
        "numpy\n",
        "scikit-learn"
      ]
    },
    {
      "cell_type": "markdown",
      "metadata": {
        "id": "CXt0j7cL6Bxk"
      },
      "source": [
        "![Streamlitlogin](streamlitlogin.png)"
      ]
    },
    {
      "cell_type": "markdown",
      "metadata": {
        "id": "Wefyx_pJ6Bxk"
      },
      "source": [
        "3) Create another txt file and store the following Streamlit script and save as projectname.py e.g. linear_regression_house_price_prediction.py"
      ]
    },
    {
      "cell_type": "code",
      "source": [
        "pip install streamlit"
      ],
      "metadata": {
        "colab": {
          "base_uri": "https://localhost:8080/"
        },
        "id": "1YOzlGF0bbyp",
        "outputId": "535ee5a4-2382-42ac-8b46-f22af78c719d"
      },
      "execution_count": 12,
      "outputs": [
        {
          "output_type": "stream",
          "name": "stdout",
          "text": [
            "Collecting streamlit\n",
            "  Downloading streamlit-1.47.0-py3-none-any.whl.metadata (9.0 kB)\n",
            "Requirement already satisfied: altair<6,>=4.0 in /usr/local/lib/python3.11/dist-packages (from streamlit) (5.5.0)\n",
            "Requirement already satisfied: blinker<2,>=1.5.0 in /usr/local/lib/python3.11/dist-packages (from streamlit) (1.9.0)\n",
            "Requirement already satisfied: cachetools<7,>=4.0 in /usr/local/lib/python3.11/dist-packages (from streamlit) (5.5.2)\n",
            "Requirement already satisfied: click<9,>=7.0 in /usr/local/lib/python3.11/dist-packages (from streamlit) (8.2.1)\n",
            "Requirement already satisfied: numpy<3,>=1.23 in /usr/local/lib/python3.11/dist-packages (from streamlit) (2.0.2)\n",
            "Requirement already satisfied: packaging<26,>=20 in /usr/local/lib/python3.11/dist-packages (from streamlit) (25.0)\n",
            "Requirement already satisfied: pandas<3,>=1.4.0 in /usr/local/lib/python3.11/dist-packages (from streamlit) (2.2.2)\n",
            "Requirement already satisfied: pillow<12,>=7.1.0 in /usr/local/lib/python3.11/dist-packages (from streamlit) (11.2.1)\n",
            "Requirement already satisfied: protobuf<7,>=3.20 in /usr/local/lib/python3.11/dist-packages (from streamlit) (5.29.5)\n",
            "Requirement already satisfied: pyarrow>=7.0 in /usr/local/lib/python3.11/dist-packages (from streamlit) (18.1.0)\n",
            "Requirement already satisfied: requests<3,>=2.27 in /usr/local/lib/python3.11/dist-packages (from streamlit) (2.32.3)\n",
            "Requirement already satisfied: tenacity<10,>=8.1.0 in /usr/local/lib/python3.11/dist-packages (from streamlit) (8.5.0)\n",
            "Requirement already satisfied: toml<2,>=0.10.1 in /usr/local/lib/python3.11/dist-packages (from streamlit) (0.10.2)\n",
            "Requirement already satisfied: typing-extensions<5,>=4.4.0 in /usr/local/lib/python3.11/dist-packages (from streamlit) (4.14.1)\n",
            "Collecting watchdog<7,>=2.1.5 (from streamlit)\n",
            "  Downloading watchdog-6.0.0-py3-none-manylinux2014_x86_64.whl.metadata (44 kB)\n",
            "\u001b[2K     \u001b[90m━━━━━━━━━━━━━━━━━━━━━━━━━━━━━━━━━━━━━━━━\u001b[0m \u001b[32m44.3/44.3 kB\u001b[0m \u001b[31m2.8 MB/s\u001b[0m eta \u001b[36m0:00:00\u001b[0m\n",
            "\u001b[?25hRequirement already satisfied: gitpython!=3.1.19,<4,>=3.0.7 in /usr/local/lib/python3.11/dist-packages (from streamlit) (3.1.44)\n",
            "Collecting pydeck<1,>=0.8.0b4 (from streamlit)\n",
            "  Downloading pydeck-0.9.1-py2.py3-none-any.whl.metadata (4.1 kB)\n",
            "Requirement already satisfied: tornado!=6.5.0,<7,>=6.0.3 in /usr/local/lib/python3.11/dist-packages (from streamlit) (6.4.2)\n",
            "Requirement already satisfied: jinja2 in /usr/local/lib/python3.11/dist-packages (from altair<6,>=4.0->streamlit) (3.1.6)\n",
            "Requirement already satisfied: jsonschema>=3.0 in /usr/local/lib/python3.11/dist-packages (from altair<6,>=4.0->streamlit) (4.24.1)\n",
            "Requirement already satisfied: narwhals>=1.14.2 in /usr/local/lib/python3.11/dist-packages (from altair<6,>=4.0->streamlit) (1.47.1)\n",
            "Requirement already satisfied: gitdb<5,>=4.0.1 in /usr/local/lib/python3.11/dist-packages (from gitpython!=3.1.19,<4,>=3.0.7->streamlit) (4.0.12)\n",
            "Requirement already satisfied: python-dateutil>=2.8.2 in /usr/local/lib/python3.11/dist-packages (from pandas<3,>=1.4.0->streamlit) (2.9.0.post0)\n",
            "Requirement already satisfied: pytz>=2020.1 in /usr/local/lib/python3.11/dist-packages (from pandas<3,>=1.4.0->streamlit) (2025.2)\n",
            "Requirement already satisfied: tzdata>=2022.7 in /usr/local/lib/python3.11/dist-packages (from pandas<3,>=1.4.0->streamlit) (2025.2)\n",
            "Requirement already satisfied: charset-normalizer<4,>=2 in /usr/local/lib/python3.11/dist-packages (from requests<3,>=2.27->streamlit) (3.4.2)\n",
            "Requirement already satisfied: idna<4,>=2.5 in /usr/local/lib/python3.11/dist-packages (from requests<3,>=2.27->streamlit) (3.10)\n",
            "Requirement already satisfied: urllib3<3,>=1.21.1 in /usr/local/lib/python3.11/dist-packages (from requests<3,>=2.27->streamlit) (2.4.0)\n",
            "Requirement already satisfied: certifi>=2017.4.17 in /usr/local/lib/python3.11/dist-packages (from requests<3,>=2.27->streamlit) (2025.7.14)\n",
            "Requirement already satisfied: smmap<6,>=3.0.1 in /usr/local/lib/python3.11/dist-packages (from gitdb<5,>=4.0.1->gitpython!=3.1.19,<4,>=3.0.7->streamlit) (5.0.2)\n",
            "Requirement already satisfied: MarkupSafe>=2.0 in /usr/local/lib/python3.11/dist-packages (from jinja2->altair<6,>=4.0->streamlit) (3.0.2)\n",
            "Requirement already satisfied: attrs>=22.2.0 in /usr/local/lib/python3.11/dist-packages (from jsonschema>=3.0->altair<6,>=4.0->streamlit) (25.3.0)\n",
            "Requirement already satisfied: jsonschema-specifications>=2023.03.6 in /usr/local/lib/python3.11/dist-packages (from jsonschema>=3.0->altair<6,>=4.0->streamlit) (2025.4.1)\n",
            "Requirement already satisfied: referencing>=0.28.4 in /usr/local/lib/python3.11/dist-packages (from jsonschema>=3.0->altair<6,>=4.0->streamlit) (0.36.2)\n",
            "Requirement already satisfied: rpds-py>=0.7.1 in /usr/local/lib/python3.11/dist-packages (from jsonschema>=3.0->altair<6,>=4.0->streamlit) (0.26.0)\n",
            "Requirement already satisfied: six>=1.5 in /usr/local/lib/python3.11/dist-packages (from python-dateutil>=2.8.2->pandas<3,>=1.4.0->streamlit) (1.17.0)\n",
            "Downloading streamlit-1.47.0-py3-none-any.whl (9.9 MB)\n",
            "\u001b[2K   \u001b[90m━━━━━━━━━━━━━━━━━━━━━━━━━━━━━━━━━━━━━━━━\u001b[0m \u001b[32m9.9/9.9 MB\u001b[0m \u001b[31m26.4 MB/s\u001b[0m eta \u001b[36m0:00:00\u001b[0m\n",
            "\u001b[?25hDownloading pydeck-0.9.1-py2.py3-none-any.whl (6.9 MB)\n",
            "\u001b[2K   \u001b[90m━━━━━━━━━━━━━━━━━━━━━━━━━━━━━━━━━━━━━━━━\u001b[0m \u001b[32m6.9/6.9 MB\u001b[0m \u001b[31m46.2 MB/s\u001b[0m eta \u001b[36m0:00:00\u001b[0m\n",
            "\u001b[?25hDownloading watchdog-6.0.0-py3-none-manylinux2014_x86_64.whl (79 kB)\n",
            "\u001b[2K   \u001b[90m━━━━━━━━━━━━━━━━━━━━━━━━━━━━━━━━━━━━━━━━\u001b[0m \u001b[32m79.1/79.1 kB\u001b[0m \u001b[31m5.9 MB/s\u001b[0m eta \u001b[36m0:00:00\u001b[0m\n",
            "\u001b[?25hInstalling collected packages: watchdog, pydeck, streamlit\n",
            "Successfully installed pydeck-0.9.1 streamlit-1.47.0 watchdog-6.0.0\n"
          ]
        }
      ]
    },
    {
      "cell_type": "code",
      "execution_count": 13,
      "metadata": {
        "id": "XC3jprLII_nz",
        "colab": {
          "base_uri": "https://localhost:8080/"
        },
        "outputId": "4a0edf7a-61ae-4678-e141-f1714e4d76e7"
      },
      "outputs": [
        {
          "output_type": "stream",
          "name": "stderr",
          "text": [
            "2025-07-22 04:39:35.318 WARNING streamlit.runtime.scriptrunner_utils.script_run_context: Thread 'MainThread': missing ScriptRunContext! This warning can be ignored when running in bare mode.\n",
            "2025-07-22 04:39:35.321 WARNING streamlit.runtime.scriptrunner_utils.script_run_context: Thread 'MainThread': missing ScriptRunContext! This warning can be ignored when running in bare mode.\n",
            "2025-07-22 04:39:35.322 WARNING streamlit.runtime.scriptrunner_utils.script_run_context: Thread 'MainThread': missing ScriptRunContext! This warning can be ignored when running in bare mode.\n",
            "2025-07-22 04:39:35.323 WARNING streamlit.runtime.scriptrunner_utils.script_run_context: Thread 'MainThread': missing ScriptRunContext! This warning can be ignored when running in bare mode.\n",
            "2025-07-22 04:39:35.324 WARNING streamlit.runtime.state.session_state_proxy: Session state does not function when running a script without `streamlit run`\n",
            "2025-07-22 04:39:35.324 WARNING streamlit.runtime.scriptrunner_utils.script_run_context: Thread 'MainThread': missing ScriptRunContext! This warning can be ignored when running in bare mode.\n",
            "2025-07-22 04:39:35.639 \n",
            "  \u001b[33m\u001b[1mWarning:\u001b[0m to view this Streamlit app on a browser, run it with the following\n",
            "  command:\n",
            "\n",
            "    streamlit run /usr/local/lib/python3.11/dist-packages/colab_kernel_launcher.py [ARGUMENTS]\n",
            "2025-07-22 04:39:35.640 Thread 'MainThread': missing ScriptRunContext! This warning can be ignored when running in bare mode.\n",
            "2025-07-22 04:39:35.641 Thread 'MainThread': missing ScriptRunContext! This warning can be ignored when running in bare mode.\n",
            "2025-07-22 04:39:35.643 Thread 'MainThread': missing ScriptRunContext! This warning can be ignored when running in bare mode.\n",
            "2025-07-22 04:39:35.644 Thread 'MainThread': missing ScriptRunContext! This warning can be ignored when running in bare mode.\n",
            "2025-07-22 04:39:35.646 Thread 'MainThread': missing ScriptRunContext! This warning can be ignored when running in bare mode.\n",
            "2025-07-22 04:39:35.647 Thread 'MainThread': missing ScriptRunContext! This warning can be ignored when running in bare mode.\n",
            "2025-07-22 04:39:35.649 Thread 'MainThread': missing ScriptRunContext! This warning can be ignored when running in bare mode.\n",
            "2025-07-22 04:39:35.650 Thread 'MainThread': missing ScriptRunContext! This warning can be ignored when running in bare mode.\n"
          ]
        }
      ],
      "source": [
        "import streamlit as st\n",
        "from joblib import load\n",
        "import numpy as np\n",
        "\n",
        "# Load the model\n",
        "model = load('linear_regression_model.joblib')\n",
        "\n",
        "# Create a simple user input\n",
        "user_input = st.number_input('Enter house size:', min_value=100, max_value=10000, step=50)\n",
        "\n",
        "# Reshape the input for the model\n",
        "input_array = np.array([user_input]).reshape(-1, 1)\n",
        "\n",
        "# Predict the house price\n",
        "if st.button('Predict Price'):\n",
        "    predicted_price = model.predict(input_array)\n",
        "    st.write(f\"The predicted house price is: ${predicted_price[0]:.2f}\")"
      ]
    },
    {
      "cell_type": "markdown",
      "metadata": {
        "id": "qbNuwFjcJDT6"
      },
      "source": [
        "4) Upload the 2 files which are: requirements.txt and linear_regression_house_price_prediction.py into github and deploy using streamlit. Follow instruction from tutor."
      ]
    },
    {
      "cell_type": "markdown",
      "metadata": {
        "id": "6ms2QHCEJKUe"
      },
      "source": [
        "# <font color=\"blue\"> Exercise: House Price Prediction (2 features)"
      ]
    },
    {
      "cell_type": "markdown",
      "metadata": {
        "id": "VvJjmAFG_M11"
      },
      "source": [
        "In the previous example, we used only one feature, which was the house size, to predict the house prices. This is called a univariate regression. To improve the model's performance, we can use multiple features, which is called a multivariate regression.\n",
        "\n",
        "For instance, we can use additional features like the number of bedrooms, location, age of the house, etc., to make a more accurate prediction of the house prices. Using more relevant features often leads to better predictions.\n",
        "\n",
        "Here's an example of how you can modify the previous code to use two features (house size and number of bedrooms) to predict house prices:"
      ]
    },
    {
      "cell_type": "code",
      "execution_count": 14,
      "metadata": {
        "id": "QSrwuJ7c_M12"
      },
      "outputs": [],
      "source": [
        "import numpy as np                                       #complete this\n",
        "from sklearn.model_selection import train_test_split  #complete this\n",
        "from sklearn.linear_model import LinearRegression   #complete this\n",
        "from sklearn.metrics import mean_squared_error   #complete this\n",
        "\n",
        "# Sample dataset: house sizes and number of bedrooms as features, and prices as the target variable\n",
        "house_sizes = np.array([550, 600, 650, 700, 750, 800, 850, 900, 950, 1000])\n",
        "num_bedrooms = np.array([2, 3, 3, 4, 4, 5, 5, 6, 6, 7])                    #complete this\n",
        "prices = np.array([300000, 450000, 500000, 550000, 600000, 650000, 700000, 750000, 800000, 850000])     #complete this"
      ]
    },
    {
      "cell_type": "code",
      "execution_count": 15,
      "metadata": {
        "id": "iBUQZMG3_M12",
        "colab": {
          "base_uri": "https://localhost:8080/",
          "height": 438
        },
        "outputId": "5343cb7b-509a-4a65-f7d1-aa5c03107600"
      },
      "outputs": [
        {
          "output_type": "display_data",
          "data": {
            "text/plain": [
              "<Figure size 640x480 with 1 Axes>"
            ],
            "image/png": "[encoded data removed]"
          },
          "metadata": {}
        }
      ],
      "source": [
        "import matplotlib.pyplot as plt                  #complete this\n",
        "from mpl_toolkits.mplot3d import Axes3D              #complete this\n",
        "\n",
        "# Create a 3D scatter plot\n",
        "fig = plt.figure()\n",
        "ax = fig.add_subplot(111, projection='3d')           #complete this\n",
        "\n",
        "# Scatter plot points with house_sizes and num_bedrooms as X and Y, and prices as Z\n",
        "ax.scatter(house_sizes, num_bedrooms, prices, c='r', marker='o')          #complete this\n",
        "\n",
        "# Labels for axes\n",
        "ax.set_xlabel('House Sizes') #complete this\n",
        "ax.set_ylabel('Number of Bedrooms') #complete this\n",
        "ax.set_zlabel('Prices') #complete this\n",
        "\n",
        "# Add dotted lines from data points to respective values on X and Y axes\n",
        "for i in range(len(house_sizes)):\n",
        "    ax.plot([house_sizes[i], house_sizes[i]], [num_bedrooms[i], num_bedrooms[i]], [0, prices[i]], c='gray', linestyle='dotted', alpha=0.5)\n",
        "    ax.plot([house_sizes[i], house_sizes[i]], [0, num_bedrooms[i]], [prices[i], prices[i]], c='gray', linestyle='dotted', alpha=0.5)\n",
        "    ax.plot([0, house_sizes[i]], [num_bedrooms[i], num_bedrooms[i]], [prices[i], prices[i]], c='gray', linestyle='dotted', alpha=0.5)\n",
        "\n",
        "plt.title('House Prices vs. House Sizes and Number of Bedrooms')\n",
        "plt.show()"
      ]
    },
    {
      "cell_type": "code",
      "execution_count": 16,
      "metadata": {
        "id": "3G-fUOl1_M12",
        "colab": {
          "base_uri": "https://localhost:8080/"
        },
        "outputId": "fc89da6f-1fe7-4b4a-eab1-bf00804ef820"
      },
      "outputs": [
        {
          "output_type": "stream",
          "name": "stdout",
          "text": [
            "Feature matrix X:\n",
            " [[ 550    2]\n",
            " [ 600    3]\n",
            " [ 650    3]\n",
            " [ 700    4]\n",
            " [ 750    4]\n",
            " [ 800    5]\n",
            " [ 850    5]\n",
            " [ 900    6]\n",
            " [ 950    6]\n",
            " [1000    7]]\n",
            "Formatted X_test:\n",
            "[['950.00' '6.00']\n",
            " ['600.00' '3.00']]\n",
            "Formatted y_pred:\n",
            "['812500.00', '412500.00']\n",
            "Mean Squared Error: 781250000.00\n"
          ]
        }
      ],
      "source": [
        "from sklearn.metrics import mean_squared_error  #complete this\n",
        "\n",
        "# Combine the two features into a single feature matrix X\n",
        "X = np.column_stack((house_sizes, num_bedrooms))              #complete this\n",
        "print(\"Feature matrix X:\\n\", X)\n",
        "\n",
        "# Split the dataset into training and testing sets (80% train, 20% test)\n",
        "X_train, X_test, y_train, y_test = train_test_split(X, prices, test_size=0.2, random_state=42) #complete this\n",
        "\n",
        "# Create the linear regression model\n",
        "model = LinearRegression()  #complete this\n",
        "\n",
        "# Train the model using the training data\n",
        "model.fit(X_train, y_train)  #complete this\n",
        "\n",
        "# Make predictions on the test data\n",
        "y_pred = model.predict(X_test)  #complete this\n",
        "\n",
        "# Display the values with two decimal places using string formatting\n",
        "formatted_X_test = np.array([[\"%.2f\" % x[0], \"%.2f\" % x[1]] for x in X_test])\n",
        "formatted_y_pred = [\"%.2f\" % y for y in y_pred]\n",
        "\n",
        "print(\"Formatted X_test:\")\n",
        "print(formatted_X_test)\n",
        "\n",
        "print(\"Formatted y_pred:\")\n",
        "print(formatted_y_pred)\n",
        "\n",
        "# Compute and display Mean Squared Error (MSE)\n",
        "mse = mean_squared_error(y_test, y_pred)\n",
        "formatted_mse = \"%.2f\" % mse\n",
        "print(f\"Mean Squared Error: {formatted_mse}\")"
      ]
    },
    {
      "cell_type": "code",
      "execution_count": 17,
      "metadata": {
        "colab": {
          "base_uri": "https://localhost:8080/"
        },
        "id": "vMsMr1yB6Bxm",
        "outputId": "09f72a46-1a8d-4dba-a1a5-e37e001b9a88"
      },
      "outputs": [
        {
          "output_type": "stream",
          "name": "stdout",
          "text": [
            "Enter the house size (square feet): 1200\n",
            "Enter the number of bedrooms: 7\n",
            "[[1200.    7.]]\n",
            "Predicted price for a house with size 1200.0 sq ft and 7 bedrooms is (RM):1,092,500.00\n"
          ]
        }
      ],
      "source": [
        "house_size = float(input(\"Enter the house size (square feet): \"))    #complete this\n",
        "num_bedrooms = int(input(\"Enter the number of bedrooms: \"))    #complete this\n",
        "\n",
        "# Create a feature array for the input\n",
        "input_features = np.array([[house_size, num_bedrooms]])\n",
        "print(input_features)\n",
        "\n",
        "# Predict the price using the trained model\n",
        "predicted_price = model.predict(input_features)[0]\n",
        "\n",
        "# Display the predicted price\n",
        "print(f\"Predicted price for a house with size {house_size} sq ft and {num_bedrooms} bedrooms is (RM):{predicted_price:,.2f}\")"
      ]
    },
    {
      "cell_type": "markdown",
      "metadata": {
        "id": "NYeGeeAa_M13"
      },
      "source": [
        "# <font color=\"blue\"> Project 2: Spam Prediction"
      ]
    },
    {
      "cell_type": "markdown",
      "metadata": {
        "id": "7T-8Lyzg_M13"
      },
      "source": [
        "## Step 1: Prepare the data\n",
        "\n"
      ]
    },
    {
      "cell_type": "code",
      "execution_count": 19,
      "metadata": {
        "colab": {
          "base_uri": "https://localhost:8080/"
        },
        "id": "MoZh8Zqo_M13",
        "outputId": "22f0f34a-7fc4-441b-ad57-0f81995e5528"
      },
      "outputs": [
        {
          "output_type": "stream",
          "name": "stdout",
          "text": [
            "  label                                               text\n",
            "0   ham  Go until jurong point, crazy.. Available only ...\n",
            "1   ham                      Ok lar... Joking wif u oni...\n",
            "2  spam  Free entry in 2 a wkly comp to win FA Cup fina...\n",
            "3   ham  U dun say so early hor... U c already then say...\n",
            "4   ham  Nah I don't think he goes to usf, he lives aro...\n"
          ]
        },
        {
          "output_type": "execute_result",
          "data": {
            "text/plain": [
              "5572"
            ]
          },
          "metadata": {},
          "execution_count": 19
        }
      ],
      "source": [
        "# data labelling\n",
        "import pandas as pd\n",
        "data = pd.read_table('spam.txt',encoding='windows-1252', header=None)\n",
        "data.columns = ['label', 'text']\n",
        "print(data.head())\n",
        "len(data)"
      ]
    },
    {
      "cell_type": "code",
      "execution_count": 20,
      "metadata": {
        "colab": {
          "base_uri": "https://localhost:8080/"
        },
        "id": "BL7xpjnm_M13",
        "outputId": "d556ab08-b509-435e-83be-50027e904769"
      },
      "outputs": [
        {
          "output_type": "stream",
          "name": "stdout",
          "text": [
            "  label                                               text\n",
            "0   ham  Go until jurong point, crazy.. Available only ...\n",
            "1   ham                      Ok lar... Joking wif u oni...\n",
            "2  spam  Free entry in 2 a wkly comp to win FA Cup fina...\n",
            "3   ham  U dun say so early hor... U c already then say...\n",
            "4   ham  Nah I don't think he goes to usf, he lives aro...\n"
          ]
        }
      ],
      "source": [
        "# data preprocessing\n",
        "# remove words with numbers, punctuation and capital letters\n",
        "import re\n",
        "import string\n",
        "\n",
        "alphanumeric = lambda x: re.sub(r\"\"\"\\w*\\d\\w*\"\"\", ' ', x)\n",
        "punc_lower = lambda x: re.sub('[%s]' % re.escape(string.punctuation), ' ', x.lower())\n",
        "#============OR============================================\n",
        "# data['text'] = data.text.map(alphanumeric).map(punc_lower)\n",
        "print(data.head())"
      ]
    },
    {
      "cell_type": "markdown",
      "metadata": {
        "id": "Vlec3iHj_M14"
      },
      "source": [
        "## Step 2: Split the data (into training and testing set)"
      ]
    },
    {
      "cell_type": "markdown",
      "metadata": {
        "id": "17gs2b4B_M14"
      },
      "source": [
        "<Font color=\"Blue\">__Input__: Features, Predictors, Independent Variables, X's\n",
        "<Font color=\"orange\">__Outputs__: Label, Outcome, Dependent Variable, Y\n",
        "    \n",
        "![](https://i163.photobucket.com/albums/t281/kyin_album/m2.png)"
      ]
    },
    {
      "cell_type": "code",
      "execution_count": 21,
      "metadata": {
        "id": "BnXJffXG_M14"
      },
      "outputs": [],
      "source": [
        "# split the data into feature and label\n",
        "\n",
        "X = data.text  #complete this\n",
        "y = data.label #complete this"
      ]
    },
    {
      "cell_type": "code",
      "execution_count": 22,
      "metadata": {
        "id": "lCRkjjgO_M14",
        "colab": {
          "base_uri": "https://localhost:8080/",
          "height": 241
        },
        "outputId": "d90a930e-5a0a-4cb4-c0e5-987af9a2cffb"
      },
      "outputs": [
        {
          "output_type": "execute_result",
          "data": {
            "text/plain": [
              "0    Go until jurong point, crazy.. Available only ...\n",
              "1                        Ok lar... Joking wif u oni...\n",
              "2    Free entry in 2 a wkly comp to win FA Cup fina...\n",
              "3    U dun say so early hor... U c already then say...\n",
              "4    Nah I don't think he goes to usf, he lives aro...\n",
              "Name: text, dtype: object"
            ],
            "text/html": [
              "<div>\n",
              "<style scoped>\n",
              "    .dataframe tbody tr th:only-of-type {\n",
              "        vertical-align: middle;\n",
              "    }\n",
              "\n",
              "    .dataframe tbody tr th {\n",
              "        vertical-align: top;\n",
              "    }\n",
              "\n",
              "    .dataframe thead th {\n",
              "        text-align: right;\n",
              "    }\n",
              "</style>\n",
              "<table border=\"1\" class=\"dataframe\">\n",
              "  <thead>\n",
              "    <tr style=\"text-align: right;\">\n",
              "      <th></th>\n",
              "      <th>text</th>\n",
              "    </tr>\n",
              "  </thead>\n",
              "  <tbody>\n",
              "    <tr>\n",
              "      <th>0</th>\n",
              "      <td>Go until jurong point, crazy.. Available only ...</td>\n",
              "    </tr>\n",
              "    <tr>\n",
              "      <th>1</th>\n",
              "      <td>Ok lar... Joking wif u oni...</td>\n",
              "    </tr>\n",
              "    <tr>\n",
              "      <th>2</th>\n",
              "      <td>Free entry in 2 a wkly comp to win FA Cup fina...</td>\n",
              "    </tr>\n",
              "    <tr>\n",
              "      <th>3</th>\n",
              "      <td>U dun say so early hor... U c already then say...</td>\n",
              "    </tr>\n",
              "    <tr>\n",
              "      <th>4</th>\n",
              "      <td>Nah I don't think he goes to usf, he lives aro...</td>\n",
              "    </tr>\n",
              "  </tbody>\n",
              "</table>\n",
              "</div><br><label><b>dtype:</b> object</label>"
            ]
          },
          "metadata": {},
          "execution_count": 22
        }
      ],
      "source": [
        "X.head()"
      ]
    },
    {
      "cell_type": "code",
      "execution_count": 23,
      "metadata": {
        "id": "dlwtMIGM_M15",
        "colab": {
          "base_uri": "https://localhost:8080/",
          "height": 241
        },
        "outputId": "5653b0be-042d-45bf-a1d1-93ac748ec1b1"
      },
      "outputs": [
        {
          "output_type": "execute_result",
          "data": {
            "text/plain": [
              "0     ham\n",
              "1     ham\n",
              "2    spam\n",
              "3     ham\n",
              "4     ham\n",
              "Name: label, dtype: object"
            ],
            "text/html": [
              "<div>\n",
              "<style scoped>\n",
              "    .dataframe tbody tr th:only-of-type {\n",
              "        vertical-align: middle;\n",
              "    }\n",
              "\n",
              "    .dataframe tbody tr th {\n",
              "        vertical-align: top;\n",
              "    }\n",
              "\n",
              "    .dataframe thead th {\n",
              "        text-align: right;\n",
              "    }\n",
              "</style>\n",
              "<table border=\"1\" class=\"dataframe\">\n",
              "  <thead>\n",
              "    <tr style=\"text-align: right;\">\n",
              "      <th></th>\n",
              "      <th>label</th>\n",
              "    </tr>\n",
              "  </thead>\n",
              "  <tbody>\n",
              "    <tr>\n",
              "      <th>0</th>\n",
              "      <td>ham</td>\n",
              "    </tr>\n",
              "    <tr>\n",
              "      <th>1</th>\n",
              "      <td>ham</td>\n",
              "    </tr>\n",
              "    <tr>\n",
              "      <th>2</th>\n",
              "      <td>spam</td>\n",
              "    </tr>\n",
              "    <tr>\n",
              "      <th>3</th>\n",
              "      <td>ham</td>\n",
              "    </tr>\n",
              "    <tr>\n",
              "      <th>4</th>\n",
              "      <td>ham</td>\n",
              "    </tr>\n",
              "  </tbody>\n",
              "</table>\n",
              "</div><br><label><b>dtype:</b> object</label>"
            ]
          },
          "metadata": {},
          "execution_count": 23
        }
      ],
      "source": [
        "y.head()"
      ]
    },
    {
      "cell_type": "markdown",
      "metadata": {
        "id": "nf0fW6-Z_M15"
      },
      "source": [
        "## Overfitting\n",
        "\n",
        "![](https://i163.photobucket.com/albums/t281/kyin_album/m3.png)"
      ]
    },
    {
      "cell_type": "markdown",
      "metadata": {
        "id": "Z0kr3xpT_M15"
      },
      "source": [
        "![](https://i163.photobucket.com/albums/t281/kyin_album/m4.png)"
      ]
    },
    {
      "cell_type": "markdown",
      "metadata": {
        "id": "PojygMv-_M15"
      },
      "source": [
        "# Split the data [Code]"
      ]
    },
    {
      "cell_type": "code",
      "execution_count": 24,
      "metadata": {
        "id": "4fF3L8xn_M15"
      },
      "outputs": [],
      "source": [
        "# split the data into a training and test set\n",
        "\n",
        "from sklearn.model_selection import train_test_split                                         #complete this\n",
        "X_train, X_test, y_train, y_test = train_test_split(X, y, test_size=0.3, random_state=42)    #complete this\n",
        "\n",
        "# test size = 30% of observations, which means training size = 70% of observations\n",
        "# random state = 42, so we all get the same random train / test split"
      ]
    },
    {
      "cell_type": "code",
      "execution_count": 25,
      "metadata": {
        "id": "3D6j4b8__M16",
        "colab": {
          "base_uri": "https://localhost:8080/",
          "height": 241
        },
        "outputId": "6f50b9d7-3dcf-4738-e915-7e643ce3df01"
      },
      "outputs": [
        {
          "output_type": "execute_result",
          "data": {
            "text/plain": [
              "708     Quite late lar... Ard 12 anyway i wun b drivin...\n",
              "4338                        on a Tuesday night r u 4 real\n",
              "5029    Go chase after her and run her over while she'...\n",
              "4921     G says you never answer your texts, confirm/deny\n",
              "2592         Still work going on:)it is very small house.\n",
              "Name: text, dtype: object"
            ],
            "text/html": [
              "<div>\n",
              "<style scoped>\n",
              "    .dataframe tbody tr th:only-of-type {\n",
              "        vertical-align: middle;\n",
              "    }\n",
              "\n",
              "    .dataframe tbody tr th {\n",
              "        vertical-align: top;\n",
              "    }\n",
              "\n",
              "    .dataframe thead th {\n",
              "        text-align: right;\n",
              "    }\n",
              "</style>\n",
              "<table border=\"1\" class=\"dataframe\">\n",
              "  <thead>\n",
              "    <tr style=\"text-align: right;\">\n",
              "      <th></th>\n",
              "      <th>text</th>\n",
              "    </tr>\n",
              "  </thead>\n",
              "  <tbody>\n",
              "    <tr>\n",
              "      <th>708</th>\n",
              "      <td>Quite late lar... Ard 12 anyway i wun b drivin...</td>\n",
              "    </tr>\n",
              "    <tr>\n",
              "      <th>4338</th>\n",
              "      <td>on a Tuesday night r u 4 real</td>\n",
              "    </tr>\n",
              "    <tr>\n",
              "      <th>5029</th>\n",
              "      <td>Go chase after her and run her over while she'...</td>\n",
              "    </tr>\n",
              "    <tr>\n",
              "      <th>4921</th>\n",
              "      <td>G says you never answer your texts, confirm/deny</td>\n",
              "    </tr>\n",
              "    <tr>\n",
              "      <th>2592</th>\n",
              "      <td>Still work going on:)it is very small house.</td>\n",
              "    </tr>\n",
              "  </tbody>\n",
              "</table>\n",
              "</div><br><label><b>dtype:</b> object</label>"
            ]
          },
          "metadata": {},
          "execution_count": 25
        }
      ],
      "source": [
        "X_train.head()"
      ]
    },
    {
      "cell_type": "code",
      "execution_count": 26,
      "metadata": {
        "id": "sb9orvle_M16",
        "colab": {
          "base_uri": "https://localhost:8080/"
        },
        "outputId": "4fac20fe-2bba-40b2-a25b-a780965252d3"
      },
      "outputs": [
        {
          "output_type": "execute_result",
          "data": {
            "text/plain": [
              "(3900,)"
            ]
          },
          "metadata": {},
          "execution_count": 26
        }
      ],
      "source": [
        "X_train.shape"
      ]
    },
    {
      "cell_type": "code",
      "execution_count": 27,
      "metadata": {
        "id": "mbcwZ-8V_M16",
        "colab": {
          "base_uri": "https://localhost:8080/",
          "height": 241
        },
        "outputId": "95cc84c5-ccca-47ba-b723-4d596e690f00"
      },
      "outputs": [
        {
          "output_type": "execute_result",
          "data": {
            "text/plain": [
              "708     ham\n",
              "4338    ham\n",
              "5029    ham\n",
              "4921    ham\n",
              "2592    ham\n",
              "Name: label, dtype: object"
            ],
            "text/html": [
              "<div>\n",
              "<style scoped>\n",
              "    .dataframe tbody tr th:only-of-type {\n",
              "        vertical-align: middle;\n",
              "    }\n",
              "\n",
              "    .dataframe tbody tr th {\n",
              "        vertical-align: top;\n",
              "    }\n",
              "\n",
              "    .dataframe thead th {\n",
              "        text-align: right;\n",
              "    }\n",
              "</style>\n",
              "<table border=\"1\" class=\"dataframe\">\n",
              "  <thead>\n",
              "    <tr style=\"text-align: right;\">\n",
              "      <th></th>\n",
              "      <th>label</th>\n",
              "    </tr>\n",
              "  </thead>\n",
              "  <tbody>\n",
              "    <tr>\n",
              "      <th>708</th>\n",
              "      <td>ham</td>\n",
              "    </tr>\n",
              "    <tr>\n",
              "      <th>4338</th>\n",
              "      <td>ham</td>\n",
              "    </tr>\n",
              "    <tr>\n",
              "      <th>5029</th>\n",
              "      <td>ham</td>\n",
              "    </tr>\n",
              "    <tr>\n",
              "      <th>4921</th>\n",
              "      <td>ham</td>\n",
              "    </tr>\n",
              "    <tr>\n",
              "      <th>2592</th>\n",
              "      <td>ham</td>\n",
              "    </tr>\n",
              "  </tbody>\n",
              "</table>\n",
              "</div><br><label><b>dtype:</b> object</label>"
            ]
          },
          "metadata": {},
          "execution_count": 27
        }
      ],
      "source": [
        "y_train.head()"
      ]
    },
    {
      "cell_type": "code",
      "execution_count": 28,
      "metadata": {
        "id": "CzoVCOcN_M16",
        "colab": {
          "base_uri": "https://localhost:8080/"
        },
        "outputId": "04a9acab-7af4-4ee2-9549-dd89fb4a94f6"
      },
      "outputs": [
        {
          "output_type": "execute_result",
          "data": {
            "text/plain": [
              "(3900,)"
            ]
          },
          "metadata": {},
          "execution_count": 28
        }
      ],
      "source": [
        "y_train.shape"
      ]
    },
    {
      "cell_type": "code",
      "execution_count": 29,
      "metadata": {
        "id": "XUxZZ_K3_M2P",
        "colab": {
          "base_uri": "https://localhost:8080/"
        },
        "outputId": "60412239-cab3-4004-a32b-932ca309128b"
      },
      "outputs": [
        {
          "output_type": "execute_result",
          "data": {
            "text/plain": [
              "(1672,)"
            ]
          },
          "metadata": {},
          "execution_count": 29
        }
      ],
      "source": [
        "X_test.shape"
      ]
    },
    {
      "cell_type": "code",
      "execution_count": 30,
      "metadata": {
        "id": "lilnFM5u_M2Q",
        "colab": {
          "base_uri": "https://localhost:8080/"
        },
        "outputId": "347a015e-c68d-4fc6-aec0-5b4b95e5cc92"
      },
      "outputs": [
        {
          "output_type": "execute_result",
          "data": {
            "text/plain": [
              "(1672,)"
            ]
          },
          "metadata": {},
          "execution_count": 30
        }
      ],
      "source": [
        "y_test.shape"
      ]
    },
    {
      "cell_type": "code",
      "execution_count": 31,
      "metadata": {
        "id": "JKFWPkcF_M2Q",
        "colab": {
          "base_uri": "https://localhost:8080/",
          "height": 458
        },
        "outputId": "e36eb299-3e5e-4f9e-ebaa-d840e18feb41"
      },
      "outputs": [
        {
          "output_type": "execute_result",
          "data": {
            "text/plain": [
              "3245    Squeeeeeze!! This is christmas hug.. If u lik ...\n",
              "944     And also I've sorta blown him off a couple tim...\n",
              "1044    Mmm thats better now i got a roast down me! i?...\n",
              "2484        Mm have some kanji dont eat anything heavy ok\n",
              "812     So there's a ring that comes with the guys cos...\n",
              "                              ...                        \n",
              "2505    Hello, my boytoy! I made it home and my consta...\n",
              "2525    FREE entry into our £250 weekly comp just send...\n",
              "4975    Aiyo u so poor thing... Then u dun wan 2 eat? ...\n",
              "650     You have won ?1,000 cash or a ?2,000 prize! To...\n",
              "4463    Sorry I flaked last night, shit's seriously go...\n",
              "Name: text, Length: 1672, dtype: object"
            ],
            "text/html": [
              "<div>\n",
              "<style scoped>\n",
              "    .dataframe tbody tr th:only-of-type {\n",
              "        vertical-align: middle;\n",
              "    }\n",
              "\n",
              "    .dataframe tbody tr th {\n",
              "        vertical-align: top;\n",
              "    }\n",
              "\n",
              "    .dataframe thead th {\n",
              "        text-align: right;\n",
              "    }\n",
              "</style>\n",
              "<table border=\"1\" class=\"dataframe\">\n",
              "  <thead>\n",
              "    <tr style=\"text-align: right;\">\n",
              "      <th></th>\n",
              "      <th>text</th>\n",
              "    </tr>\n",
              "  </thead>\n",
              "  <tbody>\n",
              "    <tr>\n",
              "      <th>3245</th>\n",
              "      <td>Squeeeeeze!! This is christmas hug.. If u lik ...</td>\n",
              "    </tr>\n",
              "    <tr>\n",
              "      <th>944</th>\n",
              "      <td>And also I've sorta blown him off a couple tim...</td>\n",
              "    </tr>\n",
              "    <tr>\n",
              "      <th>1044</th>\n",
              "      <td>Mmm thats better now i got a roast down me! i?...</td>\n",
              "    </tr>\n",
              "    <tr>\n",
              "      <th>2484</th>\n",
              "      <td>Mm have some kanji dont eat anything heavy ok</td>\n",
              "    </tr>\n",
              "    <tr>\n",
              "      <th>812</th>\n",
              "      <td>So there's a ring that comes with the guys cos...</td>\n",
              "    </tr>\n",
              "    <tr>\n",
              "      <th>...</th>\n",
              "      <td>...</td>\n",
              "    </tr>\n",
              "    <tr>\n",
              "      <th>2505</th>\n",
              "      <td>Hello, my boytoy! I made it home and my consta...</td>\n",
              "    </tr>\n",
              "    <tr>\n",
              "      <th>2525</th>\n",
              "      <td>FREE entry into our £250 weekly comp just send...</td>\n",
              "    </tr>\n",
              "    <tr>\n",
              "      <th>4975</th>\n",
              "      <td>Aiyo u so poor thing... Then u dun wan 2 eat? ...</td>\n",
              "    </tr>\n",
              "    <tr>\n",
              "      <th>650</th>\n",
              "      <td>You have won ?1,000 cash or a ?2,000 prize! To...</td>\n",
              "    </tr>\n",
              "    <tr>\n",
              "      <th>4463</th>\n",
              "      <td>Sorry I flaked last night, shit's seriously go...</td>\n",
              "    </tr>\n",
              "  </tbody>\n",
              "</table>\n",
              "<p>1672 rows × 1 columns</p>\n",
              "</div><br><label><b>dtype:</b> object</label>"
            ]
          },
          "metadata": {},
          "execution_count": 31
        }
      ],
      "source": [
        "X_test"
      ]
    },
    {
      "cell_type": "markdown",
      "metadata": {
        "id": "0GnESdi9_M2Q"
      },
      "source": [
        "## Step 3: Numerically encode the input data [Code]"
      ]
    },
    {
      "cell_type": "code",
      "execution_count": 32,
      "metadata": {
        "id": "ILF9pyie_M2Q",
        "colab": {
          "base_uri": "https://localhost:8080/"
        },
        "outputId": "12471c41-0042-4a22-dc97-f75433906920"
      },
      "outputs": [
        {
          "output_type": "stream",
          "name": "stdout",
          "text": [
            "(3900, 7004)\n"
          ]
        }
      ],
      "source": [
        "from sklearn.feature_extraction.text import CountVectorizer           #complete this\n",
        "cv = CountVectorizer(stop_words='english')                            #complete this\n",
        "X_train_cv = cv.fit_transform(X_train)\n",
        "X_test_cv = cv.transform(X_test) # transform uses the same vocab and one-hot encodes\n",
        "\n",
        "# print the dimensions of the training set (text messages, terms)\n",
        "print(X_train_cv.toarray().shape)"
      ]
    },
    {
      "cell_type": "markdown",
      "metadata": {
        "id": "oKrZ4X2m6Bxy"
      },
      "source": [
        "What Happens During fit()?\n",
        "Scans the text data to find all unique words.\n",
        "Builds a vocabulary (a mapping of words to feature indices).\n",
        "Stores this learned vocabulary for later use in transform().\n",
        "\n",
        "What Happens During transform()?\n",
        "Uses the learned vocabulary to convert words into numerical values (e.g., word counts or term frequencies).\n",
        "If a word appears in X_test but was not in X_train, it is ignored (ensuring consistent features)."
      ]
    },
    {
      "cell_type": "code",
      "execution_count": 33,
      "metadata": {
        "id": "YURZYSWE6Bxy",
        "colab": {
          "base_uri": "https://localhost:8080/"
        },
        "outputId": "2a3243b0-d851-4b5a-f5f5-858434d54835"
      },
      "outputs": [
        {
          "output_type": "execute_result",
          "data": {
            "text/plain": [
              "['countvectorizer.joblib']"
            ]
          },
          "metadata": {},
          "execution_count": 33
        }
      ],
      "source": [
        "import joblib\n",
        "joblib.dump(cv, 'countvectorizer.joblib')"
      ]
    },
    {
      "cell_type": "code",
      "execution_count": 34,
      "metadata": {
        "id": "uT9OC-fy_M2R",
        "colab": {
          "base_uri": "https://localhost:8080/",
          "height": 424
        },
        "outputId": "a7eabb23-2745-4962-eecb-b12fd5c81951"
      },
      "outputs": [
        {
          "output_type": "execute_result",
          "data": {
            "text/plain": [
              "      0     1     2     3     4     5     6     7     8     9     ...  6994  \\\n",
              "0        0     0     0     0     0     0     0     0     0     0  ...     0   \n",
              "1        0     0     0     0     0     0     0     0     0     0  ...     0   \n",
              "2        0     0     0     0     0     0     0     0     0     0  ...     0   \n",
              "3        0     0     0     0     0     0     0     0     0     0  ...     0   \n",
              "4        0     0     0     0     0     0     0     0     0     0  ...     0   \n",
              "...    ...   ...   ...   ...   ...   ...   ...   ...   ...   ...  ...   ...   \n",
              "1667     0     0     0     0     0     0     0     0     0     0  ...     0   \n",
              "1668     0     0     0     0     0     0     0     0     0     0  ...     0   \n",
              "1669     0     0     0     0     0     0     0     0     0     0  ...     0   \n",
              "1670     0     2     0     0     0     0     0     0     0     0  ...     0   \n",
              "1671     0     0     0     0     0     0     0     0     0     0  ...     0   \n",
              "\n",
              "      6995  6996  6997  6998  6999  7000  7001  7002  7003  \n",
              "0        0     0     0     0     0     0     0     0     0  \n",
              "1        0     0     0     0     0     0     0     0     0  \n",
              "2        0     0     0     0     0     0     0     0     0  \n",
              "3        0     0     0     0     0     0     0     0     0  \n",
              "4        0     0     0     0     0     0     0     0     0  \n",
              "...    ...   ...   ...   ...   ...   ...   ...   ...   ...  \n",
              "1667     0     0     0     0     0     0     0     0     0  \n",
              "1668     0     0     0     0     0     0     0     0     0  \n",
              "1669     0     0     0     0     0     0     0     0     0  \n",
              "1670     0     0     0     0     0     0     0     0     0  \n",
              "1671     0     0     0     0     0     0     0     0     0  \n",
              "\n",
              "[1672 rows x 7004 columns]"
            ],
            "text/html": [
              "\n",
              "  <div id=\"df-8c0442b1-5062-4735-9b95-20a502bc9e11\" class=\"colab-df-container\">\n",
              "    <div>\n",
              "<style scoped>\n",
              "    .dataframe tbody tr th:only-of-type {\n",
              "        vertical-align: middle;\n",
              "    }\n",
              "\n",
              "    .dataframe tbody tr th {\n",
              "        vertical-align: top;\n",
              "    }\n",
              "\n",
              "    .dataframe thead th {\n",
              "        text-align: right;\n",
              "    }\n",
              "</style>\n",
              "<table border=\"1\" class=\"dataframe\">\n",
              "  <thead>\n",
              "    <tr style=\"text-align: right;\">\n",
              "      <th></th>\n",
              "      <th>0</th>\n",
              "      <th>1</th>\n",
              "      <th>2</th>\n",
              "      <th>3</th>\n",
              "      <th>4</th>\n",
              "      <th>5</th>\n",
              "      <th>6</th>\n",
              "      <th>7</th>\n",
              "      <th>8</th>\n",
              "      <th>9</th>\n",
              "      <th>...</th>\n",
              "      <th>6994</th>\n",
              "      <th>6995</th>\n",
              "      <th>6996</th>\n",
              "      <th>6997</th>\n",
              "      <th>6998</th>\n",
              "      <th>6999</th>\n",
              "      <th>7000</th>\n",
              "      <th>7001</th>\n",
              "      <th>7002</th>\n",
              "      <th>7003</th>\n",
              "    </tr>\n",
              "  </thead>\n",
              "  <tbody>\n",
              "    <tr>\n",
              "      <th>0</th>\n",
              "      <td>0</td>\n",
              "      <td>0</td>\n",
              "      <td>0</td>\n",
              "      <td>0</td>\n",
              "      <td>0</td>\n",
              "      <td>0</td>\n",
              "      <td>0</td>\n",
              "      <td>0</td>\n",
              "      <td>0</td>\n",
              "      <td>0</td>\n",
              "      <td>...</td>\n",
              "      <td>0</td>\n",
              "      <td>0</td>\n",
              "      <td>0</td>\n",
              "      <td>0</td>\n",
              "      <td>0</td>\n",
              "      <td>0</td>\n",
              "      <td>0</td>\n",
              "      <td>0</td>\n",
              "      <td>0</td>\n",
              "      <td>0</td>\n",
              "    </tr>\n",
              "    <tr>\n",
              "      <th>1</th>\n",
              "      <td>0</td>\n",
              "      <td>0</td>\n",
              "      <td>0</td>\n",
              "      <td>0</td>\n",
              "      <td>0</td>\n",
              "      <td>0</td>\n",
              "      <td>0</td>\n",
              "      <td>0</td>\n",
              "      <td>0</td>\n",
              "      <td>0</td>\n",
              "      <td>...</td>\n",
              "      <td>0</td>\n",
              "      <td>0</td>\n",
              "      <td>0</td>\n",
              "      <td>0</td>\n",
              "      <td>0</td>\n",
              "      <td>0</td>\n",
              "      <td>0</td>\n",
              "      <td>0</td>\n",
              "      <td>0</td>\n",
              "      <td>0</td>\n",
              "    </tr>\n",
              "    <tr>\n",
              "      <th>2</th>\n",
              "      <td>0</td>\n",
              "      <td>0</td>\n",
              "      <td>0</td>\n",
              "      <td>0</td>\n",
              "      <td>0</td>\n",
              "      <td>0</td>\n",
              "      <td>0</td>\n",
              "      <td>0</td>\n",
              "      <td>0</td>\n",
              "      <td>0</td>\n",
              "      <td>...</td>\n",
              "      <td>0</td>\n",
              "      <td>0</td>\n",
              "      <td>0</td>\n",
              "      <td>0</td>\n",
              "      <td>0</td>\n",
              "      <td>0</td>\n",
              "      <td>0</td>\n",
              "      <td>0</td>\n",
              "      <td>0</td>\n",
              "      <td>0</td>\n",
              "    </tr>\n",
              "    <tr>\n",
              "      <th>3</th>\n",
              "      <td>0</td>\n",
              "      <td>0</td>\n",
              "      <td>0</td>\n",
              "      <td>0</td>\n",
              "      <td>0</td>\n",
              "      <td>0</td>\n",
              "      <td>0</td>\n",
              "      <td>0</td>\n",
              "      <td>0</td>\n",
              "      <td>0</td>\n",
              "      <td>...</td>\n",
              "      <td>0</td>\n",
              "      <td>0</td>\n",
              "      <td>0</td>\n",
              "      <td>0</td>\n",
              "      <td>0</td>\n",
              "      <td>0</td>\n",
              "      <td>0</td>\n",
              "      <td>0</td>\n",
              "      <td>0</td>\n",
              "      <td>0</td>\n",
              "    </tr>\n",
              "    <tr>\n",
              "      <th>4</th>\n",
              "      <td>0</td>\n",
              "      <td>0</td>\n",
              "      <td>0</td>\n",
              "      <td>0</td>\n",
              "      <td>0</td>\n",
              "      <td>0</td>\n",
              "      <td>0</td>\n",
              "      <td>0</td>\n",
              "      <td>0</td>\n",
              "      <td>0</td>\n",
              "      <td>...</td>\n",
              "      <td>0</td>\n",
              "      <td>0</td>\n",
              "      <td>0</td>\n",
              "      <td>0</td>\n",
              "      <td>0</td>\n",
              "      <td>0</td>\n",
              "      <td>0</td>\n",
              "      <td>0</td>\n",
              "      <td>0</td>\n",
              "      <td>0</td>\n",
              "    </tr>\n",
              "    <tr>\n",
              "      <th>...</th>\n",
              "      <td>...</td>\n",
              "      <td>...</td>\n",
              "      <td>...</td>\n",
              "      <td>...</td>\n",
              "      <td>...</td>\n",
              "      <td>...</td>\n",
              "      <td>...</td>\n",
              "      <td>...</td>\n",
              "      <td>...</td>\n",
              "      <td>...</td>\n",
              "      <td>...</td>\n",
              "      <td>...</td>\n",
              "      <td>...</td>\n",
              "      <td>...</td>\n",
              "      <td>...</td>\n",
              "      <td>...</td>\n",
              "      <td>...</td>\n",
              "      <td>...</td>\n",
              "      <td>...</td>\n",
              "      <td>...</td>\n",
              "      <td>...</td>\n",
              "    </tr>\n",
              "    <tr>\n",
              "      <th>1667</th>\n",
              "      <td>0</td>\n",
              "      <td>0</td>\n",
              "      <td>0</td>\n",
              "      <td>0</td>\n",
              "      <td>0</td>\n",
              "      <td>0</td>\n",
              "      <td>0</td>\n",
              "      <td>0</td>\n",
              "      <td>0</td>\n",
              "      <td>0</td>\n",
              "      <td>...</td>\n",
              "      <td>0</td>\n",
              "      <td>0</td>\n",
              "      <td>0</td>\n",
              "      <td>0</td>\n",
              "      <td>0</td>\n",
              "      <td>0</td>\n",
              "      <td>0</td>\n",
              "      <td>0</td>\n",
              "      <td>0</td>\n",
              "      <td>0</td>\n",
              "    </tr>\n",
              "    <tr>\n",
              "      <th>1668</th>\n",
              "      <td>0</td>\n",
              "      <td>0</td>\n",
              "      <td>0</td>\n",
              "      <td>0</td>\n",
              "      <td>0</td>\n",
              "      <td>0</td>\n",
              "      <td>0</td>\n",
              "      <td>0</td>\n",
              "      <td>0</td>\n",
              "      <td>0</td>\n",
              "      <td>...</td>\n",
              "      <td>0</td>\n",
              "      <td>0</td>\n",
              "      <td>0</td>\n",
              "      <td>0</td>\n",
              "      <td>0</td>\n",
              "      <td>0</td>\n",
              "      <td>0</td>\n",
              "      <td>0</td>\n",
              "      <td>0</td>\n",
              "      <td>0</td>\n",
              "    </tr>\n",
              "    <tr>\n",
              "      <th>1669</th>\n",
              "      <td>0</td>\n",
              "      <td>0</td>\n",
              "      <td>0</td>\n",
              "      <td>0</td>\n",
              "      <td>0</td>\n",
              "      <td>0</td>\n",
              "      <td>0</td>\n",
              "      <td>0</td>\n",
              "      <td>0</td>\n",
              "      <td>0</td>\n",
              "      <td>...</td>\n",
              "      <td>0</td>\n",
              "      <td>0</td>\n",
              "      <td>0</td>\n",
              "      <td>0</td>\n",
              "      <td>0</td>\n",
              "      <td>0</td>\n",
              "      <td>0</td>\n",
              "      <td>0</td>\n",
              "      <td>0</td>\n",
              "      <td>0</td>\n",
              "    </tr>\n",
              "    <tr>\n",
              "      <th>1670</th>\n",
              "      <td>0</td>\n",
              "      <td>2</td>\n",
              "      <td>0</td>\n",
              "      <td>0</td>\n",
              "      <td>0</td>\n",
              "      <td>0</td>\n",
              "      <td>0</td>\n",
              "      <td>0</td>\n",
              "      <td>0</td>\n",
              "      <td>0</td>\n",
              "      <td>...</td>\n",
              "      <td>0</td>\n",
              "      <td>0</td>\n",
              "      <td>0</td>\n",
              "      <td>0</td>\n",
              "      <td>0</td>\n",
              "      <td>0</td>\n",
              "      <td>0</td>\n",
              "      <td>0</td>\n",
              "      <td>0</td>\n",
              "      <td>0</td>\n",
              "    </tr>\n",
              "    <tr>\n",
              "      <th>1671</th>\n",
              "      <td>0</td>\n",
              "      <td>0</td>\n",
              "      <td>0</td>\n",
              "      <td>0</td>\n",
              "      <td>0</td>\n",
              "      <td>0</td>\n",
              "      <td>0</td>\n",
              "      <td>0</td>\n",
              "      <td>0</td>\n",
              "      <td>0</td>\n",
              "      <td>...</td>\n",
              "      <td>0</td>\n",
              "      <td>0</td>\n",
              "      <td>0</td>\n",
              "      <td>0</td>\n",
              "      <td>0</td>\n",
              "      <td>0</td>\n",
              "      <td>0</td>\n",
              "      <td>0</td>\n",
              "      <td>0</td>\n",
              "      <td>0</td>\n",
              "    </tr>\n",
              "  </tbody>\n",
              "</table>\n",
              "<p>1672 rows × 7004 columns</p>\n",
              "</div>\n",
              "    <div class=\"colab-df-buttons\">\n",
              "\n",
              "  <div class=\"colab-df-container\">\n",
              "    <button class=\"colab-df-convert\" onclick=\"convertToInteractive('df-8c0442b1-5062-4735-9b95-20a502bc9e11')\"\n",
              "            title=\"Convert this dataframe to an interactive table.\"\n",
              "            style=\"display:none;\">\n",
              "\n",
              "  <svg xmlns=\"http://www.w3.org/2000/svg\" height=\"24px\" viewBox=\"0 -960 960 960\">\n",
              "    <path d=\"M120-120v-720h720v720H120Zm60-500h600v-160H180v160Zm220 220h160v-160H400v160Zm0 220h160v-160H400v160ZM180-400h160v-160H180v160Zm440 0h160v-160H620v160ZM180-180h160v-160H180v160Zm440 0h160v-160H620v160Z\"/>\n",
              "  </svg>\n",
              "    </button>\n",
              "\n",
              "  <style>\n",
              "    .colab-df-container {\n",
              "      display:flex;\n",
              "      gap: 12px;\n",
              "    }\n",
              "\n",
              "    .colab-df-convert {\n",
              "      background-color: #E8F0FE;\n",
              "      border: none;\n",
              "      border-radius: 50%;\n",
              "      cursor: pointer;\n",
              "      display: none;\n",
              "      fill: #1967D2;\n",
              "      height: 32px;\n",
              "      padding: 0 0 0 0;\n",
              "      width: 32px;\n",
              "    }\n",
              "\n",
              "    .colab-df-convert:hover {\n",
              "      background-color: #E2EBFA;\n",
              "      box-shadow: 0px 1px 2px rgba(60, 64, 67, 0.3), 0px 1px 3px 1px rgba(60, 64, 67, 0.15);\n",
              "      fill: #174EA6;\n",
              "    }\n",
              "\n",
              "    .colab-df-buttons div {\n",
              "      margin-bottom: 4px;\n",
              "    }\n",
              "\n",
              "    [theme=dark] .colab-df-convert {\n",
              "      background-color: #3B4455;\n",
              "      fill: #D2E3FC;\n",
              "    }\n",
              "\n",
              "    [theme=dark] .colab-df-convert:hover {\n",
              "      background-color: #434B5C;\n",
              "      box-shadow: 0px 1px 3px 1px rgba(0, 0, 0, 0.15);\n",
              "      filter: drop-shadow(0px 1px 2px rgba(0, 0, 0, 0.3));\n",
              "      fill: #FFFFFF;\n",
              "    }\n",
              "  </style>\n",
              "\n",
              "    <script>\n",
              "      const buttonEl =\n",
              "        document.querySelector('#df-8c0442b1-5062-4735-9b95-20a502bc9e11 button.colab-df-convert');\n",
              "      buttonEl.style.display =\n",
              "        google.colab.kernel.accessAllowed ? 'block' : 'none';\n",
              "\n",
              "      async function convertToInteractive(key) {\n",
              "        const element = document.querySelector('#df-8c0442b1-5062-4735-9b95-20a502bc9e11');\n",
              "        const dataTable =\n",
              "          await google.colab.kernel.invokeFunction('convertToInteractive',\n",
              "                                                    [key], {});\n",
              "        if (!dataTable) return;\n",
              "\n",
              "        const docLinkHtml = 'Like what you see? Visit the ' +\n",
              "          '<a target=\"_blank\" href=https://colab.research.google.com/notebooks/data_table.ipynb>data table notebook</a>'\n",
              "          + ' to learn more about interactive tables.';\n",
              "        element.innerHTML = '';\n",
              "        dataTable['output_type'] = 'display_data';\n",
              "        await google.colab.output.renderOutput(dataTable, element);\n",
              "        const docLink = document.createElement('div');\n",
              "        docLink.innerHTML = docLinkHtml;\n",
              "        element.appendChild(docLink);\n",
              "      }\n",
              "    </script>\n",
              "  </div>\n",
              "\n",
              "\n",
              "    <div id=\"df-6767dadd-29e6-4405-8162-b98e8576d5f0\">\n",
              "      <button class=\"colab-df-quickchart\" onclick=\"quickchart('df-6767dadd-29e6-4405-8162-b98e8576d5f0')\"\n",
              "                title=\"Suggest charts\"\n",
              "                style=\"display:none;\">\n",
              "\n",
              "<svg xmlns=\"http://www.w3.org/2000/svg\" height=\"24px\"viewBox=\"0 0 24 24\"\n",
              "     width=\"24px\">\n",
              "    <g>\n",
              "        <path d=\"M19 3H5c-1.1 0-2 .9-2 2v14c0 1.1.9 2 2 2h14c1.1 0 2-.9 2-2V5c0-1.1-.9-2-2-2zM9 17H7v-7h2v7zm4 0h-2V7h2v10zm4 0h-2v-4h2v4z\"/>\n",
              "    </g>\n",
              "</svg>\n",
              "      </button>\n",
              "\n",
              "<style>\n",
              "  .colab-df-quickchart {\n",
              "      --bg-color: #E8F0FE;\n",
              "      --fill-color: #1967D2;\n",
              "      --hover-bg-color: #E2EBFA;\n",
              "      --hover-fill-color: #174EA6;\n",
              "      --disabled-fill-color: #AAA;\n",
              "      --disabled-bg-color: #DDD;\n",
              "  }\n",
              "\n",
              "  [theme=dark] .colab-df-quickchart {\n",
              "      --bg-color: #3B4455;\n",
              "      --fill-color: #D2E3FC;\n",
              "      --hover-bg-color: #434B5C;\n",
              "      --hover-fill-color: #FFFFFF;\n",
              "      --disabled-bg-color: #3B4455;\n",
              "      --disabled-fill-color: #666;\n",
              "  }\n",
              "\n",
              "  .colab-df-quickchart {\n",
              "    background-color: var(--bg-color);\n",
              "    border: none;\n",
              "    border-radius: 50%;\n",
              "    cursor: pointer;\n",
              "    display: none;\n",
              "    fill: var(--fill-color);\n",
              "    height: 32px;\n",
              "    padding: 0;\n",
              "    width: 32px;\n",
              "  }\n",
              "\n",
              "  .colab-df-quickchart:hover {\n",
              "    background-color: var(--hover-bg-color);\n",
              "    box-shadow: 0 1px 2px rgba(60, 64, 67, 0.3), 0 1px 3px 1px rgba(60, 64, 67, 0.15);\n",
              "    fill: var(--button-hover-fill-color);\n",
              "  }\n",
              "\n",
              "  .colab-df-quickchart-complete:disabled,\n",
              "  .colab-df-quickchart-complete:disabled:hover {\n",
              "    background-color: var(--disabled-bg-color);\n",
              "    fill: var(--disabled-fill-color);\n",
              "    box-shadow: none;\n",
              "  }\n",
              "\n",
              "  .colab-df-spinner {\n",
              "    border: 2px solid var(--fill-color);\n",
              "    border-color: transparent;\n",
              "    border-bottom-color: var(--fill-color);\n",
              "    animation:\n",
              "      spin 1s steps(1) infinite;\n",
              "  }\n",
              "\n",
              "  @keyframes spin {\n",
              "    0% {\n",
              "      border-color: transparent;\n",
              "      border-bottom-color: var(--fill-color);\n",
              "      border-left-color: var(--fill-color);\n",
              "    }\n",
              "    20% {\n",
              "      border-color: transparent;\n",
              "      border-left-color: var(--fill-color);\n",
              "      border-top-color: var(--fill-color);\n",
              "    }\n",
              "    30% {\n",
              "      border-color: transparent;\n",
              "      border-left-color: var(--fill-color);\n",
              "      border-top-color: var(--fill-color);\n",
              "      border-right-color: var(--fill-color);\n",
              "    }\n",
              "    40% {\n",
              "      border-color: transparent;\n",
              "      border-right-color: var(--fill-color);\n",
              "      border-top-color: var(--fill-color);\n",
              "    }\n",
              "    60% {\n",
              "      border-color: transparent;\n",
              "      border-right-color: var(--fill-color);\n",
              "    }\n",
              "    80% {\n",
              "      border-color: transparent;\n",
              "      border-right-color: var(--fill-color);\n",
              "      border-bottom-color: var(--fill-color);\n",
              "    }\n",
              "    90% {\n",
              "      border-color: transparent;\n",
              "      border-bottom-color: var(--fill-color);\n",
              "    }\n",
              "  }\n",
              "</style>\n",
              "\n",
              "      <script>\n",
              "        async function quickchart(key) {\n",
              "          const quickchartButtonEl =\n",
              "            document.querySelector('#' + key + ' button');\n",
              "          quickchartButtonEl.disabled = true;  // To prevent multiple clicks.\n",
              "          quickchartButtonEl.classList.add('colab-df-spinner');\n",
              "          try {\n",
              "            const charts = await google.colab.kernel.invokeFunction(\n",
              "                'suggestCharts', [key], {});\n",
              "          } catch (error) {\n",
              "            console.error('Error during call to suggestCharts:', error);\n",
              "          }\n",
              "          quickchartButtonEl.classList.remove('colab-df-spinner');\n",
              "          quickchartButtonEl.classList.add('colab-df-quickchart-complete');\n",
              "        }\n",
              "        (() => {\n",
              "          let quickchartButtonEl =\n",
              "            document.querySelector('#df-6767dadd-29e6-4405-8162-b98e8576d5f0 button');\n",
              "          quickchartButtonEl.style.display =\n",
              "            google.colab.kernel.accessAllowed ? 'block' : 'none';\n",
              "        })();\n",
              "      </script>\n",
              "    </div>\n",
              "\n",
              "    </div>\n",
              "  </div>\n"
            ],
            "application/vnd.google.colaboratory.intrinsic+json": {
              "type": "dataframe"
            }
          },
          "metadata": {},
          "execution_count": 34
        }
      ],
      "source": [
        "type(X_train_cv)\n",
        "import scipy.sparse\n",
        "pd.DataFrame.sparse.from_spmatrix(X_test_cv)"
      ]
    },
    {
      "cell_type": "code",
      "execution_count": 35,
      "metadata": {
        "id": "F-g-pB0L_M2R",
        "colab": {
          "base_uri": "https://localhost:8080/"
        },
        "outputId": "90e5e8c8-23be-46c6-98b1-2dc5265cd686"
      },
      "outputs": [
        {
          "output_type": "stream",
          "name": "stdout",
          "text": [
            "Help on method fit_transform in module sklearn.feature_extraction.text:\n",
            "\n",
            "fit_transform(raw_documents, y=None) method of sklearn.feature_extraction.text.CountVectorizer instance\n",
            "    Learn the vocabulary dictionary and return document-term matrix.\n",
            "    \n",
            "    This is equivalent to fit followed by transform, but more efficiently\n",
            "    implemented.\n",
            "    \n",
            "    Parameters\n",
            "    ----------\n",
            "    raw_documents : iterable\n",
            "        An iterable which generates either str, unicode or file objects.\n",
            "    \n",
            "    y : None\n",
            "        This parameter is ignored.\n",
            "    \n",
            "    Returns\n",
            "    -------\n",
            "    X : array of shape (n_samples, n_features)\n",
            "        Document-term matrix.\n",
            "\n"
          ]
        }
      ],
      "source": [
        "help(cv.fit_transform)"
      ]
    },
    {
      "cell_type": "markdown",
      "metadata": {
        "id": "KS3Im8c0_M2R"
      },
      "source": [
        "## Step 4: Fit model and predict outcomes [Code]"
      ]
    },
    {
      "cell_type": "code",
      "execution_count": 36,
      "metadata": {
        "id": "ekdoA8rf_M2R",
        "colab": {
          "base_uri": "https://localhost:8080/"
        },
        "outputId": "185d7002-718b-46e5-952a-78f6c12afb65"
      },
      "outputs": [
        {
          "output_type": "execute_result",
          "data": {
            "text/plain": [
              "array(['ham', 'ham', 'ham', ..., 'ham', 'spam', 'ham'], dtype=object)"
            ]
          },
          "metadata": {},
          "execution_count": 36
        }
      ],
      "source": [
        "# Use a logistic regression model (categorical)\n",
        "from sklearn.linear_model import LogisticRegression   #complete this\n",
        "lr = LogisticRegression()    #complete this\n",
        "\n",
        "# Train the model\n",
        "lr.fit(X_train_cv, y_train)  #complete this\n",
        "\n",
        "# Take the model that was trained on the X_train_cv data and apply it to the X_test_cv\n",
        "y_pred_cv = lr.predict(X_test_cv)         #complete this\n",
        "y_pred_cv # The output is all of the predictions/ labels"
      ]
    },
    {
      "cell_type": "code",
      "execution_count": 37,
      "metadata": {
        "id": "ExmoFdio6Bxz",
        "colab": {
          "base_uri": "https://localhost:8080/"
        },
        "outputId": "e8c99952-d5ae-4619-faef-9593f314bcc5"
      },
      "outputs": [
        {
          "output_type": "execute_result",
          "data": {
            "text/plain": [
              "['logistic_regression_model.joblib']"
            ]
          },
          "metadata": {},
          "execution_count": 37
        }
      ],
      "source": [
        "joblib.dump(lr, 'logistic_regression_model.joblib')"
      ]
    },
    {
      "cell_type": "markdown",
      "metadata": {
        "id": "DCHg9Bdm_M2S"
      },
      "source": [
        "## Step 5: Evaluate the model"
      ]
    },
    {
      "cell_type": "markdown",
      "metadata": {
        "id": "uPds_0Yc_M2S"
      },
      "source": [
        "![](https://i163.photobucket.com/albums/t281/kyin_album/m5.png)"
      ]
    },
    {
      "cell_type": "markdown",
      "metadata": {
        "id": "hir46DGX_M2S"
      },
      "source": [
        "# Step 5: Evaluate the model [Code]"
      ]
    },
    {
      "cell_type": "code",
      "execution_count": 38,
      "metadata": {
        "id": "c3KZwwpH_M2S",
        "colab": {
          "base_uri": "https://localhost:8080/",
          "height": 537
        },
        "outputId": "f533f382-731d-4d76-9f68-99f51ed5bf76"
      },
      "outputs": [
        {
          "output_type": "stream",
          "name": "stdout",
          "text": [
            "[1448    0]\n",
            "[ 27 197]\n",
            "Accuracy: 0.984\n",
            "Precision: 1.0\n",
            "Recall: 0.879\n",
            "F1 Score: 0.936\n"
          ]
        },
        {
          "output_type": "display_data",
          "data": {
            "text/plain": [
              "<Figure size 640x480 with 2 Axes>"
            ],
            "image/png": "[encoded data removed]"
          },
          "metadata": {}
        }
      ],
      "source": [
        "from sklearn.metrics import confusion_matrix  #complete this\n",
        "import seaborn as sns\n",
        "import matplotlib.pyplot as plt\n",
        "%matplotlib inline\n",
        "\n",
        "#Provided you are running IPython, the %matplotlib inline will make your plot outputs appear and be stored within the notebook\n",
        "cm = confusion_matrix(y_test, y_pred_cv)   #y_test is the label of testing data, y_pred_cv is the predicted ans from the ML with testing set\n",
        "print(cm[0])\n",
        "print(cm[1])\n",
        "sns.heatmap(cm, xticklabels=['predicted_ham', 'predicted_spam'], yticklabels=['actual_ham', 'actual_spam'], annot=True, fmt='d', annot_kws={'fontsize':20}, cmap=\"YlGnBu\");\n",
        "true_neg, false_pos = cm[0]\n",
        "false_neg, true_pos = cm[1]\n",
        "\n",
        "accuracy = round((true_pos + true_neg) / (true_pos + true_neg + false_pos + false_neg),3)\n",
        "precision = round((true_pos) / (true_pos + false_pos),3)\n",
        "recall = round((true_pos) / (true_pos + false_neg),3)\n",
        "f1 = round(2 * (precision * recall) / (precision + recall),3)\n",
        "print('Accuracy: {}'.format(accuracy))\n",
        "print('Precision: {}'.format(precision))\n",
        "print('Recall: {}'.format(recall))\n",
        "print('F1 Score: {}'.format(f1))"
      ]
    },
    {
      "cell_type": "markdown",
      "metadata": {
        "id": "muhACP9j_M2S"
      },
      "source": [
        "## Step 6: Predict new input [Code]"
      ]
    },
    {
      "cell_type": "code",
      "execution_count": 39,
      "metadata": {
        "id": "eyI1BQfT_M2S",
        "colab": {
          "base_uri": "https://localhost:8080/"
        },
        "outputId": "2b23738d-5fcf-43f4-f1b5-a49a2e3974ef"
      },
      "outputs": [
        {
          "output_type": "stream",
          "name": "stdout",
          "text": [
            "['ham']\n"
          ]
        }
      ],
      "source": [
        "import pandas as pd\n",
        "from pandas import DataFrame\n",
        "Sentence1 = [\"Free entry in 2 a wkly comp to win FA Cup final tkts 21st\"]\n",
        "\n",
        "Snew = cv.transform(Sentence1)                       #complete this\n",
        "result = lr.predict(Snew)                      #complete this\n",
        "\n",
        "print(result)"
      ]
    },
    {
      "cell_type": "markdown",
      "metadata": {
        "id": "IBrwdu73_M2T"
      },
      "source": [
        "# <font color=\"blue\"> __Naive Bayes__"
      ]
    },
    {
      "cell_type": "markdown",
      "metadata": {
        "id": "zQQD4dNg_M2T"
      },
      "source": [
        "# Naive Bayes [code]"
      ]
    },
    {
      "cell_type": "code",
      "execution_count": 40,
      "metadata": {
        "id": "9VEvQxB8_M2T",
        "colab": {
          "base_uri": "https://localhost:8080/"
        },
        "outputId": "8af8a92a-53b7-4c88-fb08-486de5762a81"
      },
      "outputs": [
        {
          "output_type": "execute_result",
          "data": {
            "text/plain": [
              "array(['ham', 'ham', 'ham', ..., 'ham', 'spam', 'ham'], dtype='<U4')"
            ]
          },
          "metadata": {},
          "execution_count": 40
        }
      ],
      "source": [
        "# Use a Naive Bayes model\n",
        "from sklearn.naive_bayes import MultinomialNB     #complete this\n",
        "import numpy as np\n",
        "nb = MultinomialNB()\n",
        "\n",
        "# Train the model\n",
        "nb.fit(X_train_cv, y_train)            #complete this\n",
        "\n",
        "# Take the model that was trained on the X_train_cv data and apply it to the X_test_cv\n",
        "y_pred_cv_nb = nb.predict(X_test_cv)       #complete this\n",
        "y_pred_cv_nb # The output is all of the predictions"
      ]
    },
    {
      "cell_type": "markdown",
      "metadata": {
        "id": "UfxP9z8f_M2T"
      },
      "source": [
        "# Naive Bayes: Results"
      ]
    },
    {
      "cell_type": "code",
      "execution_count": 41,
      "metadata": {
        "id": "cXAXX1Yu_M2T",
        "colab": {
          "base_uri": "https://localhost:8080/",
          "height": 501
        },
        "outputId": "a9c58a9e-c0e5-4d9a-ab30-9bc461be3cc1"
      },
      "outputs": [
        {
          "output_type": "stream",
          "name": "stdout",
          "text": [
            "Accuracy: 0.987\n",
            "Precision: 0.955\n",
            "Recall: 0.951\n",
            "F1 Score: 0.953\n"
          ]
        },
        {
          "output_type": "display_data",
          "data": {
            "text/plain": [
              "<Figure size 640x480 with 2 Axes>"
            ],
            "image/png": "[encoded data removed]"
          },
          "metadata": {}
        }
      ],
      "source": [
        "cm = confusion_matrix(y_test, y_pred_cv_nb)\n",
        "sns.heatmap(cm, xticklabels=['predicted_ham', 'predicted_spam'], yticklabels=['actual_ham', 'actual_spam'],\n",
        "annot=True, fmt='d', annot_kws={'fontsize':20}, cmap=\"YlGnBu\");\n",
        "true_neg, false_pos = cm[0]\n",
        "false_neg, true_pos = cm[1]\n",
        "accuracy = round((true_pos + true_neg) / (true_pos + true_neg + false_pos + false_neg),3)\n",
        "precision = round((true_pos) / (true_pos + false_pos),3)\n",
        "recall = round((true_pos) / (true_pos + false_neg),3)\n",
        "f1 = round(2 * (precision * recall) / (precision + recall),3)\n",
        "print('Accuracy: {}'.format(accuracy))\n",
        "print('Precision: {}'.format(precision))\n",
        "print('Recall: {}'.format(recall))\n",
        "print('F1 Score: {}'.format(f1))\n",
        "\n",
        "NBscore = nb.score(X_test_cv, y_test)"
      ]
    },
    {
      "cell_type": "markdown",
      "metadata": {
        "id": "COvb-H09_M2U"
      },
      "source": [
        "# <font color=\"red\"> Machine Learning and NLP Exercises"
      ]
    },
    {
      "cell_type": "markdown",
      "metadata": {
        "id": "MjZKpaYB_M2U"
      },
      "source": [
        "# Introduction\n",
        "\n",
        "We will be using the same review data set from Kaggle for this exercise. The product we'll focus on this time is a cappuccino cup.\n",
        "\n",
        "The following code will help you load in the data.\n"
      ]
    },
    {
      "cell_type": "code",
      "execution_count": 42,
      "metadata": {
        "id": "OE_TXd4P_M2U"
      },
      "outputs": [],
      "source": [
        "import nltk\n",
        "import pandas as pd"
      ]
    },
    {
      "cell_type": "code",
      "execution_count": 44,
      "metadata": {
        "id": "EIpt2oBc_M2U",
        "colab": {
          "base_uri": "https://localhost:8080/",
          "height": 206
        },
        "outputId": "a6782cda-0fdd-46a1-b096-9132ac02b042"
      },
      "outputs": [
        {
          "output_type": "execute_result",
          "data": {
            "text/plain": [
              "          user_id  stars                                            reviews\n",
              "0  A2XP9IN4JOMROD      1  I wanted to love this. I was even prepared for...\n",
              "1  A2TS09JCXNV1VD      5  Grove Square Cappuccino Cups were excellent. T...\n",
              "2   AJ3L5J7GN09SV      2  I bought the Grove Square hazelnut cappuccino ...\n",
              "3  A3CZD34ZTUJME7      1  I love my Keurig, and I love most of the Keuri...\n",
              "4   AWKN396SHAQGP      1  It's a powdered drink. No filter in k-cup.<br ..."
            ],
            "text/html": [
              "\n",
              "  <div id=\"df-912a3166-d849-45b2-9a56-7f313f73958f\" class=\"colab-df-container\">\n",
              "    <div>\n",
              "<style scoped>\n",
              "    .dataframe tbody tr th:only-of-type {\n",
              "        vertical-align: middle;\n",
              "    }\n",
              "\n",
              "    .dataframe tbody tr th {\n",
              "        vertical-align: top;\n",
              "    }\n",
              "\n",
              "    .dataframe thead th {\n",
              "        text-align: right;\n",
              "    }\n",
              "</style>\n",
              "<table border=\"1\" class=\"dataframe\">\n",
              "  <thead>\n",
              "    <tr style=\"text-align: right;\">\n",
              "      <th></th>\n",
              "      <th>user_id</th>\n",
              "      <th>stars</th>\n",
              "      <th>reviews</th>\n",
              "    </tr>\n",
              "  </thead>\n",
              "  <tbody>\n",
              "    <tr>\n",
              "      <th>0</th>\n",
              "      <td>A2XP9IN4JOMROD</td>\n",
              "      <td>1</td>\n",
              "      <td>I wanted to love this. I was even prepared for...</td>\n",
              "    </tr>\n",
              "    <tr>\n",
              "      <th>1</th>\n",
              "      <td>A2TS09JCXNV1VD</td>\n",
              "      <td>5</td>\n",
              "      <td>Grove Square Cappuccino Cups were excellent. T...</td>\n",
              "    </tr>\n",
              "    <tr>\n",
              "      <th>2</th>\n",
              "      <td>AJ3L5J7GN09SV</td>\n",
              "      <td>2</td>\n",
              "      <td>I bought the Grove Square hazelnut cappuccino ...</td>\n",
              "    </tr>\n",
              "    <tr>\n",
              "      <th>3</th>\n",
              "      <td>A3CZD34ZTUJME7</td>\n",
              "      <td>1</td>\n",
              "      <td>I love my Keurig, and I love most of the Keuri...</td>\n",
              "    </tr>\n",
              "    <tr>\n",
              "      <th>4</th>\n",
              "      <td>AWKN396SHAQGP</td>\n",
              "      <td>1</td>\n",
              "      <td>It's a powdered drink. No filter in k-cup.&lt;br ...</td>\n",
              "    </tr>\n",
              "  </tbody>\n",
              "</table>\n",
              "</div>\n",
              "    <div class=\"colab-df-buttons\">\n",
              "\n",
              "  <div class=\"colab-df-container\">\n",
              "    <button class=\"colab-df-convert\" onclick=\"convertToInteractive('df-912a3166-d849-45b2-9a56-7f313f73958f')\"\n",
              "            title=\"Convert this dataframe to an interactive table.\"\n",
              "            style=\"display:none;\">\n",
              "\n",
              "  <svg xmlns=\"http://www.w3.org/2000/svg\" height=\"24px\" viewBox=\"0 -960 960 960\">\n",
              "    <path d=\"M120-120v-720h720v720H120Zm60-500h600v-160H180v160Zm220 220h160v-160H400v160Zm0 220h160v-160H400v160ZM180-400h160v-160H180v160Zm440 0h160v-160H620v160ZM180-180h160v-160H180v160Zm440 0h160v-160H620v160Z\"/>\n",
              "  </svg>\n",
              "    </button>\n",
              "\n",
              "  <style>\n",
              "    .colab-df-container {\n",
              "      display:flex;\n",
              "      gap: 12px;\n",
              "    }\n",
              "\n",
              "    .colab-df-convert {\n",
              "      background-color: #E8F0FE;\n",
              "      border: none;\n",
              "      border-radius: 50%;\n",
              "      cursor: pointer;\n",
              "      display: none;\n",
              "      fill: #1967D2;\n",
              "      height: 32px;\n",
              "      padding: 0 0 0 0;\n",
              "      width: 32px;\n",
              "    }\n",
              "\n",
              "    .colab-df-convert:hover {\n",
              "      background-color: #E2EBFA;\n",
              "      box-shadow: 0px 1px 2px rgba(60, 64, 67, 0.3), 0px 1px 3px 1px rgba(60, 64, 67, 0.15);\n",
              "      fill: #174EA6;\n",
              "    }\n",
              "\n",
              "    .colab-df-buttons div {\n",
              "      margin-bottom: 4px;\n",
              "    }\n",
              "\n",
              "    [theme=dark] .colab-df-convert {\n",
              "      background-color: #3B4455;\n",
              "      fill: #D2E3FC;\n",
              "    }\n",
              "\n",
              "    [theme=dark] .colab-df-convert:hover {\n",
              "      background-color: #434B5C;\n",
              "      box-shadow: 0px 1px 3px 1px rgba(0, 0, 0, 0.15);\n",
              "      filter: drop-shadow(0px 1px 2px rgba(0, 0, 0, 0.3));\n",
              "      fill: #FFFFFF;\n",
              "    }\n",
              "  </style>\n",
              "\n",
              "    <script>\n",
              "      const buttonEl =\n",
              "        document.querySelector('#df-912a3166-d849-45b2-9a56-7f313f73958f button.colab-df-convert');\n",
              "      buttonEl.style.display =\n",
              "        google.colab.kernel.accessAllowed ? 'block' : 'none';\n",
              "\n",
              "      async function convertToInteractive(key) {\n",
              "        const element = document.querySelector('#df-912a3166-d849-45b2-9a56-7f313f73958f');\n",
              "        const dataTable =\n",
              "          await google.colab.kernel.invokeFunction('convertToInteractive',\n",
              "                                                    [key], {});\n",
              "        if (!dataTable) return;\n",
              "\n",
              "        const docLinkHtml = 'Like what you see? Visit the ' +\n",
              "          '<a target=\"_blank\" href=https://colab.research.google.com/notebooks/data_table.ipynb>data table notebook</a>'\n",
              "          + ' to learn more about interactive tables.';\n",
              "        element.innerHTML = '';\n",
              "        dataTable['output_type'] = 'display_data';\n",
              "        await google.colab.output.renderOutput(dataTable, element);\n",
              "        const docLink = document.createElement('div');\n",
              "        docLink.innerHTML = docLinkHtml;\n",
              "        element.appendChild(docLink);\n",
              "      }\n",
              "    </script>\n",
              "  </div>\n",
              "\n",
              "\n",
              "    <div id=\"df-043c65cf-711e-4aaa-af5d-74680c71d881\">\n",
              "      <button class=\"colab-df-quickchart\" onclick=\"quickchart('df-043c65cf-711e-4aaa-af5d-74680c71d881')\"\n",
              "                title=\"Suggest charts\"\n",
              "                style=\"display:none;\">\n",
              "\n",
              "<svg xmlns=\"http://www.w3.org/2000/svg\" height=\"24px\"viewBox=\"0 0 24 24\"\n",
              "     width=\"24px\">\n",
              "    <g>\n",
              "        <path d=\"M19 3H5c-1.1 0-2 .9-2 2v14c0 1.1.9 2 2 2h14c1.1 0 2-.9 2-2V5c0-1.1-.9-2-2-2zM9 17H7v-7h2v7zm4 0h-2V7h2v10zm4 0h-2v-4h2v4z\"/>\n",
              "    </g>\n",
              "</svg>\n",
              "      </button>\n",
              "\n",
              "<style>\n",
              "  .colab-df-quickchart {\n",
              "      --bg-color: #E8F0FE;\n",
              "      --fill-color: #1967D2;\n",
              "      --hover-bg-color: #E2EBFA;\n",
              "      --hover-fill-color: #174EA6;\n",
              "      --disabled-fill-color: #AAA;\n",
              "      --disabled-bg-color: #DDD;\n",
              "  }\n",
              "\n",
              "  [theme=dark] .colab-df-quickchart {\n",
              "      --bg-color: #3B4455;\n",
              "      --fill-color: #D2E3FC;\n",
              "      --hover-bg-color: #434B5C;\n",
              "      --hover-fill-color: #FFFFFF;\n",
              "      --disabled-bg-color: #3B4455;\n",
              "      --disabled-fill-color: #666;\n",
              "  }\n",
              "\n",
              "  .colab-df-quickchart {\n",
              "    background-color: var(--bg-color);\n",
              "    border: none;\n",
              "    border-radius: 50%;\n",
              "    cursor: pointer;\n",
              "    display: none;\n",
              "    fill: var(--fill-color);\n",
              "    height: 32px;\n",
              "    padding: 0;\n",
              "    width: 32px;\n",
              "  }\n",
              "\n",
              "  .colab-df-quickchart:hover {\n",
              "    background-color: var(--hover-bg-color);\n",
              "    box-shadow: 0 1px 2px rgba(60, 64, 67, 0.3), 0 1px 3px 1px rgba(60, 64, 67, 0.15);\n",
              "    fill: var(--button-hover-fill-color);\n",
              "  }\n",
              "\n",
              "  .colab-df-quickchart-complete:disabled,\n",
              "  .colab-df-quickchart-complete:disabled:hover {\n",
              "    background-color: var(--disabled-bg-color);\n",
              "    fill: var(--disabled-fill-color);\n",
              "    box-shadow: none;\n",
              "  }\n",
              "\n",
              "  .colab-df-spinner {\n",
              "    border: 2px solid var(--fill-color);\n",
              "    border-color: transparent;\n",
              "    border-bottom-color: var(--fill-color);\n",
              "    animation:\n",
              "      spin 1s steps(1) infinite;\n",
              "  }\n",
              "\n",
              "  @keyframes spin {\n",
              "    0% {\n",
              "      border-color: transparent;\n",
              "      border-bottom-color: var(--fill-color);\n",
              "      border-left-color: var(--fill-color);\n",
              "    }\n",
              "    20% {\n",
              "      border-color: transparent;\n",
              "      border-left-color: var(--fill-color);\n",
              "      border-top-color: var(--fill-color);\n",
              "    }\n",
              "    30% {\n",
              "      border-color: transparent;\n",
              "      border-left-color: var(--fill-color);\n",
              "      border-top-color: var(--fill-color);\n",
              "      border-right-color: var(--fill-color);\n",
              "    }\n",
              "    40% {\n",
              "      border-color: transparent;\n",
              "      border-right-color: var(--fill-color);\n",
              "      border-top-color: var(--fill-color);\n",
              "    }\n",
              "    60% {\n",
              "      border-color: transparent;\n",
              "      border-right-color: var(--fill-color);\n",
              "    }\n",
              "    80% {\n",
              "      border-color: transparent;\n",
              "      border-right-color: var(--fill-color);\n",
              "      border-bottom-color: var(--fill-color);\n",
              "    }\n",
              "    90% {\n",
              "      border-color: transparent;\n",
              "      border-bottom-color: var(--fill-color);\n",
              "    }\n",
              "  }\n",
              "</style>\n",
              "\n",
              "      <script>\n",
              "        async function quickchart(key) {\n",
              "          const quickchartButtonEl =\n",
              "            document.querySelector('#' + key + ' button');\n",
              "          quickchartButtonEl.disabled = true;  // To prevent multiple clicks.\n",
              "          quickchartButtonEl.classList.add('colab-df-spinner');\n",
              "          try {\n",
              "            const charts = await google.colab.kernel.invokeFunction(\n",
              "                'suggestCharts', [key], {});\n",
              "          } catch (error) {\n",
              "            console.error('Error during call to suggestCharts:', error);\n",
              "          }\n",
              "          quickchartButtonEl.classList.remove('colab-df-spinner');\n",
              "          quickchartButtonEl.classList.add('colab-df-quickchart-complete');\n",
              "        }\n",
              "        (() => {\n",
              "          let quickchartButtonEl =\n",
              "            document.querySelector('#df-043c65cf-711e-4aaa-af5d-74680c71d881 button');\n",
              "          quickchartButtonEl.style.display =\n",
              "            google.colab.kernel.accessAllowed ? 'block' : 'none';\n",
              "        })();\n",
              "      </script>\n",
              "    </div>\n",
              "\n",
              "    </div>\n",
              "  </div>\n"
            ],
            "application/vnd.google.colaboratory.intrinsic+json": {
              "type": "dataframe",
              "variable_name": "data",
              "summary": "{\n  \"name\": \"data\",\n  \"rows\": 542,\n  \"fields\": [\n    {\n      \"column\": \"user_id\",\n      \"properties\": {\n        \"dtype\": \"string\",\n        \"num_unique_values\": 524,\n        \"samples\": [\n          \"A2TDEZDL5BZ6IC\",\n          \"A17VG0CLMVSSBH\",\n          \"A1LR5HPNQLH4RI\"\n        ],\n        \"semantic_type\": \"\",\n        \"description\": \"\"\n      }\n    },\n    {\n      \"column\": \"stars\",\n      \"properties\": {\n        \"dtype\": \"number\",\n        \"std\": 1,\n        \"min\": 1,\n        \"max\": 5,\n        \"num_unique_values\": 5,\n        \"samples\": [\n          5,\n          4,\n          2\n        ],\n        \"semantic_type\": \"\",\n        \"description\": \"\"\n      }\n    },\n    {\n      \"column\": \"reviews\",\n      \"properties\": {\n        \"dtype\": \"string\",\n        \"num_unique_values\": 541,\n        \"samples\": [\n          \"Sucralose aka Splenda is an artificial sweetener.<br />I do not buy any artificially sweetened product knowingly.<br />Unfortunately I did not see this on the ingredient list.<br />Luckily I can taste it (yuck) and dumped it.<br /><br />The Chai Latte is another one that is artificially sweetened.\",\n          \"This is a product that we will use again as it was a quick way to create a drink that satisfied the need for a casual cup of refreshment.\",\n          \"ABSOLUTELY DELICIOUS!!!  CREAMY...NOT TOO SWEET...SUBTLE FRENCH VANILLA FLAVOR.....YUMMY. HAVE HAD A 24 CT BOX IN OUR OFFICE FOR A WEEK AND THEY'RE NEARLY GONE. EVERYBODY LOVES IT.\"\n        ],\n        \"semantic_type\": \"\",\n        \"description\": \"\"\n      }\n    }\n  ]\n}"
            }
          },
          "metadata": {},
          "execution_count": 44
        }
      ],
      "source": [
        "data = pd.read_csv('coffee.csv')    #complete this\n",
        "data.head()"
      ]
    },
    {
      "cell_type": "markdown",
      "metadata": {
        "id": "VngrUEeE_M2U"
      },
      "source": [
        "# Question 1\n",
        "\n",
        "- Determine how many reviews there are in total.\n",
        "\n",
        "\n",
        "Use the preprocessing code below to clean the reviews data before moving on to modeling.\n"
      ]
    },
    {
      "cell_type": "code",
      "execution_count": 45,
      "metadata": {
        "id": "J4rA-xhA_M2V",
        "colab": {
          "base_uri": "https://localhost:8080/",
          "height": 206
        },
        "outputId": "196772c0-df23-43c9-8c8b-43f071ee3741"
      },
      "outputs": [
        {
          "output_type": "execute_result",
          "data": {
            "text/plain": [
              "          user_id  stars                                            reviews\n",
              "0  A2XP9IN4JOMROD      1  I wanted to love this. I was even prepared for...\n",
              "1  A2TS09JCXNV1VD      5  Grove Square Cappuccino Cups were excellent. T...\n",
              "2   AJ3L5J7GN09SV      2  I bought the Grove Square hazelnut cappuccino ...\n",
              "3  A3CZD34ZTUJME7      1  I love my Keurig, and I love most of the Keuri...\n",
              "4   AWKN396SHAQGP      1  It's a powdered drink. No filter in k-cup.<br ..."
            ],
            "text/html": [
              "\n",
              "  <div id=\"df-0b6bffb7-e6ad-4f69-b862-23916d83bca6\" class=\"colab-df-container\">\n",
              "    <div>\n",
              "<style scoped>\n",
              "    .dataframe tbody tr th:only-of-type {\n",
              "        vertical-align: middle;\n",
              "    }\n",
              "\n",
              "    .dataframe tbody tr th {\n",
              "        vertical-align: top;\n",
              "    }\n",
              "\n",
              "    .dataframe thead th {\n",
              "        text-align: right;\n",
              "    }\n",
              "</style>\n",
              "<table border=\"1\" class=\"dataframe\">\n",
              "  <thead>\n",
              "    <tr style=\"text-align: right;\">\n",
              "      <th></th>\n",
              "      <th>user_id</th>\n",
              "      <th>stars</th>\n",
              "      <th>reviews</th>\n",
              "    </tr>\n",
              "  </thead>\n",
              "  <tbody>\n",
              "    <tr>\n",
              "      <th>0</th>\n",
              "      <td>A2XP9IN4JOMROD</td>\n",
              "      <td>1</td>\n",
              "      <td>I wanted to love this. I was even prepared for...</td>\n",
              "    </tr>\n",
              "    <tr>\n",
              "      <th>1</th>\n",
              "      <td>A2TS09JCXNV1VD</td>\n",
              "      <td>5</td>\n",
              "      <td>Grove Square Cappuccino Cups were excellent. T...</td>\n",
              "    </tr>\n",
              "    <tr>\n",
              "      <th>2</th>\n",
              "      <td>AJ3L5J7GN09SV</td>\n",
              "      <td>2</td>\n",
              "      <td>I bought the Grove Square hazelnut cappuccino ...</td>\n",
              "    </tr>\n",
              "    <tr>\n",
              "      <th>3</th>\n",
              "      <td>A3CZD34ZTUJME7</td>\n",
              "      <td>1</td>\n",
              "      <td>I love my Keurig, and I love most of the Keuri...</td>\n",
              "    </tr>\n",
              "    <tr>\n",
              "      <th>4</th>\n",
              "      <td>AWKN396SHAQGP</td>\n",
              "      <td>1</td>\n",
              "      <td>It's a powdered drink. No filter in k-cup.&lt;br ...</td>\n",
              "    </tr>\n",
              "  </tbody>\n",
              "</table>\n",
              "</div>\n",
              "    <div class=\"colab-df-buttons\">\n",
              "\n",
              "  <div class=\"colab-df-container\">\n",
              "    <button class=\"colab-df-convert\" onclick=\"convertToInteractive('df-0b6bffb7-e6ad-4f69-b862-23916d83bca6')\"\n",
              "            title=\"Convert this dataframe to an interactive table.\"\n",
              "            style=\"display:none;\">\n",
              "\n",
              "  <svg xmlns=\"http://www.w3.org/2000/svg\" height=\"24px\" viewBox=\"0 -960 960 960\">\n",
              "    <path d=\"M120-120v-720h720v720H120Zm60-500h600v-160H180v160Zm220 220h160v-160H400v160Zm0 220h160v-160H400v160ZM180-400h160v-160H180v160Zm440 0h160v-160H620v160ZM180-180h160v-160H180v160Zm440 0h160v-160H620v160Z\"/>\n",
              "  </svg>\n",
              "    </button>\n",
              "\n",
              "  <style>\n",
              "    .colab-df-container {\n",
              "      display:flex;\n",
              "      gap: 12px;\n",
              "    }\n",
              "\n",
              "    .colab-df-convert {\n",
              "      background-color: #E8F0FE;\n",
              "      border: none;\n",
              "      border-radius: 50%;\n",
              "      cursor: pointer;\n",
              "      display: none;\n",
              "      fill: #1967D2;\n",
              "      height: 32px;\n",
              "      padding: 0 0 0 0;\n",
              "      width: 32px;\n",
              "    }\n",
              "\n",
              "    .colab-df-convert:hover {\n",
              "      background-color: #E2EBFA;\n",
              "      box-shadow: 0px 1px 2px rgba(60, 64, 67, 0.3), 0px 1px 3px 1px rgba(60, 64, 67, 0.15);\n",
              "      fill: #174EA6;\n",
              "    }\n",
              "\n",
              "    .colab-df-buttons div {\n",
              "      margin-bottom: 4px;\n",
              "    }\n",
              "\n",
              "    [theme=dark] .colab-df-convert {\n",
              "      background-color: #3B4455;\n",
              "      fill: #D2E3FC;\n",
              "    }\n",
              "\n",
              "    [theme=dark] .colab-df-convert:hover {\n",
              "      background-color: #434B5C;\n",
              "      box-shadow: 0px 1px 3px 1px rgba(0, 0, 0, 0.15);\n",
              "      filter: drop-shadow(0px 1px 2px rgba(0, 0, 0, 0.3));\n",
              "      fill: #FFFFFF;\n",
              "    }\n",
              "  </style>\n",
              "\n",
              "    <script>\n",
              "      const buttonEl =\n",
              "        document.querySelector('#df-0b6bffb7-e6ad-4f69-b862-23916d83bca6 button.colab-df-convert');\n",
              "      buttonEl.style.display =\n",
              "        google.colab.kernel.accessAllowed ? 'block' : 'none';\n",
              "\n",
              "      async function convertToInteractive(key) {\n",
              "        const element = document.querySelector('#df-0b6bffb7-e6ad-4f69-b862-23916d83bca6');\n",
              "        const dataTable =\n",
              "          await google.colab.kernel.invokeFunction('convertToInteractive',\n",
              "                                                    [key], {});\n",
              "        if (!dataTable) return;\n",
              "\n",
              "        const docLinkHtml = 'Like what you see? Visit the ' +\n",
              "          '<a target=\"_blank\" href=https://colab.research.google.com/notebooks/data_table.ipynb>data table notebook</a>'\n",
              "          + ' to learn more about interactive tables.';\n",
              "        element.innerHTML = '';\n",
              "        dataTable['output_type'] = 'display_data';\n",
              "        await google.colab.output.renderOutput(dataTable, element);\n",
              "        const docLink = document.createElement('div');\n",
              "        docLink.innerHTML = docLinkHtml;\n",
              "        element.appendChild(docLink);\n",
              "      }\n",
              "    </script>\n",
              "  </div>\n",
              "\n",
              "\n",
              "    <div id=\"df-33f6be72-9b32-45e8-bcd7-09d88a6f5ff3\">\n",
              "      <button class=\"colab-df-quickchart\" onclick=\"quickchart('df-33f6be72-9b32-45e8-bcd7-09d88a6f5ff3')\"\n",
              "                title=\"Suggest charts\"\n",
              "                style=\"display:none;\">\n",
              "\n",
              "<svg xmlns=\"http://www.w3.org/2000/svg\" height=\"24px\"viewBox=\"0 0 24 24\"\n",
              "     width=\"24px\">\n",
              "    <g>\n",
              "        <path d=\"M19 3H5c-1.1 0-2 .9-2 2v14c0 1.1.9 2 2 2h14c1.1 0 2-.9 2-2V5c0-1.1-.9-2-2-2zM9 17H7v-7h2v7zm4 0h-2V7h2v10zm4 0h-2v-4h2v4z\"/>\n",
              "    </g>\n",
              "</svg>\n",
              "      </button>\n",
              "\n",
              "<style>\n",
              "  .colab-df-quickchart {\n",
              "      --bg-color: #E8F0FE;\n",
              "      --fill-color: #1967D2;\n",
              "      --hover-bg-color: #E2EBFA;\n",
              "      --hover-fill-color: #174EA6;\n",
              "      --disabled-fill-color: #AAA;\n",
              "      --disabled-bg-color: #DDD;\n",
              "  }\n",
              "\n",
              "  [theme=dark] .colab-df-quickchart {\n",
              "      --bg-color: #3B4455;\n",
              "      --fill-color: #D2E3FC;\n",
              "      --hover-bg-color: #434B5C;\n",
              "      --hover-fill-color: #FFFFFF;\n",
              "      --disabled-bg-color: #3B4455;\n",
              "      --disabled-fill-color: #666;\n",
              "  }\n",
              "\n",
              "  .colab-df-quickchart {\n",
              "    background-color: var(--bg-color);\n",
              "    border: none;\n",
              "    border-radius: 50%;\n",
              "    cursor: pointer;\n",
              "    display: none;\n",
              "    fill: var(--fill-color);\n",
              "    height: 32px;\n",
              "    padding: 0;\n",
              "    width: 32px;\n",
              "  }\n",
              "\n",
              "  .colab-df-quickchart:hover {\n",
              "    background-color: var(--hover-bg-color);\n",
              "    box-shadow: 0 1px 2px rgba(60, 64, 67, 0.3), 0 1px 3px 1px rgba(60, 64, 67, 0.15);\n",
              "    fill: var(--button-hover-fill-color);\n",
              "  }\n",
              "\n",
              "  .colab-df-quickchart-complete:disabled,\n",
              "  .colab-df-quickchart-complete:disabled:hover {\n",
              "    background-color: var(--disabled-bg-color);\n",
              "    fill: var(--disabled-fill-color);\n",
              "    box-shadow: none;\n",
              "  }\n",
              "\n",
              "  .colab-df-spinner {\n",
              "    border: 2px solid var(--fill-color);\n",
              "    border-color: transparent;\n",
              "    border-bottom-color: var(--fill-color);\n",
              "    animation:\n",
              "      spin 1s steps(1) infinite;\n",
              "  }\n",
              "\n",
              "  @keyframes spin {\n",
              "    0% {\n",
              "      border-color: transparent;\n",
              "      border-bottom-color: var(--fill-color);\n",
              "      border-left-color: var(--fill-color);\n",
              "    }\n",
              "    20% {\n",
              "      border-color: transparent;\n",
              "      border-left-color: var(--fill-color);\n",
              "      border-top-color: var(--fill-color);\n",
              "    }\n",
              "    30% {\n",
              "      border-color: transparent;\n",
              "      border-left-color: var(--fill-color);\n",
              "      border-top-color: var(--fill-color);\n",
              "      border-right-color: var(--fill-color);\n",
              "    }\n",
              "    40% {\n",
              "      border-color: transparent;\n",
              "      border-right-color: var(--fill-color);\n",
              "      border-top-color: var(--fill-color);\n",
              "    }\n",
              "    60% {\n",
              "      border-color: transparent;\n",
              "      border-right-color: var(--fill-color);\n",
              "    }\n",
              "    80% {\n",
              "      border-color: transparent;\n",
              "      border-right-color: var(--fill-color);\n",
              "      border-bottom-color: var(--fill-color);\n",
              "    }\n",
              "    90% {\n",
              "      border-color: transparent;\n",
              "      border-bottom-color: var(--fill-color);\n",
              "    }\n",
              "  }\n",
              "</style>\n",
              "\n",
              "      <script>\n",
              "        async function quickchart(key) {\n",
              "          const quickchartButtonEl =\n",
              "            document.querySelector('#' + key + ' button');\n",
              "          quickchartButtonEl.disabled = true;  // To prevent multiple clicks.\n",
              "          quickchartButtonEl.classList.add('colab-df-spinner');\n",
              "          try {\n",
              "            const charts = await google.colab.kernel.invokeFunction(\n",
              "                'suggestCharts', [key], {});\n",
              "          } catch (error) {\n",
              "            console.error('Error during call to suggestCharts:', error);\n",
              "          }\n",
              "          quickchartButtonEl.classList.remove('colab-df-spinner');\n",
              "          quickchartButtonEl.classList.add('colab-df-quickchart-complete');\n",
              "        }\n",
              "        (() => {\n",
              "          let quickchartButtonEl =\n",
              "            document.querySelector('#df-33f6be72-9b32-45e8-bcd7-09d88a6f5ff3 button');\n",
              "          quickchartButtonEl.style.display =\n",
              "            google.colab.kernel.accessAllowed ? 'block' : 'none';\n",
              "        })();\n",
              "      </script>\n",
              "    </div>\n",
              "\n",
              "    </div>\n",
              "  </div>\n"
            ],
            "application/vnd.google.colaboratory.intrinsic+json": {
              "type": "dataframe",
              "variable_name": "data",
              "summary": "{\n  \"name\": \"data\",\n  \"rows\": 542,\n  \"fields\": [\n    {\n      \"column\": \"user_id\",\n      \"properties\": {\n        \"dtype\": \"string\",\n        \"num_unique_values\": 524,\n        \"samples\": [\n          \"A2TDEZDL5BZ6IC\",\n          \"A17VG0CLMVSSBH\",\n          \"A1LR5HPNQLH4RI\"\n        ],\n        \"semantic_type\": \"\",\n        \"description\": \"\"\n      }\n    },\n    {\n      \"column\": \"stars\",\n      \"properties\": {\n        \"dtype\": \"number\",\n        \"std\": 1,\n        \"min\": 1,\n        \"max\": 5,\n        \"num_unique_values\": 5,\n        \"samples\": [\n          5,\n          4,\n          2\n        ],\n        \"semantic_type\": \"\",\n        \"description\": \"\"\n      }\n    },\n    {\n      \"column\": \"reviews\",\n      \"properties\": {\n        \"dtype\": \"string\",\n        \"num_unique_values\": 541,\n        \"samples\": [\n          \"Sucralose aka Splenda is an artificial sweetener.<br />I do not buy any artificially sweetened product knowingly.<br />Unfortunately I did not see this on the ingredient list.<br />Luckily I can taste it (yuck) and dumped it.<br /><br />The Chai Latte is another one that is artificially sweetened.\",\n          \"This is a product that we will use again as it was a quick way to create a drink that satisfied the need for a casual cup of refreshment.\",\n          \"ABSOLUTELY DELICIOUS!!!  CREAMY...NOT TOO SWEET...SUBTLE FRENCH VANILLA FLAVOR.....YUMMY. HAVE HAD A 24 CT BOX IN OUR OFFICE FOR A WEEK AND THEY'RE NEARLY GONE. EVERYBODY LOVES IT.\"\n        ],\n        \"semantic_type\": \"\",\n        \"description\": \"\"\n      }\n    }\n  ]\n}"
            }
          },
          "metadata": {},
          "execution_count": 45
        }
      ],
      "source": [
        "# Text preprocessing steps - remove numbers, captial letters and punctuation\n",
        "import re\n",
        "import string\n",
        "\n",
        "alphanumeric = lambda x: re.sub(r\"\"\"\\w*\\d\\w*\"\"\", ' ', x)\n",
        "punc_lower = lambda x: re.sub('[%s]' % re.escape(string.punctuation), ' ', x.lower())\n",
        "\n",
        "# data['reviews'] = data.reviews.map(alphanumeric).map(punc_lower)\n",
        "data.head()"
      ]
    },
    {
      "cell_type": "code",
      "execution_count": 46,
      "metadata": {
        "id": "hXewp_k2_M2V",
        "colab": {
          "base_uri": "https://localhost:8080/",
          "height": 204
        },
        "outputId": "89118b32-ca4b-40f2-f2a9-a6ad6920feda"
      },
      "outputs": [
        {
          "output_type": "execute_result",
          "data": {
            "text/plain": [
              "pandas.core.frame.DataFrame"
            ],
            "text/html": [
              "<div style=\"max-width:800px; border: 1px solid var(--colab-border-color);\"><style>\n",
              "      pre.function-repr-contents {\n",
              "        overflow-x: auto;\n",
              "        padding: 8px 12px;\n",
              "        max-height: 500px;\n",
              "      }\n",
              "\n",
              "      pre.function-repr-contents.function-repr-contents-collapsed {\n",
              "        cursor: pointer;\n",
              "        max-height: 100px;\n",
              "      }\n",
              "    </style>\n",
              "    <pre style=\"white-space: initial; background:\n",
              "         var(--colab-secondary-surface-color); padding: 8px 12px;\n",
              "         border-bottom: 1px solid var(--colab-border-color);\"><b>pandas.core.frame.DataFrame</b><br/>def __init__(data=None, index: Axes | None=None, columns: Axes | None=None, dtype: Dtype | None=None, copy: bool | None=None) -&gt; None</pre><pre class=\"function-repr-contents function-repr-contents-collapsed\" style=\"\"><a class=\"filepath\" style=\"display:none\" href=\"#\">/usr/local/lib/python3.11/dist-packages/pandas/core/frame.py</a>Two-dimensional, size-mutable, potentially heterogeneous tabular data.\n",
              "\n",
              "Data structure also contains labeled axes (rows and columns).\n",
              "Arithmetic operations align on both row and column labels. Can be\n",
              "thought of as a dict-like container for Series objects. The primary\n",
              "pandas data structure.\n",
              "\n",
              "Parameters\n",
              "----------\n",
              "data : ndarray (structured or homogeneous), Iterable, dict, or DataFrame\n",
              "    Dict can contain Series, arrays, constants, dataclass or list-like objects. If\n",
              "    data is a dict, column order follows insertion-order. If a dict contains Series\n",
              "    which have an index defined, it is aligned by its index. This alignment also\n",
              "    occurs if data is a Series or a DataFrame itself. Alignment is done on\n",
              "    Series/DataFrame inputs.\n",
              "\n",
              "    If data is a list of dicts, column order follows insertion-order.\n",
              "\n",
              "index : Index or array-like\n",
              "    Index to use for resulting frame. Will default to RangeIndex if\n",
              "    no indexing information part of input data and no index provided.\n",
              "columns : Index or array-like\n",
              "    Column labels to use for resulting frame when data does not have them,\n",
              "    defaulting to RangeIndex(0, 1, 2, ..., n). If data contains column labels,\n",
              "    will perform column selection instead.\n",
              "dtype : dtype, default None\n",
              "    Data type to force. Only a single dtype is allowed. If None, infer.\n",
              "copy : bool or None, default None\n",
              "    Copy data from inputs.\n",
              "    For dict data, the default of None behaves like ``copy=True``.  For DataFrame\n",
              "    or 2d ndarray input, the default of None behaves like ``copy=False``.\n",
              "    If data is a dict containing one or more Series (possibly of different dtypes),\n",
              "    ``copy=False`` will ensure that these inputs are not copied.\n",
              "\n",
              "    .. versionchanged:: 1.3.0\n",
              "\n",
              "See Also\n",
              "--------\n",
              "DataFrame.from_records : Constructor from tuples, also record arrays.\n",
              "DataFrame.from_dict : From dicts of Series, arrays, or dicts.\n",
              "read_csv : Read a comma-separated values (csv) file into DataFrame.\n",
              "read_table : Read general delimited file into DataFrame.\n",
              "read_clipboard : Read text from clipboard into DataFrame.\n",
              "\n",
              "Notes\n",
              "-----\n",
              "Please reference the :ref:`User Guide &lt;basics.dataframe&gt;` for more information.\n",
              "\n",
              "Examples\n",
              "--------\n",
              "Constructing DataFrame from a dictionary.\n",
              "\n",
              "&gt;&gt;&gt; d = {&#x27;col1&#x27;: [1, 2], &#x27;col2&#x27;: [3, 4]}\n",
              "&gt;&gt;&gt; df = pd.DataFrame(data=d)\n",
              "&gt;&gt;&gt; df\n",
              "   col1  col2\n",
              "0     1     3\n",
              "1     2     4\n",
              "\n",
              "Notice that the inferred dtype is int64.\n",
              "\n",
              "&gt;&gt;&gt; df.dtypes\n",
              "col1    int64\n",
              "col2    int64\n",
              "dtype: object\n",
              "\n",
              "To enforce a single dtype:\n",
              "\n",
              "&gt;&gt;&gt; df = pd.DataFrame(data=d, dtype=np.int8)\n",
              "&gt;&gt;&gt; df.dtypes\n",
              "col1    int8\n",
              "col2    int8\n",
              "dtype: object\n",
              "\n",
              "Constructing DataFrame from a dictionary including Series:\n",
              "\n",
              "&gt;&gt;&gt; d = {&#x27;col1&#x27;: [0, 1, 2, 3], &#x27;col2&#x27;: pd.Series([2, 3], index=[2, 3])}\n",
              "&gt;&gt;&gt; pd.DataFrame(data=d, index=[0, 1, 2, 3])\n",
              "   col1  col2\n",
              "0     0   NaN\n",
              "1     1   NaN\n",
              "2     2   2.0\n",
              "3     3   3.0\n",
              "\n",
              "Constructing DataFrame from numpy ndarray:\n",
              "\n",
              "&gt;&gt;&gt; df2 = pd.DataFrame(np.array([[1, 2, 3], [4, 5, 6], [7, 8, 9]]),\n",
              "...                    columns=[&#x27;a&#x27;, &#x27;b&#x27;, &#x27;c&#x27;])\n",
              "&gt;&gt;&gt; df2\n",
              "   a  b  c\n",
              "0  1  2  3\n",
              "1  4  5  6\n",
              "2  7  8  9\n",
              "\n",
              "Constructing DataFrame from a numpy ndarray that has labeled columns:\n",
              "\n",
              "&gt;&gt;&gt; data = np.array([(1, 2, 3), (4, 5, 6), (7, 8, 9)],\n",
              "...                 dtype=[(&quot;a&quot;, &quot;i4&quot;), (&quot;b&quot;, &quot;i4&quot;), (&quot;c&quot;, &quot;i4&quot;)])\n",
              "&gt;&gt;&gt; df3 = pd.DataFrame(data, columns=[&#x27;c&#x27;, &#x27;a&#x27;])\n",
              "...\n",
              "&gt;&gt;&gt; df3\n",
              "   c  a\n",
              "0  3  1\n",
              "1  6  4\n",
              "2  9  7\n",
              "\n",
              "Constructing DataFrame from dataclass:\n",
              "\n",
              "&gt;&gt;&gt; from dataclasses import make_dataclass\n",
              "&gt;&gt;&gt; Point = make_dataclass(&quot;Point&quot;, [(&quot;x&quot;, int), (&quot;y&quot;, int)])\n",
              "&gt;&gt;&gt; pd.DataFrame([Point(0, 0), Point(0, 3), Point(2, 3)])\n",
              "   x  y\n",
              "0  0  0\n",
              "1  0  3\n",
              "2  2  3\n",
              "\n",
              "Constructing DataFrame from Series/DataFrame:\n",
              "\n",
              "&gt;&gt;&gt; ser = pd.Series([1, 2, 3], index=[&quot;a&quot;, &quot;b&quot;, &quot;c&quot;])\n",
              "&gt;&gt;&gt; df = pd.DataFrame(data=ser, index=[&quot;a&quot;, &quot;c&quot;])\n",
              "&gt;&gt;&gt; df\n",
              "   0\n",
              "a  1\n",
              "c  3\n",
              "\n",
              "&gt;&gt;&gt; df1 = pd.DataFrame([1, 2, 3], index=[&quot;a&quot;, &quot;b&quot;, &quot;c&quot;], columns=[&quot;x&quot;])\n",
              "&gt;&gt;&gt; df2 = pd.DataFrame(data=df1, index=[&quot;a&quot;, &quot;c&quot;])\n",
              "&gt;&gt;&gt; df2\n",
              "   x\n",
              "a  1\n",
              "c  3</pre>\n",
              "      <script>\n",
              "      if (google.colab.kernel.accessAllowed && google.colab.files && google.colab.files.view) {\n",
              "        for (const element of document.querySelectorAll('.filepath')) {\n",
              "          element.style.display = 'block'\n",
              "          element.onclick = (event) => {\n",
              "            event.preventDefault();\n",
              "            event.stopPropagation();\n",
              "            google.colab.files.view(element.textContent, 509);\n",
              "          };\n",
              "        }\n",
              "      }\n",
              "      for (const element of document.querySelectorAll('.function-repr-contents')) {\n",
              "        element.onclick = (event) => {\n",
              "          event.preventDefault();\n",
              "          event.stopPropagation();\n",
              "          element.classList.toggle('function-repr-contents-collapsed');\n",
              "        };\n",
              "      }\n",
              "      </script>\n",
              "      </div>"
            ]
          },
          "metadata": {},
          "execution_count": 46
        }
      ],
      "source": [
        "type(data)"
      ]
    },
    {
      "cell_type": "markdown",
      "metadata": {
        "id": "1zJ7gQiN_M2V"
      },
      "source": [
        "# Question 2: Classsification *(20% testing, 80% training)*\n",
        "\n",
        "Processes for classification"
      ]
    },
    {
      "cell_type": "markdown",
      "metadata": {
        "id": "6DzMCwA6_M2V"
      },
      "source": [
        "### <font color=\"Blue\">Step 1:</font> Prepare the data (identify the feature and label)"
      ]
    },
    {
      "cell_type": "code",
      "execution_count": 47,
      "metadata": {
        "id": "4QmNMBni_M2V",
        "colab": {
          "base_uri": "https://localhost:8080/",
          "height": 241
        },
        "outputId": "f3478fb8-9bf5-4fc0-dd3e-f47c013723fc"
      },
      "outputs": [
        {
          "output_type": "execute_result",
          "data": {
            "text/plain": [
              "0    I wanted to love this. I was even prepared for...\n",
              "1    Grove Square Cappuccino Cups were excellent. T...\n",
              "2    I bought the Grove Square hazelnut cappuccino ...\n",
              "3    I love my Keurig, and I love most of the Keuri...\n",
              "4    It's a powdered drink. No filter in k-cup.<br ...\n",
              "Name: reviews, dtype: object"
            ],
            "text/html": [
              "<div>\n",
              "<style scoped>\n",
              "    .dataframe tbody tr th:only-of-type {\n",
              "        vertical-align: middle;\n",
              "    }\n",
              "\n",
              "    .dataframe tbody tr th {\n",
              "        vertical-align: top;\n",
              "    }\n",
              "\n",
              "    .dataframe thead th {\n",
              "        text-align: right;\n",
              "    }\n",
              "</style>\n",
              "<table border=\"1\" class=\"dataframe\">\n",
              "  <thead>\n",
              "    <tr style=\"text-align: right;\">\n",
              "      <th></th>\n",
              "      <th>reviews</th>\n",
              "    </tr>\n",
              "  </thead>\n",
              "  <tbody>\n",
              "    <tr>\n",
              "      <th>0</th>\n",
              "      <td>I wanted to love this. I was even prepared for...</td>\n",
              "    </tr>\n",
              "    <tr>\n",
              "      <th>1</th>\n",
              "      <td>Grove Square Cappuccino Cups were excellent. T...</td>\n",
              "    </tr>\n",
              "    <tr>\n",
              "      <th>2</th>\n",
              "      <td>I bought the Grove Square hazelnut cappuccino ...</td>\n",
              "    </tr>\n",
              "    <tr>\n",
              "      <th>3</th>\n",
              "      <td>I love my Keurig, and I love most of the Keuri...</td>\n",
              "    </tr>\n",
              "    <tr>\n",
              "      <th>4</th>\n",
              "      <td>It's a powdered drink. No filter in k-cup.&lt;br ...</td>\n",
              "    </tr>\n",
              "  </tbody>\n",
              "</table>\n",
              "</div><br><label><b>dtype:</b> object</label>"
            ]
          },
          "metadata": {},
          "execution_count": 47
        }
      ],
      "source": [
        "# split the data into feature and label\n",
        "X = data.reviews               #complete this\n",
        "y = data.stars                #complete this\n",
        "\n",
        "X.head()"
      ]
    },
    {
      "cell_type": "markdown",
      "metadata": {
        "id": "PKAs3CwM_M2W"
      },
      "source": [
        "### <font color=\"Blue\">Step 2:</font> Split the data into training and testing sets"
      ]
    },
    {
      "cell_type": "code",
      "execution_count": 48,
      "metadata": {
        "id": "WWwVTj6h_M2W"
      },
      "outputs": [],
      "source": [
        "# split the data into a training and test set\n",
        "from sklearn.model_selection import train_test_split                 #complete this\n",
        "X_train, X_test, y_train, y_test = train_test_split(X, y, test_size=0.2, random_state=42)    #complete this"
      ]
    },
    {
      "cell_type": "code",
      "execution_count": 49,
      "metadata": {
        "id": "O9dCTtWg_M2W",
        "colab": {
          "base_uri": "https://localhost:8080/",
          "height": 241
        },
        "outputId": "ec725db7-085c-418f-fdba-834186a3cbed"
      },
      "outputs": [
        {
          "output_type": "execute_result",
          "data": {
            "text/plain": [
              "360    The cappuchino is very sweet. I would recommen...\n",
              "73     This is a product that we will use again as it...\n",
              "353    ABSOLUTELY DELICIOUS!!!  CREAMY...NOT TOO SWEE...\n",
              "86     If you think nothing beats a great cup of cofe...\n",
              "237    There's only one word to describe this...........\n",
              "Name: reviews, dtype: object"
            ],
            "text/html": [
              "<div>\n",
              "<style scoped>\n",
              "    .dataframe tbody tr th:only-of-type {\n",
              "        vertical-align: middle;\n",
              "    }\n",
              "\n",
              "    .dataframe tbody tr th {\n",
              "        vertical-align: top;\n",
              "    }\n",
              "\n",
              "    .dataframe thead th {\n",
              "        text-align: right;\n",
              "    }\n",
              "</style>\n",
              "<table border=\"1\" class=\"dataframe\">\n",
              "  <thead>\n",
              "    <tr style=\"text-align: right;\">\n",
              "      <th></th>\n",
              "      <th>reviews</th>\n",
              "    </tr>\n",
              "  </thead>\n",
              "  <tbody>\n",
              "    <tr>\n",
              "      <th>360</th>\n",
              "      <td>The cappuchino is very sweet. I would recommen...</td>\n",
              "    </tr>\n",
              "    <tr>\n",
              "      <th>73</th>\n",
              "      <td>This is a product that we will use again as it...</td>\n",
              "    </tr>\n",
              "    <tr>\n",
              "      <th>353</th>\n",
              "      <td>ABSOLUTELY DELICIOUS!!!  CREAMY...NOT TOO SWEE...</td>\n",
              "    </tr>\n",
              "    <tr>\n",
              "      <th>86</th>\n",
              "      <td>If you think nothing beats a great cup of cofe...</td>\n",
              "    </tr>\n",
              "    <tr>\n",
              "      <th>237</th>\n",
              "      <td>There's only one word to describe this...........</td>\n",
              "    </tr>\n",
              "  </tbody>\n",
              "</table>\n",
              "</div><br><label><b>dtype:</b> object</label>"
            ]
          },
          "metadata": {},
          "execution_count": 49
        }
      ],
      "source": [
        "X_test.head()"
      ]
    },
    {
      "cell_type": "code",
      "execution_count": 50,
      "metadata": {
        "id": "vBkN1yoN_M2W",
        "colab": {
          "base_uri": "https://localhost:8080/",
          "height": 241
        },
        "outputId": "9a4244ca-df35-4336-b847-bbf7f19386e3"
      },
      "outputs": [
        {
          "output_type": "execute_result",
          "data": {
            "text/plain": [
              "360    4\n",
              "73     4\n",
              "353    5\n",
              "86     5\n",
              "237    5\n",
              "Name: stars, dtype: int64"
            ],
            "text/html": [
              "<div>\n",
              "<style scoped>\n",
              "    .dataframe tbody tr th:only-of-type {\n",
              "        vertical-align: middle;\n",
              "    }\n",
              "\n",
              "    .dataframe tbody tr th {\n",
              "        vertical-align: top;\n",
              "    }\n",
              "\n",
              "    .dataframe thead th {\n",
              "        text-align: right;\n",
              "    }\n",
              "</style>\n",
              "<table border=\"1\" class=\"dataframe\">\n",
              "  <thead>\n",
              "    <tr style=\"text-align: right;\">\n",
              "      <th></th>\n",
              "      <th>stars</th>\n",
              "    </tr>\n",
              "  </thead>\n",
              "  <tbody>\n",
              "    <tr>\n",
              "      <th>360</th>\n",
              "      <td>4</td>\n",
              "    </tr>\n",
              "    <tr>\n",
              "      <th>73</th>\n",
              "      <td>4</td>\n",
              "    </tr>\n",
              "    <tr>\n",
              "      <th>353</th>\n",
              "      <td>5</td>\n",
              "    </tr>\n",
              "    <tr>\n",
              "      <th>86</th>\n",
              "      <td>5</td>\n",
              "    </tr>\n",
              "    <tr>\n",
              "      <th>237</th>\n",
              "      <td>5</td>\n",
              "    </tr>\n",
              "  </tbody>\n",
              "</table>\n",
              "</div><br><label><b>dtype:</b> int64</label>"
            ]
          },
          "metadata": {},
          "execution_count": 50
        }
      ],
      "source": [
        "y_test.head()"
      ]
    },
    {
      "cell_type": "markdown",
      "metadata": {
        "id": "OvxHPOF4_M2W"
      },
      "source": [
        "### <font color=\"Blue\">Step 3:</font> Vectorize the feature"
      ]
    },
    {
      "cell_type": "code",
      "execution_count": 51,
      "metadata": {
        "id": "xXd0Li3o_M2X",
        "colab": {
          "base_uri": "https://localhost:8080/"
        },
        "outputId": "d09b1ea0-d19d-4698-e0e1-fcabf3c0448e"
      },
      "outputs": [
        {
          "output_type": "stream",
          "name": "stdout",
          "text": [
            "(433, 1870)\n"
          ]
        }
      ],
      "source": [
        "from sklearn.feature_extraction.text import CountVectorizer   #complete this\n",
        "cv = CountVectorizer(stop_words='english')   #complete this\n",
        "X_train_cv = cv.fit_transform(X_train)   #complete this\n",
        "X_test_cv = cv.transform(X_test)  #complete this\n",
        "\n",
        "# print the dimensions of the training set (text messages, terms)\n",
        "print(X_train_cv.toarray().shape)"
      ]
    },
    {
      "cell_type": "markdown",
      "metadata": {
        "id": "TFAhXYDS_M2X"
      },
      "source": [
        "### <font color=\"Blue\">Step 4:</font> Idenfity the model/ classifier to be used. Feed the train data into the model"
      ]
    },
    {
      "cell_type": "markdown",
      "metadata": {
        "id": "C0wGpeSV_M2X"
      },
      "source": [
        "### - Linear Regression"
      ]
    },
    {
      "cell_type": "code",
      "execution_count": 52,
      "metadata": {
        "id": "TBdyQv2r_M2X",
        "colab": {
          "base_uri": "https://localhost:8080/"
        },
        "outputId": "5049a936-45ca-4434-e1e5-6e128ebe23ea"
      },
      "outputs": [
        {
          "output_type": "execute_result",
          "data": {
            "text/plain": [
              "array([ 8.44106924e-01,  4.23669230e+00,  6.00985780e+00,  4.53899896e+00,\n",
              "        2.83712407e+00,  4.24787224e+00,  3.42834343e+00,  4.77126163e+00,\n",
              "        2.00722910e+00,  3.27334536e+00,  1.96354570e+00,  1.54562373e+00,\n",
              "        6.80633243e+00,  3.98226280e+00,  2.90172464e+00,  4.83804686e+00,\n",
              "        4.89971396e+00,  3.28931967e+00,  2.50369334e+00,  1.81690523e+00,\n",
              "        3.08117308e+00,  6.94291572e+00,  3.62778464e+00,  4.84411420e+00,\n",
              "        3.03034997e+00,  3.07690967e+00,  4.54038369e+00,  8.43506870e+00,\n",
              "        4.23007749e+00,  6.45282014e+00,  3.80662815e+00,  4.59258708e+00,\n",
              "        3.85888086e+00,  4.07559893e+00,  2.86703389e+00,  1.33626726e+00,\n",
              "        2.75780366e+00,  4.45383337e+00,  2.56385735e+00,  4.44500655e+00,\n",
              "        6.11752039e+00,  2.98673114e+00,  5.07420117e+00,  6.59171975e+00,\n",
              "        6.59689762e+00,  6.23505923e+00,  4.34204744e+00,  2.69150770e+00,\n",
              "        3.46808939e+00,  5.01349480e+00,  4.84712359e+00, -5.31899812e-03,\n",
              "        2.39666008e+00,  4.81164734e+00,  3.69739885e+00,  4.23861050e+00,\n",
              "        4.41871419e+00,  3.13144405e-01,  3.10220585e+00,  3.50434037e+00,\n",
              "        1.37700780e+00,  4.45644172e+00,  5.97946965e+00,  4.52617667e+00,\n",
              "        5.95804879e+00,  4.81143902e+00,  6.81344283e+00,  3.21932719e+00,\n",
              "        4.39924087e+00,  3.60411350e+00,  1.26995199e+00,  5.83810839e+00,\n",
              "        3.09339308e+00,  5.55531041e+00,  6.36220361e+00,  3.95738998e+00,\n",
              "        1.52443215e+00,  1.32676424e+00,  2.07368332e+00,  2.49455152e+00,\n",
              "        4.64531641e+00,  4.85279056e+00,  4.92500171e+00,  3.13636310e+00,\n",
              "        3.16291792e+00,  3.04985490e+00,  1.35234683e+00,  3.79187753e+00,\n",
              "        2.21081805e+00,  5.59972007e+00,  3.60583349e+00,  3.37633895e+00,\n",
              "        4.09421969e+00,  2.29392927e+00,  4.16846719e+00,  3.15302208e+00,\n",
              "        4.03270713e+00,  4.34853323e+00,  1.04714842e+00,  2.64635162e+00,\n",
              "        3.96057901e+00,  5.40455212e+00,  2.83224954e+00,  3.37985451e+00,\n",
              "        5.87182327e+00,  2.68882687e+00,  4.44196226e+00,  2.56508132e+00,\n",
              "        3.75029034e+00])"
            ]
          },
          "metadata": {},
          "execution_count": 52
        }
      ],
      "source": [
        "# Use a linear regression model\n",
        "from sklearn.linear_model import LinearRegression   #complete this\n",
        "lr = LinearRegression()\n",
        "\n",
        "# Train the model\n",
        "lr.fit(X_train_cv, y_train)\n",
        "\n",
        "# Take the model that was trained on the X_train_cv data and apply it to the X_test_cv\n",
        "y_pred_LR = lr.predict(X_test_cv)\n",
        "y_pred_LR # The output is all of the predictions/ labels"
      ]
    },
    {
      "cell_type": "code",
      "execution_count": 53,
      "metadata": {
        "id": "Up9NiksJ_M2Y",
        "scrolled": true,
        "colab": {
          "base_uri": "https://localhost:8080/"
        },
        "outputId": "67c8fbcf-47ee-4da5-e807-7f607950cd26"
      },
      "outputs": [
        {
          "output_type": "execute_result",
          "data": {
            "text/plain": [
              "array([1, 5, 5, 5, 5, 5, 5, 5, 1, 4, 1, 1, 5, 5, 1, 5, 5, 1, 1, 1, 5, 5,\n",
              "       5, 4, 1, 5, 5, 5, 5, 5, 5, 5, 5, 5, 5, 2, 5, 1, 5, 5, 5, 1, 5, 5,\n",
              "       5, 5, 5, 4, 5, 5, 5, 1, 1, 5, 5, 5, 5, 1, 5, 5, 1, 5, 5, 5, 5, 5,\n",
              "       5, 5, 5, 5, 1, 5, 5, 5, 5, 5, 1, 2, 1, 1, 5, 5, 5, 5, 2, 5, 1, 5,\n",
              "       2, 5, 5, 5, 5, 5, 5, 5, 5, 5, 1, 5, 5, 5, 5, 5, 5, 1, 5, 1, 5])"
            ]
          },
          "metadata": {},
          "execution_count": 53
        }
      ],
      "source": [
        "# Use a logistic regression model\n",
        "from sklearn.linear_model import LogisticRegression     #complete this\n",
        "lr = LogisticRegression()\n",
        "\n",
        "# Train the model\n",
        "lr.fit(X_train_cv, y_train)               #complete this\n",
        "\n",
        "# Take the model that was trained on the X_train_cv data and apply it to the X_test_cv\n",
        "y_pred_LR = lr.predict(X_test_cv)           #complete this\n",
        "y_pred_LR # The output is all of the predictions/ labels"
      ]
    },
    {
      "cell_type": "markdown",
      "metadata": {
        "id": "Ob4vtOQG_M2Y"
      },
      "source": [
        "### - SVM"
      ]
    },
    {
      "cell_type": "code",
      "execution_count": 54,
      "metadata": {
        "id": "VLTWggkm_M2Y",
        "colab": {
          "base_uri": "https://localhost:8080/"
        },
        "outputId": "dabd77ff-3063-4d81-adee-016b7bf59d21"
      },
      "outputs": [
        {
          "output_type": "execute_result",
          "data": {
            "text/plain": [
              "array([1, 5, 5, 5, 5, 5, 5, 5, 1, 4, 1, 1, 5, 5, 1, 5, 5, 1, 1, 1, 2, 5,\n",
              "       5, 4, 1, 5, 5, 5, 5, 5, 5, 4, 5, 5, 5, 2, 5, 1, 2, 5, 5, 4, 5, 5,\n",
              "       5, 5, 5, 4, 5, 5, 5, 1, 1, 5, 5, 5, 5, 1, 5, 5, 1, 5, 5, 3, 5, 5,\n",
              "       5, 1, 5, 5, 1, 5, 4, 5, 5, 5, 1, 3, 1, 1, 5, 5, 5, 2, 5, 4, 1, 5,\n",
              "       3, 5, 5, 5, 5, 1, 5, 5, 5, 5, 4, 5, 5, 5, 5, 5, 5, 1, 5, 1, 5])"
            ]
          },
          "metadata": {},
          "execution_count": 54
        }
      ],
      "source": [
        "from sklearn.svm import LinearSVC         #complete this\n",
        "svc = LinearSVC()\n",
        "\n",
        "# Train the model\n",
        "svc.fit(X_train_cv, y_train)     #complete this\n",
        "\n",
        "# Take the model that was trained on the X_train_cv data and apply it to the X_test_cv\n",
        "y_pred_svm = svc.predict(X_test_cv)     #complete this\n",
        "y_pred_svm # The output is all of the predictions/ labels"
      ]
    },
    {
      "cell_type": "markdown",
      "metadata": {
        "id": "n7wMHaSm_M2Y"
      },
      "source": [
        "### - Decision Tree"
      ]
    },
    {
      "cell_type": "code",
      "execution_count": 55,
      "metadata": {
        "id": "XooN2C_8_M2Y",
        "colab": {
          "base_uri": "https://localhost:8080/"
        },
        "outputId": "18bb93c7-b263-492c-8429-ada2779544db"
      },
      "outputs": [
        {
          "output_type": "execute_result",
          "data": {
            "text/plain": [
              "array([1, 4, 5, 5, 2, 5, 5, 5, 5, 2, 5, 3, 5, 5, 5, 5, 5, 1, 1, 1, 1, 1,\n",
              "       5, 1, 1, 5, 5, 3, 5, 5, 5, 5, 5, 4, 4, 2, 5, 1, 5, 5, 5, 5, 5, 5,\n",
              "       4, 5, 5, 3, 5, 4, 5, 1, 4, 5, 5, 4, 5, 2, 5, 1, 2, 5, 5, 5, 5, 5,\n",
              "       5, 5, 5, 1, 1, 5, 5, 5, 5, 5, 2, 3, 2, 5, 5, 1, 5, 5, 2, 5, 1, 5,\n",
              "       2, 5, 5, 5, 5, 1, 5, 1, 5, 5, 2, 5, 5, 5, 5, 5, 5, 1, 5, 1, 5])"
            ]
          },
          "metadata": {},
          "execution_count": 55
        }
      ],
      "source": [
        "from sklearn import tree       #complete this\n",
        "tree = tree.DecisionTreeClassifier()\n",
        "\n",
        "# Train the model\n",
        "tree.fit(X_train_cv, y_train)  #complete this\n",
        "\n",
        "# Take the model that was trained on the X_train_cv data and apply it to the X_test_cv\n",
        "y_pred_dt = tree.predict(X_test_cv)   #complete this\n",
        "y_pred_dt # The output is all of the predictions/ labels"
      ]
    },
    {
      "cell_type": "markdown",
      "metadata": {
        "id": "hgKC-BuN_M2Z"
      },
      "source": [
        "### - Random Forest"
      ]
    },
    {
      "cell_type": "code",
      "execution_count": 56,
      "metadata": {
        "id": "Lm5lN875_M2Z",
        "colab": {
          "base_uri": "https://localhost:8080/"
        },
        "outputId": "aa152606-00d4-495f-9778-e714638fa189"
      },
      "outputs": [
        {
          "output_type": "execute_result",
          "data": {
            "text/plain": [
              "array([5, 5, 5, 5, 5, 5, 5, 5, 5, 5, 5, 5, 5, 5, 5, 5, 5, 5, 5, 5, 5, 5,\n",
              "       5, 5, 5, 5, 5, 5, 5, 5, 5, 5, 5, 5, 5, 5, 5, 5, 5, 5, 5, 5, 5, 5,\n",
              "       5, 5, 5, 5, 5, 5, 5, 5, 5, 5, 5, 5, 5, 5, 5, 5, 5, 5, 5, 5, 5, 5,\n",
              "       5, 5, 5, 5, 5, 5, 5, 5, 5, 5, 5, 1, 5, 5, 5, 5, 5, 5, 5, 5, 5, 5,\n",
              "       5, 5, 5, 5, 5, 5, 5, 5, 5, 5, 5, 5, 5, 5, 5, 5, 5, 5, 5, 5, 5])"
            ]
          },
          "metadata": {},
          "execution_count": 56
        }
      ],
      "source": [
        "from sklearn.ensemble import RandomForestClassifier  #complete this\n",
        "forest = RandomForestClassifier(max_depth=10, random_state=0)\n",
        "\n",
        "# Train the model\n",
        "forest.fit(X_train_cv, y_train)  #complete this\n",
        "\n",
        "# Take the model that was trained on the X_train_cv data and apply it to the X_test_cv\n",
        "y_pred_rf = forest.predict(X_test_cv)  #complete this\n",
        "y_pred_rf # The output is all of the predictions/ labels"
      ]
    },
    {
      "cell_type": "markdown",
      "metadata": {
        "id": "az5rD363_M2Z"
      },
      "source": [
        "### - KNN"
      ]
    },
    {
      "cell_type": "code",
      "execution_count": 57,
      "metadata": {
        "id": "E7d7ZhSD_M2Z",
        "colab": {
          "base_uri": "https://localhost:8080/"
        },
        "outputId": "528d24d9-f90f-4d4b-83f9-06f2617bdab9"
      },
      "outputs": [
        {
          "output_type": "execute_result",
          "data": {
            "text/plain": [
              "array([5, 5, 5, 5, 5, 5, 5, 5, 2, 5, 5, 5, 5, 5, 1, 5, 5, 5, 5, 5, 1, 5,\n",
              "       5, 1, 5, 5, 5, 5, 5, 1, 5, 5, 5, 5, 5, 1, 5, 5, 5, 5, 5, 5, 5, 5,\n",
              "       5, 5, 5, 5, 5, 5, 5, 1, 5, 1, 5, 5, 5, 1, 5, 5, 5, 5, 5, 5, 5, 5,\n",
              "       5, 5, 5, 1, 1, 5, 1, 1, 5, 5, 5, 2, 1, 5, 5, 5, 5, 5, 5, 1, 5, 5,\n",
              "       5, 5, 5, 5, 2, 5, 5, 5, 5, 5, 1, 5, 5, 5, 5, 5, 5, 5, 5, 5, 5])"
            ]
          },
          "metadata": {},
          "execution_count": 57
        }
      ],
      "source": [
        "from sklearn.neighbors import KNeighborsClassifier  #complete this\n",
        "neigh = KNeighborsClassifier(n_neighbors=3)\n",
        "\n",
        "# Train the model\n",
        "neigh.fit(X_train_cv, y_train)  #complete this\n",
        "\n",
        "# Take the model that was trained on the X_train_cv data and apply it to the X_test_cv\n",
        "y_pred_knn = neigh.predict(X_test_cv)  #complete this\n",
        "y_pred_knn # The output is all of the predictions/ labels"
      ]
    },
    {
      "cell_type": "markdown",
      "metadata": {
        "id": "JN4NMmrq_M2Z"
      },
      "source": [
        "### -  Naive Bayes"
      ]
    },
    {
      "cell_type": "code",
      "execution_count": 58,
      "metadata": {
        "id": "OBPs-aia_M2a",
        "colab": {
          "base_uri": "https://localhost:8080/"
        },
        "outputId": "cee3d9b8-ebec-4d2c-cd0c-22b8a6783573"
      },
      "outputs": [
        {
          "output_type": "execute_result",
          "data": {
            "text/plain": [
              "array([5, 5, 5, 5, 5, 5, 5, 5, 1, 1, 1, 1, 5, 5, 5, 5, 5, 4, 1, 5, 5, 5,\n",
              "       5, 5, 5, 5, 5, 5, 5, 5, 5, 5, 5, 5, 5, 1, 5, 1, 5, 5, 5, 5, 5, 5,\n",
              "       5, 5, 5, 5, 5, 5, 5, 1, 5, 5, 5, 5, 5, 1, 5, 5, 1, 5, 5, 5, 5, 5,\n",
              "       5, 5, 5, 5, 1, 5, 5, 5, 5, 5, 3, 5, 5, 5, 5, 5, 1, 5, 2, 5, 5, 5,\n",
              "       5, 5, 5, 5, 5, 5, 5, 5, 5, 5, 1, 5, 5, 5, 5, 5, 5, 1, 5, 5, 5])"
            ]
          },
          "metadata": {},
          "execution_count": 58
        }
      ],
      "source": [
        "from sklearn.naive_bayes import MultinomialNB  #complete this\n",
        "import numpy as np\n",
        "nb = MultinomialNB()\n",
        "\n",
        "# Train the model\n",
        "nb.fit(X_train_cv.toarray(), y_train)  #complete this\n",
        "\n",
        "# Take the model that was trained on the X_train_cv data and apply it to the X_test_cv\n",
        "y_pred_nb = nb.predict(X_test_cv) #complete this\n",
        "y_pred_nb # The output is all of the predictions/ labels"
      ]
    },
    {
      "cell_type": "markdown",
      "metadata": {
        "id": "ZvD9FyXf_M2a"
      },
      "source": [
        "### <font color=\"Blue\">Step 5:</font> Evaluate the Model - Accuracy Measurement\n",
        "Generate the accuracy scores for Linear Regression, SVM, Decision Tree, Random Forest, KNN, and Naive Bayes.  "
      ]
    },
    {
      "cell_type": "code",
      "execution_count": 59,
      "metadata": {
        "id": "R-ib3bZ2_M2a",
        "colab": {
          "base_uri": "https://localhost:8080/"
        },
        "outputId": "3a2635a6-5c27-433d-c0ef-b4a85fe220b5"
      },
      "outputs": [
        {
          "output_type": "stream",
          "name": "stdout",
          "text": [
            "Accuracy score for LR: 0.71\n",
            "Accuracy score for SVM: 0.70\n",
            "Accuracy score for DT: 0.57\n",
            "Accuracy score for RF: 0.54\n",
            "Accuracy score for KNN: 0.55\n",
            "Accuracy score for NB: 0.64\n"
          ]
        }
      ],
      "source": [
        "from sklearn.metrics import accuracy_score   #complete this\n",
        "lra = accuracy_score(y_test, y_pred_LR)\n",
        "svm = accuracy_score(y_test, y_pred_svm)\n",
        "dt = accuracy_score(y_test, y_pred_dt)\n",
        "rf = accuracy_score(y_test, y_pred_rf)\n",
        "knn = accuracy_score(y_test, y_pred_knn)\n",
        "nb = accuracy_score(y_test, y_pred_nb)\n",
        "\n",
        "print(\"Accuracy score for LR: %.2f\" % lra)\n",
        "print(\"Accuracy score for SVM: %.2f\" % svm)\n",
        "print(\"Accuracy score for DT: %.2f\" % dt)\n",
        "print(\"Accuracy score for RF: %.2f\" % rf)\n",
        "print(\"Accuracy score for KNN: %.2f\" % knn)\n",
        "print(\"Accuracy score for NB: %.2f\" % nb)"
      ]
    },
    {
      "cell_type": "markdown",
      "metadata": {
        "id": "CTTf68iW_M2a"
      },
      "source": [
        "__Example Output:__\n",
        "- Accuracy score for LR  = 0.1651\n",
        "- Accuracy score for SVM = 0.5413\n",
        "- Accuracy score for DT  = 0.5505\n",
        "- Accuracy score for RF  = 0.5872\n",
        "- Accuracy score for KNN = 0.5963\n",
        "- Accuracy score for NB  = 0.6514"
      ]
    },
    {
      "cell_type": "markdown",
      "metadata": {
        "id": "r1yxEuUd_M2b"
      },
      "source": [
        "# Question 3\n",
        "Predict the rate of this review,\n",
        "\n",
        "<font color=\"blue\">__\"like Cafe Vienna instant coffee products with the convenience of Keurig. All authorized on-line sellers cannot carry them\"__\n",
        "\n"
      ]
    },
    {
      "cell_type": "markdown",
      "metadata": {
        "id": "ke-mMhKX_M2b"
      },
      "source": [
        "by using Linear Regression, SVM, Decision Tree, Random Forest, KNN, and Naive Bayes"
      ]
    },
    {
      "cell_type": "code",
      "execution_count": 60,
      "metadata": {
        "id": "ZGrDnUYw_M2b",
        "colab": {
          "base_uri": "https://localhost:8080/"
        },
        "outputId": "18740113-4e79-49d7-a549-759878cb17d1"
      },
      "outputs": [
        {
          "output_type": "stream",
          "name": "stdout",
          "text": [
            "[4]\n"
          ]
        }
      ],
      "source": [
        "import pandas as pd\n",
        "from pandas import DataFrame\n",
        "# S0 = \"I dislike this coffee, terrible taste and very greasy.\"\n",
        "# S1 = \"This has to be the worst tasting coffee.this is the by far the worst. Don't waste your money on this product.\"\n",
        "S2 = [\"like Cafe Vienna instant coffee products with the convenience of Keurig. All authorized on-line sellers cannot carry them \"]\n",
        "\n",
        "Snew = cv.transform(S2)\n",
        "lry = lr.predict(Snew)\n",
        "print(lry)"
      ]
    },
    {
      "cell_type": "code",
      "execution_count": 63,
      "metadata": {
        "id": "wjaE6Wv4_M2b",
        "colab": {
          "base_uri": "https://localhost:8080/"
        },
        "outputId": "ce0160d8-2c12-475f-afad-2607f01fc49c"
      },
      "outputs": [
        {
          "output_type": "stream",
          "name": "stdout",
          "text": [
            "Enter a sentence: Cafe Vienna instant coffee is not good.\n",
            "Predicted Label: [5]\n"
          ]
        }
      ],
      "source": [
        "import pandas as pd\n",
        "from pandas import DataFrame\n",
        "\n",
        "# Take user input\n",
        "user_input = input(\"Enter a sentence: \")  #complete this\n",
        "\n",
        "Snew = cv.transform([user_input])   #complete this\n",
        "lry = lr.predict(Snew)                #complete this\n",
        "print(\"Predicted Label:\", lry)"
      ]
    }
  ],
  "metadata": {
    "colab": {
      "provenance": []
    },
    "kernelspec": {
      "display_name": "Python 3 (ipykernel)",
      "language": "python",
      "name": "python3"
    },
    "language_info": {
      "codemirror_mode": {
        "name": "ipython",
        "version": 3
      },
      "file_extension": ".py",
      "mimetype": "text/x-python",
      "name": "python",
      "nbconvert_exporter": "python",
      "pygments_lexer": "ipython3",
      "version": "3.11.7"
    }
  },
  "nbformat": 4,
  "nbformat_minor": 0
}