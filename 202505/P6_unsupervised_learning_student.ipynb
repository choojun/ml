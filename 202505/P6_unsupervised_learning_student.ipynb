{
 "cells": [
  {
   "cell_type": "markdown",
   "metadata": {
    "id": "Z6Cu00p-Wvms"
   },
   "source": [
    "# Unsupervised Learning"
   ]
  },
  {
   "cell_type": "markdown",
   "metadata": {
    "id": "6RDbH-QDWvmx"
   },
   "source": [
    "# <font color=\"blue\"> Case 1: Unsupervised Machine Learning using Synthetic Dataset (K-Means)<font>"
   ]
  },
  {
   "cell_type": "markdown",
   "metadata": {
    "id": "-FR5q8pSWvmx"
   },
   "source": [
    "Install required libraries"
   ]
  },
  {
   "cell_type": "code",
   "execution_count": null,
   "metadata": {
    "colab": {
     "base_uri": "https://localhost:8080/"
    },
    "executionInfo": {
     "elapsed": 7705,
     "status": "ok",
     "timestamp": 1712211462806,
     "user": {
      "displayName": "CHING PANG GOH",
      "userId": "03150219032412111071"
     },
     "user_tz": -480
    },
    "id": "P9O26jFqWvmy",
    "outputId": "e0a952e4-5093-49ee-cdc9-a00e551c2762"
   },
   "outputs": [],
   "source": [
    "pip install  #complete this"
   ]
  },
  {
   "cell_type": "markdown",
   "metadata": {
    "id": "jCoE4tgMrvFj"
   },
   "source": [
    "To generate synthetic dataset"
   ]
  },
  {
   "cell_type": "code",
   "execution_count": null,
   "metadata": {
    "colab": {
     "base_uri": "https://localhost:8080/"
    },
    "executionInfo": {
     "elapsed": 351,
     "status": "ok",
     "timestamp": 1712212010115,
     "user": {
      "displayName": "CHING PANG GOH",
      "userId": "03150219032412111071"
     },
     "user_tz": -480
    },
    "id": "5iby1QSYWvmz",
    "outputId": "f2833aff-03c0-482c-dffc-2b1b70d1d082"
   },
   "outputs": [],
   "source": [
    "import numpy as np\n",
    "import matplotlib.pyplot as      #complete this\n",
    "from sklearn.cluster import      #complete this\n",
    "from sklearn.datasets import     #complete this\n",
    "\n",
    "# Create a synthetic dataset\n",
    "n_samples =              #complete this\n",
    "n_features =             #complete this\n",
    "n_clusters =             #complete this\n",
    "\n",
    "X, true_label = (n_samples=, n_features=, centers=, random_state=)        #complete this\n",
    "print (true_label)\n",
    "print (X)"
   ]
  },
  {
   "cell_type": "markdown",
   "metadata": {
    "id": "-KqAPCzCWvm0"
   },
   "source": [
    "**make_blobs** is a function provided by the scikit-learn library in Python, which is commonly used for generating synthetic datasets for clustering and classification tasks. It creates a specified number of blobs or clusters of data points, each characterized by its own center and spread. This is particularly useful for testing and visualizing machine learning algorithms.\n",
    "\n",
    "The function's purpose is to generate datasets with well-defined cluster structures, making it easier to experiment with different algorithms and observe their behavior."
   ]
  },
  {
   "cell_type": "markdown",
   "metadata": {
    "id": "c_4BFSb1Wvm1"
   },
   "source": [
    "Parameters:<br>\n",
    "(1) n_samples: The total number of data points to generate.<br>\n",
    "(2) n_features: The number of features (or dimensions) for each data point.<br>\n",
    "(3) centers: The number of clusters to generate.<br>\n",
    "(4) cluster_std: The standard deviation of each cluster.<br>\n",
    "(5) random_state: Seed for random number generation (optional)."
   ]
  },
  {
   "cell_type": "code",
   "execution_count": null,
   "metadata": {
    "colab": {
     "base_uri": "https://localhost:8080/",
     "height": 472
    },
    "executionInfo": {
     "elapsed": 737,
     "status": "ok",
     "timestamp": 1712212022645,
     "user": {
      "displayName": "CHING PANG GOH",
      "userId": "03150219032412111071"
     },
     "user_tz": -480
    },
    "id": "WsU11Ys1Wvm1",
    "outputId": "1ba67a68-aa05-4680-b879-c8ecf4590a6b"
   },
   "outputs": [],
   "source": [
    "# Visualize the dataset\n",
    "plt.scatter(X[], X[], s=)   #complete this\n",
    "plt.title(\"Synthetic Dataset\")\n",
    "plt.xlabel(\"Feature 1\")\n",
    "plt.ylabel(\"Feature 2\")\n",
    "plt.show()"
   ]
  },
  {
   "cell_type": "code",
   "execution_count": null,
   "metadata": {
    "colab": {
     "base_uri": "https://localhost:8080/"
    },
    "executionInfo": {
     "elapsed": 921,
     "status": "ok",
     "timestamp": 1712212046970,
     "user": {
      "displayName": "CHING PANG GOH",
      "userId": "03150219032412111071"
     },
     "user_tz": -480
    },
    "id": "p6gbqeJhWvm2",
    "outputId": "e3009984-5b16-4208-fc45-3455afb5f57e"
   },
   "outputs": [],
   "source": [
    "# Apply K-Means clustering\n",
    "kmeans = KMeans(n_clusters=)                   #complete this & try to modify this to other values in the second round\n",
    "kmeans.                                       #complete this\n",
    "\n",
    "# Get cluster centers and labels\n",
    "cluster_centers = kmeans.                 #complete this\n",
    "cluster_labels = kmeans.                  #complete this\n",
    "print (cluster_centers)\n",
    "print (cluster_labels)"
   ]
  },
  {
   "cell_type": "code",
   "execution_count": null,
   "metadata": {
    "colab": {
     "base_uri": "https://localhost:8080/",
     "height": 472
    },
    "executionInfo": {
     "elapsed": 1303,
     "status": "ok",
     "timestamp": 1712212050782,
     "user": {
      "displayName": "CHING PANG GOH",
      "userId": "03150219032412111071"
     },
     "user_tz": -480
    },
    "id": "6HFk3IGiWvm2",
    "outputId": "2845d01e-2c1d-45bc-8992-184bcd28d63e"
   },
   "outputs": [],
   "source": [
    "# Visualize the clustering results\n",
    "plt.scatter( )              #complete this\n",
    "plt.scatter( )              #complete this\n",
    "plt.title(\"K-Means Clustering Results\")\n",
    "plt.xlabel(\"Feature 1\")\n",
    "plt.ylabel(\"Feature 2\")\n",
    "plt.legend()\n",
    "plt.show()"
   ]
  },
  {
   "cell_type": "markdown",
   "metadata": {
    "id": "MCrE5jU9Wvm3"
   },
   "source": [
    "# <font color=\"blue\"> Case 2: Unsupervised Machine Learning using Synthetic Dataset (Mean-shift) <font>"
   ]
  },
  {
   "cell_type": "code",
   "execution_count": null,
   "metadata": {
    "executionInfo": {
     "elapsed": 347,
     "status": "ok",
     "timestamp": 1712212253565,
     "user": {
      "displayName": "CHING PANG GOH",
      "userId": "03150219032412111071"
     },
     "user_tz": -480
    },
    "id": "fG4OfnMhWvm3"
   },
   "outputs": [],
   "source": [
    "from sklearn.cluster import        #complete this   "
   ]
  },
  {
   "cell_type": "markdown",
   "metadata": {
    "id": "9j1sgI78rvFn"
   },
   "source": [
    "Defined synthetic dataset"
   ]
  },
  {
   "cell_type": "code",
   "execution_count": null,
   "metadata": {
    "executionInfo": {
     "elapsed": 338,
     "status": "ok",
     "timestamp": 1712212318222,
     "user": {
      "displayName": "CHING PANG GOH",
      "userId": "03150219032412111071"
     },
     "user_tz": -480
    },
    "id": "X93JwpMqrvFo"
   },
   "outputs": [],
   "source": [
    "n_samples =                    #complete this\n",
    "n_features =                   #complete this\n",
    "n_clusters =                   #complete this"
   ]
  },
  {
   "cell_type": "markdown",
   "metadata": {
    "id": "UzGF7xt5Wvm4"
   },
   "source": [
    "Modify the **random_state parameter**\n",
    "\n",
    "random_state is a parameter often used in machine learning libraries, such as scikit-learn in Python, to control the randomness or randomness seeding in various processes. It ensures that the random numbers generated during different runs of your code are reproducible.\n",
    "\n",
    "When you set the random_state parameter to a specific value, you're essentially providing a seed for the random number generator. This allows you to get the same random values every time you run your code with that particular seed."
   ]
  },
  {
   "cell_type": "code",
   "execution_count": null,
   "metadata": {
    "colab": {
     "base_uri": "https://localhost:8080/",
     "height": 472
    },
    "executionInfo": {
     "elapsed": 1215,
     "status": "ok",
     "timestamp": 1712212333042,
     "user": {
      "displayName": "CHING PANG GOH",
      "userId": "03150219032412111071"
     },
     "user_tz": -480
    },
    "id": "frAk9PsDWvm4",
    "outputId": "14877457-7898-4a9f-f87f-3d53cd15e488"
   },
   "outputs": [],
   "source": [
    "X, y = make_blobs()                     #complete this\n",
    "\n",
    "# Visualize the dataset\n",
    "plt.scatter(X[], X[], s=)               #complete this\n",
    "plt.title(\"Synthetic Dataset\")\n",
    "plt.xlabel(\"Feature 1\")\n",
    "plt.ylabel(\"Feature 2\")\n",
    "plt.show()"
   ]
  },
  {
   "cell_type": "markdown",
   "metadata": {
    "id": "X_fj0yghWvm5"
   },
   "source": [
    "The quantile parameter in the estimate_bandwidth function from scikit-learn's sklearn.cluster module is used to control the bandwidth estimation in the Mean Shift clustering algorithm. Mean Shift is a density-based clustering algorithm that aims to find dense regions of data points in the feature space. The quantile parameter in the estimate_bandwidth function from scikit-learn's sklearn.cluster module is used to control the bandwidth estimation in the Mean Shift clustering algorithm. Mean Shift is a density-based clustering algorithm that aims to find dense regions of data points in the feature space."
   ]
  },
  {
   "cell_type": "code",
   "execution_count": null,
   "metadata": {
    "colab": {
     "base_uri": "https://localhost:8080/",
     "height": 472
    },
    "executionInfo": {
     "elapsed": 5586,
     "status": "ok",
     "timestamp": 1712212637584,
     "user": {
      "displayName": "CHING PANG GOH",
      "userId": "03150219032412111071"
     },
     "user_tz": -480
    },
    "id": "oezvAACsWvm5",
    "outputId": "500a9842-a377-473e-c4bd-0fe3a248bb31"
   },
   "outputs": [],
   "source": [
    "#Estimate bandwidth for Mean Shift\n",
    "bandwidth =                                #complete this       \n",
    "meanshift =                                #complete this\n",
    "meanshift.fit_predict()\n",
    "\n",
    "#============OR======================\n",
    "# # Apply Mean Shift clustering\n",
    "# meanshift = MeanShift(bandwidth=)                   #complete this\n",
    "# meanshift.fit_predict(X)\n",
    "#====================================\n",
    "\n",
    "# Get cluster centers and labels\n",
    "cluster_centers = meanshift.                 #complete this \n",
    "labels = meanshift.                 #complete this \n",
    "\n",
    "# Visualize the clustering results\n",
    "plt.scatter(X[:, 0], X[:, 1], c=labels, s=50, cmap='viridis')\n",
    "plt.scatter(cluster_centers[:, 0], cluster_centers[:, 1], c='red', marker='x', s=200, label='Cluster Centers')\n",
    "plt.title(\"Mean Shift Clustering Results\")\n",
    "plt.xlabel(\"Feature 1\")\n",
    "plt.ylabel(\"Feature 2\")\n",
    "plt.legend()\n",
    "plt.show()"
   ]
  },
  {
   "cell_type": "markdown",
   "metadata": {
    "id": "vKQDnugZWvm5"
   },
   "source": [
    "# <font color=\"blue\"> Exercise <ont>"
   ]
  },
  {
   "cell_type": "markdown",
   "metadata": {
    "id": "cQ-Niu2UWvm5"
   },
   "source": [
    "Try to use different unsupervised machine learning algorithms on the synthetic dataset above\n",
    "\n",
    "Reference:\n",
    "https://scikit-learn.org/stable/modules/clustering.html#hierarchical-clustering"
   ]
  },
  {
   "cell_type": "code",
   "execution_count": null,
   "metadata": {
    "id": "qZyJyIv-Wvm6"
   },
   "outputs": [],
   "source": [
    "#AgglomerativeClustering\n",
    "\n",
    "from sklearn.cluster import    #complete this\n",
    "\n",
    "# Generate synthetic data\n",
    "n_samples =               #complete this   \n",
    "n_features =                  #complete this\n",
    "n_clusters =              #complete this\n",
    "\n",
    "X, _ = make_blobs(n_samples=n_samples, n_features=n_features, centers=n_clusters, random_state=42)\n",
    "\n",
    "# Apply AgglomerativeClustering\n",
    "agg_clustering = (n_clusters=n_clusters, affinity='euclidean', linkage='ward')\n",
    "predicted_labels = agg_clustering.fit_predict(X)\n",
    "\n",
    "# Plot the data and clusters\n",
    "plt.scatter(X[:, 0], X[:, 1], c=predicted_labels, cmap='viridis')\n",
    "plt.xlabel('Feature 1')\n",
    "plt.ylabel('Feature 2')\n",
    "plt.title('Agglomerative Clustering')\n",
    "plt.show()"
   ]
  },
  {
   "cell_type": "code",
   "execution_count": null,
   "metadata": {
    "id": "NYNI1ox4Wvm6"
   },
   "outputs": [],
   "source": [
    "#GaussianMixture\n",
    "\n",
    "import numpy as                               #complete this\n",
    "import matplotlib.pyplot as                    #complete this\n",
    "from sklearn.mixture import                   #complete this\n",
    "from sklearn.datasets import                    #complete this\n",
    "\n",
    "# Generate synthetic data\n",
    "n_samples =                                 #complete this                               \n",
    "n_features =                                 #complete this                               \n",
    "n_clusters =                                 #complete this                               \n",
    "\n",
    "X, _ = make_blobs(n_samples=n_samples, n_features=n_features, centers=n_clusters, random_state=42)\n",
    "\n",
    "# Apply GaussianMixture clustering\n",
    "gmm = (n_components=n_clusters, covariance_type='full')\n",
    "predicted_labels = gmm.fit_predict(X)\n",
    "\n",
    "# Plot the data and clusters\n",
    "plt.scatter(X[:, 0], X[:, 1], c=predicted_labels, cmap='viridis')\n",
    "plt.xlabel('Feature 1')\n",
    "plt.ylabel('Feature 2')\n",
    "plt.title('Gaussian Mixture Clustering')\n",
    "plt.show()"
   ]
  },
  {
   "cell_type": "markdown",
   "metadata": {
    "id": "9s0kMdz6Wvm6"
   },
   "source": [
    "# <font color=\"blue\"> Case 3: Unsupervised Machine Learning using Iris Flower Dataset (K-means) <font>"
   ]
  },
  {
   "cell_type": "code",
   "execution_count": null,
   "metadata": {
    "id": "4OUapD-zWvm6"
   },
   "outputs": [],
   "source": [
    "from sklearn import                   #complete this\n",
    "import sklearn.                  #complete this\n",
    "\n",
    "import pandas as                   #complete this\n",
    "import numpy as                   #complete this"
   ]
  },
  {
   "cell_type": "code",
   "execution_count": null,
   "metadata": {
    "id": "RGa0ty2vWvm7"
   },
   "outputs": [],
   "source": [
    "# import data\n",
    "iris = pd.read_csv('')      #complete this"
   ]
  },
  {
   "cell_type": "markdown",
   "metadata": {
    "id": "GyhaiVLxWvm7"
   },
   "source": [
    "## Split the data into feature and label"
   ]
  },
  {
   "cell_type": "code",
   "execution_count": null,
   "metadata": {
    "id": "ZAUsL6u-Wvm7"
   },
   "outputs": [],
   "source": [
    "# split the data into feature and label, no preprocessing is required as this just invlove number\n",
    "X = iris.iloc[]             #complete this\n",
    "y = iris.species            #complete this"
   ]
  },
  {
   "cell_type": "code",
   "execution_count": null,
   "metadata": {
    "id": "FsMpoeEJWvm7"
   },
   "outputs": [],
   "source": [
    "X.head()"
   ]
  },
  {
   "cell_type": "code",
   "execution_count": null,
   "metadata": {
    "id": "BAxmqs8jWvm8"
   },
   "outputs": [],
   "source": [
    "y.head()"
   ]
  },
  {
   "cell_type": "code",
   "execution_count": null,
   "metadata": {
    "id": "V9NncypOWvm8"
   },
   "outputs": [],
   "source": [
    "num_row=len(y)\n",
    "print(num_row)"
   ]
  },
  {
   "cell_type": "code",
   "execution_count": null,
   "metadata": {
    "id": "TAuYbtizWvnC"
   },
   "outputs": [],
   "source": [
    "iris_species = y.tolist()\n",
    "print(iris_species)"
   ]
  },
  {
   "cell_type": "markdown",
   "metadata": {
    "id": "Mnz48khjWvnD"
   },
   "source": [
    "![](https://i1221.photobucket.com/albums/dd476/kk_yin/u1.png)"
   ]
  },
  {
   "cell_type": "markdown",
   "metadata": {
    "id": "UKtwQicyWvnD"
   },
   "source": [
    "## Building the Kmeans model"
   ]
  },
  {
   "cell_type": "markdown",
   "metadata": {
    "id": "DNG4BpkCWvnD"
   },
   "source": [
    "You'll now create a KMeans model to find 3 clusters, and fit it to the data points from the previous exercise. After the model has been fit, you'll obtain the cluster labels for some new points using the <font color=\"blue\">.predict()</font> method.\n",
    "\n",
    "You are given the array points from the previous exercise, and also an array new_points."
   ]
  },
  {
   "cell_type": "markdown",
   "metadata": {
    "id": "3Nzi8E7yWvnD"
   },
   "source": [
    "### Instructions\n",
    "\n",
    "- Import KMeans from sklearn.cluster.\n",
    "- Using KMeans(), create a KMeans inst\n",
    "ance called model to find 3 clusters. To specify the number of clusters, use the n_clusters keyword argument.\n",
    "- Use the .fit_predict() method of model to fit the model to the array of points points.\n",
    "- Use the .predict() method of model to predict the cluster labels of new_points, assigning the result to labels.\n",
    "\n"
   ]
  },
  {
   "cell_type": "code",
   "execution_count": null,
   "metadata": {
    "id": "kd4l3lCdWvnE"
   },
   "outputs": [],
   "source": [
    "# Import KMeans\n",
    "from sklearn.cluster import            #complete this\n",
    "\n",
    "# Create a KMeans instance with 3 clusters: model\n",
    "km = KMeans(n_clusters=)               #complete this\n",
    "\n",
    "# Fit model to points\n",
    "km.fit_predict()\n",
    "\n",
    "# Determine the cluster labels of new_points: labels\n",
    "labels = km.                           #complete this\n",
    "\n",
    "# Print cluster labels of new_points\n",
    "labels #from here we can see group 0-vessicolor， group 1-setosa,  and group2-verginica"
   ]
  },
  {
   "cell_type": "markdown",
   "metadata": {
    "id": "C101Tx7bWvnQ"
   },
   "source": [
    "### Estimate the optimal number of clusters in K-means clustering\n",
    "\n",
    "inertia_ attribute is commonly used to estimate the optimal number of clusters in K-means clustering. The concept is known as the \"elbow method.\" The idea is to plot the inertia values for different numbers of clusters and look for an \"elbow point\" on the plot. The elbow point represents a point of diminishing returns where adding more clusters doesn't significantly decrease the inertia.\n",
    "\n",
    "The location of the elbow point can give you a heuristic estimate of the optimal number of clusters to use in your K-means clustering. However, it's important to note that the elbow method is not always a definitive criterion, and the choice of the number of clusters should also be guided by domain knowledge, problem-specific considerations, and other validation techniques.\n"
   ]
  },
  {
   "cell_type": "code",
   "execution_count": null,
   "metadata": {
    "id": "rBiMGMhwWvnQ"
   },
   "outputs": [],
   "source": [
    "ks = range(1, 7)\n",
    "inertias = []\n",
    "\n",
    "for k in ks:\n",
    "    # Create a KMeans instance with k clusters: model\n",
    "    model = KMeans(n_clusters=k)\n",
    "\n",
    "    # Fit model to samples\n",
    "    model.fit_predict(X)\n",
    "\n",
    "    # Append the inertia to the list of inertias\n",
    "    inertias.append(model.inertia_)\n",
    "\n",
    "# Plot ks vs inertias\n",
    "plt.plot(ks, inertias, '-o')\n",
    "plt.xlabel('number of clusters, k')\n",
    "plt.ylabel('inertia')\n",
    "plt.xticks(ks)\n",
    "plt.show()"
   ]
  },
  {
   "cell_type": "markdown",
   "metadata": {
    "id": "D70IfTUaWvnE"
   },
   "source": [
    "## Correspondence with iris species\n",
    "\n",
    "The purpose of the following code is to compare side by side between Actual label and Cluster label (from K-means) so that we can obtain the accuracy and conclude if the unsupervised machine learning is performing well. However, in most of the cases, there will be no Actual label.\n",
    "\n",
    "### Instructions\n",
    "\n",
    "Use the <font color=\"blue\">pd.crosstab()</font> function on df['labels'] and df['varieties'] to count the number of times each iris species coincides with each cluster label. Assign the result to ct\n"
   ]
  },
  {
   "cell_type": "code",
   "execution_count": null,
   "metadata": {
    "id": "whPJD_wHWvnE"
   },
   "outputs": [],
   "source": [
    "# Create a DataFrame with labels and varieties as columns: df\n",
    "df = pd.DataFrame( )                 #complete this\n",
    "df"
   ]
  },
  {
   "cell_type": "code",
   "execution_count": null,
   "metadata": {
    "id": "h0tnf8voWvnF"
   },
   "outputs": [],
   "source": [
    "print(df.to_string())"
   ]
  },
  {
   "cell_type": "code",
   "execution_count": null,
   "metadata": {
    "id": "YUvLhgCCWvnF"
   },
   "outputs": [],
   "source": [
    "# Create crosstab: ct\n",
    "ct = pd.                              #complete this\n",
    "print(ct)  \n",
    "\n",
    "#This method also allow us to measure the performance of the clustering method by comparing the actual and cluster result (similar to confusion metrics)"
   ]
  },
  {
   "cell_type": "markdown",
   "metadata": {
    "id": "IwsDQTcbWvnF"
   },
   "source": [
    "## Measuring Quality of Clustering 1 (When label is unknown)\n",
    "\n",
    "In K-means clustering, inertia_ is an attribute of the fitted KMeans model in scikit-learn that represents the sum of squared distances between each data point and its assigned cluster center. It is often used as a measure of how well the data points are grouped around their respective cluster centroids. Lower values of inertia indicate that the data points are closer to their cluster centers and, therefore, the clustering is tighter."
   ]
  },
  {
   "cell_type": "code",
   "execution_count": null,
   "metadata": {
    "id": "alYU9x0AWvnP"
   },
   "outputs": [],
   "source": [
    "from sklearn.cluster import               #complete this\n",
    "km = KMeans(n_clusters= )                #complete this\n",
    "km.fit_predict(X)\n",
    "\n",
    "print(km. )                          #complete this\n",
    "\n",
    "#Lower inertia indicates better clustering (i.e., clusters are tighter and more compact), but it is not the only metric to evaluate the clustering quality"
   ]
  },
  {
   "cell_type": "markdown",
   "metadata": {
    "id": "edoYVKyeWvnP"
   },
   "source": [
    "## Measuring Quality of Clustering 2 (When label is known)\n",
    "**[Clustering metrics](https://scikit-learn.org/stable/modules/classes.html)**\n",
    "### Convert class to integer"
   ]
  },
  {
   "cell_type": "code",
   "execution_count": null,
   "metadata": {
    "id": "AzAmFeeiWvnP"
   },
   "outputs": [],
   "source": [
    "for i in range(0,num_row): # loop and stop before total number of instance\n",
    "    if y[i] == \"Iris-setosa\":\n",
    "        y[i] = \"\"              #complete this\n",
    "    elif y[i] == \"Iris-versicolor\":\n",
    "        y[i] = \"\"               #complete this\n",
    "    elif y[i] == \"Iris-virginica\":\n",
    "        y[i] = \"\"              #complete this "
   ]
  },
  {
   "cell_type": "code",
   "execution_count": null,
   "metadata": {
    "id": "JnCUm8MVWvnP"
   },
   "outputs": [],
   "source": [
    "from sklearn.metrics.cluster import v_measure_score\n",
    "v_measure_score(labels, y)\n",
    "# print (labels)\n",
    "# print (y)\n",
    "# https://www.geeksforgeeks.org/ml-v-measure-for-evaluating-clustering-performance/"
   ]
  },
  {
   "cell_type": "markdown",
   "metadata": {
    "id": "ZkMnyzkxWvnQ"
   },
   "source": [
    "# <font color=\"red\"> Exercise </font>"
   ]
  },
  {
   "cell_type": "markdown",
   "metadata": {
    "id": "W4XVk6l8WvnR"
   },
   "source": [
    "# 1.0 Mean Shift"
   ]
  },
  {
   "cell_type": "markdown",
   "metadata": {
    "id": "FHvZlI4jWvnR"
   },
   "source": [
    "### Import the library"
   ]
  },
  {
   "cell_type": "code",
   "execution_count": null,
   "metadata": {
    "id": "AvwAJr8RWvnR"
   },
   "outputs": [],
   "source": [
    "from sklearn.cluster import    #complete this\n",
    "\n",
    "bandwidth =                   #complete this   \n",
    "ms =                        #complete this"
   ]
  },
  {
   "cell_type": "markdown",
   "metadata": {
    "id": "vt0SD1MyWvnR"
   },
   "source": [
    "### Find out the number of estimated clusters by Mean Shift"
   ]
  },
  {
   "cell_type": "code",
   "execution_count": null,
   "metadata": {
    "id": "MHX4YFljWvnR"
   },
   "outputs": [],
   "source": [
    "# Number of clusters by Mean Shift\n",
    "labels = ms.                          #complete this\n",
    "labels_unique = np.                          #complete this\n",
    "n_clusters= len(labels_unique)\n",
    "\n",
    "print(\"number of estimated clusters : %d\" % n_clusters)"
   ]
  },
  {
   "cell_type": "markdown",
   "metadata": {
    "id": "zSCQ6JUHWvnS"
   },
   "source": [
    "### Fit Mean Shift model and generate the crosstab"
   ]
  },
  {
   "cell_type": "code",
   "execution_count": null,
   "metadata": {
    "id": "4gc4sBHhWvnT"
   },
   "outputs": [],
   "source": [
    "# Create a DataFrame with labels and varieties as columns: df\n",
    "df =            #complete this\n",
    "\n",
    "# Create crosstab: ct\n",
    "ms_ct =          #complete this\n",
    "\n",
    "#print(df.to_string())\n",
    "\n",
    "print(ms_ct)"
   ]
  },
  {
   "cell_type": "markdown",
   "metadata": {
    "id": "M3AzMiNFWvnU"
   },
   "source": [
    "### Calculate the score using  *v_measure_score()*"
   ]
  },
  {
   "cell_type": "code",
   "execution_count": null,
   "metadata": {
    "id": "uRPkqA_KWvnU"
   },
   "outputs": [],
   "source": [
    "v_measure_score(ms_labels, y)"
   ]
  },
  {
   "cell_type": "markdown",
   "metadata": {
    "id": "c3e6mplNWvnU"
   },
   "source": [
    "# 2.0 GMM"
   ]
  },
  {
   "cell_type": "markdown",
   "metadata": {
    "id": "2_uKGfQgWvnV"
   },
   "source": [
    "### Import library"
   ]
  },
  {
   "cell_type": "code",
   "execution_count": null,
   "metadata": {
    "id": "ukTpZ5uvWvnV"
   },
   "outputs": [],
   "source": [
    "from sklearn.mixture import         #complete this\n",
    "gmm =                           #complete this"
   ]
  },
  {
   "cell_type": "markdown",
   "metadata": {
    "id": "b1pCbt1qWvnV"
   },
   "source": [
    "### Fit GMM model"
   ]
  },
  {
   "cell_type": "code",
   "execution_count": null,
   "metadata": {
    "id": "yILB5fl1WvnV"
   },
   "outputs": [],
   "source": [
    "gmm_labels =                #complete this\n",
    "print(gmm_labels)"
   ]
  },
  {
   "cell_type": "markdown",
   "metadata": {
    "id": "Q3Zt_eaFWvnW"
   },
   "source": [
    "### Generate the ct"
   ]
  },
  {
   "cell_type": "code",
   "execution_count": null,
   "metadata": {
    "id": "qSEaWC9AWvnW"
   },
   "outputs": [],
   "source": [
    "# Create a DataFrame with labels and varieties as columns: df\n",
    "df =                    #complete this\n",
    "\n",
    "# Create crosstab: ct \n",
    "gmm_ct =              #complete this\n",
    "print(gmm_ct)"
   ]
  },
  {
   "cell_type": "markdown",
   "metadata": {
    "id": "9qqs2ht5WvnW"
   },
   "source": [
    "### Calculate the score using *v_measure_score()*"
   ]
  },
  {
   "cell_type": "code",
   "execution_count": null,
   "metadata": {
    "id": "Gm2eQx9QWvnW"
   },
   "outputs": [],
   "source": [
    "v_measure_score(gmm_labels, y)"
   ]
  },
  {
   "cell_type": "markdown",
   "metadata": {
    "id": "_kNBs0iMWvnX"
   },
   "source": [
    "## 3.0 Agglomerative Hierarchical  Clustering"
   ]
  },
  {
   "cell_type": "markdown",
   "metadata": {
    "id": "6ftUtrqXWvnX"
   },
   "source": [
    "### Import library"
   ]
  },
  {
   "cell_type": "code",
   "execution_count": null,
   "metadata": {
    "id": "AkHcqiXgWvnX"
   },
   "outputs": [],
   "source": [
    "from sklearn.cluster import          #complete this\n",
    "ac =                               #complete this"
   ]
  },
  {
   "cell_type": "markdown",
   "metadata": {
    "id": "ckQOHilwWvnX"
   },
   "source": [
    "### Fit the model"
   ]
  },
  {
   "cell_type": "code",
   "execution_count": null,
   "metadata": {
    "id": "7myg67ZaWvnX"
   },
   "outputs": [],
   "source": [
    "ac_labels =                #complete this\n",
    "print(ac_labels)       "
   ]
  },
  {
   "cell_type": "markdown",
   "metadata": {
    "id": "3KzZS_RyWvnX"
   },
   "source": [
    "### Generate the ct"
   ]
  },
  {
   "cell_type": "code",
   "execution_count": null,
   "metadata": {
    "id": "Bg3Sx7-OWvnY"
   },
   "outputs": [],
   "source": [
    "# Create a DataFrame with labels and varieties as columns: df\n",
    "df =                              #complete this\n",
    "\n",
    "# Create crosstab: ct\n",
    "ac_ct =                           #complete this\n",
    "print(ac_ct)"
   ]
  },
  {
   "cell_type": "markdown",
   "metadata": {},
   "source": [
    "### Calculate the score using *v_measure_score()*"
   ]
  },
  {
   "cell_type": "code",
   "execution_count": null,
   "metadata": {},
   "outputs": [],
   "source": [
    "v_measure_score(ac_labels, y)"
   ]
  },
  {
   "cell_type": "markdown",
   "metadata": {
    "id": "2AUlthVZWvnZ"
   },
   "source": [
    "# <font color=\"blue\"> Case 4: Unsupervised Machine Learning on Image (K-means) <font>"
   ]
  },
  {
   "cell_type": "markdown",
   "metadata": {
    "id": "9e-P8KzKWvnZ"
   },
   "source": [
    "![](https://i163.photobucket.com/albums/t281/kyin_album/k.png)"
   ]
  },
  {
   "cell_type": "markdown",
   "metadata": {
    "id": "U8pqbdgbWvnZ"
   },
   "source": [
    "[OpenCV Kmeans](https://docs.opencv.org/3.0-beta/doc/py_tutorials/py_ml/py_kmeans/py_kmeans_opencv/py_kmeans_opencv.html)"
   ]
  },
  {
   "cell_type": "code",
   "execution_count": null,
   "metadata": {
    "colab": {
     "base_uri": "https://localhost:8080/"
    },
    "executionInfo": {
     "elapsed": 9207,
     "status": "ok",
     "timestamp": 1712213523168,
     "user": {
      "displayName": "CHING PANG GOH",
      "userId": "03150219032412111071"
     },
     "user_tz": -480
    },
    "id": "e4AxLwjCWvnZ",
    "outputId": "22bfa537-4bc0-4989-f0d4-e48deff9a248"
   },
   "outputs": [],
   "source": [
    "!pip install           #complete this"
   ]
  },
  {
   "cell_type": "code",
   "execution_count": null,
   "metadata": {
    "colab": {
     "base_uri": "https://localhost:8080/",
     "height": 411
    },
    "executionInfo": {
     "elapsed": 1326,
     "status": "ok",
     "timestamp": 1712213689357,
     "user": {
      "displayName": "CHING PANG GOH",
      "userId": "03150219032412111071"
     },
     "user_tz": -480
    },
    "id": "6vsbAaaFWvna",
    "outputId": "bfddb086-16ad-4da8-f74d-25ea73c361fc"
   },
   "outputs": [],
   "source": [
    "import numpy as np\n",
    "import cv2\n",
    "import matplotlib.pyplot as plt\n",
    "\n",
    "# Load the image\n",
    "img = cv2.imread('')                 #complete this\n",
    "\n",
    "# Reshape the image to a 2D array of pixels\n",
    "pixels = img.reshape((-1, 1))  # modify to (-1,3) if color image\n",
    "\n",
    "# Convert to float32\n",
    "pixels = np.float32(pixels)\n",
    "\n",
    "# Define the criteria and flags for k-means\n",
    "criteria = (cv2.TERM_CRITERIA_EPS + cv2.TERM_CRITERIA_MAX_ITER, 10, 1.0)\n",
    "k = 2\n",
    "flags = cv2.KMEANS_RANDOM_CENTERS\n",
    "\n",
    "# Apply k-means clustering\n",
    "ret, label, center = cv2.kmeans(pixels, k, None, criteria, None, flags)\n",
    "\n",
    "# Convert the center values back to uint8\n",
    "center = np.uint8(center)\n",
    "\n",
    "# Map each pixel to its corresponding cluster center color\n",
    "segmented_img = center[label.flatten()]\n",
    "segmented_img = segmented_img.reshape(img.shape)\n",
    "\n",
    "# Display the original and segmented images\n",
    "plt.figure(figsize=(10, 5))\n",
    "\n",
    "plt.subplot(1, 2, 1)\n",
    "plt.imshow(cv2.cvtColor(img, cv2.COLOR_BGR2RGB))\n",
    "plt.title('Original Image')\n",
    "plt.axis('off')\n",
    "\n",
    "plt.subplot(1, 2, 2)\n",
    "plt.imshow(cv2.cvtColor(segmented_img, cv2.COLOR_BGR2RGB))\n",
    "plt.title('Segmented Image')\n",
    "plt.axis('off')\n",
    "\n",
    "plt.show()"
   ]
  },
  {
   "cell_type": "markdown",
   "metadata": {
    "id": "VgKUbUv7Wvnb"
   },
   "source": [
    "Remove the background with white color"
   ]
  },
  {
   "cell_type": "code",
   "execution_count": null,
   "metadata": {
    "colab": {
     "base_uri": "https://localhost:8080/",
     "height": 411
    },
    "executionInfo": {
     "elapsed": 1407,
     "status": "ok",
     "timestamp": 1712213581806,
     "user": {
      "displayName": "CHING PANG GOH",
      "userId": "03150219032412111071"
     },
     "user_tz": -480
    },
    "id": "kpZYfbUPWvnb",
    "outputId": "1ec207cd-6a2e-4d3c-9752-bd9e5231e147"
   },
   "outputs": [],
   "source": [
    "import numpy as np\n",
    "import cv2\n",
    "import matplotlib.pyplot as plt\n",
    "\n",
    "# Load the image\n",
    "img = cv2.imread('Cameraman.jpg')\n",
    "\n",
    "# Reshape the image to a 2D array of pixels\n",
    "pixels = img.reshape((-1, 3))  # Assuming it's a color image (3 channels)\n",
    "\n",
    "# Convert to float32\n",
    "pixels = np.float32(pixels)\n",
    "\n",
    "# Define the criteria and flags for k-means\n",
    "criteria = (cv2.TERM_CRITERIA_EPS + cv2.TERM_CRITERIA_MAX_ITER, 10, 1.0)\n",
    "k = 2\n",
    "flags = cv2.KMEANS_RANDOM_CENTERS\n",
    "\n",
    "# Apply k-means clustering\n",
    "ret, label, center = cv2.kmeans(pixels, k, None, criteria, 10, flags)\n",
    "\n",
    "# Convert the center values back to uint8\n",
    "center = np.uint8(center)\n",
    "\n",
    "# Identify the background cluster label\n",
    "unique_labels, label_counts = np.unique(label, return_counts=True)\n",
    "background_label = unique_labels[np.argmin(label_counts)]\n",
    "\n",
    "# Map each pixel to its corresponding cluster center color\n",
    "segmented_img = center[label.flatten()]\n",
    "segmented_img = segmented_img.reshape(img.shape)\n",
    "\n",
    "# Create a mask for the background pixels\n",
    "background_mask = (label == background_label).reshape(img.shape[0], img.shape[1])\n",
    "\n",
    "# Set background pixels to white\n",
    "segmented_img[background_mask] = [255, 255, 255]  # Set to white\n",
    "\n",
    "# Display the original and segmented images\n",
    "plt.figure(figsize=(10, 5))\n",
    "\n",
    "plt.subplot(1, 2, 1)\n",
    "plt.imshow(cv2.cvtColor(img, cv2.COLOR_BGR2RGB))\n",
    "plt.title('Original Image')\n",
    "plt.axis('off')\n",
    "\n",
    "plt.subplot(1, 2, 2)\n",
    "plt.imshow(cv2.cvtColor(segmented_img, cv2.COLOR_BGR2RGB))\n",
    "plt.title('Segmented Image (Background Removed)')\n",
    "plt.axis('off')\n",
    "\n",
    "plt.show()"
   ]
  },
  {
   "cell_type": "code",
   "execution_count": null,
   "metadata": {
    "id": "CFyWG58BWvnb"
   },
   "outputs": [],
   "source": [
    "# Identify the foreground cluster label\n",
    "unique_labels, label_counts = np.unique(label, return_counts=True)\n",
    "foreground_label = unique_labels[np.argmax(label_counts)]\n",
    "\n",
    "# Map each pixel to its corresponding cluster center color\n",
    "segmented_img = center[label.flatten()]\n",
    "segmented_img = segmented_img.reshape(img.shape)\n",
    "\n",
    "# Create a mask for the foreground pixels\n",
    "foreground_mask = (label == foreground_label).reshape(img.shape[0], img.shape[1])\n",
    "\n",
    "# Set foreground pixels to white\n",
    "segmented_img[foreground_mask] = [255, 255, 255]  # Set to white\n",
    "\n",
    "# Display the original and segmented images\n",
    "plt.figure(figsize=(10, 5))\n",
    "\n",
    "plt.subplot(1, 2, 1)\n",
    "plt.imshow(cv2.cvtColor(img, cv2.COLOR_BGR2RGB))\n",
    "plt.title('Original Image')\n",
    "plt.axis('off')\n",
    "\n",
    "plt.subplot(1, 2, 2)\n",
    "plt.imshow(cv2.cvtColor(segmented_img, cv2.COLOR_BGR2RGB))\n",
    "plt.title('Segmented Image (Foreground White)')\n",
    "plt.axis('off')\n",
    "\n",
    "plt.show()"
   ]
  }
 ],
 "metadata": {
  "colab": {
   "provenance": []
  },
  "kernelspec": {
   "display_name": "Python 3 (ipykernel)",
   "language": "python",
   "name": "python3"
  },
  "language_info": {
   "codemirror_mode": {
    "name": "ipython",
    "version": 3
   },
   "file_extension": ".py",
   "mimetype": "text/x-python",
   "name": "python",
   "nbconvert_exporter": "python",
   "pygments_lexer": "ipython3",
   "version": "3.11.7"
  }
 },
 "nbformat": 4,
 "nbformat_minor": 4
}
