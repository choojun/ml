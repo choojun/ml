{
  "cells": [
    {
      "cell_type": "markdown",
      "metadata": {
        "id": "nmvFilQfrd2M"
      },
      "source": [
        "# <font color=\"maroon\"> NLP Toolkits and Preprocessing Techniques </font>\n",
        "Python libraries for natural language processing\n",
        "1. Converting text to a meaningful format for analysis\n",
        "2. Preprocessing and cleaning text\n",
        "\n",
        "Open-Source Libraries<br>\n",
        "1. <font color=\"red\">NLTK<br> </font>\n",
        "2. <font color=\"red\">TextBlob<br></font>\n",
        "3. SpaCy<br>\n",
        "4. GenSim<br>\n",
        "\n",
        "Cloud-Based NLP Services<br>\n",
        "1. IBM Watson<br>\n",
        "2. Google Cloud Natural Language API\n",
        "3. Amazon Comprehend\n",
        "4. Microsoft Azure"
      ]
    },
    {
      "cell_type": "markdown",
      "metadata": {
        "id": "ZaWPMOOxrd2T"
      },
      "source": [
        "## How to Install NLTK?\n",
        "\n",
        "### Method (i) Command Line\n",
        "pip install nltk<br>\n",
        "import nltk<br>\n",
        "nltk.download()\n",
        "\n",
        "### Method (ii) Anaconda Navigator (Environment)\n",
        "![Installation of NLTK library](NLTK.png)\n",
        "\n",
        "### Method (iii) Download Package and Place into Site-package directory\n",
        "Install nltk toolkit from https://sourceforge.net/projects/nltk/<br>\n",
        "![Installation of NLTK library](nltk_package.png)\n",
        "<br>Locate the package into site-package directory <br>\n",
        "(to find the path:<br> import site <br>site.getsitepackages())\n"
      ]
    },
    {
      "cell_type": "code",
      "execution_count": 1,
      "metadata": {
        "id": "AfqK8WmIrd2U",
        "outputId": "0799564e-acd2-4704-9c5a-a32c5935dc5b",
        "colab": {
          "base_uri": "https://localhost:8080/"
        }
      },
      "outputs": [
        {
          "output_type": "execute_result",
          "data": {
            "text/plain": [
              "['/usr/local/lib/python3.11/dist-packages',\n",
              " '/usr/lib/python3/dist-packages',\n",
              " '/usr/lib/python3.11/dist-packages']"
            ]
          },
          "metadata": {},
          "execution_count": 1
        }
      ],
      "source": [
        "import site\n",
        "site.getsitepackages()"
      ]
    },
    {
      "cell_type": "markdown",
      "metadata": {
        "id": "jsjcqnn4cIgS"
      },
      "source": [
        "# Method 1"
      ]
    },
    {
      "cell_type": "code",
      "execution_count": 2,
      "metadata": {
        "colab": {
          "base_uri": "https://localhost:8080/"
        },
        "id": "pGjMpcIMcIgS",
        "outputId": "1ddbd78c-5f3a-4dc5-b385-826925ddbded"
      },
      "outputs": [
        {
          "output_type": "stream",
          "name": "stdout",
          "text": [
            "Requirement already satisfied: nltk in /usr/local/lib/python3.11/dist-packages (3.9.1)\n",
            "Requirement already satisfied: click in /usr/local/lib/python3.11/dist-packages (from nltk) (8.2.1)\n",
            "Requirement already satisfied: joblib in /usr/local/lib/python3.11/dist-packages (from nltk) (1.5.1)\n",
            "Requirement already satisfied: regex>=2021.8.3 in /usr/local/lib/python3.11/dist-packages (from nltk) (2024.11.6)\n",
            "Requirement already satisfied: tqdm in /usr/local/lib/python3.11/dist-packages (from nltk) (4.67.1)\n"
          ]
        }
      ],
      "source": [
        "pip install nltk  #complete this"
      ]
    },
    {
      "cell_type": "code",
      "execution_count": 3,
      "metadata": {
        "id": "EUZQ6uJpcIgT",
        "colab": {
          "base_uri": "https://localhost:8080/"
        },
        "outputId": "506751cc-0458-42b5-a88a-09c88be8edc1"
      },
      "outputs": [
        {
          "output_type": "stream",
          "name": "stderr",
          "text": [
            "[nltk_data] Downloading package punkt_tab to /root/nltk_data...\n",
            "[nltk_data]   Unzipping tokenizers/punkt_tab.zip.\n",
            "[nltk_data] Downloading package stopwords to /root/nltk_data...\n",
            "[nltk_data]   Unzipping corpora/stopwords.zip.\n",
            "[nltk_data] Downloading package wordnet to /root/nltk_data...\n",
            "[nltk_data] Downloading package averaged_perceptron_tagger_eng to\n",
            "[nltk_data]     /root/nltk_data...\n",
            "[nltk_data]   Unzipping taggers/averaged_perceptron_tagger_eng.zip.\n",
            "[nltk_data] Downloading package maxent_ne_chunker_tab to\n",
            "[nltk_data]     /root/nltk_data...\n",
            "[nltk_data]   Unzipping chunkers/maxent_ne_chunker_tab.zip.\n"
          ]
        },
        {
          "output_type": "execute_result",
          "data": {
            "text/plain": [
              "True"
            ]
          },
          "metadata": {},
          "execution_count": 3
        }
      ],
      "source": [
        "import nltk\n",
        "# nltk.download()\n",
        "nltk.download('punkt_tab')\n",
        "nltk.download('stopwords')\n",
        "nltk.download('wordnet')\n",
        "nltk.download('averaged_perceptron_tagger_eng')\n",
        "nltk.download('maxent_ne_chunker_tab')"
      ]
    },
    {
      "cell_type": "code",
      "execution_count": 4,
      "metadata": {
        "colab": {
          "base_uri": "https://localhost:8080/"
        },
        "id": "_ZbxpHd4cIgT",
        "outputId": "10c36965-f3f0-4977-b034-8eead0270362"
      },
      "outputs": [
        {
          "output_type": "stream",
          "name": "stdout",
          "text": [
            "['/root/nltk_data', '/usr/nltk_data', '/usr/share/nltk_data', '/usr/lib/nltk_data', '/usr/share/nltk_data', '/usr/local/share/nltk_data', '/usr/lib/nltk_data', '/usr/local/lib/nltk_data']\n"
          ]
        }
      ],
      "source": [
        "print(nltk.data.path)\n"
      ]
    },
    {
      "cell_type": "markdown",
      "metadata": {
        "id": "h9fuAB41rd2W"
      },
      "source": [
        "## Sample Text Data\n",
        "\n",
        "Consider this sentence:\n",
        "<br>**Hi Mr. Smith! I am going to buy some vegetables (3 tomatoes and 3 cucumbers) from the\n",
        "store. Should I pick up some black-eyed peas as well?**\n",
        "\n",
        "Text data is messy and unstructured. To analyze this data, we need to preprocess the text.\n"
      ]
    },
    {
      "cell_type": "markdown",
      "metadata": {
        "id": "-gctL6qcrd2Y"
      },
      "source": [
        "![](https://i.imgur.com/pt5p6Hb.png)"
      ]
    },
    {
      "cell_type": "markdown",
      "metadata": {
        "id": "JJGrFa0qrd2Y"
      },
      "source": [
        "# Code: Tokenization (Words)"
      ]
    },
    {
      "cell_type": "code",
      "execution_count": 5,
      "metadata": {
        "id": "s_xmMSXArd2Y",
        "outputId": "7b270e2f-47fd-49ee-9887-eb1f29114508",
        "colab": {
          "base_uri": "https://localhost:8080/"
        }
      },
      "outputs": [
        {
          "output_type": "stream",
          "name": "stdout",
          "text": [
            "['Hi', 'Mr.', 'Smith', '!', 'I', 'am', 'going', 'to', 'buy', 'some', 'vegetables', '(', '3', 'tomatoes', 'and', '3', 'cucumbers', ')', 'from', 'the', 'store', '.', 'Should', 'I', 'pick', 'up', 'some', 'black-eyed', 'peas', 'as', 'well', '?']\n"
          ]
        }
      ],
      "source": [
        "from nltk.tokenize import word_tokenize  #complete this\n",
        "\n",
        "my_text = '''Hi Mr. Smith! I am going to buy some vegetables (3 tomatoes and 3 cucumbers)\n",
        "from the store. Should I pick up some black-eyed peas as well?'''\n",
        "\n",
        "print(word_tokenize(my_text))"
      ]
    },
    {
      "cell_type": "markdown",
      "metadata": {
        "id": "pbzU3hrZrd2Z"
      },
      "source": [
        "# Code: Tokenization (Sentences)"
      ]
    },
    {
      "cell_type": "code",
      "execution_count": 6,
      "metadata": {
        "id": "vEFjou9Mrd2a",
        "outputId": "c7d6f99e-8e04-4d8f-b2fc-4d50a2358a1c",
        "scrolled": true,
        "colab": {
          "base_uri": "https://localhost:8080/"
        }
      },
      "outputs": [
        {
          "output_type": "stream",
          "name": "stdout",
          "text": [
            "['Hi Mr. Smith!', 'I am going to buy some vegetables (3 tomatoes and 3 cucumbers)\\nfrom the store.', 'Should I pick up some black-eyed peas as well?']\n"
          ]
        }
      ],
      "source": [
        "from nltk.tokenize import sent_tokenize   #complete this\n",
        "\n",
        "my_text = '''Hi Mr. Smith! I am going to buy some vegetables (3 tomatoes and 3 cucumbers)\n",
        "from the store. Should I pick up some black-eyed peas as well?'''\n",
        "\n",
        "print(sent_tokenize(my_text))"
      ]
    },
    {
      "cell_type": "markdown",
      "metadata": {
        "id": "aOhJjUDlrd2e"
      },
      "source": [
        "![](https://i.imgur.com/3L6x92C.png)"
      ]
    },
    {
      "cell_type": "markdown",
      "metadata": {
        "id": "dr8o5eNmrd2e"
      },
      "source": [
        "# Code: Remove Punctuation"
      ]
    },
    {
      "cell_type": "code",
      "execution_count": 7,
      "metadata": {
        "id": "IgqeFhzerd2e",
        "outputId": "f5b39c44-f3a8-4304-c7dc-3f976d11c756",
        "colab": {
          "base_uri": "https://localhost:8080/",
          "height": 35
        }
      },
      "outputs": [
        {
          "output_type": "execute_result",
          "data": {
            "text/plain": [
              "'Hi Mr Smith I am going to buy some vegetables 3 tomatoes and 3 cucumbers\\nfrom the store Should I pick up some blackeyed peas as well'"
            ],
            "application/vnd.google.colaboratory.intrinsic+json": {
              "type": "string"
            }
          },
          "metadata": {},
          "execution_count": 7
        }
      ],
      "source": [
        "import re              #complete this\n",
        "import string\n",
        "\n",
        "#Replace punctuations with a white space\n",
        "s = re.sub('[^\\w\\s]','',my_text)            #complete this\n",
        "s\n",
        "\n",
        "#OR\n",
        "# clean_text = re.sub('[%s]' % re.escape(string.punctuation), ' ', my_text)  # string.punctuation is a string defined in the string module of Python. It contains all the punctuation characters: !\"#$%&'()*+,-./:;<=>?@[\\]^_{|}~`.\n",
        "# clean_text"
      ]
    },
    {
      "cell_type": "markdown",
      "metadata": {
        "id": "Rwv4BKQzrd2f"
      },
      "source": [
        "# Code: Make All Text Lowercase"
      ]
    },
    {
      "cell_type": "code",
      "execution_count": 8,
      "metadata": {
        "id": "evdfIo5Ird2g",
        "outputId": "39676a52-aaca-48c3-df93-16af5d328cc4",
        "colab": {
          "base_uri": "https://localhost:8080/",
          "height": 35
        }
      },
      "outputs": [
        {
          "output_type": "execute_result",
          "data": {
            "text/plain": [
              "'HI MR SMITH I AM GOING TO BUY SOME VEGETABLES 3 TOMATOES AND 3 CUCUMBERS\\nFROM THE STORE SHOULD I PICK UP SOME BLACKEYED PEAS AS WELL'"
            ],
            "application/vnd.google.colaboratory.intrinsic+json": {
              "type": "string"
            }
          },
          "metadata": {},
          "execution_count": 8
        }
      ],
      "source": [
        "clean_text = s.upper()           #complete this\n",
        "clean_text"
      ]
    },
    {
      "cell_type": "code",
      "source": [
        "clean_text = s.lower()           #complete this\n",
        "clean_text"
      ],
      "metadata": {
        "colab": {
          "base_uri": "https://localhost:8080/",
          "height": 35
        },
        "id": "pJBHPk4Ai0ph",
        "outputId": "4c65f348-4698-4c04-f454-013f6f123bf1"
      },
      "execution_count": 9,
      "outputs": [
        {
          "output_type": "execute_result",
          "data": {
            "text/plain": [
              "'hi mr smith i am going to buy some vegetables 3 tomatoes and 3 cucumbers\\nfrom the store should i pick up some blackeyed peas as well'"
            ],
            "application/vnd.google.colaboratory.intrinsic+json": {
              "type": "string"
            }
          },
          "metadata": {},
          "execution_count": 9
        }
      ]
    },
    {
      "cell_type": "markdown",
      "metadata": {
        "id": "6DEi4_gYrd2h"
      },
      "source": [
        "# Code: Remove Numbers"
      ]
    },
    {
      "cell_type": "code",
      "execution_count": 10,
      "metadata": {
        "id": "AAuSuRNBrd2h",
        "outputId": "1de45659-64d4-41ef-df74-9e7b0236bd9f",
        "colab": {
          "base_uri": "https://localhost:8080/",
          "height": 35
        }
      },
      "outputs": [
        {
          "output_type": "execute_result",
          "data": {
            "text/plain": [
              "'hi mr smith i am going to buy some vegetables  tomatoes and  cucumbers\\nfrom the store should i pick up some blackeyed peas as well'"
            ],
            "application/vnd.google.colaboratory.intrinsic+json": {
              "type": "string"
            }
          },
          "metadata": {},
          "execution_count": 10
        }
      ],
      "source": [
        "# Removes all words containing digits\n",
        "clean_text = re.sub('\\d', '', clean_text)  #complete this\n",
        "clean_text"
      ]
    },
    {
      "cell_type": "markdown",
      "metadata": {
        "id": "MAyxd4Kgrd2i"
      },
      "source": [
        "# <font color='blue'>Preprocessing: Stop Words</font>"
      ]
    },
    {
      "cell_type": "markdown",
      "metadata": {
        "id": "AI9336Hqrd2i"
      },
      "source": [
        "![](https://i.imgur.com/T5RJXrX.png)"
      ]
    },
    {
      "cell_type": "markdown",
      "metadata": {
        "id": "gg_vlZdErd4Z"
      },
      "source": [
        "# Code: Stop Words"
      ]
    },
    {
      "cell_type": "code",
      "execution_count": 11,
      "metadata": {
        "id": "zwAJ5PK1rd4Z",
        "outputId": "aae75df4-59d8-4f69-840a-868f58b70815",
        "colab": {
          "base_uri": "https://localhost:8080/"
        }
      },
      "outputs": [
        {
          "output_type": "execute_result",
          "data": {
            "text/plain": [
              "{'a',\n",
              " 'about',\n",
              " 'above',\n",
              " 'after',\n",
              " 'again',\n",
              " 'against',\n",
              " 'ain',\n",
              " 'all',\n",
              " 'am',\n",
              " 'an',\n",
              " 'and',\n",
              " 'any',\n",
              " 'are',\n",
              " 'aren',\n",
              " \"aren't\",\n",
              " 'as',\n",
              " 'at',\n",
              " 'be',\n",
              " 'because',\n",
              " 'been',\n",
              " 'before',\n",
              " 'being',\n",
              " 'below',\n",
              " 'between',\n",
              " 'both',\n",
              " 'but',\n",
              " 'by',\n",
              " 'can',\n",
              " 'couldn',\n",
              " \"couldn't\",\n",
              " 'd',\n",
              " 'did',\n",
              " 'didn',\n",
              " \"didn't\",\n",
              " 'do',\n",
              " 'does',\n",
              " 'doesn',\n",
              " \"doesn't\",\n",
              " 'doing',\n",
              " 'don',\n",
              " \"don't\",\n",
              " 'down',\n",
              " 'during',\n",
              " 'each',\n",
              " 'few',\n",
              " 'for',\n",
              " 'from',\n",
              " 'further',\n",
              " 'had',\n",
              " 'hadn',\n",
              " \"hadn't\",\n",
              " 'has',\n",
              " 'hasn',\n",
              " \"hasn't\",\n",
              " 'have',\n",
              " 'haven',\n",
              " \"haven't\",\n",
              " 'having',\n",
              " 'he',\n",
              " \"he'd\",\n",
              " \"he'll\",\n",
              " \"he's\",\n",
              " 'her',\n",
              " 'here',\n",
              " 'hers',\n",
              " 'herself',\n",
              " 'him',\n",
              " 'himself',\n",
              " 'his',\n",
              " 'how',\n",
              " 'i',\n",
              " \"i'd\",\n",
              " \"i'll\",\n",
              " \"i'm\",\n",
              " \"i've\",\n",
              " 'if',\n",
              " 'in',\n",
              " 'into',\n",
              " 'is',\n",
              " 'isn',\n",
              " \"isn't\",\n",
              " 'it',\n",
              " \"it'd\",\n",
              " \"it'll\",\n",
              " \"it's\",\n",
              " 'its',\n",
              " 'itself',\n",
              " 'just',\n",
              " 'll',\n",
              " 'm',\n",
              " 'ma',\n",
              " 'me',\n",
              " 'mightn',\n",
              " \"mightn't\",\n",
              " 'more',\n",
              " 'most',\n",
              " 'mustn',\n",
              " \"mustn't\",\n",
              " 'my',\n",
              " 'myself',\n",
              " 'needn',\n",
              " \"needn't\",\n",
              " 'no',\n",
              " 'nor',\n",
              " 'not',\n",
              " 'now',\n",
              " 'o',\n",
              " 'of',\n",
              " 'off',\n",
              " 'on',\n",
              " 'once',\n",
              " 'only',\n",
              " 'or',\n",
              " 'other',\n",
              " 'our',\n",
              " 'ours',\n",
              " 'ourselves',\n",
              " 'out',\n",
              " 'over',\n",
              " 'own',\n",
              " 're',\n",
              " 's',\n",
              " 'same',\n",
              " 'shan',\n",
              " \"shan't\",\n",
              " 'she',\n",
              " \"she'd\",\n",
              " \"she'll\",\n",
              " \"she's\",\n",
              " 'should',\n",
              " \"should've\",\n",
              " 'shouldn',\n",
              " \"shouldn't\",\n",
              " 'so',\n",
              " 'some',\n",
              " 'such',\n",
              " 't',\n",
              " 'than',\n",
              " 'that',\n",
              " \"that'll\",\n",
              " 'the',\n",
              " 'their',\n",
              " 'theirs',\n",
              " 'them',\n",
              " 'themselves',\n",
              " 'then',\n",
              " 'there',\n",
              " 'these',\n",
              " 'they',\n",
              " \"they'd\",\n",
              " \"they'll\",\n",
              " \"they're\",\n",
              " \"they've\",\n",
              " 'this',\n",
              " 'those',\n",
              " 'through',\n",
              " 'to',\n",
              " 'too',\n",
              " 'under',\n",
              " 'until',\n",
              " 'up',\n",
              " 've',\n",
              " 'very',\n",
              " 'was',\n",
              " 'wasn',\n",
              " \"wasn't\",\n",
              " 'we',\n",
              " \"we'd\",\n",
              " \"we'll\",\n",
              " \"we're\",\n",
              " \"we've\",\n",
              " 'were',\n",
              " 'weren',\n",
              " \"weren't\",\n",
              " 'what',\n",
              " 'when',\n",
              " 'where',\n",
              " 'which',\n",
              " 'while',\n",
              " 'who',\n",
              " 'whom',\n",
              " 'why',\n",
              " 'will',\n",
              " 'with',\n",
              " 'won',\n",
              " \"won't\",\n",
              " 'wouldn',\n",
              " \"wouldn't\",\n",
              " 'y',\n",
              " 'you',\n",
              " \"you'd\",\n",
              " \"you'll\",\n",
              " \"you're\",\n",
              " \"you've\",\n",
              " 'your',\n",
              " 'yours',\n",
              " 'yourself',\n",
              " 'yourselves'}"
            ]
          },
          "metadata": {},
          "execution_count": 11
        }
      ],
      "source": [
        "from nltk.corpus import stopwords      #complete this\n",
        "set(stopwords.words('english'))        #complete this"
      ]
    },
    {
      "cell_type": "markdown",
      "metadata": {
        "id": "fBWIOjUCrd4a"
      },
      "source": [
        "# Code: Remove Stop Words"
      ]
    },
    {
      "cell_type": "markdown",
      "metadata": {
        "id": "EKfQc-qfrd4a"
      },
      "source": [
        "<a href=\"https://scikit-learn.org/stable/modules/generated/sklearn.feature_extraction.text.CountVectorizer.html\">CountVectorizer</a>"
      ]
    },
    {
      "cell_type": "code",
      "execution_count": 12,
      "metadata": {
        "id": "8fAaaw_Zrd4b",
        "outputId": "bf9ce09b-f48f-4842-f820-e44e61db9c73",
        "colab": {
          "base_uri": "https://localhost:8080/",
          "height": 384
        }
      },
      "outputs": [
        {
          "output_type": "stream",
          "name": "stdout",
          "text": [
            "<Compressed Sparse Row sparse matrix of dtype 'int64'\n",
            "\twith 14 stored elements and shape (1, 14)>\n",
            "  Coords\tValues\n",
            "  (0, 6)\t1\n",
            "  (0, 7)\t1\n",
            "  (0, 10)\t4\n",
            "  (0, 0)\t3\n",
            "  (0, 4)\t4\n",
            "  (0, 1)\t1\n",
            "  (0, 13)\t1\n",
            "  (0, 12)\t1\n",
            "  (0, 2)\t1\n",
            "  (0, 5)\t1\n",
            "  (0, 11)\t1\n",
            "  (0, 9)\t1\n",
            "  (0, 3)\t1\n",
            "  (0, 8)\t1\n"
          ]
        },
        {
          "output_type": "execute_result",
          "data": {
            "text/plain": [
              "   black  buy  cucumbers  eyed  going  goingsmith  hi  mr  peas  pick  smith  \\\n",
              "0      3    1          1     1      4           1   1   1     1     1      4   \n",
              "\n",
              "   store  tomatoes  vegetables  \n",
              "0      1         1           1  "
            ],
            "text/html": [
              "\n",
              "  <div id=\"df-a15cb176-8b38-4df6-b798-130e14c43bdb\" class=\"colab-df-container\">\n",
              "    <div>\n",
              "<style scoped>\n",
              "    .dataframe tbody tr th:only-of-type {\n",
              "        vertical-align: middle;\n",
              "    }\n",
              "\n",
              "    .dataframe tbody tr th {\n",
              "        vertical-align: top;\n",
              "    }\n",
              "\n",
              "    .dataframe thead th {\n",
              "        text-align: right;\n",
              "    }\n",
              "</style>\n",
              "<table border=\"1\" class=\"dataframe\">\n",
              "  <thead>\n",
              "    <tr style=\"text-align: right;\">\n",
              "      <th></th>\n",
              "      <th>black</th>\n",
              "      <th>buy</th>\n",
              "      <th>cucumbers</th>\n",
              "      <th>eyed</th>\n",
              "      <th>going</th>\n",
              "      <th>goingsmith</th>\n",
              "      <th>hi</th>\n",
              "      <th>mr</th>\n",
              "      <th>peas</th>\n",
              "      <th>pick</th>\n",
              "      <th>smith</th>\n",
              "      <th>store</th>\n",
              "      <th>tomatoes</th>\n",
              "      <th>vegetables</th>\n",
              "    </tr>\n",
              "  </thead>\n",
              "  <tbody>\n",
              "    <tr>\n",
              "      <th>0</th>\n",
              "      <td>3</td>\n",
              "      <td>1</td>\n",
              "      <td>1</td>\n",
              "      <td>1</td>\n",
              "      <td>4</td>\n",
              "      <td>1</td>\n",
              "      <td>1</td>\n",
              "      <td>1</td>\n",
              "      <td>1</td>\n",
              "      <td>1</td>\n",
              "      <td>4</td>\n",
              "      <td>1</td>\n",
              "      <td>1</td>\n",
              "      <td>1</td>\n",
              "    </tr>\n",
              "  </tbody>\n",
              "</table>\n",
              "</div>\n",
              "    <div class=\"colab-df-buttons\">\n",
              "\n",
              "  <div class=\"colab-df-container\">\n",
              "    <button class=\"colab-df-convert\" onclick=\"convertToInteractive('df-a15cb176-8b38-4df6-b798-130e14c43bdb')\"\n",
              "            title=\"Convert this dataframe to an interactive table.\"\n",
              "            style=\"display:none;\">\n",
              "\n",
              "  <svg xmlns=\"http://www.w3.org/2000/svg\" height=\"24px\" viewBox=\"0 -960 960 960\">\n",
              "    <path d=\"M120-120v-720h720v720H120Zm60-500h600v-160H180v160Zm220 220h160v-160H400v160Zm0 220h160v-160H400v160ZM180-400h160v-160H180v160Zm440 0h160v-160H620v160ZM180-180h160v-160H180v160Zm440 0h160v-160H620v160Z\"/>\n",
              "  </svg>\n",
              "    </button>\n",
              "\n",
              "  <style>\n",
              "    .colab-df-container {\n",
              "      display:flex;\n",
              "      gap: 12px;\n",
              "    }\n",
              "\n",
              "    .colab-df-convert {\n",
              "      background-color: #E8F0FE;\n",
              "      border: none;\n",
              "      border-radius: 50%;\n",
              "      cursor: pointer;\n",
              "      display: none;\n",
              "      fill: #1967D2;\n",
              "      height: 32px;\n",
              "      padding: 0 0 0 0;\n",
              "      width: 32px;\n",
              "    }\n",
              "\n",
              "    .colab-df-convert:hover {\n",
              "      background-color: #E2EBFA;\n",
              "      box-shadow: 0px 1px 2px rgba(60, 64, 67, 0.3), 0px 1px 3px 1px rgba(60, 64, 67, 0.15);\n",
              "      fill: #174EA6;\n",
              "    }\n",
              "\n",
              "    .colab-df-buttons div {\n",
              "      margin-bottom: 4px;\n",
              "    }\n",
              "\n",
              "    [theme=dark] .colab-df-convert {\n",
              "      background-color: #3B4455;\n",
              "      fill: #D2E3FC;\n",
              "    }\n",
              "\n",
              "    [theme=dark] .colab-df-convert:hover {\n",
              "      background-color: #434B5C;\n",
              "      box-shadow: 0px 1px 3px 1px rgba(0, 0, 0, 0.15);\n",
              "      filter: drop-shadow(0px 1px 2px rgba(0, 0, 0, 0.3));\n",
              "      fill: #FFFFFF;\n",
              "    }\n",
              "  </style>\n",
              "\n",
              "    <script>\n",
              "      const buttonEl =\n",
              "        document.querySelector('#df-a15cb176-8b38-4df6-b798-130e14c43bdb button.colab-df-convert');\n",
              "      buttonEl.style.display =\n",
              "        google.colab.kernel.accessAllowed ? 'block' : 'none';\n",
              "\n",
              "      async function convertToInteractive(key) {\n",
              "        const element = document.querySelector('#df-a15cb176-8b38-4df6-b798-130e14c43bdb');\n",
              "        const dataTable =\n",
              "          await google.colab.kernel.invokeFunction('convertToInteractive',\n",
              "                                                    [key], {});\n",
              "        if (!dataTable) return;\n",
              "\n",
              "        const docLinkHtml = 'Like what you see? Visit the ' +\n",
              "          '<a target=\"_blank\" href=https://colab.research.google.com/notebooks/data_table.ipynb>data table notebook</a>'\n",
              "          + ' to learn more about interactive tables.';\n",
              "        element.innerHTML = '';\n",
              "        dataTable['output_type'] = 'display_data';\n",
              "        await google.colab.output.renderOutput(dataTable, element);\n",
              "        const docLink = document.createElement('div');\n",
              "        docLink.innerHTML = docLinkHtml;\n",
              "        element.appendChild(docLink);\n",
              "      }\n",
              "    </script>\n",
              "  </div>\n",
              "\n",
              "\n",
              "    </div>\n",
              "  </div>\n"
            ],
            "application/vnd.google.colaboratory.intrinsic+json": {
              "type": "dataframe",
              "summary": "{\n  \"name\": \"# self learn numpy: https://www\",\n  \"rows\": 1,\n  \"fields\": [\n    {\n      \"column\": \"black\",\n      \"properties\": {\n        \"dtype\": \"number\",\n        \"std\": null,\n        \"min\": 3,\n        \"max\": 3,\n        \"num_unique_values\": 1,\n        \"samples\": [\n          3\n        ],\n        \"semantic_type\": \"\",\n        \"description\": \"\"\n      }\n    },\n    {\n      \"column\": \"buy\",\n      \"properties\": {\n        \"dtype\": \"number\",\n        \"std\": null,\n        \"min\": 1,\n        \"max\": 1,\n        \"num_unique_values\": 1,\n        \"samples\": [\n          1\n        ],\n        \"semantic_type\": \"\",\n        \"description\": \"\"\n      }\n    },\n    {\n      \"column\": \"cucumbers\",\n      \"properties\": {\n        \"dtype\": \"number\",\n        \"std\": null,\n        \"min\": 1,\n        \"max\": 1,\n        \"num_unique_values\": 1,\n        \"samples\": [\n          1\n        ],\n        \"semantic_type\": \"\",\n        \"description\": \"\"\n      }\n    },\n    {\n      \"column\": \"eyed\",\n      \"properties\": {\n        \"dtype\": \"number\",\n        \"std\": null,\n        \"min\": 1,\n        \"max\": 1,\n        \"num_unique_values\": 1,\n        \"samples\": [\n          1\n        ],\n        \"semantic_type\": \"\",\n        \"description\": \"\"\n      }\n    },\n    {\n      \"column\": \"going\",\n      \"properties\": {\n        \"dtype\": \"number\",\n        \"std\": null,\n        \"min\": 4,\n        \"max\": 4,\n        \"num_unique_values\": 1,\n        \"samples\": [\n          4\n        ],\n        \"semantic_type\": \"\",\n        \"description\": \"\"\n      }\n    },\n    {\n      \"column\": \"goingsmith\",\n      \"properties\": {\n        \"dtype\": \"number\",\n        \"std\": null,\n        \"min\": 1,\n        \"max\": 1,\n        \"num_unique_values\": 1,\n        \"samples\": [\n          1\n        ],\n        \"semantic_type\": \"\",\n        \"description\": \"\"\n      }\n    },\n    {\n      \"column\": \"hi\",\n      \"properties\": {\n        \"dtype\": \"number\",\n        \"std\": null,\n        \"min\": 1,\n        \"max\": 1,\n        \"num_unique_values\": 1,\n        \"samples\": [\n          1\n        ],\n        \"semantic_type\": \"\",\n        \"description\": \"\"\n      }\n    },\n    {\n      \"column\": \"mr\",\n      \"properties\": {\n        \"dtype\": \"number\",\n        \"std\": null,\n        \"min\": 1,\n        \"max\": 1,\n        \"num_unique_values\": 1,\n        \"samples\": [\n          1\n        ],\n        \"semantic_type\": \"\",\n        \"description\": \"\"\n      }\n    },\n    {\n      \"column\": \"peas\",\n      \"properties\": {\n        \"dtype\": \"number\",\n        \"std\": null,\n        \"min\": 1,\n        \"max\": 1,\n        \"num_unique_values\": 1,\n        \"samples\": [\n          1\n        ],\n        \"semantic_type\": \"\",\n        \"description\": \"\"\n      }\n    },\n    {\n      \"column\": \"pick\",\n      \"properties\": {\n        \"dtype\": \"number\",\n        \"std\": null,\n        \"min\": 1,\n        \"max\": 1,\n        \"num_unique_values\": 1,\n        \"samples\": [\n          1\n        ],\n        \"semantic_type\": \"\",\n        \"description\": \"\"\n      }\n    },\n    {\n      \"column\": \"smith\",\n      \"properties\": {\n        \"dtype\": \"number\",\n        \"std\": null,\n        \"min\": 4,\n        \"max\": 4,\n        \"num_unique_values\": 1,\n        \"samples\": [\n          4\n        ],\n        \"semantic_type\": \"\",\n        \"description\": \"\"\n      }\n    },\n    {\n      \"column\": \"store\",\n      \"properties\": {\n        \"dtype\": \"number\",\n        \"std\": null,\n        \"min\": 1,\n        \"max\": 1,\n        \"num_unique_values\": 1,\n        \"samples\": [\n          1\n        ],\n        \"semantic_type\": \"\",\n        \"description\": \"\"\n      }\n    },\n    {\n      \"column\": \"tomatoes\",\n      \"properties\": {\n        \"dtype\": \"number\",\n        \"std\": null,\n        \"min\": 1,\n        \"max\": 1,\n        \"num_unique_values\": 1,\n        \"samples\": [\n          1\n        ],\n        \"semantic_type\": \"\",\n        \"description\": \"\"\n      }\n    },\n    {\n      \"column\": \"vegetables\",\n      \"properties\": {\n        \"dtype\": \"number\",\n        \"std\": null,\n        \"min\": 1,\n        \"max\": 1,\n        \"num_unique_values\": 1,\n        \"samples\": [\n          1\n        ],\n        \"semantic_type\": \"\",\n        \"description\": \"\"\n      }\n    }\n  ]\n}"
            }
          },
          "metadata": {},
          "execution_count": 12
        }
      ],
      "source": [
        "from sklearn.feature_extraction.text import CountVectorizer        #complete this\n",
        "import pandas as pd\n",
        "\n",
        "my_text = [\"Hi Mr. Smith! I’m black going Smith to buy black going Smith some vegetables \\\n",
        "(3 tomatoes and 3 cucumbers from goingSmith going the store. Should Smith I pick up going some black-eyed peas as well?\"]\n",
        "\n",
        "# Incorporate stop words when creating the count vectorizer\n",
        "cv = CountVectorizer(stop_words='english')           #complete this\n",
        "X = cv.fit_transform(my_text)                        #complete this\n",
        "print (X)\n",
        "pd.DataFrame(X.toarray(), columns=cv.get_feature_names_out())\n",
        "\n",
        "# Reference: https://www.geeksforgeeks.org/difference-between-pandas-vs-numpy/\n",
        "# self learn pandas: https://www.w3schools.com/python/pandas/pandas_intro.asp\n",
        "# self learn numpy: https://www.w3schools.com/python/numpy/numpy_intro.asp"
      ]
    },
    {
      "cell_type": "markdown",
      "metadata": {
        "id": "sgPbENbQrd4b"
      },
      "source": [
        "The process of using CountVectorizer.fit_transform involves the following steps:\n",
        "\n",
        "(1)Tokenization: The text documents are first tokenized, breaking them into individual words or tokens.\n",
        "\n",
        "(2)Vocabulary Building (fit): CountVectorizer builds a vocabulary, which is a dictionary mapping each unique word (or token) in the documents to an integer index.\n",
        "\n",
        "(3)Counting (transform): It then counts the occurrences of each word in each document and stores these counts in a sparse matrix, where rows represent documents, and columns represent the vocabulary words. Each element of the matrix represents the frequency of the corresponding word in the respective document."
      ]
    },
    {
      "cell_type": "markdown",
      "metadata": {
        "id": "9OMyEkOQrd4c"
      },
      "source": [
        "![](https://i.imgur.com/9qllh8j.png)"
      ]
    },
    {
      "cell_type": "markdown",
      "metadata": {
        "id": "YlkukpcRrd4c"
      },
      "source": [
        "# Code: Stemming"
      ]
    },
    {
      "cell_type": "code",
      "execution_count": 14,
      "metadata": {
        "id": "yUzdKeTard4c",
        "outputId": "f4472e6a-7364-471a-a44d-6a2f4bbc4c87",
        "colab": {
          "base_uri": "https://localhost:8080/"
        }
      },
      "outputs": [
        {
          "output_type": "stream",
          "name": "stdout",
          "text": [
            "drive:driv\n",
            "drives:driv\n",
            "driver:driv\n",
            "drivers:driv\n",
            "driven:driv\n"
          ]
        }
      ],
      "source": [
        "from nltk.stem import LancasterStemmer              #complete this\n",
        "stemmer = LancasterStemmer()                        #complete this\n",
        "\n",
        "# Try some stems\n",
        "print('drive:{}'.format(stemmer.stem('drive')))\n",
        "print('drives:{}'.format(stemmer.stem('drives')))\n",
        "print('driver:{}'.format(stemmer.stem('driver')))\n",
        "print('drivers:{}'.format(stemmer.stem('drivers')))\n",
        "print('driven:{}'.format(stemmer.stem('driven')))"
      ]
    },
    {
      "cell_type": "markdown",
      "metadata": {
        "id": "wvJnHx7Krd4c"
      },
      "source": [
        "# Code: Lemmatization"
      ]
    },
    {
      "cell_type": "code",
      "execution_count": 15,
      "metadata": {
        "id": "vWsKV9CTcIgX",
        "outputId": "7d18596e-bd85-4463-f4f8-5a657285b772",
        "colab": {
          "base_uri": "https://localhost:8080/"
        }
      },
      "outputs": [
        {
          "output_type": "stream",
          "name": "stdout",
          "text": [
            "been\n",
            "had\n",
            "done\n",
            "language\n",
            "city\n",
            "mouse\n",
            "running\n",
            "fly\n"
          ]
        }
      ],
      "source": [
        "from nltk.stem import WordNetLemmatizer   #complete this # Reference: https://www.nltk.org/api/nltk.stem.wordnet.html\n",
        "from nltk.tokenize import word_tokenize\n",
        "lemmatizer=WordNetLemmatizer()\n",
        "\n",
        "input_str = \"been had done languages cities mice running flies\"\n",
        "input_str = word_tokenize(input_str)\n",
        "for word in input_str:\n",
        "    print(lemmatizer.lemmatize(word))"
      ]
    },
    {
      "cell_type": "code",
      "execution_count": 16,
      "metadata": {
        "id": "_f7_Sd85cIgX",
        "outputId": "b99f2607-b575-4cc4-f2b3-b63df9903447",
        "colab": {
          "base_uri": "https://localhost:8080/"
        }
      },
      "outputs": [
        {
          "output_type": "stream",
          "name": "stdout",
          "text": [
            "run\n"
          ]
        }
      ],
      "source": [
        "print(lemmatizer.lemmatize(\"running\", pos=\"v\"))"
      ]
    },
    {
      "cell_type": "markdown",
      "metadata": {
        "id": "H0kvAH-Lrd4d"
      },
      "source": [
        "![](https://i.imgur.com/8edVsCR.png)"
      ]
    },
    {
      "cell_type": "markdown",
      "metadata": {
        "id": "UHDjq6x_rd4e"
      },
      "source": [
        "# Code: Parts of Speech Tagging"
      ]
    },
    {
      "cell_type": "code",
      "execution_count": 17,
      "metadata": {
        "colab": {
          "base_uri": "https://localhost:8080/"
        },
        "id": "yU1uQFs1rd4e",
        "outputId": "bc7f2b19-79db-443a-983c-772957cabf47"
      },
      "outputs": [
        {
          "output_type": "stream",
          "name": "stderr",
          "text": [
            "[nltk_data] Downloading package punkt to /root/nltk_data...\n",
            "[nltk_data]   Unzipping tokenizers/punkt.zip.\n",
            "[nltk_data] Downloading package averaged_perceptron_tagger to\n",
            "[nltk_data]     /root/nltk_data...\n",
            "[nltk_data]   Unzipping taggers/averaged_perceptron_tagger.zip.\n"
          ]
        },
        {
          "output_type": "stream",
          "name": "stdout",
          "text": [
            "Sentence 1: [('James', 'NNP'), ('Smith', 'NNP'), ('lives', 'VBZ'), ('in', 'IN'), ('the', 'DT'), ('Penang', 'NNP'), ('.', '.')]\n",
            "Sentence 2: [('James', 'NNP'), ('Smith', 'NNP'), ('is', 'VBZ'), ('having', 'VBG'), ('a', 'DT'), ('live', 'JJ'), ('band', 'NN'), ('in', 'IN'), ('the', 'DT'), ('United', 'NNP'), ('States', 'NNPS'), ('.', '.')]\n"
          ]
        }
      ],
      "source": [
        "from nltk.tag import pos_tag                         #complete this\n",
        "nltk.download('punkt')\n",
        "nltk.download('averaged_perceptron_tagger')\n",
        "\n",
        "my_text = \"James Smith lives in the Penang.\"\n",
        "my_text2 = \"James Smith is having a live band in the United States.\"\n",
        "tokens = pos_tag(word_tokenize(my_text))\n",
        "tokens2 = pos_tag(word_tokenize(my_text2))\n",
        "print(\"Sentence 1:\",tokens)\n",
        "print(\"Sentence 2:\",tokens2)\n",
        "\n",
        "#Reference:https://pythonspot.com/nltk-speech-tagging/"
      ]
    },
    {
      "cell_type": "markdown",
      "metadata": {
        "id": "8vfPiB0Erd4f"
      },
      "source": [
        "![POS](nltk-speech-codes.png)"
      ]
    },
    {
      "cell_type": "markdown",
      "metadata": {
        "id": "kfpmNQBHrd4f"
      },
      "source": [
        "## Named Entity Recognition"
      ]
    },
    {
      "cell_type": "code",
      "execution_count": 18,
      "metadata": {
        "colab": {
          "base_uri": "https://localhost:8080/"
        },
        "id": "-clqK5cCrd4f",
        "outputId": "bf7228b2-a5b6-4ca0-caae-538631e5d56e"
      },
      "outputs": [
        {
          "output_type": "stream",
          "name": "stderr",
          "text": [
            "[nltk_data] Downloading package maxent_ne_chunker to\n",
            "[nltk_data]     /root/nltk_data...\n",
            "[nltk_data]   Unzipping chunkers/maxent_ne_chunker.zip.\n",
            "[nltk_data] Downloading package words to /root/nltk_data...\n",
            "[nltk_data]   Unzipping corpora/words.zip.\n"
          ]
        },
        {
          "output_type": "stream",
          "name": "stdout",
          "text": [
            "(S\n",
            "  (PERSON James/NNP)\n",
            "  (PERSON Smith/NNP)\n",
            "  lives/VBZ\n",
            "  in/IN\n",
            "  the/DT\n",
            "  (ORGANIZATION Penang/NNP)\n",
            "  ./.)\n"
          ]
        }
      ],
      "source": [
        "nltk.download('maxent_ne_chunker')\n",
        "nltk.download('words')\n",
        "from nltk.chunk import ne_chunk  #complete this\n",
        "\n",
        "my_text = \"James Smith lives in the Penang.\"\n",
        "tokens = pos_tag(word_tokenize(my_text)) # this labels each word as a part of speech\n",
        "entities = ne_chunk(tokens) # this extracts entities from the list of words\n",
        "# entities.draw() # This requires a graphical display, which is not available in Colab.\n",
        "print(entities) # Print the tree structure to the console instead."
      ]
    },
    {
      "cell_type": "markdown",
      "metadata": {
        "id": "vjiixNgFrd4f"
      },
      "source": [
        "# <font color=\"blue\"> Prepocessing: Compound Term Extraction </font>"
      ]
    },
    {
      "cell_type": "markdown",
      "metadata": {
        "id": "bXsIaKOxrd4h"
      },
      "source": [
        "![](https://i.imgur.com/q1WuWai.png)"
      ]
    },
    {
      "cell_type": "markdown",
      "metadata": {
        "id": "c4KwWt67rd4h"
      },
      "source": [
        "# Code: Compound Term Extraction"
      ]
    },
    {
      "cell_type": "code",
      "execution_count": 19,
      "metadata": {
        "id": "pn3S4RwHrd4h",
        "outputId": "6ce1565b-a549-4d4b-97da-ab8d21d825ff",
        "colab": {
          "base_uri": "https://localhost:8080/"
        }
      },
      "outputs": [
        {
          "output_type": "execute_result",
          "data": {
            "text/plain": [
              "['You_all', 'are', 'the', 'greatest', 'students', 'of_all_time', '.']"
            ]
          },
          "metadata": {},
          "execution_count": 19
        }
      ],
      "source": [
        "from nltk.tokenize import MWETokenizer       #complete this\n",
        "\n",
        "my_text = \"You all are the greatest students of all time.\"\n",
        "\n",
        "mwe_tokenizer = MWETokenizer([('You','all'), ('of', 'all', 'time')])\n",
        "mwe_tokens = mwe_tokenizer.tokenize(word_tokenize(my_text))\n",
        "\n",
        "mwe_tokens\n",
        "\n",
        "# New York City, take into account, make use of, high probability, kick the bucket"
      ]
    },
    {
      "cell_type": "markdown",
      "metadata": {
        "id": "Sy3NqG2QcIge"
      },
      "source": [
        "# Lambda Function"
      ]
    },
    {
      "cell_type": "code",
      "execution_count": 20,
      "metadata": {
        "id": "hbPyyQ_7rd4u",
        "outputId": "833cd388-3815-4b1d-cc4e-3b4fdf60d733",
        "colab": {
          "base_uri": "https://localhost:8080/"
        }
      },
      "outputs": [
        {
          "output_type": "stream",
          "name": "stdout",
          "text": [
            "[81, 9, 16, 10000, 4, 1]\n"
          ]
        }
      ],
      "source": [
        "# Basic example, https://www.w3schools.com/python/python_lambda.asp\n",
        "square_me = lambda x: x*x\n",
        "\n",
        "my_numbers = [9, 3, 4, 100, 2, 1]\n",
        "my_numbers_squared = list(map(square_me, my_numbers)) #map = applies a function to all the items in an input_list\n",
        "                                                      #map(function, iterable)\n",
        "print(my_numbers_squared)"
      ]
    },
    {
      "cell_type": "markdown",
      "metadata": {
        "id": "E1rrNgqErd4u"
      },
      "source": [
        "# <font color=red>Preprocessing Exercise </font>\n",
        "\n"
      ]
    },
    {
      "cell_type": "markdown",
      "metadata": {
        "id": "G37XzEBLrd4u"
      },
      "source": [
        "# Introduction\n",
        "\n",
        "We will be using review data from Kaggle to practice preprocessing text data. The dataset contains user reviews for many products, but today we'll be focusing on the product in the dataset that had the most reviews - an oatmeal cookie.\n",
        "\n",
        "The following code will help you load in the data. If this is your first time using nltk, you'll to need to pip install it first.\n"
      ]
    },
    {
      "cell_type": "code",
      "execution_count": 21,
      "metadata": {
        "id": "UN4M0O6krd4v"
      },
      "outputs": [],
      "source": [
        "import nltk\n",
        "# nltk.download() <-- Run this if it's your first time using nltk to download all of the datasets and models\n",
        "import pandas as pd"
      ]
    },
    {
      "cell_type": "code",
      "execution_count": 22,
      "metadata": {
        "id": "-7wE2LEHrd4v",
        "outputId": "c76a4c28-fae9-4848-fa5d-66e6ffcb6f9b",
        "colab": {
          "base_uri": "https://localhost:8080/",
          "height": 363
        }
      },
      "outputs": [
        {
          "output_type": "execute_result",
          "data": {
            "text/plain": [
              "          user_id  stars                                            reviews\n",
              "0  A368Z46FIKHSEZ      5  I love these cookies!  Not only are they healt...\n",
              "1  A1JAPP1CXRG57A      5  Quaker Soft Baked Oatmeal Cookies with raisins...\n",
              "2  A2Z9JNXPIEL2B9      5  I am usually not a huge fan of oatmeal cookies...\n",
              "3  A31CYJQO3FL586      5  I participated in a product review that includ...\n",
              "4  A2KXQ2EKFF3K2G      5  My kids loved these. I was very pleased to giv...\n",
              "5  A2U5TAIAQ675BL      5  I really enjoyed these individually wrapped bi...\n",
              "6  A1R4PIBZBD3NZ0      4  I was surprised at how soft the cookie was. I ...\n",
              "7  A1ECQ8LJMXG4WI      5  Filled with oats and raisins you'll love this ...\n",
              "8  A3MSG4E5MLI1XP      5  I was recently given a complimentary \"vox box\"...\n",
              "9  A3BUDUV9GORLWH      5  the best and freshest cookie that comes in a p..."
            ],
            "text/html": [
              "\n",
              "  <div id=\"df-98bcb713-8f14-4da1-861d-b5b633705949\" class=\"colab-df-container\">\n",
              "    <div>\n",
              "<style scoped>\n",
              "    .dataframe tbody tr th:only-of-type {\n",
              "        vertical-align: middle;\n",
              "    }\n",
              "\n",
              "    .dataframe tbody tr th {\n",
              "        vertical-align: top;\n",
              "    }\n",
              "\n",
              "    .dataframe thead th {\n",
              "        text-align: right;\n",
              "    }\n",
              "</style>\n",
              "<table border=\"1\" class=\"dataframe\">\n",
              "  <thead>\n",
              "    <tr style=\"text-align: right;\">\n",
              "      <th></th>\n",
              "      <th>user_id</th>\n",
              "      <th>stars</th>\n",
              "      <th>reviews</th>\n",
              "    </tr>\n",
              "  </thead>\n",
              "  <tbody>\n",
              "    <tr>\n",
              "      <th>0</th>\n",
              "      <td>A368Z46FIKHSEZ</td>\n",
              "      <td>5</td>\n",
              "      <td>I love these cookies!  Not only are they healt...</td>\n",
              "    </tr>\n",
              "    <tr>\n",
              "      <th>1</th>\n",
              "      <td>A1JAPP1CXRG57A</td>\n",
              "      <td>5</td>\n",
              "      <td>Quaker Soft Baked Oatmeal Cookies with raisins...</td>\n",
              "    </tr>\n",
              "    <tr>\n",
              "      <th>2</th>\n",
              "      <td>A2Z9JNXPIEL2B9</td>\n",
              "      <td>5</td>\n",
              "      <td>I am usually not a huge fan of oatmeal cookies...</td>\n",
              "    </tr>\n",
              "    <tr>\n",
              "      <th>3</th>\n",
              "      <td>A31CYJQO3FL586</td>\n",
              "      <td>5</td>\n",
              "      <td>I participated in a product review that includ...</td>\n",
              "    </tr>\n",
              "    <tr>\n",
              "      <th>4</th>\n",
              "      <td>A2KXQ2EKFF3K2G</td>\n",
              "      <td>5</td>\n",
              "      <td>My kids loved these. I was very pleased to giv...</td>\n",
              "    </tr>\n",
              "    <tr>\n",
              "      <th>5</th>\n",
              "      <td>A2U5TAIAQ675BL</td>\n",
              "      <td>5</td>\n",
              "      <td>I really enjoyed these individually wrapped bi...</td>\n",
              "    </tr>\n",
              "    <tr>\n",
              "      <th>6</th>\n",
              "      <td>A1R4PIBZBD3NZ0</td>\n",
              "      <td>4</td>\n",
              "      <td>I was surprised at how soft the cookie was. I ...</td>\n",
              "    </tr>\n",
              "    <tr>\n",
              "      <th>7</th>\n",
              "      <td>A1ECQ8LJMXG4WI</td>\n",
              "      <td>5</td>\n",
              "      <td>Filled with oats and raisins you'll love this ...</td>\n",
              "    </tr>\n",
              "    <tr>\n",
              "      <th>8</th>\n",
              "      <td>A3MSG4E5MLI1XP</td>\n",
              "      <td>5</td>\n",
              "      <td>I was recently given a complimentary \"vox box\"...</td>\n",
              "    </tr>\n",
              "    <tr>\n",
              "      <th>9</th>\n",
              "      <td>A3BUDUV9GORLWH</td>\n",
              "      <td>5</td>\n",
              "      <td>the best and freshest cookie that comes in a p...</td>\n",
              "    </tr>\n",
              "  </tbody>\n",
              "</table>\n",
              "</div>\n",
              "    <div class=\"colab-df-buttons\">\n",
              "\n",
              "  <div class=\"colab-df-container\">\n",
              "    <button class=\"colab-df-convert\" onclick=\"convertToInteractive('df-98bcb713-8f14-4da1-861d-b5b633705949')\"\n",
              "            title=\"Convert this dataframe to an interactive table.\"\n",
              "            style=\"display:none;\">\n",
              "\n",
              "  <svg xmlns=\"http://www.w3.org/2000/svg\" height=\"24px\" viewBox=\"0 -960 960 960\">\n",
              "    <path d=\"M120-120v-720h720v720H120Zm60-500h600v-160H180v160Zm220 220h160v-160H400v160Zm0 220h160v-160H400v160ZM180-400h160v-160H180v160Zm440 0h160v-160H620v160ZM180-180h160v-160H180v160Zm440 0h160v-160H620v160Z\"/>\n",
              "  </svg>\n",
              "    </button>\n",
              "\n",
              "  <style>\n",
              "    .colab-df-container {\n",
              "      display:flex;\n",
              "      gap: 12px;\n",
              "    }\n",
              "\n",
              "    .colab-df-convert {\n",
              "      background-color: #E8F0FE;\n",
              "      border: none;\n",
              "      border-radius: 50%;\n",
              "      cursor: pointer;\n",
              "      display: none;\n",
              "      fill: #1967D2;\n",
              "      height: 32px;\n",
              "      padding: 0 0 0 0;\n",
              "      width: 32px;\n",
              "    }\n",
              "\n",
              "    .colab-df-convert:hover {\n",
              "      background-color: #E2EBFA;\n",
              "      box-shadow: 0px 1px 2px rgba(60, 64, 67, 0.3), 0px 1px 3px 1px rgba(60, 64, 67, 0.15);\n",
              "      fill: #174EA6;\n",
              "    }\n",
              "\n",
              "    .colab-df-buttons div {\n",
              "      margin-bottom: 4px;\n",
              "    }\n",
              "\n",
              "    [theme=dark] .colab-df-convert {\n",
              "      background-color: #3B4455;\n",
              "      fill: #D2E3FC;\n",
              "    }\n",
              "\n",
              "    [theme=dark] .colab-df-convert:hover {\n",
              "      background-color: #434B5C;\n",
              "      box-shadow: 0px 1px 3px 1px rgba(0, 0, 0, 0.15);\n",
              "      filter: drop-shadow(0px 1px 2px rgba(0, 0, 0, 0.3));\n",
              "      fill: #FFFFFF;\n",
              "    }\n",
              "  </style>\n",
              "\n",
              "    <script>\n",
              "      const buttonEl =\n",
              "        document.querySelector('#df-98bcb713-8f14-4da1-861d-b5b633705949 button.colab-df-convert');\n",
              "      buttonEl.style.display =\n",
              "        google.colab.kernel.accessAllowed ? 'block' : 'none';\n",
              "\n",
              "      async function convertToInteractive(key) {\n",
              "        const element = document.querySelector('#df-98bcb713-8f14-4da1-861d-b5b633705949');\n",
              "        const dataTable =\n",
              "          await google.colab.kernel.invokeFunction('convertToInteractive',\n",
              "                                                    [key], {});\n",
              "        if (!dataTable) return;\n",
              "\n",
              "        const docLinkHtml = 'Like what you see? Visit the ' +\n",
              "          '<a target=\"_blank\" href=https://colab.research.google.com/notebooks/data_table.ipynb>data table notebook</a>'\n",
              "          + ' to learn more about interactive tables.';\n",
              "        element.innerHTML = '';\n",
              "        dataTable['output_type'] = 'display_data';\n",
              "        await google.colab.output.renderOutput(dataTable, element);\n",
              "        const docLink = document.createElement('div');\n",
              "        docLink.innerHTML = docLinkHtml;\n",
              "        element.appendChild(docLink);\n",
              "      }\n",
              "    </script>\n",
              "  </div>\n",
              "\n",
              "\n",
              "    <div id=\"df-4f4951f6-698a-49a0-bf5d-8e768b37cffc\">\n",
              "      <button class=\"colab-df-quickchart\" onclick=\"quickchart('df-4f4951f6-698a-49a0-bf5d-8e768b37cffc')\"\n",
              "                title=\"Suggest charts\"\n",
              "                style=\"display:none;\">\n",
              "\n",
              "<svg xmlns=\"http://www.w3.org/2000/svg\" height=\"24px\"viewBox=\"0 0 24 24\"\n",
              "     width=\"24px\">\n",
              "    <g>\n",
              "        <path d=\"M19 3H5c-1.1 0-2 .9-2 2v14c0 1.1.9 2 2 2h14c1.1 0 2-.9 2-2V5c0-1.1-.9-2-2-2zM9 17H7v-7h2v7zm4 0h-2V7h2v10zm4 0h-2v-4h2v4z\"/>\n",
              "    </g>\n",
              "</svg>\n",
              "      </button>\n",
              "\n",
              "<style>\n",
              "  .colab-df-quickchart {\n",
              "      --bg-color: #E8F0FE;\n",
              "      --fill-color: #1967D2;\n",
              "      --hover-bg-color: #E2EBFA;\n",
              "      --hover-fill-color: #174EA6;\n",
              "      --disabled-fill-color: #AAA;\n",
              "      --disabled-bg-color: #DDD;\n",
              "  }\n",
              "\n",
              "  [theme=dark] .colab-df-quickchart {\n",
              "      --bg-color: #3B4455;\n",
              "      --fill-color: #D2E3FC;\n",
              "      --hover-bg-color: #434B5C;\n",
              "      --hover-fill-color: #FFFFFF;\n",
              "      --disabled-bg-color: #3B4455;\n",
              "      --disabled-fill-color: #666;\n",
              "  }\n",
              "\n",
              "  .colab-df-quickchart {\n",
              "    background-color: var(--bg-color);\n",
              "    border: none;\n",
              "    border-radius: 50%;\n",
              "    cursor: pointer;\n",
              "    display: none;\n",
              "    fill: var(--fill-color);\n",
              "    height: 32px;\n",
              "    padding: 0;\n",
              "    width: 32px;\n",
              "  }\n",
              "\n",
              "  .colab-df-quickchart:hover {\n",
              "    background-color: var(--hover-bg-color);\n",
              "    box-shadow: 0 1px 2px rgba(60, 64, 67, 0.3), 0 1px 3px 1px rgba(60, 64, 67, 0.15);\n",
              "    fill: var(--button-hover-fill-color);\n",
              "  }\n",
              "\n",
              "  .colab-df-quickchart-complete:disabled,\n",
              "  .colab-df-quickchart-complete:disabled:hover {\n",
              "    background-color: var(--disabled-bg-color);\n",
              "    fill: var(--disabled-fill-color);\n",
              "    box-shadow: none;\n",
              "  }\n",
              "\n",
              "  .colab-df-spinner {\n",
              "    border: 2px solid var(--fill-color);\n",
              "    border-color: transparent;\n",
              "    border-bottom-color: var(--fill-color);\n",
              "    animation:\n",
              "      spin 1s steps(1) infinite;\n",
              "  }\n",
              "\n",
              "  @keyframes spin {\n",
              "    0% {\n",
              "      border-color: transparent;\n",
              "      border-bottom-color: var(--fill-color);\n",
              "      border-left-color: var(--fill-color);\n",
              "    }\n",
              "    20% {\n",
              "      border-color: transparent;\n",
              "      border-left-color: var(--fill-color);\n",
              "      border-top-color: var(--fill-color);\n",
              "    }\n",
              "    30% {\n",
              "      border-color: transparent;\n",
              "      border-left-color: var(--fill-color);\n",
              "      border-top-color: var(--fill-color);\n",
              "      border-right-color: var(--fill-color);\n",
              "    }\n",
              "    40% {\n",
              "      border-color: transparent;\n",
              "      border-right-color: var(--fill-color);\n",
              "      border-top-color: var(--fill-color);\n",
              "    }\n",
              "    60% {\n",
              "      border-color: transparent;\n",
              "      border-right-color: var(--fill-color);\n",
              "    }\n",
              "    80% {\n",
              "      border-color: transparent;\n",
              "      border-right-color: var(--fill-color);\n",
              "      border-bottom-color: var(--fill-color);\n",
              "    }\n",
              "    90% {\n",
              "      border-color: transparent;\n",
              "      border-bottom-color: var(--fill-color);\n",
              "    }\n",
              "  }\n",
              "</style>\n",
              "\n",
              "      <script>\n",
              "        async function quickchart(key) {\n",
              "          const quickchartButtonEl =\n",
              "            document.querySelector('#' + key + ' button');\n",
              "          quickchartButtonEl.disabled = true;  // To prevent multiple clicks.\n",
              "          quickchartButtonEl.classList.add('colab-df-spinner');\n",
              "          try {\n",
              "            const charts = await google.colab.kernel.invokeFunction(\n",
              "                'suggestCharts', [key], {});\n",
              "          } catch (error) {\n",
              "            console.error('Error during call to suggestCharts:', error);\n",
              "          }\n",
              "          quickchartButtonEl.classList.remove('colab-df-spinner');\n",
              "          quickchartButtonEl.classList.add('colab-df-quickchart-complete');\n",
              "        }\n",
              "        (() => {\n",
              "          let quickchartButtonEl =\n",
              "            document.querySelector('#df-4f4951f6-698a-49a0-bf5d-8e768b37cffc button');\n",
              "          quickchartButtonEl.style.display =\n",
              "            google.colab.kernel.accessAllowed ? 'block' : 'none';\n",
              "        })();\n",
              "      </script>\n",
              "    </div>\n",
              "\n",
              "    </div>\n",
              "  </div>\n"
            ],
            "application/vnd.google.colaboratory.intrinsic+json": {
              "type": "dataframe",
              "variable_name": "df",
              "summary": "{\n  \"name\": \"df\",\n  \"rows\": 913,\n  \"fields\": [\n    {\n      \"column\": \"user_id\",\n      \"properties\": {\n        \"dtype\": \"string\",\n        \"num_unique_values\": 913,\n        \"samples\": [\n          \"A1RO932ZM1ZYNC\",\n          \"A27TITC8ON9CMZ\",\n          \"A1G2F4L08EMS24\"\n        ],\n        \"semantic_type\": \"\",\n        \"description\": \"\"\n      }\n    },\n    {\n      \"column\": \"stars\",\n      \"properties\": {\n        \"dtype\": \"number\",\n        \"std\": 0,\n        \"min\": 1,\n        \"max\": 5,\n        \"num_unique_values\": 5,\n        \"samples\": [\n          4,\n          1,\n          2\n        ],\n        \"semantic_type\": \"\",\n        \"description\": \"\"\n      }\n    },\n    {\n      \"column\": \"reviews\",\n      \"properties\": {\n        \"dtype\": \"string\",\n        \"num_unique_values\": 910,\n        \"samples\": [\n          \"Quaker's Soft Baked Oatmeal Cookies with Raisins are OK, but they left me wanting something better.  I thought they tasted good, but I found them to be a little on the dry side.  A lot of packaged cookies have an odd chemical aftertaste, but I didn't really notice much with these.<br /><br />However, I would like to see better choices on ingredients.  First, I don't understand the need for both bleached and unbleached flour.  Quaker should just stick with unbleached.  Second, I accept sugar as an ingredient.  These are cookies.  Cookies are sweet, and I expect sugar.  Yet why do they also have to use fructose, invert sugar syrup, corn syrup, and polydextrose?  These also contain molasses, which are a natural sweetener.  Finally, these have both corn starch and modified corn starch.  Again, why?  You may find other ingredients that you would question, but these seemed like the glaring issues to me.  In the end, I think this is too much to overcome when you combine it with a relatively high percentage (60 out of 170) of calories from fat.  In short, I cannot recommend these cookies.\",\n          \"Cookies are delicious and very soft, i expected a much different taste but to my surpise they were actually great. I got a sample so i will be purchasing these for my family soon.\",\n          \"Quaker Soft Baked Oatmeal Cookies are so good! They taste like a homemade cookie! If you want that right out of the oven taste try heating up the cookie for about ten seconds. It will be warm and soft!\"\n        ],\n        \"semantic_type\": \"\",\n        \"description\": \"\"\n      }\n    }\n  ]\n}"
            }
          },
          "metadata": {},
          "execution_count": 22
        }
      ],
      "source": [
        "df = pd.read_csv('cookie_reviews.csv')\n",
        "df.head(10)"
      ]
    },
    {
      "cell_type": "markdown",
      "metadata": {
        "id": "i-TQNFEqrd4w"
      },
      "source": [
        "**Question 1:**\n",
        "\n",
        "Determine how many reviews there are in total.\n",
        "   "
      ]
    },
    {
      "cell_type": "code",
      "execution_count": 23,
      "metadata": {
        "id": "8VNVnbS1rd4w",
        "outputId": "adca6f2d-2c19-40fe-d7aa-31e4fd9628ae",
        "colab": {
          "base_uri": "https://localhost:8080/"
        }
      },
      "outputs": [
        {
          "output_type": "stream",
          "name": "stdout",
          "text": [
            "user_id    913\n",
            "stars      913\n",
            "reviews    913\n",
            "dtype: int64\n"
          ]
        }
      ],
      "source": [
        "total=df.count()\n",
        "print(total)"
      ]
    },
    {
      "cell_type": "markdown",
      "metadata": {
        "id": "j2SHURS_rd4x"
      },
      "source": [
        "**Question 2:**\n",
        "    \n",
        "Determine the percentage of 1, 2, 3, 4 and 5 star reviews."
      ]
    },
    {
      "cell_type": "code",
      "execution_count": 24,
      "metadata": {
        "id": "Mrh7DCk4rd4y",
        "outputId": "c531d095-ce78-4841-eaf3-e2e294e328b0",
        "colab": {
          "base_uri": "https://localhost:8080/"
        }
      },
      "outputs": [
        {
          "output_type": "stream",
          "name": "stdout",
          "text": [
            "stars\n",
            "5    624\n",
            "4    217\n",
            "3     56\n",
            "2     12\n",
            "1      4\n",
            "Name: count, dtype: int64\n",
            "stars\n",
            "5    68.346112\n",
            "4    23.767798\n",
            "3     6.133625\n",
            "2     1.314348\n",
            "1     0.438116\n",
            "Name: count, dtype: float64\n"
          ]
        },
        {
          "output_type": "stream",
          "name": "stderr",
          "text": [
            "/tmp/ipython-input-24-1062974219.py:5: FutureWarning: Series.__getitem__ treating keys as positions is deprecated. In a future version, integer keys will always be treated as labels (consistent with DataFrame behavior). To access a value by position, use `ser.iloc[pos]`\n",
            "  print (val/total[1]*100)\n"
          ]
        }
      ],
      "source": [
        "#stars_col = df.stars\n",
        "val=df['stars'].value_counts()\n",
        "print (val)\n",
        "\n",
        "print (val/total[1]*100)"
      ]
    },
    {
      "cell_type": "markdown",
      "metadata": {
        "id": "tHZ7MVt-rd4y"
      },
      "source": [
        "**Question 3:**\n",
        "\n",
        "(a) Remove stop words"
      ]
    },
    {
      "cell_type": "code",
      "execution_count": 25,
      "metadata": {
        "id": "beCkKopYrd4z",
        "outputId": "2ec394a5-4ced-49ba-db7d-fb0789b08b26",
        "colab": {
          "base_uri": "https://localhost:8080/"
        }
      },
      "outputs": [
        {
          "output_type": "stream",
          "name": "stdout",
          "text": [
            "0      I love cookies! Not healthy taste great soft! ...\n",
            "1      Quaker Soft Baked Oatmeal Cookies raisins deli...\n",
            "2      I usually huge fan oatmeal cookies, literally ...\n",
            "3      I participated product review included sample ...\n",
            "4      My kids loved these. I pleased give kids quick...\n",
            "                             ...                        \n",
            "908    I loved cookies kids. You read full review [.....\n",
            "909    This great tasting cookie. It soft texture smo...\n",
            "910    These great quick snack! They satisfying even ...\n",
            "911    I love Quaker soft baked cookies. The really s...\n",
            "912    This cookie really good works really well fami...\n",
            "Name: reviews_without_stopwords, Length: 913, dtype: object\n"
          ]
        }
      ],
      "source": [
        "from nltk.corpus import stopwords\n",
        "stop = stopwords.words('english')\n",
        "\n",
        "# Exclude stopwords with Python's list comprehension and pandas.DataFrame.apply.\n",
        "df['reviews_without_stopwords'] = df['reviews'].apply(lambda x: ' '.join([word for word in x.split() if word not in (stop)]))\n",
        "#split()->split on whitespace~ check word by word\n",
        "\n",
        "r=(df['reviews_without_stopwords'])\n",
        "print(r)"
      ]
    },
    {
      "cell_type": "markdown",
      "metadata": {
        "id": "X5RfUjYucIgf"
      },
      "source": [
        "1. df['reviews'] refers to the 'reviews' column in your DataFrame df\n",
        "2. .apply(lambda x: ...) is used to apply a function (defined by the lambda function) along the axis of the DataFrame.\n",
        "3. lambda x: ' '.join([word for word in x.split() if word not in (stop)]) is a lambda function that:\n",
        "   <br>a. Splits each review x into a list of words (x.split()).\n",
        "   <br>b. Iterates through each word in this list (for word in x.split()).\n",
        "   <br>c. Checks if each word is not in the stop list (i.e., if it's not a stopword).\n",
        "   <br>d. If the word is not a stopword, it includes it in the list comprehension ([word for word in x.split() if word not in (stop)]).\n",
        "   <br>e. Joins these words back into a single string with spaces separating them (' '.join(...))."
      ]
    },
    {
      "cell_type": "markdown",
      "metadata": {
        "id": "pr4R-PKWrd4z"
      },
      "source": [
        "(b) Change to lower case"
      ]
    },
    {
      "cell_type": "code",
      "execution_count": 26,
      "metadata": {
        "id": "LopdQ216rd40",
        "outputId": "8a11ce9c-d9cc-4648-ed9c-aa8c2bd1c510",
        "colab": {
          "base_uri": "https://localhost:8080/",
          "height": 458
        }
      },
      "outputs": [
        {
          "output_type": "execute_result",
          "data": {
            "text/plain": [
              "0      i love cookies! not healthy taste great soft! ...\n",
              "1      quaker soft baked oatmeal cookies raisins deli...\n",
              "2      i usually huge fan oatmeal cookies, literally ...\n",
              "3      i participated product review included sample ...\n",
              "4      my kids loved these. i pleased give kids quick...\n",
              "                             ...                        \n",
              "908    i loved cookies kids. you read full review [.....\n",
              "909    this great tasting cookie. it soft texture smo...\n",
              "910    these great quick snack! they satisfying even ...\n",
              "911    i love quaker soft baked cookies. the really s...\n",
              "912    this cookie really good works really well fami...\n",
              "Name: reviews_without_stopwords, Length: 913, dtype: object"
            ],
            "text/html": [
              "<div>\n",
              "<style scoped>\n",
              "    .dataframe tbody tr th:only-of-type {\n",
              "        vertical-align: middle;\n",
              "    }\n",
              "\n",
              "    .dataframe tbody tr th {\n",
              "        vertical-align: top;\n",
              "    }\n",
              "\n",
              "    .dataframe thead th {\n",
              "        text-align: right;\n",
              "    }\n",
              "</style>\n",
              "<table border=\"1\" class=\"dataframe\">\n",
              "  <thead>\n",
              "    <tr style=\"text-align: right;\">\n",
              "      <th></th>\n",
              "      <th>reviews_without_stopwords</th>\n",
              "    </tr>\n",
              "  </thead>\n",
              "  <tbody>\n",
              "    <tr>\n",
              "      <th>0</th>\n",
              "      <td>i love cookies! not healthy taste great soft! ...</td>\n",
              "    </tr>\n",
              "    <tr>\n",
              "      <th>1</th>\n",
              "      <td>quaker soft baked oatmeal cookies raisins deli...</td>\n",
              "    </tr>\n",
              "    <tr>\n",
              "      <th>2</th>\n",
              "      <td>i usually huge fan oatmeal cookies, literally ...</td>\n",
              "    </tr>\n",
              "    <tr>\n",
              "      <th>3</th>\n",
              "      <td>i participated product review included sample ...</td>\n",
              "    </tr>\n",
              "    <tr>\n",
              "      <th>4</th>\n",
              "      <td>my kids loved these. i pleased give kids quick...</td>\n",
              "    </tr>\n",
              "    <tr>\n",
              "      <th>...</th>\n",
              "      <td>...</td>\n",
              "    </tr>\n",
              "    <tr>\n",
              "      <th>908</th>\n",
              "      <td>i loved cookies kids. you read full review [.....</td>\n",
              "    </tr>\n",
              "    <tr>\n",
              "      <th>909</th>\n",
              "      <td>this great tasting cookie. it soft texture smo...</td>\n",
              "    </tr>\n",
              "    <tr>\n",
              "      <th>910</th>\n",
              "      <td>these great quick snack! they satisfying even ...</td>\n",
              "    </tr>\n",
              "    <tr>\n",
              "      <th>911</th>\n",
              "      <td>i love quaker soft baked cookies. the really s...</td>\n",
              "    </tr>\n",
              "    <tr>\n",
              "      <th>912</th>\n",
              "      <td>this cookie really good works really well fami...</td>\n",
              "    </tr>\n",
              "  </tbody>\n",
              "</table>\n",
              "<p>913 rows × 1 columns</p>\n",
              "</div><br><label><b>dtype:</b> object</label>"
            ]
          },
          "metadata": {},
          "execution_count": 26
        }
      ],
      "source": [
        "l_case=r.str.lower()\n",
        "l_case"
      ]
    },
    {
      "cell_type": "markdown",
      "metadata": {
        "id": "00e5zCM5rd40"
      },
      "source": [
        "(b) Perform stemming"
      ]
    },
    {
      "cell_type": "code",
      "execution_count": 27,
      "metadata": {
        "id": "8h_Oeeuwrd41",
        "outputId": "3ee1f726-c485-4272-b261-db62ba83953a",
        "colab": {
          "base_uri": "https://localhost:8080/"
        }
      },
      "outputs": [
        {
          "output_type": "stream",
          "name": "stdout",
          "text": [
            "[['i', 'love', 'cookies!', 'not', 'healthi', 'tast', 'great', 'soft!', 'i', 'definit', 'add', 'groceri', 'list!'], ['quaker', 'soft', 'bake', 'oatmeal', 'cooki', 'raisin', 'delici', 'treat,', 'great', 'anytim', 'day.', 'for', 'example:<br', '/><br', '/>--at', 'breakfast,', 'i', 'one', 'larg', 'banana', 'cup', 'coffee,', 'felt', \"i'd\", 'relat', '\"healthy\"', 'start', 'day.<br', '/><br', '/>--the', 'next', 'day', 'lunch,', 'follow', 'tuna', 'sandwich,', 'i', 'one', 'glass', 'milk,', 'satisfi', 'enough', 'need', 'snack', 'dinner', '6:30.<br', '/><br', '/>--the', 'follow', 'night,', 'dinner,', 'i', 'one', 'remaind', 'glass', 'wine.', '(delicious!)', 'and', 'again,', 'feel', 'need', 'snack', 'later', 'evening.<br', '/><br', '/>each', 'cooki', 'individu', 'packaged,', 'textur', 'soft', 'moist,', 'right', 'amount', 'sweetness.', 'natur', 'flavor', 'use', 'make', 'cinnamon', 'all', 'spice.', 'these', 'flavor', 'give', 'cooki', 'real', 'old-fashioned,', 'homemad', 'taste.<br', '/><br', '/>nutritionally,', 'cooki', '170', 'calori', 'each,', '1.5g', 'satur', 'fat,', '150', 'mg', 'sodium,', '12g', 'sugar.', 'they', 'also', '2g', 'protein,', 'contain', '25g', 'fiber.<br', '/><br', '/>while', 'calori', 'count', 'may', 'seem', 'bit', 'high', 'one', 'cookie,', 'good', 'sized,', '1', 'cooki', 'per', 'serv', 'certain', 'enough', 'satisfy.<br', '/><br', '/>becaus', 'great', 'tast', 'texture,', 'kid', 'probabl', 'enjoy', 'also.<br', '/><br', '/>if', 'like', 'oatmeal', 'raisin', 'cookies,', 'give', 'try!'], ['i', 'usual', 'huge', 'fan', 'oatmeal', 'cookies,', 'liter', 'melt', 'mouth.', 'they', 'soft', 'tasty!', 'i', 'would', 'definit', 'recommend', 'someon', 'love', 'oatmeal,', 'even', 'like', 'would', 'probabl', 'pick', 'differ', 'flavor', 'one.'], ['i', 'particip', 'product', 'review', 'includ', 'sampl', '<a', 'href=\"http://www.amazon.com/gp/product/b007jfmh8m\">quak', 'soft', 'bake', 'oatmeal', 'cookie,', 'raisins,', '8.8-ounc', '(pack', '12)</a>.', 'okay', 'first', 'i', 'love', 'oatmeal', 'raisin', 'cooki', 'one', 'exception.', 'it', 'great!!!', 'soft', 'n', 'chewy,', 'nice', 'portion', 'size', 'alway', 'high', 'qualiti', 'product', 'quaker', 'oats.', 'thank', 'quaker', 'influenst', 'includ', 'mom', 'voxbox.', 'if', 'tri', 'need', 'make', 'sure', 'share', 'family.'], ['my', 'kid', 'love', 'these.', 'i', 'pleas', 'give', 'kid', 'quick', 'go', 'healthi', 'snack', 'soccer', 'acn', 'practice.', 'they', 'love', 'flavor,', 'i', 'love', 'healthy.'], ['i', 'realli', 'enjoy', 'individu', 'wrap', 'big', 'oatmeal', 'cookies.', 'they', 'realli', 'soft', 'chewy.', 'you', 'buy', 'differ', 'flavors.', 'i', 'defin', 'repurchas', 'cooki', 'future.', 'they', 'delici', 'super', 'healthi', 'too.'], ['i', 'surpris', 'soft', 'cooki', 'was.', 'i', 'usual', 'buy', 'littl', 'debbi', 'cookies,', 'i', 'notic', 'quaker', 'soft', 'bake', 'oatmeal', 'cooki', 'bigger', 'bold', 'taste.'], ['fill', 'oat', 'raisin', 'love', 'snack', '.....', 'delici', 'nutriti', '.....', 'els', 'say....', \"can't\", 'beat', 'that....'], ['i', 'recent', 'given', 'complimentari', '\"vox', 'box\"', 'influenster,', 'call', 'mom', 'vox', 'box.', 'it', 'came', 'various', 'product', 'tri', 'review', 'product', 'inside.', 'one', 'product', 'receiv', 'quaker', 'soft', 'bake', 'oatmeal', 'cooki', '\"raisins\"', 'flavor.', 'when', 'open', 'cooki', 'wrapper,', 'gave', 'half', '3', 'year', 'old', 'ate', 'half.', 'i', 'immedi', 'surpris', 'soft', 'cooki', 'split', 'half.', 'it', 'like', 'realli', 'realli', 'good', 'home', 'bake', 'cookie.', 'soft,', 'chewi', 'tasty.', 'i', 'normal', 'like', 'oatmeal', 'raisin', 'cookies,', 'due', 'raisins,', 'cooki', 'surpris', 'yummy.', 'my', 'three', 'year', 'old', 'love', 'much', 'go', 'buy', 'box.', 'the', 'cooki', 'soft,', 'chewy,', 'yummy,', 'healthier', 'kind', 'cookies,', 'would', 'definit', 'recommend', 'product', 'peopl', 'kid', 'healthi', 'yummi', 'substitut', 'sweet'], ['best', 'freshest', 'cooki', 'come', 'package,', 'ate', 'up,', 'wish', 'more.', 'soo', 'good'], ['i', 'huge', 'fan', 'quaker', 'chewi', 'cookies!', 'the', 'moist', 'cooki', 'satisfi', 'sweet.', 'the', 'high', 'qualiti', 'ingredi', 'crowd', 'pleaser.', 'a', 'must', 'car', 'trip!', 'after', 'one', 'cooki', 'i', 'hooked.', 'high', 'recommend!'], ['yummi', 'delicious.', 'love', 'eat', 'warm.', 'best', 'store', 'bought', 'cookies!', 'cant', 'wait', 'buy', 'more!'], ['i', 'receiv', 'quaker', 'oatmeal', 'soft', 'bake', 'oatmeal', 'raisin', 'cooki', 'try/eat', 'free', 'influenst', '[...]).', 'i', 'share', 'cooki', 'kids,', 'gobbl', 'cooki', 'faster', 'say', '\"quaker', 'oatmeal', 'soft', 'bake', 'cookies.\"', 'it', 'soft', '(as', 'advertised)', 'includ', 'suffici', 'amount', 'raisin', 'make', 'happi', '(i', 'like', 'raisins).', 'it', 'soft', 'without', 'crumbly,', 'moist,', 'dens', '(some', 'oatmeal', 'cooki', 'pretti', 'dense).', 'i', 'high', 'recommend', 'cooki', 'anyon', 'think', 'tri', 'first', 'time:)'], ['these', 'cooki', 'good.', \"can't\", 'wait', 'go', 'buy', 'more!', 'a', 'good', 'snack', 'want', 'over-indulg'], ['i', 'receiv', 'momvox', 'box', 'influenster!', 'i', 'love', 'it!', 'oatmeal', 'cooki', 'favorit', 'far', 'best', 'store', 'bought', 'brand', 'i', 'tasted!', 'i', 'recommend', 'anyon', 'sweet', 'tooth', 'tri', 'stay', 'healthy.'], ['quaker', 'soft', 'bake', 'oatmeal', 'cooki', 'tast', 'like', 'cooki', 'grandma', 'use', 'bake.', 'great', 'take', 'quick', 'breakfast', 'sinc', 'made', 'whole', 'grain', 'quaker', 'oats.'], ['these', 'cooki', 'real', 'hit', 'children!', 'i', 'receiv', 'sampl', '@influenst', 'mom', 'vox', 'box.', 'i', 'enjoy', 'sweetness,', 'yet', 'whole', 'grain', 'tast', '(which', 'i', 'love)', 'moist', 'raisins.', 'this', 'cooki', 'would', 'perfect', 'breakfast,', 'snack,', 'dessert!', 'what', 'could', 'better', 'that?!', 'i', 'love', 'cooki', 'definit', 'buy', 'more!'], ['i', 'realli', 'enjoy', 'quaker', 'product', 'fact', 'healthi', 'products.', 'these', 'realli', 'good', 'especi', 'like', 'raisins.'], ['this', 'delight', 'cooki', 'ever', 'tasted.', 'i', 'surpris', 'soft', 'fresh', 'tasted.', 'it', 'make', 'great', 'snack', 'go', 'well!', 'i', 'tri', 'chocol', 'almond', 'well', 'yummy!', 'quaker', 'hit', 'one', 'park!'], ['quaker', 'use', 'good', 'ingredi', 'cooki', 'one', 'cooki', 'eaten', 'amongst', 'four', 'kid', 'meet', 'nutrit', 'panel', 'one', 'cookie.', 'even', 'one', 'cooki', 'eaten', 'nutrit', 'panel', 'pretti', 'good.', 'so,', 'i', 'happi', 'mom', 'children', 'eat', 'cooki'], ['my', 'daughter', 'stole', 'ate', 'it,', 'i', 'guess', 'good', 'thing', 'i', \"can't\", 'stand', 'oatmeal.', 'but', 'kid', 'alreadi', 'huge', 'fan', 'thing', 'quaker', 'easi', 'write', 'review.<br', '/><br', '/>quaker', 'soft', 'bake', 'oatmeal', 'cooki', 'chewy,', 'nutrit', 'accord', 'kids,', 'delicious.', 'they', 'made', 'whole', 'grain', 'quaker', 'oats,', 'individu', 'packag', '$2.69', 'box', '6,', 'good', 'sourc', 'fiber,', 'contain', '6', 'gram', 'total', 'fat', 'per', 'cooki', 'sold', 'pretti', 'much', 'everywhere!'], ['i', 'love', 'delici', 'cookie!', 'i', 'even', 'share', '11', 'month', 'old,', \"i'm\", 'pretti', 'big', 'health', 'nut', 'come', 'i', 'feed', 'daughter.', 'it', 'tast', 'great,', 'great', 'portion', 'full', 'fat', 'sugar', 'like', 'cookies!'], ['i', 'enjoy', 'cookies...', 'they', 'tast', 'like', 'grandma', 'homead', 'cookies..', 'plump', 'super', 'soft!!!', 'i', \"can't\", 'wait', 'tri', 'favor', 'made', 'quacker.l'], ['these', 'cooki', 'perfect', 'flavor,', 'excel', 'moist/dri', 'combin', 'soft.', 'they', 'melt', 'mouth.', 'i', 'love', 'taste,', 'i', 'could', 'eat', 'box', 'box!'], ['receiv', 'voxbox', 'love', 'it.', 'my', 'son', 'end', 'it,', 'fine.', 'excel', 'product', 'keep', 'hand', 'diaper', 'bag.'], ['i', 'love', 'oatmeal', 'cooki', 'made', 'least', 'hundr', 'times.', 'i', 'love', 'cookies,', 'come', 'close', 'second', 'baked,', 'soft', 'homemad', '\"vanish', 'oatmeal\"', 'cookies.<br', '/>there', 'ingredi', 'cooki', 'i', 'find', 'kitchen', 'cabinet,', 'prepackag', 'food,', 'bother', 'you.<br', '/><br', '/>i', 'love', 'allspic', 'taste,', 'guy', 'friend', 'much.', 'i', 'think', 'partial', 'cookies.', 'the', 'individu', 'serv', 'size', 'nice.', \"i'm\", 'apt', 'one', 'cooki', 'way', 'rather', 'open', 'whole', 'box', 'eat', 'get', 'stale.', 'i', 'could', 'say', 'individu', 'wrap', 'cooki', 'save', 'one', 'one', 'and..........<br', '/><br', '/>they', 'delici', 'make', 'feel', 'like', \"i'm\", 'eat', 'someth', 'somewhat', 'healthi', 'me.', 'after', 'all,', 'oatmeal', 'cookie.'], ['i', 'love', 'soft', 'bake', 'oatmeal', 'raisin', 'cookies.', 'the', 'subtl', 'tast', 'oatmeal', 'natur', 'sweet', 'raisin', 'wonderful.'], ['i', 'pleasant', 'surpris', 'i', 'tast', 'oatmeal', 'cookies,', 'delicious.', 'it', 'great', 'go', 'snack', 'need', 'someth', 'quick...', 'kid', 'love', 'them!'], ['this', 'delicious.', 'i', 'hesit', 'tri', 'it,', 'i', 'pleasant', 'surprised.', 'it', 'delici', 'soft.', 'i', 'like', 'cooki', 'crunchi', 'well', 'done.', 'lol', 'when', 'bake', 'i', 'usual', 'light', 'burn', 'me.', 'but', 'cooki', 'good.', 'i', 'think', 'i', 'make', 'except', 'quaker', 'soft', 'bake', 'oatmeal', 'raisin'], ['i', 'receiv', 'free', 'sampl', 'cooki', 'influenst', 'immedi', 'got', 'hook', 'them.', \"they'r\", 'soft,', 'perfect', 'anytim', 'special', 'breakfast.', 'my', 'son', 'love', 'even', 'though', 'like', 'oatmeal.', 'i', 'purchas', 'treat', 'everi', 'morn', 'yummi', 'cookie.'], ['i', 'love', 'texture,', 'natur', 'taste,', 'soft', 'right!!!', 'if', 'want', 'good', 'cooki', 'take', 'go,', 'anytime,', 'good', 'choice!!'], ['first', 'thought--not', 'good', 'homemade.', 'second', 'thought--good', 'anyways.', 'homemad', 'oatmeal', 'cooki', 'chewy,', 'moist,', 'slight', 'crisp', 'outer', 'layer...', 'cooki', 'cakey', 'throughout.', 'the', 'thing', 'set', 'apart', 'homemad', 'cooki', 'slight', 'tast', 'preservatives--or', 'something--someth', 'differ', 'packaged-tast', 'flavor.', \"they'r\", 'sweet,', 'i', 'like.', 'my', 'kid', 'start', 'revolt', 'granola', 'bar', 'protein', 'bar', 'snack', 'day-trips--i', 'think', 'would', 'good', 'thing', 'take', 'instead.', 'filling,', 'good', 'energi', 'boost,', 'tast', 'better', 'energi', 'bar.'], ['these', 'nice', 'soft,', 'spici', 'oatmeal', 'cooki', 'rich', 'molass', 'flavor.', 'they', 'perfect', 'singl', 'serv', 'size,', 'perfect', 'individu', 'wrap.', 'they', 'good', 'taste,', 'natural,', 'artifici', 'satisfi', 'snack.', 'i', 'would', 'buy', 'take', 'snack', 'lunch.'], ['good', 'store', 'bought', 'cooki', 'come', 'individu', 'wrap', 'everi', 'one', 'fresh.', 'has', 'slight', 'burnt', 'flavor,', 'bottom', 'cooki', 'dark,', 'almost', 'burnt.', 'soft', 'chewi', 'sweet', 'tast,', 'could', 'use', 'raisin', 'stronger', 'oatmeal', 'flavor.', 'overall,', 'i', 'like', 'son', 'love', 'them.', 'i', 'guess', 'younger', 'folk', 'like', 'sweet', 'cooki', 'is.', 'not', 'like', 'homemad', 'good', 'store', 'bought.'], ['surpris', 'like', 'it!', 'normal', 'like', 'oatmeal', 'cookies,', 'sooo', 'soft', 'chewy.', 'delicious.', 'share', 'one', 'daughter', 'wolf', 'down!'], ['oatmeal', 'cooki', 'favorit', 'i', 'enjoy', 'time', 'time', 'would', 'never', 'know', 'cookie.', 'the', 'first', 'bite', 'pretti', 'terrible,', 'though', 'seem', 'get', 'better', 'half', 'way', 'cookie.', 'it', 'dri', 'sawdust', 'kind', 'texture.', 'i', 'think', 'problem', 'main', 'ingredi', 'ground', 'oats,', 'whole', 'oat', 'wheat', 'flour,', 'instead', 'recip', \"i'v\", 'made', 'whole', 'oat', 'wheat', 'flour.', 'even', 'though', 'i', 'realli', 'like', 'raisin', 'best', 'thing', 'cookies.', 'at', 'least', 'bite', 'raisin', 'tini', 'bit', 'moister.<br', '/><br', '/>not', '170', 'one', 'cookie.', 'if', 'diet', 'cookie,', 'mayb', 'i', 'harsh', 'texture,', '170', 'one', 'cooki', 'sure', 'diet', 'food.<br', '/><br', '/>2', 'stars.'], ['wow,', 'i', 'gave', 'son', 'tri', 'gone', 'within', 'seconds.', 'then', 'goes,', '\"mommy,', 'i', 'more?\"', 'i', 'go', 'buy', 'great', 'cookies.', 'i', 'impress', 'packag', 'soft', 'cooki', 'realli', 'open', 'flavor', 'had.', 'veri', 'impressive.', 'would', 'definit', 'buy!'], ['quaker', 'product', 'alway', 'mean', 'good', 'tasting.', 'they', 'also', 'mean', 'healthier', 'option', 'process', 'snacks.', 'soft', 'bake', 'oatmeal', 'raisin', 'cooki', 'inde', 'soft', 'moist.', 'each', 'cooki', 'ounce;', 'nice', 'size', 'cookie.', 'you', 'see', 'whole', 'oat', 'raisins.', 'i', 'tast', 'raisin', 'spice', 'well.', 'it', 'tasti', 'oatmeal', 'raisin', 'cookie.<br', '/><br', '/>there', 'six', 'individu', 'wrap', 'cooki', 'per', 'box.', 'i', 'like', 'individu', 'wrap', 'keep', 'cooki', 'fresh', 'aid', 'portion', 'control.', 'per', 'cooki', 'look', 'at:', '170', 'calories,', '6g', 'fat,', '27g', 'carbohydrates,', '4', 'g', 'dietari', 'fiber,', '12g', 'sugar,', '2g', 'protein.', 'the', 'first', 'ingredi', 'whole', 'grain', 'oat', 'flour.', 'nutrit', 'fact', 'display', 'individu', 'wrapper', 'well,', 'nutrition,', 'ingredi', 'allergi', 'inform', 'access', 'even', 'without', 'box', 'internet.<br', '/><br', '/>for', 'convenient,', 'cheaper', 'healthier', 'option,', 'quaker', 'cooki', 'good', 'choice.', 'i', 'recommend', 'cookies.', 'i', 'hope', 'tri', 'chocol', 'almond', 'flavor', 'next!'], ['this', 'cookie.', 'it', 'guilti', 'pleasure.', 'except', 'dont', 'feel', 'guilti', 'good', 'you.', 'it', 'soft', 'fresh', 'would', 'think', 'grandma', 'bake', 'it.', 'love', 'love', 'love', 'it!'], ['i', 'receiv', 'sampl', 'pack', 'raisin', 'varieti', 'quaker', 'soft', 'bake', 'oatmeal', 'cooki', 'influenst', 'test', 'family.<br', '/><br', '/>mi', '22', 'month', 'old', 'son', 'love', 'cooki', 'almost', 'ate', 'whole', 'thing', 'himself.', 'i', 'manag', 'coupl', 'bite', 'i', 'love', 'soft,', 'chewy-', 'cookie.', 'plus,', 'provid', 'good', 'sourc', 'fiber,', 'someth', 'incorpor', 'enough', 'diet', 'sometimes.', 'i', 'definit', 'consid', 'purchas', 'cooki', 'snack', 'son!'], ['the', 'soft', 'bake', 'cooki', 'amaz', 'delicious!', 'even', 'children', 'realli', 'enjoy', 'them!!', 'i', 'surpris', 'actual', 'ate', 'never', 'eat', 'anyth', 'raisin', 'it.', 'this', 'excit', 'sinc', 'i', 'keep', 'case', 'boy', 'need', 'snack', 'sinc', 'would', 'abl', 'eat', 'one', 'four', 'them.'], ['my', 'kid', 'devour', 'cookies.', 'they', 'must', 'super', 'good', 'believ', 'kid', 'picki', 'cooki', 'eaters.', 'i', 'like', 'raisin', 'person', 'i', 'tri', 'myself.', 'my', 'negat', 'thing', 'i', 'think', 'crumbi', 'soft,', 'kid', 'get', 'quit', 'messy.'], ['quaker,', 'know', 'thing', 'two', 'oats,', 'put', 'togeth', 'pretti', 'nice', 'oatmeal', 'cooki', 'here.', 'the', 'cooki', 'soft,', 'advertised,', 'not', 'pillowy,', 'doughy,', 'gooey', 'displeas', 'varieti', 'soft.', 'rather,', 'nice', 'yield', 'softness.', 'no', 'doubt', 'relat', 'consistency,', 'cooki', 'cloy', 'sweet.', 'oh,', 'still', 'definit', 'cooki', '-', 'overwhelm', 'sugar', 'rush.', 'the', 'raisin', 'add', 'lot', 'flavor', '-', 'one', 'i', 'encount', 'larg', 'anyth', 'remot', 'like', 'plump.<br', '/><br', '/>overall,', 'seem', 'like', 'relat', 'low-guilt', 'addit', 'lunchbox', 'desk', 'drawer', 'snack', 'time.', 'tasty,', 'soft,', 'full', 'oatmeali', 'goodness.'], ['after', 'tri', 'cooki', 'first', 'time,', 'hook', 'dont', 'feel', 'guilti', 'delicious.', 'thank', 'quaker', 'anoth', 'awesom', 'product.'], ['in', 'one', 'box', 'get', 'six', 'cookies,', 'individu', 'wrapped.', 'which', 'meant', 'quit', 'convenient,', 'i', 'suppose.', 'throw', 'one', 'child', 'lunchbox', 'send', 'him/her', 'off.', 'frankly,', 'cooki', 'near', 'delici', 'one', 'husband', 'i', 'make', 'lower', 'fat', 'calories,', 'fewer', 'additives.', 'in', 'words,', 'healthier.<br', '/><br', '/>but', '\"healthier\"', 'peopl', 'buy', 'pre-mad', 'food', 'product', 'cooki', 'tast', 'good', 'enough.', 'i', 'love', 'oatmeal', 'raisin', 'cooki', 'i', 'disappoint', 'enough', 'dislik', 'them.', 'however,', '<a', 'href=\"http://www.amazon.com/gp/product/b004l5ud2k\">grandma', 'homestyl', 'oatmeal', 'raisin', 'big', 'cookie,', '2.5', 'oz', 'bag', '(pack', '20)</a>', 'lower', 'calori', 'amount', 'fat,', 'per', 'cookie.', '(of', 'course,', 'hard', 'eat', 'one', 'two', 'packag', 'share.)<br', '/><br', '/>i', 'know', 'hard', 'find', 'time', 'bake', 'scratch', 'sometim', 'effort', 'so,', 'teach', 'child', 'measur', 'mix', 'recip', 'scratch,', 'enjoy', 'someth', 'two', '(or', 'three', 'four)', 'made', 'together,', 'invaluable.', 'make', 'doubl', 'batch', 'freez', 'dough', 'bake', 'everi', 'week', 'enough', 'cooki', 'last', 'entir', 'month', 'longer.', \"you'll\", 'build', 'bond', 'moments,', 'creat', 'less', 'waste,', 'teach', 'simpl', 'mathemat', 'cook', 'skills,', 'provid', 'far', 'healthier', 'snack', 'option', 'child(ren).<br', '/><br', '/>and', 'truli', 'time', 'bake', 'cookies,', 'buy', 'fresh', 'fruit.', 'if', 'noth', 'else,', 'fewer', 'addit', 'fruit', 'come', 'conveni', 'packaging.'], ['i', 'receiv', '1', 'tri', 'sure', 'expect.', 'delici', 'say,', 'definat', 'buy'], ['love', 'cooki', 'son', 'ask', 'heat', 'one', 'microwav', '15', 'sec', 'soooo', 'good', 'way', 'give', 'fresh', 'bake', 'feel...i', 'alway', 'make', 'sure', 'keep', 'stock', 'home...they', 'also', 'individu', 'pack', 'make', 'easi', 'carri', 'along', 'bag'], ['these', 'cooki', 'soft', 'tasty.', 'i', 'love', 'textur', 'cookie!!', 'i', 'definit', 'eat', 'cooki', 'snack', 'lunch.'], ['quaker', 'soft', 'bake', 'oatmeal', 'cooki', '(raisin)', 'fail', 'import', 'test', 'cookie.', 'they', 'delicious.', 'consid', '170', 'calori', 'one', 'cooki', 'expect', 'someth', 'decadent.', 'it', 'even', 'tasti', 'averag', 'cookie.<br', '/><br', '/>a', 'littl', 'bit', 'dri', 'consid', 'suppos', 'soft,', 'moist', 'cookie.', 'a', 'slight', 'sandi', 'graini', 'texture.', 'there', 'noth', 'foul', 'obnoxi', 'tast', '-', 'noth', 'special.<br', '/><br', '/>nutrit', '-', 'ok', 'cookie.', '170', 'calories,', '1.5g', 'sat', 'fat.', '4g', 'fiber!', '(quit', 'bit.)', 'but', 'i', 'look', 'cooki', 'sort', 'health', 'food.', 'a', 'big*', 'cooki', 'like', 'indulg', '-', 'treat.', 'instead', 'abhorrent.', 'if', 'start', 'eat', 'this,', 'finish', 'it.', 'but', 'go', 'way', 'anoth', 'one.<br', '/><br', '/>*not', 'that', 'big.', 'it', 'like', 'famous', 'amo', 'something.'], ['total', 'different!<br', '/>chewy,', 'soft-bak', 'cookie,', 'healthier', 'alternative,<br', '/>individu', 'packag', '/', 'good', 'go!<br', '/><br', '/>the', 'verdict:<br', '/>great', 'healthier', 'snack', 'family!<br', '/><br', '/>i', 'like', 'oatmeal', '&', 'raisins...', 'cooki', 'realli', 'tast', 'great!', ':d'], ['it', 'nice', 'cooki', 'kid', 'enjoy', 'i', 'worri', 'unhealthy.', 'i', 'happi', 'receiv', 'influenst', 'mom', 'voxbox!'], ['i', 'surpris', 'soft', 'were.', 'i', 'gave', 'one', 'kid', 'love', 'them.', 'definit', 'get', 'them!'], ['these', 'great', 'go', 'treat', 'adults,', 'kid', '-', 'wanna', 'share', ';)<br', \"/>they'r\", 'burst', 'flavor', 'nutriti', 'boot.'], ['total', 'kid', 'favorit', 'cooki', 'good', 'soft', 'much', 'sweet', 'exact', 'one', 'want', 'give', 'kid'], ['quaker', 'soft', 'bake', 'oatmeal', 'cooki', 'favorit', 'cookies.', 'they', 'soft', 'delicious.', 'and', 'i', 'love', 'come', 'individu', 'wrap', 'i', 'worri', 'rest', 'go', 'stale.<br', '/>i', 'definit', 'recommend', 'give', 'cooki', 'tri', '-', 'glad', 'did!'], ['i', 'got', 'sampl', 'influenster,', 'i', 'went', 'bought', 'right', 'away.', 'these', 'softest', 'tastiest', 'packag', 'cooki', \"i'v\", 'had.', 'i', 'love', 'flavor,', 'oatmeal', 'raisin', 'cooki', 'favorite.', 'even', 'though', 'cookies,', 'i', 'feel', 'like', 'i', 'could', 'lot', 'wors', 'health-wis', 'these.'], ['i', 'receiv', 'sampl', 'packag', 'product', 'complimentari', '[...]', 'try.', 'i', 'must', 'say,', 'super', 'yummy.', 'the', 'cooki', 'larg', 'enough', 'satisfi', 'sweet', 'tooth', 'yet', 'small', 'enough', 'feel', 'like', 'i', 'gorg', 'either.', 'best', 'part', 'is,', 'healthi', 'enough', 'mind', 'feed', 'kiddo', 'special', 'treat.'], ['love', 'soft', 'bake', 'cookies,', 'tast', 'great', 'i', 'feel', 'guilti', 'eat', 'cookie.', 'they', 'also', 'individu', 'wrap', 'great', 'throw', 'bag', 'hike', 'kid', 'lunch.', 'i', 'tri', 'oatmeal', 'raisin', 'must', 'say', 'favorite,', 'appar', 'mani', 'other', 'favorit', 'i', 'never', 'found', 'shelves.'], ['i', 'got', 'influenst', 'box', 'sever', 'product', 'it.', 'my', 'kid', 'love', 'quaker', 'soft', 'bake', 'cookie.', 'would', 'get', 'i'], ['cooki', 'soft', 'son', 'acut', 'love', 'realli', 'doesnt', 'like', 'lot', 'item.', 'i', 'realli', 'love', 'cooki', 'purchas', 'again.'], ['kid', 'enjoy', 'quaker', 'soft', 'bake', 'cookies.', 'great', 'lunch', 'box', 'snack', 'home', 'go.', 'love', 'soft', 'bake', 'textur', 'fresh', 'taste.'], ['this', 'great', 'tast', 'cookie.', 'portion', 'size', 'close', 'perfect.', 'soft', 'textur', 'almost', 'homemad', 'flavor.', 'what', 'find?!?!', 'i', 'love', 'cookies!'], ['quaker', 'alway', 'surpris', 'wonder', 'product', 'satisfi', 'whole', 'family.', 'i', 'realli', 'love', 'oatmeal', 'soft', 'bake', 'cookies!!', 'they', 'made', 'whole', 'grain', 'quaker', 'oat', 'wonder', 'flavor!', 'i', \"can't\", 'wait', 'buy', 'yummi', 'products!'], ['i', 'realli', 'enjoy', 'cookies.', 'they', 'tast', 'fresh', '&', 'homemad', 'soft', 'chewy.....i', 'purchas', 'again,', 'definit', 'favorite!'], ['i', 'love', 'oatmeal', 'raisein', 'cooki', 'super', 'soft', 'delicious,', 'amaz', 'amount', 'raisen', 'usual', 'isnt', 'enough', 'brands.', 'not', 'love', 'cooki', 'daughter', 'love', 'much', 'go', 'buy', 'box', 'them.', 'id', 'def.', 'reccomend', 'cooki', 'lover,', 'im', 'fan', 'life.'], ['these', 'yummy.', 'they', 'tast', 'like', 'grandma', 'homestyl', 'cookies.', 'they', 'perfect', 'texture,', 'enough', 'sweetness,', 'leav', 'crave', 'more!', 'i', \"can't\", 'get', 'enough', 'them.', 'i', 'eat', 'nice', 'glass', 'cold', 'milk', 'heaven!'], ['these', 'realli', 'good.', 'i', 'love', 'raisin', 'cooki', 'one', 'dissapoint', 'me.', 'it', 'soft', 'individu', 'packs.', 'i', 'got', 'free', 'influenst', 'tri', 'like', 'it.'], ['these', 'cooki', 'would', 'better', 'made', 'roll', 'oat', 'instead', 'oat', 'flour.', 'the', 'crumbl', 'meali', 'textur', 'provid', 'enjoy', 'experience.'], ['this', 'cooki', 'full', 'flavor', 'great', 'price.', 'i', 'got', 'sampl', 'free', 'mail,', 'buy', 'son!', 'we', 'love', 'them.'], ['this', 'cooki', 'moist', 'chewi', 'delicious.', 'both', 'daughter', 'i', 'thought', 'fabul', 'i', 'definit', 'buy', 'future.'], ['this', 'pretti', 'good', 'store', 'bought', 'cookie!', 'it', 'nice', 'soft,', 'sweet.', 'just', 'right.', 'i', 'gave', '4', 'instead', '5', 'star', 'i', 'like', 'cooki', 'littl', 'chewy.', 'overal', 'great', 'cookie!', 'i', 'got', 'one', 'cooki', 'sampl', '@influenster.'], ['this', 'cooki', 'realli', 'good...', 'i', 'like', 'singl', 'serv', 'packag', 'portabl', 'product!', 'great', 'go', 'load', 'junk!'], ['i', 'impress', 'quaker', 'soft', 'bake', 'oatmeal', 'cookies.', 'they', 'healthier', 'cooki', 'great', 'taste.', 'veri', 'soft', 'melt', 'mouth.'], ['it', 'sweet', 'i', 'like', 'that.', 'the', 'kid', 'love', 'let', 'face', 'it,', 'cooki', 'general', 'healthy,', 'ok,', 'healthiest,', 'good!'], ['these', 'cooki', 'delicious,', 'littl', 'messi', 'great', 'taste,', 'kid', 'also', 'enjoy', 'them,', 'lunch', 'bag', 'must', 'have.'], ['these', 'soft', 'realli', 'yummy.', 'i', 'like', 'i', 'grab', 'pouch', 'toss', 'purs', 'afternoon', 'snack.'], [\"i'm\", 'lover', 'oatmeal', 'raisin', 'cookies,', 'one', 'surpris', 'me!', 'i', 'love', 'soft', 'flavor', 'was.', 'yum.', 'i', 'high', 'recommend.', 'i', 'got', 'sampl', 'influensters!'], ['i', 'love', 'these.', 'they', 'tast', 'great', 'easi', 'throw', 'bag', 'bring', 'long', 'snack', 'child.', 'my', '3', 'year', 'old', 'like', 'tast', 'well.', 'i', 'think', 'bit', 'pricey', 'full', 'whole', 'grain', 'better', 'normal', 'cookies.'], ['my', 'son', 'i', 'love', 'cookies,', 'yummi', 'delicious.', 'my', 'son', 'ate', 'quick', 'i', 'hard', 'got', 'lol.', 'i', 'realli', 'like', 'textur', 'cookies,', 'quit', 'filling.'], ['i', 'receiv', 'quaker', 'soft', 'bake', 'oatmeal', 'cooki', 'mom', 'voxbox', 'influenster,', 'big', 'hit.', 'soft,', 'chewy,', 'tasty.', 'onli', 'thing', 'i', 'would', 'chang', 'travel', 'well', 'get', 'crumbly.'], ['the', 'quaker', 'oatmeal', 'raisin', 'cooki', 'could', 'delicious!', 'they', 'homemad', 'tast', 'w/out', 'mess!!', 'i', 'surpris', 'soft', 'could', 'realli', 'tast', 'cinnamon', 'flavors,', 'tast', 'processed.', 'the', 'import', 'thing-', 'kid', 'love', 'too!'], ['i', 'got', 'tri', 'influenster.', 'though', \"i'd\", 'plan', 'buy', 'own,', \"i'm\", 'glad', 'i', 'site,', 'otherwis', 'i', 'tri', 'oatmeal', 'raisin.', \"i'm\", 'fan', 'combo.', 'i', 'know', 'why.<br', '/>but,', 'quaker', 'great', 'job.', 'there', 'perfect', 'combin', 'oatmeal', 'raisin,', 'i', 'feel', 'like', 'i', 'tast', 'cardboard,', 'i', 'tend', 'oatmeal', 'cookies.', 'instead,', 'super', 'moist,', 'honestly,', 'hot,', 'i', 'would', 'assum', 'straight', 'oven.', 'just', 'perfect', 'done!'], ['warm', 'tast', 'like', 'pull', 'oven', '...', 'love', 'love', 'love', 'these.', 'my', 'kid', 'also', 'realli', 'realli', 'enjoy', '....', '5', 'year', 'old', 'thought', 'home', 'made', '!'], ['these', 'cooki', 'yummi', 'good', 'you.', 'my', 'children', 'love', 'too.', 'it', 'great', 'snack', 'i', 'feel', 'guilti', 'give', 'them.', 'tri', 'one!!'], ['i', 'like', 'oatmeal', 'raisin', 'cookies,', 'i', 'say', 'i', 'pleasant', 'surpris', 'soft', 'textur', 'tast', 'cookies.', 'i', 'would', 'recommend', 'love', 'oatmeal', 'raisin', 'cookies.'], ['i', 'pleasant', 'surpris', 'cookie.', 'it', 'great', 'flavor', 'nice', 'moist!', 'my', 'three', 'year', 'old', 'daughter', 'love', 'also!'], ['this', 'cooki', 'good,', 'littl', 'dri', 'taste!', 'i', 'would', 'also', 'prefer', 'tast', 'like', 'homemad', 'cooki', 'raisins.'], ['it', 'amazing!', 'love', 'tast', 'texture!!', 'awesom', 'price!!', 'my', '3', 'year', 'old', 'love', 'hard', 'sell!!'], ['great', 'tast', 'packaging.', 'perfect', 'lunch', 'box', 'take', 'along', 'snacks.', 'we', 'enjoy', 'cooki', 'look', 'forward', 'flavors.'], ['generally,', 'quaker', 'oatmeal', 'cooki', 'disappointment.', 'the', 'major', 'posit', 'first', 'ingredi', 'list', 'whole', 'grain', 'oat', 'flour.', 'other', 'pluse', 'cooki', 'particular', 'sweet,', 'individu', 'wrapped,', 'soft,', 'crumbly.', 'my', 'husband', 'i', 'tri', 'cooki', 'dessert', 'last', 'night.', 'the', 'first', 'issu', '170', 'calori', 'each,', 'mean', 'one,', 'even', 'though', 'size', 'particular', 'large,', 'around', '3', 'inch', 'diameter.', 'second,', 'overal', 'tast', 'textur', 'impress', 'cooki', 'commerci', 'made;', 'remot', 'remind', 'homemade.', 'third,', 'personally,', 'enough', 'raisins.', 'finally,', 'us', 'notic', 'cinnamon', 'flavoring,', 'border', 'line', 'much;', 'ingredi', 'list', 'indic', 'allspic', 'well.', 'the', '\"fortifications\"', 'cooki', 'calcium', '(4%)', 'iron', '(8%).'], ['these', 'cooki', 'alright,', 'except', 'finish', 'may', 'notic', 'aftertast', 'i', 'think', 'due', 'cooki', 'contain', 'much', 'allspice.', 'the', 'cooki', 'also', 'contain', 'cinnamon,', 'leav', 'aftertaste.'], ['the', 'quaker', 'soft', 'bake', 'oatmeal', 'cooki', 'given', 'sampl', 'influenst', 'mom', 'vox', 'box', 'program.', 'it', 'tast', 'like', 'home', 'baked.', 'i', 'notic', 'littl', 'heavi', 'cinnamon', 'department,', 'like', 'cinnamon', 'allergi', 'it,', 'would', 'good', 'cooki', 'you.', 'this', 'share', '14', 'year', 'old', 'daughter', 'gave', 'seal', 'approval,', 'too.'], ['quaker', 'cooki', 'one', 'packag', 'suffic', 'cup', 'tea', 'hot', 'cocoa.', 'usual', 'i', 'go', 'dig', 'cooki', 'conquer', 'sweet', 'tooth', 'time.'], ['this', 'realli', 'good', 'cookie!', 'didnt', 'realli', 'think', 'i', 'would', 'like', 'cooki', 'compani', 'known', 'oatmeal,', 'complet', 'surprised!!', 'it', 'soft', 'soooo', 'chewy!', 'realli', 'good', 'serv', 'warm', '&', 'cold', 'glass', 'milk!'], ['i', 'tri', 'cooki', '(which', 'came', 'free', 'mom', 'vox', 'box', '2012)', 'i', 'fell', 'love', 'it!', 'my', 'kid', 'husband', 'like', 'it,', 'too!', 'it', 'soft', 'chewi', 'delici', 'home-bak', 'taste.', 'we', 'definit', 'includ', 'stash', 'healthi', 'goodi', '&', 'snacks!'], ['i', 'sure', 'i', 'gonna', 'like', 'i', 'receiv', 'free', 'sampl', 'fell', 'love', 'it.', 'these', 'cooki', 'soft', 'yummy.', 'my', '5', 'year', 'old', 'love', 'it.', \"can't\", 'get', 'enough', 'it.'], ['i', 'origin', 'purchas', 'cooki', 'store', 'influenst', 'i', 'receiv', 'sampl', 'oatmeal', 'raisin', 'quaker', 'soft', 'bake', 'oatmeal', 'cookies.', 'these', 'make', 'great', 'snack', 'kid', 'adult', 'alike.', 'these', 'great', 'carri', 'diaper', 'bag', 'lil', 'pick', 'about.', 'they', 'mani', 'flavor', 'style', 'new', 'soft', 'baked.', 'they', 'soft', 'crumbly,', 'easi', 'eat', 'chewy,', 'fill', 'satsfying.'], [\"i'm\", 'fan', 'oatmeal', 'raisin', '(lol)', 'i', 'want', 'tast', 'cooki', 'i', 'gave', 'daughter.', 'so', \"i'll\", 'give', 'review', 'base', 'well', 'like', 'it.', 'the', 'cooki', 'extrem', 'fresh', 'i', 'open', 'it.', 'my', 'daughter', 'ate', 'half', 'cooki', 'put', 'pack', 'down.', 'so', \"i'll\", 'take', 'somewhat', 'satisfi', 'like', 'it,', 'throw', 'away', 'realli', 'like', 'eat', 'all!', 'ha!', 'i', 'interest', 'find', 'type', 'cooki', 'avail', 'healthier', 'altern', 'versus', 'eat', 'chip', 'candy.<br', '/><br', '/>**note:', 'in', 'review,', 'i', 'took', 'account', 'thought', 'cooki', 'itself.', 'but', 'i', 'grade', 'price', 'amazon', 'for,', 'i', 'would', 'probabl', 'give', '1', 'star!', 'a', '6-pack', 'cooki', '$2.69', '12-pack', 'almost', '$35', 'here?!', 'am', 'i', 'miss', 'something,', 'lol**'], ['these', 'soft', 'cooki', 'tasti', 'great', 'texture.', 'they', 'right', 'size', 'afternoon', 'snack.'], ['i', 'tri', 'quaker', 'oatmeal', 'raisin', 'cooki', 'favorite,', 'howev', 'im', 'still', 'love', 'oatmeal', 'cereal', 'granola!'], ['ok', 'i', 'love', 'oatmeal', 'cooki', 'amazing.', 'and', 'one', 'i', 'approv', 'soft', 'gooey', 'chewy.', 'it', 'absolut', 'amazing.', 'i', 'love', 'it,', 'would', 'recommend', 'anyon', 'love', 'oatmeal,', 'raisin', 'sweet', 'tast', 'tart', 'overpowering.'], ['i', 'love', 'oatmeal', 'raisin', 'cookies,', 'realli', 'love', 'them.', 'so,', 'i', 'alway', 'lookout', 'good', 'cookie...especi', 'made', 'someon', 'me.', 'when', 'i', 'got', 'chanc', 'sampl', 'quaker', 'soft', 'bake', 'oatmeal', 'cooki', 'raisins,', 'i', 'said', '\"whi', 'not?\"', 'the', 'cooki', 'come', '6', 'box', 'individu', 'wrapped.', 'they', 'pleasant', 'soft', 'oatmeal', 'balanc', 'blend', 'spice', 'raisins.', 'i', 'would', 'like', 'raisins.', 'they', 'also', 'soft', 'almost,', 'anoth', 'review', 'mentioned...powdery.', 'they', 'good', 'tast', 'conveni', '(good', 'lunches,', 'tuck', 'backpack', 'desk', 'drawer)', 'i', 'found', 'filling/satisfying.', 'but,', 'me,', 'bit', 'mark.', 'i', 'guess', 'i', 'expect', 'soft', 'oatmeal', 'cooki', 'bit', 'solid', 'chewy.', 'i', 'buy', 'occasion', 'i', 'specif', 'need', 'someth', 'quick', 'easy.'], ['i', 'pleasent', 'surpris', 'soft', 'cooki', 'was.', 'it', 'great', 'flavor,', 'i', 'couldnt', 'even', 'tell', 'raisin', 'cookie,', 'great', 'i', 'dont', 'normal', 'like', 'raisins.', 'i', 'like', 'come', 'individu', 'wrap', 'cooki', 'dri', 'want', 'eat', 'one.', 'great', 'snack', 'take', 'go!'], ['these', 'cooki', 'yummi', 'soft', 'even', 'raisin', 'toddler', 'like', 'them.', 'my', 'problem', 'one', 'cooki', '170', 'calori', 'remot', 'filling.', 'it', 'healthiest', 'snack', 'sure', 'tasty!'], ['love', 'singl', 'serv', 'cooki', 'perfect', 'pick-m', 'up.', 'i', 'cooki', 'house,', 'one', 'stay', 'wrap', 'wait', 'perfect', 'moment'], ['quaker', 'soft', 'bake', 'oatmeal', 'cooki', 'raisin', 'product', 'consist', 'box', 'six', 'cookies.', 'each', 'six', 'cooki', 'enclos', 'sturdi', 'plastic', 'envelope,', 'tooth-edg', 'top', 'bottom,', 'suitabl', 'grasp', 'tear', 'open', 'envelope.', 'on', 'plus', 'side,', 'cooki', 'intact,', 'despit', 'shipping.', 'the', 'intact', 'natur', 'cooki', 'larg', 'due', 'fact', 'soft', '(not', 'crunchy)', 'secondarili', 'due', 'secur', 'packaging.', 'the', 'cooki', 'bland', 'unadventuresome,', 'tast', 'texture.', 'although', 'photograph', 'cardboard', 'box', 'plastic', 'envelop', 'show', 'cooki', 'surfac', 'dot', 'withabout', '12', 'whole', 'raisins,', 'case', 'actual', 'cooki', 'contain', 'scatter', 'chop', 'raisin', 'bit', 'inside.', 'therefore,', 'consum', 'expect', 'treat', 'cooki', 'bear', 'cargo', 'plump,', 'juici', 'raisins.', 'in', 'pay', 'attent', 'flavor,', 'i', 'notic', 'cooki', 'detect', 'raisin', 'flavor.', 'also', 'plus', 'side,', 'know', '(from', 'first-hand', 'experience)', 'hard', 'oatmeal', 'get', 'wedg', 'fillings,', 'result', 'damag', 'teeth', 'fillings,', 'older', 'consum', 'pleas', 'quaker', 'product', 'total', 'inocuous,', 'far', 'dental', 'work', 'concerned.', 'these', 'cooki', 'are,', 'indeed,', 'sooooooft!<br', '/><br', '/>ordinari', 'oatmeal', '61', 'gram', 'carbohydrate,', '12', 'gram', 'protein,', '7', 'gram', 'fat,', 'per', '100', 'gram', 'oatmeal', '(pomeranz', '(1987)', 'modern', 'cereal', 'scienc', 'technolog', '(page', '350-370)).', 'the', 'nutrit', 'fact', 'label', 'quaker', 'product', 'show', 'breakdown', 'follows.', 'each', 'quaker', 'cooki', '(42', 'grams)', 'contain', '27', 'gram', 'carbohydrate,', '6', 'gram', 'fat,', '2', 'gram', 'protein.', 'hence,', 'seen,', 'cookies,', 'compar', 'straight', 'oatmeal,', 'somewhat', 'low', 'protein.', 'the', 'low', 'protein', 'content', 'concern', 'adults,', 'growth,', 'issu', 'acquir', 'proper', 'nutrient', 'balanc', 'sustain', 'growth,', 'general', 'relev', 'pregnanc', 'lactation,', 'grow', 'children.', 'if', 'conclus', 'made', 'regard', 'fine', 'product,', 'could', 'prefer', 'snack', 'food', 'adult', 'multipl', 'dental', 'fillings,', 'need', 'worri', 'dental', 'damage.', 'although', 'cooki', 'fine', 'children,', 'pleas', 'rememb', 'much', 'better', 'sourc', 'protein', 'available,', 'e.g.,', 'milk,', 'cheese,', 'meat,', 'fish,', 'poultry,', 'tofu,', 'legum', '(peas,', 'beans,', 'lentils).'], ['i', 'love', 'homemad', 'oatmeal', 'raisin', 'cookies,', 'kind', 'littl', 'chewy,', 'made', 'lot', 'oats,', 'brown', 'sugar,', 'cinnamon,', 'mani', 'raisins.', 'so', 'i', 'skeptic', 'soft,', '\"store', 'bought\"', 'cookie.', 'i', 'assum', 'would', 'be,', 'well,', 'bad.', 'i', 'pleasant', 'surprised.', 'it', 'made', 'whole', 'grains,', 'imbu', 'cooki', '16%', 'daili', 'fiber', 'recommendations.', 'it', 'inde', 'soft,', 'seem', 'artifici', 'so,', 'like', 'cool', 'oven.<br', '/><br', '/>as', 'i', 'began', 'tast', \"test',\", 'i', 'appreci', 'fact', 'cooki', 'individu', 'wrapped,', 'allow', 'easi', 'transport', 'lunch', 'purses.', 'i', 'took', 'small', 'bite', 'first,', 'i', 'alreadi', 'prepar', 'disappointed.', 'as', 'bite', 'went', 'down,', 'i', 'reach', 'another.', 'then', 'another.', 'veri', 'tasty,', 'turn', 'out!', 'soon', 'cooki', 'gone', 'i', 'realiz', 'i', 'want', 'anoth', 'one!', 'however,', '170', 'calori', 'each,', 'not', '\"low', 'calorie\",', 'made', 'better', 'ingredi', 'most.<br', '/><br', '/>as', 'nutrit', 'inform', '(other', 'fiber', 'calori', 'count', 'mention', 'above),', 'cooki', '150', 'milligram', 'sodium,', 'bad', 'there.', \"you'll\", 'find', '4%', 'calcium', '8%', 'iron', '(recommend', 'daili', 'requirements).<br', '/><br', '/>the', 'first', 'ingredi', 'whole', 'grain', 'oat', 'flour.', 'sugar', 'number', '10', 'ingredi', 'list.', 'one', 'quibbl', 'i', 'list', 'ingredi', 'rather', 'lengthy.', 'my', 'nutritionist', 'advis', 'watch', 'product', 'seem', 'like', 'extraordinarili', 'long', 'ingredi', 'lists,', 'probabl', 'mean', 'there', 'lot', 'stuff', 'that', 'exact', '\"good\"', 'us,', 'is:', 'factory-made,', 'store-bought', 'cooki', 'that', 'got', 'pretti', 'long', 'list', 'ingredi', 'shelf', 'life', 'come', 'natur', '\"homemad', 'cookies\".', 'just', 'accept', 'is,', 'decent,', 'conveni', 'mass-produc', 'cookie.'], ['the', 'folk', 'quaker', 'realli', 'got', 'soft', 'textur', 'here,', 'individu', 'packag', 'keep', 'cooki', 'soft', 'fresh.<br', '/><br', '/>i', 'would', 'like', 'raisins,', 'i', 'hear', '\"it', 'thru', 'grapevine\".<br', '/><br', '/>good', 'nutrit', 'cookie.'], ['taste:', 'i', 'thought', 'good', 'job', 'mimick', 'tast', 'home', 'made', 'cookies.', 'cinnamoni', 'raisini', '(though', 'raisin', 'big', 'plump', \"raisins...they'r\", 'suggest', 'raisins...and', 'sweeten', 'sugar', 'fructos', 'not', 'hfcs.<br', '/><br', '/>mouth', 'feel:', 'when', 'mom', 'make', 'oatmeal', 'cookies,', 'feel', 'oat', 'meal', '(usually)', 'chewing.', 'this', 'that.', 'the', 'oat', 'mill', 'point', 'flavour', 'textur', 'not.', 'if', 'problem', 'you,', 'might', 'want', 'pass.', 'other', 'that,', 'probabl', 'good', 'idea', 'glass', 'milk', 'handy.', 'they', '\"moist\"', 'crunchy...but', 'verg', 'dry.<br', '/><br', '/>value:', 'on', 'amazon,', 'cooki', 'come', '.50$', 'piece.', 'which', 'compar', 'local', 'grocery.<br', '/><br', '/>a', 'good', 'around', '(large)', 'cooki', 'i', 'think', 'i', 'tri', 'varieties...you', 'too!'], ['the', 'box', 'says,', '\"soft', 'bake', 'oatmeal', 'cookies\"', 'exact', 'get!', 'the', 'cooki', 'individu', 'packed,', 'make', 'easi', 'grab', 'lunches,', 'throw', 'purs', 'backback', '\"on', 'go\"', 'kids.', 'the', 'cooki', 'fair', 'good', 'sized,', 'pack', 'raisins.', 'i', 'concern', 'aftertast', 'i', 'sometim', 'notic', 'cooki', 'pre-packag', '(mayb', 'preserv', 'often', 'used?)', 'i', 'notic', 'funni', 'tast', 'smell', 'cookies.', 'in', 'fact,', 'i', 'could', 'find', 'anyth', 'i', 'unhappi', 'with!'], ['oatmeal', 'raisin', 'cooki', 'favorite.', 'quaker', 'oat', 'done', 'well', 'new', 'product.', 'the', 'strongest', 'flavor', 'come', 'is,', 'perhap', 'surprisingly,', 'cinnamon.', 'it', 'strong', 'tast', 'tip', 'tongue.', 'the', 'cooki', 'also', 'enough', 'raisin', 'qualifi', 'oatmeal', 'raisin,', 'someth', 'i', 'concern', 'first.<br', '/><br', '/>the', 'cooki', 'soft', 'still', 'tast', 'pretti', 'fresh,', 'even', 'pack', 'process', 'obvious', 'went', 'it.', \"they'r\", 'big', 'imagin', 'pictur', 'box,', 'actual', 'impress', 'given', 'often', 'cooki', 'end', 'smaller', 'appear.', 'overall,', 'good', 'choic', 'want', 'cheap,', 'store-bought', 'oatmeal', 'cookies.'], ['this', 'oatmeal', 'cooki', 'delici', '-', 'soft,', 'full', 'raisin', 'sweet', 'sugary.', 'full', 'whole', 'grain,', 'i', 'feel', 'confid', 'eat', 'cooki', 'give', 'famili', 'eat', 'well.', 'great', 'item', 'bag', 'quick', 'snack', 'feel', 'like', 'treat', 'fill', 'too!', 'thank', 'quaker', 'influenst', 'introduc', 'product!'], ['quick', 'breakdown', 'cost.', 'for', '$34.71', 'got', '12', 'box', '6', 'cookies.', 'that', '$2.90', 'box,', '49', 'cent', 'per', 'cookie.', 'not', 'bad.<br', '/><br', '/>taste-thi', 'denser', 'cooki', 'i', 'usual', 'enjoy,', 'especi', 'come', 'oatmeal', 'raisin.', '(mi', 'favorit', 'cookie,', 'way!)', 'it', 'almost', 'cake', 'like', 'consistency,', 'type', 'cooki', 'i', 'would', 'munch', 'home', 'i', 'watch', 'blu-ray,', 'type', 'snack', 'i', 'would', 'buy', 'road', 'trip', 'picnics.', 'there', 'hint', 'brown', 'sugar,', 'overwhelming,', 'enough', 'littl', 'one', '(8', '4)', 'remark', 'like', 'sweet', 'it.', 'my', 'oldest,', 'wish', 'raisins,', 'i', 'would', 'agre', 'well.', 'but', 'i', 'like', 'whole', 'grains.', 'overall,', 'good,', 'bit', 'dry.<br', '/><br', '/>size-thi', 'larger', 'cookie,', 'similar', 'would', 'get', 'say', 'subway', 'starbucks.', 'not', 'over', 'huge,', 'small', 'either.', 'i', 'think', 'perfect', 'snack', 'size.<br', '/><br', '/>nutrition-at', '170', 'calori', 'lightweight,', 'over', 'fatten', 'either.', '6', 'gram', 'fat,', '1.5', 'gram', 'satur', '(not', 'horrific),', 'polyunsatur', '3.5', 'gram', 'monounsaturated=th', 'good', 'kind', 'fat.', '4', 'gram', 'fiber,', 'good', 'snack', 'like', 'this,', '2', 'gram', 'protein,', 'wish', 'more.<br', '/><br', '/>all', 'all,', 'snack', 'i', 'would', 'buy', 'regular', 'basis.', 'mayb', 'awhil', 'school', 'lunches,', 'i', 'would', 'certain', 'get', 'road', 'trip,', 'hike.', 'compar', 'mani', 'snack', 'like', 'this,', 'decent', 'valu', 'money,', 'enjoy', 'thicker', 'cookie,', 'right', 'alley!'], ['kid', 'love', 'this..', 'soft', 'healthi', 'soooo', 'good...', 'easi', 'pack', 'grab', 'go...', 'i', 'cant', 'stop', 'one', 'one...', 'lol'], ['these', 'cooki', 'soft', 'chewi', 'real', 'raisin', 'add', 'nice', 'touch.', 'while', '170', 'calori', 'per', 'cookie,', 'good', 'tast', 'make', 'worth', 'it.', 'they', 'also', 'individu', 'wrap', 'make', 'easi', 'add', 'pack', 'lunch.', 'they', 'almost', 'good', 'mom', 'use', 'make!'], ['i', 'sampl', 'product', 'influenst', 'mom', 'vox', 'box', 'i', 'receiv', 'mail.', 'i', 'purchas', 'quaker', 'cereal', 'regular', 'basi', 'excit', 'tri', 'cookie.', 'i', 'realli', 'enjoy', 'flavor', 'cooki', 'felt', 'stay', 'true', 'quaker', 'brand.', 'i', 'like', 'fact', 'mani', 'preserv', 'cooki', 'like', 'tbhq', 'bht.', 'for', 'reason', 'i', 'purchas', 'regular', 'basis.'], ['the', 'quaker', 'soft', 'bake', 'oatmeal', 'cooki', 'raisin', 'moist', 'fresh', 'bake', 'taste.', 'they', 'right', 'amount', 'raisin', 'make', 'tast', 'like', 'home', 'made', 'cookies.'], ['i', 'reciev', 'quaker', 'soft', 'bake', 'oatmeal', 'raisin', 'cooki', 'influenst', 'mom', 'voxbox', '2012.', 'my', 'husband', 'kid', 'devour', 'cooki', 'i', 'chanc', 'look', 'tast', 'it.', 'so', 'thought', 'cookie.', 'it', 'sooooo', 'good', 'accord', '4', 'year', 'old', 'son', '3', 'year', 'old', 'daughter.', 'my', 'husband', 'said', 'moist', 'soft', 'delicious.', 'he', 'definit', 'readi', 'asdd', 'groceri', 'list.', 'i', 'gave', 'product', '5', 'star', 'rate', 'cooki', 'total', 'rock!!!'], ['tri', 'quaker', 'soft', 'bake', 'oatmeal', 'cookies.', 'they', 'good,', 'nice', 'soft,fresh', 'right', 'amount', 'raisins.', 'even', 'kid', 'like', 'them.', 'you', 'idea', 'miss', 'tri', 'them.'], ['i', 'like', 'soft', 'cookies,', 'one', 'buy', 'tast', '\"fake\".', 'realli', 'enjoy', 'quaker', 'soft', 'bake', 'raisins.', 'i', 'reciev', 'sampl', 'mom', 'voxbox', 'influenst', 'love', 'it.', 'i', 'buy', 'use', 'quick', 'snacks,', 'tast', 'sweet', 'delici', 'healthier', 'options.'], ['quaker', 'made', 'whole', 'grain', 'oat', 'soft', ',healthi', '&', 'rasin', 'natur', 'flavor', ',healthi', 'product.', 'have', 'iron', '8%', ',', 'fiber', '4', 'gram', 'also', 'calcium', '4%.'], ['this', 'cooki', 'moist', 'crumbl', 'took', 'package.', 'it', 'full', 'flavor', 'satisfi', 'snack', 'hunger.', 'i', 'definit', 'buy'], ['they', 'realli', 'soft', 'somewhat', 'fresh', 'tast', 'thought', 'mani', 'raisins.i', 'dont', 'think', 'would', 'buy', 'again.'], ['i', 'receiv', 'sampl', '(oatmeal', '&', 'raisin)', 'mom', 'voxbox', 'love', 'it.', 'not', 'sweet', 'moist...just', 'right.'], ['my', 'son', 'and', 'i', 'tast', 'these', 'cooki', 'from', 'a', 'momvox', 'i', 'reciieved.', 'we', 'have', 'had', 'these', 'cooki', 'befor', 'and', 'love', 'them'], ['these', 'cooki', 'soft,', 'great', 'tast', 'affordable!', 'a', 'definit', 'must', 'try,', 'even', 'kid', 'love', 'them!', 'oatmeal', 'raisin', 'time', 'fave'], ['i', 'receiv', 'tester', 'product', 'onlin', 'site', 'call', 'influenst', '&', 'nephew', '&', 'littl', 'sister', 'love', 'cookie!', 'littl', 'piec', 'tri', 'delici', 'glad', 'healthi', '&', 'yummy!'], ['this', 'quaker', 'soft', 'bake', 'oatmeal', 'cookie,', 'raisins,', 'soooo', 'conveni', 'purse,', 'kid', 'lunch', 'bag', 'husband', 'lunch', 'bag.', 'they', 'healthi', 'snack', 'kid', 'adult', 'i', 'keep', 'buy', 'famili'], ['my', 'kid', 'i', 'love', 'cookies.', 'they', 'soft', 'tast', 'great.', 'i', 'love', 'individu', 'packed.'], ['love', 'cookie!', 'super', 'yummy!', 'can', 'cure', 'sweet', 'tooth', 'crave', 'without', 'calori', 'came', 'come', 'desserts.', 'great', 'go!'], ['these', 'cooki', 'delici', '-', 'even', 'kid', 'love', 'them.', 'these', 'great', 'store', 'bought', 'cookies.', 'soft', 'raisin', 'perfect.', 'would', 'buy', 'recommend', 'all.'], ['when', 'i', 'open', 'packag', 'i', 'surpris', 'find', 'one', 'best', 'tast', 'cooki', 'i', 'while.', 'not', 'tast', 'great,', 'textur', 'perfect', 'fresh.'], ['quaker', 'soft', 'bake', 'cooki', 'old', 'fashion', 'grandma', 'inspir', 'tast', 'texture.', 'they', 'come', 'individu', 'wrap', 'make', 'great', 'stick', 'lunch', 'purs', 'snack.', 'for', 'kid', 'adult', 'alike.', 'ad', 'nutrit', 'real', 'whole', 'grain', 'quaker', 'oats!'], ['definit', 'delici', 'cookie.', 'i', 'would', 'recommend', 'anyon', 'would', 'want', 'them.', 'quaker', 'made', 'anoth', 'great', 'product.'], ['i', 'got', 'opportunit', 'tri', 'quaker', 'soft', 'bake', 'oatmeal', 'cooki', 'influenst', 'mom', 'vox', 'box.<br', '/><br', '/>i', 'enjoy', 'chewy,', 'soft-bak', 'cooki', 'made', 'wholesom', 'quaker', 'oat', 'delici', 'raisins.', 'they', 'cooki', 'moist', 'bar,', 'wonder', 'none', 'less.', 'they', 'offer', 'follow', 'benefits:<br', '/><br', '/>', '-made', 'whole', 'grain', 'quaker', 'oats<br', '/>-individu', 'packaged<br', '/>-provid', 'good', 'sourc', 'fiber<br', '/>-contain', '6', 'gram', 'total', 'fat', 'per', 'serv'], ['they', 'awesom', 'addict', 'cold', 'milk.', 'perfect', 'snack', 'go.', 'a', 'littl', 'expens', 'singl', 'serv', 'one', 'pack', 'but,', 'worth', 'it:)'], ['my', 'kid', 'absolut', 'love', 'cooki', 'theyr', 'healthi', 'too!', 'mom', 'dont', 'mind', 'children', 'eat', 'these!'], ['as', 'part', 'influenst', 'i', 'receiv', 'mom', 'voxbox', 'full', 'great', 'product', 'tri', 'review.', 'includ', 'quaker', 'soft', 'bake', 'oatmeal', 'raisin', 'cookie.', 'i', 'like', 'raisin', 'i', 'gave', 'kiddos.', 'i', 'take', 'tast', 'though', 'delicious.', 'a', 'lot', 'store', 'bought', 'oatmeal', 'cooki', 'tast', 'good', 'good.', 'you', 'could', 'see', 'oat', 'everything.', 'what', 'great', 'special', 'treat', 'whole', 'grain', 'get', 'extra', 'fiber', 'need.', 'i', \"can't\", 'wait', 'go', 'buy', 'differ', 'flavor.', ':)'], ['this', 'one', 'best', 'tasting,', 'soft', 'cooki', 'long', 'time!', 'the', 'kid', 'fight', 'last', 'one!'], ['cooki', 'soft', 'moist..', 'kid', 'love', 'them!!', 'kid', 'cant', 'wait', 'til', 'buy', 'again!!'], ['i', 'say', 'good.', 'not', 'made', 'self.', 'if', 'like', 'quaker', 'love', 'them.'], ['my', 'boy', 'ask', 'cooki', 'over.', 'of', 'course,', 'easi', 'buy', 'famili', 'healthi', 'them!', 'the', 'fact', 'tast', 'fantast', 'hurt', 'all!'], ['we', 'receiv', 'influenst', 'box', 'opinion', 'sooooo', 'good!', 'i', 'high', 'recommend', 'children', 'adults!', ':)'], ['product', 'affordable,', 'great', 'texture,', 'good', 'nutrit', 'perfect', 'taste.', 'definit', 'purchas', 'again.', 'receiv', 'influenst', 'program', 'grate', 'introduc', 'altern', 'keebler', 'cooki', 'oreo', 'much', 'benefici', 'eat', 'experience.'], ['i', 'love', 'cooki', '!', 'my', 'kid', 'love', 'i', 'fight', 'get', 'bite.', 'i', 'would', 'recommend', 'anyon'], ['i', 'enjoy', 'fact', 'soft', 'tast', 'homemade..', 'no', 'tast', 'like', 'alot', 'cooki', 'oatmeal', 'cookies..', 'and', 'healthi', 'instead', 'lot', 'sugar', 'empti', 'cal'], ['great', 'mood', 'good,', 'fill', 'cookie!', 'they', 'soft', 'tase', 'great,', 'better', 'chocol', 'chip', 'especi', 'kids.'], ['my', 'famili', 'i', 'tri', 'soft', 'bake', 'oatmeal', 'cooki', 'love', 'them.', 'i', 'person', 'like', 'put', 'microwav', 'coupl', 'second', 'warm', 'them;', 'like', 'fresh', 'bake', 'cookie!'], ['i', 'receiv', 'quaker', 'soft', 'bake', 'oatmeal', 'cooki', 'oh', 'em', 'gee.', 'this', 'cooki', 'good', 'one', 'grandma', 'use', 'make', 'i', 'little.', 'i', 'share', 'half', 'son', 'kept', 'say', 'mmmmm', 'mmmm', 'mommi', 'mmmmm!', 'high', 'recommend', 'cooki', 'anyone!'], ['i', 'love', 'cooki', 'nice', 'soft', 'i', 'open', 'packaging.', 'it', 'seem', 'made', 'fresher', 'ingredients.', 'i', 'decid', 'split', 'cooki', 'two', 'let', 'kid', 'one', 'side.', 'i', 'split', 'packag', 'one', 'cooki', 'it.', 'my', 'daughter', 'devour', 'it,', 'son...h', 'saw', 'raisin', 'freak', 'out.', 'k', 'end', 'eat', 'brother', 'half', 'well.', 'i', 'bug', 'day', 'anoth', 'cooki', 'must', 'love', 'sinc', 'that', '3yr', 'old', 'express', 'love', 'food!', '(i', 'want', 'more', 'cookie!)<br', '/>i', 'get', 'chanc', 'person', 'tri', 'cookie,', 'seem', 'good', 'brand', 'i', 'like', 'trust,', 'also', 'smell', 'pretti', 'yummy!'], ['cooki', 'amaz', 'couldnt', 'think', 'better', 'snack', 'daughter', 'day', 'give', 'healthi', 'tast', 'great', 'love', 'soft', 'cooki'], ['these', 'cooki', 'soft', 'chewy!', 'this', 'cooki', 'perfect', 'sweet', 'tooth', 'crave', 'healthi', 'option.'], ['receiv', 'influenst', 'box', 'summer,', 'tast', 'great', 'soft.', 'seem', 'healthi', 'altern', 'regular', 'cooki', 'concern', 'much', 'cost.'], ['these', 'cooki', 'tast', 'good.', 'if', 'heat', 'second', 'microwav', 'eating,', 'tast', 'like', 'came', 'oven.', 'veri', 'fresh!'], ['my', 'famili', 'i', 'tri', 'cooki', 'differ', 'responses.', 'i', 'thought', 'sweet', 'tast', 'like', 'i', 'home', 'bake', 'cookie.', 'my', 'husband', 'thought', 'dri', 'crumbl', 'son', 'thought', 'yummy....', '9.'], ['i', 'got', 'eat', 'one', 'littl', 'bite', 'sampl', 'influenst', 'son', 'stole', 'ate', 'it!', 'ha', 'ha', 'bite', 'i', 'amazing.', 'i', 'get', 'keep', 'house.'], ['quaker', 'win', 'delici', 'cookies.', 'i', 'particular', 'love', 'individu', 'wrap', 'aspect', 'oatmeal', 'raisin', 'cookies.', 'i', 'hate', 'open', 'box', 'half', 'cooki', 'go', 'stale', 'air', 'get', 'them.', 'these', 'easi', 'throw', 'bag', 'grab', 'one', 'want', 'alway', 'fresh,', 'soft', 'yummy.'], ['i', 'thorough', 'enjoy', 'tri', 'quaker', 'soft-bak', 'oatmeal', 'raisin', 'cooki', 'part', 'influenst', 'program.', 'the', 'cooki', 'moist,', 'soft,', 'chewy...', 'everyth', 'oatmeal', 'raisin', 'cooki', 'be.', 'the', 'tast', 'superb', '-', 'right', 'amount', 'cinnamon', '&', 'nutmeg', '-', 'super', 'fill', 'held', 'perfect', 'dinner', 'time.', 'when', 'i', 'tri', 'out,', 'i', '8', 'month', 'pregnant', 'constant', 'hungry,', 'cooki', 'abl', 'hold', 'long...', 'color', 'impressed!'], ['awesom', 'cooki', '.', 'great', 'snack', 'cupboard', 'want', 'someth', 'quick', 'sweet.', 'the', 'qualiti', 'amaz', ',', 'worth', 'everi', 'penni', 'some.'], ['i', 'love', 'cookies,', 'i', 'hide', 'kid', 'although', 'would', 'easi', 'throw', 'lunch', 'box', 'nice', 'healthi', 'cheat', 'everi', 'then.'], ['i', 'got', 'done', 'review', 'quaker', 'soft', 'bake', 'cooki', 'line', 'via', '@influenst', '#momvox!', 'they', 'absolut', 'amazing!', 'soft', 'moist', 'perfect', 'snack', 'adult', 'kid', 'same.'], ['i', 'have', 'a', 'son', 'who', 'is', 'veri', 'picki', 'and', 'he', 'love', 'soft', 'bake', 'oatmeal', 'cookies.', 'i', 'receiv', 'a', 'free', 'cooki', 'from', 'influenst', 'and', 'he', 'took', 'it,', 'i', 'told', 'him', 'he', 'was', 'go', 'to', 'like', 'it', 'becaus', 'it', 'was', 'healthi', 'for', 'him', 'but', 'he', 'want', 'to', 'eat', 'it', 'ani', 'way', 'and', 'he', 'love', 'it.', 'i', 'have', 'sinc', 'bought', '3', 'box', 'of', 'quaker', 'cooki', 'for', 'my', 'kids.'], ['it', 'tasti', 'soft.', 'it', 'littl', 'dri', '7', 'year', 'old', 'love', 'it.', 'i', 'glass', 'milk', 'cooki', 'nice', 'treat.'], ['i', 'receiv', 'product', 'test', 'courtesi', 'influenst', 'quaker', 'i', 'say', 'hit', 'house.', 'this', 'first', 'product', 'tri', '5', 'sent', 'test', 'last', 'less', 'ten', 'minut', 'home.', 'my', 'toddler', 'anxious', 'give', 'tri', 'i', 'alreadi', 'purchas', 'two', 'box', 'sinc', 'tast', 'first', 'one.', 'they', 'definit', 'stapl', 'product.', 'i', 'love', 'trust', 'brand', 'i', 'love', 'made', 'whole', 'grain', 'i', 'feel', 'good', 'snack', 'choice!'], ['delici', 'perfect', 'go.', 'kid', 'love', 'healthi', 'too.', 'i', 'like', 'tast', 'home-bak', 'soft', 'chewy.', 'you', 'even', 'heat', 'sligh', 'microwav', '5second', 'theyr', 'perfect.', 'i', 'reciev', 'sampl', 'influenst', 'free', 'test', 'review', 'purposes.', 'thank', 'you.'], ['this', 'cooki', 'packag', 'featur', 'local', 'supermarket,', 'i', 'pick', 'pack', 'road', 'trip', 'i', 'go', 'on.', 'i', 'like', 'fact', 'cooki', 'soft', '(probabl', 'reason', 'cooki', 'individu', 'wrapped),', 'tast', 'almost', 'good', 'homemade.<br', '/><br', '/>four', 'solid', 'star', 'quaker', 'soft', 'bake', 'oatmeal', 'cookie.', 'just', 'shop', 'price;', 'price', 'good,', 'enjoy', 'treat.'], ['this', 'delicious!', 'add', 'glass', 'milk', 'kid', 'favorit', 'snack!', 'if', 'love', 'soft', 'cooki', 'perfect', 'you.', 'wish', 'came', 'box!'], ['i', 'got', 'sampl', 'one', 'cooki', 'influenster.com.', 'after', 'tri', 'cooki', 'sent,', 'i', 'went', 'bought', 'box', 'them.', 'the', 'kid', 'love', 'them!!', 'they', 'quick', 'easi', 'snack', 'go.', 'they', 'bit', 'crumbly,', 'well', 'worth', 'see', 'smile', 'faces.'], ['i', 'picki', 'eater', 'complet', 'supris', 'actual', 'like', 'them!', 'they', 'soft', 'sweet!', 'they', 'heavenly!', 'these', 'make', 'great', 'lunchbox', 'treat', 'littl', 'ones!', 'high', 'recommend', 'these!'], ['these', 'cooki', 'super', 'soft', 'yummy.', 'the', 'spice', 'make', 'think', 'grandma', 'bake', 'cookies!', 'yum.'], ['i', 'love', 'cooki', 'soft', 'good', '!', 'they', 'great', 'kid', 'take', 'snack', 'i', 'love', '!!', 'great', '!'], ['after', 'tri', 'cooki', 'i', 'honest', 'say', 'bad...however,', 'i', 'notic', 'vitamin', 'like', 'tast', 'time', 'bit', 'powering.', 'i', 'also', 'like', 'crumbl', 'gonna', 'eat', 'anyway', 'i', 'look'], ['i', 'present', 'tri', 'one', 'mom', 'voxbox,', 'one', 'word,', 'heaven...', 'it', 'first', 'thing', 'i', 'tested..', '1yr', 'old', 'son', 'even', 'love', 'em,', 'i', 'alreadi', 'went', 'thru', '3box'], ['soft', 'chewy,', 'son', 'i', 'share', 'free', 'sampl', 'quaker', 'soft', 'bake', 'oatmeal', 'cooki', 'influenster.', 'veri', 'tasty!'], ['i', 'receiv', 'influenst', 'test', 'love', 'delici', 'soft', 'was!', 'my', 'son', 'i', 'enjoy', 'devour', 'it!'], ['i', 'absolut', 'love', 'cookie.', 'i', 'receiv', 'free', 'sampl', 'i', 'one', 'i', 'went', 'search', 'found', 'groceri', 'store.', 'i', 'happi', 'one', 'big', 'cooki', 'everyth', 'i', 'look', 'for,', 'sweet,', 'bland,', 'salty,', 'mani', 'rasin', 'mani', 'calories.', 'the', 'perfect', 'snack,', 'especi', 'cup', 'tea', 'book...'], ['i', 'enjoy', 'cookies.', 'they', 'delici', 'sweet.', 'the', 'price', 'affordable.', 'i', 'receiv', 'product', 'test', 'went', 'bought', 'box.'], ['this', 'cooki', 'tast', 'wonderful.', 'what', 'even', 'better', 'good', 'too.', 'it', 'tast', 'like', 'eat', 'oatmeal.', 'it', 'great', 'treat', 'meal', 'run.'], ['my', 'daughter', 'love', 'free', 'sampl', 'cooki', 'influenster.', 'she', 'goobl', 'right', 'down,', 'think', 'would.', 'she', 'biggest', 'fan', 'rasins.', 'i', 'tri', 'bite', 'thought', 'kinda', 'dri', 'daughter', 'love', 'it,', 'buy', 'again!', ':)'], ['children', 'love', 'cooki', 'i.', 'they', 'soo', 'moist', 'delicuos.', 'these', 'far', 'best', 'tast', 'oatmeal', 'cooki', 'i', 'ever', 'had.'], ['our', 'famili', 'super', 'impress', 'cookies!', 'they', 'great', 'flavor,', 'cinnamon', 'realli', 'pop', 'stay', 'soft.', 'they', 'realli', 'close', 'grandma', 'homemad', 'i', 'ever', 'purchased.'], ['this', 'cooki', 'super', 'soft', 'yummy.', 'it', 'great', 'flavor.it', 'great', 'snack', 'anyon', 'family!', 'i', 'buy', 'this.'], ['to', 'me,', 'perfect', 'oatmeal', 'cooki', 'would', 'soft', 'fill', 'soul-comfort', 'warm', 'spice', 'kind', 'remind', 'christma', 'exact', 'get', 'quaker', 'oat', 'soft', 'bake', 'oatmeal', 'raisin', 'cookie.', 'perfect', 'mid-morn', 'snack', 'cup', 'coffee.'], ['these', 'cooki', 'amazing!!', 'tast', 'like', 'home', 'bake', 'cookie.', 'they', 'soft', 'chewi', 'like', 'i', 'love', 'cookies!', 'i', 'high', 'recommend'], ['it', 'littl', 'dri', 'taste.', 'however,', 'price', 'packag', 'amazing.', 'my', 'kid', 'love', 'these.'], ['this', 'cooki', 'delightful.', 'they', 'easi', 'grab', 'throw', 'kid', 'lunch', 'snack', 'bag', 'healthi', 'too.', 'i', 'definit', 'buy', 'school', 'year.'], ['these', 'cooki', 'soft.', 'they', 'tast', 'great.', 'i', 'would', 'buy', 'famili', 'make', 'own.'], ['i', 'enjoy', 'cookie.', 'i', 'receiv', 'sampl', 'influenster.<br', '/>it', 'soft', 'enjoy', 'eat.', 'i', 'realli', 'like', 'individu', 'wrapped.<br', '/>special', 'sinc', 'seem', 'ant', 'problem.', 'i', 'buy', 'product', 'again,', 'specially<br', '/>for', 'grandkids..'], ['i', 'got', 'sampl', 'raisin', 'oatmeal', 'cooki', 'influenst', 'vox', 'box', 'nice', 'chewy.', 'i', 'love', 'soft', 'cooki', 'great.', 'i', 'buy', 'box', 'next', 'time', 'i', 'go', 'store!'], ['i', 'love', 'quaker', 'soft', 'bake', 'raisin', 'oatmeal', 'cookies.', 'they', 'far', 'favorite.', 'when', 'i', 'feel', 'like', 'baking,', 'hot', 'so,', 'i', 'grab', 'these.', 'they', 'live', 'soft', 'bake', 'claims.', 'they', 'also', 'even', 'better', 'heat', 'second', 'microwave.', 'definit', 'almost', 'good', 'homemade.'], ['i', 'tri', 'oatmeal', 'one', 'i', 'love', 'chewi', 'bad', 'taste-wise.', 'i', 'think', 'price', 'get', 'box,', \"i'd\", 'rather', 'make', 'own.', 'but', 'great', 'baking,', 'definit', 'buy', 'some!'], ['these', 'amazing!', 'out', 'oven', 'fresh,', 'full', 'flavor!', 'best', 'store', 'bought', 'cooki', 'i', 'ever', 'tried.'], ['these', 'cooki', 'fantastic!', 'i', 'usual', 'like', '\"chewy\"', 'cooki', 'textur', 'love', 'these!', 'they', 'tast', 'amazing!', 'they', 'tast', 'made!', 'warm', 'second', 'microwav', 'bam!', 'yummi', '\"fresh', 'baked-like\"', 'cookies!'], ['veri', 'soft', 'chewy.', 'the', 'whole', 'famili', 'love', 'i', 'usual', 'like', 'raisin', 'cooki', 'delish!'], ['love', 'them!<br', '/>i', 'open', 'box', 'got', 'item', 'took', 'picture.', 'my', 'son', 'saw', 'cooki', 'got', 'super', 'excited.', 'i', 'open', 'cooki', 'took', 'bite', 'set', 'grab', 'drink.', 'i', 'came', 'back,', 'gone!', 'my', '3', 'year', 'old', 'destroy', 'it!', 'lol.<br', '/>we', 'agre', 'realli', 'good', 'ran', 'buy', 'box', 'them.', 'we', 'enjoy', 'togeth', 'night', 'dinner', 'cookies.', 'yummy!'], ['i', 'receiv', 'one', 'quaker', 'soft', 'bake', 'cooki', 'influenst', 'mom', 'voxbox', 'i', 'hesit', 'eat', '170', 'calori', 'lower', 'calori', 'altern', 'snack', 'cooki', 'close', 'homemad', 'get', 'like', 'soft', 'bake', 'break', 'apart', 'easili', 'overal', 'tast', 'pretti', 'good', 'well.', 'not', 'purchas', 'unless', 'cut', '50', 'calori', 'it.'], ['the', 'quaker', 'soft', 'bake', 'oatmeal', 'cooki', 'delicious!', 'they', 'soft', 'chewi', 'full', 'whole', 'oats.', 'my', 'kid', 'gobbl', 'want', 'more.', 'i', 'one', 'chamomil', 'tea', 'kid', 'enjoy', 'milk.', 'i', 'would', 'definit', 'recommend', 'cooki', 'whole', 'family.'], ['these', 'pretti', 'tasti', 'filling.', 'if', 'i', 'time', 'eat', 'hold', 'til', 'next', 'meal.'], ['these', 'cooki', 'excel', 'kid', 'love', 'too!', 'i', 'reciev', 'sampl', 'went', 'bought', 'box', 'day!'], ['these', 'cooki', 'great!', 'they', 'super', 'soft', 'chewi', 'great', 'texture.', 'my', 'kid', 'love', 'them,', 'moder', 'healthy.'], ['i', 'receiv', 'quaker', 'soft', 'bake', 'oatmeal', 'raisin', 'cooki', 'influenster.', 'i', 'thought', 'kinda', 'crumbly,', 'daughter', 'i', 'love', 'it.'], ['i', 'got', 'influenst', 'tri', 'soft', 'yummy.', 'would', 'recommend', 'friend', 'family.'], ['my', '4', 'year', 'old', 'absolut', 'love', 'these.', 'they', 'alway', 'soft', 'tast', 'super', 'fresh', 'easi', 'find', 'groceri', 'store.'], ['i', 'dont', 'like', 'tast', 'like', 'oatmeal', 'raisin', 'like', 'think', 'good', 'eat', 'cooki', 'healthi', 'probabl', 'like', 'taste.'], ['i', 'would', 'definit', 'recommend', 'get', 'cookies.', 'they', 'tast', 'awesome.', 'great', 'snack', 'home', 'go.', 'realli', 'pricey.', 'everyon', 'tri', 'them!'], ['these', 'cooki', 'tast', 'good.', 'they', 'fresh', 'moist!', 'i', 'like', 'perfect', 'size', 'individu', 'wrapped.'], ['not', 'realli', 'cooki', 'lover', 'specif', 'oatmeal', '&', 'raisin', 'fan', 'realli', 'tasti', 'fresh!!', 'receiv', 'sample.'], ['in', 'hous', 'love', 'love', 'love', 'cookies!', 'so', 'cooki', 'put', 'test,', 'total', 'pass', 'fli', 'colors.', 'the', 'tase', 'delici', 'soft.', 'my', 'daughter', '(5yr', 'old)', 'love', 'too.', 'so', 'i', 'mind', 'give', 'healthier', 'cookie.'], ['love', 'these.', 'receiv', 'influenst', 'voxbbox.', 'would', 'definit', 'recommend', 'anyone.', 'kid', 'love', 'too.', 'they', 'tast', 'good,', 'nice', 'soft', 'packag', 'leav', 'fresh.'], ['good', 'cooki', 'soft', 'moist', 'i', 'wish', 'made', 'oatmeal', 'chocol', 'chip', 'kid', 'love', 'i', 'would', 'buy'], ['these', 'good,', 'pack', 'i', 'got', 'stale,', 'howev', 'still', 'great', 'flavor', 'soft', '&', 'chewy!!', 'they', 'also', 'great', 'size', 'fill', 'own!!', 'my', 'son', 'taken', 'school', 'school', 'quick', 'bite', 'sports,', 'love', 'work', 'case', 'i', 'starv', 'know', 'lunch', 'get', 'push', 'back', 'day.', 'they', 'realli', 'great,', 'tri', 'oatmeal', 'breakfast', 'bar', 'kinda', 'like', 'them,', 'heavy!!'], ['quaker', 'alway', 'high', 'qualiti', 'products.', 'i', 'like', 'cookies.', 'they', 'great', 'textur', 'great', 'taste.', 'and', 'good', 'size.', 'individu', 'wrap', 'foil', 'packet', 'freshness.', 'good', 'tast', 'nice', 'hint', 'cinnamon.', 'if', 'like', 'cinnamon', 'love', 'cookies.'], ['these', 'cooki', 'tast', 'realli', 'good.', 'the', 'oatmeal', 'cooki', 'i', 'like', 'better', 'chewi', 'one', 'made', 'sugar', '(carmelization!).<br', '/><br', '/>given', 'moder', '(12g)', 'amount', 'sugar', 'these,', 'tast', 'great,', 'actual', 'make', 'sens', 'energi', 'snack.<br', '/><br', '/>likes:<br', '/>-', 'fiber!', '4g', 'per', 'cookie.<br', '/>-', 'nutrition:', 'easi', 'fat', 'sugars.<br', '/>-', 'soft,', 'semi-chewi', 'texture.', 'raisin', 'chewi', 'enough.<br', '/><br', '/>dislikes:<br', '/>none', 'really.<br', '/><br', '/>individu', 'packag', 'nice', 'take', 'you.', 'alway', 'like', 'see', 'less', 'packag', 'wast', 'materials.<br', '/><br', '/>recommended.'], ['i', 'got', 'momvoxbox', 'influenster.i', 'cooki', 'lover,howev', 'favs.mi', 'toddler', 'love', 'liter', 'eat', 'almost', 'anyth', 'sooooo', 'say', 'whole', 'lot.'], ['i', 'cooki', 'lover,', 'i', 'excit', 'get', 'tri', 'product', 'free', 'amazon', 'vine', 'program.', 'unfortunately,', 'good.<br', '/><br', '/>they', 'crumbly,', 'almost', 'powdery,', 'mayb', 'bake', 'enough.', 'the', 'flavor', 'okay,', 'certain', 'noth', 'special.', 'they', 'soft,', 'textur', 'pleasant.<br', '/><br', '/>they', 'remind', '\"grandma', 'cookies\".', 'except', 'half', 'good.'], ['these', 'fill', 'great', 'tasting.', 'as', 'quick', 'snack,', 'time', 'meal,', 'super', 'simpl', 'quicki', 'breakfast;', 'good', 'option.', 'i', 'high', 'recommend', 'them.'], ['my', 'cookie-hound', 'husband', 'almost', 'mailbox.', 'the', 'qualiti', 'tast', 'much', 'archway', 'brand;', 'good', 'thing', 'i', 'consid', 'best', 'store-bought', 'cooki', 'there.', 'my', 'husband', 'would', 'like', 'whole', 'oat', 'mix,', 'understand', 'peopl', 'appreci', 'textur', 'food.<br', '/><br', '/>the', 'individu', 'wrap', 'might', 'nice', 'kid', 'lunch', 'expens', 'unecolog', 'wast', '(typical)', 'case', 'group', 'eat', 'and/or', 'individu', 'eat', 'one.', 'at', 'very,', 'very,', 'least', 'wrap', 'two-at-a', 'time?<br', '/><br', '/>if', 'price', 'similar', 'archway,', 'i', 'would', 'expect', 'least', 'well', 'equival', 'archway', 'cookies.'], ['these', 'individu', 'seal', 'oatmeal', 'raisin', 'cooki', 'tasty,', 'soft,', 'bit', 'dry.', 'they', 'need', 'littl', 'moist,', 'especi', 'sinc', 'whole', 'point', 'cooki', 'individu', 'foil', 'wrapper', 'protect', 'moisture.', 'the', 'tast', 'tradit', 'cinnamon', 'raisin,', 'tast', 'fine,', 'crowd', 'market,', 'mani', 'competitors,', 'quaker', 'cannot', 'afford', 'cooki', 'perfect', 'moist.<br', '/><br', '/>i', 'rememb', 'back', 'quaker', 'oat', 'came', 'round,', 'cardboard', 'container.', 'on', 'side', 'contain', 'recip', 'oatmeal', 'cookies,', 'mom', 'use', 'make', 'frequently.', 'those', 'cookies,', 'nestl', 'chocol', 'chip', 'added,', 'best', 'oatmeal', 'chocol', 'chip', 'cooki', 'i', 'ever', 'tasted.', 'now,', 'quaker', 'could', 'market', 'cooki', 'make', 'em', 'tast', 'good', \"mom's,\", 'something.'], [\"they'r\", 'cooki', 'terrible,', \"i'v\", 'lot', 'better', 'soft-bak', 'cooki', 'these.', 'they', 'pretti', 'bland,', 'mild', 'raisini', 'sweet', 'textur', 'dri', 'crumbl', 'turn', 'littl', 'meali', 'upon', 'chewing.', 'i', 'tri', 'coffe', 'milk', 'see', 'better', 'way', 'tast', 'littl', 'better', 'textur', 'becam', 'wet', 'meali', 'bit', 'fell', 'coffee.', 'a', 'soft', 'cooki', 'definit', 'moist,', 'hold', 'milk', 'bit', 'chew', 'it.', 'pepperidg', 'farm', 'make', 'addict', 'soft', 'bake', 'oatmeal', 'cookie.'], ['one', 'star', 'soft.', 'one', 'oatmeal.', 'one', 'raisins.', 'but', 'that', 'it.', 'these', 'cooki', 'tast', 'fine,', 'pretti', 'dri', 'fair', 'crumbly.', 'not', 'over', 'enjoyable.', \"they'd\", 'fine', 'dunk', 'milk', 'something,', \"i'd\", 'afraid', 'half', 'would', 'fall', 'glass.', 'littl', 'debbi', 'pepperidg', 'farm', 'proven', 'sell', 'packaged,', 'soft-bak', 'cooki', 'still', 'moist.', 'plus,', 'seem', 'over-packaged.', 'individu', 'wrap', 'cookies?', 'okay,', 'yeah', 'handi', 'pack', 'lunch', 'something,', 'really?', 'that', 'seem', 'excessive.', \"i'd\", 'probabl', 'skip', 'these.'], ['this', 'great', 'product.', 'moist', 'flavor', 'cooki', 'packag', 'nice', 'take', 'go.', 'this', 'great', 'go', 'breakfast', 'snack', 'anytim', 'day.'], ['tasti', 'cookie!', 'it', 'soft,', 'though', 'mayb', 'littl', 'dry.', 'the', 'raisin', 'actual', 'nice', 'juicy,', 'dri', 'like', 'packag', 'cookies.', 'pretti', 'good', 'overall.'], ['this', 'cooki', 'big', 'enough', 'share!', 'i', 'love', 'tast', 'cooki', 'dri', 'side', 'much', 'chewi', 'like', 'harder', 'drier', 'cooki', 'you!'], ['i', 'receiv', 'product', 'free', 'test', 'influenster.com', 'couldnt', 'excit', 'try.', 'i', 'love', 'soft', 'bake', 'cookies,', 'i', 'find', 'whenev', 'tri', 'buy', 'one', 'alreadi', 'made,', 'tast', 'fresh.', 'the', 'quaker', 'soft', 'bake', 'cooki', 'larg', 'fulfilling.', 'the', 'tast', 'fresh', 'though', 'made', 'right', 'kitchen.', 'my', 'kid', 'love', 'oatmeal', 'raisin', 'right', 'amount', 'raisin', 'it.', 'this', 'onli', 'type', 'soft', 'cooki', 'i', 'buy', 'out!', 'i', 'love', 'qualiti', 'quaker', 'products!'], ['these', 'cooki', 'good', 'soft', 'promised!', 'def', 'recommend', 'anyon', 'everyon', 'look', 'good', 'cooki', 'good', 'price!'], ['i', 'love', 'oatmeal', 'cooki', 'i', 'realli', 'look', 'forward', 'tri', 'these.', 'they', 'good', 'soft', 'favorit', 'combo', 'oatmeal', 'cookie.'], ['quaker', 'soft', 'bake', 'oatmeal', 'cooki', 'good', 'soft', 'plus', 'tast', 'great'], ['i', 'tri', 'given', 'review.', 'i', '(and', 'have)', 'get', 'these!', 'delicious!', 'i', 'love', 'chocol', 'raisin,', 'pure', 'person', 'prefer', 'part.'], ['mommi', 'kid', 'approved!', 'i', 'opportun', 'tast', 'test', 'quaker', 'oatmeal', 'cooki', 'raisin', 'influenst', 'i', 'happili', 'surpris', 'texture,', 'taste,', 'yumminess.', 'the', 'kid', 'love', 'even', 'notic', 'raisins.', 'i', 'would', 'recommend', 'great', 'healthier', 'snack!'], ['the', 'cooki', 'soft,', 'chewy,', 'tast', 'great', 'good', 'you.', 'provid', 'good', 'sours', 'fiber.', 'you', 'fin', 'almost', 'store.'], ['these', 'yummi', 'i', 'love', 'eat', 'them!', 'you', 'tri', 'sooooo', 'yummy!', 'veri', 'great', 'product', 'worth', 'money!'], ['after', 'tri', 'review', 'influenster,', 'i', 'end', 'buy', 'box', 'good!', 'they', 'soft', 'come', 'individu', 'packag', 'take', 'go.', 'my', 'kid', 'love', 'sinc', 'lot', 'healthier', 'cookies,', 'i', 'definit', 'purchas', 'more.'], ['i', 'got', 'mom', 'vox', 'box', 'influenst', 'tri', 'littl', 'daughter', 'ate', 'right', 'up!', 'she', 'thought', 'like', 'rasin', 'but,', 'love', 'it!!!', 'she', 'said', 'soft', 'yummy!', 'she', 'said', 'remind', 'grandma', 'cookies!', 'it', 'tast', 'like', 'homemad', 'cooki', 'said!', 'she', 'love', 'much', 'ask', 'buy', 'everi', 'time', 'go', 'store!!!', 'i', 'impressed!'], ['i', 'absolut', 'purchas', 'item.', 'i', 'receiv', 'one', 'voxbox,', 'like', 'right', 'away.', 'the', 'flavor', 'delicious,', 'chewy,', 'soft', 'consist', '(which', 'i', 'prefer', 'cookies).'], ['i', 'receiv', 'product', 'test', 'part', 'mom', 'voxbox', 'influenster.com.', 'as', 'i', 'go', 'product', 'i', 'sent', 'test', 'i', 'open', 'quaker', 'soft', 'bake', 'oatmeal', 'cooki', 'ate', 'it.', 'i', 'pleasant', 'surprised.', 'i', 'eaten', 'oatmeal', 'cooki', 'sinc', 'i', 'kid.', 'take', 'first', 'bite', 'brought', 'right', 'back', 'childhood', 'mom', 'would', 'bake', 'oatmeal', 'cooki', 'grade', 'school', 'parties.', 'the', 'quaker', 'cooki', 'soft', 'right', 'amount', 'raisins.', 'the', 'raisin', 'take', 'away', 'tast', 'oatmeal.', 'i', 'alreadi', 'bought', 'two', 'box', 'continu', 'add', 'cooki', 'bi-month', 'groceri', 'lists.', 'tri', 'cooki', 'regret', 'it!!'], ['receiv', 'mom', 'voxbox', 'influenster.com', 'love', 'cooki', 'sooo', 'yummii', 'buy', 'cooki'], ['i', 'receiv', 'product', 'test', 'part', 'influenster.com.', 'i', 'realli', 'like', 'oatmeal', 'cookies,', 'definit', 'mind', 'changer.', 'it', 'soft.', 'it', 'mouth', 'water', 'i', 'smell', 'it.', 'i', 'smell', 'fod', 'i', 'eat', 'them,', 'especi', 'i', 'unfamiliar', \"them,don't\", 'ask', 'why,', 'i', 'know', 'lol.', 'but', 'great', 'gone', 'i', 'finish', 'look', 'box.', 'these', 'definitel', 'great', 'healthi', 'snack', 'i', 'know', 'kid', 'love', 'dearly.', 'i', \"can't\", 'wait', 'tri', 'cooki', 'flavors!', 'thank', 'quaker'], ['i', 'receiv', 'cooki', 'mom', 'voxbox', 'influenster.com.', 'it', 'delicious.', 'my', 'complaint', 'littl', 'crumbly,', 'littl', 'messi', 'kids.', 'perfect', 'howev', 'i', 'share', 'fine', ':-)'], ['i', 'like', 'tast', 'texture...i', 'person', 'dont', 'realli', 'like', 'flavor', 'actual', 'pretti', 'good', ':)', 'pass', 'picki', 'taste.'], ['the', 'first', 'thing', 'i', 'notic', 'unwrap', 'quaker', 'cooki', 'smell.', 'i', 'smell', 'fresh', 'bake', 'good', 'soon', 'i', 'unwrap', 'cookie.', 'i', 'receiv', 'oatmeal', 'raisin', 'cookie,', \"i'm\", 'fan', 'raisin', 'i', 'will', 'give', 'cooki', 'tri', 'base', 'amaz', 'smell.', 'when', 'i', 'took', 'first', 'bite', 'i', 'love,', 'cooki', 'soft', 'moist', 'gone', 'i', 'found', 'want', 'more.', 'i', 'total', 'recommend', 'peopl', 'tri', 'amaz', 'cooki', 'themselves.'], ['<a', 'href=\"http://www.amazon.com/gp/product/b005kk56ju\">quak', 'soft', 'bake', 'oatmeal', 'cooki', '6', 'count', 'box', '(8.8', 'oz.),', 'raisin', '(pack', '4)</a><br', '/><br', '/>i', 'receiv', 'cooki', 'mom', 'voxbox', 'influenster.com.', 'i', 'usual', 'cooki', 'person', 'unless', 'bake', 'myself,', 'case', 'realli', 'enjoy', 'cookie.', 'i', 'even', 'surpris', 'nutrit', 'facts,', 'cooki', 'good', 'good', 'good', 'you.', 'i', 'definit', 'pick', 'box', 'next', 'shop', 'trip.'], ['i', 'buy', 'cooki', 'sinc', 'first', 'came', 'famili', 'love', 'them.', 'i', 'bought', 'everi', 'flavor', 'one', 'like.', 'i', 'continu', 'buy', 'family.', 'great', 'price', 'delicious!!'], ['i', 'realli', 'enjoy', 'cookies.', 'they', 'soft', 'yummy.', 'almost', 'like', 'hommade.', 'i', 'would', 'repurchas', 'again.', 'quaker', 'brand', 'i', 'love', 'trust', 'quality.'], ['i', 'love', 'chewi', 'tast', 'awesom', 'i', 'would', 'definit', 'make', 'favorite.', 'if', 'fan', 'cooki', 'love', 'ones.'], ['i', 'realli', 'like', 'cookies,', 'soft', 'chewi', 'great', 'tast', 'quaker', 'oats....i', 'defin', 'buy', 'again.'], ['i', 'realli', 'like', 'quacker', 'cookies.', 'they', 'soft', 'tast', 'good.', 'i', 'dont', 'think', 'tast', 'better', 'chocol', 'chip', 'kind', 'but,', 'still', 'good.'], ['i', 'absolut', 'love', 'these!', 'they', 'soft,', 'chewy,', 'irresistible.', 'they', 'quit', 'like', 'homemade,', 'darn', 'close.', 'i', 'hard', 'time', 'eat', 'sampl', 'i', 'got', 'influenster.com.', 'both', 'children', 'ask', 'one', 'bite', 'beg', 'more.'], ['i', 'receiv', 'one', 'cooki', 'influenst', 'i', 'alway', 'reluct', 'tri', 'pre-mad', 'cooki', 'make', 'teeth', 'hurt.', 'i', 'pleasant', 'surpris', 'teeth', 'hurt', 'cooki', 'made', 'think', 'cooki', 'childhood.', 'the', 'cooki', 'fresh', 'soft', 'i', 'huge', 'fan', 'raisin', 'honest', 'i', 'enjoy', 'cookie.', 'i', 'buy', 'box', 'great', 'snack', 'item', 'kids.'], ['the', 'kid', 'love', 'this,', 'i', 'mean,', 'hey', 'large,', 'soft,', 'chewi', 'cookie,', 'cours', 'go', 'love', 'this.', 'hubbi', 'littl', 'accustom', 'homemad', 'cook', 'could', 'take', 'leav', 'it.', 'i', 'thought', 'could', 'raisin', 'it.<br', '/><br', '/>thank', 'influenst', 'allow', 'tri', 'product.'], ['oatmeal', 'raisin', 'cooki', 'favorit', 'cookies.', 'these', 'soft', 'raisin', 'moist.', 'will', 'defin', 'buy'], ['i', 'love', 'oatmeal', 'raisin', 'cookies.', 'they', 'huge', 'full', 'flavor.', 'love', 'oatmeal', 'raisin,', 'love', 'these!!'], ['these', 'great!', 'my', 'kiddo', 'love', 'them.', 'thank', 'influenst', 'quacker.<br', '/>i', 'receiv', 'sampl', 'kiddo', 'ate', 'up.'], ['these', 'bad', 'packaged,', 'commerci', 'cookie.', 'they', 'tast', 'fake,', 'over', 'sweet,', 'nice', 'texture.', 'my', 'kid', 'realli', 'like', 'them.'], ['these', 'soft', 'delicious.', 'they', 'quaker,', 'know', 'good', 'you!', 'my', 'son', 'i', 'love', 'them.'], ['i', 'absolut', 'love', 'cookie!', 'they', 'delicious!', 'continu', 'buy', 'them.', 'they', 'oist', 'chewi', 'could', 'eat', 'whole', 'box!'], ['i', 'never', 'realli', 'like', 'oatmeal', 'cooki', 'commerci', 'quaker', 'soft', 'bake', 'oatmeal', 'cooki', 'bought', 'me.', 'i', 'love', 'soft', 'tast', 'fresh', 'cooki', 'cool', 'oven.', 'i', 'addict'], ['my', 'son', 'usual', 'enjoy', 'cooki', 'unless', 'chocol', 'chip,', 'frost', 'them,', 'i', 'gave', '2', 'yr', 'old', 'quaker', 'soft', 'bake', 'oatmeal', 'cookie,', 'ate', 'right', 'up!', 'delicious!'], ['i', 'big', 'fan', 'oatmeal', 'cooki', 'one', 'better', 'quaker..i', 'howev', 'surpris', 'soft', 'cooki', 'are...i', 'expect', 'need', 'wrap', 'put', 'microwav', 'perfect', 'right', 'package.'], ['these', 'cooki', 'delicious,', 'soft.', 'still', 'tast', 'new', 'package.', 'i', 'would', 'definit', 'encourag', 'everyon', 'get', 'these.', 'i', 'guarante', 'children', 'enjoy', ':-)'], ['soft,', 'oh,', 'delicious!', \"i'd\", 'packag', 'cooki', 'i', 'tri', 'these!', 'you', 'disappointed!!'], ['i', 'love', 'oatmeal', 'raisen', 'cooki', 'heard', 'quaker', 'sell', 'new', 'soft', 'bake', 'cooki', 'readi', 'tri', 'it.', 'i', 'littl', 'skeptic', 'live', 'expect', ',but', 'im', 'glad', 'wrong.', 'it', 'soft', 'yummi', '.', 'liter', 'could', 'homemad', 'cookie.', 'great', 'treat', 'definit', 'buy', 'more.'], ['soft', 'cooki', 'vert', 'good.', 'i', 'tri', 'oatmeal', 'rasin', 'soft', 'cookies.', 'they', 'good.', 'i', 'like', 'oatmeal', 'raisn', 'cookies.', 'i', \"can't\", 'wait', 'tri', 'flavors.', 'these', 'cooki', 'a++++', 'hous', 'hold.', 'everyon', 'love', 'them.'], ['these', 'cooki', 'good!', 'i', 'never', 'get', 'eat', 'whole', 'one', 'though,', 'kid', 'keep', 'snatch', 'them!', 'they', 'even', 'seem', 'notic', 'healthi', 'cooki', 'actual', 'good', 'you!'], ['there', 'delicious.', 'i', 'recommend', 'oatmeal', 'cooki', 'lovers!', 'my', 'kid', 'also', 'love', 'cooki', 'well.', 'great', 'whole', 'family.'], ['i', 'love', 'oatmeal', 'raisin', 'cookies!', 'they', 'ton', 'flavor,', 'soft', 'moist,', 'i', 'feel', 'guilti', 'eat', 'them,', 'quaker', 'i', 'trust', 'thier', 'product', 'delici', 'healthi', 'alternative!'], ['i', 'reciev', 'mom', 'voxbox', 'influenst', 'daughter', 'love', 'them.', 'so', 'bought', 'box', 'love', 'cookie!'], ['i', 'reciev', 'mom', 'voxbox', 'influenster,', 'i', 'say', 'amazing.', 'my', 'son', 'even', 'like', 'them!'], ['i', 'recent', 'got', 'chanc', 'sampl', 'quaker', 'soft', 'bake', 'oatmeal', 'cooki', 'via', 'influenst', 'mom', 'vocbox', 'cooki', 'last', '2', 'minut', 'home!', 'onc', 'came', 'box,', 'wrapper', 'i', 'split', '3', 'way', 'caus', 'kid', 'saw', 'some.', 'love', 'soft,', 'chewi', 'good', 'flavor', 'great', 'pure.', 'we', 'head', 'get', 'more!<br', '/>*i', 'reciev', 'product', 'compliment', 'influenst', 'howev', 'opinion', 'own.'], ['i', 'got', 'to', 'tri', 'this', 'quaker', 'soft', 'bake', 'oatmeal', 'cooki', 'through', 'the', 'good', 'folk', 'from', 'influenst', 'after', 'receiv', 'their', '2012', 'momvox', 'box,', 'and', 'i', 'must', 'say', 'i', 'love', 'it,', 'first', 'of', 'all', 'oatmeal', 'cooki', 'are', 'my', 'favorite,', 'so', 'there', 'wasnt', 'ani', 'disappoint', 'there,', 'the', 'cooki', 'retain', 'it', 'softness/fresh', 'ofter', 'be', 'open', 'by', 'me', 'for', 'a', 'week', 'now,', 'and', 'that', 'was', 'good,', 'plus', 'it', 'tast', 'great', 'so', 'thumb', 'up'], ['i', 'receiv', 'product', 'complimentari', 'test', 'purpos', 'quaker', 'influenster.', 'i', 'hard', 'get', 'box', '2', 'year', 'old', 'spi', 'tri', 'it!', 'we', 'split', 'tasti', 'cooki', 'realli', 'enjoy', 'it.', 'i', 'sinc', 'bought', 'crunchi', 'quaker', 'cooki', 'realli', 'good', 'too,', 'i', 'realli', 'like', 'soft,', 'chewi', 'oatmeal', 'raisin', 'cooki', 'daughters.', 'it', 'great', 'afternoon', 'snack', 'easi', 'pack', 'purs', 'trip', 'zoo', 'swimming.', 'also,', 'sinc', 'quaker', 'cooki', 'brand', 'i', 'trust', 'use', 'year', 'make', 'feel', 'happi', 'choic', \"i'm\", 'make', 'children.'], ['i', 'love', 'oatmeal', 'love', 'raisins.', 'so', 'two', 'combin', 'great!!', 'i', 'love', 'quaker', 'oatmeal', 'raisin', 'soft', 'cookie!!', 'i', 'futur', 'repurchas', 'family.'], ['as', 'soon', 'i', 'open', 'mom', 'vox', 'box,', 'i', 'pull', 'cookie.', 'i', 'love', 'oatmeal', 'raisin', '2', 'year', 'old', 'daughter,', 'lily.', 'she', 'start', 'screaming,', '\"cookie,', 'cooki', 'mama,', 'cookie\".', 'so', 'natur', 'i', 'gave', 'in.', 'she', 'like', 'it.', 'she', 'decid', 'eat', 'mac', 'chees', 'unusu', 'her!', 'i', 'manag', 'steal', 'piec', 'amaz', 'good!', 'i', 'definit', 'buy', 'regularly!'], ['soft', 'delici', 'cookie,', 'best', 'thank', 'influenst', 'allow', 'tri', 'great', 'product<br', '/><a', 'href=\"http://www.amazon.com/gp/product/b000ypml80\">quak', 'breakfast', 'cooki', 'oatmeal', 'chocol', 'chip,', '6-count', 'box', '(pack', '6)</a>'], ['these', 'cooki', 'soft', 'delicious.', 'they', 'good', 'quick,', 'healthi', 'snack', 'quick', 'breakfast.', 'this', 'cooki', 'lover', 'high', 'recommends.'], ['they', 'soft', 'chewy.', 'tast', 'like', 'homemad', 'cookies.', 'i', 'like', 'fact', 'sweet.'], ['soft,', 'chewey,', '&', 'fresh!', 'i', 'reciev', 'free', 'sampl', 'would', 'definit', 'buy', 'famili', '&', 'recomend', 'anyone!'], ['these', 'cooki', 'good', 'soft..', 'i', 'love', 'cooki', 'eat', 'atleast', 'one', 'everyday', 'i', 'find', 'littl', 'one', 'love', 'well..', 'you', \"can't\", 'go', 'wrong', 'cooki', 'plus', 'good', 'you..'], ['i', 'love', 'quaker', 'soft', 'bake', 'oatmeal', 'cooki', 'reciev', 'complement', 'influenster.com.', 'the', 'cooki', 'soft', 'chewi', 'sweet', 'cinnamon', 'kick', 'it!', 'i', 'couldnt', 'wait', 'buy', 'more!'], ['i', 'love', 'quaker', 'soft', 'bake', 'oatmeal', 'cooki', 'reciev', 'complement', 'influenster.com.', 'the', 'cooki', 'soft', 'chewi', 'sweet', 'cinnamon', 'kick', 'it!', 'i', 'couldnt', 'wait', 'buy', 'more!'], ['i', 'receiv', 'product', 'courtesi', 'influenst', 'delicious..it', 'soft', 'full', 'flavor.', 'i', 'definit', 'go', 'repurchas', 'these.'], [\"i'm\", 'raisin', 'fan', 'boy,', 'quaker', 'soft', 'bake', 'oatmeal', 'cooki', 'sure', 'made', 'chang', 'mind!', 'i', 'love', 'them!', 'veri', 'chewy!!!', '(:'], ['i', 'abl', 'tri', 'thank', 'influenster.com.', 'my', 'daughter', 'one', 'end', 'steal', 'could', 'finish', 'bite', 'got', 'delish,', 'gobbl', 'rest', 'right', 'up.', 'we', 'definit', 'buy', 'soon'], ['i', 'tri', 'courtesi', 'influenster.com', 'prize.', 'my', 'famili', 'love', 'them.', 'they', 'tast', 'much', 'like', 'homemad', 'cookies.', 'i', 'alreadi', 'bought', 'more.'], ['who', 'love', 'cookies?', 'quaker', 'oatmeal', 'raisin', 'cooki', 'good', 'made', 'whole', 'grain', 'oats.', 'for', 'sweet', 'healthi', 'snack', 'great.', 'i', 'love', 'soft', 'cooki', 'hit.'], ['i', 'huge', 'fan', 'homemad', 'cooki', 'one', 'made', 'forget', 'store', 'bought!', ':)', 'yummy,', 'healthi', 'even', 'picki', 'daughter', 'like', 'it.', ':)'], ['i', 'normal', 'cooki', 'fan', 'i', 'tri', 'cooki', 'great!it', 'soft', 'tast', 'wonderful.', 'it', 'over', 'sweet', 'great', 'go', 'snack', 'entir', 'family.'], ['these', 'cooki', 'wonder', 'healthi', 'you.', 'my', 'kid', 'absolut', 'love', 'i', 'love', 'love', 'someth', 'good', 'them!'], ['the', 'cooki', 'soft', 'bear', 'sweet', 'unusu', 'store', 'bought', 'packag', 'cookies.', 'i', 'would', 'buy', 'again.'], ['i', 'tri', 'restrict', 'amount', 'sweet', 'famili', 'has,', 'especi', 'i', 'diet.', 'i', 'love', 'cooki', 'though!', 'they', 'come', 'individu', 'wrapped,', 'great', 'go', 'littl', 'ones.', 'this', 'also', 'make', 'easi', 'one', 'time.', 'they', 'super', 'yummi', 'i', \"can't\", 'wait', 'purchas', 'more!'], ['at', 'first', 'i', 'excit', 'tri', 'cooki', 'i', 'normal', 'eat', 'sweet', 'good!', 'i', 'got', 'oatmeal', 'one', 'i', 'love', 'it.', 'i', 'want', 'anoth', 'i', 'fished!'], ['i', 'absolutley', 'love', 'cookie.', 'it', 'great', 'tast', 'chewi', 'good.', 'it', 'yummi', 'tummy.'], ['i', 'cooki', 'love', 'it.', 'my', 'boyfriend', 'daughter', 'enjoy', 'well!', 'it', 'soft', 'chewi', 'would', 'great', 'go', 'snack', 'sinc', 'individu', 'packaged.', 'how', 'awesom', 'that!', 'and', '170', 'calori', 'per', 'cookie.', 'i', 'person', 'go', 'stock', 'like', 'crazi', \"i'm\", 'veggi', 'fruit', 'snack', 'i', 'would', 'buy', 'again.', 'quaker', 'alway', 'come', 'realli', 'great', 'products!', '=]'], ['my', '5', 'yr', 'old', 'son', 'love', 'cookies.', 'i', 'enjoy', 'well,', 'i', 'use', 'cooki', 'bit', 'sweeter.'], ['quaker', 'soft', 'bake', 'oatmeal', 'cookie....it', 'so', 'yummy!!!', 'ad', 'cup', 'milk,', 'chewi', 'isnt', 'sweet', 'sweet', 'all.'], ['m,', 'daughter,', 'mother,', 'friends,', 'loveeee', 'these....', 'better', 'bakery!!', 'perfect', 'homemade.....', 'cant', 'wait', 'get', 'big', 'box', 'them!'], ['i', 'cannot', 'rave', 'enough', 'cookies.', 'i', 'receiv', 'complementari', 'cooki', 'mom', 'vox', 'box', 'day', 'ago', 'within', 'week', 'bought', 'entir', 'box', 'share', 'family.', 'these', 'cooki', 'soft', ',', 'generous', 'size', 'delicious.', 'definit', 'good', 'buy.'], ['i', 'love', 'cookies.', 'they', 'soft', 'chewy,', 'i', 'love', 'individuali', 'wrap', 'i', 'worri', 'go', 'stale', 'i', 'open', 'box.', 'i', 'definit', 'would', 'reccomend', 'anyon', 'like', 'oatmeal', 'cooki', 'anyon', 'want', 'tri', 'someth', 'new.'], ['i', 'normal', 'like', 'oatmeal', 'cookies,', 'cooki', 'soft,', 'moist,', 'melt-in-your', 'mouth', 'delici', 'i', 'fell', 'love.', 'i', 'think', 'absolut', 'brilliant', 'quaker', 'oat', 'start', 'make', 'oatmeal', 'cookies!', 'they', 'expert', 'oatmeal!', 'i', \"can't\", 'wait', 'see', 'new', 'flavor', 'come', 'next.', 'so', 'far', \"i'v\", 'oatmeal', 'raisin', 'banana', 'good.', 'i', 'also', 'love', 'conveni', 'singl', 'serv', 'packaging,', 'great', 'daughter', 'school', 'lunches.'], ['these', 'cooki', 'tasti', 'soft!', 'i', 'receiv', 'complementari', 'cooki', 'mom', 'vox', 'box', 'definit', 'buy', 'more!'], ['excel', 'product,', 'filling,', 'teenag', 'eat', 'noth', 'pizza', 'love', 'them!!!!', 'veri', 'afor', 'easi', 'carri', 'you.'], ['i', 'usual', 'like', 'raisin', 'cookies,', 'i', 'got', 'tri', 'cooki', 'yummy!', 'it', 'fill', 'satisfying,', 'too.'], ['i', 'like', 'cooki', 'individu', 'packed.', 'they', 'realli', 'good.', 'i', 'realli', 'like', 'soft.', 'they', 'tast', 'fresh', 'bake', 'right', 'oven.', 'i', 'love', 'them!'], ['my', 'kid', 'love', 'cookie!!', 'it', 'soft', 'like', 'melt', 'ur', 'mouth!', 'i', 'would', 'def', 'buy', 'cooki', 'again!', 'u', 'need', 'milk', 'water', 'u', 'eat', 'tho', 'littl', 'bit', 'dri', 'eating.', ':-)'], ['although', 'homemad', 'close', 'go', 'get', 'packag', 'cookie!', 'they', 'realli', 'soft', 'full', 'flavor!', 'just', 'big', 'enough', 'satisfi', 'sweet', 'tooth', 'too.', 'my', 'kid', 'realli', 'enjoy', 'i', 'repurchase!'], ['when', 'i', 'first', 'open', 'package,', 'i', 'felt', 'like', 'littl', 'kid', 'again!', 'the', 'cooki', 'smell', 'like', 'creami', 'oatmeal', 'cooki', 'mom', 'use', 'make', 'i', 'little!', 'i', 'use', 'get', 'heartburn', 'littl', 'kid,', 'though,', 'drawback!', 'my', 'tummi', 'tender', 'crazi', 'oats!'], [\"i'm\", 'glad', 'i', 'got', 'tri', 'i', 'actual', 'purchas', 'it.', 'i', 'would', 'purchas', 'these.', 'the', 'initi', 'flavor', 'ok', 'left', 'kind', 'chemic', 'taste.', 'it', 'kind', 'remind', 'eat', 'cooki', 'textur', 'biscuit.', 'i', 'definit', 'need', 'someth', 'wash', 'down.'], ['the', 'quaker', 'oatmeal', 'cooki', 'absolut', 'delicious;', 'soft,', 'sweet,', 'perfect', 'everi', 'way!', 'i', 'definit', 'buy', 'often!', 'they', 'flavor', 'melt', 'mouth!'], ['i', 'type', 'person', 'would', 'rather', 'bake', 'someth', 'i', 'picki', 'tast', 'texture.', 'let', 'say', 'quaker', 'nail', 'cookie!', 'it', 'awesome!', 'somehow', 'stay', 'soft', 'moist,', 'tast', 'like', 'bake', 'morning.', 'thank', 'quick,', 'easi', 'healthi', 'snack', 'quaker!'], ['these', 'cooki', 'great!', 'they', 'soft', 'chewi', 'tast', 'delicious.', 'i', 'realli', 'love', 'homemad', 'cooki', 'right', 'oven,', 'tast', 'good!', 'quaker', 'sure', 'make', 'great', 'cookie!'], ['i', 'receiv', 'quaker', 'soft', 'bake', 'oatmeal', 'cooki', 'influenst', 'tri', 'end', 'realli', 'like', 'them.', 'i', 'share', 'origin', 'cooki', '3yo', 'daughter', 'husband', 'enjoy', 'also.', 'i', 'actual', 'end', 'buy', 'box', 'next', 'time', 'went', 'groceri', 'shopping.<br', '/>the', 'flavor', 'quit', 'nice', 'cooki', 'larg', 'soft.', 'i', 'impress', 'fact', 'moder', 'healthi', 'like', 'sweet.<br', '/>the', 'cooki', 'bit', 'expensive,', \"i'd\", 'prefer', 'make', 'control', 'ingredients,', 'good', 'shop', 'choice.', \"they'r\", 'great', 'short', 'trip', 'emerg', 'snack.', \"i'd\", 'definit', 'buy', 'them,', 'week', 'basis.'], ['delicious,', 'fresh-bak', 'cooki', 'without', 'hassl', 'troubl', 'make', 'them!', \"can't\", 'wait', 'tast', 'differ', 'flavors,', 'yum!'], ['cooki', 'great', 'nice', 'chewi', 'raisan', 'sweet', 'moist.', 'everyon', 'give', 'tri', 'love', 'them.', ':)'], ['quaker', 'soft', 'bake', 'cooki', 'is', 'nothn', 'but', 'awesom', 'goodness!', 'quaker', 'soft', 'bake', 'cooki', 'is', 'def', 'a', 'cooki', 'im', 'ok', 'with', 'allow', 'my', 'children', 'to', 'have', 'all', 'day', 'everi', 'day!', 'next', 'one', 'to', 'tri', '.....', 'banana', 'nut?', 'im', 'down', '!', 'u', 'down?', 'absolut', 'love', 'this', 'cooki', ',', 'not', 'onli', 'is', 'it', 'good', 'for', 'u', 'but', 'it', 'get', 'u', 'full', 'as', 'well....say', 'goodby', 'to', 'munch', 'out', 'on', 'countless', '\"unhealthy\"', 'cookies.', 'whi', 'put', 'that', 'other', 'stuff', 'in', 'your', 'system?', 'when', 'u', 'can', 'have', 'a', 'quaker', 'softbak', 'cookie!', 'need', 'i', 'say', 'yummerz?', 'i', 'think', 'so', '!', 'yummerz', '!', 'and', 'keep', 'ur', 'hand', 'off', 'my', 'quaker', 'soft', 'bake', 'cooki', 'people!', 'lol!'], ['i', 'receiv', 'one', 'influenst', 'love', 'cooki', 'soft', 'chewi', 'without', 'sweet.', 'i', 'wish', 'readili', 'available.'], ['i', 'receiv', 'quaker', 'oatmeal', 'raisin', 'cooki', 'momvoxbox', 'influenst', 'tell', 'cooki', 'soft', 'chewi', 'delici', 'dont', 'even', 'like', 'oatmeal', 'raisin', 'cooki', 'hesit', 'first', 'tri', 'it.', 'but', 'took', 'first', 'bite', 'love', 'instant', 'went', 'nearest', 'walmart', 'bought', 'box', 'quakeroatm', 'raisin', 'cookies.', 'this', 'product', 'worth', 'tri', 'also', 'tri', 'flavor', 'hey', 'even', 'warm', 'cooki', 'coupl', 'second', 'microwav', 'get', 'fresh', 'oven', 'warmth', 'go', 'like', 'said', 'tri', 'it.', 'this', 'cooki', 'delicious!!!!!!!!!!!!!!!'], ['i', 'recent', 'given', 'packag', 'quaker', 'soft', 'bake', 'oatmeal', 'cooki', 'mom', 'voxbox', 'influenster.', \"i'm\", 'alreadi', 'huge', 'fan', 'almost', 'quaker', 'products,', 'cooki', 'disappoint.', \"they'r\", 'super', 'soft,', 'dri', 'whatsoever!!!', 'the', 'oatmeal', 'cooki', 'part', 'great', 'flavor,', 'weird', 'aftertast', 'like', 'cooki', 'do.', 'the', 'raisin', 'decent,', 'nice', 'plump,', 'juicy,', 'dri', 'look,', 'enough', 'cookies,', 'mani', '(mean', 'kid', 'still', 'eat', 'them,', 'lol).', 'they', 'good', 'size', 'cookies,', 'individu', 'wrap', 'ensur', 'freshness,', 'delici', 'taste.', 'now', \"i'm\", 'crave', 'them!', 'overall,', 'great', 'cookie!', \"i'd\", 'definit', 'purchas', 'again.', \"can't\", 'wait', 'til', 'back', 'stock', 'amazon!'], ['quaker', 'soft', 'bake', 'oatmeal', 'raisin', 'cooki', 'tast', 'closest', 'homebak', 'cooki', 'other', 'i', 'tried.', 'my', 'kid', 'love', 'them,', 'too.', 'they', 'moist', 'flavorful.', 'we', 'like', 'snack,', 'even', 'breakfast', 'go!'], ['veri', 'tasty!', 'i', 'receiv', 'sampl', 'cooki', 'influenster!', 'this', 'cooki', 'amaz', 'guilt', 'free', 'treat!', 'moist', 'full', 'flavor.', 'i', 'oatmeal', 'raisin,', 'flavors.', 'definit', 'worth', 'buying.', 'much', 'healthier', 'cookies!'], ['this', 'great', 'cookie.', 'i', 'happi', 'soft', 'was.', 'be', 'individu', 'wrap', 'made', 'easi', 'diaper', 'bag', 'purse.', 'my', '18', 'month', 'old', 'son', 'love', 'cookie.', 'would', 'love', 'hous', 'times.', 'such', 'healthier', 'way', 'enjoy', 'cookies.'], ['love', 'cooki', 'famili', 'bought', 'week', 'went', 'store', 'plan', 'keep', 'time', 'great', 'snack'], ['let', 'honest:', 'dessert', 'compet', 'fresh', 'baked,', 'chewi', 'oatmeal', 'cookie.', 'even', 'better', 'oatmeal', 'raisin!', 'as', 'such,', 'i', 'somewhat', 'skeptic', 'quaker', 'soft', 'bake', 'oatmeal', 'raisin', 'cookies,', \"i'm\", 'general', 'let', 'store-bought', 'cookies.', 'well,', \"i'm\", 'tell', 'you,', 'i', 'becom', 'believer.', 'i', 'seen', 'light!', 'here', 'breakdown', 'i', 'think', 'overall:<br', '/><br', '/>texture:<br', '/>the', 'packag', 'say', '\"soft-baked,\"', 'brother,', 'lie.', 'these', 'cooki', 'soft,', 'moist', 'chewy,', 'thus', 'negat', 'need', 'milk', 'dunk.', 'though,', 'ice', 'cold', 'milk', 'requisit', 'cookies,', 'regardless.<br', '/><br', '/>serv', 'size:<br', '/>at', '42g,', 'cooki', 'pretti', 'well-siz', 'definit', 'satisfi', 'even', 'hardiest', 'sugar', 'seekers.', 'it', 'would', 'take', '3', 'oreo', 'match', 'size', 'one', 'oatmeal', 'raisin.', 'no', 'contest.<br', '/><br', '/>taste:<br', '/>dynamite.', 'sweet', 'cinnamon', 'raisin', 'definit', 'prevail', 'recipe,', 'give', 'oatmeal', 'authentic,', 'homemad', 'flavor.<br', '/><br', '/>nutrit', 'profile:<br', '/>now,', 'quaker', 'lose', 'point', 'me.', 'though', 'certain', 'unhealthiest', 'cooki', '(in', 'fact,', 'probabl', 'healthier', 'end', 'spectrum),', 'select', 'ingredi', 'could', 'avoided,', 'corn', 'syrup.', 'but,', 'cooki', 'contain', '4g', 'fiber,', 'well', 'sever', 'gram', 'healthi', 'fats,', '2g', 'protein!', 'for', 'curious,', 'here', 'complet', 'nutrient', 'breakdown:<br', '/><br', '/>serv', 'size:', '1', 'cooki', '(42g)<br', '/>calories:', '140<br', '/>total', 'fat:', '6g', '(9%)<br', '/>satur', 'fat:', '1.5g', '(8%)<br', '/>polyunsatur', 'fat:', '1g<br', '/>monounsatur', 'fat:', '3.5g<br', '/>cholesterol:', '15mg', '(5%)<br', '/>sodium:', '150mg', '(6%)<br', '/>total', 'carbohydrate:', '27g', '(9%)<br', '/>dietari', 'fiber:', '4g', '(16%)<br', '/>sugars:', '12g<br', '/>other', 'carbohydrate:', '11g<br', '/>protein:', '2g<br', '/><br', '/>ingredients:', 'whole', 'grain', 'oat', 'flour,', 'enrich', 'flour', '(bleach', 'unbleach', 'wheat', 'flour,', 'niacin,', 'reduc', 'iron,', 'thiamin', 'mononitrate,', 'riboflavin,', 'folic', 'acid),', 'raisins,', 'whole', 'grain', 'roll', 'oats,', 'sugar,', 'whole', 'wheat', 'flour,', 'palm', 'high', 'oleic', 'canola', 'oil', '(with', 'tbhq', '[preservative]),', 'fructose,', 'invert', 'sugar', 'syrup,', 'mid-ol', 'sunflow', 'oil,', 'raisin', 'paste,', 'inulin,', 'granola', '(whole', 'grain', 'roll', 'oats,', 'sugar,', 'partial', 'hydrogen', 'soybean', 'oil*,', 'honey,', 'brown', 'sugar', 'molasses),', 'dri', 'eggs,', 'modifi', 'corn', 'starch,', 'corn', 'syrup,', 'polydextrose,', 'leaven', 'agent', '(sodium', 'bicarbonate,', 'ammonium', 'bicarbonate),', 'oat', 'fiber,', 'propylen', 'glycol', 'mono-', 'diester', 'fat', 'fatti', 'acids,', 'mono-', 'diglycerides,', 'soy', 'lecithin,', 'bht', '[to', 'preserv', 'freshness],', 'citric', 'acid', '[to', 'preserv', 'freshness],', 'wheat', 'gluten,', 'molasses,', 'calcium', 'phosphate,', 'salt,', 'natur', 'flavor,', 'cinnamon,', 'allspice,', 'corn', 'starch,', 'enzymes.', '*add', 'dietarili', 'insignific', 'amount', 'tran', 'fat<br', '/><br', '/>packaging:<br', '/>stellar!', 'each', 'cooki', 'individu', 'wrap', 'easi', 'travel', 'consumption,', 'parent', 'toss', 'one', 'kid', 'lunch', 'box,', 'tote', 'one', 'offic', 'easi', 'snack/dessert.<br', '/><br', '/>cost:<br', '/>from', 'i', 'tell,', 'quaker', 'cooki', 'par', 'cours', 'term', 'cost,', 'neither', 'high', 'low', 'end,', 'make', 'pretti', 'econom', 'choice.', 'base', 'amazon', 'price', 'i', 'write', 'this,', 'cost', 'slight', 'less', '$1.00', 'per', 'cookie.', 'not', 'bad!<br', '/><br', '/>overall:<br', '/>if', 'look', 'indulg', 'someth', 'sweet,', 'somewhat', 'healthy,', 'remind', 'homemad', 'treat,', \"can't\", 'much', 'better', 'quaker', 'soft', 'bake', 'oatmeal', 'raisin', 'cookies.', 'the', 'challeng', 'tri', 'resist', 'second', 'helping,', 'especi', 'still', 'ice', 'cold', 'milk', 'remain', 'glass.'], ['my', 'box', 'expir', 'date', 'septemb', '13,', '2012,', 'littl', 'bit', 'less', '2', 'month', '(which', 'okay,', 'cooki', 'get', 'eaten', 'fast!).', 'the', 'cookies,', 'made', 'whole', 'grain', 'quaker', 'oats,', 'definit', 'soft', 'baked,', 'tast', 'delici', 'oatmeal', 'everi', 'bite!', 'my', 'critic', 'cooki', 'even', 'though', 'raisins,', 'i', 'tast', 'them!', 'it', 'practic', 'oatmeal', 'taste.<br', '/><br', '/>each', 'cooki', 'size', 'bit', 'larger', 'palm', 'adult', 'hand.', 'i', 'love', 'individu', 'wrap', 'mean', 'i', 'take', 'go', 'me!', 'each', 'cooki', '170', 'calories,', '1.5', 'gram', 'fat,', '150mg', 'sodium,', '12gram', 'sugar.', 'i', 'recommend', 'cooki', 'ward', 'hunger', 'diet', 'calori', 'per', 'cooki', 'pretti', 'high.', 'this', 'good', 'treat', 'children', 'lunch', 'though', 'car', 'ever', 'go', 'hungry.<br', '/><br', '/>also,', 'i', 'drop', 'one', 'cooki', '(still', 'wrapper)', 'floor', 'crumble,', 'i', 'happi', 'with.'], ['this', 'must', 'sweet', 'tooth', 'cravings.', 'my', 'youngest', 'child', '6', 'much', 'sweet', 'eater.', 'however,', 'found', 'sampl', 'i', 'receiv', 'influenst', 'love', 'it!', 'i', 'say,', 'i', 'tad', 'disappoint', 'save', 'assur', '\"yummy\"', 'will', 'definit', 'keep', 'stock.'], ['these', 'cooki', 'great!', 'they', 'soft', 'great', 'flavor.', 'perfect', 'take', 'go', 'kids.'], ['i', 'receiv', 'quaker', 'soft', 'bake', 'oatmeal', 'cooki', 'influenst', 'mom', 'vox', 'box.', 'let', 'say', 'yummi', 'delicious!', 'after', 'share', 'kiddo', 'i', 'left', 'want', 'more.', 'i', 'definit', 'keep', 'cooki', 'hand...th', 'whole', 'famili', 'love', 'them!'], ['my', 'kid', 'i', 'absolut', 'love', 'cookies,', 'alreadi', '2nd', 'box!!', 'i', 'excit', 'tri', 'differ', 'flavors,', 'good', 'cooki', 'tasty!!', 'yum'], ['my', 'daughter', 'i', 'absolut', 'love', 'these', 'oatmeal', 'cookies.', 'has', 'right', 'amount', 'sweetness.', 'veri', 'soft', 'crunchi', 'like', 'cookies.', 'tast', 'like', 'grandma', 'would', 'bake', 'home.'], ['i', 'receiv', 'quaker', 'oatmeal', 'raisin', 'cooki', 'part', 'mom', 'voxbox', 'influenster.com.', 'it', 'first', 'thing', 'i', 'took', 'box', 'i', 'hungry.', 'i', 'honest', 'expect', 'like', 'it.', 'when', 'i', 'first', 'open', 'bag', 'smell', 'fresh.', 'i', 'took', 'bite', 'instant', 'love', 'it.', 'i', 'love', 'fresh,', 'soft', 'chewi', 'cooki', 'was.', 'i', 'went', 'bought', 'husband', 'also', 'some,', 'also', 'love', 'them.', 'they', 'great', 'go', 'snack.'], ['good', 'oatmeal', 'cookies.<br', '/><br', '/>you', 'pretend', 'eat', 'someth', 'healthy.', 'when', 'marathoner,', 'vegan,', '4%', 'body-fat', 'co-work', 'says,', '\"cookies?\"', 'smug,', 'disdain', 'fashion,', 'reply,', '\"no,', 'oatmeal\".', 'then', 'cram', 'anoth', 'seven', 'mouth,', 'caus', '*really*', 'good', 'cookies.<br', '/><br', '/>e.m.', 'van', 'court'], ['i', 'love', 'oatmeal', 'cookies!so', 'i', 'decid', 'tri', 'out.wel', \"i'm\", 'realli', 'big', 'fan', 'cookies.', 'their', 'good,', 'tasty,', 'easi', 'eat', 'busi', 'morn', 'need', 'quick', 'snack.', 'you', 'even', 'heat', 'bit', 'microwav', 'cold,', 'great', 'either', 'way.', 'but', 'one', 'complaint', 'i', 'raisins,', 'i', 'know', 'tast', 'great', 'kept', 'get', 'stuck', 'everywher', 'mouth.glad', 'i', 'tri', 'though!!'], ['these', 'quaker', 'soft', 'bake', 'oatmeal', 'cooki', 'delicious!', 'they', 'super', 'soft', 'tast', 'absolut', 'wonderful.', 'they', 'made', 'whole', 'grain', 'alway', 'plus', 'natur', 'flavored.', 'my', 'daughter', 'love', 'too.', 'we', 'probabl', 'get', 'next', 'time', 'go', 'groceri', 'shopping!'], ['quick', 'take:<br', '/>it', 'c+<br', '/><br', '/>usag', 'tips:<br', '/>good', 'kid', 'come', 'pre-packaged.', 'kid', 'like', 'it.<br', '/><br', '/>the', 'verdict:<br', \"/>didn't\", 'quit', 'tast', 'home', 'made.', 'much', 'molasses?', 'mani', 'carbs.<br', '/><br', '/>love', 'commerci', 'woman', 'bite', 'neighbor', 'cookie.'], ['i', 'got', 'sampl', 'oat', 'meal', 'raisin', 'influenster.', 'my', 'kid', 'realli', 'love', 'tast', 'sinc', 'bought', 'more.', 'i', 'think', 'great', 'better', 'candi', 'someth', 'els', 'less', 'healthy.'], ['i', 'love', 'cooki', ',', 'oatmeal', 'raisin', 'chocol', 'chip', 'one', 'cant', 'wait', 'tri', 'mmmmmmmmm', 'good', '!!'], ['these', 'cooki', 'okay.', 'my', '2', '&', '6', 'year', 'old', 'sister', 'love', 'i', 'think', \"i'd\", 'buy', 'myself.'], ['def', 'love', 'cookies!', 'i', 'let', 'kid', 'eat', 'it.', 'i', 'feel', 'guilti', 'afterwards!', 'pop', 'microwav', 'second', 'make', 'extra', 'soft', ':)'], ['i', 'receiv', 'one', 'voxbox', 'try,', 'make', 'house!', 'it', 'delicious!', 'veri', 'soft', 'chewy,', 'flavorful,', 'full', 'raisins!', 'absolut', 'love', 'it!', 'i', \"can't\", 'wait', 'go', 'shop', 'i', 'get', 'whole', 'box', 'these!'], ['these', 'cooki', 'delicious!', 'i', 'love', 'individu', 'pack', 'i', 'could', 'throw', 'coupl', 'diaper', 'bag', 'without', 'fuss', 'pre', 'pack', 'snack', 'sandwich', 'bags.', 'the', 'cooki', 'stay', 'moist', 'yummi', 'snack', 'time.', 'my', 'kid', 'love', 'i.'], ['cooki', 'super', 'yummy!', 'i', 'love', 'quick,', 'tasti', 'healthier', 'go', 'breakfast', 'option.mi', 'whole', 'famili', 'love', 'them!'], ['i', 'tri', 'quaker', 'soft', 'bake', 'oatmeal', 'cooki', 'sampl', 'influenster.', 'they', 'soft', 'tast', 'like', 'homemade.', 'it', 'exact', 'i', 'expect', 'quaker!'], ['three', 'year', 'ago', 'i', 'diagnos', 'gestat', 'diabetes.', 'it', 'sucked.', 'there', 'noth', 'like', 'bring', 'middl', 'raven', 'pregnanc', 'told', 'watch', 'eat.', 'but', 'get', 'start', 'pay', 'better', 'attent', 'i', 'could', 'still', 'enjoy', 'food', 'i', 'love', 'make', 'healthier', 'choices.', 'one', 'thing', 'i', 'learn', 'balanc', 'fiber', 'intake.', 'ever', 'sinc', \"i'v\", 'made', 'point', 'alway', 'go', 'whole', 'grain', 'choic', 'avail', 'quaker', 'product', 'tend', 'make', 'best', 'combin', 'delici', 'heart-healthi', 'oats.<br', '/><br', '/>i', 'recent', 'receiv', 'sampl', 'soft', 'bake', 'oatmeal', 'cooki', 'influenst', 'surpris', 'good.', 'mayb', 'quit', 'good', 'one', 'mom', 'made', 'i', 'kid', 'still', 'tasti', 'treat', 'reminisc', 'childhood', 'classic.', 'pack', 'raisin', 'big', 'enough', 'need', 'one', 'satisfi', 'snack', 'dessert', 'option.', 'sinc', 'tradit', 'oatmeal', 'cooki', 'favorit', \"i'm\", 'go', 'tri', 'one', 'flavor', 'like', '<a', 'href=\"http://www.amazon.com/gp/product/b007jfmh96\">quak', 'soft', 'bake', 'oatmeal', 'cookie,', 'chocol', 'almond,', '8.8-ounc', '(pack', '6)</a>', '<a', 'href=\"http://www.amazon.com/gp/product/b007jfmhbe\">quak', 'soft', 'bake', 'oatmeal', 'cookie,', 'cranberri', 'yogurt,', '8.8-ounc', '(pack', '6)</a>.', 'with', 'varieti', 'flavor', 'there', 'sure', 'one', 'soft', 'bake', 'style', 'cooki', 'lovers.'], ['i', 'receiv', 'soft', 'bake', 'oatmeal', 'cooki', 'voxbox', 'excit', 'tri', 'it.', 'i', 'alway', 'skeptic', 'cooki', 'advertis', '\"soft\".', 'this', 'one', 'truli', 'is.', 'i', 'tri', 'save', 'husband', 'sit', 'long.', 'i', 'wish', 'oatmeal', 'cooki', 'turn', 'like', 'this!'], ['i', 'absolut', 'love', 'cookies!', 'they', 'tast', 'like', 'homemad', 'oatmeal', 'raisin', 'cooki', 'grandma', 'would', 'make!', 'they', 'good', 'size', 'cooki', 'too,', 'teeni', 'tini', 'one', 'like', 'compani', 'make!'], ['quaker', 'soft', 'bake', 'oatmeal', 'cooki', 'good!', 'they', 'tast', 'like', 'homemad', 'cookie!', 'if', 'want', 'right', 'oven', 'tast', 'tri', 'heat', 'cooki', 'ten', 'seconds.', 'it', 'warm', 'soft!'], ['i', 'receiv', 'free', 'quaker', 'soft', 'bake', 'oatmeal', 'raisin', 'cooki', 'influenst', 'instant', 'hit', 'me.', 'i', 'love', 'cooki', '(but', 'cours', 'i', 'share', 'littl', 'piec', 'husband).', 'i', 'could', 'put', 'cooki', 'down,', 'good', 'i', 'went', 'bought', 'box', 'almond', 'chocol', 'chips.', \"can't\", 'wait', 'go', 'buy', 'more.'], ['i', 'saw', 'first', 'came', 'i', 'decid', 'buy', 'box.', 'unfortun', 'i', 'realiz', 'also', 'make', 'crunchi', 'version', 'i', 'grab', 'box', 'accident.', 'while', 'good,', \"i'm\", 'big', 'fan', 'chewi', 'cookies.', 'i', 'love', 'oatmeal,', 'portable.', 'these', 'great', 'cooki', 'snack', 'morn', 'afternoon.'], ['from', 'bbwife31:', 'i', 'receiv', 'free', 'quaker', 'soft', 'bake', 'oatmeal', 'raisin', 'cooki', 'influenst', 'instant', 'hit', 'house.', 'my', 'son', 'devour', 'almost', 'whole', 'thing', '2', 'minutes.', 'the', 'bite', 'i', 'got', 'eat', 'super', 'delici', 'i', 'even', 'oatmeal', 'raisin', 'kind', 'gal.', 'it', 'moist', 'flavorful.', 'will', 'buy', 'future!!'], ['my', 'son', 'realli', 'enjoy', 'cookie.', 'he', 'big', 'raisin', 'fan,', 'soft', 'oatmeal', 'liked.', 'i', 'think', 'good', 'amount', 'raisin', 'averag', 'cookie.', 'i', 'love', 'singl', 'packaging,', 'make', 'easi', 'take', 'snack', 'go.'], ['a', 'delici', 'littl', 'snack,', 'also', 'substitut', 'breakfast', 'hurry!', 'the', 'kid', 'thrill', 'mom', 'love', 'snack', 'that', 'safe', 'pantry?!?!'], ['these', 'cooki', 'soft', 'delicious.', 'i', 'picki', 'oatmeal', 'raisin', 'quaker', 'delivered!', 'no', 'tran', 'fat', 'big', 'plus!'], ['got', 'one', 'yummest', 'cooki', 'ever', 'had!!!!<br', '/>they', 'soft', 'sweet...mi', 'kid', 'ate', 'except', 'one', 'had...'], ['i', 'reciev', 'gift', 'box', 'i', 'exxit', 'tri', 'them.', 'they', 'soft', 'chewi', 'great', 'w', 'mik!'], ['this', 'cooki', 'definit', 'delicious!', 'i', 'love', 'homemad', 'tast', 'chewi', 'good', 'everi', 'bite!', 'i', 'receiv', 'cooki', 'influenst', 'mom', 'voxbox', 'i', 'got', 'one', 'i', 'definit', 'purchas', 'oatmeal', \"one's...they\", 'absolut', 'fav!'], ['my', 'husband', 'saw', 'quaker', 'oatmeal', 'soft', 'bake', 'cooki', 'ate', 'it!', 'he', 'said', 'delicious...soft', 'flavorful.', 'grrrrr...now', 'i', 'buy', 'more.', 'i', 'want', 'one!'], ['i', 'pretti', 'picki', 'come', 'cooki', 'i', 'like', 'homemad', 'cookies.', 'i', 'tri', 'quaker', 'oatmeal', 'raisin', 'cooki', 'i', 'realli', 'like', 'it.', 'it', 'tast', 'homemad', 'soft', 'chewy.', 'it', 'big', 'hit', '18', 'month', 'old', 'too!'], ['i', 'tri', 'cooki', 'love', 'it!!', 'i', 'four', 'year', 'old', 'obsess', 'anyth', 'sweet(but', 'hey', 'isnt?)', 'absolut', 'love', 'cooki', 'well.', 'we', 'definit', 'purchas', 'again...thank', 'influenster.com', 'send', 'us', 'sampl', 'tri', 'out!!'], ['i', 'love', 'flavor', 'quaker', 'soft', 'bake', 'cookies.', 'they', 'soft', 'chewy.', 'and', 'grandchildren', 'love', 'alway', 'keep', 'box', 'house.', 'i', 'sure', 'keep', 'buy', 'cookies.'], ['i', 'love', 'oatmeal', 'cooki', 'package.', 'i', 'pleasant', 'surpris', 'delici', 'actual', 'tast', 'home', 'baked!', 'good', 'job', 'quaker!'], ['this', 'cooki', 'absolut', 'delicious.', 'i', 'receiv', 'free', 'influenst', 'mom', 'voxbox.', 'i', '1', 'bite', 'sinc', 'i', 'share', 'boy', 'one', 'bite', 'good', 'enough', 'tell', 'delicious.', 'it', 'soft,', 'chewy,', 'satisfying.', 'my', 'kid', 'love', 'want', 'more.', 'we', 'even', 'went', 'bought', 'went', 'groceri', 'shopping.'], ['i', 'love', 'chewy', 'cookie.', 'i', 'initi', 'worri', 'would', 'cloy', 'sweet', 'oatmeal', 'gave', 'love', 'textur', 'without', 'ad', 'much', 'unnecessari', 'sugar.', 'will', 'definit', 'purchas', 'product.', 'thank', 'influenst', 'i', 'got', 'tri', 'product', 'free!'], ['veri', 'soft', 'chewy,', 'yummy!', 'heat', 'microwav', 'second', 'tast', 'even', 'better!', 'definit', 'worth', 'tri', 'hard', ',not', 'chewi', 'sweet', 'right.', 'kid', 'love', '2', ':)'], ['the', 'cooki', 'minus', 'raisins,', 'i', 'care', 'for,', 'great.', 'it', 'rather', 'tasti', 'high', 'nutrit', 'value.', 'i', 'interest', 'tri', 'flavors.'], ['i', 'got', 'free', 'cookie,', 'influenster.com', 'week', 'ago,', 'make', 'much', 'longer', '5', 'minutes.<br', '/><br', '/>i', 'open', 'box,', 'i', 'got', 'stuff', 'out,', 'i', 'went', 'get', 'camera', 'i', 'could', 'make', '\"unpacking\"', 'video,', 'i', 'got', 'back,', 'cooki', 'gone,', 'realli', 'guilti', 'look', '5', 'yr', 'old', 'sit', 'besid', 'empti', 'wrapper.<br', '/><br', '/>so', 'i', 'never', 'got', 'tri', 'it.', ':(', 'but', 'judg', 'satisfi', 'look', 'daughter', 'face,', 'love', 'it!'], ['these', 'cooki', 'great', 'morn', 'rush', 'time', 'make', 'breakfast', 'tasty!', 'they', 'even', 'better', 'warm', 'up.', 'these', 'also', 'great', 'keep', 'around', 'kid', 'snack', 'time', 'put', 'lunch', 'box', 'school.'], ['veri', 'soft', 'chewy,', 'yummy!', 'heat', 'microwav', 'second', 'tast', 'even', 'better!', 'definit', 'worth', 'tri', 'buyin!'], ['delicious.', 'soft,', '\"almost\"', 'fall', 'apart', 'soft.', 'great', 'cinnamon', 'flavor.', 'i', 'allow', 'eat', 'half', 'time', 'i', 'could', 'savor', 'it.'], ['these', 'cooki', 'delicious!', 'my', 'kid', 'absolut', 'love', 'them.', 'i', 'love', 'individu', 'packed,', 'make', 'easi', 'grab', 'go', 'snack', '!', 'great', 'product.'], ['mmm!', 'i', 'think', 'sum', 'up.', 'i', 'love', 'soft', 'are.', 'i', 'stop', 'eat', \"i'm\", 'asham', 'say', 'i', 'want', 'buy', 'more.', 'bye-bye,', 'diet.', ':('], ['cooki', 'tast', 'soo', 'good', 'im', 'realli', 'fan', 'raisin', 'tast', 'cooki', 'like', 'anoth', 'thing', 'realli', 'recommend', 'good', 'delici'], ['i', 'receiv', 'quaker', 'soft', 'bake', 'oatmeal', 'cooki', 'test', 'influenst', 'via', 'mom', 'voxbox.', 'my', '3', 'year', 'old', 'son', 'love', 'cooki', '-', 'cooki', 'pretti', 'large,', 'soft', 'full', 'raisins.', 'if', 'buy', 'packag', '6,', 'individu', 'wrap', 'great', 'travel.', 'it', 'great', 'made', 'whole', 'grain', 'quaker', 'oat', '-', 'nice', 'help', 'raisins.', 'they', 'still', 'cooki', 'though', '12', 'gram', 'sugar', 'per', 'cookie.', 'i', 'buy', 'box', 'son', 'occasion', 'treat.'], ['i', 'reciev', 'one', 'tri', 'influenst', 'mom', 'vox', 'box.', 'i', 'huge', 'raisin', 'fan', 'i', 'realli', 'enjoy', 'cookie.', 'so', 'i', 'happi', 'see', 'cooki', 'mani', 'raisin', 'enough', 'get', 'everi', 'bite', 'still', 'abl', 'tast', 'cookie.', 'most', 'oatmeal', 'cooki', 'leav', 'thick,dri', 'feel', 'mouth', 'noth', 'like', 'one,', 'perhap', 'soft', 'chewy.', 'they', 'list', 'buy', 'again.', 'the', 'cooki', 'super', 'soft,', 'great', '1', 'year', 'old', 'eat.', 'it', 'also', 'big', 'enough', 'i', 'could', 'split', 'kids.', 'i', 'would', 'suggest', 'anyon', 'look', 'delici', 'cookie.'], ['these', 'surpris', 'tasty.', 'my', 'kid', 'love', 'great', 'go', 'snack.', 'they', 'offer', 'quick', 'pick', 'messi', 'car', 'go.'], ['i', 'got', 'free', 'bar', 'voxbox', 'influenst', 'wow!!', 'soo', 'yummy!!', 'it', 'melt', 'mouth', 'even', '2', 'year', 'old', 'love', 'it!'], ['was', 'fortun', 'enough', 'receiv', 'mommi', 'voxbox', ':)', \"i'v\", 'tri', 'delici', 'cooki', 'before,', 'first', 'time', 'i', 'share', 'one', 'son.', 'needless', 'say,', 'love', 'it.', 'i', 'believ', 'good', 'somewhat', 'melt', 'mouth', '&', 'realli', 'easi', 'chew', '(he', '2)', '..', 'i', 'definit', 'repurchas', 'us!!'], ['i', 'abl', 'tri', 'yummi', 'cooki', 'came', 'momvox', 'say', 'like', 'raisin', 'took', 'first', 'bite', 'amaz', 'good', 'tast', 'would', 'defiant', 'buy', 'these', 'well', 'famili'], ['i', 'got', 'cooki', 'part', 'mom', 'box', 'voxbox.', \"i'm\", 'keen', 'oatmeal', 'cookies,', 'one', 'surpris', 'good.', 'i', 'guess', \"i'm\", 'use', 'hard', 'i', 'realli', 'like', 'soft', 'chewi', 'cookie.', 'now', 'chocol', 'chip', 'one', 'would', 'fab!'], ['these', 'amazing,', 'soft,', 'fresh!', 'they', 'tast', 'great', 'i', 'bought', 'i', 'got', 'free', 'sampl', 'mom', 'vox', 'box', 'influenster~~~', 'yummy.'], ['great', 'brand', 'provid', 'great', 'cookie.', 'they', 'soft', 'lot', 'flavor,', 'definit', 'worth', 'money.', 'i', 'receiv', 'sampl', 'influenst', 'fan', 'raisins,', 'i', 'agre', 'tri', 'review', 'i', 'gave', 'whirl.', 'i', 'pleasant', 'surpris', 'much', 'i', 'enjoy', 'this.', 'i', \"can't\", 'wait', 'tri', 'kinds!<br', '/><br', '/>[...]'], ['i', 'love', 'love', 'love', 'yummi', 'snacks.', 'great', 'go', 'morning.', 'kid', 'love', 'too!'], ['this', 'cooki', 'good.', 'it', 'tast', 'great.', 'i', 'ate', 'faster', 'i', 'could', 'get', 'box.', 'i', 'defin', 'buy', 'soon!'], ['these', 'amazing,', 'soft,', 'fresh!', 'they', 'tast', 'great', 'i', 'bought', 'i', 'got', 'free', 'sampl', 'mom', 'vox', 'box', 'influenster~~~', 'yummy.'], ['this', 'cooki', 'amaz', 'good.', 'i', 'got', 'free', 'sampl', 'mom', 'vox', 'box', 'influenst', 'glad', 'i', 'got', 'tri', 'out.', \"i'm\", 'usual', 'fan', 'oatmeal', 'cooki', 'soft', 'moist', 'want', 'more.', 'not', 'good', 'good', 'you,', 'low', 'fat', 'high', 'fiber', 'make', 'good', 'afternoon', 'snack', 'even', 'dessert.', 'i', \"can't\", 'wait', 'go', 'buy', 'store!'], ['i', \"can't\", 'wait', 'pick', 'these!', 'i', 'love', 'soft,', 'chewi', 'cooki', 'definit', 'hit', 'spot.'], ['i', 'love', 'product,', 'delici', 'daughter', 'enjoy', 'well,', 'cant', 'wait', 'get', 'hand', '!'], ['quaker', 'trust', 'brand', 'alway', 'great', 'product', 'different.', 'the', 'cooki', 'soft', ',', 'chewi', 'fresh.', 'i', 'love', 'cooki', 'individu', 'wrap', 'easi', 'snack', 'lunches.', 'it', 'treat', 'i', 'feel', 'good', 'give', 'family.', 'will', 'buy', 'future!'], ['i', 'receiv', 'cooki', 'mom', 'voxbox.', 'this', 'cooki', 'soft', 'delicious!', 'my', 'kid', 'usual', 'eat', 'cooki', 'chocol', 'chip', 'm&m', 'them,', 'surpris', 'enough,', 'snatch', 'hand', 'gobbl', 'up!', 'i', 'love', '170', 'calori', 'per', 'cookie,', '4', 'gram', 'fiber,', '8%', 'iron,', 'make', 'good', 'snack.', 'i', 'wish', 'less', 'sugar.'], ['i', 'tri', 'best', 'cooki', 'ever', 'quakers!', 'i', 'never', 'tast', 'soft,', 'fresh', 'cooki', 'like', 'quaker', 'soft', 'bake', 'oatmeal', 'cookies.', 'i', 'one', 'lucki', 'one', 'receiv', 'influenst', 'mom', 'voxbox', '2012', '(complimentari', 'test', 'review', 'purpos', 'influenster).', 'the', 'voxbox', 'come', 'sever', 'item', 'one', 'item', 'quaker', 'soft', 'bake', 'oatmeal', 'cookie.', 'it', 'tast', 'like', 'homemad', 'oatmeal', 'raisin', 'cookie.', 'the', 'raisins,', 'oat', 'could', 'even', 'tast', 'cinnamon', 'that', 'cookie.', 'it', 'delicious,', 'even', 'kid', 'love', 'it!', 'i', '4', 'kids:', '2', 'year', 'old,', '3', 'year', 'old,', '6', 'year', 'old', '11', 'year', 'old', 'enjoy', 'piec', 'cookie.', 'the', 'littl', 'one', 'even', 'start', 'cri', 'done.', 'so', 'definit', 'mean', 'i', 'go', 'buy', 'more.'], ['this', 'go', 'fastest', 'review', 'ever', 'read', 'great', 'cookie.<br', '/><br', '/>thoughts:', 'this', 'realli', 'ez', 'fast', 'way', 'kid', 'snack', 'go,', 'great', 'way', 'get', 'fiber,', 'you.<br', '/><br', '/>', 'the', 'run', 'down:', 'if', 'fan', 'oatmeal', 'cooki', 'love', 'these.', 'they', 'soft', 'chewi', 'like', 'name', 'says.<br', '/><br', '/>the', 'final', 'say:', 'i', 'bought', 'famili', 'littl', 'one', 'love', 'them.', 'we', 'talk', 'everi', 'where.', 'they', '3$', 'box', '6.', 'all', 'give', '5', '(*****).', 'ill', 'keep', 'buy', 'family.', 'so', 'go', 'get', 'yourself!!'], ['these', 'cooki', 'moist', 'like', 'homemad', 'cookies!!!', 'by', 'far', 'best', 'store', 'bought', 'cooki', 'must', 'mom', 'pantry!!'], ['i', 'receiv', 'oatmeal', 'raisin', 'cooki', 'momvoxbox', 'influenst', 'pleasant', 'surpris', 'chewi', 'tasti', 'cooki', 'consid', 'oatmeal', 'raisin', 'cooki', 'usual', 'hard.', \"i'm\", 'big', 'fan', 'oatmeal', 'raisin', 'cooki', 'littl', 'brother', 'love', 'like', 'purchas', 'chocol', 'chip', 'cooki', 'healthier', 'altern', 'think', ':)'], ['i', 'love', 'oatmeal', 'cookies,', 'sometim', 'tend', 'hard', 'dry!', 'not', 'these!!', 'these', 'soft', 'great', 'give', 'toddler', 'want', 'someth', 'sweet.', 'i', 'like', 'give', 'snack', 'much', 'sugar', 'perfect.'], ['this', 'i', 'expecting,', 'better!', 'the', 'cooki', 'moist', 'delicious!', 'im', 'huge', 'fan', 'raisins,', 'honest', 'could', 'even', 'tell', 'cooki', 'raisins,', 'couldnt', 'even', 'tast', 'them.', 'absolutley', 'worth', 'buy,', 'purchas', 'future!!'], ['i', 'tri', 'product', 'mom', 'vox', 'box', 'delici', 'soft.', 'my', 'pinch', 'children', 'piec', 'love', 'too!', 'we', 'buy', 'often.'], ['these', 'cooki', 'quaker', 'baked,', 'mom', 'kid', 'approved.', 'they', 'soft,', 'chewy,', 'delicious.', 'the', 'textur', 'tast', 'make', 'seem', 'homemad', 'without', 'hassl', 'baking.'], ['great', 'tast', 'healthi', 'could', 'ask', 'for.', 'most', 'cooki', 'type', 'dri', 'make', 'think', 'eat', 'paper', 'quaker', 'soft', 'moist!'], ['these', 'good', 'soft', 'chewy!', 'the', 'tast', 'delicious.', 'i', 'tri', 'oatmeal', 'raisin', 'cooki', 'delicious.', 'definit', 'recommend!'], ['this', 'cooki', 'actual', 'realli', 'yummy.', \"i'm\", 'usual', 'type', 'person', 'like', 'raisin', 'cookies,', 'realli', 'good', 'moist.', 'i', 'definit', 'buy', 'future.', ':)'], ['i', 'got', 'sampl', 'free.', 'these', 'soft', 'delicious.', 'i', 'actual', 'left', 'partial', 'eaten', 'counter', 'overnight', 'still', 'soft', 'next', 'day', 'i', 'finish', 'it.', 'which', 'good', 'kid', 'half', 'finish', 'start', 'eating.', 'i', 'thought', 'great', 'tast', 'oatmeal', 'cooki', '-', 'better', 'without', 'raisins.', \"i'm\", 'big', 'i', 'abl', 'pick', 'out.', 'they', 'need', 'oatmeal', 'ingredi', '-', 'like', 'raisin', 'added.'], ['i', 'receiv', 'item', 'mom', 'voxbox', 'influenster.', 'this', 'cooki', 'soft', 'flavorful.', 'usual', 'get', 'cooki', 'like', 'either', 'hard', 'dry,', 'case', 'quaker', 'brand.', \"i'm\", 'big', 'fan', 'raisin', 'fine', 'cookie.', 'just', 'right', 'amount', 'powering.<br', '/><br', '/>this', 'one', 'cooki', 'i', 'would', 'purchas', 'own,', \"i'm\", 'sure', 'son', 'happi', 'it.'], ['i', 'receiv', 'item', 'free', 'influenst', 'mom', 'vox', 'box.', 'i', 'usual', 'fan', 'raisins,', 'cooki', 'soft', 'tast', 'like', 'fresh', 'baked.', 'i', 'absolut', 'love', 'it.'], ['these', 'cooki', 'yummy..<br', '/>they', 'soft', '&', 'get', 'stale.', 'i', 'would', 'definit', 'repurchas', 'these..', 'i', 'want', 'tri', 'flavors!'], ['i', 'receiv', 'sampl', 'soft', 'bake', 'oatmeal', 'cooki', 'mom', 'voxbox', 'influenster.', 'within', 'second', 'open', 'box', 'kid', 'fight', 'would', 'get', 'it!', 'we', 'got', 'tast', 'delicious!', 'i', 'realli', 'like', 'flavor', 'right', 'amount', 'sweetness.', 'i', 'definit', 'buy', 'product', 'local', 'groceri', 'amazon.'], ['i', 'receiv', 'quaker', 'soft', 'bake', 'oatmeal', 'cooki', 'influenst', 'mom', 'vox', 'box.<br', '/>as', 'soon', 'i', 'open', 'box,', 'cooki', 'top.', 'my', '5', 'year', 'old', 'wait', 'get', 'hand', 'it.<br', '/>she', 'enjoy', 'everi', 'singl', 'morsel.', 'and', 'want', 'more.', 'so', 'next', 'food', 'shop', 'day,', 'i', 'definit', 'pick', 'box.', 'great', 'job', 'quaker!'], ['i', 'receiv', 'soft', 'bake', 'oatmeal', 'cooki', 'influenst', 'mom', 'vox', 'box', 'i', 'saw', 'cooki', 'sit', 'right', 'top,', 'cours', 'i', 'open', 'tri', 'out!', 'this', 'cooki', 'soft', 'chewi', 'i', 'total', 'buy', 'snack', 'littl', 'cooki', 'monster!'], ['i', 'receiv', 'quaker', 'soft', 'bake', 'oatmeal', 'cooki', 'influenst', 'mom', 'vox', 'box.<br', '/><br', '/>i', 'open', 'box,', 'saw', 'cooki', 'ate', 'right', 'away.', 'i', 'go', 'save', 'half', 'nephew', 'tri', 'good', 'i', 'end', 'eat', 'halv', 'way.', 'nice', 'soft', 'chewi', 'sooooo', 'yummy.', 'total', 'buy'], ['this', 'cooki', 'bare', 'last', 'five', 'minut', 'hands.', 'it', 'soft', '&', 'chewi', 'great', 'on-the-go', 'snack.', 'it', 'perfect', 'kid', 'adults.'], ['i', 'opportun', 'tri', 'quaker', 'soft', 'bake', 'oatmeal', 'cooki', 'mom', 'voxbox,', 'whew', 'i', 'pleased!', 'i', 'took', 'sampl', 'work', 'snack', 'one', 'night.', 'soft', 'right', 'amount', 'cinnamon', 'oatmeal', 'cookie!'], ['normal', \"i'm\", 'fan', 'cooki', '(other', 'oreo)', 'unless', 'right', 'oven.', 'to', 'there', 'someth', 'extra', 'nice', 'hot.', 'i', 'took', 'one', 'bit', 'think', \"i'd\", 'give', 'rest', '2', 'year', 'old', 'daughter.', 'it', 'delicious!!!', 'needless', 'say,', 'get', 'cookie.', ':o)', 'high', 'recommend', 'i', 'definit', 'buy', 'again!!'], ['i', 'huge', 'fan', 'soft', 'cooki', 'top', 'line!', 'i', 'love', 'soft', 'flavor', 'are.', 'sinc', 'individu', 'wrapped,', 'keep', 'soft', 'fresh!'], ['i', 'put', 'dad', 'lunch', 'alway', 'want', 'someth', 'sweet', 'i', 'want', 'eat', 'healthy.', \"i'm\", 'health-nut', '&', 'ingredi', 'cooki', 'scare', 'away.', 'my', 'dad', 'said', 'tast', 'home-mad', '(in', 'good', 'way)', '&', 'seem', 'realli', 'fresh.', 'the', 'portion', 'size', 'also', 'good.'], ['i', 'even', 'get', 'chanc', 'eat', '3', 'son', 'stole', 'me.', 'they', 'love', 'it!!!', 'i', 'absolut', 'buy', 'again!!!'], ['im', 'biggest', 'fan', 'oatmeal', 'i', 'realli', 'like', 'cooki', 'much', 'i', 'went', 'bought', 'coupl', 'boxes!'], ['i', 'realli', 'like', 'best', 'box', 'cooki', 'i', 'gotten', 'far', 'i', 'get', 'real', 'soon'], ['i', 'receiv', 'sampl', 'quaker', 'oatmeal', 'cooki', 'influenst', 'voxbox.', \"i'm\", 'fan', 'raisin', 'i', 'let', 'daughter', 'tri', 'it.', 'she', 'love', 'it.', 'she', 'said', 'enjoy', 'raisin', 'like', 'soft', 'cooki', 'instead', 'regular', 'crunchi', 'one.'], ['the', 'quaker', 'cookie,', 'great', 'soft', 'cooki', 'eat.', 'my', '3', 'year', 'old', 'daughter', 'realli', 'enjoy', 'treat!', 'it', 'soft,', 'tast', 'cookie..', 'just', 'yummi', 'goodness..', 'we', 'tri', 'oatmeal', 'raisin', 'cooki', 'raisin', 'good,', 'soft', 'hard..', 'overal', 'i', 'would', 'definit', 'would', 'buy', 'quaker', 'cooki', 'again..', 'would', 'definit', 'buy', 'anoth', 'kind', 'raisin', 'well..', 'i', 'think', 'you', 'tri', 'out.', ':)'], ['i', 'receiv', 'sampl', 'product', 'influenster.', 'my', 'daughter', 'i', 'split', 'delicious.', \"i'm\", 'go', 'check', 'kroger', 'see', 'them,', 'walmart', 'not.', ':('], ['when', 'influenst', 'quaker', 'sent', 'cooki', 'try,', 'look', 'delicious--but', 'healthy-so', 'never', 'know!', 'but,', 'i', 'delight', 'good', 'great', 'tasting!', 'love', 'it!'], ['these', 'cooki', 'great!', 'so', 'yummy!', 'my', 'littl', 'boy', 'love', 'cookies!', 'sinc', 'individu', 'packages,', 'great', 'purs', 'diaper', 'bags!'], ['quaker', 'yet', 'disappoint.', 'i', 'big', 'fan', 'raisins,', 'soft', 'bake', 'oatmeal', 'cooki', 'raisin', 'best!', 'veri', 'chewi', 'fresh,', 'great', 'go', 'kid', 'lunches!'], ['i', 'thought', 'cooki', 'good.', 'it', 'soft', 'chewy;', 'howev', 'i', 'prefer', 'organ', 'food', 'would', 'much', 'rather', 'fresh', 'bake', 'cookie!'], ['these', 'cooki', 'scrumptious.', 'they', 'tast', 'homemad', 'i', 'lie...', 'i', 'gobbl', 'mere', 'seconds.', 'i', 'purchas', 'mani', 'more.'], ['wow,', 'soft', 'moist', '&', 'delici', 'cookie~quak', 'done', 'again.', 'great', 'snack', 'go', 'enjoy', 'home', 'nice', 'glass', 'cold', 'milk.<br', '/><br', '/>', 'this', 'cooki', 'larg', 'enough', 'share', 'two', 'littl', 'ones.', 'the', 'ad', 'bonus', 'nutrit', 'value!', 'grab', 'box', 'enjoy!'], ['these', 'great', 'especi', 'littl', 'hands.', 'i', 'love', 'soft', 'quaker', 'soft', 'bake', 'oatmeal', 'cooki', 'are.', 'my', 'son', 'realli', \"can't\", 'get', 'enough', 'things!'], ['love', 'cookies!', 'i', 'pleasant', 'surpris', 'delici', 'was.', 'i', 'usual', 'soft', 'cooki', 'fan', 'one', 'exception.', 'also,', 'pretti', 'healthi', 'choic', 'crave', 'sweets.'], ['this', 'cooki', 'great.', 'it', 'littl', 'soft,', 'that', 'made', 'even', 'better.', 'it', 'take', 'long', 'vanish,', 'might', 'bad', 'thing', 'lack', 'self', 'control', '(someth', 'i', 'possess).', 'i', 'recommend', 'everyon', 'unless', 'allerg', 'raisins.'], ['this', 'cooki', 'soft', 'tast', 'amazing!', 'i', 'surpris', 'moist', 'chewi', 'was,', 'better', 'home', 'made,', 'believ', 'not.', 'my', 'whole', 'famili', 'beg', 'more,', 'high', 'recommend', 'tri', 'this!'], ['i', 'receiv', 'cooki', 'influenst', 'voxbox', 'love', 'it!', 'it', 'tast', 'like', 'i', 'would', 'make', 'home.', 'delicious!'], ['i', 'receiv', 'product', 'thru', 'influenst', 'quaker', 'momvox', 'box.', 'i', 'open', 'jn', 'front', '8', 'year', 'old', 'took', 'run', 'later', 'came', 'back', 'told', 'need', 'snack', 'summer', 'camp.', 'we', 'went', 'bought', 'box', 'take', 'one', 'everi', 'morn', 'camp.', 'love', 'it!!!'], ['i', 'tri', 'influenst', 'delish!', 'i', 'also', 'purchas', 'becam', 'son', 'favorit', 'snack!', 'love', 'too!', ':)'], ['i', 'receiv', 'cooki', 'influenst', 'quaker', 'mom', 'voxbox.', 'i', 'excit', 'get', 'chanc', 'tri', 'cookie.', 'then', 'came', 'youngest', 'took', 'i', 'got', 'chance!', 'i', 'disappoint', 'i', 'understand', 'one', 'best', 'cooki', 'ever', 'had,', 'tast', 'better', 'cooki', 'i', 'bake', 'home.'], ['the', 'quaker', 'oatmeal', 'cooki', 'delici', 'soft,', 'cooki', 'individu', 'wrapped,', 'i', 'like', 'take', 'one', 'packag', 'go', 'good', 'snack', 'healthi', 'one.', 'i', 'like', 'raisin', 'cooki', 'lot.'], ['quaker', 'oat', 'compani', 'around', '100', 'years,', 'track', 'record', 'like', 'know', 'someth', 'right!', 'these', 'soft', 'oatmeal', 'raisin', 'cooki', 'actual', 'quit', 'good.', 'each', 'cooki', 'weigh', '1.48', 'ounces,', '170', 'calori', '(27', 'gram', 'carbohydrates).', 'so,', 'exact', 'low-calori', 'snack,', 'bad', 'either.<br', '/><br', '/>the', 'nice', 'thing', 'nice', 'filling,', 'make', 'nice', 'afternoon', 'snack,', 'need', 'littl', 'someth', 'get', 'work.', 'and,', 'oatmeal', 'raisin', 'cooki', 'favorit', 'snack,', 'i', 'find', 'quit', 'good.', 'as', 'matter', 'fact,', 'that', 'i', 'like', 'singl', 'packaged,', 'keep', 'go', 'back', 'more!<br', '/><br', '/>(review', 'quaker', 'soft', 'bake', 'oatmeal', 'cookie,', 'raisins)'], ['no-on', 'oatmeal', 'better', 'quaker', '....right?', 'well', 'tri', 'expand', 'basic', 'oatmeal', 'time.', 'these', 'soft', 'cooki', 'tasti', 'satisfying.', 'in', 'famili', 'tell', 'good', 'quick', 'disappear.', 'weel', '-', 'disappear', 'swift', 'order.', 'in', 'fact', 'i', 'bare', 'got', 'tast', 'one.', 'the', 'general', 'consensus', 'just', 'like', 'homemade.', 'there', 'greater', 'compliment', 'paid.', 'they', 'packag', 'conveni', 'inclus', 'school', 'lunch', 'etc.', 'they', 'certain', 'make', 'great', 'accompani', 'tea', 'coffe', 'unwind', 'moment', 'us', 'need', 'somour', 'day.'], ['these', 'cooki', 'much', 'closer', 'homemad', 'break-and-bak', 'cooki', 'there,', 'similar', 'nutrit', 'info.', 'veri', 'soft,', 'lot', 'plump', 'raisins,', 'great', 'go!'], ['i', 'like', 'oatmeal', 'raisin', 'cooki', 'i', 'eat', 'often.', 'that', 'probabl', 'wife', 'make', 'awesom', 'chocol', 'cookies.', 'when', 'i', 'get', 'opportun', 'tri', 'oatmeal', 'raisin', 'cooki', 'usual', 'store-bought', 'package.', 'i', 'usual', 'come', 'away', 'impress', 'moist', 'pre-packag', 'cooki', 'are.', 'that', 'surpris', 'quaker', 'soft', 'bake', 'oatmeal', 'cookie;', \"they'r\", 'soft', 'moist.', 'there', 'distinct', 'soft', 'dryness', 'cookies.', 'the', 'tast', 'good', 'grand', 'daughter', 'quick', 'ate', 'them.', 'she', 'like', 'tasti', 'soft.', 'i', 'agre', 'i', 'guess', 'two', 'three', 'criteria', 'good', 'i', 'look', 'one', 'qualiti'], ['mayb', 'hot', 'weather?', 'mayb', 'bake', 'process?<br', '/><br', '/>these', 'cookies,', 'although', 'individu', 'pack', '(so', 'good', 'school', 'lunches),', 'came', 'bit', 'dri', 'crumbly.<br', '/><br', '/>sure,', 'mayb', 'i', 'messi', 'eater', 'soft', 'bake', 'cooki', 'crumbl', 'much', 'cooki', 'i', 'got', 'crumbled.<br', '/><br', '/>mayb', 'get', 'supermarket', 'would', 'less', 'dry.<br', '/><br', '/>mayb', 'general', 'problem', 'way', 'produced.'], ['these', 'cooki', 'come', 'individu', 'wrap', 'easi', 'stash', 'lunch', 'boxes,', 'picnic', 'baskets,', 'give', 'kid', 'school', 'snack.', 'however,', 'i', 'find', 'appet', 'thing', 'world', '-', 'especi', 'adult', 'use', 'low', 'cal', 'sugar', 'free', 'snacks.', 'kid', 'hate', 'them.', 'i', 'get', 'mine', 'tri', 'one', 'bite.', 'even', 'oatmeal', 'cookie,', 'good.', 'we', 'found', 'salti', 'bland.', 'yes', 'soft,', 'also', 'crumbly,', 'made', 'mess.', 'i', 'say', 'worst', \"i'v\", 'ever', 'tried,', 'definit', 'good', 'quaker', 'products.'], ['i', 'realli', 'like', 'cookies.', 'they', 'sort', 'firm', 'crunchy,', 'get', 'crumb', 'everywhere.', 'they', 'work', 'realli', 'well', 'post', 'breakfast', 'snack', '(or', 'sad', 'even', 'breakfast', 'days).', 'they', 'coat', 'sugar', 'way', 'lot', 'prepackag', 'oatmeal', 'cooki', 'are.', 'each', 'cooki', 'individu', 'packag', 'easi', 'open', 'go.<br', '/><br', \"/>i'd\", 'total', 'buy', 'next', 'time', 'i', 'see', 'store.'], ['quaker', 'pretti', 'much', 'oatmeal', 'company,', 'done', 'nice', 'job', 'oatmeal', 'raisin', 'cookie.', 'i', 'like', 'conveni', 'individu', 'wrapped,', 'also', 'preserv', 'freshness.', 'i', 'take', 'one', 'along', 'round', 'golf', 'lunch.', 'the', 'cooki', 'tasty,', 'light', 'moist.', 'i', 'recommend', 'cooki', 'lovers,', 'especi', 'fond', 'oatmeal', 'raisin.'], ['these', 'larg', 'cooki', 'great', 'resembl', 'look', 'tast', 'one', 'might', 'get', 'vend', 'machine.', 'they', 'individu', 'packag', 'soft', 'chewi', 'texture.', 'the', 'tast', 'left', 'pretti', 'unsatisfi', 'pretti', 'bland', 'tast', '\"processed,\"', 'like', 'simpl', 'fresh', 'oatmeal', 'raisin', 'cookies.', 'i', 'would', 'recommend', 'personally,', 'although', 'littl', 'one', 'like', 'fine', '(although', 'i', 'rare', 'know', 'kid', 'say', '\"no\"', 'cookie!).'], ['i', 'got', 'mom', 'voxbox', 'influenster.', 'i', 'like', 'oatmeal', 'cookies.', 'so', 'i', 'daughter', 'tri', 'love', 'it.', 'she', 'said', '\"mom,', 'cooki', 'realli', 'good.', 'is', 'anoth', 'one.', 'i', 'got', 'one.\"', 'i', 'told', 'that,', 'all.', 'she', 'realli', 'bummed.', 'but', 'i', 'told', 'go', 'store', 'see', 'make', 'sure', 'buy', 'sinc', 'like', 'much.'], ['cooki', 'delici', 'soft,', 'expect', 'much', 'differ', 'tast', 'surpis', 'actual', 'great.', 'i', 'got', 'sampl', 'purchas', 'famili', 'soon.'], ['i', 'given', 'chanc', 'sampl', 'cooki', 'i', 'got', 'mom', 'vox', 'box', 'influenst', 'quaker,', 'much', 'thanks.', 'the', 'kid', 'i', 'share', 'cooki', 'soft', 'chewi', 'realli', 'good', 'buy', 'again.'], ['i', 'realli', 'excit', 'get', 'quaker', 'soft', 'bake', 'cooki', 'oatmeal', 'raisin', 'flavor', 'one', 'favorit', 'flavors.', 'over', 'flavor', 'fabul', 'right', 'amount', 'raisins,', 'i', 'found', 'toooo', 'soft.', 'i', 'like', 'soft', 'cooki', 'i', 'hard', 'time', 'eat', 'cooki', 'soft', 'crumbl', 'fingertip', 'i', 'tri', 'take', 'bite', 'i', 'eat', 'wrapper', 'carefully.', 'i', 'also', 'let', '7', 'year', 'old', 'son', '12', 'year', 'old', 'daughter', 'tri', 'bite', 'love', 'care', 'soft', 'crumbl', 'all.', 'overal', 'i', 'would', 'recommend', 'tri', 'flavor', 'good', 'mayb', 'soft.'], ['i', 'recent', 'tri', 'chewi', 'goodness!', 'be', 'sure', 'tri', 'heat', 'up,', 'oh', 'go', 'love', 'them/'], ['i', 'wanna', 'say', 'complet', 'hook', 'cooki', 'now!', 'my', 'kid', 'love', 'product', 'well!', 'especi', 'nutriti', 'qualiti', 'cooki', 'great', 'taste!', 'we', 'def', 'stick', 'on!!'], ['love', 'first', 'bite!', 'veri', 'moist', 'delicious!', 'definit', 'recommend', 'everyon', 'fan', 'oatmeal', 'raisin', 'cookies.'], ['i', 'recent', 'tri', 'product', 'influenst', 'mom', 'vox', 'i', 'receiv', 'i', 'admit', 'i', 'big', 'fan', 'cooki', 'howev', 'best', 'cooki', \"i'v\", 'ever', 'tast', 'thus', 'far', 'much', 'i', 'ate', 'whole', 'thing', 'i', 'could', 'even', 'record', 'youtub', 'video,', 'lol.'], ['this', 'best', 'prepackag', 'cooki', \"i'v\", 'ever', 'had!', 'they', 'great', 'flavor,', 'soft', 'chewy,', 'everyth', 'would', 'expect', 'homemad', 'cookie!', 'i', 'given', 'influenst', 'voxbox', 'i', 'say', 'i', 'purchas', 'often!'], ['actual', 'tri', 'cooki', 'influenst', 'realli', 'chewi', 'like', 'cooki', 'dont', 'like', 'hard', 'crunchi', 'good', 'tast', 'left', 'mouth', 'kinda', 'nasti', 'overal', 'one', 'good', 'cooki'], ['receiv', 'product', 'influenst', 'test!!..', 'love', 'soft', 'delici', 'would', 'bought', 'went', 'store', '\"healthy\"..', 'tast', 'definit', 'buy', 'more!!'], ['i', 'recent', 'tri', 'cooki', 'part', 'influenst', 'mom', 'vox', 'box.', 'influenst', 'send', 'free', 'box', 'product', 'order', 'test', 'give', 'feedback.', 'i', 'realli', 'enjoy', 'cookie!', 'most', 'packag', 'cooki', 'hard', 'tast', 'like', 'cardboard', 'i', 'pleasant', 'surpris', 'cooki', 'soft', 'compar', 'homemad', 'oatmeal', 'raisin', 'cookie.', 'the', 'nutrit', 'fact', 'bad', 'dessert', 'too.', 'it', 'yummi', 'filling.', 'a', 'good', 'size', 'cookie!', 'i', 'definit', 'buy', 'family,', 'sinc', 'i', 'ate', 'one', ';)'], ['i', 'receiv', 'free', 'cooki', 'influenster,', 'made', 'week.', 'i', 'normal', 'avoid', 'packag', 'cooki', 'i', 'like', 'chewi', 'fresh', 'homemad', 'much', 'better.', 'these', 'amaz', 'flavor', 'cinnamon', 'spice,', 'textur', 'perfect.', 'i', 'need', 'go', 'get', 'box!'], ['i', 'given', 'sampl', 'quaker', 'soft', 'bake', 'oatmeal', 'cooki', 'influenster.com', 'part', 'mom', 'voxbox', '2012', 'reviewing.', 'i', 'share', 'cooki', '2', '1/2', 'year', 'old', 'daughter.', 'as', 'cookie,', 'love', 'it!', 'i', 'thought', 'cooki', 'delicious.', 'not', 'over', 'sweet,', 'perfect', 'flavor.', 'it', 'moist', 'too,', 'unlik', 'cooki', 'dry.', 'my', 'least', 'favorit', 'part', 'crumbl', 'was.', 'it', 'tendanc', 'crumbl', 'quit', 'bit.', 'overall,', 'great', 'cookie.'], ['i', 'receiv', 'delici', 'treat', 'complimentari', 'influenst', 'mom', 'voxbox.', 'i', 'note', 'sever', 'crumbl', 'piec', 'i', 'open', 'package,', 'obvious', 'chang', 'tast', 'cooki', 'itself.', 'it', 'made', 'littl', 'messi', 'eat,', 'hous', 'toddler', 'noth', 'new.', 'speak', 'toddler,', 'she', 'love', 'it!', 'she', 'actual', 'want', 'packag', 'empty,', 'pretti', 'upset', 'i', 'kept', 'tell', 'gone.', ':)', 'look', 'like', 'get', 'around', 'hous', 'mayb', 'littl', 'briberi', 'diaper', 'bag.', ':)'], ['i', 'got', 'opportun', 'tast', 'test', 'awesom', 'cooki', 'influenst', 'quaker', 'mom', 'voxbox', 'found', 'cooki', 'absolut', 'delicious!', 'it', 'soft', 'chewy,', 'i', 'like', 'cookies!', 'my', 'four', 'year', 'old', 'i', 'share', 'half', 'enough', 'us', 'love', 'too!'], ['i', 'receiv', 'quaker', 'soft', 'bake', 'oatmeal', 'cooki', 'influenst', 'mombox.', 'i', 'pleased.', 'not', 'great', 'size', 'cooki', 'also', 'soft.', 'it', 'dri', 'tast', 'great.', 'definit', 'purchas', 'product!'], ['i', 'receiv', 'oatmeal', 'cooki', 'complementari', 'influenst', 'mom', 'voxbox', 'i', 'impress', 'qualiti', 'ingredi', 'taste!', 'i', 'definit', 'buy', 'more,', 'especi', 'i', 'know', 'come', 'amaz', 'flavors!!', 'yummy!', 'they', 'great', 'go', 'especi', 'delici', 'warm', 'milk!!', 'and', 'expens', 'calori', 'bank', 'either!'], ['i', 'tri', 'cooki', 'sampl', 'influnster.com.', 'they', 'littl', 'sweet', 'taste,', 'kid', 'love', 'it.', 'they', 'good', 'size,', 'size', 'palm', 'hand.', 'at', '170', 'calori', 'each,', 'littl', 'hefti', 'one', 'time,', 'sinc', 'individu', 'wrapped,', 'worri', 'waste.', 'tri', 'microwav', '20', 'seconds!'], ['i', 'receiv', 'cooki', 'part', 'influenst', 'review.', 'i', 'love', 'tast', 'like', 'fresh', 'cooki', 'grandma', 'oven.', 'i', 'knew', 'i', 'would', 'love', 'it,', 'uber', 'pleas', 'see', '2', 'year', 'old', 'love', 'well.', 'this', 'definit', 'someth', 'replac', 'fruit', 'snack!'], ['i', 'receiv', 'complimentari', 'quaker', 'soft', 'bake', 'oatmeal', 'cooki', 'influenster.com', 'review', 'purposes.', 'this', 'cooki', 'huge', 'hearty!', 'this', 'liter', 'first', 'oatmeal', 'cooki', 'i', 'ever', 'abl', 'get', 'picki', 'teenag', 'son', 'eat!', 'veri', 'soft!', 'just', 'like', 'homemade!', 'quaker', 'realli', 'outdon', 'themselves!'], ['i', 'receiv', 'item', 'influenst', 'love', 'much', 'thaton', 'next', 'groceri', 'trip', 'i', 'purchas', 'three', 'boxed.', 'i', 'receiv', 'oatmeal', 'raisin', 'influenst', 'i', 'also', 'purchas', 'banana', 'nut', 'chocol', 'almond.', 'the', 'raisin', 'favorit', 'soft', 'moist,', 'love'], ['these', 'cooki', 'amazing!', 'they', 'moist,', 'flavor', 'realli', 'satisfying.', 'i', \"can't\", 'wait', 'add', 'teenag', 'lunch', 'fall!'], ['i', 'realli', 'surpris', 'good', 'are!', 'veri', 'soft', 'chewy,', 'howev', 'mayb', 'littl', 'soft.', 'i', 'recent', 'pack', 'lunch', 'got', 'complaint', 'crumbl'], ['these', 'tasty,', 'three', 'year', 'old', 'son', 'even', 'gobbl', 'up!', 'they', 'soft,', 'long', 'like', 'oatmeal', 'cooki', 'love', 'these!'], ['yumm', 'yumm', 'yumm', 'love', 'like', 'way', 'soft', 'kid', 'tast', 'good'], ['bought', 'husband', 'realli', 'like', 'them!', 'i', 'tri', 'yet,', \"i'm\", 'go', 'give', 'shot.'], ['for', 'oatmeal', 'raisin', 'cooki', 'bad', 'all.', 'nice', 'soft,', 'great', 'taste.', 'i', 'like', 'flavor', 'cooki', 'well.'], ['i', 'got', 'sampl', 'yummi', 'thang', 'influenst', 'mom', 'voxbox', 'delicious!', 'i', 'share', 'mine', 'toddler', 'also', 'love', 'it,', 'cri', 'ran', 'cookie!', 'they', 'nice', 'soft', 'realli', 'tasty!', 'go', 'get', 'some,', 'girl!'], ['i', 'love', 'quaker', 'soft', 'bake', 'oatmeal', 'cookies.', 'they', 'tast', 'good!', 'they', 'moist,', 'soft,', 'right', 'size!', 'the', 'first', 'cooki', 'receiv', 'mom', 'voxbox', 'influenster.com.', 'it', 'good', 'next', 'day', 'i', 'went', 'got', 'whole', 'box!', 'they', 'great', 'go', 'snacks.', 'i', 'keep', 'one', 'purs', 'i', 'need', 'littl', 'snack!', '<a', 'href=\"http://www.amazon.com/gp/product/b005kk56ju\">quak', 'soft', 'bake', 'oatmeal', 'cooki', '6', 'count', 'box', '(8.8', 'oz.),', 'raisin', '(pack', '4)</a>'], ['i', 'also', 'receiv', 'sampl', 'cooki', 'influenster.', 'my', 'daughter', 'realli', 'enjoy', 'it.', 'i', 'think', 'littl', 'high', 'sugar', 'make', 'regular', 'treat', 'i', 'would', 'repurchas', 'future.'], ['the', 'quaker', 'soft', 'bake', 'oatmeal', 'cooki', 'delicious,', 'i', 'receiv', 'complimentari', 'sampl', 'influenc', 'tri', 'product', 'review', 'it.', 'well', 'vox', 'box', 'contain', 'complimentari', 'product', 'tri', 'i', 'open', 'infront', 'mailbox,', 'way', 'driveway', 'i', 'ate', 'cookie.', 'i', 'absolut', 'love', 'individu', 'packag', 'yet', 'nice', 'size', 'cookie.', 'you', 'feel', 'depriv', 'throw', 'one', 'lunch', 'box', 'purse,', 'certain', 'kid', 'love', 'them.', 'i', 'think', 'reason', 'priced,', 'plan', 'stock', 'boxes.', 'perfect', 'beach', 'want', 'snack', 'yet', 'want', 'seagul', 'attack', 'open', 'food', 'bags.', 'not', 'mention', 'guilt', 'free', 'snack:<br', '/><br', '/>-made', 'whole', 'grain', 'quaker', 'oats<br', '/>-individu', 'packaged<br', '/>-provid', 'good', 'sourc', 'fiber<br', '/>-contain', '6', 'gram', 'total', 'fat', 'per', 'serving<br', '/><br', '/>definit', 'buy,', 'sale', 'stock', 'up.'], ['i', 'reciev', 'sampl', 'cooki', 'influenst', 'tri', 'out.', 'i', 'normal', 'dislik', 'cooki', 'raisin', 'one', 'good.', 'i', 'get', 'that', 'good', 'cooki', 'raisins.', 'i', 'ever', 'tri', 'flavors.'], ['i', 'love', 'cookies.', 'they', 'wonder', 'chewi', 'texture,', 'burst', 'raisin', 'tast', 'truli', 'homemade.', 'at', 'first', 'i', 'concern', 'cooki', 'may', 'pick', 'flavor', 'packaging,', 'flavor,', 'help', 'maintain', 'fresh', 'cookies,', 'effect', 'flavor.', 'i', 'love', 'bake', 'flavor', 'cookies,', 'bake', 'perfect', '-', 'underbak', 'certain', 'overbak', 'nice', 'chewy.', 'i', 'definit', 'consid', 'cooki', 'pantri', 'item', 'i', 'need', 'treat,', 'time', 'bake', 'cooki', 'kid', 'myself.<br', '/><br', '/>disclaimer:', 'i', 'receiv', 'mom', 'voxbox', 'influenster,', 'contain', 'sampl', 'quaker', 'soft', 'bake', 'oatmeal', 'cookies.', 'the', 'opinion', 'express', 'herein', 'person', 'opinion', 'influenc', 'influenst', 'third', 'party.'], ['i', 'one', 'lucki', 'mom', 'got', 'pick', 'receiv', 'momvoxbox', 'influenster.', 'when', 'i', 'open', 'box', 'youngest', 'son', 'jordan', 'sit', 'me.', 'befor', 'i', 'chanc', 'see', 'took', 'ran', 'off.', 'i', 'surpris', 'this,', 'i', 'open', 'ate', 'right', 'up.', 'see', 'son', 'jordan', 'autist', 'picki', 'eater.', 'he', 'also', 'picki', 'snacks.', 'he', 'hate', 'raisins,', 'i', 'never', 'abl', 'get', 'eat', '.', 'but', 'love', 'quaker', 'soft', 'bake', 'oatmeal', 'cookies.', 'ever', 'sinc', 'receiv', 'see', 'quaker', 'cooki', 'box', 'buy', 'think', 'cookies.', 'these', 'great', 'come', 'wrapper', 'take', 'run', 'way', 'healthier', 'cooki', 'there.'], ['i', 'receiv', 'sampl', 'product', 'test', 'influenster.th', 'quaker', 'soft', 'bake', 'oatmeal', 'cooki', 'much', 'moist', 'brands.', 'also', 'i', 'like', 'fact', 'made', 'whole', 'grain', 'quaker', 'oat', 'provid', 'good', 'sourc', 'fiber.', 'these', 'great', 'thing', 'kid', 'eat!!', '[...]'], ['i', 'receiv', 'sampl', 'product', 'test', 'influenster.', 'i', 'big', 'fan', 'oatmeal', 'cooki', 'life', 'i', 'put', 'right', 'top.', 'what', 'realli', 'impress', 'sofe', 'tast', 'awesome.', 'if', 'i', 'know', 'better,', \"i'd\", 'think', 'came', 'right', 'oven.', 'let', 'forget', 'wholesom', 'ingredi', 'contain.', 'you', 'ask', 'better', 'cookie.', 'if', 'i', 'know', 'better,', 'i', 'think', 'mom', 'made', 'these.'], ['i', 'receiv', 'cooki', 'influenster.', 'i', 'big', 'fan', 'oatmeal', 'raisin', 'cookies,not', 'sinc', 'granni', 'spoil', 'tast', 'buds.', 'ever', 'sinc', 'i', 'tri', 'find', 'cooki', 'market', 'compar', 'hers,', 'luck.', 'i', 'surpris', 'cookie!', 'it', 'tast', 'close', 'homemad', 'one', 'granni', 'use', 'make!!', 'the', 'size', 'enorm', 'raisin', 'soft', 'chewy.', 'definit', 'worth', 'buying!', 'love', 'it!'], ['i', 'realli', 'dislik', 'oatmeal', 'cooki', 'raisins..i', 'got', 'cooki', 'influenst', 'cooki', 'awesom', 'made', 'chang', 'mind', 'oatmeal', 'raisin', 'cookies.', 'i', 'would', 'def.', 'get', 'again.'], ['i', 'big', 'fan', 'raisin', 'cookies,', 'but', 'i', 'tast', 'raisin', 'oatmeal', 'cooki', '&', 'delici', '!', 'i', 'surpris', 'son', 'love', 'too.', 'he', 'clue', 'raisin', 'there,', 'they', 'yummi', '(:', 'i', 'def', 'buy', 'these.', 'thank', 'influest', 'send', 'sampl', '2012', 'mom', 'voxbox.'], ['i', 'love', 'soft', 'chewi', 'cooki', 'quaker.', 'the', 'cookiew', 'better', 'i', 'expect', 'store', 'bought', 'cooki', 'i', 'buy'], ['i', 'got', 'tri', 'raisin', 'soft', 'bake', 'oatmeal', 'cooki', 'influenst', 'via', 'momvoxbox.<br', '/>so', 'much', 'flavor!', 'this', 'cooki', 'yummi', 'chewi', 'soft', 'delicious.', 'you', 'got', 'tri', 'believ', 'it!<br', '/>you', 'want', 'eat', 'everi', 'littl', 'piece.', 'an', 'awesom', 'treat!'], ['first', 'let', 'say', 'i', 'tri', 'product', 'i', 'receiv', 'mom', 'voxbox', 'influenst', 'complementari', 'test', 'product.', 'that', 'said,', 'cooki', 'hook', 'delicious.', 'they', 'realli', 'tast', 'like', 'homemad', '(i', 'know,', 'i', 'make', 'time).<br', '/><br', '/>i', 'ate', 'bite', 'son', 'chomp', 'bit', 'soon', 'littl', 'hand', 'got', 'ahold', 'cookie,', 'gone', 'second', 'ask', 'more.', \"we'll\", 'certain', 'buy', 'box', 'keep', 'hot', 'turn', 'oven', 'make', 'own!'], ['the', 'quaker', 'soft', 'bake', 'oatmeal', 'cooki', 'truli', 'much', 'moist', 'brands.', 'they', 'good', 'oatmeal', 'flavor', 'pack', 'raisins,', 'sweet', 'i', 'expected.', 'after', 'bites,', 'i', 'found', 'littl', 'bit', 'cooki', 'perfect', 'amount', 'fill', 'calm', 'sweet', 'tooth.<br', '/><br', '/>*i', 'receiv', 'free', 'sampl', 'product', 'voxbox', 'order', 'provid', 'honest', 'accur', 'review.'], ['i', 'fortun', 'enough', 'sent', 'item', 'influenster.', 'i', 'realli', 'enjoy', 'cookie.', 'it', 'delici', 'soft', 'good', 'make', 'feel', 'guilti', 'eat', 'oreo<br', '/>thank', 'quaker!'], ['these', 'cooki', 'tast', 'fantastic!', 'even', 'picki', 'children', 'love', 'ask', 'everi', 'time', 'go', 'groceri', 'store!'], ['i', 'receiv', 'quaker', 'soft', 'bake', 'oatmeal', 'cooki', 'influenst', 'love', 'it!', 'these', 'cooi', 'one', 'favorit', 'packag', 'cookies.'], ['i', 'receiv', 'quaker', 'soft', 'bake', 'oatmeal', 'cooki', 'influenst', 'try.', 'i', 'gluten', 'intoler', 'seven', 'year', 'old', 'daughter', 'got', 'pleasur', 'tri', 'it.<br', '/><br', '/>here', 'review:', '\"i', 'love', 'cookie.', 'i', 'love', 'much', 'could', 'eat', 'bunch', 'them.i', 'love', 'cooki', 'good', 'wish', 'could', 'give', 'more.', 'it', 'worth', 'five', 'rate', 'that', 'good', 'realli', 'me.', 'i', 'wish', 'mommi', 'could', 'tri', 'gluten', 'free', 'could', 'tri', 'sad.', 'but', 'love', 'it.\"<br', '/><br', '/>i', 'feel', 'end', 'cart', 'next', 'groceri', 'trip', ';)'], ['i', 'love', 'cookies,', 'soooo', 'soft', 'tast', 'delici', 'flavors.', 'they', 'also', 'chewy.'], ['realli', 'good', 'cookies.', 'and', 'get', '7', 'yr', 'old', 'eat', 'that', 'alway', '+'], ['son', 'share', 'let', 'tell', 'tast', 'amaz', 'didnt', 'think', 'id', 'like', 'raisin', 'sinc', 'usual', 'dont', 'oatmeal', 'soft', 'tast', 'good', 'boaght', 'two', 'packag', 'alreadi', 'one', 'gone', 'thumb'], ['thank', 'influenst', 'i', 'got', 'chanc', 'tri', 'yummi', 'quaker', 'soft', 'bake', 'raisin', 'cookies!', 'it', 'love', 'first', 'bite!i', 'like', 'fact', 'made', 'whole', 'grain', 'quaker', 'oat', 'provid', 'good', 'sourc', 'fiber.', 'all', 'all,', 'soft,', 'chewy,', 'homemad', 'tast', 'make', 'one', 'tough', 'cooki', 'beat.'], ['these', 'best', 'oatmeal', 'raisin', 'cooki', 'ever', '-', 'i', 'usual', 'bake', 'cooki', 'honest', \"i'm\", 'sure', 'i', 'better', 'these!', 'they', 'soft,', 'melt', 'mouth', 'burst', 'flavor.'], ['this', 'product', 'great!', 'my', 'kid', 'love', 'healthier', 'option', 'go!'], ['just', 'get', 'cooki', 'i', 'ate', 'right', 'up!', 'i', 'love', 'cooki', 'soft', 'oatmeal', 'cooki', 'normal', 'moist', 'cookie.', 'these', 'great', 'flavor', 'even', 'better', 'homemad', 'ones.', 'my', 'famili', 'happi', 'i', 'ate', 'whole', 'cooki', 'without', 'sharing!'], ['these', 'cooki', 'delicious!!!!!!!', '4', 'year', 'old', 'love', 'bare', 'got', 'any.', 'great', 'snack', 'go.'], ['these', 'cooki', 'great', 'toss', 'lunch', 'sack', 'grab', 'one', 'way', 'door.', 'it', 'make', 'get', 'treat', 'eat', 'cooki', 'someth', 'share', 'experienc', 'anywhere,', 'anytime.'], ['the', 'cooki', 'soft,', 'moist', 'delicious.', 'you', 'tell', 'packag', 'fresh', 'stale', 'taste.', 'my', 'kid', 'i', 'love', 'them!', 'they', 'definit', 'worth', 'money.'], ['i', 'pleasant', 'surpris', 'good', 'cooki', 'was.', 'to', 'honeset,', 'i', 'got', 'eat', '2', 'bite', 'it....mi', '3.5', 'year', 'old', 'gobbl', 'rest', 'up!!', 'she', 'big', 'breakfast', 'eater,', 'enjoy', 'cookie.', 'the', 'raisin', 'nice', 'plump,', 'dri', 'hard.', 'veri', 'impress', 'size', 'too.', 'this', 'great', 'cookie.'], ['these', 'perfect', 'go...w', 'often', 'rush', 'door', 'i', 'often', 'grab', 'someth', 'door', 'closing.', 'these', 'perfect', 'fill', 'give', 'start', 'day', 'need.', 'my', 'youngest', 'morn', 'person', 'slow', 'eat,', 'great', 'grab', 'eat', 'way', 'school.<br', '/><br', '/>was', 'happi', 'get', 'sampl', 'momvoxbox...thank', 'influenster.'], ['i', 'receiv', 'product', 'influenster.', 'i', 'say', 'kid', 'devour', 'i', 'got', 'chance!', 'they', 'ask', 'more!', 'so,', 'ad', 'groceri', 'list.'], ['i', 'receiv', 'sampl', 'cooki', 'momvoxbox', 'great', 'i', 'go', 'buy', 'more.<br', '/>i', 'would', 'love', 'tell', 'everyon', 'get', 'great', 'cooki'], ['if', 'look', 'cooki', 'tast', 'like', 'grandma', 'make', 'look', 'further.', 'these', 'best', 'oatmeal', 'raisin', 'cooki', 'i', 'ever', 'had.'], ['i', 'receiv', 'sampl', 'soft-bak', 'cooki', 'raisin', 'influenster!', 'the', 'cooki', 'smelt', 'amazing,', 'soft', 'said,', 'i', 'know', 'healthier', 'regular', 'cookies,', 'seem', 'homemade,', 'straight', 'oven!!!', 'i', 'buy', 'sure!'], ['my', 'kid', 'i', 'love', 'cookie!!', 'it', 'tasti', 'best', 'good', 'too!', 'i', 'high', 'recommend', 'product!', 'it', 'soft', 'fresh', 'too!'], ['i', 'realli', 'enjoy', 'cookies.they', 'tast', 'like', 'homemad', 'lot', 'healthi', 'whole', 'grain.lov', 'teen', 'boy', 'eat', 'instead', 'unhealthi', 'snack', 'fill', 'well.'], ['i', 'tri', 'oatmeal', 'raison', 'one.veri', 'good!', 'defint', 'excit', 'tri', 'flavors.', 'the', 'appl', 'one', 'look', 'realli', 'good.'], ['this', 'definit', 'buy.', 'this', 'first', 'store', 'bought', 'cooki', 'ive', 'ever', 'tast', 'like', 'homemade.', 'it', 'soft', 'chewy.'], ['delici', 'soft', 'treat!', 'perfect', 'store', 'purs', 'diaper', 'bag.', 'my', 'kid', 'love', 'i', 'enjoy', 'also.'], ['it', 'soft', 'chewy.', 'it', 'good', 'cooki', 'even', 'though', 'came', 'bag', 'wasnt', 'homemade!', 'my', 'kid', 'love', 'cookies!'], ['i', 'absolut', 'love', 'cookie!', 'i', 'tri', 'oatmeal', 'raisin', \"can't\", 'wait', 'tri', 'flavors!', 'i', 'like', 'eat', 'littl', 'someth', 'i', 'workout,', 'cooki', 'realli', 'hit', 'spot.', 'my', 'littl', 'kid', 'also', 'realli', 'enjoy', 'them!', 'they', 'beg', 'more.', 'perfect', 'snack', 'littl', 'guys.'], ['i', 'go', 'get', 'tonight!', 'my', '15', '1/2', 'month', 'old', 'son', 'love', 'i', 'like', 'give', 'afternoon', 'snack', 'him.', 'they', 'fill', 'give', 'energi', 'run', 'around', 'seem', 'bother', 'mouth', 'sinc', 'current', 'teething.'], ['these', 'cooki', 'delici', 'healthy.', 'i', 'buy', 'share', 'family.', 'quaker', 'made', 'better', 'cookie!'], ['i', 'lucki', 'enough', 'tri', 'cooki', 'mom', 'voxbox', 'infuenster.', 'so', 'glad', 'gave', 'sampl', 'i', 'would', 'never', 'tri', 'sinc', 'i', 'realli', 'like', 'oatmeal', 'raisin', 'cookies.', 'this', 'cooki', 'delicious,', 'sweet,', 'soft', 'chewi', '17month', 'old', 'daughter', 'also', 'love', 'it.', 'these', 'cooki', 'found', 'hous', 'on.'], ['amaz', 'cooki', 'one', 'like', 'oatmeal', 'raisin', 'cooki', 'realli', 'moist', 'soft.', 'i', 'good', 'bought', 'flavor', 'chocol', 'chip', 'berri', 'ones.', 'this', 'cooki', 'great', 'go', 'food', 'throw', 'ur', 'bag', 'go', 'a++++++'], ['these', 'realli', 'good.', 'i', 'got', 'free', 'tri', 'love', 'them.', 'veri', 'fill', 'tasty.', 'me', 'husband', 'share', 'wait', 'buy', 'more.'], [\"wasn't\", 'sure', 'cooki', 'go', 'describ', 'i', 'thought.', 'it', 'soft', 'i', 'love', 'soft', 'cooki', 'i', 'tri', 'rasian', 'one', 'cant', 'wait', 'tri', 'rest'], ['i', 'huge', 'fan', 'raisin', 'quaker', 'brand', 'alway', 'one', 'i', 'loved.', 'i', 'tri', 'cooki', 'soft', 'melt', 'mouth', '.', 'had', 'great', 'healthi', 'tast', 'whole', 'grain', 'overal', 'good', 'cookie.'], ['i', 'realli', 'enjoy', 'cookies.', 'great', 'tast', 'filling!!', 'great', 'pack', 'lunch,', 'picnic-', 'kid', 'snack.', 'great', 'come', 'individu', 'wrapped-', 'easi', 'throw', 'purs', 'bag.', 'i', 'would', 'recommend', 'kid', 'adults!'], ['oatmeal', 'cooki', 'lover', 'i', 'say', 'i', 'love', 'cooki', '!!!!!!!!!!', 'soft', 'chewi', 'make', 'good'], ['they', 'amazing.', 'so', 'good', 'soft', 'chewy.', 'i', 'recommend', 'them.mi', 'kid', 'evwn', 'enjoy', 'them.', 'i', 'purchas'], ['these', 'pretti', 'great.', 'we', 'got', 'oatmeal', 'raisin', 'tast', 'like', 'pumpkin', 'pie', 'even', 'better.', 'my', 'husband', 'three', 'year', 'old', 'like', 'well.', 'especi', 'three', 'year', 'old.', 'these', 'cooki', 'pretti', 'great.', 'veri', 'dens', 'one', 'definit', 'enough.', 'i', 'want', 'tri', 'anoth', 'flavor', 'next', 'time', 'too!', 'mayb', 'someth', 'chocolate!'], ['i', 'recent', 'receiv', 'sampl', 'cookie,', 'i', 'enjoy', 'it!', 'the', 'cooki', 'soft', 'dry.', 'it', 'littl', 'spicier', 'i', 'general', 'like', 'oatmeal', 'cookies,', 'definit', 'flavor.', 'i', 'say', 'favorit', 'oatmeal', 'cooki', 'ever,', 'i', 'would', 'okay', 'eat', ':)'], ['this', 'individu', 'wrap', 'cooki', 'moist,', 'soft', 'chewy.', 'the', 'tast', 'perfect', 'beyond', 'expectations,', 'perfect', 'bite.'], ['oatmeal', 'one', 'favorit', 'grain', 'i', 'excit', 'tri', 'cookies,', 'especi', 'soft', 'variety.', 'veri', 'yummy!'], ['the', 'oatmeal', 'cooki', 'soft', 'chewy.', 'it', 'realli', 'yummi', 'well', 'healthy.', 'will', 'definit', 'buy', 'more!'], ['we', 'recent', 'got', 'one', 'quaker', 'soft', 'bake', 'oatmeal', 'cooki', 'tri', 'via', 'influenst', 'quaker.', 'and', 'famili', 'love', 'them!', 'they', 'tast', 'store', 'bought', 'all.', 'they', 'tast', 'home', 'made!!', 'veri', 'soft', 'moist!'], ['upon', 'reciev', 'cooki', 'voxbox', 'influenst', 'i', 'sceptic', 'expect', 'cooki', 'packag', 'dri', 'often', 'tasteless,', 'cooki', 'reciev', 'packag', 'surpris', 'moist', 'flavorful,', 'tast', 'good', 'i', 'defin', 'purchas', 'future.'], ['my', 'daughter', 'i', 'tri', 'soft', 'bake', 'oatmeal', 'cooki', 'agre', 'delicious!', 'i', 'rare', 'purchas', 'premad', 'cookies,', 'hard', 'preference,', 'chang', 'mind.', 'they', 'full', 'flavor.', 'the', 'oatmeal', 'overpow', 'raisin', 'raisin', 'overpow', 'oatmeal,', 'perfect', 'balance.', 'the', 'raisin', 'soft,', 'hard', 'like', 'brand', 'tri', 'past.', 'the', 'price', 'qualiti', 'well', 'worth', 'it.'], ['i', 'absolut', 'fell', 'love', 'cookies.', 'i', 'love', 'cooki', 'soft', 'hard,', 'unless', 'oreo', 'i', 'soften', 'milk,', 'cooki', 'hand', 'closest', \"i'v\", 'homemade!'], ['less', 'calori', 'candi', 'bar!', 'i', 'take', 'it.', 'i', 'pleasant', 'surpris', 'tast', 'cookie.', 'i', 'thought', 'much', 'flavor', 'does.', 'the', 'spice', 'cooki', 'raisin', 'make', 'delici', 'treat.', 'now', 'soft', 'bake', 'cooki', 'tad', 'bit', 'dry.', 'it', 'still', 'edibl', 'good.', 'i', 'pick', 'box', 'available.'], ['got', 'free', 'sampl', 'cooki', '@influenst', 'mom', 'voxbox.', 'these', 'cooki', 'great', 'soft', 'chewi', 'left', 'want', 'more!'], ['i', 'given', 'sampl', 'quaker', 'chewi', 'oatmeal', 'cooki', 'influenster.', 'i', 'enjoy', 'tast', 'textur', 'cookie.', 'i', 'buy', 'sale', 'i', 'coupon', 'use.'], ['there', 'one', 'thing', 'i', 'love,', 'i', 'love', 'eat', 'someth', 'absolut', 'delici', 'know', 'i', 'eat', 'actual', 'healthi', 'jampack', 'full', 'nutrients!!!', 'i', 'receiv', 'sampl', 'quaker', 'soft', 'bake', 'oatmeal', 'cooki', 'influenst', 'delicious,', 'know', 'else?', 'my', 'littl', 'sweet', 'tooth', 'diva,', 'love', 'too,', 'i', 'know', 'took', 'made', 'disappear', 'like', 'magic!', 'you', 'want', 'healthi', 'treat', 'kid', 'love', 'enjoy', 'too,', 'definit', 'must', 'try.'], ['greta', 'cooki', 'amaz', 'nutrit', 'them.', 'would', 'definit', 'purchas', 'product.', ',y', 'favorit', 'part', 'delici', 'oatmeal', 'put', 'them.'], ['these', 'good.', 'nice', 'soft.', 'would', 'sure', 'get', 'again.', 'sinc', 'packag', 'individu', 'nice', 'travel.', 'a', 'great', 'snack.'], ['i', 'receiv', 'cooki', 'tri', 'influenst', 'delicious!', 'so', 'soft', 'yummi', 'small', 'like', 'store', 'bought', 'cooki', 'are.', 'they', 'tast', 'homemad', 'whole', 'famili', 'love', 'them!'], ['we', 'receiv', 'tri', 'fantast', 'husband', 'love', 'oatmeal', 'raisin', 'get', 'enough!', 'i', 'think', 'verdict', 'fantast', 'definit', 'buy', 'more!'], ['like', 'flavor', 'wish', 'oatmeal', 'cookie.', 'but', 'like', 'soft', 'was!!'], ['i', 'love', 'soft', 'cooki', 'keen', 'oatmeal', 'i', 'buy', 'flavor.', 'kid', 'love', 'cookie!'], [\"i'v\", 'alway', 'lookout', 'handi', 'snack', 'teenag', 'son.', 'love', 'soft', 'cookies,', 'i', 'thrill', 'see', 'soft', 'bake', 'oatmeal', 'cooki', 'master', 'oatmeal.', 'my', 'expect', 'high.<br', '/><br', '/>this', 'good', 'cookie,', 'great', 'one,', 'i', 'littl', 'disappointed.', 'the', 'consist', 'excellent,', 'would', 'want', 'soft', 'bake', 'cookie.', 'and', 'defint', 'enough', 'snack', '-', '1.48', 'oz', '170', 'calori', '-', 'that', 'plenty.', 'the', 'raisins,', 'outstanding.', 'but', 'cooki', 'great', 'tasting.', 'i', 'want', 'bigger', 'hunk', 'oatmeal--', 'texture,', 'aftertast', 'preservatives.'], ['the', 'soft', 'bake', 'oatmeal', 'cooki', 'may', 'best', 'oatmeal', 'cooki', 'eat', 'homemade.', 'they', 'well', 'bake', 'point', 'spent', 'anoth', 'minut', 'two', 'oven', 'may', 'burnt', '(which', 'exact', 'i', 'like', 'cookies).', 'and', 'even', 'though', 'soft,', 'firm', 'enough', 'crumbl', 'hand.', 'and', 'enough', 'raisin', 'least', 'one', 'everi', 'bite.', 'on', 'flip', 'side,', 'ingredi', 'list', 'bit', 'lengthi', 'ingredi', 'i', 'cannot', 'pronounc', '(is', 'red', 'flag', 'me).'], ['nice', 'flavor,', '70', 'calori', 'per', 'cookie;', 'quaker', 'soft', 'bake', 'oatmeal', 'cooki', 'tasty.', 'but', 'someth', 'get', 'over', 'excit', 'about.', 'if', 'oatmeal', 'cooki', 'definit', 'snack', 'nirvana,', 'might', 'find', 'well', 'worth', 'trying.'], ['these', 'cooki', 'hit', 'everyon', 'famili', 'oldest', '(35)', 'youngest', '(17', 'months.)', 'the', 'cooki', 'soft', 'tasty.', 'each', 'cooki', 'full', 'raisins,', 'still', 'retain', '\"oatmeal\"', 'taste.', 'they', 'size', 'perfectly,', 'one', 'cooki', 'big', 'enough', 'satisfi', 'crave', 'without', 'eat', 'half', 'box.', 'my', 'complaint', 'crumbly.', 'this', 'fine', '17', 'month', 'old', 'twins,', 'still', 'teeth,', 'troubl', 'bite', 'chew', 'hard', 'cookies.', 'i', 'problem', 'crumbl', 'texture,', 'i', 'tri', 'dip', 'cooki', 'glass', 'milk,', 'big', 'chunk', 'broke', 'fell', 'bottom', 'glass,', 'turn', 'ined', 'mush.', 'asid', 'one', 'complaint,', 'i', 'noth', 'bad', 'say', 'yummi', 'cookies.'], ['these', 'delicious,', 'question.', 'they', 'seem', 'achiev', 'perfect', 'level', 'sweetness,', 'unlik', 'cooki', 'lot', 'sugari', 'tasting.', 'kudos.<br', '/><br', '/>there', 'also', 'plenti', 'raisins,', 'least', 'part', 'sweet', 'come', 'natur', 'source.<br', '/><br', '/>mi', 'complaint', 'cooki', 'surpris', 'dry.', 'they', 'well', 'packaged,', 'i', 'think', 'problem.', 'mayb', 'made', 'way.', 'but', \"i'v\", 'also', 'heard', 'product', 'great', 'order', 'mail', 'hot', 'summer', 'months,', 'may', 'dri', 'out.', 'i', 'know', 'mine', 'probabl', 'spent', 'least', 'hour', 'porch', '90', 'degre', 'weather.', 'dunk', 'cooki', 'tea', 'milk,', 'microwav', '15', 'second', 'help', 'lot.<br', '/><br', '/>otherwise,', 'yummi', 'seem', 'healthi', 'choices.'], ['these', 'cooki', 'pretti', 'good.', 'they', 'soft', 'flavorful.', 'they', 'amaz', 'good', 'homemade,', 'packag', 'cooki', 'is?', 'these', 'better', 'packag', 'cooki', 'tried,', 'nutrit', 'inform', 'horribl', 'either.'], ['these', 'cooki', 'soft,', 'crumbl', 'like', 'mani', 'mass-produc', '\"soft\"', 'cookies.', 'they', 'good', 'amount', 'raisin', 'slight', 'oatmeal-spic', 'flavor.', 'a', 'plus', 'individu', 'wrappings,', 'good', 'take', 'outing,', 'pack', 'school', 'lunch', 'even', 'sell', 'bake', 'sale.', \"don't\", 'expect', 'chewi', 'intens', 'oat', 'flavor', 'bakeri', 'homemad', 'cookies,', 'store', 'shelf', 'cooki', 'go,', \"i'v\", 'wors', '(chip', 'ahoy', '\"chewi', 'gooey\"', 'instance).'], ['these', 'pretti', 'tasteless,', 'textur', 'wrong.<br', '/><br', '/>an', 'oatmeal', 'cooki', 'good', 'texture,', 'bite', 'someth', 'littl', 'crunchy.', 'while', 'i', 'understand', '\"soft-baked\",', 'i', 'still', 'expect', 'differenti', 'outer', 'edg', 'insid', 'cookie.', 'there', 'none.', 'they', 'tast', 'good.<br', '/><br', '/>i', 'ate', 'one,', 'husband', 'ate', 'one,', 'rest', 'still', 'sit', 'box', 'counter.'], ['i', 'love', 'tast', 'textur', 'cookie.', 'it', 'somehow', 'simultan', 'soft', 'dri', 'gritty.', 'the', 'tast', 'noth', 'remarkable.', 'and,', 'particular', 'healthy-', 'bad,', 'stat', 'arent', 'great', 'one', 'small-ish', 'cookie.<br', '/><br', '/>give', 'try,', 'may', 'like', 'it,', 'i', 'disappointed.', 'i', 'recommend', 'bel', 'vita', 'biscuit', 'healthier-', 'tastier-', 'cooki', 'alternative.'], ['for', 'product', 'like', 'this,', 'pretti', 'good.', 'soft,', 'tasty,', 'seem', 'fresh.', 'they', 'last', 'long', 'house.', 'i', 'thought', 'bit', 'sweet,', 'kid', 'love', 'them.', \"i'd\", 'rather', 'eat', 'home-made,', 'next', 'best', 'thing.'], ['quaker', 'cooki', 'alway', 'one', 'favorit', 'disapoint.', 'these', 'cooki', 'delicious!', 'they', 'soft', 'chewi', 'scrumptious.', 'my', 'kid', 'love', 'them,', 'i', 'love', 'them,', 'definit', 'shop', 'list', ':)'], ['i', 'receiv', 'complimentari', 'sampl', 'influenst', 'tri', 'quaker', 'cookie.', 'it', 'soft', 'amaz', 'delicious.', 'my', 'daughter', 'love', 'well.', 'will', 'definat', 'purchas', 'future.'], ['i', 'receiv', 'oatmeal', 'raisin', 'cooki', 'influenst', 'delicious!', 'they', 'soft', 'moist', 'i', 'definit', 'get', 'futur', 'family!'], ['i', 'receiv', 'sampl', 'cooki', 'oh', 'good', 'let', 'down.', 'it', 'delici', 'tast', 'lot', 'like', 'homemad', 'cooki', 'make', 'yourself!', 'i', 'love', 'soft', 'i', 'prefer', 'soft', 'crunchi', 'cookies.', \"i'm\", 'definit', 'interest', 'check', 'differ', 'flavor', 'offer.'], ['quaker', 'soft', 'bake', 'oatmeal', 'cooki', 'super', 'good!!', 'i', 'think', 'everyon', 'tri', 'out!!', 'bad', 'snack', 'health', 'wise!!'], ['reciev', 'influenst', 'asolut', 'feel', 'love,', 'yummy.', 'famili', 'deffin', 'get', 'these!', 'absolut', 'recommend', 'these.'], ['we', 'love', 'quaker', 'soft', 'bake', 'cooki', 'hous', 'hold!', 'they', 'great', 'everyone.', 'my', 'son', 'first', 'cooki', 'wuaker', 'soft', 'bake', 'oatmeal', 'cooki', 'i', 'got', 'mom', 'voxbox', 'influenster.', 'will', 'buy', 'alot', 'these!'], ['i', 'got', 'sampl', 'cooki', 'influenster.', 'i', 'say', 'soooooooo', 'delicious.', 'i', 'love', 'oatmeal', 'cooki', 'even', 'though', 'i', 'alway', 'use', 'quaker', 'oat', 'never', 'come', 'soft', 'delici', 'cooki', 'was.', 'forget', 'baking,', \"i'm\", 'buy', 'onw.'], ['i', 'receiv', 'cooki', 'influenst', 'tri', 'review.', 'mine', 'raisin', 'flavor', 'it', 'yummy!', 'i', 'would', 'recommend', 'cooki', 'base', 'price', ',', 'easi', 'find', 'purchase,', 'flavor/', 'softness!', 'as', 'close', 'homemad', 'get', 'without', 'work!', 'and', 'reason', 'healthi', 'well!', 'yummy!'], ['i', 'love', 'quaker', 'soft', 'bake', 'oatmeal', 'cooki', 'i', 'got', 'test', 'recently!', 'the', 'spice', 'cooki', 'perfect,', 'flavor', 'better', 'homemade!', \"i'm\", 'oatmeal', 'raisin', 'cooki', 'eater,', 'soft', 'delish', 'cooki', 'i', 'truli', 'enjoyed!'], ['i', 'reciev', 'cooki', 'sampl', 'complimentari', 'test', 'review', 'influenster.<br', '/><br', '/>i', 'let', 'neighborhood', 'kid', 'test', 'out.', '(see', 'pictur', 'below)', '.', 'it', 'easi', 'open', 'love', 'cooki', 'itself.', 'they', 'ask', 'go', 'buy', 'snacks.', 'here', 'inform', 'cooki'], ['this', 'one', 'best', 'soft', 'cooki', \"i'v\", 'store', 'brought.', 'i', 'big', 'fan', 'raisin', 'cooki', 'made', 'forget', 'them.', 'if', 'think', 'buy', 'these,', 'good', 'buy.', 'a', 'great', 'snack', 'adult', 'children.'], ['i', 'desper', 'someth', 'eat', 'rush', 'rush', 'rush', 'hous', 'famili', 'emergency.', 'i', 'eaten', 'lunch', 'yet', 'i', 'grab', 'one', 'cooki', 'head', 'door.', 'as', 'i', 'drove', 'pick', 'son', 'school,', 'i', 'ate', 'cooki', 'surpris', 'satisfi', 'i', 'was.', 'no', 'growl', 'stomach', 'pains.', 'and', 'full', 'last', 'dinner!'], ['these', 'quaker', 'cooki', 'great,', 'easi', 'carri', 'around', 'make', 'great', 'snack', 'run.'], ['i', 'receiv', 'sampl', 'quaker', 'oatmeal', 'raisin', 'soft', 'bake', 'cooki', '(courtesi', 'influenster.com)', 'month', 'ago', 'sinc', 'i', 'purchas', 'oatmeal', 'cookie.', 'i', 'love', 'import', 'daughter', 'love', 'them.', 'these', 'make', 'perfect', 'snack', 'lunch,', 'day', 'park', 'beach,', 'midnight', 'snack.', 'best', 'part', 'healthi', 'make', 'feel', 'bad', '\"cheating\"', 'littl', 'diet.', 'there', 'much', 'say', 'sum', 'up....they', 'delicious!!!'], ['i', 'love', 'yummy.', 'i', 'go', 'buy', 'box', 'write', 'i', 'got', 'free', 'sampl', 'thru', 'influenster.com.', 'my', 'kid', 'love', 'dont', 'last', 'hous', 'yummi', 'thye', 'are!!!!'], ['anyon', 'look', 'quick,', 'delicious,', 'healthi', 'snack', 'definit', 'put', 'shop', 'list.', 'they', 'come', 'individu', 'wrap', 'make', 'perfect', 'take', 'along', 'run', 'around', 'fill', 'whole', 'grain', 'roll', 'oats.'], ['i', 'receiv', 'one', 'cooki', 'sampl', 'influenst', 'mom', 'voxbox.', 'i', 'think', \"i'd\", 'like', \"i'm\", 'fan', 'oatmeal', 'raisin', 'cookies.', 'the', 'plan', 'give', 'husband', 'love', 'them.', 'well,', 'could', 'get', 'it,', 'daughter', 'snatch', 'up.', 'she', 'like', 'raisin', 'love', 'cookie!', 'i', 'talk', 'give', 'bite', 'realli', 'good!', 'it', 'realli', 'soft,', 'dry.', 'i', 'tri', 'find', 'store', 'buy', 'far', 'luck.'], ['i', 'receiv', 'sampl', 'summer', 'mom', 'voxbox', 'influenst', 'soon', 'open', 'everyon', 'want', 'piec', 'share!', 'one', 'cooki', \"enough...i'l\", 'buy', 'more..they', 'soft', 'tast', 'like', 'fresh', 'baked..not', 'over', 'sweet', 'raisin', 'plump', 'soft...high', 'recommend!'], ['wow', 'i', 'expect', 'like', 'much', 'i', 'didi', 'great.', 'even', 'pickiest', 'eater', 'daughter', 'ate', 'breakfast', 'hubbi', 'like', 'snack', 'work.'], ['as', 'mom', '2', 'teen', 'one', 'diabet', 'i', 'alway', 'look', 'healthi', 'low', 'carb', 'snack...i', 'found', 'yummmmi', 'realli', 'great', 'next', 'best', 'thing', 'homemade!!'], ['i', 'reciev', 'cooki', 'influenst', 'momvoxbox.', 'we', 'reciev', 'oatmeal', 'raisin', 'cookie.', 'it', 'soft', 'tast', 'sooo', 'good.', 'there', 'one', 'kid', 'i', 'share.', 'later', 'afternoon', 'i', 'went', 'bought', 'oatmeal', 'raisin', 'banana', 'nut.', 'love', 'them!'], ['let', 'say', 'wow!', 'i', 'littl', 'apprehens', 'first', 'prepackag', 'cooki', 'never', 'soft', 'chewi', 'advertis', 'quaker', 'cooki', 'amaz', 'soft,', 'chewi', 'tast', 'like', 'bake', 'fresh.', 'i', 'recommend', 'everyon', 'know'], ['quaker', 'soft', 'bake', 'oatmeal', 'raisin', 'cooki', 'good.', 'it', 'tast', 'homemade.', 'it', 'big', 'filling.', 'they', 'prefect', 'lunch', 'kid', 'too.', 'i', 'cant', 'wait', 'tri', 'flavors.'], ['i', 'love', 'cookie!', 'it', 'soft', 'good!', 'it', 'didnt', 'tast', 'like', 'prepackag', 'cooki', 'chemic', 'aftertaste.', 'i', 'bought', 'box', 'yesterday!'], ['i', 'love', 'cookies!', 'delicious,', 'chewy,', 'moist,', 'good', 'overall.', 'i', 'alway', 'quaker', 'fan.', 'i', 'love', 'products.'], ['my', 'favorit', 'cooki', 'oatmeal', 'raisin', 'cooki', 'bomb!', 'they', 'moist', 'chewy.', 'perfect', 'cup', 'tea,', 'snack', 'lunch,', 'anytime.', 'i', 'love', 'them.'], ['we', 'thought', 'cooki', 'tast', 'realli', 'good!', 'my', 'husband', 'kid', 'realli', 'like', 'them.i', 'love', 'differ', 'types.', 'we', 'certain', 'buy', 'again.'], ['it', 'aq', 'big', 'cooki', '&', 'doesnt', 'tast', 'like', 'ad', 'full', 'fillers.', 'it', 'actual', 'tast', 'pretti', 'homemad'], ['these', 'wonder', 'cookies.', 'delicious,', 'soft,', 'tast', 'homemade.', 'it', 'great', 'snack', 'go.', 'not', 'quick', 'easi', 'snack', 'kids,', 'healthi', 'too.'], ['this', 'best', 'soft', 'bake', 'cooki', 'ever', 'had.', 'high', 'suggest', 'give', 'cooki', 'tri', 'havent', 'already.'], ['i', 'hope', 'make', 'chocol', 'chip', 'next!!', 'these', 'cooki', 'wonderful!!', 'fresh,', 'tast', 'homemad', 'better', 'store', 'bought', 'cookie!'], ['i', 'worri', 'go', 'dri', '\"soft\"', 'cooki', 'claim', 'be,', 'amazing.', 'great', 'cinnamon', 'tast', 'remind', 'fresh', 'bake', 'cookies,', 'i', 'honest', 'expect', 'good!', 'i', 'forc', 'mani', 'friend', 'famili', 'tri', 'them,', 'love', 'well!!!<br', '/>if', 'love', 'oatmeal', 'raisin', 'cookies..you', 'love', 'these!'], ['my', 'daughter', 'ate', 'cooki', 'love', 'it.', 'she', 'state', 'soft', 'moist', 'sweet.', 'my', 'babi', 'also', 'like', 'cookie,', 'review', 'littl', 'underst', 'though.', 'he', 'coo', 'smile', 'tri', 'steal', 'sister.', 'i', 'definit', 'purchas', 'product', 'normal', 'grocery-shop', 'routine.', 'i', 'receiv', 'product', 'complimentari', 'test', 'review', 'purpos', 'influenster.', '@quaker', '#quakersoftbak', '@influenst'], ['i', 'realli', 'like', 'cookies.', 'my', 'daughter', 'love', 'well', 'special', 'treat', 'share', 'me.', 'a', 'littl', 'crumbl', 'get', 'real', 'soft', 'moist', 'cooki', 'one', 'chock', 'full', 'chemic', 'keep', 'cooki', 'fake,i', 'moist', 'chewy.'], ['i', 'love', 'cookies.', 'they', 'smell', 'tast', 'delicious.', 'the', 'balanc', 'sweet', 'perfect.', 'if', 'love', 'oatmeal', 'would', 'love', 'cookie.', 'i', 'recommend', 'it.'], ['<span', 'class=\"tiny\">', 'length::', '1:21', 'mins<br', '/><br', '/></span>i', 'receiv', 'product', 'complimentari', 'test', 'purpos', 'influenster.', 'the', 'cooki', 'delici', 'accord', 'grandson', 'elijah', '(see', 'video).', 'i', 'diet', 'i', 'eat', 'love', 'it!', 'it', 'chewi', 'fill', 'raisins.', 'i', 'definit', 'buy', 'future!<br', '/><br', '/>@influenster<br', '/>@quaker<br', '/>hashtag:', '#quakersoftbaked<br', '/>quaker', 'facebook', 'page:', '[...]'], ['@influenst', '@quaker', 'kid', 'fight', 'them;', 'homemad', 'tast', 'great;', 'alway', 'trustworthi', 'company.', 'been', 'buy', '2', 'box', 'week', 'sinc', 'first', 'sampl', 'them!'], ['quaker', 'soft', 'bake', 'cooki', 'delicious.', 'i', 'love', 'consistency,', 'texture,', 'taste,', 'qualiti', 'ingredients.', 'it', 'quick,', 'easy,', 'healthi', 'snack', 'go', 'home.', 'the', 'raisin', 'good', 'size', 'juicy.', 'this', 'probabl', 'best', 'soft', 'oatmeal', 'cooki', 'i', 'long', 'time.', 'definit', 'would', 'buy', 'again.'], ['almost', 'tast', 'fresh', 'bake', 'homemade.', 'and', 'size', 'one', 'cooki', 'leav', 'want', 'more,', 'perfect', 'littl', 'treat.', 'i', 'would', 'tri', 'chocol', 'almond', 'one', 'next', 'time.'], ['i', 'thought', 'would', 'dri', 'like', 'oatmeal', 'cooki', 'buy!', 'not', 'case', 'delici', 'beauties!', 'my', 'kid', \"can't\", 'get', 'enough', ':)', 'they', 'shop', 'list', 'good!'], ['ive', 'tire', 'got', 'one', 'influenst', 'voxbox', '2012', 'month', 'yummy-', 'alittl', 'dri', 'though.'], ['i', 'realli', 'never', 'love', 'raisin', 'oatmeal', 'cooki', 'moist', 'tasty.', 'buy', 'littl', 'ones.'], ['these', 'de-lish-ous!', 'they', 'moist', 'chewy,', 'an', 'make', 'great', 'snack', 'ant', 'time', 'day.', 'my', 'kid', 'love', 'alway', 'purs', 'go!'], ['receiv', 'cooki', '1st', 'influenst', 'voxbox', '2012', 'month,', 'you', 'must', 'buy', 'tri', 'them.', 'the', 'cooki', 'isnt', 'sweet,', 'soft', 'raisin', 'right.', 'this', 'must', 'buy'], ['if', 'like', 'soft,', 'chewi', 'cooki', 'lot', 'raisins,', 'cooki', 'you.', 'my', 'husband', 'kid', 'love', 'i', 'love', \"i'm\", 'ask', 'bake', 'often', 'house.'], ['i', 'care', 'oatmeal', 'cooki', '+', 'i', 'actual', 'go', 'give', 'husband.', 'i', 'kind', 'feel', 'guilti', 'i', 'lol.', 'but', 'realli', 'soft', '+', 'yummy.', 'make', 'reconsid', 'keep', 'stock', 'chocol', 'chip', 'cookies.'], ['this', 'soft', 'yummy!', 'my', 'kid', 'absolut', 'love', 'perfect', 'throw', 'bag', 'lunch', 'box', 'go', 'treat.'], ['i', 'gave', 'product', '4', 'star', 'use', 'me.', 'the', 'kid', 'love', 'huge', 'fan', 'oatmeal', 'cookies!', 'i', 'thought', 'tasty;', 'however,', \"i'm\", 'like', 'purchas', 'frequenc', 'i', 'tri', 'avoid', 'packag', 'foods,', 'store', 'lot', 'sweet', 'hous', 'kids.', 'i', 'would', 'howev', 'choos', 'competition.', '(i', 'got', 'product', 'free', 'trial', 'influenster.com)'], ['love', 'cooki', 'soft', 'chewi', 'oh', 'yummy!!!', 'fan', 'raisin', 'cooki', 'goood', 'husband', 'love'], ['tri', 'product', 'recent', 'pleasant', 'surprised.', 'they', 'tast', 'homemad', 'over', 'processed.', 'would', 'definit', 'buy', 'again.'], ['receiv', 'influenster.com', 'got', 'sampl', 'it..', 'person', 'love', 'quaker,', 'good,', 'definit', 'recommend', 'product'], ['i', 'picki', 'three', 'year', 'old', 'daughter.', 'i', \"can't\", 'get', 'eat', 'raisins,', 'love', 'cookie!', 'it', 'extrem', 'soft', 'chewi', 'tast', 'like', 'home', 'made.', 'i', 'would', 'definit', 'recommend', 'quaker', 'soft', 'bake', 'oatmeal', 'cookie!', ':)'], ['i', 'receiv', 'quaker', 'soft', 'bake', 'oatmeal', 'raisin', 'cooki', 'influenst', 'tri', 'review.', 'i', 'share', 'son', 'like', 'oatmeal', 'love', 'it!', 'i', 'love', 'made', 'whole', 'grain', 'could', 'good', 'substitut', 'go', 'breakfast', 'i', 'run', 'behind.', 'the', 'flavo', 'good,', 'i', 'love', 'soft', 'texture,', 'i', 'realli', 'care', 'hard', 'cooki', 'one', 'perfect.', 'i', 'would', 'recomeend', 'product', 'other', 'probabl', 'purchas', 'family.'], ['these', 'amaz', 'cooki', 'ever!', 'i', 'mine', 'bit', 'warm', 'sun', 'like', 'rite', 'goodness!', 'heaven', 'baggie!'], ['these', 'perfect', 'quick', 'breakfast', 'go', 'snack.', 'my', 'littl', 'man', 'love', 'it!', 'i', 'would', 'love', 'see', 'oatmeal', 'one', 'without', 'raisins.', 'we', 'definit', 'get', 'again.'], ['i', 'realli', 'never', 'like', 'oatmeal', 'cooki', 'i', 'tri', 'one.', 'and', 'i', 'got', 'say', 'great!', 'great', 'tast', 'wasnt', 'cook', 'right.'], ['this', 'delici', 'cooki', 'tasted.', 'i', 'thought', 'go', 'tast', 'like', 'store', 'bought', 'cookies.', 'it', 'moist,', 'chewy,and', 'delicious!', 'i', 'would', 'definit', 'buy', 'product', 'again.'], ['so,', 'i', 'got', 'sampl', 'product', 'mail.just', 'open', 'box', 'quaker', 'soft', 'bake', 'oatmeal', 'raisin', 'cookie,', 'gone.', 'my', 'son', 'eat', 'almost', 'tri', 'littl', 'bit.', 'when', 'finish', 'star', 'cri', 'buy', 'store.', 'famili', 'favorit', 'eat', 'milk.', 'it', 'soft', 'like', 'cake,', 'love', 'it,', 'health', 'kids.', 'tri', 'one,', 'dont', 'regret', 'it!'], ['so,', 'i', 'got', 'sampl', 'product', 'mail.', 'after', 'hour', 'i', 'thought', 'well', 'mayb', \"i'll\", 'tri', 'happen', 'quaker', 'soft', 'bake', 'oatmeal', 'raisin', 'cookie,', 'cooki', 'gone.', 'my', 'daughter', 'happen', '\"go', 'missing\"', 'around', 'time,', 'mommi', 'girl', 'never', 'leav', 'side.', 'so', \"i'm\", 'search', 'her,', 'i', 'find', 'bathroom', 'shower', 'cooki', 'almost', 'ate', 'up.', 'i', 'would', 'gave', 'anyway', 'asked,', 'hit', 'ate', 'herself!', 'my', 'daughter', 'extrem', 'finicki', 'come', 'snacks,', 'gobbl', 'right', 'up.', 'a', 'cooki', \"can't\", 'go', 'wrong', 'good', 'too!'], ['i', 'receiv', 'free', 'sampl', 'cooki', 'mom', 'voxbox', 'thank', 'influenst', 'quaker', 'impressed!', 'the', 'cooki', 'soft,', 'chewi', 'tast', 'great!', 'microwav', 'cooki', 'second', 'make', 'even', 'better.'], ['i', 'dont', 'usual', 'eat', 'oatmeal', 'cooki', 'soft', 'delicious,mi', 'kid', 'even', 'like', 'picki'], ['i', 'receiv', 'sampl', 'cooki', 'influenst', 'part', 'mom', 'voxbox', 'man,', 'good!', 'i', 'expect', 'mediocr', 'cooki', 'pleasant', 'surprised.', 'it', 'melt-in-your', 'mouth', 'soft', 'so,', 'tasty!', 'i', 'definit', 'pick', 'box', 'store.'], ['thank', 'influenst', 'abl', 'tri', 'product', 'mom', 'voxbox.', 'pleasant', 'surpris', 'tast', 'baker', 'prefer', 'homemad', 'cooki', 'store', 'bought', 'ones.'], ['these', 'cooki', 'delicious.', 'as', 'busi', 'mom', 'i', 'time', 'make', 'home', 'made', 'cooki', 'often,', 'delicious.', 'they', 'tast', 'home', 'made.', 'they', 'sweet', 'perfect', 'oatmeal', 'raisin', 'cooki', 'perfect', 'soft.', 'these', 'perfect', 'lunch', 'box', 'treat', 'road', 'trip.', 'i', 'definit', 'purchas', 'tri', 'flavors.'], ['my', 'kid', 'love', 'cooki', 'perfect', 'go.', 'i', 'buy', 'again.', 'great', 'product.'], ['we', 'abl', 'tri', 'raisin', 'cooki', 'yummy!', 'both', 'kid', 'love', 'rasin', 'realli', 'enjoy', 'cookie.', 'so', 'much', 'healthier', 'chocolate!', 'will', 'buy', 'lot', 'more.'], ['i', 'love', 'quaker', 'soft', 'bake', 'cookies!', 'they', 'tast', 'like', 'homemade!', 'so', 'soft', 'yummy!', 'gotta', 'run', 'get', 'more!'], ['i', 'love', 'cookies!', 'they', 'chewi', 'moist,', 'raisin', 'hard', 'gummi', 'fresh', 'plump!', 'they', 'bring', 'back', 'memori', 'grandma', 'kitchen...'], ['these', 'new', 'quaker', 'soft', 'bake', 'cooki', 'amazing!', 'they', 'soft', 'tast', 'like', 'fresh', 'oven!', 'my', 'free', 'sampl', 'good', 'gone', 'i', 'could', 'even', 'share!', \"i'm\", 'pick', 'cooki', 'store', 'today', 'i', 'share', 'whole', 'family!', 'i', 'also', 'love', 'individu', 'packag', 'send', 'kid', 'whoever', 'go!', 'yummy!!'], ['not', 'fan', 'oatmeal', 'cooki', 'yummy........', 'tasti', 'fresh', 'like', 'i', 'bake', 'fresh', 'oven.'], ['these', 'bar', 'yummy!', 'i', 'look', 'night', 'snack', 'grab', 'mom', 'box', 'influenst', 'hit', 'spot!'], ['i', 'abl', 'tri', 'cooki', '@influenst', '@quaker', 'oats.', 'this', 'great', 'soft', 'chewi', 'cookie.', 'i', 'love', 'much', 'i', 'went', 'bought', 'anoth', 'box', 'chocol', 'almond', 'flavor.', 'i', 'definit', 'buy', 'more!!'], ['i', 'crazi', 'cooki', 'begin', 'with.', 'i', 'howev', 'prefer', 'oatmeal', 'raisin', 'kind.', 'i', 'like', 'cooki', 'well', 'done', 'toasty,', 'wherea', 'super', 'soft.', 'they', 'tast', 'great', 'preference.', 'my', 'son', 'love', ':d'], ['best', 'singl', 'serv', 'cooki', 'ever', '!!', 'brand', 'wierd', 'tast', 'think', 'packeging,', 'taste,', 'tast', 'amaz', 'cooki'], ['i', 'absolut', 'love', 'cookie.', 'a', 'great', 'nutrit', 'treat', 'palate!!!', 'perfect', 'quick', 'go', 'snack.'], ['i', 'love', 'cooki', 'becuas', 'soft', 'chewy.', 'it', 'great', 'road', 'need', 'quick', 'snack', 'work', 'kid', 'game.', 'also', 'make', 'great', 'treat', 'kid'], ['i', 'receiv', 'sampl', 'cooki', 'love', 'it.', 'it', 'great', 'snack', 'part', 'groceri', 'list.'], ['these', 'cooki', 'absolut', 'delicious,', 'i', 'receiv', 'one', 'review', 'purpos', 'influenster.com.', 'i', 'took', 'bite', 'gave', 'rest', 'son,', 'gone', 'i', 'even', 'chanc', 'chang', 'mind.', 'lol', 'one', 'moistest,', 'delici', 'cooki', 'i', 'ever', 'had,', 'hand', 'down.', 'the', 'drawback', 'i', 'found', 'cooki', 'broken', '5', 'pieces,', 'sure', 'happened,', 'effect', 'flavor!'], ['these', 'cooki', 'good.', 'they', 'tast', 'homemade!', 'veri', 'tasti', 'healthy!', 'usual', 'i', 'think', 'oatmeal', 'i', 'think', 'quaker...i', 'wrong!i', 'got', 'free', 'sampl', 'influenster!', ':)', 'i', 'buy', 'sure!'], ['when', 'i', 'tri', 'cooki', 'i', 'notic', 'soft,', 'moist,', 'chewy.', 'i', 'usual', 'like', 'raisins,', 'good', 'this.', 'they', 'actual', 'tast', 'like', 'homemad', 'me.', 'and', 'i', 'grew', 'grandmoth', 'alway', 'fresh', 'bake', 'cooki', 'kitchen.', 'have', 'three', 'kid', 'own,', 'cours', 'i', 'share', 'them.', 'my', 'son', 'comment', 'cooki', 'was,', '\"that', 'realli', 'yummy,', 'mommy!\"', 'i', 'pretti', 'sure', 'purchas', 'futur', 'two', 'boy', 'keep', 'ask', 'anoth', 'cooki', 'voxbox.<br', '/>i', 'receiv', 'sampl', 'quaker', 'soft', 'bake', 'oatmeal', 'cooki', 'raisin', 'momvoxbox', 'influenst', 'review', 'purpos', 'only.', 'all', 'opinion', 'own.'], ['this', 'cooki', 'good,', 'i', 'receiv', 'sampl', 'influenst', 'i', 'open', 'it,', 'smell', 'like', 'homemad', 'cookie...it', 'tast', 'fresh', 'filling,', 'need', 'one', 'good', 'go!', 'i', 'buy', 'future!'], ['was', 'happi', 'i', 'receiv', 'quaker', 'soft', 'bake', 'oatmeal', 'raisin', 'cooki', 'mom', 'voxbox', 'influenst', 'try!', 'i', 'seen', 'commerci', 'never', 'rememb', 'buy', 'went', 'market,', 'i', 'definit', 'rememb', 'buy', 'now!!', 'what', 'delici', 'cooki', 'good', 'too!', 'me', 'son', 'enjoy', 'cooki', 'lunch', 'hit', 'us.', 'it', 'soft', 'flavor', 'cooki', 'fill', 'left', 'satisfied.', 'i', 'definit', 'tri', 'varieti', 'quaker', 'soft', 'bake', 'oatmeal', 'cooki', 'recommend', 'hall', 'friends!'], ['these', 'cooki', 'good.', 'my', 'daughter', 'tri', 'sampl', 'i', 'went', 'bought', 'box.', 'the', 'whole', 'famili', 'love', 'them.', 'they', 'soft', 'moist.', 'it', 'new', 'snack', 'household!'], ['i', 'receiv', 'oatmeal', 'raisin', 'cooki', 'influenst', 'box', 'i', 'love', 'it!', 'tast', 'like', 'homemad', 'cookie,', 'realli', 'fresh', 'chewy.', 'i', 'would', 'definit', 'buy', 'more!'], ['these', 'cooki', 'great', 'yummy!', 'took', 'candi', 'crave', 'away!', 'sure', 'buy', 'this!', 'the', 'rasin', 'great', 'fufil'], ['i', 'receiv', 'quaker', 'soft', 'bake', 'oatmeal', 'raisin', 'cooki', 'sampl', 'mail.', 'the', 'cooki', 'realli', 'soft', 'nice', 'size.', 'the', 'raisin', 'tast', 'fresh', 'like', 'eat', 'fresh', 'bake', 'cookie;', 'could', 'even', 'put', 'microwav', 'bit', 'get', 'fresh', 'oven', 'bake', 'feel.'], ['receiv', 'influenst', 'box', 'son', 'love', 'it!', ':', ')', 'had', 'purchas', 'more.', 'it', 'nice', 'abl', 'tri', 'someth', 'see', 'i', 'like', 'first', 'purchas', 'it.'], ['these', 'cooki', 'delicious!', 'they', 'nice', 'soft', 'could', 'even', 'give', '2', 'year', 'old.'], ['this', 'morn', 'i', 'gave', 'son', 'quaker', 'oat', 'rasin', 'cooki', 'breakfast.', 'when', 'took', 'packag', 'smell', 'amazing.', 'i', 'wish', 'i', 'abl', 'tri', 'him,', 'i', 'celiac', 'gluten', 'free.', 'howev', 'one', 'year', 'old', 'son', 'gobbl', 'up.', 'it', 'super', 'soft', 'chewy.', 'there', 'visibl', 'oat', 'lot', 'rasins.', 'i', 'like', 'healthy.', 'i', 'mind', 'give', 'breakfast', 'treat', 'quaker', 'oats!'], ['i', 'usual', 'like', 'oatmeal', 'raisin', 'cookies,', 'influenst', 'sent', 'cooki', 'try,', 'i', 'did,', 'i', 'pleasant', 'surpris', 'find', 'i', 'love', 'it!', 'so', 'great,', 'soft,', 'delicious.', 'i', 'definit', 'recommend', 'everyon', 'tri', 'cookie.'], ['i', 'receiv', 'quaker', 'soft', 'bake', 'cooki', 'influenster.', 'this', 'first', 'time', 'tri', 'ohhh', 'my!!', 'it', 'fresh', 'tasting.', 'veri', 'chewi', 'bust', 'flavor.'], ['i', 'love', 'cookies!!!!', 'they', 'soft', 'actual', 'tast', 'like', 'homemad', 'cooki', 'grandma', 'would', 'bake.', 'which', 'great', 'compliment', 'quaker', 'consid', 'i', 'think', 'grandma', 'best', 'cooki', 'baker', 'ever!', 'i', 'also', 'like', 'cooki', 'good', 'snack', 'super', 'high', 'calories.', 'i', 'sure', 'buy', 'cooki', 'recommend', 'friends.'], ['i', 'receiv', 'influenst', 'mom', 'voxbox.', 'when', 'i', 'offer', 'kid', 'tri', 'quaker', 'oatmeal', 'soft', 'bake', 'cooki', 'i', 'liter', 'cri', 'babi', 'hands.', 'she', 'not', 'want', 'anyon', 'eat', 'cooki', 'say', '\"i', 'mine!\"', 'even', 'get', 'new', 'box', '\"it', 'mine\"', 'hide', 'it.', 'thanks!!', 'annett', 'g'], ['i', 'know', 'say', '\"soft', 'baked\"', 'often', 'packag', 'cooki', 'realli', 'soft?', 'well,', 'super', 'soft!', 'the', 'first', 'thing', 'i', 'notic', 'i', 'open', 'packag', 'cooki', 'soft', 'moist', 'broke', 'apart', 'littl', 'effort.', 'i', 'share', 'cooki', 'preschool', 'daughter.', 'we', 'love', 'taste.', \"i'm\", 'usual', 'oatmeal', 'cooki', 'fan,', 'i', 'realli', 'like', 'cookie.', 'my', 'daughter', 'ask', 'buy', 'them.', 'that', 'make', 'winner,', 'ha!', 'these', 'great', 'cooki', 'becom', 'stapl', 'pantry.'], ['we', 'love', 'these!', 'they', 'soft', 'tasty.', 'they', 'healthi', 'fill', 'snack.', 'so', 'easi', 'stick', 'bag', 'enjoy', 'go!'], ['these', 'great!', 'these', 'cooki', 'soft', 'tasty,', 'almost', 'like', 'fresh', 'baked.', 'they', 'much', 'larger', 'i', 'expected.', 'great', 'product,', 'disappointed.'], ['this', 'cooki', 'soft,', 'delicious.', 'i', 'definit', 'plan', 'buy', 'more!', 'perfect', 'snack', 'go', 'home', 'glass', 'milk.'], ['the', 'cooki', 'amazing,', 'soft.', 'my', 'daughter', 'age', '4', 'year', 'old', '10', 'month', 'resist', 'them.', 'i', 'buy', 'anoth', 'box', 'right', 'away.'], ['great,', 'tasti', 'delicisous.', 'we', 'even', 'tri', 'banana', 'nut', 'ones,', 'fantast', 'love', 'them.', 'my', 'kid', 'love', 'great', 'breakfast', 'go...'], ['the', 'quaker', 'soft', 'bake', 'oatmeal', 'cookie,', 'raisins,', 'great', 'tast', 'snack', 'give', 'full', 'feeling.', 'just', '2', 'cooki', 'give', 'satisfi', 'full', 'feeling.', 'sinc', 'made', 'oatmeal', 'raisins,', 'could', 'classifi', 'healthi', 'snack.', 'but', 'nutrit', 'breakdown,', 'would', 'better', 'snack', 'would', 'go', 'less', '5mg', 'cholesterol.', 'the', 'per', 'serv', 'content', 'cholesterol', '15mg,', 'sugar', '12g,', 'food,', 'moder', 'key.', 'nevertheless,', 'anyth', 'oatmeal', 'give', 'great', 'start', 'eating,', 'whether', 'maintain', 'healthi', 'lifestyl', 'start', 'one.'], ['chewy,', 'sweet', 'goodness.', 'these', 'cooki', 'right', 'alley.', 'i', 'even', 'like', 'individu', 'packaged--great', 'lunch', 'box', 'keep', 'cooki', 'monster', 'devour', 'entir', 'packag', 'one', 'sitting.', 'the', 'individu', 'cooki', 'huge', 'big', 'chewi', 'enough', 'satisfi', 'sweet', 'tooth', 'one', 'package.', 'they', 'over', 'sweet', 'overload', 'raisins--someon', 'must', 'studi', 'cookie-to-raisin', 'ratio', 'came', 'perfect', 'number.', \"i'll\", 'definit', 'much', 'again.'], ['this', 'interest', 'product', '-', 'textur', 'immedi', 'attract', 'quit', 'remark', 'given', 'packag', 'product,', 'flavor', 'quit', 'right.', 'there', 'sens', 'artifici', 'flavor', 'may', 'come', 'preserv', 'flavor', 'additives.', 'my', 'famili', 'ate', 'sampl', 'received,', 'real', 'drive', 'go', 'buy', 'box,', 'even', 'among', 'otherwis', 'enthusiast', 'cookie-', 'teens.', 'i', 'think', 'product', 'need', 'trip', 'back', 'draw', 'board', 'goal', 'authent', 'oatmeal', 'cooki', 'tast', 'texture.', 'sorry!'], ['as', 'lover', 'oatmeal', 'cooki', 'sinc', 'day', 'kid,', 'i', 'anxious', 'tri', 'well', 'known', 'brand.', 'i', 'alway', 'someon', 'stick', 'either', 'cheaper', 'brands,', 'kind', 'cooki', 'made', 'market', 'bakery.', 'person', 'i', 'think', 'latter', 'best', 'case', 'far', 'store', 'bought', 'concerned..', 'as', 'quaker', 'cooki', 'i', 'found', 'averag', 'taste.', 'the', 'box', 'i', 'got', 'held', 'fresh', 'cooki', 'individu', 'wrap', 'satisfi', 'flavor,', 'anyth', 'special.', 'person', 'i', 'think', 'heavier', 'cost', 'worth', 'famous', 'brand.', 'you', 'least', 'good', 'store', 'bought', 'brands,', 'much', 'better', 'opinion', 'buy', 'local', 'market', 'cookies.', 'on', 'hand', 'happen', 'big', 'fan', 'quaker', 'oat', 'cookies,', 'enjoy', 'particular', 'flavor', 'these,', 'buy', 'big', '12', 'pack', 'bad', 'deal', 'all.', 'the', 'cost', 'enough', 'get', 'free', 'shipping,', 'conveni', 'along', 'reason', 'price', 'make', 'sold', 'deal.', 'enjoy', 'favor..', ':', ')'], ['quaker', 'soft', 'bake', 'oatmeal', 'cooki', 'raisin', 'tast', 'pretti', 'darn', 'good.', 'the', 'draw', 'back', 'dry.', 'still,', 'much', 'better', 'mani', 'similar', 'cooki', 'made', 'companies,', 'make', 'product', 'even', 'drier', 'sweeter.', 'still,', 'cup', 'tea', 'coffe', 'make', 'pretti', 'good', 'snack', 'bit', 'dinner', 'treat.', 'i', 'disappoint', 'i', 'reach', 'box', 'cooki', 'lunch', 'realiz', \"i'd\", 'alreadi', 'eaten', 'all!'], [\"i'm\", 'alway', 'look-out', 'good', 'tasting,', 'individu', 'wrapped,', 'healthi', 'snack', 'i', 'toss', 'bag', 'quick', 'bite.', 'oatmeal', 'cooki', 'one', 'favorit', 'i', 'gave', 'try.<br', '/><br', '/>the', 'packag', 'fine', 'cooki', 'good', 'taste.', 'it', 'dri', 'textur', 'it,', 'oat-lik', 'all.', 'they', 'soft,', 'moist.', 'there', 'plenti', 'raisen', 'enough', 'spice', 'taste.', 'on', 'posit', 'side,', 'contain', 'fiber', 'cookies,', '170', 'calori', 'each,', 'littl', 'fattening.'], ['i', 'tri', 'one:', 'gave', 'two', 'bite', '(to', 'sure)', 'trash.', 'not', 'even', 'close', 'appetizing.', 'it', 'amazing,', 'someth', 'chewi', 'yet', 'powderi', 'dri', 'quit', 'tasteless', 'simultaneously?', 'quaker', 'r&d', 'figur', 'conundrum', 'produc', '\"cookies\".', 'i', 'assum', 'oat', 'bran', 'sinc', 'i', 'similar', 'experi', 'use', 'the', 'thing', '(e.g.,', 'pancakes).', 'however,', 'ever', 'is,', \"ain't\", 'good!', 'i', 'recommend', 'these,', 'even', 'sworn', 'enemies!'], ['this', 'pretti', 'good', 'cooki', 'term', 'tast', '/', 'flavor,', 'cooki', 'go', 'i', 'say', 'littl', 'dri', 'actual', 'cooki', 'part', 'moist', 'i', 'like', 'oatmeal', 'cooki', '(the', 'raisin', 'moist).', 'each', 'cooki', 'individu', 'wrap', 'vs.', 'open', 'whole', 'box', 'make', 'good', 'snack', 'take', 'edg', 'day.<br', '/><br', '/>each', 'cooki', '170', 'calori', '6', 'gram', 'fat', '(9%', 'recommend', 'daili', 'value)', '4', 'gram', 'dietari', 'fiber', '(16%', 'recommend', 'daili', 'value),', 'i', 'realli', 'want', 'eat', 'one', 'day!'], ['first', 'all,', 'i', 'like', 'cooki', 'individu', 'wrapped.', 'i', 'grab', 'one', 'stick', 'pocket', 'way', 'door', 'morning.<br', '/><br', '/>the', 'cooki', 'big', 'good', 'thickness.', 'they', 'soft', 'crumbly.', 'the', 'promis', 'raisin', 'most', 'small', 'bit', 'chop', 'raisin', 'realli', 'add', 'flavor', 'cookie.', 'i', 'would', 'like', 'whole', 'raisins.', 'the', 'tast', 'most', 'oatmeal', 'right', 'amount', 'cinnamon.', 'they', 'also', 'dry.', 'you', 'realli', 'need', 'accompani', 'beverag', 'these.', 'they', 'hearti', 'enough', 'one', 'make', 'good', 'snack.<br', '/><br', '/>while', 'i', 'would', 'never', 'mistak', 'mom', 'oatmeal', 'cooki', '(or', 'mine', 'matter)', 'bad', '\"store-bought.\"', 'if', 'like', 'oatmeal', 'cookies,', 'give', 'try.', 'just', 'drink', 'ready,', 'too.'], ['i', 'kind', 'shock', 'cooki', 'sweet', 'sinc', 'i', 'realli', 'enjoy', 'quaker', 'make', 'food', 'sweet', 'sweet.', 'these', 'individu', 'wrapped,', 'easi', 'go', 'keep', 'cooki', 'extra', 'fresh.', 'each', 'cooki', 'decent', 'size', 'ate', 'week', 'kept', 'softness.<br', '/><br', '/>for', 'me,', 'bit', 'sweet', 'i', 'big', 'sweet', 'eater.', 'i', 'actual', 'tast', 'oatmeal', 'much', 'raisins,', 'could', 'sweet', 'me.<br', '/><br', '/>it', 'still', 'yummi', 'i', 'would', 'get', 'i', 'realli', 'sweet', 'mood.'], ['i', 'love', 'cookies!', 'my', 'daughter', 'eat', 'right', 'up.', 'they', 'soft', 'tast', 'great.', 'i', 'like', 'softer', 'cooki', 'one', 'hit', 'whole', 'family.'], ['chock', 'full', 'sugar!', 'absolut', 'someth', 'i', 'would', 'serv', 'family.', 'obviously,', 'cooki', 'sugar', 'them,', 'seem', 'bit', 'excessive.'], ['i', 'recent', 'receiv', 'quaker', 'soft', 'bake', 'oatmeal', 'raisin', 'cooki', 'part', 'mom', 'voxbox', 'influenster.', 'i', 'littl', 'apprehens', 'give', 'cooki', 'two', '\"cooki', 'monsters\"', 'big', 'raisin', 'fans,', 'love', 'it!', 'the', 'textur', 'soft', 'chewi', 'gobbl', 'ask', 'more!', 'they', 'never', 'even', 'notic', 'raisins!', 'i', 'buy', 'special', 'treat', ':)'], ['i', 'got', 'mom', 'voxbox', 'influenster,', 'excit', 'tri', 'them!<br', '/>they', 'chewi', 'delish!', 'i', 'see', 'disappear', 'empti', 'box', 'sit', 'around!<br', '/><br', \"/>i'm\", 'fan', 'hard', 'crunchi', 'type', 'cookies,', 'right', 'alley!'], ['my', '3', '1/2', 'year', 'old', 'love', 'cookie!', 'we', 'share', \"i'm\", 'pretti', 'sure', 'would', 'eaten', 'whole', 'thing!', 'veri', 'soft', 'th', 'perfect', 'amount', 'sweetness-', 'over', 'sweet', 'like', 'oatmeal', 'cooki', 'tend', 'be.'], ['veri', 'soft', 'chewy!', 'love', 'homestyl', 'tast', 'cooki', 'nutrious!', 'definet', 'gotta', 'get', 'more!'], ['well,', 'let', 'start', 'say', 'cooki', 'soft', 'moist.', 'however,', 'i', 'realli', 'like', 'them.', 'they', 'sweet', '(which', 'matter', 'person', 'preference)', 'gritti', 'textur', 'them.'], ['these', 'cooki', 'delicious.', 'they', 'full', 'flavor', 'tast', 'moist', 'fresh.', 'my', 'kid', 'love', 'them!!!', 'my', 'expect', 'exceeded!'], ['this', 'cooki', 'one', 'best', 'cooki', 'tri', 'sinc', 'like', 'hard', 'crunchi', 'one', 'like', 'chip', 'ahoy', 'soft', 'bite', 'pull', 'make', 'want', 'more.', 'you', 'tast', 'ingred', 'none', 'hidden', 'good', 'amount', 'raisin', 'cookie.', 'i', 'buy', 'famili', 'long', 'make', 'them.'], ['quaker', 'soft', 'bake', 'cooki', 'tast', 'homemade,', 'i', 'like', 'made', 'whole', 'grains,', 'low', 'calori', '&', 'healthi', 'yummi', 'good', 'everyon', 'famili', 'enjoy.', 'i', 'feel', 'good', 'buy', 'ingredi', 'simpl', '&', 'i', 'use', 'quaker', 'years.', 'is', 'much', 'better', 'altern', 'regular', 'cooki', 'see', 'store.', 'pack', 'raisin', '&', 'whole', 'grains.', 'great', 'pack,', 'road', 'trip', 'purse.', 'kid', 'test', 'approved!', 'i', 'receiv', 'product', 'complimentari', 'test', 'influenst', 'voxbox', 'program.'], ['i', 'absolut', 'fallen', 'love', 'soft', 'bake', 'cookies!', 'my', 'kid', 'love', 'them,', 'i', 'love', 'treat', 'munch', 'on.', 'however,', 'also', 'use', 'delici', 'cooki', 'crust', 'cooki', 'crumbl', 'recipes!', 'they', 'versatil', 'delicious!', 'i', 'definit', 'recommend', 'everyone!', 'husband', 'even', 'oatmeal', 'fan,', 'love', 'cookies!!'], ['these', 'cooki', 'die', 'for.', 'i', 'ate', 'mine', 'matter', 'second', 'readi', 'next', 'one,', 'i', 'one.', 'i', 'recommend', 'cooki', 'anyon', 'kids,', 'adult', 'elderly.', 'it', 'delici', 'soft', 'pack', 'raisin', 'yumminess!!', 'go', 'store', 'buy', 'them,', 'sure', 'wont', 'disappointed.'], ['these', 'soft,', 'chewy,', 'delicious!', 'they', 'realli', 'tast', 'like', 'homemad', 'cookies...', 'natur', 'ingredients.', 'they', 'perfect', 'treat,', 'still', 'feel', 'like', 'bit', 'healthi', 'snack', 'well.<br', '/><br', '/>*', 'i', 'receiv', 'product', 'complimentari', 'test', 'review', 'purpos', 'influenst'], ['i', 'let', 'daughter', 'tri', 'i', 'ate', 'rest.', 'she', 'big', 'raisin', 'still', 'good', 'her.', 'i', 'thought', 'delici', 'soft', 'tast', 'like', 'bake', 'oven.', 'i', 'would', 'high', 'recommend', 'love', 'good', 'homemad', 'cookie.', 'caus', 'that', 'felt', 'like', 'me.', 'like', 'someon', 'gave', 'fresh', 'bake', 'cookie.'], ['i', 'receiv', 'product', 'influenst', 'mom', 'voxbox.', 'my', 'son', 'immedi', 'ate', 'said', '\"the', 'best', 'ever', 'had\".', 'my', 'son', 'four', 'mind', 'you!', 'so', 'must', 'mean', 'something.', 'i', 'would', 'definit', 'go', 'buy', 'household', 'hear', 'reaction', ':)'], ['this', 'product', 'provid', 'free', 'influenster.', 'my', 'famili', 'love', 'cookies.', 'they', 'soft', 'slight', 'chewy.', 'my', '2', 'yr', 'old', 'eat', 'oatmeal', 'cookies.', 'so', 'realli', 'enjoy', 'them.'], ['i', 'receiv', 'influenst', 'mom', 'voxbox.', 'my', 'children', 'love', 'i', 'felt', 'great', 'know', 'healthier', 'cooki', 'other', 'market.'], ['receiv', 'sampl', 'quaker', 'soft', 'bake', 'oatmeal', 'cooki', 'influenster.', 'cooki', 'quit', 'larg', 'filling.', 'satisfi', 'crave', 'sweet', 'without', 'mani', 'calories.'], ['receiv', 'voxbox', 'i', 'thought', 'super', 'delici', 'soft', 'chewy!', \"i'm\", 'go', 'purchas', 'pack', '12', 'week!'], ['i', 'receiv', 'sampl', 'oatmeal', 'cooki', 'influenster,', 'larg', 'size', 'cooki', 'i', 'decid', 'split', 'husband', '5', 'year', 'old', 'son,', 'i', 'think', 'son', 'would', 'eat', 'piec', 'gone', 'ask', 'more!', 'even', 'husband', 'thought', 'great', 'realli', 'like', 'oatmeal', 'cookies.', 'i', 'buy', 'now!'], ['i', 'receiv', 'free', 'sampl', 'influenster.com', 'voxbox', 'got,', 'daughter', 'realli', 'love', 'it!!', 'she', 'wouldnt', 'even', 'let', 'sneak', 'bit', 'it,', 'must', 'realli', 'good!!!'], ['i', 'recent', 'receiv', 'sampl', 'quaker', 'oatmeal', 'cooki', 'mom', 'voxbox', 'influenst', 'i', 'put', 'down.', 'the', 'cooki', 'nice', 'big', 'size', 'full', 'flavor.', 'it', 'over', 'sweet', 'homebak', 'tast', 'it.', 'i', \"can't\", 'wait', 'get', 'more.'], ['i', 'receiv', 'one', 'tri', 'free', 'review', 'influenst', 'mom', 'voxbox', 'i', 'say,', 'softest,', 'chewiest', 'cooki', \"i'v\", 'ever', 'had.', 'this', 'say', 'lot', 'sinc', \"i'm\", 'picki', 'cooki', 'soft', 'chewy.', \"i'm\", 'anxious', 'tri', 'flavors.', 'especi', 'appl', 'cinnamon', 'one!', 'yum!'], ['my', 'husband', 'love', 'the', 'oatmeal', 'cooki', 'said', 'tast', 'home', 'made.', 'curb', 'appetit', 'like', 'snicker', 'would', 'have.', 'he', 'said', 'tast', 'natur', 'would', 'tri', 'again.'], ['i', 'receiv', 'sampl', 'product', 'influenster.com.', 'they', 'delici', 'cooki', 'i', 'say.', 'i', 'usal', 'reach', 'oatmeal', 'cooki', 'favorit', 'son', 'favorite.', 'i', 'love', 'homemad', 'taste.', 'nice', 'soft', 'real', 'tast', 'oatmeal', 'raisins.', 'i', 'definet', 'continu', 'buy', 'especi', 'enjoy', 'them!.'], ['these', 'so', 'yummy!', 'they', 'incred', 'soft', 'take', 'back', 'childhood', 'grandma', 'would', 'make', 'oatmeal', 'raisin', 'cookies.', 'my', 'toddler', 'love', 'too!'], ['i', 'alway', 'love', 'quaker', 'brand', 'products.', 'i', 'reciev', 'oatmeal', 'rasin', 'cooki', '@influenst', 'tri', 'review.', 'my', 'boy', 'actual', 'go', 'fight', 'got', 'eat', 'cooki', 'i', 'old', 'one', 'kid', 'break', 'half', 'one', 'choos', 'half', 'want', 'trick.', 'they', 'left', 'want', 'more!', 'i', 'alreadi', 'repurchas', 'cooki', 'sever', 'time', 'differ', 'flavors.', 'i', 'happi', 'good', 'make', 'great', 'snack.'], ['quaker', 'soft', 'bake', 'cooki', 'incred', 'soft', 'chewy!', 'and', 'tast', 'good!', 'definit', 'best', 'store', 'bought', 'cooki', 'there!', 'i', 'receiv', 'free', 'sampl', 'via', 'influenster.'], ['so', 'soft', 'chewy!', 'it', 'great', 'snack', 'even', 'littl', 'ones!', 'i', 'reciev', 'free', 'sampl', 'influenster.com', 'first', 'thing', 'caught', 'eye.', 'it', 'great', 'taste,', 'i', 'see', 'buy', 'near', 'future.'], ['i', 'alway', 'enjoy', 'quaker', 'product', 'i', 'receiv', 'free', 'sampl', 'soft', 'bake', 'oatmeal', 'cooki', 'influenster,', 'i', 'excit', 'tri', 'it.', 'it', 'soft,', 'delicious,', 'tast', 'like', 'homemade.', 'after', 'tast', 'it,', 'i', 'went', 'bought', 'box', 'famili', 'i', 'enjoy.'], ['if', 'like', 'soft', 'cookies,', 'you.', 'great', '\"healthy\"', 'snack!', \"don't\", 'leav', 'em', 'gym', 'bag', 'though,', 'bag', 'good', 'tast', 'crumbs!'], ['i', 'realli', 'love', 'cookie.', 'the', 'calori', 'bad', 'tast', 'great.', 'i', 'alway', 'look', 'quick', 'go', 'breakfast', 'hit', 'nail', 'head.', 'it', 'would', 'go', 'amaz', 'cup', 'coffee.', 'the', 'cooki', 'soft', 'full', 'flavor.', 'the', 'thing', 'i', 'love', 'kind', 'salti', 'taste.', 'if', 'sodium', 'could', 'reduc', 'smidgen', 'would', 'best', 'cooki', 'i', 'ever', 'tasted.', 'i', 'would', 'buy', 'commissari', 'would', 'carri', 'them!'], ['i', 'got', 'free', 'sampl', 'via', 'influenster,', \"i'm\", 'gonna', 'lie', 'quaker', 'cooki', 'first', 'thing', 'caught', 'eye.', 'first', 'soft', '&', 'chewi', 'melt', 'mouth.', 'i', 'definet', 'stock', 'cookies.', 'i', 'tri', 'oatmeal', 'cooki', '&', 'still', 'fav!!'], ['i', 'love', 'soft', 'quaker', 'cooki', 'are!', 'not', 'soft', 'delici', 'too.', 'grab', 'one', 'snack', 'go,', 'put', 'kid', 'lunch', 'box,', 'enjoy', 'home.', \"they'r\", 'great!'], ['i', 'reciev', 'cooki', 'via', 'mom', 'vox', 'box', '[...]', 'i', 'i', 'search', 'supermarket', 'soooo', 'good.', 'the', 'cooki', 'moist', 'chewy.'], ['got', 'free', 'sampl', 'via', 'influenst', 'quaker', 'soft', 'bake', 'oatmeal', 'cookie,', 'raisin', 'flavor.', 'first,', 'soft', 'crumbly.', 'secondly,', 'strong', 'cinnamon', 'flavor.', 'thirdly,', 'raisin', 'actual', 'good', 'add', 'texture.', 'if', 'like', 'oatmeal', 'cookies,', 'like', 'product.'], [\"i'v\", 'store', 'bought', 'cookies,', 'better', 'qualiti', '-', 'deluxe.', 'i', 'buy', 'bake', 'lot', 'gluten', 'free', 'son,', 'real', 'treat', 'me!', 'a', 'great', 'snack', 'go.'], ['i', 'realli', 'like', 'cookie.', 'it', 'soft', 'chewi', 'i', 'like', 'cookies.', 'the', 'problem', 'could', 'sweeter,', 'mayb', 'chocol', 'chip', 'raisin', 'would', 'even', 'better.', 'i', 'think', 'quick', 'breakfast', 'great', 'choice,', 'much', 'sweet', 'though.'], ['tast', 'amaz', 'home', 'bake', 'feel.', 'soft', 'chewy.', 'perfect', 'glass', 'ice', 'cold', 'milk.'], ['i', 'tri', 'raisin', 'oatmeal', 'cooki', 'soft!', 'i', 'raisin', 'fan', 'i', 'still', 'love', 'think', 'tast', 'homemade!'], ['i', 'receiv', 'complimentari', 'sampl', 'cooki', 'quaker', 'via', 'influenst', 'momvoxbox.', \"i'm\", 'huge', 'fan', 'oatmeal', 'cooki', 'i', 'tast', 'realli', 'good.', 'it', 'soft', 'delicious!', 'i', 'fan', 'buy', 'sure!'], ['i', 'receiv', 'complimentari', 'sampl', 'cooki', 'quaker', 'via', 'influenst', 'momvoxbox', 'husband', 'love', 'oatmeal', 'raisin', 'cooki', 'grab', 'hold', 'mine', 'devour', 'an', 'said', 'best', 'oatmeal', 'raisin', 'cooki', 'ever', 'tast', 'i', 'pretti', 'sad', 'share', 'i', 'went', 'next', 'day', 'purchas', 'unknown', 'box', 'almost', 'ate', 'entir', 'box', 'drive', 'back', 'home,', 'absolut', 'delici', 'tast', 'fresh', 'homemad', 'like', 'full', 'flavor.'], ['these', 'cooki', 'good', 'eat', 'snack', 'work', 'simpli', 'best.', 'love', 'soft', 'tast', 'good.'], ['quaker', 'soft', 'bake', 'oatmeal', 'cooki', 'better', 'homemad', 'cooki', 'i', 'tri', 'made.', 'which', 'say', 'alot', 'consid', \"i'm\", 'former', 'baker.', 'they', 'soft', 'tasty,', 'even', '8', 'year', 'love', 'cooki', 'hate', 'oatmeal.', 'i', 'high', 'recommend', 'cookies.', \"they'r\", 'especi', 'great', 'go', 'snacks.also', 'price', 'reason', 'consid', 'qualiti', 'get.', 'so', 'cooki', 'fan', 'one', 'try,', 'disappointed.'], ['i', 'receiv', 'influenst', 'box', 'love', 'it!', 'so', 'moist', 'chewy!', 'perfect', 'milk', 'warm', 'microwave.'], ['so', 'tasti', 'delici', 'wont', 'even', 'think', 'eat', 'healthi', '!', 'i', 'mean', 'quaker', 'soft', 'bake', 'oatmeal', 'cooki', 'raisin', 'could', 'resist', '?'], ['i', 'receiv', 'cooki', 'influenst', 'quaker', 'tri', 'raisin', 'flavor.', 'well', 'cooki', 'great', 'soft', 'moist', 'flavor', 'great.', 'i', 'buy', 'household.', 'i', 'also', 'buy', 'flavor', 'well.', 'great', 'famili', 'travel', 'snack.'], ['i', 'receiv', 'free', 'sampl', 'cooki', 'soft', 'bake', 'quaker', 'oatmeal', 'cooki', 'raisin', '6', 'yr', 'old', 'ask', 'could', 'it.', 'i', 'told', 'would', 'share', 'me.', 'i', 'lucki', 'i', 'got', 'bite', 'woof', 'cooki', 'down!lol', 'it', 'next', 'shop', 'list', 'i', 'get', 'box', 'own!', ':)'], ['soft', ',filling,delicious,a', 'good', 'cooki', ',', 'i', 'eat', 'one', 'i', 'go', 'buy', '2', 'box', '.', 'one', 'next', 'famili', 'share', 'among', 'selv', '.'], ['this', 'item', 'super', 'yummy!', 'i', 'receiv', 'cooki', 'mom', 'voxbox', 'i', 'happier.', 'i', 'buy', 'stick', 'purs', 'kid', 'go.', 'and', 'also', 'includ', 'daughter', 'school', 'lunch.', 'it', 'nice', 'see', 'healthi', 'snack', 'tast', 'good', 'too!'], ['these', 'cooki', 'amazing!', 'i', 'got', 'one', 'influenst', 'review', 'mom', 'voxbox', 'daughter', 'love', 'it...', 'soooo', 'much', 'i', 'bought', '3', 'box', 'store', 'next', 'day!', 'we', 'tri', 'appl', 'cinnamon,', 'oatmeal', 'raisin,', 'banana', 'nut', \"can't\", 'decid', 'one', 'like', ':)'], ['my', 'kid', 'grandkid', 'absolut', 'love', 'soft', 'bake', 'oatmeal', 'raisin', 'cookies.', 'i', 'thought', 'mayb', 'like', 'raisins,', 'i', 'think', 'even', 'notic', 'scarf', 'way', 'cookies.', 'i', 'abl', 'get', 'bit', 'two', 'got', 'ahold', 'them,', 'i', 'agree,', 'good', 'cookies!'], ['super', 'perfect', 'kid', 'love', 'them,great', 'snack', 'anytim', 'day.quci', 'easi', 'snack', 'feel', 'guilti', 'about.enjoy', 'enjoy', 'enjoy.'], ['soft', 'cookie,', 'unwrap', 'would', 'swear', 'grandma', 'bake', 'them...mi', 'girl', 'oatmeal', 'raisin', 'fans,', 'fight', 'quaker', 'soft', 'bake', 'cookies,', 'i', 'keep', 'cubicle,', 'go', 'snack,', 'i', 'nasti', 'client', \"i'll\", 'pop', 'one', 'mouth', 'take', 'time', 'out.', 'i', 'big', 'cooki', 'fan', 'i', 'like', 'individu', 'wrap', 'stay', 'fresh', 'i', 'need', 'one.', 'i', 'origin', 'receiv', 'sampl', 'influenst', 'websit', 'sinc', 'purchas', 'sinc', 'girl', 'ate', 'origin', 'influenst', 'provid', 'cookie.'], ['these', 'wonderful.', 'i', 'love', 'love', 'love', 'soft', 'cookies,', 'oatmeal', 'raisin', 'favorite!', 'i', 'most', 'make', 'cookies,', 'i', 'would', 'definit', 'purchas', 'these!', 'i', 'got', 'compliment', 'influenst', '&', 'quaker', 'test', 'out,', 'son', '&', 'i', 'love', 'them!'], ['these', 'cooki', 'amazing,', 'thank', 'influenst', 'i', 'abl', 'tri', 'one', 'omg,', 'good', 'i', 'go', 'buy', 'more,', 'must', 'famili', 'delici', 'treat', 'made', 'whilesom', 'oat', ':d', 'yumm'], ['i', 'never', 'huge', 'fan', 'oatmeal', 'cooki', 'i', 'would', 'say', 'delicious!', 'just', 'right', 'amount', 'raisin', '&', 'nice', 'texture.', 'i', 'would', 'buy', 'again!'], ['my', 'famili', 'love', 'cookies.', 'everi', 'time', 'go', 'store', 'need', 'pick', 'box!', 'the', 'cooki', 'realli', 'soft', 'fall', 'apart', 'easily.'], ['quaker', 'brand', 'oatmeal', 'cooki', 'delici', 'cookies!', 'they', 'moist', 'soft', 'raisin', 'plump', 'right', 'size.', 'if', 'want', 'good', '\"home-baked\"', 'tast', 'cookie,', 'one', 'get!'], ['quaker', 'breakfast', 'cooki', 'oatmeal', 'raisin,', '6-count', 'boxes,10.1-ounc', '(pack', '6)]]s.', 'they', 'come', 'individu', 'wrap', 'packag', 'could', 'use', 'snack', 'school,', 'wish.', 'they', 'soft', 'chewi', 'fill', 'lot', 'raisins.', 'veri', 'tasty!', 'kid', 'love', 'them!'], ['these', 'extrem', 'yummy,', 'fresh', 'tast', 'cookies.', 'i', 'love', 'soft', 'are.', 'they', 'tast', 'similar', 'ginger', 'snaps.', 'great', 'stick', 'kid', 'lunches.', 'i', 'would', 'recommend.'], ['i', 'sure', 'receiv', 'mail', 'try,', 'i', 'pleasant', 'surprised!<br', '/>this', 'cooki', 'absolut', 'delici', 'good', 'treat', 'everyon', 'famili', 'try.'], ['this', 'amaz', 'cookie!', 'i', 'thought', 'go', 'gross', 'i', 'took', 'bite', 'i', 'amazed!', 'pleas', 'tri', 'it,', 'regret', 'it!'], ['i', 'receiv', 'cooki', 'influenst', 'test', 'purposes.', 'as', 'soon', 'i', 'took', 'box', 'gone!', 'can', 'say', 'delicious!', 'me', 'son', 'ate', 'half.', 'it', 'best', 'homemad', 'taste.', 'i', 'love', 'super', 'soft', 'crumbl', 'mouth', 'melts.', 'best', 'cooki', 'ever!'], ['i', 'receiv', 'product', 'influenst', 'love', 'oatmeal', 'cooki', 'type!', 'they', 'perfect', 'go', 'had', 'buy', 'box', 'store', 'saw', 'them.', 'they', 'gone', '2', 'days!!!', 'they', 'perfect', 'sweet', 'late', 'night', 'snack', 'even', 'run', 'breakfast!', '5', 'stars!'], ['the', 'size', 'cooki', 'great', 'fill', 'especi', 'quick', 'snack', 'busi', 'mom', 'even', 'children.', 'i', 'buy', 'sure!'], ['so', 'amaz', '-', 'i', 'usual', 'oatmeal', 'raisin', 'lover...', 'ever,', 'surpris', 'good', '!', 'thank', 'make', 'lover', '!'], ['great', 'cookie!', 'soft', 'moist!', 'will', 'def', 'purchas', ':)<br', '/>i', 'receiv', 'product', 'complimentari', 'test', 'review', 'purpos', 'influenster.'], ['this', 'product', 'moist', 'perfect', 'texture.', 'i', 'love', 'it.', 'it', 'chewi', 'soft', 'too.', 'after', 'first', 'cookie,', 'i', 'want', 'anoth', 'one', 'realli', 'bad.', 'i', 'plan', 'definit', 'buy', 'more.'], ['this', 'cooki', 'last', 'min', 'house.', 'i', 'son', 'ate', 'i', 'get', 'coupl', 'bit', '&', 'soft,', 'i', 'love', 'cookies,', 'also', 'moist', 'nice', '&', 'chewy.', 'i', 'defiant', 'buy', 'again.'], ['this', 'amaz', 'cookie!', 'i', 'receiv', 'raisin', 'cooki', 'tri', 'influenst', 'pleasant', 'surpris', 'tast', 'texture.', 'it', 'truli', 'soft', 'cooki', 'bold', 'taste.', 'me', 'two', 'year', 'old', 'devour', 'cooki', 'whet', 'buy', 'more!', 'would', 'defiant', 'recommend.'], ['i', 'realli', 'like', 'cookies.', 'i', 'huge', 'fan', 'raisin', 'good.', 'nice', 'soft!'], ['these', 'awesom', 'cookies!', 'nice', 'soft!', 'love!!!', 'they', 'great', 'give', 'kid', 'snack', 'take', 'work', 'snack'], ['i', 'love', 'cookies!', 'great', 'flavor', 'taste!', 'i', 'love', 'them!', 'they', 'great', 'snack', 'afterschool', 'nice', 'add', 'lunch.', 'come', 'perpackag', 'dri', 'out.'], ['i', 'love', 'chewi', 'cookies!', 'and', 'definit', 'chewy.', 'i', 'love', 'it.', 'but', 'downsid', 'made', 'place', 'manufactur', 'peanuts.', 'my', 'bub', 'allerg', 'peanuts.', '=\\\\', 'so,', 'any.'], ['i', 'receiv', 'cooki', 'courtesi', 'influenster,', 'famili', 'love', 'oatmeal', 'cookies,', 'one', 'awesome!!', 'my', 'son', 'i', 'share', 'it,', 'soft', 'full', 'moist', 'raisins!', 'will', 'sure', 'look', 'store!', \"can't\", 'wait', 'tri', 'others!'], ['i', 'receiv', 'sampl', 'cooki', 'influenster.it', 'gone', 'within', 'minut', 'receiv', 'package.i', 'even', 'share', 'it,al', 'mine', 'lol.they', 'super', 'soft', 'delicious!they', 'tast', 'like', 'i', 'bake', 'myself.i', 'never', 'tast', 'amaz', 'cookie,for', 'real!'], ['i', 'receiv', 'sampl', 'quaker', 'soft', 'bake', 'cooki', 'via', 'influenst', 'try.', 'my', 'husband', 'grab', 'quickly,', 'he', 'like', 'tast', 'say', 'textur', 'could', 'better', 'seem', 'crumbl', 'easily.'], ['good.', 'didnt', 'think', 'would', 'moist', 'melt', 'mouth', 'good', ':)'], ['these', 'realli', 'good.', 'my', 'husband', 'daughter', 'fought', 'them!!', 'they', 'soft', 'chewi', 'tast', 'like', 'cinnamon.'], ['this', 'perfect', 'pick-me-up', 'snack.', 'great', 'flavor', 'perfect', 'filling.', 'i', 'quick', 'regret', 'share', 'husband.', 'this', 'snack', 'great', 'entir', 'family,', 'know', 'make', 'healthier', 'choic', 'good', 'feeling.'], ['i', 'receiv', 'sampl', 'courtesi', 'influenster,', 'well...', 'i', 'pleasur', 'tast', 'myself,', 'son', 'got', 'ahold', 'start', 'munch', 'away!!', 'he', 'absolut', 'love', 'cooki', ':)', 'and', 'that', 'say', 'alot,', 'sinc', 'son', 'stand', 'raisins,', 'period!', 'i', 'guess', \"i'm\", 'gonna', 'add', 'one', 'groceri', 'list', ':)'], ['i', 'got', 'quaker', 'cooki', 'tri', 'voxbox', 'influenster.', 'i', 'gave', '8', 'year', 'old', 'son,', 'normal', 'hate', 'anyth', 'raisin', 'anyth', 'remot', 'healthy,', 'he', 'love', 'it.', 'thank', 'quaker', 'get', 'child', 'eat', 'someth', 'different.'], ['i', 'receiv', 'cooki', 'compliment', 'quaker', 'via', 'influenst', 'try.', 'my', 'son', 'ate', 'quick.', 'i', 'love', 'quaker', 'look', 'next', 'groceri', 'trip!', 'my', 'boy', 'said', 'delicious!', 'we', 'alreadi', 'buy', 'chewi', 'oatmeal', 'bars,', 'ad', 'soft', 'bake', 'oatmeal', 'raisin', 'cooki', 'list', 'quaket', 'products!'], ['i', 'receiv', 'raisin', 'flavor', 'influenst', 'complimentari', 'tasting.', 'it', 'good', 'me,', 'sweet', 'oili', 'tast', 'like', 'packag', 'cookies.', 'the', 'fact', 'made', 'whole', 'grain', 'oat', 'made', 'even', 'better.', 'i', 'go', 'buy', 'cranberri', '&', 'yogurt', 'next.'], ['i', 'love', 'home', 'bake', 'mom', 'tast', 'have!', 'just', 'like', 'mom', 'made', 'them!', 'they', 'also', 'easi', 'find', 'affordable!'], ['i', \"rec'd\", 'product', 'influenst', 'quaker', 'test', 'purposes.', \"i'v\", 'alway', 'enjoy', 'quaker', 'oat', 'hot', 'oatmeal,', 'cooki', 'itself.', 'quaker', 'soft', 'bake', 'oatmeal', 'cooki', 'made', 'whole', 'grain', 'quaker', 'oats,', 'at', 'least', '10', 'gram', 'whole', 'grain', 'per', 'serving.<br', '/>made', 'real', 'fruit,', 'good', 'sourc', 'fiber,', 'delicious.', 'quaker', 'oat', 'around', 'sinc', 'hundr', 'years.'], ['i', 'receiv', 'one', 'awesom', 'cooki', 'influenster!', 'they', 'delicious!!', 'super', 'soft', 'moist...tast', 'home', 'made!', ':)', 'yummy!'], ['these', 'cooki', 'great', 'cookie.', 'i', 'love', 'oatmeal', 'cooki', 'thing', 'i', 'like', 'raisins.', 'this', 'i', 'hate', 'raisins.', 'so', 'like', 'raisin', 'would', 'probabl', 'like', 'them.', 'i', 'probabl', 'repurchas', 'i', 'would', 'rather', 'make', 'homemad', 'without', 'them.', 'i', 'would', 'repurchas', 'boyfriend', 'though', 'love', 'raisins.'], ['soft,', 'chewi', 'like', 'grandma', 'use', 'make.', 'i', \"can't\", 'wait', 'i', 'eat', 'next', 'cooki', 'someth', 'savor', 'enjoy!'], ['from', 'influenst', 'i', 'receiv', 'quaker', 'soft', 'bake', 'cookie.', 'with', 'product,', 'dinner', 'one', 'night,', 'i', 'divid', '3', 'equal', 'portions.', 'one', 'myself,', 'one', 'husband,', 'anoth', '1', '1/2', 'year', 'old', 'daughter.<br', '/>our', 'daughter', 'devour', 'cooki', 'i', 'even', 'sat', 'back', 'ask', 'more.', 'she', 'absolut', 'love', 'it.', 'my', 'husband', 'i,', 'hand,', 'impressed.', 'we', 'expect', 'someth', 'littl', 'more.', 'the', 'cooki', 'littl', 'dri', 'someth', 'tast', 'littl', 'bit.<br', '/><br', '/>i', 'think', 'buy', 'product', 'home', 'future.', 'but', 'i', 'pleasant', 'pleas', 'chanc', 'tri', 'first.'], ['my', 'whole', 'famili', 'absolut', 'love', 'cookies...so', 'soft', 'yummy!', 'and', 'i', 'like', 'fact', 'nutriti', 'treat', 'kids...a', 'much', 'better', 'option', 'candi', 'soda.'], ['i', 'love', 'soft', 'delici', 'cooki', 'are!', 'they', 'new', 'everyday', 'snack', 'house!', 'must', 'have!'], ['i', 'love', 'way', 'cooki', 'tast', 'like', 'homemad', 'cookies.', 'they', 'easi', 'take', 'eat', 'go.'], ['i', 'thought', 'i', 'might', 'tri', 'tastiest', 'oatmeal', 'cooki', 'before,', 'i', 'recent', 'tri', 'quaker', 'soft', 'bake', 'oatmeal', 'cooki', '.', 'these', 'cooki', 'delicious.', 'they', 'tast', 'like', 'homead', 'cookies.', 'they', 'soft', ',', 'full', 'raisins,', 'fabulous.i', 'bought', 'box', 'locl', 'walmart', 'day', '$2.18', 'eight', 'cookies.', 'these', 'good', 'size', 'cooki', 'too.', 'iwll', 'back', 'buy', 'mor', 'sure', 'thank', 'wonder', 'ingredi', 'quaker', 'i', \"can't\", 'wait', 'tri', 'differ', 'varieti', 'quaker', 'carries!', 'a', 'fan', 'life', 'i', 'am!!thank', 'quaker!!', 'thank', 'influenst', 'give', 'chanc', 'tri', 'cooki', 'vox', 'box!', 'they', 'a+++.'], ['i', 'love', 'soft', 'bake', 'cooki', 'i', 'reciv', 'quaker!<br', '/>i', 'enjoy', 'nutriti', 'soft', 'bake', 'cooki', 'i', 'plan', 'buy', 'family!', 'great', 'tast', 'price!1'], ['the', 'oatmeal', 'raisin', 'cooki', \"i'v\", 'tried.', 'i', 'love', 'well', 'daughter.', 'it', 'soft', 'tast', 'amazing.', 'not', 'mention', 'cheap,', \"i'll\", 'buy', 'more.'], ['i', 'realli', 'enjoy', 'good', 'quaker', 'oatmeal', 'combin', 'soft,', 'plump', 'juici', 'raisin', 'soft', 'cookie.', 'it', 'irrisist', 'snack', 'entir', 'famili', 'leav', 'feel', 'full', 'satisfied.'], ['these', 'cooki', 'delicious..', 'i', 'receiv', 'one', 'influenst', 'mom', 'voxbox', 'repurchase..', 'so', 'soft', 'chewy..def', 'must', 'buy..happi', 'custom', 'here..good', 'job', 'quaker'], ['i', 'receiv', 'one', 'cooki', 'influenst', 'mom', 'voxbox,', 'cookies,', 'realli', 'good', 'soft', 'chewy!', 'i', 'realli', 'enjoy', 'it!', 'it', 'tast', 'fresh,', 'like', 'packag', 'cookie,', 'i', 'also', 'impress', 'well', 'held', 'togeth', 'shipping,', 'crumbl', 'like', 'cooki', 'arriv', 'mail.'], ['these', 'individu', 'wrap', 'cooki', 'tast', 'fair', 'good.', 'a', 'littl', 'bland', 'side,', 'good', 'side', 'bland', 'side,', 'thing.', 'they', 'nice', 'size', 'cookie...bigg', 'packag', 'cooki', 'come', 'plastic', 'trays.', 'they', 'perfect', 'amount', 'raisin', '-', 'packed,', 'enough.', 'i', 'guess', 'i', 'expect', '\"oatmealy\"', 'sinc', 'quaker,', 'all.', 'they', 'oatmeal', 'raisin', 'cooki', 'flavor', 'go', 'on,', 'texture.<br', '/><br', '/>the', 'complaint', 'i', 'so', 'dry.', 'you', 'definit', 'want', 'big', 'glass', 'milk', 'handy.', 'that', 'anoth', 'problem', '-', 'i', 'drink', 'milk.', 'i', 'like', 'it.', 'yes,', 'person', 'problem,', 'fault', 'quaker', 'course,', 'els', 'drink', 'cookies?', 'noth', 'els', 'seem', 'go', 'quit', 'right', 'cookies.', 'i', 'like', 'dunk', 'cooki', 'milk,', 'oatmeal', 'raisin', 'cooki', 'good', 'choic', 'would', 'get', 'mushi', 'fall', 'apart', 'right', 'away.<br', '/><br', '/>i', \"can't\", 'say', 'buy', 'these.', 'much', 'dri', 'enough', 'flavor', 'make', 'it.'], ['came', '8-pack,', 'individu', 'wrapped.', 'bottom', 'line-', 'awesome!', 'soft,', 'chewy,', '1/4', 'inch', 'thick', 'full', 'oatmeal-raisini', 'goodness,', \"can't\", 'go', 'wrong', 'these!', 'soooo', 'good!'], ['look,', 'simple.', 'you', 'want', 'good', 'oatmeal', 'raisin', 'cookie,', 'bake', 'go', 'bakery.', 'stuff', 'get', 'box', 'like', 'never', 'come', 'close.', 'that', 'said,', 'is,', 'bad.', 'at', '3', 'morn', 'cooki', 'emergency,', 'fine', 'glass', 'milk', 'cup', 'tea.', 'but', 'expect', 'lot', 'home-bak', 'flavor,', 'even', 'kind', 'moist', 'chewi', 'think', 'think', 'oatmeal', 'cooki', 'simpli', 'there.<br', '/><br', '/>i', \"can't\", 'realli', 'recommend', 'them,', 'i', \"can't\", 'entir', 'dismiss', 'either.', 'consid', 'stop-gap', 'buy', 'accordingly.'], ['oatmeal', 'raisin', 'cooki', 'favorit', 'type', 'cookie.', 'my', 'grandma', 'make', 'best', 'oatmeal', 'raisin', 'cooki', 'ladi', 'church', 'make', 'second', 'best.', 'however,', \"i'm\", 'alway', 'will', 'tri', 'someon', 'els', 'oatmeal', 'raisin', 'cookies.', 'recently,', 'quaker', 'start', 'sell', 'soft-bak', 'oatmeal', 'cooki', 'with', 'raisins.', 'the', 'cooki', 'bad.', \"they'r\", 'better', 'usual', 'store-bought', 'oatmeal', 'cookie.', \"they'r\", 'soft', 'chewi', 'slight', 'sweet', 'aftertaste.', 'however,', 'there', 'noth', 'realli', 'distinguish', 'either.', 'there', '6', 'cooki', 'box.', 'they', 'good', 'cooki', 'make', 'nice', 'lunch', 'dessert', 'snack.'], ['who', 'love', 'oatmeal', 'cooki', 'made', 'quaker', 'oats?', 'i', 'mani', 'fond', 'memori', 'enjoy', 'make', 'cooki', 'straight', 'quaker', 'oat', 'box,', 'enjoy', 'after-school', 'pack', 'school', 'lunchbag.', 'when', 'i', 'saw', 'avail', 'test,', 'i', 'natur', 'excited,', \"i'v\", 'alway', 'love', 'quaker', 'oat', 'make', 'qualiti', 'product.', 'always.<br', '/><br', '/>unfortunately,', 'i', 'found', 'cooki', 'remark', 'bland', 'quit', 'plain.', 'they', 'sweet', 'enough', 'particular', 'taste,', 'remark', 'way.', 'sure', 'whole', 'grain.', 'but', 'tast', 'bland', 'me,', 'inde', 'quit', 'plain.', 'no', 'one', 'famili', 'like', 'them.', 'they', 'complet', 'generic.', 'for', 'me,', 'need', 'cinnamon', 'sugar', 'vanilla', 'tast', 'preference.<br', '/><br', '/>there', '6', 'individu', 'cooki', 'seal', 'tini', 'packs,', 'make', 'use', 'travel/lunches.'], ['i', 'love', 'oatmeal', 'cookies,', 'i', 'realli', 'enthus', 'give', 'new', 'brand', 'try.', 'however,', 'fail', 'miser', 'mind', '-', 'individu', 'cooki', '12g', 'sugar,', 'yet', 'dry,', 'bland', 'taste.', 'combin', 'fact', '170', 'calories,', '6', 'gram', 'fat', '150', 'mg', 'sodium', 'cookie,', 'hard', 'worth', 'eat', 'even', 'enjoy', 'taste!'], ['as', 'promised,', 'cooki', 'nice', 'soft,', 'chewy.', 'those', 'good', 'points.', 'the', 'bad', 'point', 'much', 'flavor.', 'they', 'also', 'heavier', 'consist', 'i', 'would', 'prefer.', 'these', 'cooki', 'would', 'benefit', 'kind', 'spice', 'make', 'cooki', 'tasty-', 'cinnamon,', 'nutmeg,', 'whatnot.', \"i'd\", 'will', 'tri', 'chocol', 'chip', 'chocol', 'version,', 'chocol', 'would', 'add', 'flavor', 'value,', 'i', 'go', 'way', 'eat', 'again.'], ['i', 'hard', 'notic', 'raisin', 'cookie,', 'great', 'like', 'raisins,', 'i', 'like', 'them.', 'the', 'oatmeal', 'flavor', 'cooki', 'be.', 'when', 'first', 'open', 'packet', 'aroma', 'hint', 'mayb', 'pinch', 'cinnamon', 'ad', 'mayb', 'nutmeg', 'mix.<br', '/><br', '/>the', 'consist', 'though', 'spongy,', 'rather', 'dry.', 'i', 'need', 'someth', 'drink', 'help', 'moisten', 'up.'], ['i', 'impress', 'list', 'ingredi', 'includ', 'whole', 'grain', 'oat', 'whole', 'grain', 'wheat', 'flour', 'well', 'whole', 'grain', 'roll', 'oats.', 'most', 'cooki', 'label', '\"oatmeal\"', 'enrich', 'white', 'flour', 'main', 'ingredient.', 'these', 'cooki', 'also', 'generous', 'amount', 'juici', 'raisins,', 'dri', 'raisin', 'found', 'brands.<br', '/><br', '/>i', 'find', 'cooki', 'bit', 'sweet', 'taste,', 'especi', 'first', 'bite.', 'the', 'sweet', 'much', 'less', 'strong', 'first', 'bite.', 'there', 'natur', 'grain', 'aftertast', 'i', 'found', 'pleasant', 'other', 'may', 'not.', 'also,', 'i', 'found', 'cooki', 'bit', 'crumbl', 'individu', 'pack', 'first', 'opened.', 'i', 'found', 'i', 'let', 'open', 'packag', 'sit', 'seal', 'contain', 'day', 'two', 'textur', 'liking.<br', '/><br', '/>i', 'like', 'individu', 'packag', 'eat', 'one', 'without', 'rest', 'go', 'stale.', 'i', 'also', 'like', 'ingredi', 'list', 'package;', 'import', 'food', 'allergi', 'box', 'available.<br', '/><br', '/>all', 'though', 'good', 'treat.', 'veri', 'enjoyable.', 'i', 'would', 'give', '3.5', 'star', 'rate', 'possible.'], ['if', 'thin', '&', 'eat', 'cookies,', 'enjoy', 'yourself.', 'these', 'come', 'singl', 'pack', 'mid-siz', 'cooki', '(.73', 'oz.', 'each),', 'i', 'suppos', 'help', 'portion', 'control.', 'however,', '170', 'calories,', 'pretti', 'high', 'need', 'lose', 'weight.', 'it', 'contain', '2g', 'protein.', 'it', 'also', 'contain', '12g', 'sugar,', 'i', 'call', 'friend', 'treat', 'peopl', 'battl', 'diabet', 'borderlin', 'diabetics.', 'the', 'ingredi', 'tini', 'print,', 'box', '1.5', 'inch', 'length,', '&', 'contain', 'load', 'ingredi', 'i', 'bare', 'pronounc', '&', 'idea', 'are.', 'it', 'kinda', 'soft', '&', 'tast', 'okay;', 'cooki', 'foodi', 'like', 'gush', 'over.'], ['i', 'expect', 'lot', 'pre-packag', 'cookie,', 'i', 'pleasant', 'surpris', 'quaker', 'soft', 'bake', 'oatmeal', 'raisin!', 'it', 'surpris', 'soft', 'chewy.', 'i', 'also', 'love', 'somewhat', 'healthi', 'snack.', 'it', 'would', 'even', 'better', 'warm', 'microwav', 'seconds.', 'good', 'job,', 'quaker', ':)<br', '/><br', '/>i', 'receiv', 'product', 'complimentari', 'test', 'purpos', 'influenst', 'mom', 'voxbox.'], ['i', 'receiv', 'cooki', 'test', 'influenster.', 'i', 'raisin', 'cooki', 'realli', 'good!', 'i', 'like', 'use', 'whole', 'grain', 'make', 'cookie.', 'breakfast', 'realli', 'favorit', 'meal', 'day', 'i', 'like', 'someth', 'fast', 'easy.', 'this', 'cooki', 'good', 'breakfast', 'option', 'me.', \"i'm\", 'on-the-go', 'mom', 'easi', 'grab', 'eat', 'breakfast', 'snack', 'time', 'day.', 'the', 'cooki', 'good', 'size', 'moist', 'yummy.', 'i', 'realli', 'like', 'buy', 'more!'], ['i', 'love', 'quaker', 'soft', 'bake', 'cooki', 'taste.', 'i', 'love', 'warm', 'cold,', 'either', 'way', 'quick', 'easi', 'eat', 'go.'], ['i', 'realli', 'enjoy', 'quaker', 'soft', 'bake', 'oatmeal', 'raisin', 'cookie.', 'it', 'true...it', 'tast', 'homemade!', 'great', 'go', 'need', 'treat', 'even', 'kid', 'lunch', 'boxes.'], ['cooki', 'soft', 'good!', 'tast', 'like', 'regular', 'cookie!', 'i', 'receiv', 'cooki', 'complimentari', 'influenst', 'mombox', 'delight', 'good', 'was.'], ['these', 'new', 'quaker', 'oat', 'soft', 'bake', 'cooki', 'amazing!', 'soft', 'chewy.', 'veri', 'fresh', 'like', 'bake', 'day', 'bought', 'them.', 'my', 'kid', 'love', 'great', 'way', 'give', 'whole', 'gain', 'small', 'serv', 'fruit.', 'they', 'also', 'great', 'pack', 'snack', 'low', 'calori', 'desert', '170', 'calori', 'per', 'cookie!', 'i', 'love', 'continu', 'purchase!'], ['omg....thes', 'good,', 'better', 'i', 'thought,', 'actual', 'tast', 'home', 'made,', 'i', 'gotta', 'say', 'tast', 'even', 'better', 'grandmothers,', 'sorri', 'grams...:)', 'i', 'definet', 'tri', 'again,', 'i', 'got', 'lucki', 'got', 'tri', 'delici', 'sampl', 'influenst', 'team', ':)', 'i', 'love', 'quaker,', 'influenster.com'], ['i', 'reciev', 'cooki', 'free', 'from', 'influenster.com', 'mom', 'voxbox', '2012', 'theme', 'product', 'testing.', 'omg', 'love', 'it.', 'soft', 'didnt', 'tast', 'filling.', 'light', 'great', 'flavor', 'tast', 'love'], ['cooki', 'great', 'tasty.', 'tast', 'fresh.', 'veri', 'larg', 'comparison', 'other', 'relat', 'category.', 'veri', 'yummy.', 'will', 'buy', 'again.'], ['i', 'receiv', 'sampl', 'product', 'free', 'test', 'influenst', 'quaker.', 'the', 'cooki', 'last', 'long', 'i', 'end', 'go', 'buy', 'whole', 'new', 'box.<br', '/><br', '/>mi', 'son', 'three', 'said', 'cooki', 'tast', '\"kind', 'like', 'muffin\"', 'want', 'know', 'could', 'one', 'breakfast', 'next', 'day.', 'the', 'cooki', 'soft', 'flavor', 'nice.', 'it', 'tast', 'great', 'big', 'glass', 'milk', 'microwav', '10', 'second', 'heat', 'up.', 'the', 'individu', 'wrap', 'cooki', 'make', 'great', 'pack', 'lunch', 'keep', 'car', 'afternoon', 'snack.', 'truthfully,', 'individu', 'wrapped,', 'could', 'probabl', 'eat', 'sever', 'one', 'sit', 'without', 'even', 'realiz', 'it.<br', '/><br', '/>go', 'ahead', 'plate', 'say', 'cook', 'yourself.', 'they', 'pretti', 'great!', 'oh,', 'bad', 'nutritionally...', 'go', 'ahead', 'eat', 'one', 'breakfast...', 'i', 'tell.'], ['these', 'best', 'oatmeal', 'cooki', 'ever!', \"they'r\", 'soft', 'yummy.', 'my', 'whole', 'famili', 'love', 'them,and', 'i', 'pretti', 'picki', 'family.'], ['i', 'love', 'cookies!', 'they', 'soft', 'daughter', 'eat', 'without', 'problems.i', 'big', 'oatmeal', 'cooki', 'fan,', 'quaker', 'best', 'brand', 'far.'], ['this', 'cooki', 'bomb.', 'it', 'fall', 'apart', 'mouth...tast', 'fresh', 'like', 'grandma', 'brought', 'oven!', 'lovvve', 'em!'], ['i', 'tri', 'oatmeal', 'raisin', 'cooki', 'delicious.', 'the', 'cooki', 'fair', 'big', 'great.', 'it', 'soft', 'chewi', 'worri', 'crumb', 'get', 'place', 'go.', 'i', 'alreadi', 'bought', 'more!'], ['well,', 'ask', 'son,', 'might', 'tell', 'better', 'mommi', 'homemad', 'oatmeal', 'raisin', 'cookies.', ':/', 'he', 'love', 'quaker', 'soft', 'bake', 'oatmeal', 'cooki', 'say', '\"soft,', 'chewi', 'yummy!\"', \"i'll\", 'buy', 'more!'], ['i', 'tri', 'receiv', 'free', 'sampl', 'influencer.com,', 'delicious.', 'soft', 'chewy,', 'perfect', 'amount', 'raisins.', \"they'r\", 'great', 'size', 'too.', 'i', 'definit', 'buy', 'avail', 'amazon.', 'my', 'toddler', 'love', 'too.'], ['i', 'found', 'cooki', 'realli', 'moist', 'yummy.', 'good', 'size', 'perfect', 'snack', 'break', 'breakfast.', 'my', 'girl', 'realli', 'like', 'too.', 'they', 'remind', 'home', 'made', 'cookies.', 'good', 'way', 'snack', 'healthy.'], ['love', 'quaker', 'cooki', 'tast', 'realli', 'good', 'soft', 'unlik', 'hard', 'cookies.', 'i', 'could', 'eat', 'whole', 'box', 'these.', 'yes', 'tast', 'good'], ['i', 'realli', 'love', 'cookie.', 'it', 'soft', 'bit', 'chewy.', 'i', 'think', 'i', 'read', 'box', 'i', 'would', 'think', 'good', 'you.', 'definitley', 'treat', 'worth', 'trying.', 'i', 'total', 'satisfi', 'wish', 'came', 'box!'], ['i', 'receiv', 'product', 'mom', 'voxbox', 'influenster.', 'i', 'tri', 'quaker', 'product', 'love', 'them.', 'these', 'good', 'rest.', 'i', 'love', 'soft', 'chewi', 'oatmeal', 'cooki', 'was.', 'the', 'raisin', 'nice', 'juici', 'well.', 'i', \"can't\", 'wait', 'grab', 'bigger', 'size', 'box', 'bag', 'whatev', 'may', 'come', 'in.', 'it', 'well', 'worth', 'it.'], ['i', 'receiv', 'cooki', 'review', 'love', 'flavor', 'it,', 'recommend', '100%,', 'famili', 'love', 'too,', 'thank', 'quaker', 'oatmeal', 'cookier', 'part', 'famili', 'now!'], ['these', 'cooki', 'good', 'soft.', 'when', 'wisdom', 'teeth', 'heal', 'i', 'could', 'eat', 'anyth', 'hard', 'cooki', 'help', 'even', 'kid', 'love', 'easi', 'go'], ['i', 'abl', 'tri', 'product', 'influenst', 'mom', 'voxbox.', 'i', 'share', '2', 'year', 'old', 'daughter', 'sinc', \"can't\", 'eat', 'cooki', 'front', 'kid', 'lol!', 'it', 'delici', 'soft', 'baked,', 'like', 'home', 'made', 'cookies.', 'my', 'complaint', 'cooki', 'good', 'amount', 'raisin', 'it.', 'mayb', 'i', 'got', 'batch', 'miss', 'extra', 'raisin', 'i', 'definit', 'felt', \"could'v\", 'use', 'more.', 'other', 'that,', 'great', 'snack,', 'especi', 'serv', 'kids!!', 'i', \"can't\", 'wait', 'tri', 'flavor', ':)'], ['i', 'surpris', 'healthi', 'tast', 'darn', 'good.', 'they', 'pack', 'flavor', 'best', 'party-', 'delici', 'chewy!', 'i', 'buy', 'immedi', 'next', 'trip', 'groceri', 'store.', 'my', 'three', 'year', 'old', 'love', 'it!'], ['i', 'receiv', 'sampl', 'influenst', 'momvoxbox', 'i', 'must', 'say', 'i', 'wish', 'i', 'gotten', 'one', 'cookie.', 'it', 'delicious.', 'share', 'husband', 'like', 'equal', 'well.', 'veri', 'moist', 'flavorful.'], ['i', 'realli', 'enjoy', 'quaker', 'oat', 'mornings.', 'the', 'best', 'part', 'morn', 'sit', 'nice', 'hot', 'bowl.'], ['i', 'abl', 'enjoy', 'cooki', 'i', 'receiv', 'voxbox', 'influenster.', 'this', 'cooki', 'definit', 'skimp', 'qualiti', 'cooki', 'have.', 'it', 'soft,', 'chewy,', 'fresh', 'tast', 'delicious.', 'it', 'perfect', 'quick', 'breakfast', 'quick', 'snack', 'yummi', 'dessert', 'ice', 'cream.', 'i', 'definit', 'purchas', 'item', 'often!'], ['i', 'receiv', 'chocol', 'almond', 'quaker', 'oatmeal', 'cooki', 'free', 'tri', '#influenst', '#momvoxbox,', '11', 'month', 'old', 'love', 'it!!', 'she', 'get', 'enough', 'it,', 'soft', 'enough', 'i', 'worri', 'choke', ':)', 'that', 'alway', 'plus,', 'i', 'go', 'buy', 'swhe', 'could', 'eat', 'them!!'], ['i', 'got', 'sampl', 'influenst', 'i', 'love', 'it.', 'it', 'soft,', 'sweet', 'textur', 'tast', 'perfect.'], ['i', 'receiv', 'cooki', 'mom', 'voxbox', 'influenster.', 'my', 'kid', 'i', 'share', 'cooki', 'enjoy', 'it.', 'i', 'buy', 'tri', 'differ', 'flavors.'], ['i', 'even', 'know', 'exist', 'i', 'receiv', 'mom', 'voxbox', 'influenster.', 'luckili', 'one', 'children', 'i', 'open', 'it.', 'we', 'share', 'oatmeal', 'raisin', 'cookie,', 'thought', 'wonderful!', 'so', 'much', 'so,', 'i', 'went', 'found', 'groceri', 'store.', 'tri', 'warmed!', 'nice', 'size,', 'soft', 'chewy.', 'so', 'yummy!!', 'i', 'realli', 'would', 'like', 'tri', 'differ', 'flavor', 'well.', 'a', 'tasti', 'product!!'], ['i', 'love', 'cooki', 'much,', 'nice', 'soft', 'i', 'love', 'cookie.', 'they', 'skimp', 'flavor', 'all,', 'i', 'would', 'buy', 'again.'], ['kid', 'love', 'quaker', 'soft', 'bake', 'oatmeal', 'cookie.', 'amaz', 'love', 'healthier', 'cookie.', 'love', 'healthi', 'altern', 'made', 'oatmeal.'], ['i', 'abl', 'tri', 'product', 'influenst', 'sent', '#momvoxbox', 'testing.', 'honest', 'i', 'abl', 'tri', 'person', 'kid', 'snatch', 'ha', 'ha!', 'but', 'enjoy', 'lot.', 'they', 'ask', 'i', 'would', 'buy', 'differ', 'flavor', 'too.', 'good', 'hearti', 'snack', 'kid', 'indeed!', 'thanks!'], ['oatmeal', 'raisin', 'healthy,', 'right?', 'put', 'cooki', 'form', \"i'v\", 'trick', 'littl', 'toddler', 'healthi', 'snack', 'think', 'treat.', 'these', 'realli', 'soft', 'flavorful.', 'definit', 'would', 'buy', 'again.'], ['this', 'first', 'time', 'tri', 'cookie.', 'it', 'soft,', 'delicious,', 'love', 'raisins.', 'i', 'buy', 'these', 'snack', 'breakfast.', 'i', 'told', 'friend', 'tri', 'product.'], ['you', 'have', 'tri', 'these!!', 'they', 'so', 'delicious!!!', \"i'm\", 'big', 'fan', 'oatmeal', 'raisin', 'cookies,', 'i', 'these!!'], ['these', 'cooki', 'absolut', 'amazing.', 'my', 'three', 'year', 'doesnt', 'like', 'lot', 'snack', 'cooki', 'hes', 'picky,', 'like', 'coupl', 'flavors.', 'they', 'soft', 'delici', 'extrem', 'tasty,', 'almost', 'forget', 'healthi', 'you.', 'i', 'absolut', 'love', 'quaker', 'oatmeal', 'cooki', 'extra', 'treat.'], ['from', 'said', 'said', 'point', 'view...<br', '/><br', '/>he:', '(who', 'like', 'soft', 'cookies)', 'thought', 'good,', 'chewy,', 'moist', 'delicious.<br', '/><br', '/>she:', '(who', 'prefer', 'crunchi', 'cookie)', 'i', 'like', 'i', 'crazi', 'it,', 'tast', 'okay', 'could', 'tell', 'eat', 'whole', 'grain', 'cookie.', 'the', 'raisin', 'save', 'cooki', 'me.<br', '/><br', '/>over', 'like', 'quaker', 'oats,', 'would', 'buy', 'cooki', 'coupon', 'number', 'one', 'list.'], ['i', 'excit', 'receiv', 'packag', 'quaker', 'soft', 'bake', 'cooki', 'influenst', 'tri', 'out.', 'i', 'surpris', 'reason', 'ingredi', 'low', 'fat', 'singl', 'serv', 'packag', 'was.', 'the', 'cooki', 'tast', 'fresh,', 'soft', 'delicious.', 'i', 'would', 'definit', 'buy', 'littl', 'treat', 'family.', 'tri', 'yourself!'], ['daughter', 'almost', '2', 'devour', 'cookie..', 'got', 'get', 'littl', 'piec', 'didnt', 'want', 'end', 'omg', 'put', 'groceri', 'list', 'week', 'cant', 'wait', 'eat'], ['go', 'lot', 'road', 'trip', 'alway', 'make', 'sure', 'pack', 'quaker', 'bar', 'kid', 'love', 'great', 'tast', 'good', 'easi', 'pack', 'highley', 'reccommend', 'anyon', 'go', 'snack'], ['these', 'cooki', 'amazing!', 'i', 'tri', 'banana', 'nut', 'one', 'find', 'alot', 'tastier.', 'they', 'moist', 'delicious.', 'my', 'daughter', 'picki', 'eater', 'even', 'enjoy', 'them.'], ['i', 'choosen', 'one', '@influenst', 'mom', 'voxbox', 'recipients.', 'i', 'excit', 'that,', 'i', 'even', 'excit', 'i', 'open', 'see', 'quaker', 'oatmeal', 'soft', 'bake', 'cooki', 'inside.', 'i', 'immedi', 'open', 'it.', 'it', 'one', 'softest', 'delici', 'cooki', 'i', 'long', 'time.', 'i', 'immedi', 'two', 'kid', 'tri', 'piec', 'also.', 'they', 'love', 'also!', 'these', 'cooki', 'rich', 'flavor,', 'dry,', 'around', 'great', 'cookie.', 'i', 'went', 'yesterday', 'bought', 'two', 'box', 'them.', 'these', 'great', 'product', 'keep', 'handi', 'snack', 'time!', 'absolut', 'love', 'them!'], ['this', 'cooki', 'good', 'thing', 'i', 'problem', 'soft.', 'duh', 'i', 'know', 'say', 'soft', 'bake', \"i'm\", 'use', 'eat', 'hard', 'oatmeal', 'raisin', 'cookie.', 'i', 'purchas', 'futur', 'recommend.'], ['this', 'cooki', 'soft', 'full', 'flavor.', 'i', 'felt', 'good', 'let', 'kid', 'tri', 'healthy,', 'love', 'it!', 'i', 'alreadi', 'request', 'school', 'lunches!'], ['i', 'receiv', 'free', 'sampl', 'influenster,', 'i', 'split', 'cooki', 'children.', 'we', 'love', 'it!', 'it', 'soft,', 'tasty,', 'perfect', 'portion', 'size.', 'i', 'alreadi', 'bought', 'pack', 'hous', 'snack', 'bag', 'car.', 'as', 'mom,', 'i', 'high', 'recommend', 'cookies!'], ['this', 'awesom', 'soft', 'cookie.', 'i', 'love', 'cooki', 'realli', 'one', 'best', 'thing', 'i', 'ever', 'tasted.'], ['if', 'like', 'soft', 'chewi', 'cooki', 'like', 'these.', \"you'r\", 'go', 'buy', 'one', 'box', 'go', 'fast.'], ['these', 'best', 'cookies.', 'they', 'soft', 'delicious.', 'great', 'daughter.', 'she', 'love', 'them.', 'i', 'high', 'recommend', 'product!!'], ['i', 'reciev', 'product', 'review.', 'realli', 'love', 'textur', 'taste.', 'will', 'defin', 'get', 'family.', 'want', 'tri', 'chocol', 'chip', 'next.'], ['these', 'cooki', 'soft', 'delicious.', 'dare', 'i', 'say', 'better', 'mother', 'cookies?', 'well,', 'are!!!!', 'i', 'receiv', 'cooki', 'tri', 'i', 'buy', 'keep', 'hand.', 'they', 'delici', 'flavorful!'], ['i', 'like', 'raisin', 'complet', 'honest,', 'even', 'tast', 'them!', 'these', 'soft', 'yummy!', 'i', 'would', 'definit', 'buy', 'again!'], ['i', 'found', 'soft', 'cooki', 'moist', 'flavorable.', 'though', \"i'm\", 'huge', 'fan', 'oatmeal', 'raisin', 'surpris', 'good.', 'was', 'happi', 'get', 'chanc', 'tri', 'them.'], ['this', 'awesom', 'soft', 'cookie.', 'i', 'totali', 'love', 'it.', 'i', 'would', 'advis', 'anyon', 'tri', 'it.', 'you', 'even', 'think', 'oat'], ['i', 'receiv', 'influenster.com', 'great!', 'my', 'boy', 'love', 'them,', 'chewy,', 'moist', 'flavorful!', 'will', 'definit', 'buy', 'again!'], ['i', 'love', 'cooki', 'realli', 'one', 'best', 'thing', 'i', 'ever', 'tasted!!', 'they', 'realli', 'soft', 'must', 'cooki', 'best', 'part', 'someth', 'differ', 'everi', 'bite', 'i', 'high', 'suggest', 'product', 'anyon'], ['these', 'cooki', 'yummy!', 'moist', 'tasty!', 'my', 'son', 'love', 'them...and', 'great', 'altern', 'bad', 'snack!'], ['quick', 'take:<br', '/>delici', 'big', 'fan', 'oatmeal', 'raisin', 'cooki', ':d.<br', '/>usag', 'tips:<br', '/>make', 'good', 'companion', 'milk.<br', '/>the', 'verdict:<br', '/>the', 'perfect', 'cookie,', 'must', 'purchas', 'a.s.a.p.<br', '/>here', 'review', 'first', 'impress', 'video:<br', '/>networkedblogs.com/zmtsa'], ['this', 'tasti', 'cookie!!!!!', 'i', 'realli', 'enjoy', 'love', 'oatmeal', 'cooki', 'quaker', 'oat', 'good', 'brand.'], ['i', 'realli', 'enjoy', 'cooki', '--', 'kids!', 'they', 'perfect', 'lunch', 'box', 'snack', 'yummi', 'treat', 'school.', 'and', 'i', 'love', 'take', 'one', 'work', 'afternoon', 'snack.<br', '/><br', '/>quaker', 'trust', 'brand', 'oatmeal', '--', 'tri', 'one', 'cookies.', 'you', 'hooked!'], ['soft', 'chewi', 'fill', 'good', 'great', 'snake', 'simpl', 'treat', 'love', 'cooki', 'littl', 'guy.'], ['these', 'great', 'littl', 'cookies.', 'they', 'soft', 'moist.', 'i', 'could', 'serious', 'eat', 'whole', 'packag', 'myself.', 'go', 'buy', 'box', 'soon', 'can.', 'you', 'wont', 'regret', 'it!!'], ['cooki', 'realli', 'good.', 'love', 'oatmeal,', 'love', 'soft-bak', 'cookies.', 'definit', 'love', 'these.', 'realli', 'healthi', 'good', 'take', 'go', 'come', 'individu', 'packs.'], ['my', 'son', 'i', 'love', 'quaker', 'soft', 'bake', 'cookies!', 'i', 'receiv', 'sampl', 'mom', 'voxbox', 'via', 'influenster.', \"i'v\", 'never', 'fan', 'hard', 'type', 'cooki', 'i', 'love', 'soft', 'chewi', 'one', 'were.', 'sinc', 'son', 'still', 'toddler,', 'i', 'think', 'soft', 'enough', 'littl', 'teeth', 'chew', 'eat.', 'plus', 'plain', 'delicious!'], ['i', 'receiv', 'product', 'influenst', 'mom', 'voxbox', '2012', 'test', 'out.', 'my', 'grab', 'grab', 'cooki', 'box', 'hid...h', 'beg', 'ever', 'since.', 'unfortun', 'sell', 'local', 'groceri', 'store', 'yet', 'next', 'time', 'i', 'go', 'town', 'i', 'plan', 'purchas', 'more!!!'], ['yummi', 'great', 'cooki', 'like', 'momma', 'make', 'deffiniet', 'second', 'best', 'cours', 'mom', 'cook', 'love', 'soft', 'chewi', 'must', 'buy'], ['yummi', 'great', 'cooki', 'like', 'momma', 'make', 'deffiniet', 'second', 'best', 'cours', 'mom', 'cook', 'love', 'soft', 'chewi', 'must', 'buy'], ['i', 'reciev', 'product', 'free', 'test', 'influenst', 'promot', 'reasons.', 'me', 'daughter', 'age', '4', '7', 'tri', 'cooki', 'love', 'it.', 'it', 'tast', 'great', 'realli', 'soft.', 'my', 'local', 'store', 'didnt', 'the', 'quaker', 'soft', 'bake', 'oatmeal', 'raisin', 'cooki', 'i', 'bought', 'breakfast', 'version', 'i', 'love', 'well.', 'the', 'cooki', 'great', 'ages!!!', 'i', 'would', 'recommend', 'cooki', 'people.'], ['i', 'select', 'influenst', 'get', 'mom', 'voxbox.', 'insid', 'product', 'i', 'got', 'full', 'size', 'sampl', 'soft', 'bake', 'quaker', 'oatmeal', 'cookies.', 'my', 'daughter', 'happi', 'it.', 'i', 'abl', 'steal', 'small', 'amount', 'her...it', 'yummi', 'soft.', 'it', 'nice', 'size', 'too.', 'it', 'small', 'get', 'money', 'worth.', 'the', 'fact', 'oatmeal', 'plus,', 'mean', 'kid', 'put', 'someth', 'healthi', 'snacking.', 'i', 'definet', 'buy', 'product', 'recommend', 'anyone.', 'if', 'want', 'yummi', 'soft', 'cooki', 'lot', 'flavor', 'none', 'work', 'clean', 'baking...go', 'get', 'box', 'soft', 'bake', 'quaker', 'oatmeal', 'cookies...you', 'sorry.', ':-)', 'i', 'know', 'kid', 'happi', 'i', 'tri', 'it....thank', 'influenst', 'quaker.'], ['i', 'reciev', 'one', 'sampl', 'i', 'buy', 'cooki', 'on!', 'oh', 'kid', 'also', 'love', 'them!'], ['i', 'got', 'one', 'packag', '(one', 'cookie)', 'mom', 'voxbox.', 'i', 'got', 'one', 'bite', 'husband', 'ate', 'rest,', 'he', 'love', 'it!!!!', 'a+++'], ['influenst', 'sent', 'quaker', 'soft', 'bake', 'oatmeal', 'cooki', 'test', 'review', 'mom', 'voxbox!', 'wow!!', 'so', 'good!', 'and', 'realli', 'soft,', 'feel', 'tast', 'fresh', 'baked.', 'i', 'one', 'question,', 'took', 'long', 'make', 'these??', '=)', 'realli', 'good', 'wonder', 'thought', 'year', 'ago!<br', '/>here', 'details!', 'they', 'individu', 'packaged,', 'great', 'go!', 'they', 'made', 'yummi', 'whole', 'grain', 'quaker', 'oats!', 'they', 'good', 'sourc', 'fiber', '6', 'gram', 'total', 'fat', 'per', 'serving!', 'i', 'know', 'die', 'know', 'get', 'now!', 'you', 'buy', 'pretti', 'much', 'major', 'retail', 'suggest', 'retail', '$2.69', '6', 'cookies,', 'that', 'less', '$0.50', 'cookie!', 'great', 'deal!', 'give', 'tri', 'let', 'know', 'like', 'tem!'], ['i', 'love', 'quaker', 'product', 'i', 'expect', 'anyth', 'less', 'cookies.', 'i', 'disappointed.', 'the', 'cooki', 'soft,', 'chewy,', 'filling.', 'they', 'right', 'amount', 'cinnamon', 'rasin', 'them.', 'my', 'kid', 'even', 'like', 'hard', 'come', 'oatmeal.', 'i', 'would', 'definit', 'recommend', 'cooki', 'love', 'oatmeal', 'rasin', 'cookies.'], ['i', 'alreadi', 'love', 'quaker', 'products,', 'i', 'grew', 'them.', 'this', 'disappoint.', 'it', 'soft', 'cookie,', 'fulfil', 'treat', 'fiber', ':)'], ['i', 'reciev', 'sampl', 'product', 'influenst', 'via', 'mom', 'vox', 'box', 'campaign', 'tri', 'review,', 'love', 'product!!', 'it', 'soft,', 'tasty,', 'healthy,', 'mom', 'approved!!', 'i', 'gave', 'kid,', 'love', 'it!!', 'it', 'perfect', 'put', 'lunch', 'boxes,', 'go', 'work,', 'healti', 'tast', 'great!!'], ['these', 'good', 'cookies.', 'daughter', 'love', 'these...', 'must', 'go', 'buy', 'husband', 'want', 'work.'], ['i', 'rcvd', 'complimentari', 'influenster.com', '&', 'amazing!', 'moist,', 'tender', 'w/', 'small', 'slight', 'crunch', 'oats.', 'the', 'flavor', 'great', 'blend', 'none', 'overpowering!', \"can't\", 'wait', 'tri', 'flavors!'], ['i', 'reciev', 'sampl', 'product', 'influenst', 'try-then', 'immedi', 'went', 'bought', '2', 'boxes,', 'gone', 'also.', 'these', 'cooki', 'great', 'homebak', 'consist', 'right', 'amount', 'spice', 'sugar.', 'my', 'kid', 'love', 'too,', 'especi', 'cut', 'half', 'put', 'littl', 'ice', 'cream', 'halves.'], ['i', 'receiv', 'influenst', 'mom', 'voxbox', 'omg', 'love', 'cooki', 'got', 'one', 'sampl', 'buy', '4', 'box', 'famili', 'love', 'thank', 'influenst', 'quaker!'], ['i', 'sure', 'think', 'product', 'first', 'came', 'realli', 'one', 'cooki', 'could', 'realli', 'soft.', 'well,', 'quaker', 'delivered!', 'i', 'love', 'cookies,', 'great', 'time', 'includ', 'breakfast.'], ['the', 'quaker', 'soft', 'bake', 'oatmeal', 'cookie,', 'raisin', 'good.', 'nice', 'soft.', 'easi', 'break', 'smaller', 'piec', 'eat.', 'high', 'recommend', 'tri', 'product.'], ['my', 'whole', 'famili', 'enjoy', 'yummi', 'good', 'quaker', 'oatmeal', 'cooki', 'raisins.', 'my', '3', 'year', 'old', 'get', 'enough', 'them.', 'it', 'remind', 'grandma', 'home', 'made', 'cookies.', 'the', 'tast', 'brought', 'back', 'childhood', 'i', 'would', 'help', 'grandma', 'bake.', 'so', 'soft', 'i', 'could', 'tast', 'wholesom', 'good', 'bite.', 'i', 'buy', 'soon!'], ['i', 'receiv', 'influenst', 'mom', 'voxbox', 'kid', 'love', 'cookie.', 'i', 'even', 'get', 'chanc', 'tri', 'purchas', 'box.', 'i', 'high', 'recommend', 'cookie...', 'it', 'great', 'snack', 'healthier', 'one!!!!'], ['the', 'quaker', 'brand', 'soft', 'cooki', 'good!', 'they', 'yummi', 'soft', 'realli', 'fill', 'up!', 'so', 'easi', 'go', 'kid', 'relax', 'home', 'milk!'], ['these', 'yummy,mi', 'son', 'love', 'them.', 'as', 'mother', 'i', 'feel', 'good', 'give', 'son', 'snack'], ['i', 'reciev', 'influenst', 'mom', 'voxbox,', 'i', 'tri', 'kid', 'ate', 'it!.', 'they', 'love', 'them,', 'ask', 'go', 'store', 'get', 'more.', 'look', 'like', 'tomorrow', \"i'm\", 'go', 'shopping.'], ['i', 'get', 'chanc', 'eat', 'cookie,', '5', 'year', 'old', 'absolut', 'love', 'it.', 'she', 'said', 'yummy,', 'soft', 'good.', 'she', 'want', 'more.', 'i', 'told', 'would', 'get', 'more...'], ['these', 'cooki', 'delicious!', 'so', 'soft', 'flavorful.', 'my', 'fave!', 'my', 'first', 'time', 'tri', 'cooki', 'coupl', 'week', 'ago,', 'i', 'defiant', 'recommend.'], ['such', 'tasti', 'cookie...', 'soft,', 'flavorful.', 'mmm.<br', '/><br', '/>i', 'high', 'surpris', 'good', 'were.', 'yum!', 'the', 'portion', 'quit', 'generous,', 'make', 'nice', 'afternoon', 'snack.'], ['my', 'kid', 'realli', 'like', 'eat', 'quaker', 'oatmeal', 'soft', 'cooki', 'morning<br', '/>', 'breakfest', 'big', 'glass', 'milk!', ':)'], ['my', 'whole', 'famili', 'love', 'cookie!', 'it', 'soft', 'tast', 'great!', 'it', 'soft', '8', 'month', 'old', 'even', 'got', 'enjoy', 'it,', 'too!'], ['the', 'cooki', 'soft', 'flavorful.', 'it', 'tast', 'good', 'raisin', 'moist.', 'my', 'complaint', 'cooki', 'stay', 'together.', 'it', 'break', 'apart', 'easily,'], ['i', 'realli', 'love', 'tast', 'cookies.', 'they', 'tast', 'like', 'home', 'bake', 'instead', 'manufactur', 'like', 'store', 'bought', 'packag', 'cookies.', 'they', 'seem', 'nutrit', 'normal', 'packag', 'cookies.', 'i', 'use', 'like', 'oat', 'meal', 'cooki', 'may', 'chang', 'mind.', 'i', 'would', 'definit', 'buy', 'again.'], ['like', 'buy', 'kid', 'love', 'theyr', 'also', 'good', 'them,', 'soft', 'chewi', 'healthi', 'tast', 'great'], ['these', 'cooki', 'amazing!', 'great', 'snack', 'children.', 'nutriti', 'yet', 'satisfying.', 'will', 'keep', 'purchas', 'these.', 'amaz', 'great', 'taste.'], ['what', 'great', 'snack', 'run,', 'purs', 'diaper', 'bag,', 'even', 'quick', 'treat', 'home!', 'was', 'delici', 'pretti', 'healthi', 'compar', 'cookies!'], ['we', 'tri', 'soft', 'bake', 'oatmeal', 'raisin', 'cooki', 'fell', 'love', 'them!', 'be', 'mom', 'constant', 'go', 'hard', 'find', 'great', 'snack', 'kid', 'cooki', 'come', 'individu', 'wrap', 'fit', 'easili', 'diaper', 'bag,', 'purse,', 'lunch', 'box', 'car.', 'i', 'would', 'recommend', 'everi', 'one:)'], ['i', 'share', 'toddler.', 'we', 'love', 'them.', 'they', 'soft', 'practic', 'melt', 'mouth.', 'they', 'soft', 'delicious.', 'the', 'fact', 'healthi', 'also', 'help', 'make', 'feel', 'great', 'give', 'kids.'], ['as', 'soon', 'i', 'receiv', 'sampl', 'influenst', 'mom', 'voxbox', 'influenster.com', '2', 'yr', 'old', 'ate', 'leav', 'bite', 'sample.', 'so', 'i', 'went', 'walmart', 'buy', 'more.', 'all', 'appl', 'cinnamon', 'one', 'ate', 'entir', 'box!', 'i', 'luckili', 'put', '1', 'cooki', 'case', 'cookie.', 'hubbi', 'addict', 'i', 'see', 'why.', 'they', 'tast', 'fresh', 'everyon', 'love', 'them!<br', '/>i', 'got', 'tri', 'product', 'free', 'momvoxbox', 'influenster.com<br', \"/>i'm\", 'influenst', 'influenc', 'friend', 'famili', 'yes,', 'even', 'stranger', 'tri', 'new', 'amaz', 'products!'], ['quaker', 'soft', 'bake', 'oatmeal', 'cooki', 'raisin', 'ok,', 'left', 'want', 'someth', 'better.', 'i', 'thought', 'tast', 'good,', 'i', 'found', 'littl', 'dri', 'side.', 'a', 'lot', 'packag', 'cooki', 'odd', 'chemic', 'aftertaste,', 'i', 'realli', 'notic', 'much', 'these.<br', '/><br', '/>however,', 'i', 'would', 'like', 'see', 'better', 'choic', 'ingredients.', 'first,', 'i', 'understand', 'need', 'bleach', 'unbleach', 'flour.', 'quaker', 'stick', 'unbleached.', 'second,', 'i', 'accept', 'sugar', 'ingredient.', 'these', 'cookies.', 'cooki', 'sweet,', 'i', 'expect', 'sugar.', 'yet', 'also', 'use', 'fructose,', 'invert', 'sugar', 'syrup,', 'corn', 'syrup,', 'polydextrose?', 'these', 'also', 'contain', 'molasses,', 'natur', 'sweetener.', 'finally,', 'corn', 'starch', 'modifi', 'corn', 'starch.', 'again,', 'why?', 'you', 'may', 'find', 'ingredi', 'would', 'question,', 'seem', 'like', 'glare', 'issu', 'me.', 'in', 'end,', 'i', 'think', 'much', 'overcom', 'combin', 'relat', 'high', 'percentag', '(60', '170)', 'calori', 'fat.', 'in', 'short,', 'i', 'cannot', 'recommend', 'cookies.'], ['i', 'receiv', 'one', 'box', 'cooki', 'amazon', 'vine', 'program.', 'i', 'done', 'rsearch', 'previous', 'rememb', 'oatmeal', 'cooki', 'grandmoth', 'bake', 'tasti', 'were.', 'i', 'anxious', 'tri', 'quaker', 'version.', 'when', 'box', 'arriv', 'first', 'thing', 'i', 'noticed,', 'right', 'front', 'box,', 'six', 'individu', 'wrap', 'cooki', 'contain', 'whop', '170', 'calories.', 'when', 'i', 'super', 'activ', 'kid', 'i', 'ate', 'grandmoth', 'cooki', 'impun', 'although', 'i', 'know', 'calori', 'count.', 'i', 'alway', 'skinni', 'kid', 'regardless', 'i', 'ate.', 'now,', 'adult,', 'i', 'longer', 'skinni', 'lard', 'butt', 'either', 'i', 'aspir', 'becom', 'one', 'eat', 'cookies.', 'however,', 'i', 'want', 'tast', 'test', 'i', 'took', 'bite', 'quick', 'realiz', 'simpli', 'run', 'mill', 'oatmeal', 'cookies.', 'they', 'distinguish', 'characterist', 'major', 'calori', 'count.', 'dry,', 'stale', 'tasteless', 'best', 'descript', 'i', 'come', 'with.'], ['i', 'receiv', 'box', 'cooki', 'amazon', 'vine', 'program,', 'i', 'impressed.', 'i', 'rather', 'high', 'expect', 'sinc', 'i', 'general', 'like', 'quaker', 'products,', 'famili', 'eat', 'lot', 'chewi', 'granola', 'bars.', 'these', 'cooki', 'quit', 'disappointing.', 'they', 'soft,', 'also', 'dry.', 'the', 'raisin', 'total', 'desicc', 'even', 'chewi', 'dri', 'shriveled.', 'the', 'cooki', 'dry,', 'rather', 'powderi', 'texture.', 'at', '170', 'calori', 'per', 'cookie,', 'i', 'plan', 'stick', 'quaker', 'chewi', 'granola', 'bar', 'tast', 'much', 'better', '90-110', 'calori', 'range.'], ['when', 'came', 'quaker,', 'realli', 'made', 'great', 'product', 'snack', 'along', 'busi', 'day.', 'from', 'classic', 'granola', 'bars,', 'instant', 'oatmeal', 'go.', 'but', 'decid', 'step', 'soft', 'bake', 'oatmeal', 'cookies.', 'they', 'absolut', 'tast', 'good.', 'the', 'feel', 'simpl', 'cooki', 'worth', 'while.', 'my', 'gripe', '6', 'packag', 'realli', 'heavi', 'cooki', 'snacker,', 'bit', 'dissapointed.', 'also,', 'mani', 'packag', 'compar', 'amount', 'box', 'littl', 'debbi', 'brand', 'cookies.', 'nevertheless,', 'definit', 'delight', 'quaker,', 'look', 'altern', 'cookies,', 'would', 'good', 'box', 'try.<br', '/><br', '/>price:', 'b<br', '/><br', '/>taste:', 'a-<br', '/><br', '/>overall:', 'b+'], ['i', 'huge', 'fan', 'oatmeal', 'cookies,', 'enjoy', 'eat', 'snack', 'dessert.', 'these', 'good', 'pre-mad', 'soft', 'oatmeal-raisin', 'cookies,', 'i', 'realli', 'enjoy', 'eat', 'them.', 'they', 'soft,', 'chewi', 'tast', 'great.', 'they', 'bad', 'come', 'nutrit', 'either', '-', 'one', '170', 'calories.', 'the', 'downsid', 'cooki', 'seem', 'bit', 'crumbly,', 'gooey', 'enough.', 'each', 'cooki', 'come', 'individu', 'wrapping,', 'tehi', 'conveni', 'take', 'snack', 'go,', 'individu', 'wrap', 'also', 'help', 'preserv', 'freshness.', 'overall,', 'good', 'choic', 'fulfil', 'sweet', 'cravings.'], ['the', 'quaker', 'soft', 'bake', 'oatmeal', 'cookie,', 'raisin', 'good', 'packaging,', 'one', 'relat', 'sturdi', 'outsid', 'box', 'individu', 'wrap', 'cooki', 'inside.', 'this', 'high', 'point.', 'it', 'goe', 'hill', 'there.<br', '/><br', '/>let', 'start', 'taste.', 'it', 'averag', 'best,', 'soft,', 'cardboardi', 'tast', 'make', 'sweet', 'raisin', 'stand', 'even', 'more.', 'often', 'time', 'food,', 'trade-off', 'great', 'tast', 'bad', 'nutrit', 'versus', 'average/bad', 'tast', 'good', 'nutrition.', 'this', 'one', 'average/bad', 'tast', 'bad', 'nutrition.', 'so', 'what', 'point', 'eat', 'not-very-tasti', 'junk', 'food?<br', '/><br', '/>becaus', 'let', 'face', 'it,', 'that', 'is.', 'the', 'list', 'ingredi', 'unnatur', 'long', '-', '16', 'line', '(ye', 'sixteen', 'lines)', 'ingredi', 'box,', 'includ', 'fan', 'favorit', 'corn', 'syrup.', 'this', 'oatmeal', 'cooki', 'cri', 'loud.<br', '/><br', '/>and', 'here', 'bad', 'nutrition:', '170', 'calori', 'per', 'cookie,', 'includ', '5%', 'cholesterol,', '12g', 'sugars,', '6%', 'sodium', '(150mg).', 'on', 'plus', 'side,', '4g', 'dietari', 'fiber', '2g', 'protein.', 'other', 'number', 'label:', '6g', 'fat', '(1.5g', 'saturated),', '27g', 'total', 'carbs,', 'singl', 'digit', 'percentag', 'iron', 'calcium.', 'each', 'cooki', 'weigh', 'around', '1.5', 'ounces,', 'giant', 'cookie.<br', '/><br', '/>if', 'go', 'eat', 'cookie,', 'least', 'eat', 'cooki', 'actual', 'like.', 'otherwise,', 'what', 'point?'], ['let', 'start', 'say', \"i'm\", 'bit', 'cooki', 'snob', 'live', 'next', 'door', 'grandmoth', 'youth.', 'there', 'noth', 'better', 'homemad', 'cookie.', 'have', 'tri', 'share', 'co-work', 'i', 'honest', 'say', 'impressed.', 'there', 'much', 'said', 'positive.', 'for', 'soft', 'bake', 'cooki', 'tast', 'aw', 'dry.', 'it', 'almost', 'like', 'cereal', 'bar', 'rather', 'cookie.', 'there', 'yummi', 'butteri', 'taste.', 'they', 'worth', '170', 'cal', 'per', 'cookie.', 'the', 'thing', 'posit', 'said', 'convieni', 'separ', 'pack', 'lunch', 'go', 'snacks.'], ['i', 'must', 'admit', 'one', 'great', 'product.', 'not', 'i', 'enjoy', 'son', 'well', '.', 'they', 'big', 'hit', 'today', 'son', 'birthday', 'parti', 'i', 'intend', 'keep', 'purchasing!!', 'great', 'job!'], ['i', 'receiv', 'sampl', 'cooki', 'complimentari', 'box', 'review', 'influenst', 'delici', 'i', 'never', 'tri', 'i', 'would', 'recommend', 'anyon'], ['<span', 'class=\"tiny\">', 'length::', '4:14', 'mins<br', '/><br', '/></span>thes', 'good,', 'sweet,', 'crumbly,', 'slight', 'dry,', 'good', 'raisin', 'low', 'ratio,', 'excel', 'texture,', 'natur', 'tast', '(noth', 'artificial),', 'dens', '&', 'fill', 'enough.', 'for', 'store', 'bought', 'cookie,', 'good.', 'there', 'noth', 'artifici', 'tast', 'them,', 'stay', 'soft,', 'good', 'chewi', 'textur', 'hold', 'togeth', 'well.', 'they', 'tast', 'littl', 'dry,', 'dri', 'brittle.', 'most', 'home', 'made', 'cooki', 'dri', 'turn', 'brittl', 'days.', 'these', 'hold', 'well.', 'the', 'rais', 'ratio', 'seem', 'right,', 'mani', 'good', 'balanc', 'sweet', '&', 'wet', 'right', 'places.', 'they', 'moder', 'sized,', 'smaller', 'i', 'would', 'guess', 'larg', 'pictur', 'size', 'box,', 'seem', 'fill', 'enough', 'suffici', 'dense.', 'they', 'perfect', 'compar', 'actual', 'home', 'bake', 'fresh', 'oven,', 'relat', 'store', 'bought', 'cookies,', 'oatmeal', 'cookies,', 'i', 'thought', 'good.<br', '/><br', '/>one', 'thing', 'rememb', 'healthi', 'impli', 'good', 'thing', 'promot', 'use', 'quaker', 'oat', 'good', 'sourc', 'fiber.', 'they', '16%', 'fiber', 'pack', 'good', 'things,', 'carri', '9%', 'daili', 'valu', 'fat', 'too,', 'per', 'cookie.', 'compar', 'cooki', 'snack', 'offer', 'positives,', 'pack', 'good', 'thing', 'along', 'bad.', 'just', 'think', 'consid', 'good', 'eat', 'appl', 'without', 'fat.', 'but', 'altern', 'pick', 'potato', 'chip', 'cookies,', 'least', 'pack', 'health', 'benefit', 'go', 'eat', 'snack', 'anyway.'], ['i', 'receiv', 'quaker', 'soft', 'bake', 'oatmeal', 'cooki', 'raisin', 'complimentari', 'influenst', 'review', 'purposes.<br', '/><br', '/>i', 'relationship', 'oatmeal', 'cooki', 'oatmeal', 'cooki', 'gritti', 'textur', 'oatmeal.', 'i', 'pleasant', 'surpris', 'piec', 'cooki', 'i', 'test', 'gritty,', 'raisin', 'delicious.', 'there', 'no', 'way', 'homemad', 'shape', 'fashion.', 'they', 'delicious.<br', '/><br', '/>with', '6', 'gram', 'fat,170', 'calories,', '12g', 'sugar', 'per', 'serv', '(1', 'cookie)', 'i', 'would', 'consid', 'healthier', 'altern', 'cooki', 'market.', \"i'v\", 'alreadi', 'went', 'store', 'purchas', 'anoth', 'box.<br', '/><br', '/>you', 'disappoint', 'tri', 'cooki', 'out!'], ['i', 'love', 'cookie!', 'i', 'receiv', 'mom', 'vox', 'box', 'influenster,', 'first', 'thing', 'daughter', 'tried.', '(:', 'she', 'absolut', 'love', 'it,', 'i', 'buy', 'put', 'diaper', 'bag,', 'go', 'trip', '(:'], ['hello,', 'i', 'receiv', 'cooki', '@influenst', 'mom', 'voxbox', 'review', 'say', 'pleas', 'taste,', 'textur', 'enorm', 'size', 'cookie.', 'i', 'happi', 'quaker', 'products,', 'alway', 'ever', 'sinc', 'little.', 'i', 'pass', 'nutrit', 'product', 'children', 'grandma', 'pass', 'me.'], ['i', 'like', 'cooki', 'go.', 'they', 'soft', 'chewi', 'good', 'quaker', 'products.', 'if', 'time', 'bake,', 'give', 'cooki', 'try.', 'they', 'tast', 'great.', 'i', 'sampl', 'product', 'thank', 'influenst', 'i', 'thank', 'that!'], ['reciv', 'free', 'sampl', 'influenst', 'let', 'tell', 'good', 'soft', 'crumbl', 'right', 'mouth', 'big', 'cooki', 'daughter', 'also', 'love', 'would', 'difenit', 'recommend', 'buy', 'like', 'oatmeal', 'raisin'], ['these', 'cooki', 'great', 'quick', 'snack', 'kids.', 'they', 'even', 'complain', 'raisins,', 'i', 'think', 'gobbl', 'even', 'notice!'], ['i', 'receiv', 'sampl', 'quick', 'went', 'purchas', 'box.', 'these', 'super', 'soft', 'cooki', 'individu', 'wrap', 'convenience.', 'the', 'individu', 'wrap', 'cooki', 'huge', 'featur', 'cooki', 'stay', 'fresh', 'soft', 'easili', 'tote-', 'package.', 'you', 'get', 'great', 'tast', 'quaker', 'oat', 'cooki', 'without', 'work', 'bake', 'them!', 'toss', 'kid', 'lunch', 'bag,', 'spous', 'lunch', 'box,', 'pack', 'picnic,', 'use', 'birthday', 'parti', 'favor', 'bag', 'healthi', 'alternative!', 'great', 'tasting,', 'great', 'portability,', 'great', 'texture.', 'love', 'them!!'], ['my', 'children', 'love', 'cookies.', 'they', 'soft', 'tast', 'awesome.', 'will', 'buy', 'sure.th', 'best', 'cooki', 'ever', 'tried.'], ['these', 'cooki', 'soft', 'yummy.', 'you', 'would', 'think', 'fresh', 'oven.', 'i', 'definit', 'get', 'hous', ':o)'], ['my', 'whole', 'famili', 'love', 'cookies.', 'and', 'son', 'tri', 'stuff', 'whole', 'thing', 'mouth.', 'i', 'bought', 'yesterday', '&', 'i', 'think', 'i', 'get', 'soon.'], ['my', 'kid', 'love', 'great', 'take', 'run', 'door', 'littl', 'snack.', 'get', 'own!'], ['i', 'fallen', 'love', 'quaker', 'soft', 'bake', 'oatmeal', 'cookie!', 'i', 'tri', 'mom', 'voxbox', 'influenst', 'good.', 'it', 'tast', 'like', 'homemad', 'cooki', 'me.', 'i', 'love', 'fact', 'cooki', 'high', 'sugar', 'like', 'ones.', 'i', 'went', 'bought', 'box', 'appl', 'cinnamon', 'tri', 'love', 'well.', 'my', 'famili', 'love', 'quaker', 'brand', 'continu', 'buy', 'recommend', 'quaker.'], ['love', 'soft', 'cookies.', 'tast', 'like', 'fresh', 'bake', 'oven.', 'oatmeal', 'sweet', 'tasti'], ['i', 'absolut', 'love', 'new', 'cookies.', 'they', 'soft', 'yummy.', 'the', 'kid', 'also', 'enjoy', 'them.', 'i', 'saw', 'store', 'also', 'price', 'bad.', \"i'll\", 'return', 'custom', 'these.'], ['i', 'receiv', 'amaz', 'soft', 'bake', 'oatmeal', 'cooki', 'influenst', 'mom', 'voxbox.', \"i'm\", 'normal', 'fan', 'oatmeal', 'raisin', 'cooki', 'sinc', 'i', 'like', 'raisins,', 'delicious!', 'the', 'cooki', 'thick', 'tast', 'homemad', 'nice', 'oatmeal', 'flavor.', \"i'm\", 'definit', 'go', 'buy', 'these.'], ['i', 'got', 'influenst', 'mom', 'voxbox,', 'soft', 'tasti', 'husband', 'said,', 'one', 'ate', 'lol!'], ['i', 'got', 'influenst', 'mom', 'voxbox,', 'realli', 'good.', 'they', 'moist', 'yummy.', 'i', 'like', 'raisin', 'i', 'pick', 'out,', 'oatmeal', 'amazing.', 'i', 'definit', 'buy', 'more.', 'well,', 'flavor', 'without', 'raisin', 'them.'], ['i', 'got', 'one', 'influenst', 'mom', 'voxbox!', 'omg', 'good,', 'my', 'daughter', 'i', 'share', 'first', 'one', 'went', 'got', 'anoth', 'box!', 'this', 'must', 'now!', 'they', 'great', 'snack', 'on.', 'they', 'super', 'soft.', 'there', 'noth', 'bad', 'say', 'cookies.', 'you', 'must', 'tri', 'them!'], ['a', 'decad', 'go', 'treat!!', 'nice', 'keep', 'around', 'hous', 'quick', 'meals,', 'toss', 'homemad', 'ice', 'cream', 'yummi', 'flavor', 'grab', 'one', 'sweet', 'tooth!'], ['~', 'quick', 'take:', 'tasty,', 'chewy,', 'soft-bak', 'cooki', 'oat', 'raisin', 'whole', 'famili', 'enjoy!', '=)<br', '/>~', 'usag', 'tips:', 'eat', 'snack,', 'dessert', 'basic', 'anytim', 'day.', 'they', 'go', 'well', 'cup', 'tea', 'mayb', 'cup', 'coffe', 'morning.<br', '/>~', 'the', 'verdict:', 'next', 'time', 'store,', 'leav', 'without', 'pick', 'quaker', 'soft', 'bake', 'oatmeal', 'cookies!', 'they', 'good', 'take', '\"on-the-go\"', 'sinc', 'individu', 'packaged.', 'they', 'healthi', 'treat,', 'provid', 'good', 'sourc', 'fiber,', 'contain', '6', 'gram', 'total', 'fat', 'per', 'serving,', 'made', 'whole', 'grain', 'quaker', 'oats!', 'you', \"can't\", 'beat', 'that!', 'tri', 'out,', \"i'm\", 'sure', 'love', 'much', 'i', 'did!', '=d'], ['the', 'cooki', 'make', 'much', 'box.', 'it', 'big', 'enough', 'split', 'two', 'daughter', 'hit', 'super-picki', 'eaters.', 'i', 'got', 'small', 'bite', 'love', 'it.', 'it', 'realli', 'tast', 'like', 'someth', 'could', 'bake', 'kitchen.', 'i', 'definit', 'buy', 'cooki', 'mayb', 'next', 'time', 'i', 'get', 'whole', 'one.'], ['my', 'kid', 'i', 'care', 'much,', 'toss', 'bites,', 'kid', 'throw', 'away', 'cookies????'], ['if', 'i', 'could', 'give', 'zero', 'star', 'i', 'would......horr', 'tast', 'much', 'either.', 'like', 'hint', 'molass', 'old', 'use.', 'if', 'i', 'never', 'oatmeal', 'raisin', 'cooki', 'first', 'tast', 'one', 'i', 'would', 'never', 'tri', 'one', 'again.', 'quaker....pul', 'shelv', 'store', 'sell', 'throw', 'garbag', 'belong.', 'this', 'product', 'give', 'quaker', 'bad', 'name.', 'please....', 'wast', 'money', 'tell', 'kid', 'one', 'treat,', 'like', 'someth', 'would', 'give', 'punishment....'], ['these', 'cooki', 'soft', 'delicious.', 'possibl', 'reli', 'oat', 'flour', 'roll', 'oats,', 'lack', 'chewi', 'textur', 'tradit', 'oatmeal', 'cookie.', 'instead', 'almost', 'melt-in-your', 'mouth,', 'nice', 'soft', 'raisin', 'well.', 'perhap', 'truli', 'detriment', 'characterist', 'tast', 'like', 'raisin', 'spice', 'cooki', 'oatmeal', 'cookie.', 'i', 'enjoy', 'tast', 'oatmeal', 'mind', 'brought', 'forefront.<br', '/><br', '/>i', 'usual', 'buy', 'individu', 'wrap', 'food,', 'i', 'think', \"i'd\", 'buy', 'product', 'again,', 'i', 'would', 'certain', 'recommend', 'others.'], ['i', 'cannot', 'say', 'tast', 'like', 'home', 'made', 'far', 'off.', 'i', 'like', 'chewi', 'i', 'crispi', 'cooki', 'person.', 'these', 'tasti', 'fact', 'tasti', 'i', 'want', 'eat', 'once.', 'i', 'would', 'love', 'dip', 'i', 'melt', 'chocol', 'make', 'sandwich', 'cooki', 'put', 'kind', 'frost', 'chocol', 'middle.', 'oh', 'would', 'great.<br', '/><br', '/>these', 'sweet', 'right', 'basic', 'everi', 'way.', 'i', 'like', 'fact', 'come', 'individu', 'wrap', 'put', 'lunch', 'bag', 'send', 'children', 'noon', 'meal.', 'each', 'cooki', '170', 'calori', 'bad', 'consid', 'size', 'them,', 'quit', 'big', 'satisfi', 'anyon', 'urg', 'sweet', 'treat.<br', '/>i', 'pleas', 'cooki', 'would', 'definit', 'buy', 'again.'], ['cooki', 'super', 'soft', 'chewy.i', 'love', 'also', 'tri', 'oatmeal', 'cookies,they', 'bomb', 'diggitty!!!i', 'would', 'recommend', 'everyone.i', 'receiv', 'mom', 'voxbox', 'kid', 'love', 'it!!'], ['these', 'cooki', 'reason', 'tasti', 'without', 'sweet.', 'the', 'individu', 'pack', 'keep', 'nice', 'moist', 'make', 'easi', 'includ', 'one', 'pack', 'lunch.<br', '/><br', '/>that', 'said,', 'special', \"i'd\", 'make', 'effort', 'seek', 'out.', 'also,', 'fact', 'cooki', '170', 'calori', 'would', 'keep', 'often.', 'luckily,', 'individu', 'pack', 'keep', 'fresh', 'till', 'feel', 'like', 'one.'], ['this', 'is', 'a', 'fab', 'product', 'soft', 'and', 'chewi', 'you', 'cant', 'go', 'wrong', 'me', 'and', 'my', 'kid', 'love', 'them', 'my', 'two', 'year', 'old', 'is', 'hard', 'for', 'him', 'to', 'share', 'he', 'say', 'no', 'my', 'cooki', 'lol'], ['i', 'love', 'cooki', 'kids.', 'you', 'read', 'full', 'review', '[...]', 'my', 'favorit', 'part', 'definit', 'taste,', \"i'm\", 'even', 'oatmeal', 'cooki', 'fan.'], ['this', 'great', 'tast', 'cookie.', 'it', 'soft', 'textur', 'smooth.', 'i', 'usual', 'like', 'oatmeal', 'cooki', 'textur', 'gritti', 'tough.', 'this', 'cooki', 'problem.', 'it', 'tast', 'like', 'mom', 'made', 'it.'], ['these', 'great', 'quick', 'snack!', 'they', 'satisfi', 'even', 'sweet', 'tooth.', 'i', 'love', 'whole', 'grain', 'fiber!', 'delicious,', 'wish', 'raisin', 'them!'], ['i', 'love', 'quaker', 'soft', 'bake', 'cookies.', 'the', 'realli', 'soft', 'tast', 'great.', 'i', 'tri', 'oatmeal', 'raisin,', 'cant', 'wait', 'tri', 'flavors.', 'they', 'look', 'realli', 'good.'], ['this', 'cooki', 'realli', 'good', 'work', 'realli', 'well', 'family.', 'in', 'morn', 'fit', 'morn', 'routine.', 'i', 'take', 'cooki', 'put', 'microwav', 'door', 'go', 'tea.', 'someth', 'i', 'eat', 'desk', 'run.', 'it', 'hold', 'till', 'lunch', 'heavy.']]\n"
          ]
        }
      ],
      "source": [
        "sno = nltk.stem.SnowballStemmer('english')\n",
        "\n",
        "documents = [[sno.stem(word) for word in x.split(\" \")] for x in l_case]\n",
        "print(documents)"
      ]
    },
    {
      "cell_type": "markdown",
      "metadata": {
        "id": "d89g1l92cIgg"
      },
      "source": [
        "1. Constructs a new list (documents) by iterating over each element (x) in the list l_case.\n",
        "2. For each document i in l_case, the inner list comprehension splits i into words using i.split(\" \").\n",
        "3. It then applies stemming to each word using sno.stem(word), where sno is an object or function that performs stemming.\n",
        "4. The outer comprehension gathers these lists of stemmed words (one list per document) and constructs a new list (documents) where each element corresponds to a document from l_case, but with each word stemmed."
      ]
    },
    {
      "cell_type": "markdown",
      "metadata": {
        "id": "XKTiJ341rd43"
      },
      "source": [
        "# TextBlob\n",
        "\n",
        "### Another toolkit other than NLTK\n",
        "\n",
        "- Wraps around NLTK and makes it easier to use"
      ]
    },
    {
      "cell_type": "markdown",
      "metadata": {
        "id": "UtSKm8Jmrd44"
      },
      "source": [
        "# TextBlob Demo: Tokenization"
      ]
    },
    {
      "cell_type": "code",
      "execution_count": 28,
      "metadata": {
        "id": "pv-jdc-XcIgg",
        "colab": {
          "base_uri": "https://localhost:8080/"
        },
        "outputId": "954f21fe-7166-4302-8572-682d862e029c"
      },
      "outputs": [
        {
          "output_type": "stream",
          "name": "stdout",
          "text": [
            "Requirement already satisfied: textblob in /usr/local/lib/python3.11/dist-packages (0.19.0)\n",
            "Requirement already satisfied: nltk>=3.9 in /usr/local/lib/python3.11/dist-packages (from textblob) (3.9.1)\n",
            "Requirement already satisfied: click in /usr/local/lib/python3.11/dist-packages (from nltk>=3.9->textblob) (8.2.1)\n",
            "Requirement already satisfied: joblib in /usr/local/lib/python3.11/dist-packages (from nltk>=3.9->textblob) (1.5.1)\n",
            "Requirement already satisfied: regex>=2021.8.3 in /usr/local/lib/python3.11/dist-packages (from nltk>=3.9->textblob) (2024.11.6)\n",
            "Requirement already satisfied: tqdm in /usr/local/lib/python3.11/dist-packages (from nltk>=3.9->textblob) (4.67.1)\n"
          ]
        }
      ],
      "source": [
        "pip install textblob  #Install the library before importing"
      ]
    },
    {
      "cell_type": "code",
      "execution_count": 29,
      "metadata": {
        "id": "3sm_gcqLrd44",
        "outputId": "a6ce12ae-ba12-4253-bc44-16165c9ca880",
        "colab": {
          "base_uri": "https://localhost:8080/"
        }
      },
      "outputs": [
        {
          "output_type": "execute_result",
          "data": {
            "text/plain": [
              "WordList(['We', \"'re\", 'moving', 'from', 'NLTK', 'to', 'TextBlob', 'How', 'fun'])"
            ]
          },
          "metadata": {},
          "execution_count": 29
        }
      ],
      "source": [
        "from textblob import TextBlob                #complete this\n",
        "\n",
        "my_text = TextBlob(\"We're moving from NLTK to TextBlob. How fun!\")\n",
        "my_text.words"
      ]
    },
    {
      "cell_type": "markdown",
      "metadata": {
        "id": "vz6kz6o6rd44"
      },
      "source": [
        "# TextBlob Demo: Spell Check"
      ]
    },
    {
      "cell_type": "code",
      "execution_count": 30,
      "metadata": {
        "id": "a7x_TFgdrd45",
        "outputId": "9dbd029e-471b-4bd1-df00-feae3d12ffb6",
        "colab": {
          "base_uri": "https://localhost:8080/"
        }
      },
      "outputs": [
        {
          "output_type": "stream",
          "name": "stdout",
          "text": [
            "I'm great at spelling.\n"
          ]
        }
      ],
      "source": [
        "blob = TextBlob(\"I'm graat at speling.\")\n",
        "print(blob.correct())                           #complete this"
      ]
    },
    {
      "cell_type": "markdown",
      "metadata": {
        "id": "QvfqZ_ulrd45"
      },
      "source": [
        "<font color=\"blue\">\n",
        "## How does the correct function work?  <br>\n",
        "    \n",
        "- Calculates the Levenshtein distance between the word ‘graat’ and all words in its word list </br>\n",
        "- Of the words with the smallest Levenshtein distance, it outputs the most popular word </br></font>"
      ]
    },
    {
      "cell_type": "markdown",
      "metadata": {
        "id": "NNRUkzwyrd46"
      },
      "source": [
        "# TextBlob Demo: Tagging"
      ]
    },
    {
      "cell_type": "code",
      "execution_count": 31,
      "metadata": {
        "id": "RVr6l2Bkrd46",
        "outputId": "273a7a89-e053-42f6-d4ff-e8f827f32950",
        "colab": {
          "base_uri": "https://localhost:8080/"
        }
      },
      "outputs": [
        {
          "output_type": "stream",
          "name": "stdout",
          "text": [
            "John NNP\n",
            "hits VBZ\n",
            "the DT\n",
            "ball NN\n"
          ]
        }
      ],
      "source": [
        "blob = TextBlob(\"John hits the ball.\")\n",
        "for words, tag in blob.tags:                     #complete this\n",
        "    print (words, tag)"
      ]
    },
    {
      "cell_type": "markdown",
      "metadata": {
        "id": "xRWBpLVfrd46"
      },
      "source": [
        "# TextBlob Demo: Language Detection and Translation"
      ]
    },
    {
      "cell_type": "code",
      "execution_count": 32,
      "metadata": {
        "id": "Uimeap4prd47"
      },
      "outputs": [],
      "source": [
        "from textblob import TextBlob\n",
        "\n",
        "text = \"This is a sample text in English.\"\n",
        "blob = TextBlob(text)"
      ]
    },
    {
      "cell_type": "code",
      "execution_count": 33,
      "metadata": {
        "id": "W-9hqISZrd47",
        "outputId": "b89e6175-5dea-4cc6-8045-8795ef51dcc8",
        "colab": {
          "base_uri": "https://localhost:8080/"
        }
      },
      "outputs": [
        {
          "output_type": "stream",
          "name": "stdout",
          "text": [
            "Collecting langdetect\n",
            "  Downloading langdetect-1.0.9.tar.gz (981 kB)\n",
            "\u001b[2K     \u001b[90m━━━━━━━━━━━━━━━━━━━━━━━━━━━━━━━━━━━━━━━\u001b[0m \u001b[32m981.5/981.5 kB\u001b[0m \u001b[31m5.4 MB/s\u001b[0m eta \u001b[36m0:00:00\u001b[0m\n",
            "\u001b[?25h  Preparing metadata (setup.py) ... \u001b[?25l\u001b[?25hdone\n",
            "Requirement already satisfied: six in /usr/local/lib/python3.11/dist-packages (from langdetect) (1.17.0)\n",
            "Building wheels for collected packages: langdetect\n",
            "  Building wheel for langdetect (setup.py) ... \u001b[?25l\u001b[?25hdone\n",
            "  Created wheel for langdetect: filename=langdetect-1.0.9-py3-none-any.whl size=993223 sha256=4176ac59f410d4f220c22493b1ea14085caa3dd8512ec03693e04b5fc107b66a\n",
            "  Stored in directory: /root/.cache/pip/wheels/0a/f2/b2/e5ca405801e05eb7c8ed5b3b4bcf1fcabcd6272c167640072e\n",
            "Successfully built langdetect\n",
            "Installing collected packages: langdetect\n",
            "Successfully installed langdetect-1.0.9\n"
          ]
        }
      ],
      "source": [
        "!pip install langdetect             #complete this"
      ]
    },
    {
      "cell_type": "code",
      "execution_count": 34,
      "metadata": {
        "id": "6j9k5_p1rd47",
        "outputId": "eef15783-715e-4103-a895-0a754cb783f6",
        "colab": {
          "base_uri": "https://localhost:8080/"
        }
      },
      "outputs": [
        {
          "output_type": "stream",
          "name": "stdout",
          "text": [
            "Detected Language: zh-cn\n"
          ]
        }
      ],
      "source": [
        "from langdetect import detect           #complete this\n",
        "\n",
        "text = \"没关系\"\n",
        "language = detect(text)\n",
        "\n",
        "print(\"Detected Language:\", language)"
      ]
    },
    {
      "cell_type": "code",
      "execution_count": 35,
      "metadata": {
        "id": "8H7efaHOcIgh",
        "outputId": "3394fe6a-0a00-4fba-8ab6-45622148f3f4",
        "colab": {
          "base_uri": "https://localhost:8080/"
        }
      },
      "outputs": [
        {
          "output_type": "stream",
          "name": "stdout",
          "text": [
            "Collecting googletrans==4.0.0-rc1\n",
            "  Downloading googletrans-4.0.0rc1.tar.gz (20 kB)\n",
            "  Preparing metadata (setup.py) ... \u001b[?25l\u001b[?25hdone\n",
            "Collecting httpx==0.13.3 (from googletrans==4.0.0-rc1)\n",
            "  Downloading httpx-0.13.3-py3-none-any.whl.metadata (25 kB)\n",
            "Requirement already satisfied: certifi in /usr/local/lib/python3.11/dist-packages (from httpx==0.13.3->googletrans==4.0.0-rc1) (2025.7.14)\n",
            "Collecting hstspreload (from httpx==0.13.3->googletrans==4.0.0-rc1)\n",
            "  Downloading hstspreload-2025.1.1-py3-none-any.whl.metadata (2.1 kB)\n",
            "Requirement already satisfied: sniffio in /usr/local/lib/python3.11/dist-packages (from httpx==0.13.3->googletrans==4.0.0-rc1) (1.3.1)\n",
            "Collecting chardet==3.* (from httpx==0.13.3->googletrans==4.0.0-rc1)\n",
            "  Downloading chardet-3.0.4-py2.py3-none-any.whl.metadata (3.2 kB)\n",
            "Collecting idna==2.* (from httpx==0.13.3->googletrans==4.0.0-rc1)\n",
            "  Downloading idna-2.10-py2.py3-none-any.whl.metadata (9.1 kB)\n",
            "Collecting rfc3986<2,>=1.3 (from httpx==0.13.3->googletrans==4.0.0-rc1)\n",
            "  Downloading rfc3986-1.5.0-py2.py3-none-any.whl.metadata (6.5 kB)\n",
            "Collecting httpcore==0.9.* (from httpx==0.13.3->googletrans==4.0.0-rc1)\n",
            "  Downloading httpcore-0.9.1-py3-none-any.whl.metadata (4.6 kB)\n",
            "Collecting h11<0.10,>=0.8 (from httpcore==0.9.*->httpx==0.13.3->googletrans==4.0.0-rc1)\n",
            "  Downloading h11-0.9.0-py2.py3-none-any.whl.metadata (8.1 kB)\n",
            "Collecting h2==3.* (from httpcore==0.9.*->httpx==0.13.3->googletrans==4.0.0-rc1)\n",
            "  Downloading h2-3.2.0-py2.py3-none-any.whl.metadata (32 kB)\n",
            "Collecting hyperframe<6,>=5.2.0 (from h2==3.*->httpcore==0.9.*->httpx==0.13.3->googletrans==4.0.0-rc1)\n",
            "  Downloading hyperframe-5.2.0-py2.py3-none-any.whl.metadata (7.2 kB)\n",
            "Collecting hpack<4,>=3.0 (from h2==3.*->httpcore==0.9.*->httpx==0.13.3->googletrans==4.0.0-rc1)\n",
            "  Downloading hpack-3.0.0-py2.py3-none-any.whl.metadata (7.0 kB)\n",
            "Downloading httpx-0.13.3-py3-none-any.whl (55 kB)\n",
            "\u001b[2K   \u001b[90m━━━━━━━━━━━━━━━━━━━━━━━━━━━━━━━━━━━━━━━━\u001b[0m \u001b[32m55.1/55.1 kB\u001b[0m \u001b[31m1.6 MB/s\u001b[0m eta \u001b[36m0:00:00\u001b[0m\n",
            "\u001b[?25hDownloading chardet-3.0.4-py2.py3-none-any.whl (133 kB)\n",
            "\u001b[2K   \u001b[90m━━━━━━━━━━━━━━━━━━━━━━━━━━━━━━━━━━━━━━━━\u001b[0m \u001b[32m133.4/133.4 kB\u001b[0m \u001b[31m1.8 MB/s\u001b[0m eta \u001b[36m0:00:00\u001b[0m\n",
            "\u001b[?25hDownloading httpcore-0.9.1-py3-none-any.whl (42 kB)\n",
            "\u001b[2K   \u001b[90m━━━━━━━━━━━━━━━━━━━━━━━━━━━━━━━━━━━━━━━━\u001b[0m \u001b[32m42.6/42.6 kB\u001b[0m \u001b[31m3.0 MB/s\u001b[0m eta \u001b[36m0:00:00\u001b[0m\n",
            "\u001b[?25hDownloading idna-2.10-py2.py3-none-any.whl (58 kB)\n",
            "\u001b[2K   \u001b[90m━━━━━━━━━━━━━━━━━━━━━━━━━━━━━━━━━━━━━━━━\u001b[0m \u001b[32m58.8/58.8 kB\u001b[0m \u001b[31m3.9 MB/s\u001b[0m eta \u001b[36m0:00:00\u001b[0m\n",
            "\u001b[?25hDownloading h2-3.2.0-py2.py3-none-any.whl (65 kB)\n",
            "\u001b[2K   \u001b[90m━━━━━━━━━━━━━━━━━━━━━━━━━━━━━━━━━━━━━━━━\u001b[0m \u001b[32m65.0/65.0 kB\u001b[0m \u001b[31m3.8 MB/s\u001b[0m eta \u001b[36m0:00:00\u001b[0m\n",
            "\u001b[?25hDownloading rfc3986-1.5.0-py2.py3-none-any.whl (31 kB)\n",
            "Downloading hstspreload-2025.1.1-py3-none-any.whl (1.3 MB)\n",
            "\u001b[2K   \u001b[90m━━━━━━━━━━━━━━━━━━━━━━━━━━━━━━━━━━━━━━━━\u001b[0m \u001b[32m1.3/1.3 MB\u001b[0m \u001b[31m8.9 MB/s\u001b[0m eta \u001b[36m0:00:00\u001b[0m\n",
            "\u001b[?25hDownloading h11-0.9.0-py2.py3-none-any.whl (53 kB)\n",
            "\u001b[2K   \u001b[90m━━━━━━━━━━━━━━━━━━━━━━━━━━━━━━━━━━━━━━━━\u001b[0m \u001b[32m53.6/53.6 kB\u001b[0m \u001b[31m4.5 MB/s\u001b[0m eta \u001b[36m0:00:00\u001b[0m\n",
            "\u001b[?25hDownloading hpack-3.0.0-py2.py3-none-any.whl (38 kB)\n",
            "Downloading hyperframe-5.2.0-py2.py3-none-any.whl (12 kB)\n",
            "Building wheels for collected packages: googletrans\n",
            "  Building wheel for googletrans (setup.py) ... \u001b[?25l\u001b[?25hdone\n",
            "  Created wheel for googletrans: filename=googletrans-4.0.0rc1-py3-none-any.whl size=17396 sha256=c9e8f6437c670446f1e1675d5e49d751673e3ee8b478b8292d81226cfee95453\n",
            "  Stored in directory: /root/.cache/pip/wheels/39/17/6f/66a045ea3d168826074691b4b787b8f324d3f646d755443fda\n",
            "Successfully built googletrans\n",
            "Installing collected packages: rfc3986, hyperframe, hpack, h11, chardet, idna, hstspreload, h2, httpcore, httpx, googletrans\n",
            "  Attempting uninstall: hyperframe\n",
            "    Found existing installation: hyperframe 6.1.0\n",
            "    Uninstalling hyperframe-6.1.0:\n",
            "      Successfully uninstalled hyperframe-6.1.0\n",
            "  Attempting uninstall: hpack\n",
            "    Found existing installation: hpack 4.1.0\n",
            "    Uninstalling hpack-4.1.0:\n",
            "      Successfully uninstalled hpack-4.1.0\n",
            "  Attempting uninstall: h11\n",
            "    Found existing installation: h11 0.16.0\n",
            "    Uninstalling h11-0.16.0:\n",
            "      Successfully uninstalled h11-0.16.0\n",
            "  Attempting uninstall: chardet\n",
            "    Found existing installation: chardet 5.2.0\n",
            "    Uninstalling chardet-5.2.0:\n",
            "      Successfully uninstalled chardet-5.2.0\n",
            "  Attempting uninstall: idna\n",
            "    Found existing installation: idna 3.10\n",
            "    Uninstalling idna-3.10:\n",
            "      Successfully uninstalled idna-3.10\n",
            "  Attempting uninstall: h2\n",
            "    Found existing installation: h2 4.2.0\n",
            "    Uninstalling h2-4.2.0:\n",
            "      Successfully uninstalled h2-4.2.0\n",
            "  Attempting uninstall: httpcore\n",
            "    Found existing installation: httpcore 1.0.9\n",
            "    Uninstalling httpcore-1.0.9:\n",
            "      Successfully uninstalled httpcore-1.0.9\n",
            "  Attempting uninstall: httpx\n",
            "    Found existing installation: httpx 0.28.1\n",
            "    Uninstalling httpx-0.28.1:\n",
            "      Successfully uninstalled httpx-0.28.1\n",
            "\u001b[31mERROR: pip's dependency resolver does not currently take into account all the packages that are installed. This behaviour is the source of the following dependency conflicts.\n",
            "gradio 5.38.0 requires httpx<1.0,>=0.24.1, but you have httpx 0.13.3 which is incompatible.\n",
            "openai 1.97.0 requires httpx<1,>=0.23.0, but you have httpx 0.13.3 which is incompatible.\n",
            "gradio-client 1.11.0 requires httpx>=0.24.1, but you have httpx 0.13.3 which is incompatible.\n",
            "google-genai 1.26.0 requires httpx<1.0.0,>=0.28.1, but you have httpx 0.13.3 which is incompatible.\n",
            "firebase-admin 6.9.0 requires httpx[http2]==0.28.1, but you have httpx 0.13.3 which is incompatible.\n",
            "langsmith 0.4.8 requires httpx<1,>=0.23.0, but you have httpx 0.13.3 which is incompatible.\u001b[0m\u001b[31m\n",
            "\u001b[0mSuccessfully installed chardet-3.0.4 googletrans-4.0.0rc1 h11-0.9.0 h2-3.2.0 hpack-3.0.0 hstspreload-2025.1.1 httpcore-0.9.1 httpx-0.13.3 hyperframe-5.2.0 idna-2.10 rfc3986-1.5.0\n"
          ]
        }
      ],
      "source": [
        "!pip install googletrans==4.0.0-rc1         #complete this"
      ]
    },
    {
      "cell_type": "code",
      "execution_count": 36,
      "metadata": {
        "id": "2wLwTF_trd5g",
        "outputId": "2a085310-e1c4-4e41-e4d6-aca1764661dc",
        "colab": {
          "base_uri": "https://localhost:8080/"
        }
      },
      "outputs": [
        {
          "output_type": "stream",
          "name": "stdout",
          "text": [
            "Detected Language: en\n",
            "Translated Text (to French): Arch Chinese是美國中國教師在美國學校和大學中漢語中漢語學習者制定的中國首要學習系統。\n"
          ]
        }
      ],
      "source": [
        "from langdetect import detect\n",
        "from googletrans import Translator\n",
        "\n",
        "text = \"Arch Chinese is a premier Chinese learning system crafted by Chinese teachers in the United States for Mandarin Chinese language learners at K-12 schools and universities.\"\n",
        "\n",
        "# Detect the language\n",
        "detected_lang = detect(text)\n",
        "\n",
        "# Translate to French\n",
        "translator = Translator()\n",
        "translated_text = translator.translate(text, src=detected_lang, dest='zh-tw').text\n",
        "\n",
        "print(\"Detected Language:\", detected_lang)\n",
        "print(\"Translated Text (to French):\", translated_text)"
      ]
    },
    {
      "cell_type": "markdown",
      "metadata": {
        "id": "TZOpKscMcIgh"
      },
      "source": [
        "# Exercise"
      ]
    },
    {
      "cell_type": "code",
      "execution_count": 37,
      "metadata": {
        "id": "xmooket6cIgh",
        "outputId": "6065c3e8-0dfc-49e1-912b-c39d453013fe",
        "colab": {
          "base_uri": "https://localhost:8080/"
        }
      },
      "outputs": [
        {
          "output_type": "stream",
          "name": "stdout",
          "text": [
            "Tokens: ['TextBlob', 'is', 'a', 'simple', 'and', 'powerful', 'library', 'for', 'text', 'processing']\n",
            "Number of Tokens: 10\n"
          ]
        }
      ],
      "source": [
        "# Write a Python function using TextBlob to tokenize a given sentence and count the number of tokens.\n",
        "\n",
        "from textblob import TextBlob\n",
        "\n",
        "def tokenize_and_count(sentence):\n",
        "    blob = TextBlob(sentence)\n",
        "    tokens = blob.words\n",
        "\n",
        "    print(\"Tokens:\", tokens)\n",
        "    num_tokens = len(tokens)\n",
        "    return num_tokens\n",
        "\n",
        "# Example sentence, you may change to user input as well\n",
        "sentence = \"TextBlob is a simple and powerful library for text processing.\"\n",
        "\n",
        "# Call the function\n",
        "num_tokens = tokenize_and_count(sentence)\n",
        "print(\"Number of Tokens:\", num_tokens)"
      ]
    },
    {
      "cell_type": "code",
      "execution_count": 38,
      "metadata": {
        "id": "mcgCaGF8cIgh",
        "outputId": "8be66450-806e-4226-98bc-a699adf447ba",
        "colab": {
          "base_uri": "https://localhost:8080/"
        }
      },
      "outputs": [
        {
          "output_type": "stream",
          "name": "stdout",
          "text": [
            "POS Tags:\n",
            "TextBlob NNP\n",
            "is VBZ\n",
            "a DT\n",
            "simple JJ\n",
            "and CC\n",
            "powerful JJ\n",
            "library NN\n",
            "for IN\n",
            "text NN\n",
            "processing NN\n"
          ]
        }
      ],
      "source": [
        "# Write a Python function using TextBlob to perform Parts of Speech (POS) tagging on a given sentence.\n",
        "\n",
        "from textblob import TextBlob\n",
        "\n",
        "def pos_tagging(sentence):\n",
        "\n",
        "    blob = TextBlob(sentence)\n",
        "    pos_tags = blob.tags\n",
        "    print(\"POS Tags:\")\n",
        "    for words, tag in blob.tags:\n",
        "        print (words, tag)\n",
        "\n",
        "# Example sentence\n",
        "sentence = \"TextBlob is a simple and powerful library for text processing.\"\n",
        "\n",
        "# Call the function\n",
        "pos_tagging(sentence)"
      ]
    },
    {
      "cell_type": "code",
      "execution_count": 39,
      "metadata": {
        "id": "wzT_Ot_ccIgh",
        "outputId": "3e43f31f-733f-4198-f94d-bbb708f038f6",
        "colab": {
          "base_uri": "https://localhost:8080/"
        }
      },
      "outputs": [
        {
          "output_type": "stream",
          "name": "stdout",
          "text": [
            "Original Text:\n",
            "Thes arre somme speling errors in thiss sentance.\n",
            "\n",
            "Corrected Text:\n",
            "The are some spelling errors in this sentence.\n"
          ]
        }
      ],
      "source": [
        "# Write a Python function using TextBlob to perform spell checking on a given text and suggest corrections.\n",
        "from textblob import TextBlob\n",
        "\n",
        "def spell_check(text):\n",
        "    blob = TextBlob(text)\n",
        "    corrected_text = blob.correct()\n",
        "    print(\"Original Text:\")\n",
        "    print(text)\n",
        "    print(\"\\nCorrected Text:\")\n",
        "    print(corrected_text)\n",
        "\n",
        "# Example text with intentional errors\n",
        "text = \"Thes arre somme speling errors in thiss sentance.\"\n",
        "\n",
        "# Call the function\n",
        "spell_check(text)"
      ]
    },
    {
      "cell_type": "code",
      "execution_count": null,
      "metadata": {
        "id": "p8GdgLhYcIgh"
      },
      "outputs": [],
      "source": [
        "# Write a Python function using langdetect and googletrans to perform trasnlation on a given text from english to chiense"
      ]
    },
    {
      "cell_type": "code",
      "execution_count": 40,
      "metadata": {
        "id": "_MsV3EEucIgh",
        "outputId": "1a8be1bc-73d7-4810-fcc3-42b9076b6d33",
        "colab": {
          "base_uri": "https://localhost:8080/"
        }
      },
      "outputs": [
        {
          "output_type": "stream",
          "name": "stdout",
          "text": [
            "Original Text: Hello, how are you?\n",
            "Translated Text (to Chinese): 你好吗？\n"
          ]
        }
      ],
      "source": [
        "from langdetect import detect\n",
        "from googletrans import Translator\n",
        "\n",
        "def translate_to_chinese(text):\n",
        "    # Detect the language of the text\n",
        "    detected_lang = detect(text)\n",
        "\n",
        "    # Translate to Chinese ('zh-CN')\n",
        "    translator = Translator()\n",
        "    translated_text = translator.translate(text, src=detected_lang, dest='zh-CN').text\n",
        "\n",
        "    return translated_text\n",
        "\n",
        "# Example text in English\n",
        "text = \"Hello, how are you?\"\n",
        "\n",
        "# Translate to Chinese\n",
        "translated_text = translate_to_chinese(text)\n",
        "\n",
        "print(f\"Original Text: {text}\")\n",
        "print(f\"Translated Text (to Chinese): {translated_text}\")"
      ]
    },
    {
      "cell_type": "markdown",
      "metadata": {
        "id": "oiushqSmrd41"
      },
      "source": [
        "# <font color=\"maroon\"> Some other functions in NLP: Text Similarity Measures </font>\n",
        "\n",
        "- To measure distance between 2 string\n",
        "\n",
        "Applications\n",
        "- Information retrieval\n",
        "- Text classification\n",
        "- Document clustering\n",
        "- Topic Modeling\n",
        "- Matric decomposition\n",
        "\n",
        "To measure the word similarity, we use **<font color=\"blue\"><a href=\"https://pypi.org/project/python-Levenshtein/\" target=\"_blank\">Levenshtein distance</a></font>**.\n",
        "- Minimum number of operations to get from one word to another."
      ]
    },
    {
      "cell_type": "markdown",
      "metadata": {
        "id": "MHCcSiv3rd41"
      },
      "source": [
        "![](https://i.imgur.com/FkdJmPi.png)"
      ]
    },
    {
      "cell_type": "code",
      "execution_count": 41,
      "metadata": {
        "id": "9bvYNWyGrd42",
        "outputId": "6abbb613-5d1f-4d1f-eb1d-97f5b072c163",
        "colab": {
          "base_uri": "https://localhost:8080/"
        }
      },
      "outputs": [
        {
          "output_type": "stream",
          "name": "stdout",
          "text": [
            "Collecting python-Levenshtein\n",
            "  Downloading python_levenshtein-0.27.1-py3-none-any.whl.metadata (3.7 kB)\n",
            "Collecting Levenshtein==0.27.1 (from python-Levenshtein)\n",
            "  Downloading levenshtein-0.27.1-cp311-cp311-manylinux_2_17_x86_64.manylinux2014_x86_64.whl.metadata (3.6 kB)\n",
            "Collecting rapidfuzz<4.0.0,>=3.9.0 (from Levenshtein==0.27.1->python-Levenshtein)\n",
            "  Downloading rapidfuzz-3.13.0-cp311-cp311-manylinux_2_17_x86_64.manylinux2014_x86_64.whl.metadata (12 kB)\n",
            "Downloading python_levenshtein-0.27.1-py3-none-any.whl (9.4 kB)\n",
            "Downloading levenshtein-0.27.1-cp311-cp311-manylinux_2_17_x86_64.manylinux2014_x86_64.whl (161 kB)\n",
            "\u001b[2K   \u001b[90m━━━━━━━━━━━━━━━━━━━━━━━━━━━━━━━━━━━━━━━━\u001b[0m \u001b[32m161.7/161.7 kB\u001b[0m \u001b[31m1.5 MB/s\u001b[0m eta \u001b[36m0:00:00\u001b[0m\n",
            "\u001b[?25hDownloading rapidfuzz-3.13.0-cp311-cp311-manylinux_2_17_x86_64.manylinux2014_x86_64.whl (3.1 MB)\n",
            "\u001b[2K   \u001b[90m━━━━━━━━━━━━━━━━━━━━━━━━━━━━━━━━━━━━━━━━\u001b[0m \u001b[32m3.1/3.1 MB\u001b[0m \u001b[31m20.8 MB/s\u001b[0m eta \u001b[36m0:00:00\u001b[0m\n",
            "\u001b[?25hInstalling collected packages: rapidfuzz, Levenshtein, python-Levenshtein\n",
            "Successfully installed Levenshtein-0.27.1 python-Levenshtein-0.27.1 rapidfuzz-3.13.0\n"
          ]
        }
      ],
      "source": [
        "pip install python-Levenshtein  #complete this"
      ]
    },
    {
      "cell_type": "code",
      "execution_count": 42,
      "metadata": {
        "id": "_MlCBsGsrd42",
        "outputId": "e9944489-c52d-4a6e-ed06-61f93d26bc68",
        "colab": {
          "base_uri": "https://localhost:8080/"
        }
      },
      "outputs": [
        {
          "output_type": "execute_result",
          "data": {
            "text/plain": [
              "2"
            ]
          },
          "metadata": {},
          "execution_count": 42
        }
      ],
      "source": [
        "from Levenshtein import distance as lev\n",
        "lev('party', 'park')"
      ]
    },
    {
      "cell_type": "code",
      "execution_count": 43,
      "metadata": {
        "id": "svFS8eNIrd43",
        "outputId": "ede881ab-8dbb-4c7d-b251-765076e4a7f6",
        "colab": {
          "base_uri": "https://localhost:8080/"
        }
      },
      "outputs": [
        {
          "output_type": "stream",
          "name": "stdout",
          "text": [
            "Levenshtein distance: 2\n"
          ]
        }
      ],
      "source": [
        "#concept behind lev('party', 'park')\n",
        "def levenshtein_distance(s1, s2):\n",
        "    m, n = len(s1), len(s2)\n",
        "    dp = [[0] * (n + 1) for _ in range(m + 1)]\n",
        "\n",
        "    for i in range(m + 1):\n",
        "        dp[i][0] = i\n",
        "\n",
        "    for j in range(n + 1):\n",
        "        dp[0][j] = j\n",
        "\n",
        "    for i in range(1, m + 1):\n",
        "        for j in range(1, n + 1):\n",
        "            cost = 0 if s1[i - 1] == s2[j - 1] else 1\n",
        "            dp[i][j] = min(dp[i - 1][j] + 1, dp[i][j - 1] + 1, dp[i - 1][j - 1] + cost)\n",
        "\n",
        "    return dp[m][n]\n",
        "\n",
        "# Example usage\n",
        "string1 = \"party\"\n",
        "string2 = \"park\"\n",
        "distance = levenshtein_distance(string1, string2)                #complete this\n",
        "print(\"Levenshtein distance:\", distance)"
      ]
    },
    {
      "cell_type": "markdown",
      "metadata": {
        "id": "89IA7XqpcIgi"
      },
      "source": [
        "## Let's use the Levenshtein to measure the similarity between 2 sentences:\n",
        "<br>sentence1 = \"The quick brown fox jumps over the lazy dog.\"\n",
        "<br>sentence2 = \"A quick brown fox jumps over a lazy dog.\""
      ]
    },
    {
      "cell_type": "code",
      "execution_count": 46,
      "metadata": {
        "id": "ZcdmErhBcIgi",
        "colab": {
          "base_uri": "https://localhost:8080/"
        },
        "outputId": "e909a29e-e1e6-484c-c1be-2dbe1e8b8cc3"
      },
      "outputs": [
        {
          "output_type": "stream",
          "name": "stdout",
          "text": [
            "Levenshtein distance between sentence 1 and sentence 2: 1\n",
            "Similarity between sentence 1 and sentence 2: 0.8888888888888888\n"
          ]
        }
      ],
      "source": [
        "from Levenshtein import distance as lev\n",
        "\n",
        "sentence1 = \"The quick brown fox jumps over the lazy dog.\"\n",
        "sentence2 = \"The quick brown fox jumps over lazy dog.\"\n",
        "\n",
        "words1 = sentence1.lower().split()\n",
        "words2 = sentence2.lower().split()\n",
        "\n",
        "distance = lev(words1, words2)\n",
        "\n",
        "# Calculate similarity (adjust based on your specific needs)\n",
        "max_length = max(len(words1), len(words2))\n",
        "# print (max_length)\n",
        "similarity = 1 - (distance / max_length)\n",
        "\n",
        "print(\"Levenshtein distance between sentence 1 and sentence 2:\", distance)\n",
        "print(\"Similarity between sentence 1 and sentence 2:\", similarity)\n",
        "\n",
        "# However, it's important to note that Levenshtein distance is typically used for comparing sequences of characters, not entire sentences or phrases.\n",
        "# To measure similarity between sentences where the words are not necessarily in the same sequence,\n",
        "# you need to consider methods that can account for semantic similarity rather than just sequence-based similarity like Levenshtein distance.\n",
        "# Here are a few approaches you can explore: TF-IDF/Word Embeddings (pretrained model like Word2Vec, GloVe, or FastText) and Similarity Metrics (Cosine Similarity)"
      ]
    },
    {
      "cell_type": "markdown",
      "metadata": {
        "id": "zk2GVCZ-rd5g"
      },
      "source": [
        "# Text Format for Analysis: Count Vectorizer"
      ]
    },
    {
      "cell_type": "code",
      "execution_count": 47,
      "metadata": {
        "id": "sD1MS75vrd5g",
        "colab": {
          "base_uri": "https://localhost:8080/",
          "height": 143
        },
        "outputId": "31ab5f51-b272-46db-db3c-8207addf0fe4"
      },
      "outputs": [
        {
          "output_type": "execute_result",
          "data": {
            "text/plain": [
              "   and  document  first  fun  is  one  second  the  third  this\n",
              "0    0         1      1    0   1    0       0    1      0     1\n",
              "1    0         1      0    0   1    0       1    1      0     1\n",
              "2    1         0      0    1   1    2       0    1      1     0"
            ],
            "text/html": [
              "\n",
              "  <div id=\"df-e3c96be1-ad22-479f-a68b-067d6eb371b5\" class=\"colab-df-container\">\n",
              "    <div>\n",
              "<style scoped>\n",
              "    .dataframe tbody tr th:only-of-type {\n",
              "        vertical-align: middle;\n",
              "    }\n",
              "\n",
              "    .dataframe tbody tr th {\n",
              "        vertical-align: top;\n",
              "    }\n",
              "\n",
              "    .dataframe thead th {\n",
              "        text-align: right;\n",
              "    }\n",
              "</style>\n",
              "<table border=\"1\" class=\"dataframe\">\n",
              "  <thead>\n",
              "    <tr style=\"text-align: right;\">\n",
              "      <th></th>\n",
              "      <th>and</th>\n",
              "      <th>document</th>\n",
              "      <th>first</th>\n",
              "      <th>fun</th>\n",
              "      <th>is</th>\n",
              "      <th>one</th>\n",
              "      <th>second</th>\n",
              "      <th>the</th>\n",
              "      <th>third</th>\n",
              "      <th>this</th>\n",
              "    </tr>\n",
              "  </thead>\n",
              "  <tbody>\n",
              "    <tr>\n",
              "      <th>0</th>\n",
              "      <td>0</td>\n",
              "      <td>1</td>\n",
              "      <td>1</td>\n",
              "      <td>0</td>\n",
              "      <td>1</td>\n",
              "      <td>0</td>\n",
              "      <td>0</td>\n",
              "      <td>1</td>\n",
              "      <td>0</td>\n",
              "      <td>1</td>\n",
              "    </tr>\n",
              "    <tr>\n",
              "      <th>1</th>\n",
              "      <td>0</td>\n",
              "      <td>1</td>\n",
              "      <td>0</td>\n",
              "      <td>0</td>\n",
              "      <td>1</td>\n",
              "      <td>0</td>\n",
              "      <td>1</td>\n",
              "      <td>1</td>\n",
              "      <td>0</td>\n",
              "      <td>1</td>\n",
              "    </tr>\n",
              "    <tr>\n",
              "      <th>2</th>\n",
              "      <td>1</td>\n",
              "      <td>0</td>\n",
              "      <td>0</td>\n",
              "      <td>1</td>\n",
              "      <td>1</td>\n",
              "      <td>2</td>\n",
              "      <td>0</td>\n",
              "      <td>1</td>\n",
              "      <td>1</td>\n",
              "      <td>0</td>\n",
              "    </tr>\n",
              "  </tbody>\n",
              "</table>\n",
              "</div>\n",
              "    <div class=\"colab-df-buttons\">\n",
              "\n",
              "  <div class=\"colab-df-container\">\n",
              "    <button class=\"colab-df-convert\" onclick=\"convertToInteractive('df-e3c96be1-ad22-479f-a68b-067d6eb371b5')\"\n",
              "            title=\"Convert this dataframe to an interactive table.\"\n",
              "            style=\"display:none;\">\n",
              "\n",
              "  <svg xmlns=\"http://www.w3.org/2000/svg\" height=\"24px\" viewBox=\"0 -960 960 960\">\n",
              "    <path d=\"M120-120v-720h720v720H120Zm60-500h600v-160H180v160Zm220 220h160v-160H400v160Zm0 220h160v-160H400v160ZM180-400h160v-160H180v160Zm440 0h160v-160H620v160ZM180-180h160v-160H180v160Zm440 0h160v-160H620v160Z\"/>\n",
              "  </svg>\n",
              "    </button>\n",
              "\n",
              "  <style>\n",
              "    .colab-df-container {\n",
              "      display:flex;\n",
              "      gap: 12px;\n",
              "    }\n",
              "\n",
              "    .colab-df-convert {\n",
              "      background-color: #E8F0FE;\n",
              "      border: none;\n",
              "      border-radius: 50%;\n",
              "      cursor: pointer;\n",
              "      display: none;\n",
              "      fill: #1967D2;\n",
              "      height: 32px;\n",
              "      padding: 0 0 0 0;\n",
              "      width: 32px;\n",
              "    }\n",
              "\n",
              "    .colab-df-convert:hover {\n",
              "      background-color: #E2EBFA;\n",
              "      box-shadow: 0px 1px 2px rgba(60, 64, 67, 0.3), 0px 1px 3px 1px rgba(60, 64, 67, 0.15);\n",
              "      fill: #174EA6;\n",
              "    }\n",
              "\n",
              "    .colab-df-buttons div {\n",
              "      margin-bottom: 4px;\n",
              "    }\n",
              "\n",
              "    [theme=dark] .colab-df-convert {\n",
              "      background-color: #3B4455;\n",
              "      fill: #D2E3FC;\n",
              "    }\n",
              "\n",
              "    [theme=dark] .colab-df-convert:hover {\n",
              "      background-color: #434B5C;\n",
              "      box-shadow: 0px 1px 3px 1px rgba(0, 0, 0, 0.15);\n",
              "      filter: drop-shadow(0px 1px 2px rgba(0, 0, 0, 0.3));\n",
              "      fill: #FFFFFF;\n",
              "    }\n",
              "  </style>\n",
              "\n",
              "    <script>\n",
              "      const buttonEl =\n",
              "        document.querySelector('#df-e3c96be1-ad22-479f-a68b-067d6eb371b5 button.colab-df-convert');\n",
              "      buttonEl.style.display =\n",
              "        google.colab.kernel.accessAllowed ? 'block' : 'none';\n",
              "\n",
              "      async function convertToInteractive(key) {\n",
              "        const element = document.querySelector('#df-e3c96be1-ad22-479f-a68b-067d6eb371b5');\n",
              "        const dataTable =\n",
              "          await google.colab.kernel.invokeFunction('convertToInteractive',\n",
              "                                                    [key], {});\n",
              "        if (!dataTable) return;\n",
              "\n",
              "        const docLinkHtml = 'Like what you see? Visit the ' +\n",
              "          '<a target=\"_blank\" href=https://colab.research.google.com/notebooks/data_table.ipynb>data table notebook</a>'\n",
              "          + ' to learn more about interactive tables.';\n",
              "        element.innerHTML = '';\n",
              "        dataTable['output_type'] = 'display_data';\n",
              "        await google.colab.output.renderOutput(dataTable, element);\n",
              "        const docLink = document.createElement('div');\n",
              "        docLink.innerHTML = docLinkHtml;\n",
              "        element.appendChild(docLink);\n",
              "      }\n",
              "    </script>\n",
              "  </div>\n",
              "\n",
              "\n",
              "    <div id=\"df-0012d13b-610e-4097-8a9f-bb18a58e2e38\">\n",
              "      <button class=\"colab-df-quickchart\" onclick=\"quickchart('df-0012d13b-610e-4097-8a9f-bb18a58e2e38')\"\n",
              "                title=\"Suggest charts\"\n",
              "                style=\"display:none;\">\n",
              "\n",
              "<svg xmlns=\"http://www.w3.org/2000/svg\" height=\"24px\"viewBox=\"0 0 24 24\"\n",
              "     width=\"24px\">\n",
              "    <g>\n",
              "        <path d=\"M19 3H5c-1.1 0-2 .9-2 2v14c0 1.1.9 2 2 2h14c1.1 0 2-.9 2-2V5c0-1.1-.9-2-2-2zM9 17H7v-7h2v7zm4 0h-2V7h2v10zm4 0h-2v-4h2v4z\"/>\n",
              "    </g>\n",
              "</svg>\n",
              "      </button>\n",
              "\n",
              "<style>\n",
              "  .colab-df-quickchart {\n",
              "      --bg-color: #E8F0FE;\n",
              "      --fill-color: #1967D2;\n",
              "      --hover-bg-color: #E2EBFA;\n",
              "      --hover-fill-color: #174EA6;\n",
              "      --disabled-fill-color: #AAA;\n",
              "      --disabled-bg-color: #DDD;\n",
              "  }\n",
              "\n",
              "  [theme=dark] .colab-df-quickchart {\n",
              "      --bg-color: #3B4455;\n",
              "      --fill-color: #D2E3FC;\n",
              "      --hover-bg-color: #434B5C;\n",
              "      --hover-fill-color: #FFFFFF;\n",
              "      --disabled-bg-color: #3B4455;\n",
              "      --disabled-fill-color: #666;\n",
              "  }\n",
              "\n",
              "  .colab-df-quickchart {\n",
              "    background-color: var(--bg-color);\n",
              "    border: none;\n",
              "    border-radius: 50%;\n",
              "    cursor: pointer;\n",
              "    display: none;\n",
              "    fill: var(--fill-color);\n",
              "    height: 32px;\n",
              "    padding: 0;\n",
              "    width: 32px;\n",
              "  }\n",
              "\n",
              "  .colab-df-quickchart:hover {\n",
              "    background-color: var(--hover-bg-color);\n",
              "    box-shadow: 0 1px 2px rgba(60, 64, 67, 0.3), 0 1px 3px 1px rgba(60, 64, 67, 0.15);\n",
              "    fill: var(--button-hover-fill-color);\n",
              "  }\n",
              "\n",
              "  .colab-df-quickchart-complete:disabled,\n",
              "  .colab-df-quickchart-complete:disabled:hover {\n",
              "    background-color: var(--disabled-bg-color);\n",
              "    fill: var(--disabled-fill-color);\n",
              "    box-shadow: none;\n",
              "  }\n",
              "\n",
              "  .colab-df-spinner {\n",
              "    border: 2px solid var(--fill-color);\n",
              "    border-color: transparent;\n",
              "    border-bottom-color: var(--fill-color);\n",
              "    animation:\n",
              "      spin 1s steps(1) infinite;\n",
              "  }\n",
              "\n",
              "  @keyframes spin {\n",
              "    0% {\n",
              "      border-color: transparent;\n",
              "      border-bottom-color: var(--fill-color);\n",
              "      border-left-color: var(--fill-color);\n",
              "    }\n",
              "    20% {\n",
              "      border-color: transparent;\n",
              "      border-left-color: var(--fill-color);\n",
              "      border-top-color: var(--fill-color);\n",
              "    }\n",
              "    30% {\n",
              "      border-color: transparent;\n",
              "      border-left-color: var(--fill-color);\n",
              "      border-top-color: var(--fill-color);\n",
              "      border-right-color: var(--fill-color);\n",
              "    }\n",
              "    40% {\n",
              "      border-color: transparent;\n",
              "      border-right-color: var(--fill-color);\n",
              "      border-top-color: var(--fill-color);\n",
              "    }\n",
              "    60% {\n",
              "      border-color: transparent;\n",
              "      border-right-color: var(--fill-color);\n",
              "    }\n",
              "    80% {\n",
              "      border-color: transparent;\n",
              "      border-right-color: var(--fill-color);\n",
              "      border-bottom-color: var(--fill-color);\n",
              "    }\n",
              "    90% {\n",
              "      border-color: transparent;\n",
              "      border-bottom-color: var(--fill-color);\n",
              "    }\n",
              "  }\n",
              "</style>\n",
              "\n",
              "      <script>\n",
              "        async function quickchart(key) {\n",
              "          const quickchartButtonEl =\n",
              "            document.querySelector('#' + key + ' button');\n",
              "          quickchartButtonEl.disabled = true;  // To prevent multiple clicks.\n",
              "          quickchartButtonEl.classList.add('colab-df-spinner');\n",
              "          try {\n",
              "            const charts = await google.colab.kernel.invokeFunction(\n",
              "                'suggestCharts', [key], {});\n",
              "          } catch (error) {\n",
              "            console.error('Error during call to suggestCharts:', error);\n",
              "          }\n",
              "          quickchartButtonEl.classList.remove('colab-df-spinner');\n",
              "          quickchartButtonEl.classList.add('colab-df-quickchart-complete');\n",
              "        }\n",
              "        (() => {\n",
              "          let quickchartButtonEl =\n",
              "            document.querySelector('#df-0012d13b-610e-4097-8a9f-bb18a58e2e38 button');\n",
              "          quickchartButtonEl.style.display =\n",
              "            google.colab.kernel.accessAllowed ? 'block' : 'none';\n",
              "        })();\n",
              "      </script>\n",
              "    </div>\n",
              "\n",
              "    </div>\n",
              "  </div>\n"
            ],
            "application/vnd.google.colaboratory.intrinsic+json": {
              "type": "dataframe",
              "summary": "{\n  \"name\": \"pd\",\n  \"rows\": 3,\n  \"fields\": [\n    {\n      \"column\": \"and\",\n      \"properties\": {\n        \"dtype\": \"number\",\n        \"std\": 0,\n        \"min\": 0,\n        \"max\": 1,\n        \"num_unique_values\": 2,\n        \"samples\": [\n          1,\n          0\n        ],\n        \"semantic_type\": \"\",\n        \"description\": \"\"\n      }\n    },\n    {\n      \"column\": \"document\",\n      \"properties\": {\n        \"dtype\": \"number\",\n        \"std\": 0,\n        \"min\": 0,\n        \"max\": 1,\n        \"num_unique_values\": 2,\n        \"samples\": [\n          0,\n          1\n        ],\n        \"semantic_type\": \"\",\n        \"description\": \"\"\n      }\n    },\n    {\n      \"column\": \"first\",\n      \"properties\": {\n        \"dtype\": \"number\",\n        \"std\": 0,\n        \"min\": 0,\n        \"max\": 1,\n        \"num_unique_values\": 2,\n        \"samples\": [\n          0,\n          1\n        ],\n        \"semantic_type\": \"\",\n        \"description\": \"\"\n      }\n    },\n    {\n      \"column\": \"fun\",\n      \"properties\": {\n        \"dtype\": \"number\",\n        \"std\": 0,\n        \"min\": 0,\n        \"max\": 1,\n        \"num_unique_values\": 2,\n        \"samples\": [\n          1,\n          0\n        ],\n        \"semantic_type\": \"\",\n        \"description\": \"\"\n      }\n    },\n    {\n      \"column\": \"is\",\n      \"properties\": {\n        \"dtype\": \"number\",\n        \"std\": 0,\n        \"min\": 1,\n        \"max\": 1,\n        \"num_unique_values\": 1,\n        \"samples\": [\n          1\n        ],\n        \"semantic_type\": \"\",\n        \"description\": \"\"\n      }\n    },\n    {\n      \"column\": \"one\",\n      \"properties\": {\n        \"dtype\": \"number\",\n        \"std\": 1,\n        \"min\": 0,\n        \"max\": 2,\n        \"num_unique_values\": 2,\n        \"samples\": [\n          2\n        ],\n        \"semantic_type\": \"\",\n        \"description\": \"\"\n      }\n    },\n    {\n      \"column\": \"second\",\n      \"properties\": {\n        \"dtype\": \"number\",\n        \"std\": 0,\n        \"min\": 0,\n        \"max\": 1,\n        \"num_unique_values\": 2,\n        \"samples\": [\n          1\n        ],\n        \"semantic_type\": \"\",\n        \"description\": \"\"\n      }\n    },\n    {\n      \"column\": \"the\",\n      \"properties\": {\n        \"dtype\": \"number\",\n        \"std\": 0,\n        \"min\": 1,\n        \"max\": 1,\n        \"num_unique_values\": 1,\n        \"samples\": [\n          1\n        ],\n        \"semantic_type\": \"\",\n        \"description\": \"\"\n      }\n    },\n    {\n      \"column\": \"third\",\n      \"properties\": {\n        \"dtype\": \"number\",\n        \"std\": 0,\n        \"min\": 0,\n        \"max\": 1,\n        \"num_unique_values\": 2,\n        \"samples\": [\n          1\n        ],\n        \"semantic_type\": \"\",\n        \"description\": \"\"\n      }\n    },\n    {\n      \"column\": \"this\",\n      \"properties\": {\n        \"dtype\": \"number\",\n        \"std\": 0,\n        \"min\": 0,\n        \"max\": 1,\n        \"num_unique_values\": 2,\n        \"samples\": [\n          0\n        ],\n        \"semantic_type\": \"\",\n        \"description\": \"\"\n      }\n    }\n  ]\n}"
            }
          },
          "metadata": {},
          "execution_count": 47
        }
      ],
      "source": [
        "import pandas as pd\n",
        "from sklearn.feature_extraction.text import CountVectorizer\n",
        "corpus =['This is the first document.', 'This is the second document.', 'And the third one. One is fun.'] #corpus=collection of teks\n",
        "cv = CountVectorizer()\n",
        "X = cv.fit_transform(corpus)\n",
        "pd.DataFrame(X.toarray(),columns=cv.get_feature_names_out())"
      ]
    },
    {
      "cell_type": "markdown",
      "metadata": {
        "id": "XdvU8fEVrd5h"
      },
      "source": [
        "![](https://i.imgur.com/OQDeQlb.png)"
      ]
    },
    {
      "cell_type": "markdown",
      "metadata": {
        "id": "zv94wmmjrd5h"
      },
      "source": [
        "# Document Similarity: Example"
      ]
    },
    {
      "cell_type": "markdown",
      "metadata": {
        "id": "dYKH_Ntyrd5i"
      },
      "source": [
        "![](https://i.imgur.com/PyirXsy.png)"
      ]
    },
    {
      "cell_type": "code",
      "execution_count": 49,
      "metadata": {
        "id": "kLZ-ub-Yrd5j",
        "colab": {
          "base_uri": "https://localhost:8080/",
          "height": 206
        },
        "outputId": "ba6391f0-9eac-482f-dec2-a87557ce9030"
      },
      "outputs": [
        {
          "output_type": "execute_result",
          "data": {
            "text/plain": [
              "   chai  chocolate  encoding  hot  latte  make  milk  sale  sun  today  \\\n",
              "0     0          0         0    1      0     0     0     0    1      0   \n",
              "1     0          1         0    1      0     1     1     0    0      0   \n",
              "2     0          0         1    1      0     0     0     0    0      0   \n",
              "3     1          0         0    0      1     0     1     0    0      0   \n",
              "4     0          0         0    1      0     0     0     1    0      1   \n",
              "\n",
              "   weather  \n",
              "0        1  \n",
              "1        0  \n",
              "2        0  \n",
              "3        0  \n",
              "4        0  "
            ],
            "text/html": [
              "\n",
              "  <div id=\"df-a6ac890d-5543-4821-a222-31903b66796c\" class=\"colab-df-container\">\n",
              "    <div>\n",
              "<style scoped>\n",
              "    .dataframe tbody tr th:only-of-type {\n",
              "        vertical-align: middle;\n",
              "    }\n",
              "\n",
              "    .dataframe tbody tr th {\n",
              "        vertical-align: top;\n",
              "    }\n",
              "\n",
              "    .dataframe thead th {\n",
              "        text-align: right;\n",
              "    }\n",
              "</style>\n",
              "<table border=\"1\" class=\"dataframe\">\n",
              "  <thead>\n",
              "    <tr style=\"text-align: right;\">\n",
              "      <th></th>\n",
              "      <th>chai</th>\n",
              "      <th>chocolate</th>\n",
              "      <th>encoding</th>\n",
              "      <th>hot</th>\n",
              "      <th>latte</th>\n",
              "      <th>make</th>\n",
              "      <th>milk</th>\n",
              "      <th>sale</th>\n",
              "      <th>sun</th>\n",
              "      <th>today</th>\n",
              "      <th>weather</th>\n",
              "    </tr>\n",
              "  </thead>\n",
              "  <tbody>\n",
              "    <tr>\n",
              "      <th>0</th>\n",
              "      <td>0</td>\n",
              "      <td>0</td>\n",
              "      <td>0</td>\n",
              "      <td>1</td>\n",
              "      <td>0</td>\n",
              "      <td>0</td>\n",
              "      <td>0</td>\n",
              "      <td>0</td>\n",
              "      <td>1</td>\n",
              "      <td>0</td>\n",
              "      <td>1</td>\n",
              "    </tr>\n",
              "    <tr>\n",
              "      <th>1</th>\n",
              "      <td>0</td>\n",
              "      <td>1</td>\n",
              "      <td>0</td>\n",
              "      <td>1</td>\n",
              "      <td>0</td>\n",
              "      <td>1</td>\n",
              "      <td>1</td>\n",
              "      <td>0</td>\n",
              "      <td>0</td>\n",
              "      <td>0</td>\n",
              "      <td>0</td>\n",
              "    </tr>\n",
              "    <tr>\n",
              "      <th>2</th>\n",
              "      <td>0</td>\n",
              "      <td>0</td>\n",
              "      <td>1</td>\n",
              "      <td>1</td>\n",
              "      <td>0</td>\n",
              "      <td>0</td>\n",
              "      <td>0</td>\n",
              "      <td>0</td>\n",
              "      <td>0</td>\n",
              "      <td>0</td>\n",
              "      <td>0</td>\n",
              "    </tr>\n",
              "    <tr>\n",
              "      <th>3</th>\n",
              "      <td>1</td>\n",
              "      <td>0</td>\n",
              "      <td>0</td>\n",
              "      <td>0</td>\n",
              "      <td>1</td>\n",
              "      <td>0</td>\n",
              "      <td>1</td>\n",
              "      <td>0</td>\n",
              "      <td>0</td>\n",
              "      <td>0</td>\n",
              "      <td>0</td>\n",
              "    </tr>\n",
              "    <tr>\n",
              "      <th>4</th>\n",
              "      <td>0</td>\n",
              "      <td>0</td>\n",
              "      <td>0</td>\n",
              "      <td>1</td>\n",
              "      <td>0</td>\n",
              "      <td>0</td>\n",
              "      <td>0</td>\n",
              "      <td>1</td>\n",
              "      <td>0</td>\n",
              "      <td>1</td>\n",
              "      <td>0</td>\n",
              "    </tr>\n",
              "  </tbody>\n",
              "</table>\n",
              "</div>\n",
              "    <div class=\"colab-df-buttons\">\n",
              "\n",
              "  <div class=\"colab-df-container\">\n",
              "    <button class=\"colab-df-convert\" onclick=\"convertToInteractive('df-a6ac890d-5543-4821-a222-31903b66796c')\"\n",
              "            title=\"Convert this dataframe to an interactive table.\"\n",
              "            style=\"display:none;\">\n",
              "\n",
              "  <svg xmlns=\"http://www.w3.org/2000/svg\" height=\"24px\" viewBox=\"0 -960 960 960\">\n",
              "    <path d=\"M120-120v-720h720v720H120Zm60-500h600v-160H180v160Zm220 220h160v-160H400v160Zm0 220h160v-160H400v160ZM180-400h160v-160H180v160Zm440 0h160v-160H620v160ZM180-180h160v-160H180v160Zm440 0h160v-160H620v160Z\"/>\n",
              "  </svg>\n",
              "    </button>\n",
              "\n",
              "  <style>\n",
              "    .colab-df-container {\n",
              "      display:flex;\n",
              "      gap: 12px;\n",
              "    }\n",
              "\n",
              "    .colab-df-convert {\n",
              "      background-color: #E8F0FE;\n",
              "      border: none;\n",
              "      border-radius: 50%;\n",
              "      cursor: pointer;\n",
              "      display: none;\n",
              "      fill: #1967D2;\n",
              "      height: 32px;\n",
              "      padding: 0 0 0 0;\n",
              "      width: 32px;\n",
              "    }\n",
              "\n",
              "    .colab-df-convert:hover {\n",
              "      background-color: #E2EBFA;\n",
              "      box-shadow: 0px 1px 2px rgba(60, 64, 67, 0.3), 0px 1px 3px 1px rgba(60, 64, 67, 0.15);\n",
              "      fill: #174EA6;\n",
              "    }\n",
              "\n",
              "    .colab-df-buttons div {\n",
              "      margin-bottom: 4px;\n",
              "    }\n",
              "\n",
              "    [theme=dark] .colab-df-convert {\n",
              "      background-color: #3B4455;\n",
              "      fill: #D2E3FC;\n",
              "    }\n",
              "\n",
              "    [theme=dark] .colab-df-convert:hover {\n",
              "      background-color: #434B5C;\n",
              "      box-shadow: 0px 1px 3px 1px rgba(0, 0, 0, 0.15);\n",
              "      filter: drop-shadow(0px 1px 2px rgba(0, 0, 0, 0.3));\n",
              "      fill: #FFFFFF;\n",
              "    }\n",
              "  </style>\n",
              "\n",
              "    <script>\n",
              "      const buttonEl =\n",
              "        document.querySelector('#df-a6ac890d-5543-4821-a222-31903b66796c button.colab-df-convert');\n",
              "      buttonEl.style.display =\n",
              "        google.colab.kernel.accessAllowed ? 'block' : 'none';\n",
              "\n",
              "      async function convertToInteractive(key) {\n",
              "        const element = document.querySelector('#df-a6ac890d-5543-4821-a222-31903b66796c');\n",
              "        const dataTable =\n",
              "          await google.colab.kernel.invokeFunction('convertToInteractive',\n",
              "                                                    [key], {});\n",
              "        if (!dataTable) return;\n",
              "\n",
              "        const docLinkHtml = 'Like what you see? Visit the ' +\n",
              "          '<a target=\"_blank\" href=https://colab.research.google.com/notebooks/data_table.ipynb>data table notebook</a>'\n",
              "          + ' to learn more about interactive tables.';\n",
              "        element.innerHTML = '';\n",
              "        dataTable['output_type'] = 'display_data';\n",
              "        await google.colab.output.renderOutput(dataTable, element);\n",
              "        const docLink = document.createElement('div');\n",
              "        docLink.innerHTML = docLinkHtml;\n",
              "        element.appendChild(docLink);\n",
              "      }\n",
              "    </script>\n",
              "  </div>\n",
              "\n",
              "\n",
              "    <div id=\"df-18c1fd14-c3b4-4b21-b9f2-703714c31aff\">\n",
              "      <button class=\"colab-df-quickchart\" onclick=\"quickchart('df-18c1fd14-c3b4-4b21-b9f2-703714c31aff')\"\n",
              "                title=\"Suggest charts\"\n",
              "                style=\"display:none;\">\n",
              "\n",
              "<svg xmlns=\"http://www.w3.org/2000/svg\" height=\"24px\"viewBox=\"0 0 24 24\"\n",
              "     width=\"24px\">\n",
              "    <g>\n",
              "        <path d=\"M19 3H5c-1.1 0-2 .9-2 2v14c0 1.1.9 2 2 2h14c1.1 0 2-.9 2-2V5c0-1.1-.9-2-2-2zM9 17H7v-7h2v7zm4 0h-2V7h2v10zm4 0h-2v-4h2v4z\"/>\n",
              "    </g>\n",
              "</svg>\n",
              "      </button>\n",
              "\n",
              "<style>\n",
              "  .colab-df-quickchart {\n",
              "      --bg-color: #E8F0FE;\n",
              "      --fill-color: #1967D2;\n",
              "      --hover-bg-color: #E2EBFA;\n",
              "      --hover-fill-color: #174EA6;\n",
              "      --disabled-fill-color: #AAA;\n",
              "      --disabled-bg-color: #DDD;\n",
              "  }\n",
              "\n",
              "  [theme=dark] .colab-df-quickchart {\n",
              "      --bg-color: #3B4455;\n",
              "      --fill-color: #D2E3FC;\n",
              "      --hover-bg-color: #434B5C;\n",
              "      --hover-fill-color: #FFFFFF;\n",
              "      --disabled-bg-color: #3B4455;\n",
              "      --disabled-fill-color: #666;\n",
              "  }\n",
              "\n",
              "  .colab-df-quickchart {\n",
              "    background-color: var(--bg-color);\n",
              "    border: none;\n",
              "    border-radius: 50%;\n",
              "    cursor: pointer;\n",
              "    display: none;\n",
              "    fill: var(--fill-color);\n",
              "    height: 32px;\n",
              "    padding: 0;\n",
              "    width: 32px;\n",
              "  }\n",
              "\n",
              "  .colab-df-quickchart:hover {\n",
              "    background-color: var(--hover-bg-color);\n",
              "    box-shadow: 0 1px 2px rgba(60, 64, 67, 0.3), 0 1px 3px 1px rgba(60, 64, 67, 0.15);\n",
              "    fill: var(--button-hover-fill-color);\n",
              "  }\n",
              "\n",
              "  .colab-df-quickchart-complete:disabled,\n",
              "  .colab-df-quickchart-complete:disabled:hover {\n",
              "    background-color: var(--disabled-bg-color);\n",
              "    fill: var(--disabled-fill-color);\n",
              "    box-shadow: none;\n",
              "  }\n",
              "\n",
              "  .colab-df-spinner {\n",
              "    border: 2px solid var(--fill-color);\n",
              "    border-color: transparent;\n",
              "    border-bottom-color: var(--fill-color);\n",
              "    animation:\n",
              "      spin 1s steps(1) infinite;\n",
              "  }\n",
              "\n",
              "  @keyframes spin {\n",
              "    0% {\n",
              "      border-color: transparent;\n",
              "      border-bottom-color: var(--fill-color);\n",
              "      border-left-color: var(--fill-color);\n",
              "    }\n",
              "    20% {\n",
              "      border-color: transparent;\n",
              "      border-left-color: var(--fill-color);\n",
              "      border-top-color: var(--fill-color);\n",
              "    }\n",
              "    30% {\n",
              "      border-color: transparent;\n",
              "      border-left-color: var(--fill-color);\n",
              "      border-top-color: var(--fill-color);\n",
              "      border-right-color: var(--fill-color);\n",
              "    }\n",
              "    40% {\n",
              "      border-color: transparent;\n",
              "      border-right-color: var(--fill-color);\n",
              "      border-top-color: var(--fill-color);\n",
              "    }\n",
              "    60% {\n",
              "      border-color: transparent;\n",
              "      border-right-color: var(--fill-color);\n",
              "    }\n",
              "    80% {\n",
              "      border-color: transparent;\n",
              "      border-right-color: var(--fill-color);\n",
              "      border-bottom-color: var(--fill-color);\n",
              "    }\n",
              "    90% {\n",
              "      border-color: transparent;\n",
              "      border-bottom-color: var(--fill-color);\n",
              "    }\n",
              "  }\n",
              "</style>\n",
              "\n",
              "      <script>\n",
              "        async function quickchart(key) {\n",
              "          const quickchartButtonEl =\n",
              "            document.querySelector('#' + key + ' button');\n",
              "          quickchartButtonEl.disabled = true;  // To prevent multiple clicks.\n",
              "          quickchartButtonEl.classList.add('colab-df-spinner');\n",
              "          try {\n",
              "            const charts = await google.colab.kernel.invokeFunction(\n",
              "                'suggestCharts', [key], {});\n",
              "          } catch (error) {\n",
              "            console.error('Error during call to suggestCharts:', error);\n",
              "          }\n",
              "          quickchartButtonEl.classList.remove('colab-df-spinner');\n",
              "          quickchartButtonEl.classList.add('colab-df-quickchart-complete');\n",
              "        }\n",
              "        (() => {\n",
              "          let quickchartButtonEl =\n",
              "            document.querySelector('#df-18c1fd14-c3b4-4b21-b9f2-703714c31aff button');\n",
              "          quickchartButtonEl.style.display =\n",
              "            google.colab.kernel.accessAllowed ? 'block' : 'none';\n",
              "        })();\n",
              "      </script>\n",
              "    </div>\n",
              "\n",
              "  <div id=\"id_572a41c8-f4e6-407e-a855-74773a243513\">\n",
              "    <style>\n",
              "      .colab-df-generate {\n",
              "        background-color: #E8F0FE;\n",
              "        border: none;\n",
              "        border-radius: 50%;\n",
              "        cursor: pointer;\n",
              "        display: none;\n",
              "        fill: #1967D2;\n",
              "        height: 32px;\n",
              "        padding: 0 0 0 0;\n",
              "        width: 32px;\n",
              "      }\n",
              "\n",
              "      .colab-df-generate:hover {\n",
              "        background-color: #E2EBFA;\n",
              "        box-shadow: 0px 1px 2px rgba(60, 64, 67, 0.3), 0px 1px 3px 1px rgba(60, 64, 67, 0.15);\n",
              "        fill: #174EA6;\n",
              "      }\n",
              "\n",
              "      [theme=dark] .colab-df-generate {\n",
              "        background-color: #3B4455;\n",
              "        fill: #D2E3FC;\n",
              "      }\n",
              "\n",
              "      [theme=dark] .colab-df-generate:hover {\n",
              "        background-color: #434B5C;\n",
              "        box-shadow: 0px 1px 3px 1px rgba(0, 0, 0, 0.15);\n",
              "        filter: drop-shadow(0px 1px 2px rgba(0, 0, 0, 0.3));\n",
              "        fill: #FFFFFF;\n",
              "      }\n",
              "    </style>\n",
              "    <button class=\"colab-df-generate\" onclick=\"generateWithVariable('dt')\"\n",
              "            title=\"Generate code using this dataframe.\"\n",
              "            style=\"display:none;\">\n",
              "\n",
              "  <svg xmlns=\"http://www.w3.org/2000/svg\" height=\"24px\"viewBox=\"0 0 24 24\"\n",
              "       width=\"24px\">\n",
              "    <path d=\"M7,19H8.4L18.45,9,17,7.55,7,17.6ZM5,21V16.75L18.45,3.32a2,2,0,0,1,2.83,0l1.4,1.43a1.91,1.91,0,0,1,.58,1.4,1.91,1.91,0,0,1-.58,1.4L9.25,21ZM18.45,9,17,7.55Zm-12,3A5.31,5.31,0,0,0,4.9,8.1,5.31,5.31,0,0,0,1,6.5,5.31,5.31,0,0,0,4.9,4.9,5.31,5.31,0,0,0,6.5,1,5.31,5.31,0,0,0,8.1,4.9,5.31,5.31,0,0,0,12,6.5,5.46,5.46,0,0,0,6.5,12Z\"/>\n",
              "  </svg>\n",
              "    </button>\n",
              "    <script>\n",
              "      (() => {\n",
              "      const buttonEl =\n",
              "        document.querySelector('#id_572a41c8-f4e6-407e-a855-74773a243513 button.colab-df-generate');\n",
              "      buttonEl.style.display =\n",
              "        google.colab.kernel.accessAllowed ? 'block' : 'none';\n",
              "\n",
              "      buttonEl.onclick = () => {\n",
              "        google.colab.notebook.generateWithVariable('dt');\n",
              "      }\n",
              "      })();\n",
              "    </script>\n",
              "  </div>\n",
              "\n",
              "    </div>\n",
              "  </div>\n"
            ],
            "application/vnd.google.colaboratory.intrinsic+json": {
              "type": "dataframe",
              "variable_name": "dt",
              "summary": "{\n  \"name\": \"dt\",\n  \"rows\": 5,\n  \"fields\": [\n    {\n      \"column\": \"chai\",\n      \"properties\": {\n        \"dtype\": \"number\",\n        \"std\": 0,\n        \"min\": 0,\n        \"max\": 1,\n        \"num_unique_values\": 2,\n        \"samples\": [\n          1,\n          0\n        ],\n        \"semantic_type\": \"\",\n        \"description\": \"\"\n      }\n    },\n    {\n      \"column\": \"chocolate\",\n      \"properties\": {\n        \"dtype\": \"number\",\n        \"std\": 0,\n        \"min\": 0,\n        \"max\": 1,\n        \"num_unique_values\": 2,\n        \"samples\": [\n          1,\n          0\n        ],\n        \"semantic_type\": \"\",\n        \"description\": \"\"\n      }\n    },\n    {\n      \"column\": \"encoding\",\n      \"properties\": {\n        \"dtype\": \"number\",\n        \"std\": 0,\n        \"min\": 0,\n        \"max\": 1,\n        \"num_unique_values\": 2,\n        \"samples\": [\n          1,\n          0\n        ],\n        \"semantic_type\": \"\",\n        \"description\": \"\"\n      }\n    },\n    {\n      \"column\": \"hot\",\n      \"properties\": {\n        \"dtype\": \"number\",\n        \"std\": 0,\n        \"min\": 0,\n        \"max\": 1,\n        \"num_unique_values\": 2,\n        \"samples\": [\n          0,\n          1\n        ],\n        \"semantic_type\": \"\",\n        \"description\": \"\"\n      }\n    },\n    {\n      \"column\": \"latte\",\n      \"properties\": {\n        \"dtype\": \"number\",\n        \"std\": 0,\n        \"min\": 0,\n        \"max\": 1,\n        \"num_unique_values\": 2,\n        \"samples\": [\n          1,\n          0\n        ],\n        \"semantic_type\": \"\",\n        \"description\": \"\"\n      }\n    },\n    {\n      \"column\": \"make\",\n      \"properties\": {\n        \"dtype\": \"number\",\n        \"std\": 0,\n        \"min\": 0,\n        \"max\": 1,\n        \"num_unique_values\": 2,\n        \"samples\": [\n          1,\n          0\n        ],\n        \"semantic_type\": \"\",\n        \"description\": \"\"\n      }\n    },\n    {\n      \"column\": \"milk\",\n      \"properties\": {\n        \"dtype\": \"number\",\n        \"std\": 0,\n        \"min\": 0,\n        \"max\": 1,\n        \"num_unique_values\": 2,\n        \"samples\": [\n          1,\n          0\n        ],\n        \"semantic_type\": \"\",\n        \"description\": \"\"\n      }\n    },\n    {\n      \"column\": \"sale\",\n      \"properties\": {\n        \"dtype\": \"number\",\n        \"std\": 0,\n        \"min\": 0,\n        \"max\": 1,\n        \"num_unique_values\": 2,\n        \"samples\": [\n          1,\n          0\n        ],\n        \"semantic_type\": \"\",\n        \"description\": \"\"\n      }\n    },\n    {\n      \"column\": \"sun\",\n      \"properties\": {\n        \"dtype\": \"number\",\n        \"std\": 0,\n        \"min\": 0,\n        \"max\": 1,\n        \"num_unique_values\": 2,\n        \"samples\": [\n          0,\n          1\n        ],\n        \"semantic_type\": \"\",\n        \"description\": \"\"\n      }\n    },\n    {\n      \"column\": \"today\",\n      \"properties\": {\n        \"dtype\": \"number\",\n        \"std\": 0,\n        \"min\": 0,\n        \"max\": 1,\n        \"num_unique_values\": 2,\n        \"samples\": [\n          1,\n          0\n        ],\n        \"semantic_type\": \"\",\n        \"description\": \"\"\n      }\n    },\n    {\n      \"column\": \"weather\",\n      \"properties\": {\n        \"dtype\": \"number\",\n        \"std\": 0,\n        \"min\": 0,\n        \"max\": 1,\n        \"num_unique_values\": 2,\n        \"samples\": [\n          0,\n          1\n        ],\n        \"semantic_type\": \"\",\n        \"description\": \"\"\n      }\n    }\n  ]\n}"
            }
          },
          "metadata": {},
          "execution_count": 49
        }
      ],
      "source": [
        "import pandas as pd\n",
        "from sklearn.feature_extraction.text import CountVectorizer\n",
        "corpus = ['The weather is hot under the sun',\n",
        "'I make my hot chocolate with milk',\n",
        "'One hot encoding',\n",
        "'I will have a chai latte with milk',\n",
        "'There is a hot sale today']\n",
        "# create the document-term matrix with count vectorizer\n",
        "cv = CountVectorizer(stop_words=\"english\")\n",
        "X = cv.fit_transform(corpus).toarray()\n",
        "dt = pd.DataFrame(X, columns=cv.get_feature_names_out())\n",
        "dt"
      ]
    },
    {
      "cell_type": "markdown",
      "metadata": {
        "id": "_Zzehizvrd5l"
      },
      "source": [
        "# Document Similarity: Example"
      ]
    },
    {
      "cell_type": "code",
      "execution_count": 50,
      "metadata": {
        "id": "dwo3s5KIrd5l",
        "colab": {
          "base_uri": "https://localhost:8080/"
        },
        "outputId": "6610eb6f-b5c8-477d-deb6-e0873376ebb6"
      },
      "outputs": [
        {
          "output_type": "stream",
          "name": "stdout",
          "text": [
            "[(0, 1), (0, 2), (0, 3), (0, 4), (1, 2), (1, 3), (1, 4), (2, 3), (2, 4), (3, 4)]\n",
            "[('The weather is hot under the sun', 'I make my hot chocolate with milk'), ('The weather is hot under the sun', 'One hot encoding'), ('The weather is hot under the sun', 'I will have a chai latte with milk'), ('The weather is hot under the sun', 'There is a hot sale today'), ('I make my hot chocolate with milk', 'One hot encoding'), ('I make my hot chocolate with milk', 'I will have a chai latte with milk'), ('I make my hot chocolate with milk', 'There is a hot sale today'), ('One hot encoding', 'I will have a chai latte with milk'), ('One hot encoding', 'There is a hot sale today'), ('I will have a chai latte with milk', 'There is a hot sale today')]\n"
          ]
        },
        {
          "output_type": "execute_result",
          "data": {
            "text/plain": [
              "[(array([[0.40824829]]),\n",
              "  ('The weather is hot under the sun', 'One hot encoding')),\n",
              " (array([[0.40824829]]), ('One hot encoding', 'There is a hot sale today')),\n",
              " (array([[0.35355339]]),\n",
              "  ('I make my hot chocolate with milk', 'One hot encoding')),\n",
              " (array([[0.33333333]]),\n",
              "  ('The weather is hot under the sun', 'There is a hot sale today')),\n",
              " (array([[0.28867513]]),\n",
              "  ('The weather is hot under the sun', 'I make my hot chocolate with milk')),\n",
              " (array([[0.28867513]]),\n",
              "  ('I make my hot chocolate with milk', 'There is a hot sale today')),\n",
              " (array([[0.28867513]]),\n",
              "  ('I make my hot chocolate with milk', 'I will have a chai latte with milk')),\n",
              " (array([[0.]]),\n",
              "  ('The weather is hot under the sun', 'I will have a chai latte with milk')),\n",
              " (array([[0.]]), ('One hot encoding', 'I will have a chai latte with milk')),\n",
              " (array([[0.]]),\n",
              "  ('I will have a chai latte with milk', 'There is a hot sale today'))]"
            ]
          },
          "metadata": {},
          "execution_count": 50
        }
      ],
      "source": [
        "# calculate the cosine similarity between all combinations of documents\n",
        "from itertools import combinations\n",
        "from sklearn.metrics.pairwise import cosine_similarity\n",
        "\n",
        "# list all of the combinations of 5 take 2 as well as the pairs of phrases\n",
        "pairs = list(combinations(range(len(corpus)),2)) #sentence (0, 1), (0, 2), (0, 3), (0, 4), (1, 2), (1, 3), .., (3,4))\n",
        "print(pairs)\n",
        "combos = [(corpus[a_index], corpus[b_index]) for (a_index, b_index) in pairs]\n",
        "print (combos)\n",
        "\n",
        "# calculate the cosine similarity for all pairs of phrases and sort by most similar\n",
        "results = [cosine_similarity([X[a_index]], [X[b_index]]) for (a_index, b_index) in pairs]\n",
        "sorted(zip(results, combos), reverse=True)"
      ]
    },
    {
      "cell_type": "code",
      "execution_count": 51,
      "metadata": {
        "id": "6C9J5J45rd5m",
        "colab": {
          "base_uri": "https://localhost:8080/"
        },
        "outputId": "bc36849d-882e-4814-91b7-fba7135d04b2"
      },
      "outputs": [
        {
          "output_type": "execute_result",
          "data": {
            "text/plain": [
              "[(0, 1),\n",
              " (0, 2),\n",
              " (0, 3),\n",
              " (0, 4),\n",
              " (1, 2),\n",
              " (1, 3),\n",
              " (1, 4),\n",
              " (2, 3),\n",
              " (2, 4),\n",
              " (3, 4)]"
            ]
          },
          "metadata": {},
          "execution_count": 51
        }
      ],
      "source": [
        "pairs = list(combinations(range(5),2))\n",
        "pairs"
      ]
    },
    {
      "cell_type": "markdown",
      "metadata": {
        "id": "IYV4dhzfrd5m"
      },
      "source": [
        "![](https://i.imgur.com/jrfN6Jj.png)"
      ]
    },
    {
      "cell_type": "markdown",
      "metadata": {
        "id": "sS0Stotjrd5m"
      },
      "source": [
        "![](https://i.imgur.com/BI8XP92.png)"
      ]
    },
    {
      "cell_type": "markdown",
      "metadata": {
        "id": "P_X6soeOrd5n"
      },
      "source": [
        "![](https://i.imgur.com/3IbfQXT.png)"
      ]
    },
    {
      "cell_type": "markdown",
      "metadata": {
        "id": "YaTIJB99rd5n"
      },
      "source": [
        "![](https://i.imgur.com/pnNqzql.png)"
      ]
    },
    {
      "cell_type": "code",
      "execution_count": 53,
      "metadata": {
        "id": "KBKAYd0erd5n",
        "colab": {
          "base_uri": "https://localhost:8080/",
          "height": 143
        },
        "outputId": "fe4a514e-ae4d-4474-c35d-be520e55e904"
      },
      "outputs": [
        {
          "output_type": "execute_result",
          "data": {
            "text/plain": [
              "   and  document  first  fun  is  one  second  the  third  this\n",
              "0    0         1      1    0   1    0       0    1      0     1\n",
              "1    0         1      0    0   1    0       1    1      0     1\n",
              "2    1         0      0    1   1    2       0    1      1     0"
            ],
            "text/html": [
              "\n",
              "  <div id=\"df-aef0bb43-7da6-438f-98a2-26448b3926cc\" class=\"colab-df-container\">\n",
              "    <div>\n",
              "<style scoped>\n",
              "    .dataframe tbody tr th:only-of-type {\n",
              "        vertical-align: middle;\n",
              "    }\n",
              "\n",
              "    .dataframe tbody tr th {\n",
              "        vertical-align: top;\n",
              "    }\n",
              "\n",
              "    .dataframe thead th {\n",
              "        text-align: right;\n",
              "    }\n",
              "</style>\n",
              "<table border=\"1\" class=\"dataframe\">\n",
              "  <thead>\n",
              "    <tr style=\"text-align: right;\">\n",
              "      <th></th>\n",
              "      <th>and</th>\n",
              "      <th>document</th>\n",
              "      <th>first</th>\n",
              "      <th>fun</th>\n",
              "      <th>is</th>\n",
              "      <th>one</th>\n",
              "      <th>second</th>\n",
              "      <th>the</th>\n",
              "      <th>third</th>\n",
              "      <th>this</th>\n",
              "    </tr>\n",
              "  </thead>\n",
              "  <tbody>\n",
              "    <tr>\n",
              "      <th>0</th>\n",
              "      <td>0</td>\n",
              "      <td>1</td>\n",
              "      <td>1</td>\n",
              "      <td>0</td>\n",
              "      <td>1</td>\n",
              "      <td>0</td>\n",
              "      <td>0</td>\n",
              "      <td>1</td>\n",
              "      <td>0</td>\n",
              "      <td>1</td>\n",
              "    </tr>\n",
              "    <tr>\n",
              "      <th>1</th>\n",
              "      <td>0</td>\n",
              "      <td>1</td>\n",
              "      <td>0</td>\n",
              "      <td>0</td>\n",
              "      <td>1</td>\n",
              "      <td>0</td>\n",
              "      <td>1</td>\n",
              "      <td>1</td>\n",
              "      <td>0</td>\n",
              "      <td>1</td>\n",
              "    </tr>\n",
              "    <tr>\n",
              "      <th>2</th>\n",
              "      <td>1</td>\n",
              "      <td>0</td>\n",
              "      <td>0</td>\n",
              "      <td>1</td>\n",
              "      <td>1</td>\n",
              "      <td>2</td>\n",
              "      <td>0</td>\n",
              "      <td>1</td>\n",
              "      <td>1</td>\n",
              "      <td>0</td>\n",
              "    </tr>\n",
              "  </tbody>\n",
              "</table>\n",
              "</div>\n",
              "    <div class=\"colab-df-buttons\">\n",
              "\n",
              "  <div class=\"colab-df-container\">\n",
              "    <button class=\"colab-df-convert\" onclick=\"convertToInteractive('df-aef0bb43-7da6-438f-98a2-26448b3926cc')\"\n",
              "            title=\"Convert this dataframe to an interactive table.\"\n",
              "            style=\"display:none;\">\n",
              "\n",
              "  <svg xmlns=\"http://www.w3.org/2000/svg\" height=\"24px\" viewBox=\"0 -960 960 960\">\n",
              "    <path d=\"M120-120v-720h720v720H120Zm60-500h600v-160H180v160Zm220 220h160v-160H400v160Zm0 220h160v-160H400v160ZM180-400h160v-160H180v160Zm440 0h160v-160H620v160ZM180-180h160v-160H180v160Zm440 0h160v-160H620v160Z\"/>\n",
              "  </svg>\n",
              "    </button>\n",
              "\n",
              "  <style>\n",
              "    .colab-df-container {\n",
              "      display:flex;\n",
              "      gap: 12px;\n",
              "    }\n",
              "\n",
              "    .colab-df-convert {\n",
              "      background-color: #E8F0FE;\n",
              "      border: none;\n",
              "      border-radius: 50%;\n",
              "      cursor: pointer;\n",
              "      display: none;\n",
              "      fill: #1967D2;\n",
              "      height: 32px;\n",
              "      padding: 0 0 0 0;\n",
              "      width: 32px;\n",
              "    }\n",
              "\n",
              "    .colab-df-convert:hover {\n",
              "      background-color: #E2EBFA;\n",
              "      box-shadow: 0px 1px 2px rgba(60, 64, 67, 0.3), 0px 1px 3px 1px rgba(60, 64, 67, 0.15);\n",
              "      fill: #174EA6;\n",
              "    }\n",
              "\n",
              "    .colab-df-buttons div {\n",
              "      margin-bottom: 4px;\n",
              "    }\n",
              "\n",
              "    [theme=dark] .colab-df-convert {\n",
              "      background-color: #3B4455;\n",
              "      fill: #D2E3FC;\n",
              "    }\n",
              "\n",
              "    [theme=dark] .colab-df-convert:hover {\n",
              "      background-color: #434B5C;\n",
              "      box-shadow: 0px 1px 3px 1px rgba(0, 0, 0, 0.15);\n",
              "      filter: drop-shadow(0px 1px 2px rgba(0, 0, 0, 0.3));\n",
              "      fill: #FFFFFF;\n",
              "    }\n",
              "  </style>\n",
              "\n",
              "    <script>\n",
              "      const buttonEl =\n",
              "        document.querySelector('#df-aef0bb43-7da6-438f-98a2-26448b3926cc button.colab-df-convert');\n",
              "      buttonEl.style.display =\n",
              "        google.colab.kernel.accessAllowed ? 'block' : 'none';\n",
              "\n",
              "      async function convertToInteractive(key) {\n",
              "        const element = document.querySelector('#df-aef0bb43-7da6-438f-98a2-26448b3926cc');\n",
              "        const dataTable =\n",
              "          await google.colab.kernel.invokeFunction('convertToInteractive',\n",
              "                                                    [key], {});\n",
              "        if (!dataTable) return;\n",
              "\n",
              "        const docLinkHtml = 'Like what you see? Visit the ' +\n",
              "          '<a target=\"_blank\" href=https://colab.research.google.com/notebooks/data_table.ipynb>data table notebook</a>'\n",
              "          + ' to learn more about interactive tables.';\n",
              "        element.innerHTML = '';\n",
              "        dataTable['output_type'] = 'display_data';\n",
              "        await google.colab.output.renderOutput(dataTable, element);\n",
              "        const docLink = document.createElement('div');\n",
              "        docLink.innerHTML = docLinkHtml;\n",
              "        element.appendChild(docLink);\n",
              "      }\n",
              "    </script>\n",
              "  </div>\n",
              "\n",
              "\n",
              "    <div id=\"df-4dc9e6ca-1746-443b-bfd7-c5ea01492dfe\">\n",
              "      <button class=\"colab-df-quickchart\" onclick=\"quickchart('df-4dc9e6ca-1746-443b-bfd7-c5ea01492dfe')\"\n",
              "                title=\"Suggest charts\"\n",
              "                style=\"display:none;\">\n",
              "\n",
              "<svg xmlns=\"http://www.w3.org/2000/svg\" height=\"24px\"viewBox=\"0 0 24 24\"\n",
              "     width=\"24px\">\n",
              "    <g>\n",
              "        <path d=\"M19 3H5c-1.1 0-2 .9-2 2v14c0 1.1.9 2 2 2h14c1.1 0 2-.9 2-2V5c0-1.1-.9-2-2-2zM9 17H7v-7h2v7zm4 0h-2V7h2v10zm4 0h-2v-4h2v4z\"/>\n",
              "    </g>\n",
              "</svg>\n",
              "      </button>\n",
              "\n",
              "<style>\n",
              "  .colab-df-quickchart {\n",
              "      --bg-color: #E8F0FE;\n",
              "      --fill-color: #1967D2;\n",
              "      --hover-bg-color: #E2EBFA;\n",
              "      --hover-fill-color: #174EA6;\n",
              "      --disabled-fill-color: #AAA;\n",
              "      --disabled-bg-color: #DDD;\n",
              "  }\n",
              "\n",
              "  [theme=dark] .colab-df-quickchart {\n",
              "      --bg-color: #3B4455;\n",
              "      --fill-color: #D2E3FC;\n",
              "      --hover-bg-color: #434B5C;\n",
              "      --hover-fill-color: #FFFFFF;\n",
              "      --disabled-bg-color: #3B4455;\n",
              "      --disabled-fill-color: #666;\n",
              "  }\n",
              "\n",
              "  .colab-df-quickchart {\n",
              "    background-color: var(--bg-color);\n",
              "    border: none;\n",
              "    border-radius: 50%;\n",
              "    cursor: pointer;\n",
              "    display: none;\n",
              "    fill: var(--fill-color);\n",
              "    height: 32px;\n",
              "    padding: 0;\n",
              "    width: 32px;\n",
              "  }\n",
              "\n",
              "  .colab-df-quickchart:hover {\n",
              "    background-color: var(--hover-bg-color);\n",
              "    box-shadow: 0 1px 2px rgba(60, 64, 67, 0.3), 0 1px 3px 1px rgba(60, 64, 67, 0.15);\n",
              "    fill: var(--button-hover-fill-color);\n",
              "  }\n",
              "\n",
              "  .colab-df-quickchart-complete:disabled,\n",
              "  .colab-df-quickchart-complete:disabled:hover {\n",
              "    background-color: var(--disabled-bg-color);\n",
              "    fill: var(--disabled-fill-color);\n",
              "    box-shadow: none;\n",
              "  }\n",
              "\n",
              "  .colab-df-spinner {\n",
              "    border: 2px solid var(--fill-color);\n",
              "    border-color: transparent;\n",
              "    border-bottom-color: var(--fill-color);\n",
              "    animation:\n",
              "      spin 1s steps(1) infinite;\n",
              "  }\n",
              "\n",
              "  @keyframes spin {\n",
              "    0% {\n",
              "      border-color: transparent;\n",
              "      border-bottom-color: var(--fill-color);\n",
              "      border-left-color: var(--fill-color);\n",
              "    }\n",
              "    20% {\n",
              "      border-color: transparent;\n",
              "      border-left-color: var(--fill-color);\n",
              "      border-top-color: var(--fill-color);\n",
              "    }\n",
              "    30% {\n",
              "      border-color: transparent;\n",
              "      border-left-color: var(--fill-color);\n",
              "      border-top-color: var(--fill-color);\n",
              "      border-right-color: var(--fill-color);\n",
              "    }\n",
              "    40% {\n",
              "      border-color: transparent;\n",
              "      border-right-color: var(--fill-color);\n",
              "      border-top-color: var(--fill-color);\n",
              "    }\n",
              "    60% {\n",
              "      border-color: transparent;\n",
              "      border-right-color: var(--fill-color);\n",
              "    }\n",
              "    80% {\n",
              "      border-color: transparent;\n",
              "      border-right-color: var(--fill-color);\n",
              "      border-bottom-color: var(--fill-color);\n",
              "    }\n",
              "    90% {\n",
              "      border-color: transparent;\n",
              "      border-bottom-color: var(--fill-color);\n",
              "    }\n",
              "  }\n",
              "</style>\n",
              "\n",
              "      <script>\n",
              "        async function quickchart(key) {\n",
              "          const quickchartButtonEl =\n",
              "            document.querySelector('#' + key + ' button');\n",
              "          quickchartButtonEl.disabled = true;  // To prevent multiple clicks.\n",
              "          quickchartButtonEl.classList.add('colab-df-spinner');\n",
              "          try {\n",
              "            const charts = await google.colab.kernel.invokeFunction(\n",
              "                'suggestCharts', [key], {});\n",
              "          } catch (error) {\n",
              "            console.error('Error during call to suggestCharts:', error);\n",
              "          }\n",
              "          quickchartButtonEl.classList.remove('colab-df-spinner');\n",
              "          quickchartButtonEl.classList.add('colab-df-quickchart-complete');\n",
              "        }\n",
              "        (() => {\n",
              "          let quickchartButtonEl =\n",
              "            document.querySelector('#df-4dc9e6ca-1746-443b-bfd7-c5ea01492dfe button');\n",
              "          quickchartButtonEl.style.display =\n",
              "            google.colab.kernel.accessAllowed ? 'block' : 'none';\n",
              "        })();\n",
              "      </script>\n",
              "    </div>\n",
              "\n",
              "    </div>\n",
              "  </div>\n"
            ],
            "application/vnd.google.colaboratory.intrinsic+json": {
              "type": "dataframe",
              "summary": "{\n  \"name\": \"pd\",\n  \"rows\": 3,\n  \"fields\": [\n    {\n      \"column\": \"and\",\n      \"properties\": {\n        \"dtype\": \"number\",\n        \"std\": 0,\n        \"min\": 0,\n        \"max\": 1,\n        \"num_unique_values\": 2,\n        \"samples\": [\n          1,\n          0\n        ],\n        \"semantic_type\": \"\",\n        \"description\": \"\"\n      }\n    },\n    {\n      \"column\": \"document\",\n      \"properties\": {\n        \"dtype\": \"number\",\n        \"std\": 0,\n        \"min\": 0,\n        \"max\": 1,\n        \"num_unique_values\": 2,\n        \"samples\": [\n          0,\n          1\n        ],\n        \"semantic_type\": \"\",\n        \"description\": \"\"\n      }\n    },\n    {\n      \"column\": \"first\",\n      \"properties\": {\n        \"dtype\": \"number\",\n        \"std\": 0,\n        \"min\": 0,\n        \"max\": 1,\n        \"num_unique_values\": 2,\n        \"samples\": [\n          0,\n          1\n        ],\n        \"semantic_type\": \"\",\n        \"description\": \"\"\n      }\n    },\n    {\n      \"column\": \"fun\",\n      \"properties\": {\n        \"dtype\": \"number\",\n        \"std\": 0,\n        \"min\": 0,\n        \"max\": 1,\n        \"num_unique_values\": 2,\n        \"samples\": [\n          1,\n          0\n        ],\n        \"semantic_type\": \"\",\n        \"description\": \"\"\n      }\n    },\n    {\n      \"column\": \"is\",\n      \"properties\": {\n        \"dtype\": \"number\",\n        \"std\": 0,\n        \"min\": 1,\n        \"max\": 1,\n        \"num_unique_values\": 1,\n        \"samples\": [\n          1\n        ],\n        \"semantic_type\": \"\",\n        \"description\": \"\"\n      }\n    },\n    {\n      \"column\": \"one\",\n      \"properties\": {\n        \"dtype\": \"number\",\n        \"std\": 1,\n        \"min\": 0,\n        \"max\": 2,\n        \"num_unique_values\": 2,\n        \"samples\": [\n          2\n        ],\n        \"semantic_type\": \"\",\n        \"description\": \"\"\n      }\n    },\n    {\n      \"column\": \"second\",\n      \"properties\": {\n        \"dtype\": \"number\",\n        \"std\": 0,\n        \"min\": 0,\n        \"max\": 1,\n        \"num_unique_values\": 2,\n        \"samples\": [\n          1\n        ],\n        \"semantic_type\": \"\",\n        \"description\": \"\"\n      }\n    },\n    {\n      \"column\": \"the\",\n      \"properties\": {\n        \"dtype\": \"number\",\n        \"std\": 0,\n        \"min\": 1,\n        \"max\": 1,\n        \"num_unique_values\": 1,\n        \"samples\": [\n          1\n        ],\n        \"semantic_type\": \"\",\n        \"description\": \"\"\n      }\n    },\n    {\n      \"column\": \"third\",\n      \"properties\": {\n        \"dtype\": \"number\",\n        \"std\": 0,\n        \"min\": 0,\n        \"max\": 1,\n        \"num_unique_values\": 2,\n        \"samples\": [\n          1\n        ],\n        \"semantic_type\": \"\",\n        \"description\": \"\"\n      }\n    },\n    {\n      \"column\": \"this\",\n      \"properties\": {\n        \"dtype\": \"number\",\n        \"std\": 0,\n        \"min\": 0,\n        \"max\": 1,\n        \"num_unique_values\": 2,\n        \"samples\": [\n          0\n        ],\n        \"semantic_type\": \"\",\n        \"description\": \"\"\n      }\n    }\n  ]\n}"
            }
          },
          "metadata": {},
          "execution_count": 53
        }
      ],
      "source": [
        "import pandas as pd\n",
        "corpus = ['This is the first document.',\n",
        "         'This is the second document.',\n",
        "         'And the third one. One is fun.']\n",
        "# original Count Vectorizer\n",
        "from sklearn.feature_extraction.text import CountVectorizer\n",
        "cv = CountVectorizer()\n",
        "X = cv.fit_transform(corpus).toarray()\n",
        "pd.DataFrame(X, columns=cv.get_feature_names_out())"
      ]
    },
    {
      "cell_type": "code",
      "execution_count": 55,
      "metadata": {
        "id": "u44cBAImrd5o",
        "colab": {
          "base_uri": "https://localhost:8080/",
          "height": 143
        },
        "outputId": "fdcc2c1a-52df-41ad-e60d-b37986247096"
      },
      "outputs": [
        {
          "output_type": "execute_result",
          "data": {
            "text/plain": [
              "       and  document     first      fun        is      one    second  \\\n",
              "0  0.00000  0.450145  0.591887  0.00000  0.349578  0.00000  0.000000   \n",
              "1  0.00000  0.450145  0.000000  0.00000  0.349578  0.00000  0.591887   \n",
              "2  0.36043  0.000000  0.000000  0.36043  0.212876  0.72086  0.000000   \n",
              "\n",
              "        the    third      this  \n",
              "0  0.349578  0.00000  0.450145  \n",
              "1  0.349578  0.00000  0.450145  \n",
              "2  0.212876  0.36043  0.000000  "
            ],
            "text/html": [
              "\n",
              "  <div id=\"df-bb6e9150-406c-4a1a-b6d9-45aa834513fc\" class=\"colab-df-container\">\n",
              "    <div>\n",
              "<style scoped>\n",
              "    .dataframe tbody tr th:only-of-type {\n",
              "        vertical-align: middle;\n",
              "    }\n",
              "\n",
              "    .dataframe tbody tr th {\n",
              "        vertical-align: top;\n",
              "    }\n",
              "\n",
              "    .dataframe thead th {\n",
              "        text-align: right;\n",
              "    }\n",
              "</style>\n",
              "<table border=\"1\" class=\"dataframe\">\n",
              "  <thead>\n",
              "    <tr style=\"text-align: right;\">\n",
              "      <th></th>\n",
              "      <th>and</th>\n",
              "      <th>document</th>\n",
              "      <th>first</th>\n",
              "      <th>fun</th>\n",
              "      <th>is</th>\n",
              "      <th>one</th>\n",
              "      <th>second</th>\n",
              "      <th>the</th>\n",
              "      <th>third</th>\n",
              "      <th>this</th>\n",
              "    </tr>\n",
              "  </thead>\n",
              "  <tbody>\n",
              "    <tr>\n",
              "      <th>0</th>\n",
              "      <td>0.00000</td>\n",
              "      <td>0.450145</td>\n",
              "      <td>0.591887</td>\n",
              "      <td>0.00000</td>\n",
              "      <td>0.349578</td>\n",
              "      <td>0.00000</td>\n",
              "      <td>0.000000</td>\n",
              "      <td>0.349578</td>\n",
              "      <td>0.00000</td>\n",
              "      <td>0.450145</td>\n",
              "    </tr>\n",
              "    <tr>\n",
              "      <th>1</th>\n",
              "      <td>0.00000</td>\n",
              "      <td>0.450145</td>\n",
              "      <td>0.000000</td>\n",
              "      <td>0.00000</td>\n",
              "      <td>0.349578</td>\n",
              "      <td>0.00000</td>\n",
              "      <td>0.591887</td>\n",
              "      <td>0.349578</td>\n",
              "      <td>0.00000</td>\n",
              "      <td>0.450145</td>\n",
              "    </tr>\n",
              "    <tr>\n",
              "      <th>2</th>\n",
              "      <td>0.36043</td>\n",
              "      <td>0.000000</td>\n",
              "      <td>0.000000</td>\n",
              "      <td>0.36043</td>\n",
              "      <td>0.212876</td>\n",
              "      <td>0.72086</td>\n",
              "      <td>0.000000</td>\n",
              "      <td>0.212876</td>\n",
              "      <td>0.36043</td>\n",
              "      <td>0.000000</td>\n",
              "    </tr>\n",
              "  </tbody>\n",
              "</table>\n",
              "</div>\n",
              "    <div class=\"colab-df-buttons\">\n",
              "\n",
              "  <div class=\"colab-df-container\">\n",
              "    <button class=\"colab-df-convert\" onclick=\"convertToInteractive('df-bb6e9150-406c-4a1a-b6d9-45aa834513fc')\"\n",
              "            title=\"Convert this dataframe to an interactive table.\"\n",
              "            style=\"display:none;\">\n",
              "\n",
              "  <svg xmlns=\"http://www.w3.org/2000/svg\" height=\"24px\" viewBox=\"0 -960 960 960\">\n",
              "    <path d=\"M120-120v-720h720v720H120Zm60-500h600v-160H180v160Zm220 220h160v-160H400v160Zm0 220h160v-160H400v160ZM180-400h160v-160H180v160Zm440 0h160v-160H620v160ZM180-180h160v-160H180v160Zm440 0h160v-160H620v160Z\"/>\n",
              "  </svg>\n",
              "    </button>\n",
              "\n",
              "  <style>\n",
              "    .colab-df-container {\n",
              "      display:flex;\n",
              "      gap: 12px;\n",
              "    }\n",
              "\n",
              "    .colab-df-convert {\n",
              "      background-color: #E8F0FE;\n",
              "      border: none;\n",
              "      border-radius: 50%;\n",
              "      cursor: pointer;\n",
              "      display: none;\n",
              "      fill: #1967D2;\n",
              "      height: 32px;\n",
              "      padding: 0 0 0 0;\n",
              "      width: 32px;\n",
              "    }\n",
              "\n",
              "    .colab-df-convert:hover {\n",
              "      background-color: #E2EBFA;\n",
              "      box-shadow: 0px 1px 2px rgba(60, 64, 67, 0.3), 0px 1px 3px 1px rgba(60, 64, 67, 0.15);\n",
              "      fill: #174EA6;\n",
              "    }\n",
              "\n",
              "    .colab-df-buttons div {\n",
              "      margin-bottom: 4px;\n",
              "    }\n",
              "\n",
              "    [theme=dark] .colab-df-convert {\n",
              "      background-color: #3B4455;\n",
              "      fill: #D2E3FC;\n",
              "    }\n",
              "\n",
              "    [theme=dark] .colab-df-convert:hover {\n",
              "      background-color: #434B5C;\n",
              "      box-shadow: 0px 1px 3px 1px rgba(0, 0, 0, 0.15);\n",
              "      filter: drop-shadow(0px 1px 2px rgba(0, 0, 0, 0.3));\n",
              "      fill: #FFFFFF;\n",
              "    }\n",
              "  </style>\n",
              "\n",
              "    <script>\n",
              "      const buttonEl =\n",
              "        document.querySelector('#df-bb6e9150-406c-4a1a-b6d9-45aa834513fc button.colab-df-convert');\n",
              "      buttonEl.style.display =\n",
              "        google.colab.kernel.accessAllowed ? 'block' : 'none';\n",
              "\n",
              "      async function convertToInteractive(key) {\n",
              "        const element = document.querySelector('#df-bb6e9150-406c-4a1a-b6d9-45aa834513fc');\n",
              "        const dataTable =\n",
              "          await google.colab.kernel.invokeFunction('convertToInteractive',\n",
              "                                                    [key], {});\n",
              "        if (!dataTable) return;\n",
              "\n",
              "        const docLinkHtml = 'Like what you see? Visit the ' +\n",
              "          '<a target=\"_blank\" href=https://colab.research.google.com/notebooks/data_table.ipynb>data table notebook</a>'\n",
              "          + ' to learn more about interactive tables.';\n",
              "        element.innerHTML = '';\n",
              "        dataTable['output_type'] = 'display_data';\n",
              "        await google.colab.output.renderOutput(dataTable, element);\n",
              "        const docLink = document.createElement('div');\n",
              "        docLink.innerHTML = docLinkHtml;\n",
              "        element.appendChild(docLink);\n",
              "      }\n",
              "    </script>\n",
              "  </div>\n",
              "\n",
              "\n",
              "    <div id=\"df-e261fb5f-8e3d-4a42-92ca-e4c39f1f2687\">\n",
              "      <button class=\"colab-df-quickchart\" onclick=\"quickchart('df-e261fb5f-8e3d-4a42-92ca-e4c39f1f2687')\"\n",
              "                title=\"Suggest charts\"\n",
              "                style=\"display:none;\">\n",
              "\n",
              "<svg xmlns=\"http://www.w3.org/2000/svg\" height=\"24px\"viewBox=\"0 0 24 24\"\n",
              "     width=\"24px\">\n",
              "    <g>\n",
              "        <path d=\"M19 3H5c-1.1 0-2 .9-2 2v14c0 1.1.9 2 2 2h14c1.1 0 2-.9 2-2V5c0-1.1-.9-2-2-2zM9 17H7v-7h2v7zm4 0h-2V7h2v10zm4 0h-2v-4h2v4z\"/>\n",
              "    </g>\n",
              "</svg>\n",
              "      </button>\n",
              "\n",
              "<style>\n",
              "  .colab-df-quickchart {\n",
              "      --bg-color: #E8F0FE;\n",
              "      --fill-color: #1967D2;\n",
              "      --hover-bg-color: #E2EBFA;\n",
              "      --hover-fill-color: #174EA6;\n",
              "      --disabled-fill-color: #AAA;\n",
              "      --disabled-bg-color: #DDD;\n",
              "  }\n",
              "\n",
              "  [theme=dark] .colab-df-quickchart {\n",
              "      --bg-color: #3B4455;\n",
              "      --fill-color: #D2E3FC;\n",
              "      --hover-bg-color: #434B5C;\n",
              "      --hover-fill-color: #FFFFFF;\n",
              "      --disabled-bg-color: #3B4455;\n",
              "      --disabled-fill-color: #666;\n",
              "  }\n",
              "\n",
              "  .colab-df-quickchart {\n",
              "    background-color: var(--bg-color);\n",
              "    border: none;\n",
              "    border-radius: 50%;\n",
              "    cursor: pointer;\n",
              "    display: none;\n",
              "    fill: var(--fill-color);\n",
              "    height: 32px;\n",
              "    padding: 0;\n",
              "    width: 32px;\n",
              "  }\n",
              "\n",
              "  .colab-df-quickchart:hover {\n",
              "    background-color: var(--hover-bg-color);\n",
              "    box-shadow: 0 1px 2px rgba(60, 64, 67, 0.3), 0 1px 3px 1px rgba(60, 64, 67, 0.15);\n",
              "    fill: var(--button-hover-fill-color);\n",
              "  }\n",
              "\n",
              "  .colab-df-quickchart-complete:disabled,\n",
              "  .colab-df-quickchart-complete:disabled:hover {\n",
              "    background-color: var(--disabled-bg-color);\n",
              "    fill: var(--disabled-fill-color);\n",
              "    box-shadow: none;\n",
              "  }\n",
              "\n",
              "  .colab-df-spinner {\n",
              "    border: 2px solid var(--fill-color);\n",
              "    border-color: transparent;\n",
              "    border-bottom-color: var(--fill-color);\n",
              "    animation:\n",
              "      spin 1s steps(1) infinite;\n",
              "  }\n",
              "\n",
              "  @keyframes spin {\n",
              "    0% {\n",
              "      border-color: transparent;\n",
              "      border-bottom-color: var(--fill-color);\n",
              "      border-left-color: var(--fill-color);\n",
              "    }\n",
              "    20% {\n",
              "      border-color: transparent;\n",
              "      border-left-color: var(--fill-color);\n",
              "      border-top-color: var(--fill-color);\n",
              "    }\n",
              "    30% {\n",
              "      border-color: transparent;\n",
              "      border-left-color: var(--fill-color);\n",
              "      border-top-color: var(--fill-color);\n",
              "      border-right-color: var(--fill-color);\n",
              "    }\n",
              "    40% {\n",
              "      border-color: transparent;\n",
              "      border-right-color: var(--fill-color);\n",
              "      border-top-color: var(--fill-color);\n",
              "    }\n",
              "    60% {\n",
              "      border-color: transparent;\n",
              "      border-right-color: var(--fill-color);\n",
              "    }\n",
              "    80% {\n",
              "      border-color: transparent;\n",
              "      border-right-color: var(--fill-color);\n",
              "      border-bottom-color: var(--fill-color);\n",
              "    }\n",
              "    90% {\n",
              "      border-color: transparent;\n",
              "      border-bottom-color: var(--fill-color);\n",
              "    }\n",
              "  }\n",
              "</style>\n",
              "\n",
              "      <script>\n",
              "        async function quickchart(key) {\n",
              "          const quickchartButtonEl =\n",
              "            document.querySelector('#' + key + ' button');\n",
              "          quickchartButtonEl.disabled = true;  // To prevent multiple clicks.\n",
              "          quickchartButtonEl.classList.add('colab-df-spinner');\n",
              "          try {\n",
              "            const charts = await google.colab.kernel.invokeFunction(\n",
              "                'suggestCharts', [key], {});\n",
              "          } catch (error) {\n",
              "            console.error('Error during call to suggestCharts:', error);\n",
              "          }\n",
              "          quickchartButtonEl.classList.remove('colab-df-spinner');\n",
              "          quickchartButtonEl.classList.add('colab-df-quickchart-complete');\n",
              "        }\n",
              "        (() => {\n",
              "          let quickchartButtonEl =\n",
              "            document.querySelector('#df-e261fb5f-8e3d-4a42-92ca-e4c39f1f2687 button');\n",
              "          quickchartButtonEl.style.display =\n",
              "            google.colab.kernel.accessAllowed ? 'block' : 'none';\n",
              "        })();\n",
              "      </script>\n",
              "    </div>\n",
              "\n",
              "    </div>\n",
              "  </div>\n"
            ],
            "application/vnd.google.colaboratory.intrinsic+json": {
              "type": "dataframe",
              "summary": "{\n  \"name\": \"pd\",\n  \"rows\": 3,\n  \"fields\": [\n    {\n      \"column\": \"and\",\n      \"properties\": {\n        \"dtype\": \"number\",\n        \"std\": 0.20809428715848713,\n        \"min\": 0.0,\n        \"max\": 0.36042987812332744,\n        \"num_unique_values\": 2,\n        \"samples\": [\n          0.36042987812332744,\n          0.0\n        ],\n        \"semantic_type\": \"\",\n        \"description\": \"\"\n      }\n    },\n    {\n      \"column\": \"document\",\n      \"properties\": {\n        \"dtype\": \"number\",\n        \"std\": 0.25989134080741144,\n        \"min\": 0.0,\n        \"max\": 0.45014500672563534,\n        \"num_unique_values\": 2,\n        \"samples\": [\n          0.0,\n          0.45014500672563534\n        ],\n        \"semantic_type\": \"\",\n        \"description\": \"\"\n      }\n    },\n    {\n      \"column\": \"first\",\n      \"properties\": {\n        \"dtype\": \"number\",\n        \"std\": 0.3417258812201801,\n        \"min\": 0.0,\n        \"max\": 0.5918865885345992,\n        \"num_unique_values\": 2,\n        \"samples\": [\n          0.0,\n          0.5918865885345992\n        ],\n        \"semantic_type\": \"\",\n        \"description\": \"\"\n      }\n    },\n    {\n      \"column\": \"fun\",\n      \"properties\": {\n        \"dtype\": \"number\",\n        \"std\": 0.20809428715848713,\n        \"min\": 0.0,\n        \"max\": 0.36042987812332744,\n        \"num_unique_values\": 2,\n        \"samples\": [\n          0.36042987812332744,\n          0.0\n        ],\n        \"semantic_type\": \"\",\n        \"description\": \"\"\n      }\n    },\n    {\n      \"column\": \"is\",\n      \"properties\": {\n        \"dtype\": \"number\",\n        \"std\": 0.07892497214418141,\n        \"min\": 0.21287569223847902,\n        \"max\": 0.3495777539781596,\n        \"num_unique_values\": 2,\n        \"samples\": [\n          0.21287569223847902,\n          0.3495777539781596\n        ],\n        \"semantic_type\": \"\",\n        \"description\": \"\"\n      }\n    },\n    {\n      \"column\": \"one\",\n      \"properties\": {\n        \"dtype\": \"number\",\n        \"std\": 0.41618857431697426,\n        \"min\": 0.0,\n        \"max\": 0.7208597562466549,\n        \"num_unique_values\": 2,\n        \"samples\": [\n          0.7208597562466549,\n          0.0\n        ],\n        \"semantic_type\": \"\",\n        \"description\": \"\"\n      }\n    },\n    {\n      \"column\": \"second\",\n      \"properties\": {\n        \"dtype\": \"number\",\n        \"std\": 0.3417258812201801,\n        \"min\": 0.0,\n        \"max\": 0.5918865885345992,\n        \"num_unique_values\": 2,\n        \"samples\": [\n          0.5918865885345992,\n          0.0\n        ],\n        \"semantic_type\": \"\",\n        \"description\": \"\"\n      }\n    },\n    {\n      \"column\": \"the\",\n      \"properties\": {\n        \"dtype\": \"number\",\n        \"std\": 0.07892497214418141,\n        \"min\": 0.21287569223847902,\n        \"max\": 0.3495777539781596,\n        \"num_unique_values\": 2,\n        \"samples\": [\n          0.21287569223847902,\n          0.3495777539781596\n        ],\n        \"semantic_type\": \"\",\n        \"description\": \"\"\n      }\n    },\n    {\n      \"column\": \"third\",\n      \"properties\": {\n        \"dtype\": \"number\",\n        \"std\": 0.20809428715848713,\n        \"min\": 0.0,\n        \"max\": 0.36042987812332744,\n        \"num_unique_values\": 2,\n        \"samples\": [\n          0.36042987812332744,\n          0.0\n        ],\n        \"semantic_type\": \"\",\n        \"description\": \"\"\n      }\n    },\n    {\n      \"column\": \"this\",\n      \"properties\": {\n        \"dtype\": \"number\",\n        \"std\": 0.25989134080741144,\n        \"min\": 0.0,\n        \"max\": 0.45014500672563534,\n        \"num_unique_values\": 2,\n        \"samples\": [\n          0.0,\n          0.45014500672563534\n        ],\n        \"semantic_type\": \"\",\n        \"description\": \"\"\n      }\n    }\n  ]\n}"
            }
          },
          "metadata": {},
          "execution_count": 55
        }
      ],
      "source": [
        "# new TF-IDF Vectorizer\n",
        "from sklearn.feature_extraction.text import TfidfVectorizer\n",
        "cv_tfidf = TfidfVectorizer()\n",
        "X_tfidf = cv_tfidf.fit_transform(corpus).toarray()\n",
        "pd.DataFrame(X_tfidf, columns=cv_tfidf.get_feature_names_out())"
      ]
    },
    {
      "cell_type": "markdown",
      "metadata": {
        "id": "QEMme_lQrd5o"
      },
      "source": [
        "![](https://i.imgur.com/xlJibKw.png)"
      ]
    },
    {
      "cell_type": "markdown",
      "metadata": {
        "id": "aIQbXx_Jrd5p"
      },
      "source": [
        "## Document Similarity: Example with TF-IDF"
      ]
    },
    {
      "cell_type": "code",
      "execution_count": 57,
      "metadata": {
        "id": "AmQKsUwCrd5p",
        "colab": {
          "base_uri": "https://localhost:8080/",
          "height": 206
        },
        "outputId": "9e3e2ba3-ffa1-43e5-da26-eb3717d67c99"
      },
      "outputs": [
        {
          "output_type": "execute_result",
          "data": {
            "text/plain": [
              "       chai  chocolate  encoding       hot     latte      make      milk  \\\n",
              "0  0.000000   0.000000  0.000000  0.370086  0.000000  0.000000  0.000000   \n",
              "1  0.000000   0.580423  0.000000  0.327000  0.000000  0.580423  0.468282   \n",
              "2  0.000000   0.000000  0.871247  0.490845  0.000000  0.000000  0.000000   \n",
              "3  0.614189   0.000000  0.000000  0.000000  0.614189  0.000000  0.495524   \n",
              "4  0.000000   0.000000  0.000000  0.370086  0.000000  0.000000  0.000000   \n",
              "\n",
              "     sale     sun   today  weather  \n",
              "0  0.0000  0.6569  0.0000   0.6569  \n",
              "1  0.0000  0.0000  0.0000   0.0000  \n",
              "2  0.0000  0.0000  0.0000   0.0000  \n",
              "3  0.0000  0.0000  0.0000   0.0000  \n",
              "4  0.6569  0.0000  0.6569   0.0000  "
            ],
            "text/html": [
              "\n",
              "  <div id=\"df-f2097209-1090-41f3-ab79-e1a0418f4541\" class=\"colab-df-container\">\n",
              "    <div>\n",
              "<style scoped>\n",
              "    .dataframe tbody tr th:only-of-type {\n",
              "        vertical-align: middle;\n",
              "    }\n",
              "\n",
              "    .dataframe tbody tr th {\n",
              "        vertical-align: top;\n",
              "    }\n",
              "\n",
              "    .dataframe thead th {\n",
              "        text-align: right;\n",
              "    }\n",
              "</style>\n",
              "<table border=\"1\" class=\"dataframe\">\n",
              "  <thead>\n",
              "    <tr style=\"text-align: right;\">\n",
              "      <th></th>\n",
              "      <th>chai</th>\n",
              "      <th>chocolate</th>\n",
              "      <th>encoding</th>\n",
              "      <th>hot</th>\n",
              "      <th>latte</th>\n",
              "      <th>make</th>\n",
              "      <th>milk</th>\n",
              "      <th>sale</th>\n",
              "      <th>sun</th>\n",
              "      <th>today</th>\n",
              "      <th>weather</th>\n",
              "    </tr>\n",
              "  </thead>\n",
              "  <tbody>\n",
              "    <tr>\n",
              "      <th>0</th>\n",
              "      <td>0.000000</td>\n",
              "      <td>0.000000</td>\n",
              "      <td>0.000000</td>\n",
              "      <td>0.370086</td>\n",
              "      <td>0.000000</td>\n",
              "      <td>0.000000</td>\n",
              "      <td>0.000000</td>\n",
              "      <td>0.0000</td>\n",
              "      <td>0.6569</td>\n",
              "      <td>0.0000</td>\n",
              "      <td>0.6569</td>\n",
              "    </tr>\n",
              "    <tr>\n",
              "      <th>1</th>\n",
              "      <td>0.000000</td>\n",
              "      <td>0.580423</td>\n",
              "      <td>0.000000</td>\n",
              "      <td>0.327000</td>\n",
              "      <td>0.000000</td>\n",
              "      <td>0.580423</td>\n",
              "      <td>0.468282</td>\n",
              "      <td>0.0000</td>\n",
              "      <td>0.0000</td>\n",
              "      <td>0.0000</td>\n",
              "      <td>0.0000</td>\n",
              "    </tr>\n",
              "    <tr>\n",
              "      <th>2</th>\n",
              "      <td>0.000000</td>\n",
              "      <td>0.000000</td>\n",
              "      <td>0.871247</td>\n",
              "      <td>0.490845</td>\n",
              "      <td>0.000000</td>\n",
              "      <td>0.000000</td>\n",
              "      <td>0.000000</td>\n",
              "      <td>0.0000</td>\n",
              "      <td>0.0000</td>\n",
              "      <td>0.0000</td>\n",
              "      <td>0.0000</td>\n",
              "    </tr>\n",
              "    <tr>\n",
              "      <th>3</th>\n",
              "      <td>0.614189</td>\n",
              "      <td>0.000000</td>\n",
              "      <td>0.000000</td>\n",
              "      <td>0.000000</td>\n",
              "      <td>0.614189</td>\n",
              "      <td>0.000000</td>\n",
              "      <td>0.495524</td>\n",
              "      <td>0.0000</td>\n",
              "      <td>0.0000</td>\n",
              "      <td>0.0000</td>\n",
              "      <td>0.0000</td>\n",
              "    </tr>\n",
              "    <tr>\n",
              "      <th>4</th>\n",
              "      <td>0.000000</td>\n",
              "      <td>0.000000</td>\n",
              "      <td>0.000000</td>\n",
              "      <td>0.370086</td>\n",
              "      <td>0.000000</td>\n",
              "      <td>0.000000</td>\n",
              "      <td>0.000000</td>\n",
              "      <td>0.6569</td>\n",
              "      <td>0.0000</td>\n",
              "      <td>0.6569</td>\n",
              "      <td>0.0000</td>\n",
              "    </tr>\n",
              "  </tbody>\n",
              "</table>\n",
              "</div>\n",
              "    <div class=\"colab-df-buttons\">\n",
              "\n",
              "  <div class=\"colab-df-container\">\n",
              "    <button class=\"colab-df-convert\" onclick=\"convertToInteractive('df-f2097209-1090-41f3-ab79-e1a0418f4541')\"\n",
              "            title=\"Convert this dataframe to an interactive table.\"\n",
              "            style=\"display:none;\">\n",
              "\n",
              "  <svg xmlns=\"http://www.w3.org/2000/svg\" height=\"24px\" viewBox=\"0 -960 960 960\">\n",
              "    <path d=\"M120-120v-720h720v720H120Zm60-500h600v-160H180v160Zm220 220h160v-160H400v160Zm0 220h160v-160H400v160ZM180-400h160v-160H180v160Zm440 0h160v-160H620v160ZM180-180h160v-160H180v160Zm440 0h160v-160H620v160Z\"/>\n",
              "  </svg>\n",
              "    </button>\n",
              "\n",
              "  <style>\n",
              "    .colab-df-container {\n",
              "      display:flex;\n",
              "      gap: 12px;\n",
              "    }\n",
              "\n",
              "    .colab-df-convert {\n",
              "      background-color: #E8F0FE;\n",
              "      border: none;\n",
              "      border-radius: 50%;\n",
              "      cursor: pointer;\n",
              "      display: none;\n",
              "      fill: #1967D2;\n",
              "      height: 32px;\n",
              "      padding: 0 0 0 0;\n",
              "      width: 32px;\n",
              "    }\n",
              "\n",
              "    .colab-df-convert:hover {\n",
              "      background-color: #E2EBFA;\n",
              "      box-shadow: 0px 1px 2px rgba(60, 64, 67, 0.3), 0px 1px 3px 1px rgba(60, 64, 67, 0.15);\n",
              "      fill: #174EA6;\n",
              "    }\n",
              "\n",
              "    .colab-df-buttons div {\n",
              "      margin-bottom: 4px;\n",
              "    }\n",
              "\n",
              "    [theme=dark] .colab-df-convert {\n",
              "      background-color: #3B4455;\n",
              "      fill: #D2E3FC;\n",
              "    }\n",
              "\n",
              "    [theme=dark] .colab-df-convert:hover {\n",
              "      background-color: #434B5C;\n",
              "      box-shadow: 0px 1px 3px 1px rgba(0, 0, 0, 0.15);\n",
              "      filter: drop-shadow(0px 1px 2px rgba(0, 0, 0, 0.3));\n",
              "      fill: #FFFFFF;\n",
              "    }\n",
              "  </style>\n",
              "\n",
              "    <script>\n",
              "      const buttonEl =\n",
              "        document.querySelector('#df-f2097209-1090-41f3-ab79-e1a0418f4541 button.colab-df-convert');\n",
              "      buttonEl.style.display =\n",
              "        google.colab.kernel.accessAllowed ? 'block' : 'none';\n",
              "\n",
              "      async function convertToInteractive(key) {\n",
              "        const element = document.querySelector('#df-f2097209-1090-41f3-ab79-e1a0418f4541');\n",
              "        const dataTable =\n",
              "          await google.colab.kernel.invokeFunction('convertToInteractive',\n",
              "                                                    [key], {});\n",
              "        if (!dataTable) return;\n",
              "\n",
              "        const docLinkHtml = 'Like what you see? Visit the ' +\n",
              "          '<a target=\"_blank\" href=https://colab.research.google.com/notebooks/data_table.ipynb>data table notebook</a>'\n",
              "          + ' to learn more about interactive tables.';\n",
              "        element.innerHTML = '';\n",
              "        dataTable['output_type'] = 'display_data';\n",
              "        await google.colab.output.renderOutput(dataTable, element);\n",
              "        const docLink = document.createElement('div');\n",
              "        docLink.innerHTML = docLinkHtml;\n",
              "        element.appendChild(docLink);\n",
              "      }\n",
              "    </script>\n",
              "  </div>\n",
              "\n",
              "\n",
              "    <div id=\"df-39f3eb90-50f9-498f-a2ae-a38e2c71269d\">\n",
              "      <button class=\"colab-df-quickchart\" onclick=\"quickchart('df-39f3eb90-50f9-498f-a2ae-a38e2c71269d')\"\n",
              "                title=\"Suggest charts\"\n",
              "                style=\"display:none;\">\n",
              "\n",
              "<svg xmlns=\"http://www.w3.org/2000/svg\" height=\"24px\"viewBox=\"0 0 24 24\"\n",
              "     width=\"24px\">\n",
              "    <g>\n",
              "        <path d=\"M19 3H5c-1.1 0-2 .9-2 2v14c0 1.1.9 2 2 2h14c1.1 0 2-.9 2-2V5c0-1.1-.9-2-2-2zM9 17H7v-7h2v7zm4 0h-2V7h2v10zm4 0h-2v-4h2v4z\"/>\n",
              "    </g>\n",
              "</svg>\n",
              "      </button>\n",
              "\n",
              "<style>\n",
              "  .colab-df-quickchart {\n",
              "      --bg-color: #E8F0FE;\n",
              "      --fill-color: #1967D2;\n",
              "      --hover-bg-color: #E2EBFA;\n",
              "      --hover-fill-color: #174EA6;\n",
              "      --disabled-fill-color: #AAA;\n",
              "      --disabled-bg-color: #DDD;\n",
              "  }\n",
              "\n",
              "  [theme=dark] .colab-df-quickchart {\n",
              "      --bg-color: #3B4455;\n",
              "      --fill-color: #D2E3FC;\n",
              "      --hover-bg-color: #434B5C;\n",
              "      --hover-fill-color: #FFFFFF;\n",
              "      --disabled-bg-color: #3B4455;\n",
              "      --disabled-fill-color: #666;\n",
              "  }\n",
              "\n",
              "  .colab-df-quickchart {\n",
              "    background-color: var(--bg-color);\n",
              "    border: none;\n",
              "    border-radius: 50%;\n",
              "    cursor: pointer;\n",
              "    display: none;\n",
              "    fill: var(--fill-color);\n",
              "    height: 32px;\n",
              "    padding: 0;\n",
              "    width: 32px;\n",
              "  }\n",
              "\n",
              "  .colab-df-quickchart:hover {\n",
              "    background-color: var(--hover-bg-color);\n",
              "    box-shadow: 0 1px 2px rgba(60, 64, 67, 0.3), 0 1px 3px 1px rgba(60, 64, 67, 0.15);\n",
              "    fill: var(--button-hover-fill-color);\n",
              "  }\n",
              "\n",
              "  .colab-df-quickchart-complete:disabled,\n",
              "  .colab-df-quickchart-complete:disabled:hover {\n",
              "    background-color: var(--disabled-bg-color);\n",
              "    fill: var(--disabled-fill-color);\n",
              "    box-shadow: none;\n",
              "  }\n",
              "\n",
              "  .colab-df-spinner {\n",
              "    border: 2px solid var(--fill-color);\n",
              "    border-color: transparent;\n",
              "    border-bottom-color: var(--fill-color);\n",
              "    animation:\n",
              "      spin 1s steps(1) infinite;\n",
              "  }\n",
              "\n",
              "  @keyframes spin {\n",
              "    0% {\n",
              "      border-color: transparent;\n",
              "      border-bottom-color: var(--fill-color);\n",
              "      border-left-color: var(--fill-color);\n",
              "    }\n",
              "    20% {\n",
              "      border-color: transparent;\n",
              "      border-left-color: var(--fill-color);\n",
              "      border-top-color: var(--fill-color);\n",
              "    }\n",
              "    30% {\n",
              "      border-color: transparent;\n",
              "      border-left-color: var(--fill-color);\n",
              "      border-top-color: var(--fill-color);\n",
              "      border-right-color: var(--fill-color);\n",
              "    }\n",
              "    40% {\n",
              "      border-color: transparent;\n",
              "      border-right-color: var(--fill-color);\n",
              "      border-top-color: var(--fill-color);\n",
              "    }\n",
              "    60% {\n",
              "      border-color: transparent;\n",
              "      border-right-color: var(--fill-color);\n",
              "    }\n",
              "    80% {\n",
              "      border-color: transparent;\n",
              "      border-right-color: var(--fill-color);\n",
              "      border-bottom-color: var(--fill-color);\n",
              "    }\n",
              "    90% {\n",
              "      border-color: transparent;\n",
              "      border-bottom-color: var(--fill-color);\n",
              "    }\n",
              "  }\n",
              "</style>\n",
              "\n",
              "      <script>\n",
              "        async function quickchart(key) {\n",
              "          const quickchartButtonEl =\n",
              "            document.querySelector('#' + key + ' button');\n",
              "          quickchartButtonEl.disabled = true;  // To prevent multiple clicks.\n",
              "          quickchartButtonEl.classList.add('colab-df-spinner');\n",
              "          try {\n",
              "            const charts = await google.colab.kernel.invokeFunction(\n",
              "                'suggestCharts', [key], {});\n",
              "          } catch (error) {\n",
              "            console.error('Error during call to suggestCharts:', error);\n",
              "          }\n",
              "          quickchartButtonEl.classList.remove('colab-df-spinner');\n",
              "          quickchartButtonEl.classList.add('colab-df-quickchart-complete');\n",
              "        }\n",
              "        (() => {\n",
              "          let quickchartButtonEl =\n",
              "            document.querySelector('#df-39f3eb90-50f9-498f-a2ae-a38e2c71269d button');\n",
              "          quickchartButtonEl.style.display =\n",
              "            google.colab.kernel.accessAllowed ? 'block' : 'none';\n",
              "        })();\n",
              "      </script>\n",
              "    </div>\n",
              "\n",
              "  <div id=\"id_10e32c8c-2c35-4109-a562-ca50b7a39834\">\n",
              "    <style>\n",
              "      .colab-df-generate {\n",
              "        background-color: #E8F0FE;\n",
              "        border: none;\n",
              "        border-radius: 50%;\n",
              "        cursor: pointer;\n",
              "        display: none;\n",
              "        fill: #1967D2;\n",
              "        height: 32px;\n",
              "        padding: 0 0 0 0;\n",
              "        width: 32px;\n",
              "      }\n",
              "\n",
              "      .colab-df-generate:hover {\n",
              "        background-color: #E2EBFA;\n",
              "        box-shadow: 0px 1px 2px rgba(60, 64, 67, 0.3), 0px 1px 3px 1px rgba(60, 64, 67, 0.15);\n",
              "        fill: #174EA6;\n",
              "      }\n",
              "\n",
              "      [theme=dark] .colab-df-generate {\n",
              "        background-color: #3B4455;\n",
              "        fill: #D2E3FC;\n",
              "      }\n",
              "\n",
              "      [theme=dark] .colab-df-generate:hover {\n",
              "        background-color: #434B5C;\n",
              "        box-shadow: 0px 1px 3px 1px rgba(0, 0, 0, 0.15);\n",
              "        filter: drop-shadow(0px 1px 2px rgba(0, 0, 0, 0.3));\n",
              "        fill: #FFFFFF;\n",
              "      }\n",
              "    </style>\n",
              "    <button class=\"colab-df-generate\" onclick=\"generateWithVariable('dt_tfidf')\"\n",
              "            title=\"Generate code using this dataframe.\"\n",
              "            style=\"display:none;\">\n",
              "\n",
              "  <svg xmlns=\"http://www.w3.org/2000/svg\" height=\"24px\"viewBox=\"0 0 24 24\"\n",
              "       width=\"24px\">\n",
              "    <path d=\"M7,19H8.4L18.45,9,17,7.55,7,17.6ZM5,21V16.75L18.45,3.32a2,2,0,0,1,2.83,0l1.4,1.43a1.91,1.91,0,0,1,.58,1.4,1.91,1.91,0,0,1-.58,1.4L9.25,21ZM18.45,9,17,7.55Zm-12,3A5.31,5.31,0,0,0,4.9,8.1,5.31,5.31,0,0,0,1,6.5,5.31,5.31,0,0,0,4.9,4.9,5.31,5.31,0,0,0,6.5,1,5.31,5.31,0,0,0,8.1,4.9,5.31,5.31,0,0,0,12,6.5,5.46,5.46,0,0,0,6.5,12Z\"/>\n",
              "  </svg>\n",
              "    </button>\n",
              "    <script>\n",
              "      (() => {\n",
              "      const buttonEl =\n",
              "        document.querySelector('#id_10e32c8c-2c35-4109-a562-ca50b7a39834 button.colab-df-generate');\n",
              "      buttonEl.style.display =\n",
              "        google.colab.kernel.accessAllowed ? 'block' : 'none';\n",
              "\n",
              "      buttonEl.onclick = () => {\n",
              "        google.colab.notebook.generateWithVariable('dt_tfidf');\n",
              "      }\n",
              "      })();\n",
              "    </script>\n",
              "  </div>\n",
              "\n",
              "    </div>\n",
              "  </div>\n"
            ],
            "application/vnd.google.colaboratory.intrinsic+json": {
              "type": "dataframe",
              "variable_name": "dt_tfidf",
              "summary": "{\n  \"name\": \"dt_tfidf\",\n  \"rows\": 5,\n  \"fields\": [\n    {\n      \"column\": \"chai\",\n      \"properties\": {\n        \"dtype\": \"number\",\n        \"std\": 0.27467365595450194,\n        \"min\": 0.0,\n        \"max\": 0.6141889663426562,\n        \"num_unique_values\": 2,\n        \"samples\": [\n          0.6141889663426562,\n          0.0\n        ],\n        \"semantic_type\": \"\",\n        \"description\": \"\"\n      }\n    },\n    {\n      \"column\": \"chocolate\",\n      \"properties\": {\n        \"dtype\": \"number\",\n        \"std\": 0.25957324858693825,\n        \"min\": 0.0,\n        \"max\": 0.5804234289808452,\n        \"num_unique_values\": 2,\n        \"samples\": [\n          0.5804234289808452,\n          0.0\n        ],\n        \"semantic_type\": \"\",\n        \"description\": \"\"\n      }\n    },\n    {\n      \"column\": \"encoding\",\n      \"properties\": {\n        \"dtype\": \"number\",\n        \"std\": 0.38963340509321087,\n        \"min\": 0.0,\n        \"max\": 0.8712467800931323,\n        \"num_unique_values\": 2,\n        \"samples\": [\n          0.8712467800931323,\n          0.0\n        ],\n        \"semantic_type\": \"\",\n        \"description\": \"\"\n      }\n    },\n    {\n      \"column\": \"hot\",\n      \"properties\": {\n        \"dtype\": \"number\",\n        \"std\": 0.18459541070052524,\n        \"min\": 0.0,\n        \"max\": 0.4908452385195859,\n        \"num_unique_values\": 4,\n        \"samples\": [\n          0.3270004354105097,\n          0.0\n        ],\n        \"semantic_type\": \"\",\n        \"description\": \"\"\n      }\n    },\n    {\n      \"column\": \"latte\",\n      \"properties\": {\n        \"dtype\": \"number\",\n        \"std\": 0.27467365595450194,\n        \"min\": 0.0,\n        \"max\": 0.6141889663426562,\n        \"num_unique_values\": 2,\n        \"samples\": [\n          0.6141889663426562,\n          0.0\n        ],\n        \"semantic_type\": \"\",\n        \"description\": \"\"\n      }\n    },\n    {\n      \"column\": \"make\",\n      \"properties\": {\n        \"dtype\": \"number\",\n        \"std\": 0.25957324858693825,\n        \"min\": 0.0,\n        \"max\": 0.5804234289808452,\n        \"num_unique_values\": 2,\n        \"samples\": [\n          0.5804234289808452,\n          0.0\n        ],\n        \"semantic_type\": \"\",\n        \"description\": \"\"\n      }\n    },\n    {\n      \"column\": \"milk\",\n      \"properties\": {\n        \"dtype\": \"number\",\n        \"std\": 0.26412474353223336,\n        \"min\": 0.0,\n        \"max\": 0.49552379079705033,\n        \"num_unique_values\": 3,\n        \"samples\": [\n          0.0,\n          0.46828196785865284\n        ],\n        \"semantic_type\": \"\",\n        \"description\": \"\"\n      }\n    },\n    {\n      \"column\": \"sale\",\n      \"properties\": {\n        \"dtype\": \"number\",\n        \"std\": 0.293774777083747,\n        \"min\": 0.0,\n        \"max\": 0.6569003716341056,\n        \"num_unique_values\": 2,\n        \"samples\": [\n          0.6569003716341056,\n          0.0\n        ],\n        \"semantic_type\": \"\",\n        \"description\": \"\"\n      }\n    },\n    {\n      \"column\": \"sun\",\n      \"properties\": {\n        \"dtype\": \"number\",\n        \"std\": 0.29377477708374705,\n        \"min\": 0.0,\n        \"max\": 0.6569003716341056,\n        \"num_unique_values\": 2,\n        \"samples\": [\n          0.0,\n          0.6569003716341056\n        ],\n        \"semantic_type\": \"\",\n        \"description\": \"\"\n      }\n    },\n    {\n      \"column\": \"today\",\n      \"properties\": {\n        \"dtype\": \"number\",\n        \"std\": 0.293774777083747,\n        \"min\": 0.0,\n        \"max\": 0.6569003716341056,\n        \"num_unique_values\": 2,\n        \"samples\": [\n          0.6569003716341056,\n          0.0\n        ],\n        \"semantic_type\": \"\",\n        \"description\": \"\"\n      }\n    },\n    {\n      \"column\": \"weather\",\n      \"properties\": {\n        \"dtype\": \"number\",\n        \"std\": 0.29377477708374705,\n        \"min\": 0.0,\n        \"max\": 0.6569003716341056,\n        \"num_unique_values\": 2,\n        \"samples\": [\n          0.0,\n          0.6569003716341056\n        ],\n        \"semantic_type\": \"\",\n        \"description\": \"\"\n      }\n    }\n  ]\n}"
            }
          },
          "metadata": {},
          "execution_count": 57
        }
      ],
      "source": [
        "corpus = ['The weather is hot under the sun',\n",
        "'I make my hot chocolate with milk',\n",
        "'One hot encoding',\n",
        "'I will have a chai latte with milk',\n",
        "'There is a hot sale today']\n",
        "\n",
        "from sklearn.feature_extraction.text import TfidfVectorizer\n",
        "# create the document-term matrix with TF-IDF vectorizer\n",
        "cv_tfidf = TfidfVectorizer(stop_words=\"english\")\n",
        "X_tfidf = cv_tfidf.fit_transform(corpus).toarray()\n",
        "dt_tfidf = pd.DataFrame(X_tfidf,columns=cv_tfidf.get_feature_names_out())\n",
        "dt_tfidf"
      ]
    },
    {
      "cell_type": "code",
      "execution_count": 58,
      "metadata": {
        "id": "QV41uOddrd5p",
        "colab": {
          "base_uri": "https://localhost:8080/"
        },
        "outputId": "b0ae3c18-3d9a-4d01-cf89-acbd05089bfc"
      },
      "outputs": [
        {
          "output_type": "execute_result",
          "data": {
            "text/plain": [
              "[(array([[0.23204486]]),\n",
              "  ('I make my hot chocolate with milk', 'I will have a chai latte with milk')),\n",
              " (array([[0.18165505]]),\n",
              "  ('The weather is hot under the sun', 'One hot encoding')),\n",
              " (array([[0.18165505]]), ('One hot encoding', 'There is a hot sale today')),\n",
              " (array([[0.16050661]]),\n",
              "  ('I make my hot chocolate with milk', 'One hot encoding')),\n",
              " (array([[0.1369638]]),\n",
              "  ('The weather is hot under the sun', 'There is a hot sale today')),\n",
              " (array([[0.12101835]]),\n",
              "  ('The weather is hot under the sun', 'I make my hot chocolate with milk')),\n",
              " (array([[0.12101835]]),\n",
              "  ('I make my hot chocolate with milk', 'There is a hot sale today')),\n",
              " (array([[0.]]),\n",
              "  ('The weather is hot under the sun', 'I will have a chai latte with milk')),\n",
              " (array([[0.]]), ('One hot encoding', 'I will have a chai latte with milk')),\n",
              " (array([[0.]]),\n",
              "  ('I will have a chai latte with milk', 'There is a hot sale today'))]"
            ]
          },
          "metadata": {},
          "execution_count": 58
        }
      ],
      "source": [
        "# calculate the cosine similarity for all pairs of phrases and sort by most similar\n",
        "results_tfidf = [cosine_similarity([X_tfidf[a_index]], [X_tfidf[b_index]]) for (a_index, b_index) in pairs]\n",
        "sorted(zip(results_tfidf, combos), reverse=True)"
      ]
    },
    {
      "cell_type": "markdown",
      "metadata": {
        "id": "StpSLAU1rd5q"
      },
      "source": [
        "![](https://i.imgur.com/mj4J60v.png)"
      ]
    },
    {
      "cell_type": "markdown",
      "metadata": {
        "id": "Dzn6Prpqrd5r"
      },
      "source": [
        "# <font color=red>Sentiment Analysis Exercise</font>"
      ]
    },
    {
      "cell_type": "markdown",
      "metadata": {
        "id": "JLgKKSjUrd5r"
      },
      "source": [
        "## Introduction\n",
        "\n",
        "We will be using a song lyric dataset from Kaggle to identify songs with similar lyrics. The data set contains artists, songs and lyrics for 55K+ songs, but today we will be focusing on songs by one group in particular - The Beatles.\n",
        "\n",
        "The following code will help you load in the data and get set up for this exercise.\n"
      ]
    },
    {
      "cell_type": "code",
      "execution_count": 59,
      "metadata": {
        "id": "Rh5QhJTUrd5r"
      },
      "outputs": [],
      "source": [
        "import nltk\n",
        "import pandas as pd"
      ]
    },
    {
      "cell_type": "code",
      "execution_count": 60,
      "metadata": {
        "id": "vQmH70Xrrd5s",
        "colab": {
          "base_uri": "https://localhost:8080/",
          "height": 363
        },
        "outputId": "99164dae-275c-486d-d206-d9df836a70f0"
      },
      "outputs": [
        {
          "output_type": "execute_result",
          "data": {
            "text/plain": [
              "  artist                   song                                        link  \\\n",
              "0   ABBA  Ahe's My Kind Of Girl  /a/abba/ahes+my+kind+of+girl_20598417.html   \n",
              "1   ABBA       Andante, Andante       /a/abba/andante+andante_20002708.html   \n",
              "2   ABBA         As Good As New        /a/abba/as+good+as+new_20003033.html   \n",
              "3   ABBA                   Bang                  /a/abba/bang_20598415.html   \n",
              "4   ABBA       Bang-A-Boomerang      /a/abba/bang+a+boomerang_20002668.html   \n",
              "5   ABBA     Burning My Bridges    /a/abba/burning+my+bridges_20003011.html   \n",
              "6   ABBA              Cassandra             /a/abba/cassandra_20002811.html   \n",
              "7   ABBA             Chiquitita            /a/abba/chiquitita_20002978.html   \n",
              "8   ABBA            Crazy World           /a/abba/crazy+world_20003013.html   \n",
              "9   ABBA        Crying Over You       /a/abba/crying+over+you_20177611.html   \n",
              "\n",
              "                                                text  \n",
              "0  Look at her face, it's a wonderful face  \\nAnd...  \n",
              "1  Take it easy with me, please  \\nTouch me gentl...  \n",
              "2  I'll never know why I had to go  \\nWhy I had t...  \n",
              "3  Making somebody happy is a question of give an...  \n",
              "4  Making somebody happy is a question of give an...  \n",
              "5  Well, you hoot and you holler and you make me ...  \n",
              "6  Down in the street they're all singing and sho...  \n",
              "7  Chiquitita, tell me what's wrong  \\nYou're enc...  \n",
              "8  I was out with the morning sun  \\nCouldn't sle...  \n",
              "9  I'm waitin' for you baby  \\nI'm sitting all al...  "
            ],
            "text/html": [
              "\n",
              "  <div id=\"df-f7940526-15bf-40d6-bd6f-46127945898c\" class=\"colab-df-container\">\n",
              "    <div>\n",
              "<style scoped>\n",
              "    .dataframe tbody tr th:only-of-type {\n",
              "        vertical-align: middle;\n",
              "    }\n",
              "\n",
              "    .dataframe tbody tr th {\n",
              "        vertical-align: top;\n",
              "    }\n",
              "\n",
              "    .dataframe thead th {\n",
              "        text-align: right;\n",
              "    }\n",
              "</style>\n",
              "<table border=\"1\" class=\"dataframe\">\n",
              "  <thead>\n",
              "    <tr style=\"text-align: right;\">\n",
              "      <th></th>\n",
              "      <th>artist</th>\n",
              "      <th>song</th>\n",
              "      <th>link</th>\n",
              "      <th>text</th>\n",
              "    </tr>\n",
              "  </thead>\n",
              "  <tbody>\n",
              "    <tr>\n",
              "      <th>0</th>\n",
              "      <td>ABBA</td>\n",
              "      <td>Ahe's My Kind Of Girl</td>\n",
              "      <td>/a/abba/ahes+my+kind+of+girl_20598417.html</td>\n",
              "      <td>Look at her face, it's a wonderful face  \\nAnd...</td>\n",
              "    </tr>\n",
              "    <tr>\n",
              "      <th>1</th>\n",
              "      <td>ABBA</td>\n",
              "      <td>Andante, Andante</td>\n",
              "      <td>/a/abba/andante+andante_20002708.html</td>\n",
              "      <td>Take it easy with me, please  \\nTouch me gentl...</td>\n",
              "    </tr>\n",
              "    <tr>\n",
              "      <th>2</th>\n",
              "      <td>ABBA</td>\n",
              "      <td>As Good As New</td>\n",
              "      <td>/a/abba/as+good+as+new_20003033.html</td>\n",
              "      <td>I'll never know why I had to go  \\nWhy I had t...</td>\n",
              "    </tr>\n",
              "    <tr>\n",
              "      <th>3</th>\n",
              "      <td>ABBA</td>\n",
              "      <td>Bang</td>\n",
              "      <td>/a/abba/bang_20598415.html</td>\n",
              "      <td>Making somebody happy is a question of give an...</td>\n",
              "    </tr>\n",
              "    <tr>\n",
              "      <th>4</th>\n",
              "      <td>ABBA</td>\n",
              "      <td>Bang-A-Boomerang</td>\n",
              "      <td>/a/abba/bang+a+boomerang_20002668.html</td>\n",
              "      <td>Making somebody happy is a question of give an...</td>\n",
              "    </tr>\n",
              "    <tr>\n",
              "      <th>5</th>\n",
              "      <td>ABBA</td>\n",
              "      <td>Burning My Bridges</td>\n",
              "      <td>/a/abba/burning+my+bridges_20003011.html</td>\n",
              "      <td>Well, you hoot and you holler and you make me ...</td>\n",
              "    </tr>\n",
              "    <tr>\n",
              "      <th>6</th>\n",
              "      <td>ABBA</td>\n",
              "      <td>Cassandra</td>\n",
              "      <td>/a/abba/cassandra_20002811.html</td>\n",
              "      <td>Down in the street they're all singing and sho...</td>\n",
              "    </tr>\n",
              "    <tr>\n",
              "      <th>7</th>\n",
              "      <td>ABBA</td>\n",
              "      <td>Chiquitita</td>\n",
              "      <td>/a/abba/chiquitita_20002978.html</td>\n",
              "      <td>Chiquitita, tell me what's wrong  \\nYou're enc...</td>\n",
              "    </tr>\n",
              "    <tr>\n",
              "      <th>8</th>\n",
              "      <td>ABBA</td>\n",
              "      <td>Crazy World</td>\n",
              "      <td>/a/abba/crazy+world_20003013.html</td>\n",
              "      <td>I was out with the morning sun  \\nCouldn't sle...</td>\n",
              "    </tr>\n",
              "    <tr>\n",
              "      <th>9</th>\n",
              "      <td>ABBA</td>\n",
              "      <td>Crying Over You</td>\n",
              "      <td>/a/abba/crying+over+you_20177611.html</td>\n",
              "      <td>I'm waitin' for you baby  \\nI'm sitting all al...</td>\n",
              "    </tr>\n",
              "  </tbody>\n",
              "</table>\n",
              "</div>\n",
              "    <div class=\"colab-df-buttons\">\n",
              "\n",
              "  <div class=\"colab-df-container\">\n",
              "    <button class=\"colab-df-convert\" onclick=\"convertToInteractive('df-f7940526-15bf-40d6-bd6f-46127945898c')\"\n",
              "            title=\"Convert this dataframe to an interactive table.\"\n",
              "            style=\"display:none;\">\n",
              "\n",
              "  <svg xmlns=\"http://www.w3.org/2000/svg\" height=\"24px\" viewBox=\"0 -960 960 960\">\n",
              "    <path d=\"M120-120v-720h720v720H120Zm60-500h600v-160H180v160Zm220 220h160v-160H400v160Zm0 220h160v-160H400v160ZM180-400h160v-160H180v160Zm440 0h160v-160H620v160ZM180-180h160v-160H180v160Zm440 0h160v-160H620v160Z\"/>\n",
              "  </svg>\n",
              "    </button>\n",
              "\n",
              "  <style>\n",
              "    .colab-df-container {\n",
              "      display:flex;\n",
              "      gap: 12px;\n",
              "    }\n",
              "\n",
              "    .colab-df-convert {\n",
              "      background-color: #E8F0FE;\n",
              "      border: none;\n",
              "      border-radius: 50%;\n",
              "      cursor: pointer;\n",
              "      display: none;\n",
              "      fill: #1967D2;\n",
              "      height: 32px;\n",
              "      padding: 0 0 0 0;\n",
              "      width: 32px;\n",
              "    }\n",
              "\n",
              "    .colab-df-convert:hover {\n",
              "      background-color: #E2EBFA;\n",
              "      box-shadow: 0px 1px 2px rgba(60, 64, 67, 0.3), 0px 1px 3px 1px rgba(60, 64, 67, 0.15);\n",
              "      fill: #174EA6;\n",
              "    }\n",
              "\n",
              "    .colab-df-buttons div {\n",
              "      margin-bottom: 4px;\n",
              "    }\n",
              "\n",
              "    [theme=dark] .colab-df-convert {\n",
              "      background-color: #3B4455;\n",
              "      fill: #D2E3FC;\n",
              "    }\n",
              "\n",
              "    [theme=dark] .colab-df-convert:hover {\n",
              "      background-color: #434B5C;\n",
              "      box-shadow: 0px 1px 3px 1px rgba(0, 0, 0, 0.15);\n",
              "      filter: drop-shadow(0px 1px 2px rgba(0, 0, 0, 0.3));\n",
              "      fill: #FFFFFF;\n",
              "    }\n",
              "  </style>\n",
              "\n",
              "    <script>\n",
              "      const buttonEl =\n",
              "        document.querySelector('#df-f7940526-15bf-40d6-bd6f-46127945898c button.colab-df-convert');\n",
              "      buttonEl.style.display =\n",
              "        google.colab.kernel.accessAllowed ? 'block' : 'none';\n",
              "\n",
              "      async function convertToInteractive(key) {\n",
              "        const element = document.querySelector('#df-f7940526-15bf-40d6-bd6f-46127945898c');\n",
              "        const dataTable =\n",
              "          await google.colab.kernel.invokeFunction('convertToInteractive',\n",
              "                                                    [key], {});\n",
              "        if (!dataTable) return;\n",
              "\n",
              "        const docLinkHtml = 'Like what you see? Visit the ' +\n",
              "          '<a target=\"_blank\" href=https://colab.research.google.com/notebooks/data_table.ipynb>data table notebook</a>'\n",
              "          + ' to learn more about interactive tables.';\n",
              "        element.innerHTML = '';\n",
              "        dataTable['output_type'] = 'display_data';\n",
              "        await google.colab.output.renderOutput(dataTable, element);\n",
              "        const docLink = document.createElement('div');\n",
              "        docLink.innerHTML = docLinkHtml;\n",
              "        element.appendChild(docLink);\n",
              "      }\n",
              "    </script>\n",
              "  </div>\n",
              "\n",
              "\n",
              "    <div id=\"df-757e1163-12b8-4ff5-aede-82c9dc6d50d4\">\n",
              "      <button class=\"colab-df-quickchart\" onclick=\"quickchart('df-757e1163-12b8-4ff5-aede-82c9dc6d50d4')\"\n",
              "                title=\"Suggest charts\"\n",
              "                style=\"display:none;\">\n",
              "\n",
              "<svg xmlns=\"http://www.w3.org/2000/svg\" height=\"24px\"viewBox=\"0 0 24 24\"\n",
              "     width=\"24px\">\n",
              "    <g>\n",
              "        <path d=\"M19 3H5c-1.1 0-2 .9-2 2v14c0 1.1.9 2 2 2h14c1.1 0 2-.9 2-2V5c0-1.1-.9-2-2-2zM9 17H7v-7h2v7zm4 0h-2V7h2v10zm4 0h-2v-4h2v4z\"/>\n",
              "    </g>\n",
              "</svg>\n",
              "      </button>\n",
              "\n",
              "<style>\n",
              "  .colab-df-quickchart {\n",
              "      --bg-color: #E8F0FE;\n",
              "      --fill-color: #1967D2;\n",
              "      --hover-bg-color: #E2EBFA;\n",
              "      --hover-fill-color: #174EA6;\n",
              "      --disabled-fill-color: #AAA;\n",
              "      --disabled-bg-color: #DDD;\n",
              "  }\n",
              "\n",
              "  [theme=dark] .colab-df-quickchart {\n",
              "      --bg-color: #3B4455;\n",
              "      --fill-color: #D2E3FC;\n",
              "      --hover-bg-color: #434B5C;\n",
              "      --hover-fill-color: #FFFFFF;\n",
              "      --disabled-bg-color: #3B4455;\n",
              "      --disabled-fill-color: #666;\n",
              "  }\n",
              "\n",
              "  .colab-df-quickchart {\n",
              "    background-color: var(--bg-color);\n",
              "    border: none;\n",
              "    border-radius: 50%;\n",
              "    cursor: pointer;\n",
              "    display: none;\n",
              "    fill: var(--fill-color);\n",
              "    height: 32px;\n",
              "    padding: 0;\n",
              "    width: 32px;\n",
              "  }\n",
              "\n",
              "  .colab-df-quickchart:hover {\n",
              "    background-color: var(--hover-bg-color);\n",
              "    box-shadow: 0 1px 2px rgba(60, 64, 67, 0.3), 0 1px 3px 1px rgba(60, 64, 67, 0.15);\n",
              "    fill: var(--button-hover-fill-color);\n",
              "  }\n",
              "\n",
              "  .colab-df-quickchart-complete:disabled,\n",
              "  .colab-df-quickchart-complete:disabled:hover {\n",
              "    background-color: var(--disabled-bg-color);\n",
              "    fill: var(--disabled-fill-color);\n",
              "    box-shadow: none;\n",
              "  }\n",
              "\n",
              "  .colab-df-spinner {\n",
              "    border: 2px solid var(--fill-color);\n",
              "    border-color: transparent;\n",
              "    border-bottom-color: var(--fill-color);\n",
              "    animation:\n",
              "      spin 1s steps(1) infinite;\n",
              "  }\n",
              "\n",
              "  @keyframes spin {\n",
              "    0% {\n",
              "      border-color: transparent;\n",
              "      border-bottom-color: var(--fill-color);\n",
              "      border-left-color: var(--fill-color);\n",
              "    }\n",
              "    20% {\n",
              "      border-color: transparent;\n",
              "      border-left-color: var(--fill-color);\n",
              "      border-top-color: var(--fill-color);\n",
              "    }\n",
              "    30% {\n",
              "      border-color: transparent;\n",
              "      border-left-color: var(--fill-color);\n",
              "      border-top-color: var(--fill-color);\n",
              "      border-right-color: var(--fill-color);\n",
              "    }\n",
              "    40% {\n",
              "      border-color: transparent;\n",
              "      border-right-color: var(--fill-color);\n",
              "      border-top-color: var(--fill-color);\n",
              "    }\n",
              "    60% {\n",
              "      border-color: transparent;\n",
              "      border-right-color: var(--fill-color);\n",
              "    }\n",
              "    80% {\n",
              "      border-color: transparent;\n",
              "      border-right-color: var(--fill-color);\n",
              "      border-bottom-color: var(--fill-color);\n",
              "    }\n",
              "    90% {\n",
              "      border-color: transparent;\n",
              "      border-bottom-color: var(--fill-color);\n",
              "    }\n",
              "  }\n",
              "</style>\n",
              "\n",
              "      <script>\n",
              "        async function quickchart(key) {\n",
              "          const quickchartButtonEl =\n",
              "            document.querySelector('#' + key + ' button');\n",
              "          quickchartButtonEl.disabled = true;  // To prevent multiple clicks.\n",
              "          quickchartButtonEl.classList.add('colab-df-spinner');\n",
              "          try {\n",
              "            const charts = await google.colab.kernel.invokeFunction(\n",
              "                'suggestCharts', [key], {});\n",
              "          } catch (error) {\n",
              "            console.error('Error during call to suggestCharts:', error);\n",
              "          }\n",
              "          quickchartButtonEl.classList.remove('colab-df-spinner');\n",
              "          quickchartButtonEl.classList.add('colab-df-quickchart-complete');\n",
              "        }\n",
              "        (() => {\n",
              "          let quickchartButtonEl =\n",
              "            document.querySelector('#df-757e1163-12b8-4ff5-aede-82c9dc6d50d4 button');\n",
              "          quickchartButtonEl.style.display =\n",
              "            google.colab.kernel.accessAllowed ? 'block' : 'none';\n",
              "        })();\n",
              "      </script>\n",
              "    </div>\n",
              "\n",
              "    </div>\n",
              "  </div>\n"
            ],
            "application/vnd.google.colaboratory.intrinsic+json": {
              "type": "dataframe",
              "variable_name": "data",
              "summary": "{\n  \"name\": \"data\",\n  \"rows\": 57650,\n  \"fields\": [\n    {\n      \"column\": \"artist\",\n      \"properties\": {\n        \"dtype\": \"category\",\n        \"num_unique_values\": 643,\n        \"samples\": [\n          \"Ziggy Marley\",\n          \"O.A.R.\",\n          \"Styx\"\n        ],\n        \"semantic_type\": \"\",\n        \"description\": \"\"\n      }\n    },\n    {\n      \"column\": \"song\",\n      \"properties\": {\n        \"dtype\": \"string\",\n        \"num_unique_values\": 44824,\n        \"samples\": [\n          \"Tear Me Down\",\n          \"Lakky Lady\",\n          \"They All Went To Mexico\"\n        ],\n        \"semantic_type\": \"\",\n        \"description\": \"\"\n      }\n    },\n    {\n      \"column\": \"link\",\n      \"properties\": {\n        \"dtype\": \"string\",\n        \"num_unique_values\": 57650,\n        \"samples\": [\n          \"/w/wishbone+ash/right+or+wrong_20147150.html\",\n          \"/a/aerosmith/this+little+light+of+mine_20644484.html\",\n          \"/f/fall+out+boy/dance+dance_10113666.html\"\n        ],\n        \"semantic_type\": \"\",\n        \"description\": \"\"\n      }\n    },\n    {\n      \"column\": \"text\",\n      \"properties\": {\n        \"dtype\": \"string\",\n        \"num_unique_values\": 57494,\n        \"samples\": [\n          \"When the grey skies turn to blue  \\nAnd the dark clouds blow away  \\nIn the morning of a new life  \\nWhen the sun comes shining through  \\nWhen the grey skies turn to blue  \\nIn the morning of a new life  \\nWhen the sun comes shining through  \\nWhen the grey skies turn to blue  \\nMeet me on a bright and windy day  \\nWhen the breeze has blown  \\nThe gray skies far away  \\nHigh upon a hillside  \\nWhen the sun comes shining through  \\nAnd the grey skies turn to blue  \\nWhen the grey skies turn to blue  \\nWhen the grey skies turn to blue  \\n\\n\",\n          \"I met a girl a wonderful girl  \\nWho's really got a lot to recommend her for a girl  \\nFabulous creature without any doubt  \\nHey what am I getting so excited about  \\nShe's just a girl an everyday girl  \\nAnd yet I guess she's really rather special for a girl  \\nFor once you've seen her the others are not  \\nHey what am I getting so excited about  \\nBut so what what has she got others have not  \\nTwo eyes two lips a nose all girls have some of those  \\nBut when she looks up at me what do I see  \\nThe most enchanting face my pulse begins to race  \\nHey I met a girl a marvelous girl  \\nShe rarer than uranium and fairer than a pearl  \\nFound me a treasure and I want to shout  \\nHey what am I getting so excited about  \\nBut so what what has she got others have not  \\nTwo eyes two lips a nose all girls have some of those  \\nBut when she looks up at me what do I see  \\nThe most enchanting face my pulse begins to race  \\n(I got a girl a marvelous girl)  \\n(She rarer than uranium and fairer than a pearl)  \\nFound me a treasure and I want to shout  \\nThis is what am I getting so excited about  \\n(He met a girl) and I fell in love today\\n\\n\",\n          \"She's over by the corner  \\nGot her hands by her sides  \\nThey hit her harder harder harder  \\nTill they thought she might die  \\n  \\nWell I got a foggy notion,  \\nDo it again  \\nOver by the corner,  \\nDo it again  \\nI got my calamine lotion baby,  \\nDo it again  \\nI got a foggy notion,  \\nDo it again  \\n  \\nShe made me do something  \\nThat I never did before  \\nI rushed right down  \\nTo a flower store  \\nI bought her a bundle  \\nA beautiful batch  \\nDon't you know something,  \\nShe sent 'em right back  \\n  \\nSally Mae, Sally Mae,  \\nSally Mae, Sally Mae  \\nSally Mae, Sally Mae,  \\nSally Mae, Sally Mae\\n\\n\"\n        ],\n        \"semantic_type\": \"\",\n        \"description\": \"\"\n      }\n    }\n  ]\n}"
            }
          },
          "metadata": {},
          "execution_count": 60
        }
      ],
      "source": [
        "data = pd.read_csv('songdata.csv')\n",
        "data.head(10)"
      ]
    },
    {
      "cell_type": "markdown",
      "metadata": {
        "id": "_7NlRhHMrd5s"
      },
      "source": [
        "# Question 1\n",
        "\n",
        "Apply the following preprocessing steps:\n",
        "\n",
        "- Note the '\\n' (new line) characters in the lyrics. Remove them using regular expressions.\n"
      ]
    },
    {
      "cell_type": "code",
      "execution_count": 61,
      "metadata": {
        "id": "sTj3QxFnrd5t",
        "colab": {
          "base_uri": "https://localhost:8080/"
        },
        "outputId": "9e1d3235-7c03-4d43-8ae0-12abb18006da"
      },
      "outputs": [
        {
          "output_type": "stream",
          "name": "stdout",
          "text": [
            "0        Look at her face, it's a wonderful face  And i...\n",
            "1        Take it easy with me, please  Touch me gently ...\n",
            "2        I'll never know why I had to go  Why I had to ...\n",
            "3        Making somebody happy is a question of give an...\n",
            "4        Making somebody happy is a question of give an...\n",
            "                               ...                        \n",
            "57645    Irie days come on play  Let the angels fly let...\n",
            "57646    Power to the workers  More power  Power to the...\n",
            "57647    all you need  is something i'll believe  flash...\n",
            "57648    northern star  am i frightened  where can i go...\n",
            "57649    come in  make yourself at home  i'm a bit late...\n",
            "Name: text, Length: 57650, dtype: object\n"
          ]
        }
      ],
      "source": [
        "# first bullet\n",
        "\n",
        "data = pd.read_csv('songdata.csv')\n",
        "\n",
        "txt_col = data.text\n",
        "\n",
        "txt_col=txt_col.str.replace(\"\\n\",\"\")\n",
        "print(txt_col)"
      ]
    },
    {
      "cell_type": "markdown",
      "metadata": {
        "id": "DjendBaprd5t"
      },
      "source": [
        "## Question 2\n",
        "\n",
        "(a) List all the rows with \"Imagine\" in the title\n"
      ]
    },
    {
      "cell_type": "code",
      "execution_count": 62,
      "metadata": {
        "id": "iWEnNBtord5u",
        "colab": {
          "base_uri": "https://localhost:8080/",
          "height": 614
        },
        "outputId": "f656d95b-dcc1-492d-ba87-1e73ea9f8fd5"
      },
      "outputs": [
        {
          "output_type": "execute_result",
          "data": {
            "text/plain": [
              "                artist                            song  \\\n",
              "1769          Bon Jovi                         Imagine   \n",
              "4215        Diana Ross                         Imagine   \n",
              "6885              Glee                         Imagine   \n",
              "7340     Guns N' Roses                         Imagine   \n",
              "15678        Pearl Jam                 Hard To Imagine   \n",
              "19748            Train                         Imagine   \n",
              "24406    Avril Lavigne                         Imagine   \n",
              "24783      The Beatles                         Imagine   \n",
              "29441      Demi Lovato              I Can Only Imagine   \n",
              "40519    Kirk Franklin                      Imagine Me   \n",
              "42531          Madonna                         Imagine   \n",
              "47054   Our Lady Peace                         Imagine   \n",
              "47423      Patsy Cline                    Imagine That   \n",
              "49745         R. Kelly                    Imagine That   \n",
              "52273    Stevie Wonder  Can't Imagine Love Without You   \n",
              "56289  Whitney Houston        Who Would Imagine A King   \n",
              "56349              Who                   Imagine A Man   \n",
              "57191              Yes                 Can You Imagine   \n",
              "\n",
              "                                                    link  \\\n",
              "1769                   /b/bon+jovi/imagine_20525130.html   \n",
              "4215                 /d/diana+ross/imagine_20040404.html   \n",
              "6885                       /g/glee/imagine_20854234.html   \n",
              "7340               /g/guns+n+roses/imagine_20254363.html   \n",
              "15678         /p/pearl+jam/hard+to+imagine_20106382.html   \n",
              "19748                     /t/train/imagine_21054702.html   \n",
              "24406             /a/avril+lavigne/imagine_20785697.html   \n",
              "24783                   /b/beatles/imagine_20254326.html   \n",
              "29441    /d/demi+lovato/i+can+only+imagine_20868017.html   \n",
              "40519          /k/kirk+franklin/imagine+me_20370453.html   \n",
              "42531                   /m/madonna/imagine_21007422.html   \n",
              "47054            /o/our+lady+peace/imagine_20254375.html   \n",
              "47423          /p/patsy+cline/imagine+that_20105097.html   \n",
              "49745              /r/r+kelly/imagine+that_20254512.html   \n",
              "52273  /s/stevie+wonder/cant+imagine+love+without+you...   \n",
              "56289  /w/whitney+houston/who+would+imagine+a+king_20...   \n",
              "56349                 /w/who/imagine+a+man_20146592.html   \n",
              "57191               /y/yes/can+you+imagine_20174300.html   \n",
              "\n",
              "                                                    text  \n",
              "1769   Imagine there's no heaven,  \\nIt's easy if you...  \n",
              "4215   Imagine there's no heaven  \\nIt's easy if you ...  \n",
              "6885   Imagine there's no countries,  \\nIt isn't hard...  \n",
              "7340   Imagine there's no heaven  \\nIt's easy if you ...  \n",
              "15678  Paint a picture, using only gray  \\nLight your...  \n",
              "19748  Finally met Virginia on a slow summer night  \\...  \n",
              "24406  Imagine there's no Heaven  \\nIt's easy if you ...  \n",
              "24783  Imagine there's no heaven  \\nIt's easy if you ...  \n",
              "29441  I can only imagine  \\nSurrounded by your glory...  \n",
              "40519  Imagine me  \\nLoving what I see when the mirro...  \n",
              "42531  Imagine there's no heaven, it's easy if you tr...  \n",
              "47054  Imagine there's no heaven  \\nIt's easy if you ...  \n",
              "47423  Imagine me still lovin' you  \\nAfter all you'v...  \n",
              "49745  Close your eyes  \\nNow relax your mind  \\nNow ...  \n",
              "52273  Can you picture mother earth?  \\nIn the palm o...  \n",
              "56289  Mommies and daddys always believe  \\nThat thei...  \n",
              "56349  Imagine a man  \\nNot a child of any revolt  \\n...  \n",
              "57191  Can you imagine what it's like seeing life  \\n...  "
            ],
            "text/html": [
              "\n",
              "  <div id=\"df-48d1b6bd-9bce-42e9-97fc-a5bf07935409\" class=\"colab-df-container\">\n",
              "    <div>\n",
              "<style scoped>\n",
              "    .dataframe tbody tr th:only-of-type {\n",
              "        vertical-align: middle;\n",
              "    }\n",
              "\n",
              "    .dataframe tbody tr th {\n",
              "        vertical-align: top;\n",
              "    }\n",
              "\n",
              "    .dataframe thead th {\n",
              "        text-align: right;\n",
              "    }\n",
              "</style>\n",
              "<table border=\"1\" class=\"dataframe\">\n",
              "  <thead>\n",
              "    <tr style=\"text-align: right;\">\n",
              "      <th></th>\n",
              "      <th>artist</th>\n",
              "      <th>song</th>\n",
              "      <th>link</th>\n",
              "      <th>text</th>\n",
              "    </tr>\n",
              "  </thead>\n",
              "  <tbody>\n",
              "    <tr>\n",
              "      <th>1769</th>\n",
              "      <td>Bon Jovi</td>\n",
              "      <td>Imagine</td>\n",
              "      <td>/b/bon+jovi/imagine_20525130.html</td>\n",
              "      <td>Imagine there's no heaven,  \\nIt's easy if you...</td>\n",
              "    </tr>\n",
              "    <tr>\n",
              "      <th>4215</th>\n",
              "      <td>Diana Ross</td>\n",
              "      <td>Imagine</td>\n",
              "      <td>/d/diana+ross/imagine_20040404.html</td>\n",
              "      <td>Imagine there's no heaven  \\nIt's easy if you ...</td>\n",
              "    </tr>\n",
              "    <tr>\n",
              "      <th>6885</th>\n",
              "      <td>Glee</td>\n",
              "      <td>Imagine</td>\n",
              "      <td>/g/glee/imagine_20854234.html</td>\n",
              "      <td>Imagine there's no countries,  \\nIt isn't hard...</td>\n",
              "    </tr>\n",
              "    <tr>\n",
              "      <th>7340</th>\n",
              "      <td>Guns N' Roses</td>\n",
              "      <td>Imagine</td>\n",
              "      <td>/g/guns+n+roses/imagine_20254363.html</td>\n",
              "      <td>Imagine there's no heaven  \\nIt's easy if you ...</td>\n",
              "    </tr>\n",
              "    <tr>\n",
              "      <th>15678</th>\n",
              "      <td>Pearl Jam</td>\n",
              "      <td>Hard To Imagine</td>\n",
              "      <td>/p/pearl+jam/hard+to+imagine_20106382.html</td>\n",
              "      <td>Paint a picture, using only gray  \\nLight your...</td>\n",
              "    </tr>\n",
              "    <tr>\n",
              "      <th>19748</th>\n",
              "      <td>Train</td>\n",
              "      <td>Imagine</td>\n",
              "      <td>/t/train/imagine_21054702.html</td>\n",
              "      <td>Finally met Virginia on a slow summer night  \\...</td>\n",
              "    </tr>\n",
              "    <tr>\n",
              "      <th>24406</th>\n",
              "      <td>Avril Lavigne</td>\n",
              "      <td>Imagine</td>\n",
              "      <td>/a/avril+lavigne/imagine_20785697.html</td>\n",
              "      <td>Imagine there's no Heaven  \\nIt's easy if you ...</td>\n",
              "    </tr>\n",
              "    <tr>\n",
              "      <th>24783</th>\n",
              "      <td>The Beatles</td>\n",
              "      <td>Imagine</td>\n",
              "      <td>/b/beatles/imagine_20254326.html</td>\n",
              "      <td>Imagine there's no heaven  \\nIt's easy if you ...</td>\n",
              "    </tr>\n",
              "    <tr>\n",
              "      <th>29441</th>\n",
              "      <td>Demi Lovato</td>\n",
              "      <td>I Can Only Imagine</td>\n",
              "      <td>/d/demi+lovato/i+can+only+imagine_20868017.html</td>\n",
              "      <td>I can only imagine  \\nSurrounded by your glory...</td>\n",
              "    </tr>\n",
              "    <tr>\n",
              "      <th>40519</th>\n",
              "      <td>Kirk Franklin</td>\n",
              "      <td>Imagine Me</td>\n",
              "      <td>/k/kirk+franklin/imagine+me_20370453.html</td>\n",
              "      <td>Imagine me  \\nLoving what I see when the mirro...</td>\n",
              "    </tr>\n",
              "    <tr>\n",
              "      <th>42531</th>\n",
              "      <td>Madonna</td>\n",
              "      <td>Imagine</td>\n",
              "      <td>/m/madonna/imagine_21007422.html</td>\n",
              "      <td>Imagine there's no heaven, it's easy if you tr...</td>\n",
              "    </tr>\n",
              "    <tr>\n",
              "      <th>47054</th>\n",
              "      <td>Our Lady Peace</td>\n",
              "      <td>Imagine</td>\n",
              "      <td>/o/our+lady+peace/imagine_20254375.html</td>\n",
              "      <td>Imagine there's no heaven  \\nIt's easy if you ...</td>\n",
              "    </tr>\n",
              "    <tr>\n",
              "      <th>47423</th>\n",
              "      <td>Patsy Cline</td>\n",
              "      <td>Imagine That</td>\n",
              "      <td>/p/patsy+cline/imagine+that_20105097.html</td>\n",
              "      <td>Imagine me still lovin' you  \\nAfter all you'v...</td>\n",
              "    </tr>\n",
              "    <tr>\n",
              "      <th>49745</th>\n",
              "      <td>R. Kelly</td>\n",
              "      <td>Imagine That</td>\n",
              "      <td>/r/r+kelly/imagine+that_20254512.html</td>\n",
              "      <td>Close your eyes  \\nNow relax your mind  \\nNow ...</td>\n",
              "    </tr>\n",
              "    <tr>\n",
              "      <th>52273</th>\n",
              "      <td>Stevie Wonder</td>\n",
              "      <td>Can't Imagine Love Without You</td>\n",
              "      <td>/s/stevie+wonder/cant+imagine+love+without+you...</td>\n",
              "      <td>Can you picture mother earth?  \\nIn the palm o...</td>\n",
              "    </tr>\n",
              "    <tr>\n",
              "      <th>56289</th>\n",
              "      <td>Whitney Houston</td>\n",
              "      <td>Who Would Imagine A King</td>\n",
              "      <td>/w/whitney+houston/who+would+imagine+a+king_20...</td>\n",
              "      <td>Mommies and daddys always believe  \\nThat thei...</td>\n",
              "    </tr>\n",
              "    <tr>\n",
              "      <th>56349</th>\n",
              "      <td>Who</td>\n",
              "      <td>Imagine A Man</td>\n",
              "      <td>/w/who/imagine+a+man_20146592.html</td>\n",
              "      <td>Imagine a man  \\nNot a child of any revolt  \\n...</td>\n",
              "    </tr>\n",
              "    <tr>\n",
              "      <th>57191</th>\n",
              "      <td>Yes</td>\n",
              "      <td>Can You Imagine</td>\n",
              "      <td>/y/yes/can+you+imagine_20174300.html</td>\n",
              "      <td>Can you imagine what it's like seeing life  \\n...</td>\n",
              "    </tr>\n",
              "  </tbody>\n",
              "</table>\n",
              "</div>\n",
              "    <div class=\"colab-df-buttons\">\n",
              "\n",
              "  <div class=\"colab-df-container\">\n",
              "    <button class=\"colab-df-convert\" onclick=\"convertToInteractive('df-48d1b6bd-9bce-42e9-97fc-a5bf07935409')\"\n",
              "            title=\"Convert this dataframe to an interactive table.\"\n",
              "            style=\"display:none;\">\n",
              "\n",
              "  <svg xmlns=\"http://www.w3.org/2000/svg\" height=\"24px\" viewBox=\"0 -960 960 960\">\n",
              "    <path d=\"M120-120v-720h720v720H120Zm60-500h600v-160H180v160Zm220 220h160v-160H400v160Zm0 220h160v-160H400v160ZM180-400h160v-160H180v160Zm440 0h160v-160H620v160ZM180-180h160v-160H180v160Zm440 0h160v-160H620v160Z\"/>\n",
              "  </svg>\n",
              "    </button>\n",
              "\n",
              "  <style>\n",
              "    .colab-df-container {\n",
              "      display:flex;\n",
              "      gap: 12px;\n",
              "    }\n",
              "\n",
              "    .colab-df-convert {\n",
              "      background-color: #E8F0FE;\n",
              "      border: none;\n",
              "      border-radius: 50%;\n",
              "      cursor: pointer;\n",
              "      display: none;\n",
              "      fill: #1967D2;\n",
              "      height: 32px;\n",
              "      padding: 0 0 0 0;\n",
              "      width: 32px;\n",
              "    }\n",
              "\n",
              "    .colab-df-convert:hover {\n",
              "      background-color: #E2EBFA;\n",
              "      box-shadow: 0px 1px 2px rgba(60, 64, 67, 0.3), 0px 1px 3px 1px rgba(60, 64, 67, 0.15);\n",
              "      fill: #174EA6;\n",
              "    }\n",
              "\n",
              "    .colab-df-buttons div {\n",
              "      margin-bottom: 4px;\n",
              "    }\n",
              "\n",
              "    [theme=dark] .colab-df-convert {\n",
              "      background-color: #3B4455;\n",
              "      fill: #D2E3FC;\n",
              "    }\n",
              "\n",
              "    [theme=dark] .colab-df-convert:hover {\n",
              "      background-color: #434B5C;\n",
              "      box-shadow: 0px 1px 3px 1px rgba(0, 0, 0, 0.15);\n",
              "      filter: drop-shadow(0px 1px 2px rgba(0, 0, 0, 0.3));\n",
              "      fill: #FFFFFF;\n",
              "    }\n",
              "  </style>\n",
              "\n",
              "    <script>\n",
              "      const buttonEl =\n",
              "        document.querySelector('#df-48d1b6bd-9bce-42e9-97fc-a5bf07935409 button.colab-df-convert');\n",
              "      buttonEl.style.display =\n",
              "        google.colab.kernel.accessAllowed ? 'block' : 'none';\n",
              "\n",
              "      async function convertToInteractive(key) {\n",
              "        const element = document.querySelector('#df-48d1b6bd-9bce-42e9-97fc-a5bf07935409');\n",
              "        const dataTable =\n",
              "          await google.colab.kernel.invokeFunction('convertToInteractive',\n",
              "                                                    [key], {});\n",
              "        if (!dataTable) return;\n",
              "\n",
              "        const docLinkHtml = 'Like what you see? Visit the ' +\n",
              "          '<a target=\"_blank\" href=https://colab.research.google.com/notebooks/data_table.ipynb>data table notebook</a>'\n",
              "          + ' to learn more about interactive tables.';\n",
              "        element.innerHTML = '';\n",
              "        dataTable['output_type'] = 'display_data';\n",
              "        await google.colab.output.renderOutput(dataTable, element);\n",
              "        const docLink = document.createElement('div');\n",
              "        docLink.innerHTML = docLinkHtml;\n",
              "        element.appendChild(docLink);\n",
              "      }\n",
              "    </script>\n",
              "  </div>\n",
              "\n",
              "\n",
              "    <div id=\"df-cbb8139c-781b-45d9-916a-f585820f665f\">\n",
              "      <button class=\"colab-df-quickchart\" onclick=\"quickchart('df-cbb8139c-781b-45d9-916a-f585820f665f')\"\n",
              "                title=\"Suggest charts\"\n",
              "                style=\"display:none;\">\n",
              "\n",
              "<svg xmlns=\"http://www.w3.org/2000/svg\" height=\"24px\"viewBox=\"0 0 24 24\"\n",
              "     width=\"24px\">\n",
              "    <g>\n",
              "        <path d=\"M19 3H5c-1.1 0-2 .9-2 2v14c0 1.1.9 2 2 2h14c1.1 0 2-.9 2-2V5c0-1.1-.9-2-2-2zM9 17H7v-7h2v7zm4 0h-2V7h2v10zm4 0h-2v-4h2v4z\"/>\n",
              "    </g>\n",
              "</svg>\n",
              "      </button>\n",
              "\n",
              "<style>\n",
              "  .colab-df-quickchart {\n",
              "      --bg-color: #E8F0FE;\n",
              "      --fill-color: #1967D2;\n",
              "      --hover-bg-color: #E2EBFA;\n",
              "      --hover-fill-color: #174EA6;\n",
              "      --disabled-fill-color: #AAA;\n",
              "      --disabled-bg-color: #DDD;\n",
              "  }\n",
              "\n",
              "  [theme=dark] .colab-df-quickchart {\n",
              "      --bg-color: #3B4455;\n",
              "      --fill-color: #D2E3FC;\n",
              "      --hover-bg-color: #434B5C;\n",
              "      --hover-fill-color: #FFFFFF;\n",
              "      --disabled-bg-color: #3B4455;\n",
              "      --disabled-fill-color: #666;\n",
              "  }\n",
              "\n",
              "  .colab-df-quickchart {\n",
              "    background-color: var(--bg-color);\n",
              "    border: none;\n",
              "    border-radius: 50%;\n",
              "    cursor: pointer;\n",
              "    display: none;\n",
              "    fill: var(--fill-color);\n",
              "    height: 32px;\n",
              "    padding: 0;\n",
              "    width: 32px;\n",
              "  }\n",
              "\n",
              "  .colab-df-quickchart:hover {\n",
              "    background-color: var(--hover-bg-color);\n",
              "    box-shadow: 0 1px 2px rgba(60, 64, 67, 0.3), 0 1px 3px 1px rgba(60, 64, 67, 0.15);\n",
              "    fill: var(--button-hover-fill-color);\n",
              "  }\n",
              "\n",
              "  .colab-df-quickchart-complete:disabled,\n",
              "  .colab-df-quickchart-complete:disabled:hover {\n",
              "    background-color: var(--disabled-bg-color);\n",
              "    fill: var(--disabled-fill-color);\n",
              "    box-shadow: none;\n",
              "  }\n",
              "\n",
              "  .colab-df-spinner {\n",
              "    border: 2px solid var(--fill-color);\n",
              "    border-color: transparent;\n",
              "    border-bottom-color: var(--fill-color);\n",
              "    animation:\n",
              "      spin 1s steps(1) infinite;\n",
              "  }\n",
              "\n",
              "  @keyframes spin {\n",
              "    0% {\n",
              "      border-color: transparent;\n",
              "      border-bottom-color: var(--fill-color);\n",
              "      border-left-color: var(--fill-color);\n",
              "    }\n",
              "    20% {\n",
              "      border-color: transparent;\n",
              "      border-left-color: var(--fill-color);\n",
              "      border-top-color: var(--fill-color);\n",
              "    }\n",
              "    30% {\n",
              "      border-color: transparent;\n",
              "      border-left-color: var(--fill-color);\n",
              "      border-top-color: var(--fill-color);\n",
              "      border-right-color: var(--fill-color);\n",
              "    }\n",
              "    40% {\n",
              "      border-color: transparent;\n",
              "      border-right-color: var(--fill-color);\n",
              "      border-top-color: var(--fill-color);\n",
              "    }\n",
              "    60% {\n",
              "      border-color: transparent;\n",
              "      border-right-color: var(--fill-color);\n",
              "    }\n",
              "    80% {\n",
              "      border-color: transparent;\n",
              "      border-right-color: var(--fill-color);\n",
              "      border-bottom-color: var(--fill-color);\n",
              "    }\n",
              "    90% {\n",
              "      border-color: transparent;\n",
              "      border-bottom-color: var(--fill-color);\n",
              "    }\n",
              "  }\n",
              "</style>\n",
              "\n",
              "      <script>\n",
              "        async function quickchart(key) {\n",
              "          const quickchartButtonEl =\n",
              "            document.querySelector('#' + key + ' button');\n",
              "          quickchartButtonEl.disabled = true;  // To prevent multiple clicks.\n",
              "          quickchartButtonEl.classList.add('colab-df-spinner');\n",
              "          try {\n",
              "            const charts = await google.colab.kernel.invokeFunction(\n",
              "                'suggestCharts', [key], {});\n",
              "          } catch (error) {\n",
              "            console.error('Error during call to suggestCharts:', error);\n",
              "          }\n",
              "          quickchartButtonEl.classList.remove('colab-df-spinner');\n",
              "          quickchartButtonEl.classList.add('colab-df-quickchart-complete');\n",
              "        }\n",
              "        (() => {\n",
              "          let quickchartButtonEl =\n",
              "            document.querySelector('#df-cbb8139c-781b-45d9-916a-f585820f665f button');\n",
              "          quickchartButtonEl.style.display =\n",
              "            google.colab.kernel.accessAllowed ? 'block' : 'none';\n",
              "        })();\n",
              "      </script>\n",
              "    </div>\n",
              "\n",
              "    </div>\n",
              "  </div>\n"
            ],
            "application/vnd.google.colaboratory.intrinsic+json": {
              "type": "dataframe",
              "summary": "{\n  \"name\": \"data[data['song']\",\n  \"rows\": 18,\n  \"fields\": [\n    {\n      \"column\": \"artist\",\n      \"properties\": {\n        \"dtype\": \"string\",\n        \"num_unique_values\": 18,\n        \"samples\": [\n          \"Bon Jovi\",\n          \"Diana Ross\",\n          \"Demi Lovato\"\n        ],\n        \"semantic_type\": \"\",\n        \"description\": \"\"\n      }\n    },\n    {\n      \"column\": \"song\",\n      \"properties\": {\n        \"dtype\": \"string\",\n        \"num_unique_values\": 9,\n        \"samples\": [\n          \"Imagine A Man\",\n          \"Hard To Imagine\",\n          \"Can't Imagine Love Without You\"\n        ],\n        \"semantic_type\": \"\",\n        \"description\": \"\"\n      }\n    },\n    {\n      \"column\": \"link\",\n      \"properties\": {\n        \"dtype\": \"string\",\n        \"num_unique_values\": 18,\n        \"samples\": [\n          \"/b/bon+jovi/imagine_20525130.html\",\n          \"/d/diana+ross/imagine_20040404.html\",\n          \"/d/demi+lovato/i+can+only+imagine_20868017.html\"\n        ],\n        \"semantic_type\": \"\",\n        \"description\": \"\"\n      }\n    },\n    {\n      \"column\": \"text\",\n      \"properties\": {\n        \"dtype\": \"string\",\n        \"num_unique_values\": 17,\n        \"samples\": [\n          \"Imagine there's no heaven,  \\nIt's easy if you try,  \\nNo hell below us,  \\nAbove us only sky,  \\nImagine all the people  \\nLiving for today...  \\n  \\nImagine there's no countries,  \\nIt isn't hard to do,  \\nNothing to kill or die for,  \\nNo religion too,  \\nImagine all the people  \\nLiving life in peace...  \\n  \\nYou may say I'm a dreamer,  \\nBut I'm not the only one,  \\nI hope some day you'll join us,  \\nAnd the world will live as one.  \\n  \\nImagine no possesions,  \\nI wonder if you can,  \\nNo need for greed or hunger,  \\nA brotherhood of man,  \\nImagine all the people  \\nSharing all the world...  \\n  \\nYou may say I'm a dreamer,  \\nBut I'm not the only one,  \\nI hope some day you'll join us,  \\nAnd the world will live as one.\\n\\n\",\n          \"Imagine there's no heaven  \\nIt's easy if you try  \\nNo hell below us  \\nAbove us only sky  \\n  \\nImagine all the people  \\nLiving for today  \\n  \\nImagine there's no countries  \\nIt isn't hard to do  \\nNothing to kill or die for  \\nAnd no religion too  \\n  \\nImagine all the people  \\nLiving life in peace  \\n  \\nYou may say I'm a dreamer  \\nBut I'm not the only one  \\nI hope someday you'll join us  \\nAnd the world will live as one  \\n  \\nImagine all possessions  \\nI wonder if you can  \\nNo need for greed or hunger  \\nA brotherhood of man  \\n  \\nImagine all the people  \\nSharing all the world  \\n  \\nYou may say I'm a dreamer  \\nBut I'm not the only one  \\nI hope someday you'll join us  \\nAnd the world will live as one\\n\\n\",\n          \"Finally met Virginia on a slow summer night  \\nThought I should forgive you so I came back  \\nYou're a sight for sore eyes  \\nRight for those lies  \\nThey save me after all!  \\nRight from the beginning we were wrong I found  \\nBut no one did it better baby pound for pound  \\nThose heavyweight fights were right for me  \\nTo learn how to see the light clearly  \\nAnd it's the light I see in you!  \\n  \\n[Chorus]  \\nNo, don't go  \\nI'll show you what it's like to be loved!  \\nNo, don't go  \\nI'll show you what it's like to be loved!  \\n(ba-da-da-da-da-da-da-da)  \\nWhat it's like to be loved!  \\n  \\nNow that things are better for me  \\nI can laugh at all your other lovers  \\nWhen you do the math  \\nDoes it make you feel sad,  \\nMake you feel small?  \\nThank God it ain't about me anymore!  \\nI'm not coming back for round 2  \\nI just wanna love you like a friend would do  \\nYou weren't wrong for the feelings you had  \\nBut the man that I was isn't coming back  \\nSo stay, it's OK!  \\n  \\nNo, don't go  \\nI'll show you what it's like to be loved!  \\nNo, don't go  \\nI'll show you what it's like to be loved!  \\n(ba-da-da-da-da-da-da-da)  \\nWhat it's like to be loved!  \\n(ba-da-da-da-da-da-da-da)  \\n  \\nWhen you said it's over  \\nI lost my head!  \\nAnd now that we're older  \\nI'm giving up on being right  \\nSo I can see the other side of you!  \\n  \\nNo, don't go  \\nI'll show you what it's like to be loved!  \\nNo, don't go  \\nI'll show you what it's like to be loved!  \\n(ba-da-da-da-da-da-da-da)  \\nWhen you said it's Over  \\nWhat it's like to be loved!  \\n(ba-da-da-da-da-da-da-da)  \\nI lost my head!  \\nWhat it's like to be loved!  \\nAnd now that we're older  \\nWhat it's like, what it's like to be loved!\\n\\n\"\n        ],\n        \"semantic_type\": \"\",\n        \"description\": \"\"\n      }\n    }\n  ]\n}"
            }
          },
          "metadata": {},
          "execution_count": 62
        }
      ],
      "source": [
        "data[data['song'].str.contains('Imagine')]"
      ]
    },
    {
      "cell_type": "markdown",
      "metadata": {
        "id": "ZbDxZIb_rd5u"
      },
      "source": [
        "## Question 3\n",
        "\n",
        "(a) Extract the first line of lyric out from the first song.\n"
      ]
    },
    {
      "cell_type": "code",
      "execution_count": 63,
      "metadata": {
        "id": "EVib7pnfrd5u",
        "colab": {
          "base_uri": "https://localhost:8080/"
        },
        "outputId": "2f77c2a4-1b98-47bb-f457-1176cc4a9a80"
      },
      "outputs": [
        {
          "output_type": "stream",
          "name": "stdout",
          "text": [
            "Look at her face, it's a wonderful face  And it means something special to me  Look at the way that she smiles when she sees me  How lucky can one fellow be?    She's just my kind of girl, she makes me feel fine  Who could ever believe that she could be mine?  She's just my kind of girl, without her I'm blue  And if she ever leaves me what could I do, what could I do?    And when we go for a walk in the park  And she holds me and squeezes my hand  We'll go on walking for hours and talking  About all the things that we plan    She's just my kind of girl, she makes me feel fine  Who could ever believe that she could be mine?  She's just my kind of girl, without her I'm blue  And if she ever leaves me what could I do, what could I do?\n"
          ]
        }
      ],
      "source": [
        "#print(txt_col)\n",
        "first_sentence =txt_col.str.split(\"\\r\").str.get(0)\n",
        "\n",
        "print(first_sentence[0])"
      ]
    },
    {
      "cell_type": "markdown",
      "metadata": {
        "id": "T-dTGOVGrd5v"
      },
      "source": [
        "(b) Find out the sentiment of the extracted lyric."
      ]
    },
    {
      "cell_type": "code",
      "execution_count": 64,
      "metadata": {
        "id": "mtg9NCmzrd5v",
        "colab": {
          "base_uri": "https://localhost:8080/"
        },
        "outputId": "f67b7ae5-1d7f-46ba-cf89-d51d28c39fee"
      },
      "outputs": [
        {
          "output_type": "execute_result",
          "data": {
            "text/plain": [
              "Sentiment(polarity=0.4476190476190476, subjectivity=0.654978354978355)"
            ]
          },
          "metadata": {},
          "execution_count": 64
        }
      ],
      "source": [
        "from textblob import TextBlob\n",
        "\n",
        "t=TextBlob(first_sentence[0])\n",
        "t.sentiment"
      ]
    }
  ],
  "metadata": {
    "colab": {
      "provenance": []
    },
    "kernelspec": {
      "display_name": "Python 3 (ipykernel)",
      "language": "python",
      "name": "python3"
    },
    "language_info": {
      "codemirror_mode": {
        "name": "ipython",
        "version": 3
      },
      "file_extension": ".py",
      "mimetype": "text/x-python",
      "name": "python",
      "nbconvert_exporter": "python",
      "pygments_lexer": "ipython3",
      "version": "3.11.7"
    }
  },
  "nbformat": 4,
  "nbformat_minor": 0
}