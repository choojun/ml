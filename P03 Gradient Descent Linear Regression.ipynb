{
 "cells": [
  {
   "cell_type": "markdown",
   "metadata": {},
   "source": [
    "## Gradient Descent Example"
   ]
  },
  {
   "cell_type": "markdown",
   "metadata": {
    "collapsed": true
   },
   "source": [
    "In this notebook, we will solve a simple linear regression problem by gradient descent.  \n",
    "We will see the effect of the learning rate on the trajectory in parameter space.\n",
    "We will show how Stochastic Gradient Descent (SGD) differs from the standard version, and the effect of \"shuffling\" your data during SGD."
   ]
  },
  {
   "cell_type": "code",
   "execution_count": 1,
   "metadata": {},
   "outputs": [],
   "source": [
    "# Preliminaries - packages to load\n",
    "\n",
    "from __future__ import print_function\n",
    "import numpy as np\n",
    "import pandas as pd\n",
    "import matplotlib.pyplot as plt\n",
    "%matplotlib inline"
   ]
  },
  {
   "cell_type": "code",
   "execution_count": 2,
   "metadata": {},
   "outputs": [],
   "source": [
    "# modify config from inside IPython\n",
    "#%config IPCompleter.greedy=True"
   ]
  },
  {
   "cell_type": "code",
   "execution_count": 3,
   "metadata": {},
   "outputs": [],
   "source": [
    "\n",
    "from __future__ import print_function\n",
    "import numpy as np\n",
    "import pandas as pd\n",
    "import matplotlib.pyplot as plt\n",
    "%matplotlib inline"
   ]
  },
  {
   "cell_type": "markdown",
   "metadata": {},
   "source": [
    "## Generate Data from a known distribution\n",
    "Below we will generate data a known distribution.  \n",
    "Specifically, the true model is:\n",
    "\n",
    "$Y = b + \\theta_1 X_1 + \\theta_2 X_2 + \\epsilon$\n",
    "\n",
    "$X_1$ and $X_2$ have a uniform distribution on the interval $[0,10]$, while `const` is a vector of ones (representing the intercept term).\n",
    "\n",
    "We set actual values for $b$ ,$\\theta_1$, and $\\theta_2$\n",
    "\n",
    "Here $b=1.5$, $\\theta_1=2$, and $\\theta_2=5$\n",
    "\n",
    "We then generate a vector of $y$-values according to the model and put the predictors together in a \"feature matrix\" `x_mat`"
   ]
  },
  {
   "cell_type": "code",
   "execution_count": 4,
   "metadata": {},
   "outputs": [],
   "source": [
    "np.random.seed(1234)  \n",
    "\n",
    "## This ensures we get the same data if all of the other parameters remain fixed\n",
    "\n",
    "num_obs = 100\n",
    "x1 = np.random.uniform(0,10,num_obs)\n",
    "x2 = np.random.uniform(0,10,num_obs)\n",
    "const = np.ones(num_obs)\n",
    "eps = np.random.normal(0,.5,num_obs)"
   ]
  },
  {
   "cell_type": "code",
   "execution_count": 5,
   "metadata": {},
   "outputs": [
    {
     "name": "stdout",
     "output_type": "stream",
     "text": [
      "[1.9151945  6.22108771 4.37727739 7.85358584 7.79975808 2.72592605\n",
      " 2.76464255 8.01872178 9.58139354 8.75932635 3.5781727  5.00995126\n",
      " 6.83462935 7.12702027 3.70250755 5.61196186 5.03083165 0.1376845\n",
      " 7.72826622 8.82641191 3.64885984 6.15396178 0.75381242 3.68824006\n",
      " 9.33140102 6.51378143 3.97202578 7.88730143 3.16836122 5.68098653\n",
      " 8.6912739  4.36173424 8.02147642 1.43766825 7.04260971 7.04581308\n",
      " 2.18792106 9.24867629 4.42140755 9.09315959 0.59809223 1.84287084\n",
      " 0.47355279 6.74880944 5.9462478  5.33310163 0.43324063 5.6143308\n",
      " 3.29668446 5.02966833 1.11894318 6.07193706 5.65944643 0.06764062\n",
      " 6.17441709 9.12122886 7.90524133 9.92081466 9.58801762 7.91964135\n",
      " 2.8525096  6.24916705 4.78093796 1.95675179 3.82317452 0.53873685\n",
      " 4.51648408 9.82004742 1.239427   1.19380898 7.38523056 5.87303633\n",
      " 4.71632534 1.07126817 2.29218565 8.99965195 4.16753538 5.35851663\n",
      " 0.06208517 3.00641706 4.36893172 6.12148997 9.18198075 6.2573667\n",
      " 7.05997565 1.49833716 7.46063409 8.31006992 6.33725769 4.38309881\n",
      " 1.52572775 5.68409615 5.28224278 9.51428764 4.80359179 5.02559563\n",
      " 5.36878193 8.19202067 0.57115638 6.69421743]\n"
     ]
    }
   ],
   "source": [
    "print(x1)"
   ]
  },
  {
   "cell_type": "code",
   "execution_count": 6,
   "metadata": {},
   "outputs": [
    {
     "name": "stdout",
     "output_type": "stream",
     "text": [
      "[7.67116628 7.08115362 7.96867184 5.57760828 9.65836532 1.471569\n",
      " 0.29647001 5.93893493 1.14065699 9.5080985  3.25707414 1.9361869\n",
      " 4.57811649 9.20402571 8.79069162 2.52615755 3.48008793 1.82588732\n",
      " 9.01796051 7.06528163 7.26658462 9.00087837 7.79163801 5.99154781\n",
      " 2.91125245 1.51395264 3.35174659 6.57551777 0.73342544 0.55006395\n",
      " 3.23194814 5.90481804 8.53898567 2.87062425 1.73067227 1.34021206\n",
      " 9.94653829 1.79497869 3.17546823 5.68291405 0.09348575 9.00648621\n",
      " 9.77241431 5.56894679 0.84773843 3.33002466 7.28428676 1.42435373\n",
      " 5.52468939 2.7304326  9.74495138 6.67786906 2.55653286 1.08311494\n",
      " 7.76180723 7.82477993 7.61603914 9.14403113 6.58622782 5.68367582\n",
      " 2.01755692 6.98296376 9.5219541  8.89963287 9.93567363 8.1870351\n",
      " 5.45122166 4.51254055 8.90557188 9.73264791 5.9341133  3.66074498\n",
      " 3.23094693 8.71423255 2.15634063 7.34945189 3.65619087 8.01602599\n",
      " 7.82735592 7.01355379 6.22776587 4.93682646 8.405377   7.12096987\n",
      " 4.43908981 0.31034861 3.6323976  7.30721791 4.75566573 3.4441697\n",
      " 6.40880435 1.26205322 1.71465261 7.37086494 1.27029394 3.69649875\n",
      " 6.04334005 1.03104439 8.02374182 9.45553236]\n"
     ]
    }
   ],
   "source": [
    "print(x2)"
   ]
  },
  {
   "cell_type": "code",
   "execution_count": 7,
   "metadata": {},
   "outputs": [],
   "source": [
    "# https://www.oreilly.com/library/view/python-data-science/9781491912126/ch04.html\n",
    "# Plot out the data using scatter plot matplotlib"
   ]
  },
  {
   "cell_type": "code",
   "execution_count": 8,
   "metadata": {},
   "outputs": [
    {
     "name": "stdout",
     "output_type": "stream",
     "text": [
      "[ 0.31438791  0.09324717  0.47623917  0.49406879 -0.03630416 -0.27530146\n",
      " -0.46907631 -0.61953578  0.06984164 -0.11150949  1.06184594  0.06113672\n",
      " -0.70471587  0.71149298 -1.07392752 -0.67376626  0.18178228 -0.00737606\n",
      "  0.63619754 -0.7247833  -0.59776187 -0.29593149 -0.20725242 -0.71289737\n",
      "  0.10469739 -0.296443   -0.73655821 -0.44829031  0.55217578 -0.21577476\n",
      " -0.08056845  0.44457875  0.14418842 -0.52576947 -0.1597807  -0.30999654\n",
      "  0.07849919 -0.28572768  0.52881659 -0.3957444  -0.26231367  0.03593902\n",
      "  0.95537971  0.39398234  0.25654107 -0.27320814  0.52197233  1.05389258\n",
      "  0.72996374  0.50770273  0.3745923  -0.33776074  0.2201332   0.34448593\n",
      " -0.13832306  0.96226666  0.20560201  0.44538248  0.11318161 -1.03930895\n",
      " -0.19394312 -0.04355348  0.56319291  0.12355586  0.0605859   0.14949197\n",
      " -0.07854957 -0.37023451 -0.62382646  0.12472761  0.29053666  1.38192204\n",
      "  0.19966272  0.33424408 -0.13788686  0.25024145  0.43153243 -0.52581393\n",
      " -0.69602704  0.57696112  0.59097205  0.19568572 -0.44052355  0.14753998\n",
      "  0.93190053 -0.85613696 -0.70354227  0.06339059  0.00187992 -0.63449713\n",
      " -0.41942146  0.27696063 -0.25202136 -0.39422009  0.76470034  0.10272743\n",
      "  0.15650656  0.43326036  0.14953526  0.53827032]\n"
     ]
    }
   ],
   "source": [
    "print(eps)"
   ]
  },
  {
   "cell_type": "code",
   "execution_count": 9,
   "metadata": {},
   "outputs": [],
   "source": [
    "b = 1.5\n",
    "theta_1 = 2\n",
    "theta_2 = 5\n",
    "\n",
    "y = b*const+ theta_1*x1 + theta_2*x2 + eps\n",
    "\n",
    "x_mat = np.array([const,x1,x2]).T"
   ]
  },
  {
   "cell_type": "code",
   "execution_count": 10,
   "metadata": {},
   "outputs": [
    {
     "name": "stdout",
     "output_type": "stream",
     "text": [
      "[44.00060834 49.44119069 50.57415314 45.58928189 65.35503861 14.03439564\n",
      "  8.04255882 46.6125824  26.43591365 66.44763571 26.00356206 21.26197374\n",
      " 37.35512528 62.48566207 51.78454565 24.68094522 29.14388523 10.89742951\n",
      " 62.68253254 53.75444867 44.53288089 58.51638392 41.75856245 38.12132178\n",
      " 34.82376168 21.80088308 25.46622631 49.70390141 12.05602541 15.39651807\n",
      " 34.96172003 40.19213745 60.38206962 18.20268827 24.07880006 21.98268992\n",
      " 55.68703273 28.68651837 26.74897285 47.70514501  2.90129951 50.25411175\n",
      " 52.26455684 43.23633517 17.88772884 28.54311841 39.3098874  20.90432284\n",
      " 36.44677963 25.71920238 52.83723556 46.69545869 25.82169038  7.39534188\n",
      " 52.51954727 59.82862402 55.59628039 67.50716747 53.72035595 44.71835284\n",
      " 17.09886071 48.8695994  59.23483932 50.03522379 58.88530309 43.66214118\n",
      " 37.71052691 43.33256307 47.88288694 52.67558512 46.23156426 32.9317196\n",
      " 27.28704805 47.54794318 16.72818759 56.49680477 28.54755755 51.77134925\n",
      " 40.06492289 43.1575642  41.96766483 38.62279795 61.45032297 49.76712273\n",
      " 38.7473009   5.19228041 33.87971392 54.71962001 37.95472396 26.852549\n",
      " 36.17605578 19.45541901 20.38572724 56.98867987 18.22335359 30.13641244\n",
      " 42.61077066 23.47252364 42.91055714 62.70436698]\n"
     ]
    }
   ],
   "source": [
    "print(y)"
   ]
  },
  {
   "cell_type": "code",
   "execution_count": 11,
   "metadata": {},
   "outputs": [
    {
     "name": "stdout",
     "output_type": "stream",
     "text": [
      "[[1.         1.9151945  7.67116628]\n",
      " [1.         6.22108771 7.08115362]\n",
      " [1.         4.37727739 7.96867184]\n",
      " [1.         7.85358584 5.57760828]\n",
      " [1.         7.79975808 9.65836532]\n",
      " [1.         2.72592605 1.471569  ]\n",
      " [1.         2.76464255 0.29647001]\n",
      " [1.         8.01872178 5.93893493]\n",
      " [1.         9.58139354 1.14065699]\n",
      " [1.         8.75932635 9.5080985 ]\n",
      " [1.         3.5781727  3.25707414]\n",
      " [1.         5.00995126 1.9361869 ]\n",
      " [1.         6.83462935 4.57811649]\n",
      " [1.         7.12702027 9.20402571]\n",
      " [1.         3.70250755 8.79069162]\n",
      " [1.         5.61196186 2.52615755]\n",
      " [1.         5.03083165 3.48008793]\n",
      " [1.         0.1376845  1.82588732]\n",
      " [1.         7.72826622 9.01796051]\n",
      " [1.         8.82641191 7.06528163]\n",
      " [1.         3.64885984 7.26658462]\n",
      " [1.         6.15396178 9.00087837]\n",
      " [1.         0.75381242 7.79163801]\n",
      " [1.         3.68824006 5.99154781]\n",
      " [1.         9.33140102 2.91125245]\n",
      " [1.         6.51378143 1.51395264]\n",
      " [1.         3.97202578 3.35174659]\n",
      " [1.         7.88730143 6.57551777]\n",
      " [1.         3.16836122 0.73342544]\n",
      " [1.         5.68098653 0.55006395]\n",
      " [1.         8.6912739  3.23194814]\n",
      " [1.         4.36173424 5.90481804]\n",
      " [1.         8.02147642 8.53898567]\n",
      " [1.         1.43766825 2.87062425]\n",
      " [1.         7.04260971 1.73067227]\n",
      " [1.         7.04581308 1.34021206]\n",
      " [1.         2.18792106 9.94653829]\n",
      " [1.         9.24867629 1.79497869]\n",
      " [1.         4.42140755 3.17546823]\n",
      " [1.         9.09315959 5.68291405]\n",
      " [1.         0.59809223 0.09348575]\n",
      " [1.         1.84287084 9.00648621]\n",
      " [1.         0.47355279 9.77241431]\n",
      " [1.         6.74880944 5.56894679]\n",
      " [1.         5.9462478  0.84773843]\n",
      " [1.         5.33310163 3.33002466]\n",
      " [1.         0.43324063 7.28428676]\n",
      " [1.         5.6143308  1.42435373]\n",
      " [1.         3.29668446 5.52468939]\n",
      " [1.         5.02966833 2.7304326 ]\n",
      " [1.         1.11894318 9.74495138]\n",
      " [1.         6.07193706 6.67786906]\n",
      " [1.         5.65944643 2.55653286]\n",
      " [1.         0.06764062 1.08311494]\n",
      " [1.         6.17441709 7.76180723]\n",
      " [1.         9.12122886 7.82477993]\n",
      " [1.         7.90524133 7.61603914]\n",
      " [1.         9.92081466 9.14403113]\n",
      " [1.         9.58801762 6.58622782]\n",
      " [1.         7.91964135 5.68367582]\n",
      " [1.         2.8525096  2.01755692]\n",
      " [1.         6.24916705 6.98296376]\n",
      " [1.         4.78093796 9.5219541 ]\n",
      " [1.         1.95675179 8.89963287]\n",
      " [1.         3.82317452 9.93567363]\n",
      " [1.         0.53873685 8.1870351 ]\n",
      " [1.         4.51648408 5.45122166]\n",
      " [1.         9.82004742 4.51254055]\n",
      " [1.         1.239427   8.90557188]\n",
      " [1.         1.19380898 9.73264791]\n",
      " [1.         7.38523056 5.9341133 ]\n",
      " [1.         5.87303633 3.66074498]\n",
      " [1.         4.71632534 3.23094693]\n",
      " [1.         1.07126817 8.71423255]\n",
      " [1.         2.29218565 2.15634063]\n",
      " [1.         8.99965195 7.34945189]\n",
      " [1.         4.16753538 3.65619087]\n",
      " [1.         5.35851663 8.01602599]\n",
      " [1.         0.06208517 7.82735592]\n",
      " [1.         3.00641706 7.01355379]\n",
      " [1.         4.36893172 6.22776587]\n",
      " [1.         6.12148997 4.93682646]\n",
      " [1.         9.18198075 8.405377  ]\n",
      " [1.         6.2573667  7.12096987]\n",
      " [1.         7.05997565 4.43908981]\n",
      " [1.         1.49833716 0.31034861]\n",
      " [1.         7.46063409 3.6323976 ]\n",
      " [1.         8.31006992 7.30721791]\n",
      " [1.         6.33725769 4.75566573]\n",
      " [1.         4.38309881 3.4441697 ]\n",
      " [1.         1.52572775 6.40880435]\n",
      " [1.         5.68409615 1.26205322]\n",
      " [1.         5.28224278 1.71465261]\n",
      " [1.         9.51428764 7.37086494]\n",
      " [1.         4.80359179 1.27029394]\n",
      " [1.         5.02559563 3.69649875]\n",
      " [1.         5.36878193 6.04334005]\n",
      " [1.         8.19202067 1.03104439]\n",
      " [1.         0.57115638 8.02374182]\n",
      " [1.         6.69421743 9.45553236]]\n"
     ]
    }
   ],
   "source": [
    "print(x_mat)"
   ]
  },
  {
   "cell_type": "markdown",
   "metadata": {},
   "source": [
    "## Get the \"Right\" answer directly\n",
    "In the below cells we solve for the optimal set of coefficients.  Note that even though the true model is given by:\n",
    "\n",
    "$b=1.5$, $\\theta_1=2$, and $\\theta_2=5$\n",
    "\n",
    "The maximum likelihood (least-squares) estimate from a finite data set may be slightly different."
   ]
  },
  {
   "cell_type": "markdown",
   "metadata": {
    "collapsed": true
   },
   "source": [
    "## Exercise:\n",
    "Solve the problem two ways: \n",
    "1. By using the scikit-learn LinearRegression model\n",
    "2. Using matrix algebra directly via the formula $\\theta = (X^T X)^{-1}X^Ty$\n",
    "\n",
    "Note: The scikit-learn solver may give a warning message, this can be ignored."
   ]
  },
  {
   "cell_type": "code",
   "execution_count": 12,
   "metadata": {},
   "outputs": [
    {
     "data": {
      "text/plain": [
       "array([1.49004618, 1.99675416, 5.01156315])"
      ]
     },
     "execution_count": 12,
     "metadata": {},
     "output_type": "execute_result"
    }
   ],
   "source": [
    "### Solve directly using sklearn\n",
    "from sklearn.linear_model import LinearRegression\n",
    "\n",
    "lr_model = LinearRegression(fit_intercept=False)\n",
    "lr_model.fit(x_mat, y)\n",
    "\n",
    "lr_model.coef_"
   ]
  },
  {
   "cell_type": "code",
   "execution_count": 13,
   "metadata": {},
   "outputs": [
    {
     "data": {
      "text/plain": [
       "array([1.49004618, 1.99675416, 5.01156315])"
      ]
     },
     "execution_count": 13,
     "metadata": {},
     "output_type": "execute_result"
    }
   ],
   "source": [
    "## Solve by matrix calculation\n",
    "np.linalg.inv(np.dot(x_mat.T,x_mat)).dot(x_mat.T).dot(y)"
   ]
  },
  {
   "cell_type": "markdown",
   "metadata": {},
   "source": [
    "## Solving by Gradient Descent\n",
    "\n",
    "\n",
    "For most numerical problems, we don't / can't know the underlying analytical solution. This is because we only arrive at analytical solutions by solving the equations mathematically, with pen and paper. That is more often than not just impossible. Fortunately, we have a way of converging to an approximate solution, by using **Gradient Descent**.\n",
    "\n",
    "\n",
    "We will explore this very useful method because Neural Networks, along with many other complicated algorithms, are trained using Gradient Descent.  Seeing how gradient descent works on a simple example will build intuition and help us understand some of the nuances around setting the learning rate and other parameters.  We will also explore Stochastic Gradient Descent and compare its behavior to the standard approach."
   ]
  },
  {
   "cell_type": "markdown",
   "metadata": {},
   "source": [
    "## Exercise\n",
    "\n",
    "The next several cells have code to perform (full-batch) gradient descent.  We have omitted some parameters for you to fill in.\n",
    "\n",
    "1. Pick a learning rate, and a number of iterations, run the code, and then plot the trajectory of your gradient descent.\n",
    "1. Find examples where the learning rate is too high, too low, and \"just right\".\n",
    "1. Look at plots of loss function under these conditions.\n",
    "\n"
   ]
  },
  {
   "cell_type": "code",
   "execution_count": 14,
   "metadata": {},
   "outputs": [],
   "source": [
    "## Parameters to play with \n",
    "learning_rate = 1e-3\n",
    "num_iter = 10000\n",
    "theta_initial = np.array([3,3,3])"
   ]
  },
  {
   "cell_type": "code",
   "execution_count": 15,
   "metadata": {},
   "outputs": [
    {
     "name": "stdout",
     "output_type": "stream",
     "text": [
      "[3 3 3]\n"
     ]
    }
   ],
   "source": [
    "print(theta_initial)"
   ]
  },
  {
   "cell_type": "code",
   "execution_count": 16,
   "metadata": {},
   "outputs": [],
   "source": [
    "def gradient_descent(learning_rate, num_iter, theta_initial):\n",
    "\n",
    "    ## Initialization steps\n",
    "    theta = theta_initial\n",
    "    theta_path = np.zeros((num_iter+1,3))\n",
    "    theta_path[0,:]= theta_initial\n",
    "\n",
    "    loss_vec = np.zeros(num_iter)\n",
    "\n",
    "    ## Main Gradient Descent loop (for a fixed number of iterations)\n",
    "    for i in range(num_iter):\n",
    "        y_pred = np.dot(theta.T,x_mat.T)\n",
    "        loss_vec[i] = np.sum((y-y_pred)**2)\n",
    "        grad_vec = (y-y_pred).dot(x_mat)/num_obs  #sum up the gradients across all observations and divide by num_obs\n",
    "        grad_vec = grad_vec\n",
    "        theta = theta + learning_rate*grad_vec\n",
    "        theta_path[i+1,:]=theta\n",
    "    return theta_path, loss_vec"
   ]
  },
  {
   "cell_type": "code",
   "execution_count": 17,
   "metadata": {},
   "outputs": [
    {
     "data": {
      "image/png": "[encoded data removed]",
      "text/plain": [
       "<Figure size 1152x1152 with 4 Axes>"
      ]
     },
     "metadata": {
      "needs_background": "light"
     },
     "output_type": "display_data"
    }
   ],
   "source": [
    "true_coef = [b, theta_1, theta_2]\n",
    "\n",
    "def plot_ij(theta_path, i, j, ax):\n",
    "    ax.plot(true_coef[i], true_coef[j],\n",
    "            marker='p', markersize=15, label='true coef', color='#778899')\n",
    "    ax.plot(theta_path[:, i],theta_path[:, j],\n",
    "            color='k', linestyle='--', marker='^', markersize=5, markevery=50)\n",
    "    ax.plot(theta_path[0, i], theta_path[0, j], marker='d', markersize=15, label='start', color='#F08080')\n",
    "    ax.plot(theta_path[-1, i], theta_path[-1, j], marker='o', markersize=15, label='finish', color='#F08080')\n",
    "    ax.set(\n",
    "        xlabel='theta'+str(i),\n",
    "        ylabel='theta'+str(j))\n",
    "    ax.axis('equal')\n",
    "    ax.grid(True)\n",
    "    ax.legend(loc='best')\n",
    "    \n",
    "\n",
    "def plot_all(theta_path, loss_vec, learning_rate, num_iter, theta_initial, gdtype='Gradient Descent'):\n",
    "    fig = plt.figure(figsize=(16, 16))\n",
    "    title = '{gdtype} in the 3d parameter space - Learning rate is {lr} // {iters} iters // starting point {initial}'\n",
    "    title = title.format(gdtype=gdtype, lr=learning_rate, iters=num_iter, initial=theta_initial)\n",
    "    fig.suptitle(title, fontsize=20)\n",
    "    ax = fig.add_subplot(2, 2, 1)\n",
    "    plot_ij(theta_path, 0, 1, ax)\n",
    "    ax = fig.add_subplot(2, 2, 2)\n",
    "    plot_ij(theta_path, 0, 2, ax)\n",
    "    ax = fig.add_subplot(2, 2, 3)\n",
    "    plot_ij(theta_path, 1, 2, ax)\n",
    "    ax = fig.add_subplot(2, 2, 4)\n",
    "    ax.plot(loss_vec)\n",
    "    ax.set(xlabel='iterations', ylabel='squared loss')\n",
    "    ax.grid(True)\n",
    "    \n",
    "\n",
    "theta_path, loss_vec = gradient_descent(learning_rate, num_iter, theta_initial)\n",
    "plot_all(theta_path, loss_vec, learning_rate, num_iter, theta_initial)"
   ]
  },
  {
   "cell_type": "code",
   "execution_count": 19,
   "metadata": {},
   "outputs": [],
   "source": [
    "# Pick a learning rate, and a number of iterations, run the code, and then plot the trajectory of your gradient descent.\n",
    "# Find examples where the learning rate is too high, too low, and \"just right\".\n",
    "# Look at plots of loss function under these conditions.\n"
   ]
  },
  {
   "cell_type": "markdown",
   "metadata": {},
   "source": [
    "## Stochastic Gradient Descent\n",
    "Rather than average the gradients across the whole dataset before taking a step, we will now take a step for every datapoint.  Each step will be somewhat of an \"overreaction\" but they should average out.  "
   ]
  },
  {
   "cell_type": "markdown",
   "metadata": {},
   "source": [
    "## Exercise\n",
    "The below code runs Stochastic Gradient descent, but runs through the data in the same order every time.  \n",
    "\n",
    "1. Run the code and plot the graphs.  What do you notice?\n",
    "2. Modify the code so that it randomly re-orders the data.  How do the sample trajectories compare?"
   ]
  },
  {
   "cell_type": "code",
   "execution_count": 20,
   "metadata": {},
   "outputs": [],
   "source": [
    "def stochastic_gradient_descent(learning_rate, num_iter, theta_initial):\n",
    "\n",
    "    ## Initialization steps\n",
    "    theta = theta_initial\n",
    "    # below are different in STOCHASTIC gradient descent\n",
    "    theta_path = np.zeros(((num_iter*num_obs)+1,3))\n",
    "    theta_path[0,:] = theta_initial\n",
    "    loss_vec = np.zeros(num_iter*num_obs)\n",
    "\n",
    "    ## Main SGD loop\n",
    "    count = 0\n",
    "    for i in range(num_iter):\n",
    "        for j in range(num_obs):\n",
    "            count+=1\n",
    "            y_pred = np.dot(theta.T,x_mat.T)\n",
    "            loss_vec[count-1] = np.sum((y-y_pred)**2)\n",
    "            grad_vec = (y[j]-y_pred[j])*(x_mat[j,:])\n",
    "            theta = theta + learning_rate*grad_vec\n",
    "            theta_path[count,:]=theta\n",
    "    return theta_path, loss_vec\n",
    "\n"
   ]
  },
  {
   "cell_type": "code",
   "execution_count": 21,
   "metadata": {},
   "outputs": [],
   "source": [
    "## Parameters to play with\n",
    "learning_rate = 1e-4\n",
    "num_iter = 100\n",
    "theta_initial = np.array([3, 3, 3])\n",
    "\n",
    "\n",
    "# run and plot"
   ]
  },
  {
   "cell_type": "markdown",
   "metadata": {},
   "source": [
    "Play with the parameters below and observe the trajectory it results in"
   ]
  },
  {
   "cell_type": "code",
   "execution_count": null,
   "metadata": {},
   "outputs": [],
   "source": [
    "## Parameters to play with\n",
    "learning_rate =\n",
    "num_iter =\n",
    "theta_initial = np.array([3,3,3])\n",
    "\n"
   ]
  },
  {
   "cell_type": "markdown",
   "metadata": {},
   "source": [
    "Comment on the changes: when (a) learning rate is increased; (b) learning rate is decreased, while number of iterations remain the same as 100 "
   ]
  }
 ],
 "metadata": {
  "kernelspec": {
   "display_name": "Python 3",
   "language": "python",
   "name": "python3"
  },
  "language_info": {
   "codemirror_mode": {
    "name": "ipython",
    "version": 3
   },
   "file_extension": ".py",
   "mimetype": "text/x-python",
   "name": "python",
   "nbconvert_exporter": "python",
   "pygments_lexer": "ipython3",
   "version": "3.8.5"
  }
 },
 "nbformat": 4,
 "nbformat_minor": 1
}
