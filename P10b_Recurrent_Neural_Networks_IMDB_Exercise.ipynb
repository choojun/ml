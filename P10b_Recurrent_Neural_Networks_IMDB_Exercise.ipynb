{
 "cells": [
  {
   "cell_type": "markdown",
   "metadata": {},
   "source": [
    "## Using Recurrent neural networks (RNNs) to classify sentiment on IMDB data\n",
    "For this exercise, we will train a \"vanilla\" RNN to predict the sentiment on IMDB reviews.  Our data consists of 25000 training sequences and 25000 test sequences.  The outcome is binary (positive/negative) and both outcomes are equally represented in both the training and the test set.\n",
    "\n",
    "Keras provides a convenient interface to load the data and immediately encode the words into integers (based on the most common words).  This will save us a lot of the drudgery that is usually involved when working with raw text.\n",
    "\n",
    "We will walk through the preparation of the data and the building of an RNN model.  Then it will be your turn to build your own models (and prepare the data how you see fit)."
   ]
  },
  {
   "cell_type": "code",
   "execution_count": 1,
   "metadata": {},
   "outputs": [
    {
     "name": "stderr",
     "output_type": "stream",
     "text": [
      "Using TensorFlow backend.\n"
     ]
    }
   ],
   "source": [
    "from __future__ import print_function\n",
    "import keras\n",
    "from keras.preprocessing import sequence\n",
    "from keras.models import Sequential\n",
    "from keras.layers import Dense, Embedding\n",
    "from keras.layers import SimpleRNN\n",
    "from keras.datasets import imdb\n",
    "from keras import initializers"
   ]
  },
  {
   "cell_type": "code",
   "execution_count": 2,
   "metadata": {},
   "outputs": [],
   "source": [
    "max_features = 20000  # This is used in loading the data, picks the most common (max_features) words\n",
    "maxlen = 30  # maximum length of a sequence - truncate after this\n",
    "batch_size = 32"
   ]
  },
  {
   "cell_type": "code",
   "execution_count": 3,
   "metadata": {},
   "outputs": [
    {
     "name": "stdout",
     "output_type": "stream",
     "text": [
      "25000 train sequences\n",
      "25000 test sequences\n"
     ]
    }
   ],
   "source": [
    "## Load in the data.  The function automatically tokenizes the text into distinct integers\n",
    "(x_train, y_train), (x_test, y_test) = imdb.load_data(num_words=max_features)\n",
    "print(len(x_train), 'train sequences')\n",
    "print(len(x_test), 'test sequences')"
   ]
  },
  {
   "cell_type": "code",
   "execution_count": 4,
   "metadata": {},
   "outputs": [
    {
     "name": "stdout",
     "output_type": "stream",
     "text": [
      "x_train shape: (25000, 30)\n",
      "x_test shape: (25000, 30)\n"
     ]
    }
   ],
   "source": [
    "# This pads (or truncates) the sequences so that they are of the maximum length\n",
    "x_train = sequence.pad_sequences(x_train, maxlen=maxlen)\n",
    "x_test = sequence.pad_sequences(x_test, maxlen=maxlen)\n",
    "print('x_train shape:', x_train.shape)\n",
    "print('x_test shape:', x_test.shape)"
   ]
  },
  {
   "cell_type": "code",
   "execution_count": 5,
   "metadata": {},
   "outputs": [
    {
     "data": {
      "text/plain": [
       "array([  219,   141,    35,   221,   956,    54,    13,    16,    11,\n",
       "        2714,    61,   322,   423,    12,    38,    76,    59,  1803,\n",
       "          72,     8, 10508,    23,     5,   967,    12,    38,    85,\n",
       "          62,   358,    99])"
      ]
     },
     "execution_count": 5,
     "metadata": {},
     "output_type": "execute_result"
    }
   ],
   "source": [
    "x_train[123,:]  #Here's what an example sequence looks like"
   ]
  },
  {
   "cell_type": "markdown",
   "metadata": {},
   "source": [
    "## Keras layers for (Vanilla) RNNs\n",
    "\n",
    "In this exercise, we will not use pre-trained word vectors.  Rather we will learn an embedding as part of the Neural Network.  This is represented by the Embedding Layer below.\n",
    "\n",
    "### Embedding Layer\n",
    "`keras.layers.embeddings.Embedding(input_dim, output_dim, embeddings_initializer='uniform', embeddings_regularizer=None, activity_regularizer=None, embeddings_constraint=None, mask_zero=False, input_length=None)`\n",
    "\n",
    "- This layer maps each integer into a distinct (dense) word vector of length `output_dim`.\n",
    "- Can think of this as learning a word vector embedding \"on the fly\" rather than using an existing mapping (like GloVe)\n",
    "- The `input_dim` should be the size of the vocabulary.\n",
    "- The `input_length` specifies the length of the sequences that the network expects.\n",
    "\n",
    "### SimpleRNN Layer\n",
    "`keras.layers.recurrent.SimpleRNN(units, activation='tanh', use_bias=True, kernel_initializer='glorot_uniform', recurrent_initializer='orthogonal', bias_initializer='zeros', kernel_regularizer=None, recurrent_regularizer=None, bias_regularizer=None, activity_regularizer=None, kernel_constraint=None, recurrent_constraint=None, bias_constraint=None, dropout=0.0, recurrent_dropout=0.0)`\n",
    "\n",
    "- This is the basic RNN, where the output is also fed back as the \"hidden state\" to the next iteration.\n",
    "- The parameter `units` gives the dimensionality of the output (and therefore the hidden state).  Note that typically there will be another layer after the RNN mapping the (RNN) output to the network output.  So we should think of this value as the desired dimensionality of the hidden state and not necessarily the desired output of the network.\n",
    "- Recall that there are two sets of weights, one for the \"recurrent\" phase and the other for the \"kernel\" phase.  These can be configured separately in terms of their initialization, regularization, etc.\n",
    "\n",
    "\n",
    "\n",
    "\n"
   ]
  },
  {
   "cell_type": "code",
   "execution_count": 6,
   "metadata": {},
   "outputs": [],
   "source": [
    "## Let's build a RNN\n",
    "\n",
    "rnn_hidden_dim = 5\n",
    "word_embedding_dim = 50\n",
    "model_rnn = Sequential()\n",
    "model_rnn.add(Embedding(max_features, word_embedding_dim))  #This layer takes each integer in the sequence and embeds it in a 50-dimensional vector\n",
    "model_rnn.add(SimpleRNN(rnn_hidden_dim,\n",
    "                    kernel_initializer=initializers.RandomNormal(stddev=0.001),\n",
    "                    recurrent_initializer=initializers.Identity(gain=1.0),\n",
    "                    activation='relu',\n",
    "                    input_shape=x_train.shape[1:]))\n",
    "\n",
    "model_rnn.add(Dense(1, activation='sigmoid'))"
   ]
  },
  {
   "cell_type": "code",
   "execution_count": 7,
   "metadata": {},
   "outputs": [
    {
     "name": "stdout",
     "output_type": "stream",
     "text": [
      "Model: \"sequential_1\"\n",
      "_________________________________________________________________\n",
      "Layer (type)                 Output Shape              Param #   \n",
      "=================================================================\n",
      "embedding_1 (Embedding)      (None, None, 50)          1000000   \n",
      "_________________________________________________________________\n",
      "simple_rnn_1 (SimpleRNN)     (None, 5)                 280       \n",
      "_________________________________________________________________\n",
      "dense_1 (Dense)              (None, 1)                 6         \n",
      "=================================================================\n",
      "Total params: 1,000,286\n",
      "Trainable params: 1,000,286\n",
      "Non-trainable params: 0\n",
      "_________________________________________________________________\n"
     ]
    }
   ],
   "source": [
    "## Note that most of the parameters come from the embedding layer\n",
    "model_rnn.summary()"
   ]
  },
  {
   "cell_type": "code",
   "execution_count": 8,
   "metadata": {},
   "outputs": [],
   "source": [
    "rmsprop = keras.optimizers.RMSprop(lr = .0001)\n",
    "\n",
    "model_rnn.compile(loss='binary_crossentropy',\n",
    "              optimizer=rmsprop,\n",
    "              metrics=['accuracy'])"
   ]
  },
  {
   "cell_type": "code",
   "execution_count": 9,
   "metadata": {},
   "outputs": [
    {
     "name": "stderr",
     "output_type": "stream",
     "text": [
      "C:\\Users\\Jun Kit\\.conda\\envs\\ML\\lib\\site-packages\\tensorflow_core\\python\\framework\\indexed_slices.py:424: UserWarning: Converting sparse IndexedSlices to a dense Tensor of unknown shape. This may consume a large amount of memory.\n",
      "  \"Converting sparse IndexedSlices to a dense Tensor of unknown shape. \"\n"
     ]
    },
    {
     "name": "stdout",
     "output_type": "stream",
     "text": [
      "Train on 25000 samples, validate on 25000 samples\n",
      "Epoch 1/10\n",
      "25000/25000 [==============================] - 51s 2ms/step - loss: 0.6557 - accuracy: 0.6212 - val_loss: 0.5995 - val_accuracy: 0.6828\n",
      "Epoch 2/10\n",
      "25000/25000 [==============================] - 51s 2ms/step - loss: 0.5533 - accuracy: 0.7183 - val_loss: 0.5405 - val_accuracy: 0.7234\n",
      "Epoch 3/10\n",
      "25000/25000 [==============================] - 37s 1ms/step - loss: 0.4948 - accuracy: 0.7614 - val_loss: 0.5154 - val_accuracy: 0.7383\n",
      "Epoch 4/10\n",
      "25000/25000 [==============================] - 31s 1ms/step - loss: 0.4555 - accuracy: 0.7874 - val_loss: 0.4881 - val_accuracy: 0.7571\n",
      "Epoch 5/10\n",
      "25000/25000 [==============================] - 41s 2ms/step - loss: 0.4267 - accuracy: 0.8030 - val_loss: 0.4740 - val_accuracy: 0.7683\n",
      "Epoch 6/10\n",
      "25000/25000 [==============================] - 45s 2ms/step - loss: 0.4062 - accuracy: 0.8158 - val_loss: 0.4612 - val_accuracy: 0.7764\n",
      "Epoch 7/10\n",
      "25000/25000 [==============================] - 49s 2ms/step - loss: 0.3900 - accuracy: 0.8249 - val_loss: 0.4559 - val_accuracy: 0.7801\n",
      "Epoch 8/10\n",
      "25000/25000 [==============================] - 48s 2ms/step - loss: 0.3782 - accuracy: 0.8322 - val_loss: 0.4529 - val_accuracy: 0.7828\n",
      "Epoch 9/10\n",
      "25000/25000 [==============================] - 47s 2ms/step - loss: 0.3697 - accuracy: 0.8354 - val_loss: 0.4479 - val_accuracy: 0.7868\n",
      "Epoch 10/10\n",
      "25000/25000 [==============================] - 41s 2ms/step - loss: 0.3624 - accuracy: 0.8398 - val_loss: 0.4501 - val_accuracy: 0.7876\n"
     ]
    },
    {
     "data": {
      "text/plain": [
       "<keras.callbacks.callbacks.History at 0x26749538408>"
      ]
     },
     "execution_count": 9,
     "metadata": {},
     "output_type": "execute_result"
    }
   ],
   "source": [
    "model_rnn.fit(x_train, y_train,\n",
    "          batch_size=batch_size,\n",
    "          epochs=10,\n",
    "          validation_data=(x_test, y_test))"
   ]
  },
  {
   "cell_type": "code",
   "execution_count": 10,
   "metadata": {},
   "outputs": [
    {
     "name": "stdout",
     "output_type": "stream",
     "text": [
      "25000/25000 [==============================] - 6s 238us/step\n",
      "Test score: 0.45011723630905154\n",
      "Test accuracy: 0.787559986114502\n"
     ]
    }
   ],
   "source": [
    "score, acc = model_rnn.evaluate(x_test, y_test,\n",
    "                            batch_size=batch_size)\n",
    "print('Test score:', score)\n",
    "print('Test accuracy:', acc)"
   ]
  },
  {
   "cell_type": "markdown",
   "metadata": {},
   "source": [
    "## Exercise\n",
    "### Your Turn\n",
    "\n",
    "Now do it yourself:\n",
    "- Prepare the data to use sequences of length 80 rather than length 30.  Did it improve the performance?\n",
    "- Try different values of the \"max_features\".  Can you improve the performance?\n",
    "- Try smaller and larger sizes of the RNN hidden dimension.  How does it affect the model performance?  How does it affect the run time?"
   ]
  },
  {
   "cell_type": "code",
   "execution_count": 11,
   "metadata": {},
   "outputs": [],
   "source": []
  },
  {
   "cell_type": "code",
   "execution_count": 12,
   "metadata": {},
   "outputs": [],
   "source": []
  },
  {
   "cell_type": "code",
   "execution_count": 13,
   "metadata": {},
   "outputs": [],
   "source": []
  },
  {
   "cell_type": "code",
   "execution_count": 14,
   "metadata": {},
   "outputs": [
    {
     "name": "stderr",
     "output_type": "stream",
     "text": [
      "C:\\Users\\Jun Kit\\.conda\\envs\\ML\\lib\\site-packages\\tensorflow_core\\python\\framework\\indexed_slices.py:424: UserWarning: Converting sparse IndexedSlices to a dense Tensor of unknown shape. This may consume a large amount of memory.\n",
      "  \"Converting sparse IndexedSlices to a dense Tensor of unknown shape. \"\n"
     ]
    },
    {
     "name": "stdout",
     "output_type": "stream",
     "text": [
      "Train on 25000 samples, validate on 25000 samples\n",
      "Epoch 1/10\n",
      "25000/25000 [==============================] - 74s 3ms/step - loss: 0.6149 - accuracy: 0.6653 - val_loss: 0.5257 - val_accuracy: 0.7503\n",
      "Epoch 2/10\n",
      "25000/25000 [==============================] - 72s 3ms/step - loss: 0.4658 - accuracy: 0.7845 - val_loss: 0.4635 - val_accuracy: 0.7730\n",
      "Epoch 3/10\n",
      "25000/25000 [==============================] - 70s 3ms/step - loss: 0.3986 - accuracy: 0.8223 - val_loss: 0.4235 - val_accuracy: 0.8023\n",
      "Epoch 4/10\n",
      "25000/25000 [==============================] - 62s 2ms/step - loss: 0.3562 - accuracy: 0.8474 - val_loss: 0.4071 - val_accuracy: 0.8191\n",
      "Epoch 5/10\n",
      "25000/25000 [==============================] - 73s 3ms/step - loss: 0.3278 - accuracy: 0.8616 - val_loss: 0.3943 - val_accuracy: 0.8194\n",
      "Epoch 6/10\n",
      "25000/25000 [==============================] - 73s 3ms/step - loss: 0.3071 - accuracy: 0.8712 - val_loss: 0.4050 - val_accuracy: 0.8152\n",
      "Epoch 7/10\n",
      "25000/25000 [==============================] - 71s 3ms/step - loss: 0.2898 - accuracy: 0.8789 - val_loss: 0.3830 - val_accuracy: 0.8320\n",
      "Epoch 8/10\n",
      "25000/25000 [==============================] - 69s 3ms/step - loss: 0.2762 - accuracy: 0.8858 - val_loss: 0.3709 - val_accuracy: 0.8353\n",
      "Epoch 9/10\n",
      "25000/25000 [==============================] - 75s 3ms/step - loss: 0.2644 - accuracy: 0.8908 - val_loss: 0.3666 - val_accuracy: 0.8386\n",
      "Epoch 10/10\n",
      "25000/25000 [==============================] - 75s 3ms/step - loss: 0.2547 - accuracy: 0.8965 - val_loss: 0.3725 - val_accuracy: 0.8358\n"
     ]
    },
    {
     "data": {
      "text/plain": [
       "<keras.callbacks.callbacks.History at 0x2674b874a08>"
      ]
     },
     "execution_count": 14,
     "metadata": {},
     "output_type": "execute_result"
    }
   ],
   "source": []
  },
  {
   "cell_type": "code",
   "execution_count": null,
   "metadata": {},
   "outputs": [],
   "source": []
  },
  {
   "cell_type": "code",
   "execution_count": null,
   "metadata": {},
   "outputs": [],
   "source": []
  },
  {
   "cell_type": "code",
   "execution_count": 15,
   "metadata": {},
   "outputs": [],
   "source": []
  },
  {
   "cell_type": "code",
   "execution_count": 16,
   "metadata": {},
   "outputs": [],
   "source": []
  },
  {
   "cell_type": "code",
   "execution_count": 17,
   "metadata": {},
   "outputs": [],
   "source": []
  },
  {
   "cell_type": "code",
   "execution_count": 18,
   "metadata": {},
   "outputs": [
    {
     "name": "stderr",
     "output_type": "stream",
     "text": [
      "C:\\Users\\Jun Kit\\.conda\\envs\\ML\\lib\\site-packages\\tensorflow_core\\python\\framework\\indexed_slices.py:424: UserWarning: Converting sparse IndexedSlices to a dense Tensor of unknown shape. This may consume a large amount of memory.\n",
      "  \"Converting sparse IndexedSlices to a dense Tensor of unknown shape. \"\n"
     ]
    },
    {
     "name": "stdout",
     "output_type": "stream",
     "text": [
      "Train on 25000 samples, validate on 25000 samples\n",
      "Epoch 1/10\n",
      "25000/25000 [==============================] - 53s 2ms/step - loss: 0.6851 - accuracy: 0.5246 - val_loss: 0.6625 - val_accuracy: 0.5716\n",
      "Epoch 2/10\n",
      "25000/25000 [==============================] - 52s 2ms/step - loss: 0.6250 - accuracy: 0.6895 - val_loss: 0.6153 - val_accuracy: 0.6920\n",
      "Epoch 3/10\n",
      "25000/25000 [==============================] - 45s 2ms/step - loss: 0.5673 - accuracy: 0.7580 - val_loss: 0.5243 - val_accuracy: 0.7346\n",
      "Epoch 4/10\n",
      "25000/25000 [==============================] - 66s 3ms/step - loss: 0.4531 - accuracy: 0.7890 - val_loss: 0.4627 - val_accuracy: 0.7806\n",
      "Epoch 5/10\n",
      "25000/25000 [==============================] - 56s 2ms/step - loss: 0.4134 - accuracy: 0.8132 - val_loss: 0.4412 - val_accuracy: 0.7927\n",
      "Epoch 6/10\n",
      "25000/25000 [==============================] - 55s 2ms/step - loss: 0.3896 - accuracy: 0.8273 - val_loss: 0.4450 - val_accuracy: 0.7952\n",
      "Epoch 7/10\n",
      "25000/25000 [==============================] - 55s 2ms/step - loss: 0.3725 - accuracy: 0.8386 - val_loss: 0.4277 - val_accuracy: 0.8055\n",
      "Epoch 8/10\n",
      "25000/25000 [==============================] - 51s 2ms/step - loss: 0.3595 - accuracy: 0.8462 - val_loss: 0.4130 - val_accuracy: 0.8130\n",
      "Epoch 9/10\n",
      "25000/25000 [==============================] - 59s 2ms/step - loss: 0.3485 - accuracy: 0.8514 - val_loss: 0.3969 - val_accuracy: 0.8222\n",
      "Epoch 10/10\n",
      "25000/25000 [==============================] - 57s 2ms/step - loss: 0.3392 - accuracy: 0.8563 - val_loss: 0.3915 - val_accuracy: 0.8248\n"
     ]
    },
    {
     "data": {
      "text/plain": [
       "<keras.callbacks.callbacks.History at 0x2674f192a88>"
      ]
     },
     "execution_count": 18,
     "metadata": {},
     "output_type": "execute_result"
    }
   ],
   "source": []
  },
  {
   "cell_type": "code",
   "execution_count": 19,
   "metadata": {},
   "outputs": [
    {
     "name": "stdout",
     "output_type": "stream",
     "text": [
      "Train on 25000 samples, validate on 25000 samples\n",
      "Epoch 1/10\n",
      "25000/25000 [==============================] - 51s 2ms/step - loss: 0.3303 - accuracy: 0.8608 - val_loss: 0.3850 - val_accuracy: 0.8280\n",
      "Epoch 2/10\n",
      "25000/25000 [==============================] - 50s 2ms/step - loss: 0.3228 - accuracy: 0.8638 - val_loss: 0.3802 - val_accuracy: 0.8318\n",
      "Epoch 3/10\n",
      "25000/25000 [==============================] - 50s 2ms/step - loss: 0.3160 - accuracy: 0.8678 - val_loss: 0.3819 - val_accuracy: 0.8319\n",
      "Epoch 4/10\n",
      "25000/25000 [==============================] - 52s 2ms/step - loss: 0.3105 - accuracy: 0.8708 - val_loss: 0.3719 - val_accuracy: 0.8366\n",
      "Epoch 5/10\n",
      "25000/25000 [==============================] - 67s 3ms/step - loss: 0.3045 - accuracy: 0.8728 - val_loss: 0.3775 - val_accuracy: 0.8322\n",
      "Epoch 6/10\n",
      "25000/25000 [==============================] - 69s 3ms/step - loss: 0.3004 - accuracy: 0.8745 - val_loss: 0.3754 - val_accuracy: 0.8346\n",
      "Epoch 7/10\n",
      "25000/25000 [==============================] - 63s 3ms/step - loss: 0.2952 - accuracy: 0.8778 - val_loss: 0.3634 - val_accuracy: 0.8398\n",
      "Epoch 8/10\n",
      "25000/25000 [==============================] - 63s 3ms/step - loss: 0.2911 - accuracy: 0.8794 - val_loss: 0.3603 - val_accuracy: 0.8422\n",
      "Epoch 9/10\n",
      "25000/25000 [==============================] - 63s 3ms/step - loss: 0.2881 - accuracy: 0.8809 - val_loss: 0.3679 - val_accuracy: 0.8383\n",
      "Epoch 10/10\n",
      "25000/25000 [==============================] - 64s 3ms/step - loss: 0.2848 - accuracy: 0.8833 - val_loss: 0.3575 - val_accuracy: 0.8428\n"
     ]
    },
    {
     "data": {
      "text/plain": [
       "<keras.callbacks.callbacks.History at 0x26756362a08>"
      ]
     },
     "execution_count": 19,
     "metadata": {},
     "output_type": "execute_result"
    }
   ],
   "source": []
  },
  {
   "cell_type": "code",
   "execution_count": null,
   "metadata": {},
   "outputs": [],
   "source": []
  },
  {
   "cell_type": "code",
   "execution_count": null,
   "metadata": {},
   "outputs": [],
   "source": []
  },
  {
   "cell_type": "code",
   "execution_count": null,
   "metadata": {},
   "outputs": [],
   "source": []
  },
  {
   "cell_type": "code",
   "execution_count": null,
   "metadata": {},
   "outputs": [],
   "source": []
  }
 ],
 "metadata": {
  "kernelspec": {
   "display_name": "Python 3",
   "language": "python",
   "name": "python3"
  },
  "language_info": {
   "codemirror_mode": {
    "name": "ipython",
    "version": 3
   },
   "file_extension": ".py",
   "mimetype": "text/x-python",
   "name": "python",
   "nbconvert_exporter": "python",
   "pygments_lexer": "ipython3",
   "version": "3.7.4"
  }
 },
 "nbformat": 4,
 "nbformat_minor": 1
}
